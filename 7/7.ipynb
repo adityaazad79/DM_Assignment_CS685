{
 "cells": [
  {
   "cell_type": "markdown",
   "metadata": {},
   "source": [
    "- Find the balance of tourists per year per country and continent.  Balance is the dif-ference of number of incoming versus outgoing tourists."
   ]
  },
  {
   "cell_type": "markdown",
   "metadata": {},
   "source": [
    "# Data Preprocessing"
   ]
  },
  {
   "cell_type": "code",
   "execution_count": 1,
   "metadata": {},
   "outputs": [],
   "source": [
    "import pandas as pd\n",
    "pd.set_option('display.max_columns', None)  # Display all columns\n",
    "pd.set_option('display.expand_frame_repr', False)  # Prevent wrapping to new line\n",
    "pd.set_option('display.max_colwidth', None)  # No limit on column width\n",
    "pd.set_option('display.max_rows', None)  # Show all rows\n",
    "pd.set_option('display.width', None)  # Automatically adjust the width"
   ]
  },
  {
   "cell_type": "markdown",
   "metadata": {},
   "source": [
    "- Departure data is missing(not available) for year 2013 and 2018. (2015 too)"
   ]
  },
  {
   "cell_type": "code",
   "execution_count": 2,
   "metadata": {},
   "outputs": [],
   "source": [
    "# df_2013_Dep=pd.read_excel('../data-students/TourismData-2013/QUARTERWISE PERCENTAGE DISTRIBUTION OF DESTINATION COUNTRY WISE DEPARTURES OF INDIAN NATIONALS.xlsx')\n",
    "df_2014_Dep=pd.read_excel('../data-students/TourismData-2014/QUARTERWISE PERCENTAGE DISTRIBUTION OF DESTINATION COUNTRY WISE DEPARTURES OF INDIAN NATIONALS.xlsx')\n",
    "df_2016_Dep=pd.read_excel('../data-students/TourismData-2016/QUARTERWISE PERCENTAGE DISTRIBUTION OF DESTINATION COUNTRY WISE DEPARTURES OF INDIAN NATIONALS.xlsx')\n",
    "df_2017_Dep=pd.read_excel('../data-students/TourismData-2017/QUARTERWISE PERCENTAGE DISTRIBUTION OF DESTINATION COUNTRY WISE DEPARTURES OF INDIAN NATIONALS.xlsx')\n",
    "# df_2018_Dep=pd.read_excel('../data-students/TourismData-2018/QUARTERWISE PERCENTAGE DISTRIBUTION OF DESTINATION COUNTRY WISE DEPARTURES OF INDIAN NATIONALS.xlsx')\n",
    "df_2019_Dep=pd.read_excel('../data-students/TourismData-2019/QUARTERWISE PERCENTAGE DISTRIBUTION OF DESTINATION COUNTRY WISE DEPARTURES OF INDIAN NATIONALS.xlsx')\n",
    "df_2020_Dep=pd.read_excel('../data-students/TourismData-2020/QUARTERWISE PERCENTAGE DISTRIBUTION OF DESTINATION COUNTRY WISE DEPARTURES OF INDIAN NATIONALS.xlsx')\n",
    "df_2021_Dep=pd.read_excel('../data-students/TourismData-2021/QUARTERWISE PERCENTAGE DISTRIBUTION OF DESTINATION COUNTRY WISE DEPARTURES OF INDIAN NATIONALS.xlsx')\n",
    "df_2022_Dep=pd.read_excel('../data-students/TourismData-2022/QUARTERWISE PERCENTAGE DISTRIBUTION OF DESTINATION COUNTRY WISE DEPARTURES OF INDIAN NATIONALS.xlsx')"
   ]
  },
  {
   "cell_type": "markdown",
   "metadata": {},
   "source": [
    "- Since Departure data is not avilable for year 2013 and 2018, I will not be able to compute the differnece between between incoming and outgoing no of tourists. So, I will not consider FTA data for year 2013 and 2018."
   ]
  },
  {
   "cell_type": "code",
   "execution_count": 3,
   "metadata": {},
   "outputs": [],
   "source": [
    "# df_2013_FTAs=pd.read_excel('../data-students/TourismData-2013/NATIONALITY-WISE QUARTER-WISE DISTRIBUTION OF FTAs IN INDIA.xlsx')\n",
    "df_2014_FTAs=pd.read_excel('../data-students/TourismData-2014/NATIONALITY-WISE QUARTER-WISE DISTRIBUTION OF FTAs IN INDIA.xlsx')\n",
    "df_2016_FTAs=pd.read_excel('../data-students/TourismData-2016/NATIONALITY-WISE QUARTER-WISE DISTRIBUTION OF FTAs IN INDIA.xlsx')\n",
    "df_2017_FTAs=pd.read_excel('../data-students/TourismData-2017/NATIONALITY-WISE QUARTER-WISE DISTRIBUTION OF FTAs IN INDIA.xlsx')\n",
    "# df_2018_FTAs=pd.read_excel('../data-students/TourismData-2018/NATIONALITY-WISE QUARTER-WISE DISTRIBUTION OF FTAs IN INDIA.xlsx')\n",
    "df_2019_FTAs=pd.read_excel('../data-students/TourismData-2019/NATIONALITY-WISE QUARTER-WISE DISTRIBUTION OF FTAs IN INDIA.xlsx')\n",
    "df_2020_FTAs=pd.read_excel('../data-students/TourismData-2020/NATIONALITY-WISE QUARTER-WISE DISTRIBUTION OF FTAs IN INDIA.xlsx')\n",
    "df_2021_FTAs=pd.read_excel('../data-students/TourismData-2021/NATIONALITY-WISE QUARTER-WISE DISTRIBUTION OF FTAs IN INDIA.xlsx')\n",
    "df_2022_FTAs=pd.read_excel('../data-students/TourismData-2022/NATIONALITY-WISE QUARTER-WISE DISTRIBUTION OF FTAs IN INDIA.xlsx')"
   ]
  },
  {
   "cell_type": "markdown",
   "metadata": {},
   "source": [
    "# Data Analysis"
   ]
  },
  {
   "cell_type": "code",
   "execution_count": 4,
   "metadata": {},
   "outputs": [],
   "source": [
    "list_FTAs=[df_2014_FTAs,df_2016_FTAs,df_2017_FTAs,df_2019_FTAs,df_2020_FTAs,df_2021_FTAs,df_2022_FTAs]\n",
    "list_Dep=[df_2014_Dep,df_2016_Dep,df_2017_Dep,df_2019_Dep,df_2020_Dep,df_2021_Dep,df_2022_Dep]"
   ]
  },
  {
   "cell_type": "code",
   "execution_count": 5,
   "metadata": {},
   "outputs": [
    {
     "data": {
      "text/html": [
       "<div>\n",
       "<style scoped>\n",
       "    .dataframe tbody tr th:only-of-type {\n",
       "        vertical-align: middle;\n",
       "    }\n",
       "\n",
       "    .dataframe tbody tr th {\n",
       "        vertical-align: top;\n",
       "    }\n",
       "\n",
       "    .dataframe thead th {\n",
       "        text-align: right;\n",
       "    }\n",
       "</style>\n",
       "<table border=\"1\" class=\"dataframe\">\n",
       "  <thead>\n",
       "    <tr style=\"text-align: right;\">\n",
       "      <th></th>\n",
       "      <th>Country of Nationality</th>\n",
       "      <th>Arrivals (in numbers)</th>\n",
       "      <th>1st Quarter (Jan-Mar)</th>\n",
       "      <th>2nd Quarter (Apr-June)</th>\n",
       "      <th>3rd Quarter (July-Sep)</th>\n",
       "      <th>4th Quarter (Oct-Dec)</th>\n",
       "    </tr>\n",
       "  </thead>\n",
       "  <tbody>\n",
       "    <tr>\n",
       "      <th>0</th>\n",
       "      <td>North America</td>\n",
       "      <td>NaN</td>\n",
       "      <td>NaN</td>\n",
       "      <td>NaN</td>\n",
       "      <td>NaN</td>\n",
       "      <td>NaN</td>\n",
       "    </tr>\n",
       "    <tr>\n",
       "      <th>1</th>\n",
       "      <td>Canada</td>\n",
       "      <td>281306.0</td>\n",
       "      <td>34.2</td>\n",
       "      <td>14.5</td>\n",
       "      <td>15.9</td>\n",
       "      <td>35.4</td>\n",
       "    </tr>\n",
       "    <tr>\n",
       "      <th>2</th>\n",
       "      <td>United States of America</td>\n",
       "      <td>1213624.0</td>\n",
       "      <td>26.4</td>\n",
       "      <td>22.1</td>\n",
       "      <td>19.6</td>\n",
       "      <td>31.9</td>\n",
       "    </tr>\n",
       "    <tr>\n",
       "      <th>3</th>\n",
       "      <td>Central &amp; South America</td>\n",
       "      <td>NaN</td>\n",
       "      <td>NaN</td>\n",
       "      <td>NaN</td>\n",
       "      <td>NaN</td>\n",
       "      <td>NaN</td>\n",
       "    </tr>\n",
       "    <tr>\n",
       "      <th>4</th>\n",
       "      <td>Argentina</td>\n",
       "      <td>9351.0</td>\n",
       "      <td>40.6</td>\n",
       "      <td>17.5</td>\n",
       "      <td>14.6</td>\n",
       "      <td>27.3</td>\n",
       "    </tr>\n",
       "  </tbody>\n",
       "</table>\n",
       "</div>"
      ],
      "text/plain": [
       "     Country of Nationality  Arrivals (in numbers)  1st Quarter (Jan-Mar)  2nd Quarter (Apr-June)  3rd Quarter (July-Sep)  4th Quarter (Oct-Dec)\n",
       "0             North America                    NaN                    NaN                     NaN                     NaN                    NaN\n",
       "1                    Canada               281306.0                   34.2                    14.5                    15.9                   35.4\n",
       "2  United States of America              1213624.0                   26.4                    22.1                    19.6                   31.9\n",
       "3   Central & South America                    NaN                    NaN                     NaN                     NaN                    NaN\n",
       "4                 Argentina                 9351.0                   40.6                    17.5                    14.6                   27.3"
      ]
     },
     "execution_count": 5,
     "metadata": {},
     "output_type": "execute_result"
    }
   ],
   "source": [
    "list_FTAs[0].head()"
   ]
  },
  {
   "cell_type": "code",
   "execution_count": 6,
   "metadata": {},
   "outputs": [],
   "source": [
    "# for i in range(0,len(list_Dep)):\n",
    "#     list_Dep[i]=list_Dep[['Country of Nationality']]\n",
    "# Assuming your list of dataframes is named 'df_list'\n",
    "list_Dep = [df.iloc[:, :2] for df in list_Dep]\n",
    "list_FTAs = [df.iloc[:, :2] for df in list_FTAs]"
   ]
  },
  {
   "cell_type": "code",
   "execution_count": 7,
   "metadata": {},
   "outputs": [
    {
     "data": {
      "text/html": [
       "<div>\n",
       "<style scoped>\n",
       "    .dataframe tbody tr th:only-of-type {\n",
       "        vertical-align: middle;\n",
       "    }\n",
       "\n",
       "    .dataframe tbody tr th {\n",
       "        vertical-align: top;\n",
       "    }\n",
       "\n",
       "    .dataframe thead th {\n",
       "        text-align: right;\n",
       "    }\n",
       "</style>\n",
       "<table border=\"1\" class=\"dataframe\">\n",
       "  <thead>\n",
       "    <tr style=\"text-align: right;\">\n",
       "      <th></th>\n",
       "      <th>Country of Nationality</th>\n",
       "      <th>Arrivals (in numbers)</th>\n",
       "    </tr>\n",
       "  </thead>\n",
       "  <tbody>\n",
       "    <tr>\n",
       "      <th>0</th>\n",
       "      <td>North America</td>\n",
       "      <td>NaN</td>\n",
       "    </tr>\n",
       "    <tr>\n",
       "      <th>1</th>\n",
       "      <td>Canada</td>\n",
       "      <td>281306.0</td>\n",
       "    </tr>\n",
       "    <tr>\n",
       "      <th>2</th>\n",
       "      <td>United States of America</td>\n",
       "      <td>1213624.0</td>\n",
       "    </tr>\n",
       "    <tr>\n",
       "      <th>3</th>\n",
       "      <td>Central &amp; South America</td>\n",
       "      <td>NaN</td>\n",
       "    </tr>\n",
       "    <tr>\n",
       "      <th>4</th>\n",
       "      <td>Argentina</td>\n",
       "      <td>9351.0</td>\n",
       "    </tr>\n",
       "  </tbody>\n",
       "</table>\n",
       "</div>"
      ],
      "text/plain": [
       "     Country of Nationality  Arrivals (in numbers)\n",
       "0             North America                    NaN\n",
       "1                    Canada               281306.0\n",
       "2  United States of America              1213624.0\n",
       "3   Central & South America                    NaN\n",
       "4                 Argentina                 9351.0"
      ]
     },
     "execution_count": 7,
     "metadata": {},
     "output_type": "execute_result"
    }
   ],
   "source": [
    "list_FTAs[0].head()"
   ]
  },
  {
   "cell_type": "code",
   "execution_count": 8,
   "metadata": {},
   "outputs": [],
   "source": [
    "for df in list_Dep:\n",
    "    df.columns = df.columns.str.upper()\n",
    "    df['DESTINATION COUNTRY'] = df['DESTINATION COUNTRY'].str.upper()\n",
    "    # print(df.columns)\n",
    "    df['DESTINATION COUNTRY'] = df['DESTINATION COUNTRY'].str.strip()\n",
    "\n",
    "# list_Dep=[df_2014_Dep,df_2016_Dep,df_2017_Dep,df_2019_Dep,df_2020_Dep,df_2021_Dep,df_2022_Dep]"
   ]
  },
  {
   "cell_type": "code",
   "execution_count": 9,
   "metadata": {},
   "outputs": [],
   "source": [
    "for df in list_FTAs:\n",
    "    df.columns = df.columns.str.upper()\n",
    "    df['COUNTRY OF NATIONALITY'] = df['COUNTRY OF NATIONALITY'].str.upper()\n",
    "    # print(df.columns)\n",
    "    df['COUNTRY OF NATIONALITY'] = df['COUNTRY OF NATIONALITY'].str.strip()\n",
    "\n",
    "# list_Dep=[df_2014_Dep,df_2016_Dep,df_2017_Dep,df_2019_Dep,df_2020_Dep,df_2021_Dep,df_2022_Dep]"
   ]
  },
  {
   "cell_type": "code",
   "execution_count": 10,
   "metadata": {},
   "outputs": [],
   "source": [
    "# for df in list_FTAs:\n",
    "#     df['COUNTRY OF NATIONALITY'] = df['COUNTRY OF NATIONALITY'].where(\n",
    "#         ~df['COUNTRY OF NATIONALITY'].duplicated(),  # Keep the first occurrence as is\n",
    "#         df['COUNTRY OF NATIONALITY'] + (df.groupby('COUNTRY OF NATIONALITY').cumcount() + 1).astype(str)  # Append count to duplicates\n",
    "#     )"
   ]
  },
  {
   "cell_type": "code",
   "execution_count": 11,
   "metadata": {},
   "outputs": [],
   "source": [
    "# for df in list_Dep:\n",
    "#     df['DESTINATION COUNTRY'] = df['DESTINATION COUNTRY'].where(\n",
    "#         ~df['DESTINATION COUNTRY'].duplicated(),  # Keep the first occurrence as is\n",
    "#         df['DESTINATION COUNTRY'] + (df.groupby('DESTINATION COUNTRY').cumcount() + 1).astype(str)  # Append count to duplicates\n",
    "#     )"
   ]
  },
  {
   "cell_type": "code",
   "execution_count": 12,
   "metadata": {},
   "outputs": [],
   "source": [
    "# list_FTAs[0].head(10)"
   ]
  },
  {
   "cell_type": "code",
   "execution_count": 13,
   "metadata": {},
   "outputs": [],
   "source": [
    "# # Get values in column1 of DataFrame1 that are not in DataFrame2\n",
    "# df_col1=list_FTAs[0][\"COUNTRY OF NATIONALITY\"]\n",
    "# i=0\n",
    "# for df in list_FTAs:\n",
    "#     unique_in_df1 = set(df_col1) - set(df['COUNTRY OF NATIONALITY'])\n",
    "#     if(unique_in_df1):\n",
    "#         print(unique_in_df1 ,\" : \",i)\n",
    "#         # df.head()\n",
    "#         # print(df.head())\n",
    "#     i+=1"
   ]
  },
  {
   "cell_type": "code",
   "execution_count": 14,
   "metadata": {},
   "outputs": [],
   "source": [
    "# # Get values in column1 of DataFrame1 that are not in DataFrame2\n",
    "# df_col1=list_Dep[0][\"DESTINATION COUNTRY\"]\n",
    "# i=0\n",
    "# for df in list_Dep:\n",
    "#     unique_in_df1 = set(df_col1) - set(df['DESTINATION COUNTRY'])\n",
    "#     if(unique_in_df1):\n",
    "#         print(unique_in_df1 ,\" : \",i)\n",
    "#         # df.head()\n",
    "#         # print(df.head())\n",
    "#     i+=1"
   ]
  },
  {
   "cell_type": "code",
   "execution_count": 15,
   "metadata": {},
   "outputs": [],
   "source": [
    "# list_Dep[3]"
   ]
  },
  {
   "cell_type": "code",
   "execution_count": 16,
   "metadata": {},
   "outputs": [],
   "source": [
    "years=[2014,2016,2017,2019,2020,2021,2022]\n",
    "Destination_df=pd.DataFrame(columns=['DESTINATION COUNTRY','CONTINENT'])"
   ]
  },
  {
   "cell_type": "code",
   "execution_count": 17,
   "metadata": {},
   "outputs": [],
   "source": [
    "i=0\n",
    "for df in list_Dep:\n",
    "    # Convert the string data to a pandas DataFrame\n",
    "    df = df[df['DESTINATION COUNTRY'] != 'OTHERS']\n",
    "    df = df.reset_index(drop=True)\n",
    "\n",
    "    # Add the continent column based on the country names\n",
    "    continent_mapping = {\n",
    "        \"NORTH AMERICA\": [\"CANADA\", \"UNITED STATES OF AMERICA\"],\n",
    "        \"CENTRAL & SOUTH AMERICA\": [\"ARGENTINA\", \"BRAZIL\", \"MEXICO\"],\n",
    "        \"WESTERN EUROPE\": [\"AUSTRIA\", \"BELGIUM\", \"DENMARK\", \"FINLAND\", \"FRANCE\", \"GERMANY\", \"GREECE\", \n",
    "                        \"IRELAND\", \"ITALY\", \"NETHERLANDS\", \"NORWAY\", \"PORTUGAL\", \"SPAIN\", \"SWEDEN\", \n",
    "                        \"SWITZERLAND\", \"UNITED KINGDOM\"],\n",
    "        \"EASTERN EUROPE\": [\"AZERBAIJAN\",\"CZECH REPUBLIC\", \"KAZAKHSTAN\", \"POLAND\", \"RUSSIAN FEDERATION\", \"UKRAINE\", \"HUNGARY\"],\n",
    "        \"AFRICA\": [\"UGANDA\",\"EGYPT\", \"KENYA\", \"MAURITIUS\", \"NIGERIA\", \"SOUTH AFRICA\", \"SUDAN\", \"TANZANIA\"],\n",
    "        \"WEST ASIA\": [\"QATAR\",\"KUWAIT\",\"JORDAN\",\"BAHRAIN\", \"IRAQ\", \"ISRAEL\", \"OMAN\", \"SAUDI ARABIA\", \"TURKEY\", \"UNITED ARAB EMIRATES\", \n",
    "                    \"YEMEN\"],\n",
    "        \"SOUTH ASIA\": [\"AFGHANISTAN\", \"IRAN\", \"MALDIVES\", \"NEPAL\", \"PAKISTAN\", \"BANGLADESH\", \"SRI LANKA\", \"BHUTAN\"],\n",
    "        \"SOUTH EAST ASIA\": [\"CAMBODIA\",\"INDONESIA\", \"MALAYSIA\", \"MYANMAR\", \"PHILIPPINES\", \"SINGAPORE\", \"THAILAND\", \"VIETNAM\"],\n",
    "        \"EAST ASIA\": [\"HONG KONG\",\"REPUBLIC OF CHINA\", \"TAIWAN\", \"JAPAN\", \"REPUBLIC OF KOREA\"],\n",
    "        \"AUSTRALASIA\": [\"AUSTRALIA\", \"NEW ZEALAND\"]\n",
    "    }\n",
    "\n",
    "    # Function to assign continent based on the country\n",
    "    def assign_continent(row):\n",
    "        for continent, countries in continent_mapping.items():\n",
    "            if row['DESTINATION COUNTRY'] in countries:\n",
    "                return continent\n",
    "        return \"Unknown\"\n",
    "\n",
    "    # Apply the function to create the new continent column\n",
    "    df['CONTINENT'] = df.apply(assign_continent, axis=1)\n",
    "    df.dropna(inplace=True)\n",
    "    df = df.reset_index(drop=True)\n",
    "    df.columns = ['DESTINATION COUNTRY', 'DEPARTURES (IN NUMBERS) '+str(years[i]),'CONTINENT']\n",
    "    Destination_df = pd.merge(Destination_df, df, on=['DESTINATION COUNTRY','CONTINENT'], how='outer')\n",
    "    i+=1"
   ]
  },
  {
   "cell_type": "code",
   "execution_count": 18,
   "metadata": {},
   "outputs": [],
   "source": [
    "# Destination_df"
   ]
  },
  {
   "cell_type": "code",
   "execution_count": 19,
   "metadata": {},
   "outputs": [],
   "source": [
    "FTA_df=pd.DataFrame(columns=['COUNTRY OF NATIONALITY','CONTINENT'])"
   ]
  },
  {
   "cell_type": "code",
   "execution_count": 20,
   "metadata": {},
   "outputs": [],
   "source": [
    "i=0\n",
    "for df in list_FTAs:\n",
    "    # Convert the string data to a pandas DataFrame\n",
    "    df = df[df['COUNTRY OF NATIONALITY'] != 'OTHERS']\n",
    "    df = df.reset_index(drop=True)\n",
    "\n",
    "    # Add the continent column based on the country names\n",
    "    continent_mapping = {\n",
    "        \"NORTH AMERICA\": [\"CANADA\", \"UNITED STATES OF AMERICA\"],\n",
    "        \"CENTRAL & SOUTH AMERICA\": [\"ARGENTINA\", \"BRAZIL\", \"MEXICO\"],\n",
    "        \"WESTERN EUROPE\": [\"AUSTRIA\", \"BELGIUM\", \"DENMARK\", \"FINLAND\", \"FRANCE\", \"GERMANY\", \"GREECE\", \n",
    "                        \"IRELAND\", \"ITALY\", \"NETHERLANDS\", \"NORWAY\", \"PORTUGAL\", \"SPAIN\", \"SWEDEN\", \n",
    "                        \"SWITZERLAND\", \"UNITED KINGDOM\"],\n",
    "        \"EASTERN EUROPE\": [\"AZERBAIJAN\",\"CZECH REPUBLIC\", \"KAZAKHSTAN\", \"POLAND\", \"RUSSIAN FEDERATION\", \"UKRAINE\", \"HUNGARY\"],\n",
    "        \"AFRICA\": [\"UGANDA\",\"EGYPT\", \"KENYA\", \"MAURITIUS\", \"NIGERIA\", \"SOUTH AFRICA\", \"SUDAN\", \"TANZANIA\"],\n",
    "        \"WEST ASIA\": [\"QATAR\",\"KUWAIT\",\"JORDAN\",\"BAHRAIN\", \"IRAQ\", \"ISRAEL\", \"OMAN\", \"SAUDI ARABIA\", \"TURKEY\", \"UNITED ARAB EMIRATES\", \n",
    "                    \"YEMEN\"],\n",
    "        \"SOUTH ASIA\": [\"AFGHANISTAN\", \"IRAN\", \"MALDIVES\", \"NEPAL\", \"PAKISTAN\", \"BANGLADESH\", \"SRI LANKA\", \"BHUTAN\"],\n",
    "        \"SOUTH EAST ASIA\": [\"CAMBODIA\",\"INDONESIA\", \"MALAYSIA\", \"MYANMAR\", \"PHILIPPINES\", \"SINGAPORE\", \"THAILAND\", \"VIETNAM\"],\n",
    "        \"EAST ASIA\": [\"HONG KONG\",\"REPUBLIC OF CHINA\", \"TAIWAN\", \"JAPAN\", \"REPUBLIC OF KOREA\"],\n",
    "        \"AUSTRALASIA\": [\"AUSTRALIA\", \"NEW ZEALAND\"]\n",
    "    }\n",
    "\n",
    "    # Function to assign continent based on the country\n",
    "    def assign_continent(row):\n",
    "        for continent, countries in continent_mapping.items():\n",
    "            if row['COUNTRY OF NATIONALITY'] in countries:\n",
    "                return continent\n",
    "        return \"Unknown\"\n",
    "\n",
    "    # Apply the function to create the new continent column\n",
    "    df['CONTINENT'] = df.apply(assign_continent, axis=1)\n",
    "    df.dropna(inplace=True)\n",
    "    df = df.reset_index(drop=True)\n",
    "\n",
    "    df['CONTINENT'] = df.apply(assign_continent, axis=1)\n",
    "    df.dropna(inplace=True)\n",
    "    df = df.reset_index(drop=True)\n",
    "    df.columns = ['COUNTRY OF NATIONALITY', 'ARRIVALS (IN NUMBERS) '+str(years[i]),'CONTINENT']\n",
    "    FTA_df = pd.merge(FTA_df, df, on=['COUNTRY OF NATIONALITY','CONTINENT'], how='outer')\n",
    "    i+=1"
   ]
  },
  {
   "cell_type": "code",
   "execution_count": 21,
   "metadata": {},
   "outputs": [],
   "source": [
    "# FTA_df"
   ]
  },
  {
   "cell_type": "code",
   "execution_count": 22,
   "metadata": {},
   "outputs": [],
   "source": [
    "# # Assuming your list of DataFrames is named 'df_list'\n",
    "\n",
    "# # Concatenate all values from the first column of each DataFrame, then find unique values\n",
    "# unique_values_FTAs = pd.concat([df.iloc[:, 0] for df in list_FTAs]).unique()\n",
    "# unique_values_FTAs = unique_values_FTAs.sort_index()\n",
    "\n",
    "# # Print the sorted value counts\n",
    "# print(unique_values_FTAs)\n",
    "\n",
    "# unique_values_Dep = pd.concat([df.iloc[:, 0] for df in list_Dep]).unique()\n",
    "# unique_values_Dep = unique_values_Dep.sort_index()\n",
    "\n",
    "# # Print the sorted value counts\n",
    "# print(unique_values_Dep)\n",
    "# # unique_values\n",
    "\n",
    "# Assuming your list of DataFrames is named 'df_list'\n",
    "\n",
    "# Concatenate the first columns and get the counts of each unique value, sorted by the value itself\n",
    "unique_values_FTAs = pd.concat([df.iloc[:, 0] for df in list_FTAs]).value_counts().sort_index()\n",
    "\n",
    "# Print the sorted value counts\n",
    "# print(unique_values_FTAs)\n",
    "\n",
    "unique_values_Dep = pd.concat([df.iloc[:, 0] for df in list_Dep]).value_counts().sort_index()\n",
    "\n",
    "# Print the sorted value counts\n",
    "# print(\"\\n\",unique_values_FTAs)"
   ]
  },
  {
   "cell_type": "code",
   "execution_count": 23,
   "metadata": {},
   "outputs": [],
   "source": [
    "\n",
    "unique_values_Dep = pd.concat([df.iloc[:, 0] for df in list_Dep]).value_counts().sort_index()\n",
    "\n",
    "# Print the sorted value counts\n",
    "# print(\"\\n\",unique_values_FTAs)"
   ]
  },
  {
   "cell_type": "code",
   "execution_count": 24,
   "metadata": {},
   "outputs": [],
   "source": [
    "# Assuming you have two value_counts Series named 'value_counts' and 'value_counts_2'\n",
    "\n",
    "# Find values unique to value_counts\n",
    "unique_to_value_counts = unique_values_FTAs.index.difference(unique_values_Dep.index)\n",
    "\n",
    "# Find values unique to value_counts_2\n",
    "unique_to_value_counts_2 = unique_values_Dep.index.difference(unique_values_FTAs.index)\n",
    "\n",
    "# Print the unique values\n",
    "# print(\"Unique to unique_values_FTAs:\", unique_to_value_counts)\n",
    "# print(\"Unique to unique_values_Dep:\", unique_to_value_counts_2)"
   ]
  },
  {
   "cell_type": "code",
   "execution_count": 25,
   "metadata": {},
   "outputs": [],
   "source": [
    "# Destination_df.columns"
   ]
  },
  {
   "cell_type": "code",
   "execution_count": 26,
   "metadata": {},
   "outputs": [],
   "source": [
    "# FTA_df.columns"
   ]
  },
  {
   "cell_type": "code",
   "execution_count": 27,
   "metadata": {},
   "outputs": [],
   "source": [
    "# Select relevant columns for each DataFrame\n",
    "destination_cols = ['DESTINATION COUNTRY', 'CONTINENT', 'DEPARTURES (IN NUMBERS) 2014',\n",
    "                    'DEPARTURES (IN NUMBERS) 2016', 'DEPARTURES (IN NUMBERS) 2017',\n",
    "                    'DEPARTURES (IN NUMBERS) 2019', 'DEPARTURES (IN NUMBERS) 2020',\n",
    "                    'DEPARTURES (IN NUMBERS) 2021', 'DEPARTURES (IN NUMBERS) 2022']\n",
    "ftas_cols = ['COUNTRY OF NATIONALITY', 'CONTINENT', 'ARRIVALS (IN NUMBERS) 2014',\n",
    "             'ARRIVALS (IN NUMBERS) 2016', 'ARRIVALS (IN NUMBERS) 2017',\n",
    "             'ARRIVALS (IN NUMBERS) 2019', 'ARRIVALS (IN NUMBERS) 2020',\n",
    "             'ARRIVALS (IN NUMBERS) 2021', 'ARRIVALS (IN NUMBERS) 2022']\n",
    "\n",
    "# Filter and rename columns in both DataFrames for easy alignment\n",
    "Destination_df_filtered = Destination_df[destination_cols].rename(\n",
    "    columns={\n",
    "        'DESTINATION COUNTRY': 'COUNTRY',\n",
    "        'DEPARTURES (IN NUMBERS) 2014': '2014',\n",
    "        'DEPARTURES (IN NUMBERS) 2016': '2016',\n",
    "        'DEPARTURES (IN NUMBERS) 2017': '2017',\n",
    "        'DEPARTURES (IN NUMBERS) 2019': '2019',\n",
    "        'DEPARTURES (IN NUMBERS) 2020': '2020',\n",
    "        'DEPARTURES (IN NUMBERS) 2021': '2021',\n",
    "        'DEPARTURES (IN NUMBERS) 2022': '2022'\n",
    "    }\n",
    ")\n",
    "\n",
    "FTAs_df_filtered = FTA_df[ftas_cols].rename(\n",
    "    columns={\n",
    "        'COUNTRY OF NATIONALITY': 'COUNTRY',\n",
    "        'ARRIVALS (IN NUMBERS) 2014': '2014',\n",
    "        'ARRIVALS (IN NUMBERS) 2016': '2016',\n",
    "        'ARRIVALS (IN NUMBERS) 2017': '2017',\n",
    "        'ARRIVALS (IN NUMBERS) 2019': '2019',\n",
    "        'ARRIVALS (IN NUMBERS) 2020': '2020',\n",
    "        'ARRIVALS (IN NUMBERS) 2021': '2021',\n",
    "        'ARRIVALS (IN NUMBERS) 2022': '2022'\n",
    "    }\n",
    ")\n",
    "\n",
    "# Merge the two DataFrames on 'COUNTRY' and 'CONTINENT' to align rows\n",
    "merged_df = FTAs_df_filtered.merge(Destination_df_filtered, on=['COUNTRY', 'CONTINENT'], suffixes=('_FTA', '_DEST'))\n",
    "\n",
    "# Calculate the difference for each year\n",
    "Difference_Countrywise_df = merged_df[['COUNTRY', 'CONTINENT']].copy()\n",
    "# for year in ['2014', '2016', '2017', '2019', '2020', '2021', '2022']:\n",
    "#     Difference_Countrywise_df[year] = merged_df[f\"{year}_FTA\"] - merged_df[f\"{year}_DEST\"]\n",
    "for year in ['2014', '2016', '2017', '2019', '2020', '2021', '2022']:\n",
    "    Difference_Countrywise_df[f\"{year}(In-Out)\"] = merged_df[f\"{year}_FTA\"] - merged_df[f\"{year}_DEST\"]\n",
    "\n",
    "\n",
    "\n",
    "# Display the result\n",
    "# print(Difference_df)\n",
    "# Difference_Countrywise_df"
   ]
  },
  {
   "cell_type": "code",
   "execution_count": 28,
   "metadata": {},
   "outputs": [
    {
     "data": {
      "text/html": [
       "<div>\n",
       "<style scoped>\n",
       "    .dataframe tbody tr th:only-of-type {\n",
       "        vertical-align: middle;\n",
       "    }\n",
       "\n",
       "    .dataframe tbody tr th {\n",
       "        vertical-align: top;\n",
       "    }\n",
       "\n",
       "    .dataframe thead th {\n",
       "        text-align: right;\n",
       "    }\n",
       "</style>\n",
       "<table border=\"1\" class=\"dataframe\">\n",
       "  <thead>\n",
       "    <tr style=\"text-align: right;\">\n",
       "      <th></th>\n",
       "      <th>DESTINATION COUNTRY</th>\n",
       "      <th>CONTINENT</th>\n",
       "      <th>DEPARTURES (IN NUMBERS) 2014</th>\n",
       "      <th>DEPARTURES (IN NUMBERS) 2016</th>\n",
       "      <th>DEPARTURES (IN NUMBERS) 2017</th>\n",
       "      <th>DEPARTURES (IN NUMBERS) 2019</th>\n",
       "      <th>DEPARTURES (IN NUMBERS) 2020</th>\n",
       "      <th>DEPARTURES (IN NUMBERS) 2021</th>\n",
       "      <th>DEPARTURES (IN NUMBERS) 2022</th>\n",
       "    </tr>\n",
       "  </thead>\n",
       "  <tbody>\n",
       "    <tr>\n",
       "      <th>0</th>\n",
       "      <td>AFGHANISTAN</td>\n",
       "      <td>SOUTH ASIA</td>\n",
       "      <td>114406.0</td>\n",
       "      <td>149176.0</td>\n",
       "      <td>149176.0</td>\n",
       "      <td>NaN</td>\n",
       "      <td>5673.0</td>\n",
       "      <td>4018.0</td>\n",
       "      <td>1197.0</td>\n",
       "    </tr>\n",
       "    <tr>\n",
       "      <th>1</th>\n",
       "      <td>ARGENTINA</td>\n",
       "      <td>CENTRAL &amp; SOUTH AMERICA</td>\n",
       "      <td>9351.0</td>\n",
       "      <td>14875.0</td>\n",
       "      <td>14875.0</td>\n",
       "      <td>2840.0</td>\n",
       "      <td>698.0</td>\n",
       "      <td>433.0</td>\n",
       "      <td>1355.0</td>\n",
       "    </tr>\n",
       "    <tr>\n",
       "      <th>2</th>\n",
       "      <td>AUSTRALIA</td>\n",
       "      <td>AUSTRALASIA</td>\n",
       "      <td>263101.0</td>\n",
       "      <td>324243.0</td>\n",
       "      <td>324243.0</td>\n",
       "      <td>589539.0</td>\n",
       "      <td>165580.0</td>\n",
       "      <td>36915.0</td>\n",
       "      <td>489404.0</td>\n",
       "    </tr>\n",
       "    <tr>\n",
       "      <th>3</th>\n",
       "      <td>AUSTRIA</td>\n",
       "      <td>WESTERN EUROPE</td>\n",
       "      <td>33670.0</td>\n",
       "      <td>31832.0</td>\n",
       "      <td>31832.0</td>\n",
       "      <td>40520.0</td>\n",
       "      <td>5763.0</td>\n",
       "      <td>4522.0</td>\n",
       "      <td>22942.0</td>\n",
       "    </tr>\n",
       "    <tr>\n",
       "      <th>4</th>\n",
       "      <td>AZERBAIJAN</td>\n",
       "      <td>EASTERN EUROPE</td>\n",
       "      <td>NaN</td>\n",
       "      <td>NaN</td>\n",
       "      <td>NaN</td>\n",
       "      <td>40927.0</td>\n",
       "      <td>9408.0</td>\n",
       "      <td>894.0</td>\n",
       "      <td>27971.0</td>\n",
       "    </tr>\n",
       "  </tbody>\n",
       "</table>\n",
       "</div>"
      ],
      "text/plain": [
       "  DESTINATION COUNTRY                CONTINENT  DEPARTURES (IN NUMBERS) 2014  DEPARTURES (IN NUMBERS) 2016  DEPARTURES (IN NUMBERS) 2017  DEPARTURES (IN NUMBERS) 2019  DEPARTURES (IN NUMBERS) 2020  DEPARTURES (IN NUMBERS) 2021  DEPARTURES (IN NUMBERS) 2022\n",
       "0         AFGHANISTAN               SOUTH ASIA                      114406.0                      149176.0                      149176.0                           NaN                        5673.0                        4018.0                        1197.0\n",
       "1           ARGENTINA  CENTRAL & SOUTH AMERICA                        9351.0                       14875.0                       14875.0                        2840.0                         698.0                         433.0                        1355.0\n",
       "2           AUSTRALIA              AUSTRALASIA                      263101.0                      324243.0                      324243.0                      589539.0                      165580.0                       36915.0                      489404.0\n",
       "3             AUSTRIA           WESTERN EUROPE                       33670.0                       31832.0                       31832.0                       40520.0                        5763.0                        4522.0                       22942.0\n",
       "4          AZERBAIJAN           EASTERN EUROPE                           NaN                           NaN                           NaN                       40927.0                        9408.0                         894.0                       27971.0"
      ]
     },
     "execution_count": 28,
     "metadata": {},
     "output_type": "execute_result"
    }
   ],
   "source": [
    "Destination_df.head()"
   ]
  },
  {
   "cell_type": "code",
   "execution_count": 29,
   "metadata": {},
   "outputs": [
    {
     "data": {
      "text/html": [
       "<div>\n",
       "<style scoped>\n",
       "    .dataframe tbody tr th:only-of-type {\n",
       "        vertical-align: middle;\n",
       "    }\n",
       "\n",
       "    .dataframe tbody tr th {\n",
       "        vertical-align: top;\n",
       "    }\n",
       "\n",
       "    .dataframe thead th {\n",
       "        text-align: right;\n",
       "    }\n",
       "</style>\n",
       "<table border=\"1\" class=\"dataframe\">\n",
       "  <thead>\n",
       "    <tr style=\"text-align: right;\">\n",
       "      <th></th>\n",
       "      <th>COUNTRY OF NATIONALITY</th>\n",
       "      <th>CONTINENT</th>\n",
       "      <th>ARRIVALS (IN NUMBERS) 2014</th>\n",
       "      <th>ARRIVALS (IN NUMBERS) 2016</th>\n",
       "      <th>ARRIVALS (IN NUMBERS) 2017</th>\n",
       "      <th>ARRIVALS (IN NUMBERS) 2019</th>\n",
       "      <th>ARRIVALS (IN NUMBERS) 2020</th>\n",
       "      <th>ARRIVALS (IN NUMBERS) 2021</th>\n",
       "      <th>ARRIVALS (IN NUMBERS) 2022</th>\n",
       "    </tr>\n",
       "  </thead>\n",
       "  <tbody>\n",
       "    <tr>\n",
       "      <th>0</th>\n",
       "      <td>AFGHANISTAN</td>\n",
       "      <td>SOUTH ASIA</td>\n",
       "      <td>114406.0</td>\n",
       "      <td>123330.0</td>\n",
       "      <td>149176.0</td>\n",
       "      <td>124120.0</td>\n",
       "      <td>47561.0</td>\n",
       "      <td>36451.0</td>\n",
       "      <td>1617.0</td>\n",
       "    </tr>\n",
       "    <tr>\n",
       "      <th>1</th>\n",
       "      <td>ARGENTINA</td>\n",
       "      <td>CENTRAL &amp; SOUTH AMERICA</td>\n",
       "      <td>9351.0</td>\n",
       "      <td>12308.0</td>\n",
       "      <td>14875.0</td>\n",
       "      <td>12844.0</td>\n",
       "      <td>4294.0</td>\n",
       "      <td>530.0</td>\n",
       "      <td>4720.0</td>\n",
       "    </tr>\n",
       "    <tr>\n",
       "      <th>2</th>\n",
       "      <td>AUSTRALIA</td>\n",
       "      <td>AUSTRALASIA</td>\n",
       "      <td>263101.0</td>\n",
       "      <td>293625.0</td>\n",
       "      <td>324243.0</td>\n",
       "      <td>367241.0</td>\n",
       "      <td>86758.0</td>\n",
       "      <td>33864.0</td>\n",
       "      <td>376898.0</td>\n",
       "    </tr>\n",
       "    <tr>\n",
       "      <th>3</th>\n",
       "      <td>AUSTRIA</td>\n",
       "      <td>WESTERN EUROPE</td>\n",
       "      <td>33670.0</td>\n",
       "      <td>33089.0</td>\n",
       "      <td>31832.0</td>\n",
       "      <td>32332.0</td>\n",
       "      <td>9182.0</td>\n",
       "      <td>4411.0</td>\n",
       "      <td>18375.0</td>\n",
       "    </tr>\n",
       "    <tr>\n",
       "      <th>4</th>\n",
       "      <td>BAHRAIN</td>\n",
       "      <td>WEST ASIA</td>\n",
       "      <td>14013.0</td>\n",
       "      <td>17382.0</td>\n",
       "      <td>16764.0</td>\n",
       "      <td>15128.0</td>\n",
       "      <td>3429.0</td>\n",
       "      <td>1727.0</td>\n",
       "      <td>9959.0</td>\n",
       "    </tr>\n",
       "  </tbody>\n",
       "</table>\n",
       "</div>"
      ],
      "text/plain": [
       "  COUNTRY OF NATIONALITY                CONTINENT  ARRIVALS (IN NUMBERS) 2014  ARRIVALS (IN NUMBERS) 2016  ARRIVALS (IN NUMBERS) 2017  ARRIVALS (IN NUMBERS) 2019  ARRIVALS (IN NUMBERS) 2020  ARRIVALS (IN NUMBERS) 2021  ARRIVALS (IN NUMBERS) 2022\n",
       "0            AFGHANISTAN               SOUTH ASIA                    114406.0                    123330.0                    149176.0                    124120.0                     47561.0                     36451.0                      1617.0\n",
       "1              ARGENTINA  CENTRAL & SOUTH AMERICA                      9351.0                     12308.0                     14875.0                     12844.0                      4294.0                       530.0                      4720.0\n",
       "2              AUSTRALIA              AUSTRALASIA                    263101.0                    293625.0                    324243.0                    367241.0                     86758.0                     33864.0                    376898.0\n",
       "3                AUSTRIA           WESTERN EUROPE                     33670.0                     33089.0                     31832.0                     32332.0                      9182.0                      4411.0                     18375.0\n",
       "4                BAHRAIN                WEST ASIA                     14013.0                     17382.0                     16764.0                     15128.0                      3429.0                      1727.0                      9959.0"
      ]
     },
     "execution_count": 29,
     "metadata": {},
     "output_type": "execute_result"
    }
   ],
   "source": [
    "FTA_df.head()"
   ]
  },
  {
   "cell_type": "code",
   "execution_count": 30,
   "metadata": {},
   "outputs": [],
   "source": [
    "# Select and rename relevant columns in both DataFrames\n",
    "destination_cols = ['CONTINENT', 'DEPARTURES (IN NUMBERS) 2014', 'DEPARTURES (IN NUMBERS) 2016',\n",
    "                    'DEPARTURES (IN NUMBERS) 2017', 'DEPARTURES (IN NUMBERS) 2019',\n",
    "                    'DEPARTURES (IN NUMBERS) 2020', 'DEPARTURES (IN NUMBERS) 2021',\n",
    "                    'DEPARTURES (IN NUMBERS) 2022']\n",
    "ftas_cols = ['CONTINENT', 'ARRIVALS (IN NUMBERS) 2014', 'ARRIVALS (IN NUMBERS) 2016',\n",
    "             'ARRIVALS (IN NUMBERS) 2017', 'ARRIVALS (IN NUMBERS) 2019',\n",
    "             'ARRIVALS (IN NUMBERS) 2020', 'ARRIVALS (IN NUMBERS) 2021',\n",
    "             'ARRIVALS (IN NUMBERS) 2022']\n",
    "\n",
    "# Aggregate values by continent and rename columns for easier merging\n",
    "Destination_continent = Destination_df[destination_cols].groupby('CONTINENT').sum().rename(\n",
    "    columns={\n",
    "        'DEPARTURES (IN NUMBERS) 2014': '2014',\n",
    "        'DEPARTURES (IN NUMBERS) 2016': '2016',\n",
    "        'DEPARTURES (IN NUMBERS) 2017': '2017',\n",
    "        'DEPARTURES (IN NUMBERS) 2019': '2019',\n",
    "        'DEPARTURES (IN NUMBERS) 2020': '2020',\n",
    "        'DEPARTURES (IN NUMBERS) 2021': '2021',\n",
    "        'DEPARTURES (IN NUMBERS) 2022': '2022'\n",
    "    }\n",
    ")\n",
    "\n",
    "FTAs_continent = FTA_df[ftas_cols].groupby('CONTINENT').sum().rename(\n",
    "    columns={\n",
    "        'ARRIVALS (IN NUMBERS) 2014': '2014',\n",
    "        'ARRIVALS (IN NUMBERS) 2016': '2016',\n",
    "        'ARRIVALS (IN NUMBERS) 2017': '2017',\n",
    "        'ARRIVALS (IN NUMBERS) 2019': '2019',\n",
    "        'ARRIVALS (IN NUMBERS) 2020': '2020',\n",
    "        'ARRIVALS (IN NUMBERS) 2021': '2021',\n",
    "        'ARRIVALS (IN NUMBERS) 2022': '2022'\n",
    "    }\n",
    ")\n",
    "\n",
    "# Merge on CONTINENT to align rows for each year\n",
    "merged_continent = FTAs_continent.merge(Destination_continent, on='CONTINENT', suffixes=('_FTA', '_DEST'))\n",
    "\n",
    "# Create the Difference_df by calculating differences for each year\n",
    "Difference_Continentwise_df = pd.DataFrame(index=merged_continent.index)\n",
    "Difference_Continentwise_df['CONTINENT'] = merged_continent.index\n",
    "\n",
    "# Calculate differences for each year and rename columns\n",
    "for year in ['2014', '2016', '2017', '2019', '2020', '2021', '2022']:\n",
    "    Difference_Continentwise_df[f\"{year}(In-Out)\"] = merged_continent[f\"{year}_FTA\"] - merged_continent[f\"{year}_DEST\"]\n",
    "\n",
    "# Reset index for better display\n",
    "Difference_Continentwise_df.reset_index(drop=True, inplace=True)\n",
    "\n",
    "# print(Difference_Continentwise_df)\n",
    "\n",
    "\n",
    "\n",
    "\n",
    "\n",
    "# Assuming merged_continent is already created as shown previously\n",
    "\n",
    "# Initialize Difference_continent with CONTINENT column\n",
    "\n",
    "\n",
    "# Display the result\n",
    "\n",
    "\n",
    "# Display the result\n",
    "# print(Difference_Continentwise_df)\n",
    "# Difference_Continentwise_df"
   ]
  },
  {
   "cell_type": "markdown",
   "metadata": {},
   "source": [
    "# Countrywise"
   ]
  },
  {
   "cell_type": "code",
   "execution_count": 31,
   "metadata": {},
   "outputs": [
    {
     "data": {
      "text/html": [
       "<div>\n",
       "<style scoped>\n",
       "    .dataframe tbody tr th:only-of-type {\n",
       "        vertical-align: middle;\n",
       "    }\n",
       "\n",
       "    .dataframe tbody tr th {\n",
       "        vertical-align: top;\n",
       "    }\n",
       "\n",
       "    .dataframe thead th {\n",
       "        text-align: right;\n",
       "    }\n",
       "</style>\n",
       "<table border=\"1\" class=\"dataframe\">\n",
       "  <thead>\n",
       "    <tr style=\"text-align: right;\">\n",
       "      <th></th>\n",
       "      <th>COUNTRY</th>\n",
       "      <th>CONTINENT</th>\n",
       "      <th>2014(In-Out)</th>\n",
       "      <th>2016(In-Out)</th>\n",
       "      <th>2017(In-Out)</th>\n",
       "      <th>2019(In-Out)</th>\n",
       "      <th>2020(In-Out)</th>\n",
       "      <th>2021(In-Out)</th>\n",
       "      <th>2022(In-Out)</th>\n",
       "    </tr>\n",
       "  </thead>\n",
       "  <tbody>\n",
       "    <tr>\n",
       "      <th>0</th>\n",
       "      <td>AFGHANISTAN</td>\n",
       "      <td>SOUTH ASIA</td>\n",
       "      <td>0.0</td>\n",
       "      <td>-25846.0</td>\n",
       "      <td>0.0</td>\n",
       "      <td>NaN</td>\n",
       "      <td>41888.0</td>\n",
       "      <td>32433.0</td>\n",
       "      <td>420.0</td>\n",
       "    </tr>\n",
       "    <tr>\n",
       "      <th>1</th>\n",
       "      <td>ARGENTINA</td>\n",
       "      <td>CENTRAL &amp; SOUTH AMERICA</td>\n",
       "      <td>0.0</td>\n",
       "      <td>-2567.0</td>\n",
       "      <td>0.0</td>\n",
       "      <td>10004.0</td>\n",
       "      <td>3596.0</td>\n",
       "      <td>97.0</td>\n",
       "      <td>3365.0</td>\n",
       "    </tr>\n",
       "    <tr>\n",
       "      <th>2</th>\n",
       "      <td>AUSTRALIA</td>\n",
       "      <td>AUSTRALASIA</td>\n",
       "      <td>0.0</td>\n",
       "      <td>-30618.0</td>\n",
       "      <td>0.0</td>\n",
       "      <td>-222298.0</td>\n",
       "      <td>-78822.0</td>\n",
       "      <td>-3051.0</td>\n",
       "      <td>-112506.0</td>\n",
       "    </tr>\n",
       "    <tr>\n",
       "      <th>3</th>\n",
       "      <td>AUSTRIA</td>\n",
       "      <td>WESTERN EUROPE</td>\n",
       "      <td>0.0</td>\n",
       "      <td>1257.0</td>\n",
       "      <td>0.0</td>\n",
       "      <td>-8188.0</td>\n",
       "      <td>3419.0</td>\n",
       "      <td>-111.0</td>\n",
       "      <td>-4567.0</td>\n",
       "    </tr>\n",
       "    <tr>\n",
       "      <th>4</th>\n",
       "      <td>BAHRAIN</td>\n",
       "      <td>WEST ASIA</td>\n",
       "      <td>0.0</td>\n",
       "      <td>618.0</td>\n",
       "      <td>0.0</td>\n",
       "      <td>-349673.0</td>\n",
       "      <td>-107479.0</td>\n",
       "      <td>-206594.0</td>\n",
       "      <td>-327522.0</td>\n",
       "    </tr>\n",
       "  </tbody>\n",
       "</table>\n",
       "</div>"
      ],
      "text/plain": [
       "       COUNTRY                CONTINENT  2014(In-Out)  2016(In-Out)  2017(In-Out)  2019(In-Out)  2020(In-Out)  2021(In-Out)  2022(In-Out)\n",
       "0  AFGHANISTAN               SOUTH ASIA           0.0      -25846.0           0.0           NaN       41888.0       32433.0         420.0\n",
       "1    ARGENTINA  CENTRAL & SOUTH AMERICA           0.0       -2567.0           0.0       10004.0        3596.0          97.0        3365.0\n",
       "2    AUSTRALIA              AUSTRALASIA           0.0      -30618.0           0.0     -222298.0      -78822.0       -3051.0     -112506.0\n",
       "3      AUSTRIA           WESTERN EUROPE           0.0        1257.0           0.0       -8188.0        3419.0        -111.0       -4567.0\n",
       "4      BAHRAIN                WEST ASIA           0.0         618.0           0.0     -349673.0     -107479.0     -206594.0     -327522.0"
      ]
     },
     "execution_count": 31,
     "metadata": {},
     "output_type": "execute_result"
    }
   ],
   "source": [
    "Difference_Countrywise_df.head()"
   ]
  },
  {
   "cell_type": "code",
   "execution_count": 32,
   "metadata": {},
   "outputs": [],
   "source": [
    "Difference_Countrywise_df.to_csv(\"Difference_Countrywise.csv\",index=False)"
   ]
  },
  {
   "cell_type": "markdown",
   "metadata": {},
   "source": [
    "## Graphs"
   ]
  },
  {
   "cell_type": "code",
   "execution_count": 33,
   "metadata": {},
   "outputs": [
    {
     "data": {
      "application/vnd.plotly.v1+json": {
       "config": {
        "plotlyServerURL": "https://plot.ly"
       },
       "data": [
        {
         "alignmentgroup": "True",
         "hovertemplate": "Year=2014(In-Out)<br>Country=%{x}<br>Difference (In-Out)=%{y}<extra></extra>",
         "legendgroup": "2014(In-Out)",
         "marker": {
          "color": "#636efa",
          "pattern": {
           "shape": ""
          }
         },
         "name": "2014(In-Out)",
         "offsetgroup": "2014(In-Out)",
         "orientation": "v",
         "showlegend": true,
         "textposition": "auto",
         "type": "bar",
         "x": [
          "AFGHANISTAN",
          "ARGENTINA",
          "AUSTRALIA",
          "AUSTRIA",
          "BAHRAIN",
          "BANGLADESH",
          "BELGIUM",
          "BHUTAN",
          "BRAZIL",
          "CANADA",
          "CZECH REPUBLIC",
          "DENMARK",
          "EGYPT",
          "FINLAND",
          "FRANCE",
          "GERMANY",
          "GREECE",
          "HUNGARY",
          "INDONESIA",
          "IRAN",
          "IRAQ",
          "IRELAND",
          "ISRAEL",
          "ITALY",
          "JAPAN",
          "KAZAKHSTAN",
          "KENYA",
          "MALAYSIA",
          "MALDIVES",
          "MAURITIUS",
          "MEXICO",
          "MYANMAR",
          "NEPAL",
          "NETHERLANDS",
          "NEW ZEALAND",
          "NIGERIA",
          "NORWAY",
          "OMAN",
          "PAKISTAN",
          "PHILIPPINES",
          "POLAND",
          "PORTUGAL",
          "REPUBLIC OF CHINA",
          "REPUBLIC OF KOREA",
          "RUSSIAN FEDERATION",
          "SAUDI ARABIA",
          "SINGAPORE",
          "SOUTH AFRICA",
          "SPAIN",
          "SRI LANKA",
          "SUDAN",
          "SWEDEN",
          "SWITZERLAND",
          "TAIWAN",
          "TANZANIA",
          "THAILAND",
          "TURKEY",
          "UKRAINE",
          "UNITED ARAB EMIRATES",
          "UNITED KINGDOM",
          "UNITED STATES OF AMERICA",
          "VIETNAM",
          "YEMEN"
         ],
         "xaxis": "x",
         "y": [
          0,
          0,
          0,
          0,
          0,
          0,
          0,
          0,
          0,
          0,
          0,
          0,
          0,
          0,
          0,
          0,
          0,
          null,
          0,
          0,
          0,
          0,
          0,
          0,
          0,
          0,
          0,
          0,
          0,
          0,
          0,
          0,
          0,
          0,
          0,
          0,
          0,
          0,
          0,
          0,
          0,
          0,
          0,
          0,
          0,
          0,
          0,
          0,
          0,
          0,
          0,
          0,
          0,
          0,
          0,
          0,
          0,
          0,
          0,
          0,
          0,
          0,
          0
         ],
         "yaxis": "y"
        },
        {
         "alignmentgroup": "True",
         "hovertemplate": "Year=2016(In-Out)<br>Country=%{x}<br>Difference (In-Out)=%{y}<extra></extra>",
         "legendgroup": "2016(In-Out)",
         "marker": {
          "color": "#EF553B",
          "pattern": {
           "shape": ""
          }
         },
         "name": "2016(In-Out)",
         "offsetgroup": "2016(In-Out)",
         "orientation": "v",
         "showlegend": true,
         "textposition": "auto",
         "type": "bar",
         "x": [
          "AFGHANISTAN",
          "ARGENTINA",
          "AUSTRALIA",
          "AUSTRIA",
          "BAHRAIN",
          "BANGLADESH",
          "BELGIUM",
          "BHUTAN",
          "BRAZIL",
          "CANADA",
          "CZECH REPUBLIC",
          "DENMARK",
          "EGYPT",
          "FINLAND",
          "FRANCE",
          "GERMANY",
          "GREECE",
          "HUNGARY",
          "INDONESIA",
          "IRAN",
          "IRAQ",
          "IRELAND",
          "ISRAEL",
          "ITALY",
          "JAPAN",
          "KAZAKHSTAN",
          "KENYA",
          "MALAYSIA",
          "MALDIVES",
          "MAURITIUS",
          "MEXICO",
          "MYANMAR",
          "NEPAL",
          "NETHERLANDS",
          "NEW ZEALAND",
          "NIGERIA",
          "NORWAY",
          "OMAN",
          "PAKISTAN",
          "PHILIPPINES",
          "POLAND",
          "PORTUGAL",
          "REPUBLIC OF CHINA",
          "REPUBLIC OF KOREA",
          "RUSSIAN FEDERATION",
          "SAUDI ARABIA",
          "SINGAPORE",
          "SOUTH AFRICA",
          "SPAIN",
          "SRI LANKA",
          "SUDAN",
          "SWEDEN",
          "SWITZERLAND",
          "TAIWAN",
          "TANZANIA",
          "THAILAND",
          "TURKEY",
          "UKRAINE",
          "UNITED ARAB EMIRATES",
          "UNITED KINGDOM",
          "UNITED STATES OF AMERICA",
          "VIETNAM",
          "YEMEN"
         ],
         "xaxis": "x",
         "y": [
          -25846,
          -2567,
          -30618,
          1257,
          618,
          1164752,
          -3942,
          -4707,
          -3164,
          -18200,
          1080,
          -2044,
          336,
          -2013,
          -10913,
          -3452,
          -1238,
          -1280,
          -8889,
          -3457,
          -8003,
          -1553,
          1100,
          -16498,
          -12910,
          -2442,
          -1228,
          -20165,
          51269,
          -3426,
          -2425,
          40883,
          -2921,
          -4812,
          -5680,
          5313,
          -734,
          -1512,
          60454,
          -1271,
          -2968,
          -11939,
          4078,
          -31307,
          -51155,
          8629,
          -11894,
          -4424,
          -5100,
          -11888,
          -5669,
          -2162,
          -1484,
          -4716,
          765,
          -20424,
          -3706,
          765,
          -73,
          -44413,
          -79980,
          -7046,
          -2312
         ],
         "yaxis": "y"
        },
        {
         "alignmentgroup": "True",
         "hovertemplate": "Year=2017(In-Out)<br>Country=%{x}<br>Difference (In-Out)=%{y}<extra></extra>",
         "legendgroup": "2017(In-Out)",
         "marker": {
          "color": "#00cc96",
          "pattern": {
           "shape": ""
          }
         },
         "name": "2017(In-Out)",
         "offsetgroup": "2017(In-Out)",
         "orientation": "v",
         "showlegend": true,
         "textposition": "auto",
         "type": "bar",
         "x": [
          "AFGHANISTAN",
          "ARGENTINA",
          "AUSTRALIA",
          "AUSTRIA",
          "BAHRAIN",
          "BANGLADESH",
          "BELGIUM",
          "BHUTAN",
          "BRAZIL",
          "CANADA",
          "CZECH REPUBLIC",
          "DENMARK",
          "EGYPT",
          "FINLAND",
          "FRANCE",
          "GERMANY",
          "GREECE",
          "HUNGARY",
          "INDONESIA",
          "IRAN",
          "IRAQ",
          "IRELAND",
          "ISRAEL",
          "ITALY",
          "JAPAN",
          "KAZAKHSTAN",
          "KENYA",
          "MALAYSIA",
          "MALDIVES",
          "MAURITIUS",
          "MEXICO",
          "MYANMAR",
          "NEPAL",
          "NETHERLANDS",
          "NEW ZEALAND",
          "NIGERIA",
          "NORWAY",
          "OMAN",
          "PAKISTAN",
          "PHILIPPINES",
          "POLAND",
          "PORTUGAL",
          "REPUBLIC OF CHINA",
          "REPUBLIC OF KOREA",
          "RUSSIAN FEDERATION",
          "SAUDI ARABIA",
          "SINGAPORE",
          "SOUTH AFRICA",
          "SPAIN",
          "SRI LANKA",
          "SUDAN",
          "SWEDEN",
          "SWITZERLAND",
          "TAIWAN",
          "TANZANIA",
          "THAILAND",
          "TURKEY",
          "UKRAINE",
          "UNITED ARAB EMIRATES",
          "UNITED KINGDOM",
          "UNITED STATES OF AMERICA",
          "VIETNAM",
          "YEMEN"
         ],
         "xaxis": "x",
         "y": [
          0,
          0,
          0,
          0,
          0,
          1940900,
          0,
          -380,
          0,
          0,
          0,
          0,
          0,
          0,
          0,
          0,
          0,
          0,
          0,
          0,
          0,
          0,
          0,
          0,
          770,
          0,
          0,
          0,
          49962,
          0,
          0,
          46459,
          0,
          0,
          0,
          0,
          0,
          0,
          0,
          0,
          0,
          0,
          0,
          0,
          0,
          0,
          270,
          0,
          0,
          -5716,
          0,
          0,
          0,
          0,
          0,
          0,
          0,
          0,
          0,
          0,
          0,
          -3,
          0
         ],
         "yaxis": "y"
        },
        {
         "alignmentgroup": "True",
         "hovertemplate": "Year=2019(In-Out)<br>Country=%{x}<br>Difference (In-Out)=%{y}<extra></extra>",
         "legendgroup": "2019(In-Out)",
         "marker": {
          "color": "#ab63fa",
          "pattern": {
           "shape": ""
          }
         },
         "name": "2019(In-Out)",
         "offsetgroup": "2019(In-Out)",
         "orientation": "v",
         "showlegend": true,
         "textposition": "auto",
         "type": "bar",
         "x": [
          "AFGHANISTAN",
          "ARGENTINA",
          "AUSTRALIA",
          "AUSTRIA",
          "BAHRAIN",
          "BANGLADESH",
          "BELGIUM",
          "BHUTAN",
          "BRAZIL",
          "CANADA",
          "CZECH REPUBLIC",
          "DENMARK",
          "EGYPT",
          "FINLAND",
          "FRANCE",
          "GERMANY",
          "GREECE",
          "HUNGARY",
          "INDONESIA",
          "IRAN",
          "IRAQ",
          "IRELAND",
          "ISRAEL",
          "ITALY",
          "JAPAN",
          "KAZAKHSTAN",
          "KENYA",
          "MALAYSIA",
          "MALDIVES",
          "MAURITIUS",
          "MEXICO",
          "MYANMAR",
          "NEPAL",
          "NETHERLANDS",
          "NEW ZEALAND",
          "NIGERIA",
          "NORWAY",
          "OMAN",
          "PAKISTAN",
          "PHILIPPINES",
          "POLAND",
          "PORTUGAL",
          "REPUBLIC OF CHINA",
          "REPUBLIC OF KOREA",
          "RUSSIAN FEDERATION",
          "SAUDI ARABIA",
          "SINGAPORE",
          "SOUTH AFRICA",
          "SPAIN",
          "SRI LANKA",
          "SUDAN",
          "SWEDEN",
          "SWITZERLAND",
          "TAIWAN",
          "TANZANIA",
          "THAILAND",
          "TURKEY",
          "UKRAINE",
          "UNITED ARAB EMIRATES",
          "UNITED KINGDOM",
          "UNITED STATES OF AMERICA",
          "VIETNAM",
          "YEMEN"
         ],
         "xaxis": "x",
         "y": [
          null,
          10004,
          -222298,
          -8188,
          -349673,
          null,
          -1550,
          null,
          10896,
          -282601,
          -14394,
          -13123,
          -30742,
          -4874,
          26968,
          -59705,
          -29495,
          -14767,
          null,
          null,
          -18614,
          -6077,
          37236,
          -89610,
          null,
          -14190,
          -18253,
          null,
          null,
          -31660,
          11283,
          null,
          null,
          -54518,
          -45203,
          -41721,
          -2351,
          -866347,
          null,
          null,
          11194,
          56331,
          311688,
          null,
          151252,
          null,
          null,
          -29538,
          -15373,
          null,
          23869,
          -13022,
          -62185,
          34275,
          -5236,
          null,
          null,
          2233,
          null,
          174727,
          -426270,
          null,
          null
         ],
         "yaxis": "y"
        },
        {
         "alignmentgroup": "True",
         "hovertemplate": "Year=2020(In-Out)<br>Country=%{x}<br>Difference (In-Out)=%{y}<extra></extra>",
         "legendgroup": "2020(In-Out)",
         "marker": {
          "color": "#FFA15A",
          "pattern": {
           "shape": ""
          }
         },
         "name": "2020(In-Out)",
         "offsetgroup": "2020(In-Out)",
         "orientation": "v",
         "showlegend": true,
         "textposition": "auto",
         "type": "bar",
         "x": [
          "AFGHANISTAN",
          "ARGENTINA",
          "AUSTRALIA",
          "AUSTRIA",
          "BAHRAIN",
          "BANGLADESH",
          "BELGIUM",
          "BHUTAN",
          "BRAZIL",
          "CANADA",
          "CZECH REPUBLIC",
          "DENMARK",
          "EGYPT",
          "FINLAND",
          "FRANCE",
          "GERMANY",
          "GREECE",
          "HUNGARY",
          "INDONESIA",
          "IRAN",
          "IRAQ",
          "IRELAND",
          "ISRAEL",
          "ITALY",
          "JAPAN",
          "KAZAKHSTAN",
          "KENYA",
          "MALAYSIA",
          "MALDIVES",
          "MAURITIUS",
          "MEXICO",
          "MYANMAR",
          "NEPAL",
          "NETHERLANDS",
          "NEW ZEALAND",
          "NIGERIA",
          "NORWAY",
          "OMAN",
          "PAKISTAN",
          "PHILIPPINES",
          "POLAND",
          "PORTUGAL",
          "REPUBLIC OF CHINA",
          "REPUBLIC OF KOREA",
          "RUSSIAN FEDERATION",
          "SAUDI ARABIA",
          "SINGAPORE",
          "SOUTH AFRICA",
          "SPAIN",
          "SRI LANKA",
          "SUDAN",
          "SWEDEN",
          "SWITZERLAND",
          "TAIWAN",
          "TANZANIA",
          "THAILAND",
          "TURKEY",
          "UKRAINE",
          "UNITED ARAB EMIRATES",
          "UNITED KINGDOM",
          "UNITED STATES OF AMERICA",
          "VIETNAM",
          "YEMEN"
         ],
         "xaxis": "x",
         "y": [
          41888,
          3596,
          -78822,
          3419,
          -107479,
          397211,
          57,
          2039,
          2235,
          -104390,
          -395,
          -449,
          -8990,
          -2140,
          41288,
          -18794,
          -4123,
          -920,
          -55419,
          1372,
          7284,
          -11174,
          8911,
          -32583,
          19721,
          145,
          -6954,
          -61876,
          -68702,
          -4062,
          1501,
          24811,
          -3396,
          -3474,
          -25212,
          -20516,
          722,
          -265243,
          9509,
          -4304,
          5745,
          23193,
          19206,
          19454,
          90960,
          -539930,
          -255540,
          -9877,
          -6258,
          -35265,
          5271,
          -4139,
          -1503,
          4524,
          -4257,
          -182958,
          -5677,
          -823,
          -2470144,
          32392,
          -198809,
          -12156,
          null
         ],
         "yaxis": "y"
        },
        {
         "alignmentgroup": "True",
         "hovertemplate": "Year=2021(In-Out)<br>Country=%{x}<br>Difference (In-Out)=%{y}<extra></extra>",
         "legendgroup": "2021(In-Out)",
         "marker": {
          "color": "#19d3f3",
          "pattern": {
           "shape": ""
          }
         },
         "name": "2021(In-Out)",
         "offsetgroup": "2021(In-Out)",
         "orientation": "v",
         "showlegend": true,
         "textposition": "auto",
         "type": "bar",
         "x": [
          "AFGHANISTAN",
          "ARGENTINA",
          "AUSTRALIA",
          "AUSTRIA",
          "BAHRAIN",
          "BANGLADESH",
          "BELGIUM",
          "BHUTAN",
          "BRAZIL",
          "CANADA",
          "CZECH REPUBLIC",
          "DENMARK",
          "EGYPT",
          "FINLAND",
          "FRANCE",
          "GERMANY",
          "GREECE",
          "HUNGARY",
          "INDONESIA",
          "IRAN",
          "IRAQ",
          "IRELAND",
          "ISRAEL",
          "ITALY",
          "JAPAN",
          "KAZAKHSTAN",
          "KENYA",
          "MALAYSIA",
          "MALDIVES",
          "MAURITIUS",
          "MEXICO",
          "MYANMAR",
          "NEPAL",
          "NETHERLANDS",
          "NEW ZEALAND",
          "NIGERIA",
          "NORWAY",
          "OMAN",
          "PAKISTAN",
          "PHILIPPINES",
          "POLAND",
          "PORTUGAL",
          "REPUBLIC OF CHINA",
          "REPUBLIC OF KOREA",
          "RUSSIAN FEDERATION",
          "SAUDI ARABIA",
          "SINGAPORE",
          "SOUTH AFRICA",
          "SPAIN",
          "SRI LANKA",
          "SUDAN",
          "SWEDEN",
          "SWITZERLAND",
          "TAIWAN",
          "TANZANIA",
          "THAILAND",
          "TURKEY",
          "UKRAINE",
          "UNITED ARAB EMIRATES",
          "UNITED KINGDOM",
          "UNITED STATES OF AMERICA",
          "VIETNAM",
          "YEMEN"
         ],
         "xaxis": "x",
         "y": [
          32433,
          97,
          -3051,
          -111,
          -206594,
          143835,
          -6034,
          3792,
          -2428,
          -179263,
          -2508,
          -7314,
          -21298,
          -3142,
          -14110,
          -85863,
          -3305,
          -3721,
          -4587,
          -4605,
          7252,
          -23533,
          -2911,
          -39188,
          -746,
          -5381,
          -10835,
          -12116,
          -290631,
          -4595,
          -23306,
          99,
          -6598,
          -20685,
          1301,
          -28553,
          -2463,
          -397493,
          2701,
          2436,
          -8619,
          22105,
          1406,
          2324,
          -28708,
          -268239,
          -86871,
          -20680,
          -16508,
          -39855,
          2170,
          -12541,
          -14462,
          null,
          -16345,
          -6863,
          -14897,
          -29000,
          -3625953,
          -183962,
          -266046,
          -3555,
          null
         ],
         "yaxis": "y"
        },
        {
         "alignmentgroup": "True",
         "hovertemplate": "Year=2022(In-Out)<br>Country=%{x}<br>Difference (In-Out)=%{y}<extra></extra>",
         "legendgroup": "2022(In-Out)",
         "marker": {
          "color": "#FF6692",
          "pattern": {
           "shape": ""
          }
         },
         "name": "2022(In-Out)",
         "offsetgroup": "2022(In-Out)",
         "orientation": "v",
         "showlegend": true,
         "textposition": "auto",
         "type": "bar",
         "x": [
          "AFGHANISTAN",
          "ARGENTINA",
          "AUSTRALIA",
          "AUSTRIA",
          "BAHRAIN",
          "BANGLADESH",
          "BELGIUM",
          "BHUTAN",
          "BRAZIL",
          "CANADA",
          "CZECH REPUBLIC",
          "DENMARK",
          "EGYPT",
          "FINLAND",
          "FRANCE",
          "GERMANY",
          "GREECE",
          "HUNGARY",
          "INDONESIA",
          "IRAN",
          "IRAQ",
          "IRELAND",
          "ISRAEL",
          "ITALY",
          "JAPAN",
          "KAZAKHSTAN",
          "KENYA",
          "MALAYSIA",
          "MALDIVES",
          "MAURITIUS",
          "MEXICO",
          "MYANMAR",
          "NEPAL",
          "NETHERLANDS",
          "NEW ZEALAND",
          "NIGERIA",
          "NORWAY",
          "OMAN",
          "PAKISTAN",
          "PHILIPPINES",
          "POLAND",
          "PORTUGAL",
          "REPUBLIC OF CHINA",
          "REPUBLIC OF KOREA",
          "RUSSIAN FEDERATION",
          "SAUDI ARABIA",
          "SINGAPORE",
          "SOUTH AFRICA",
          "SPAIN",
          "SRI LANKA",
          "SUDAN",
          "SWEDEN",
          "SWITZERLAND",
          "TAIWAN",
          "TANZANIA",
          "THAILAND",
          "TURKEY",
          "UKRAINE",
          "UNITED ARAB EMIRATES",
          "UNITED KINGDOM",
          "UNITED STATES OF AMERICA",
          "VIETNAM",
          "YEMEN"
         ],
         "xaxis": "x",
         "y": [
          420,
          3365,
          -112506,
          -4567,
          -327522,
          805066,
          -4528,
          16395,
          665,
          -490019,
          -2850,
          -11001,
          -30896,
          -10288,
          -21814,
          -113176,
          -16642,
          -11505,
          -153502,
          -5684,
          -44821,
          -44573,
          13131,
          -75611,
          7748,
          -15868,
          -19194,
          -181937,
          -232969,
          -20063,
          959,
          8716,
          -62214,
          -34011,
          -1157,
          -34814,
          -7408,
          -687548,
          -371,
          -18757,
          -10384,
          46774,
          4574,
          36970,
          55223,
          -2456801,
          -880144,
          -28045,
          -34439,
          37298,
          16025,
          -23776,
          -56122,
          null,
          -9412,
          -897369,
          -98999,
          2835,
          -5996567,
          -311438,
          -324355,
          -86499,
          null
         ],
         "yaxis": "y"
        }
       ],
       "layout": {
        "barmode": "group",
        "height": 600,
        "legend": {
         "title": {
          "text": "Year"
         },
         "tracegroupgap": 0
        },
        "template": {
         "data": {
          "bar": [
           {
            "error_x": {
             "color": "#2a3f5f"
            },
            "error_y": {
             "color": "#2a3f5f"
            },
            "marker": {
             "line": {
              "color": "#E5ECF6",
              "width": 0.5
             },
             "pattern": {
              "fillmode": "overlay",
              "size": 10,
              "solidity": 0.2
             }
            },
            "type": "bar"
           }
          ],
          "barpolar": [
           {
            "marker": {
             "line": {
              "color": "#E5ECF6",
              "width": 0.5
             },
             "pattern": {
              "fillmode": "overlay",
              "size": 10,
              "solidity": 0.2
             }
            },
            "type": "barpolar"
           }
          ],
          "carpet": [
           {
            "aaxis": {
             "endlinecolor": "#2a3f5f",
             "gridcolor": "white",
             "linecolor": "white",
             "minorgridcolor": "white",
             "startlinecolor": "#2a3f5f"
            },
            "baxis": {
             "endlinecolor": "#2a3f5f",
             "gridcolor": "white",
             "linecolor": "white",
             "minorgridcolor": "white",
             "startlinecolor": "#2a3f5f"
            },
            "type": "carpet"
           }
          ],
          "choropleth": [
           {
            "colorbar": {
             "outlinewidth": 0,
             "ticks": ""
            },
            "type": "choropleth"
           }
          ],
          "contour": [
           {
            "colorbar": {
             "outlinewidth": 0,
             "ticks": ""
            },
            "colorscale": [
             [
              0,
              "#0d0887"
             ],
             [
              0.1111111111111111,
              "#46039f"
             ],
             [
              0.2222222222222222,
              "#7201a8"
             ],
             [
              0.3333333333333333,
              "#9c179e"
             ],
             [
              0.4444444444444444,
              "#bd3786"
             ],
             [
              0.5555555555555556,
              "#d8576b"
             ],
             [
              0.6666666666666666,
              "#ed7953"
             ],
             [
              0.7777777777777778,
              "#fb9f3a"
             ],
             [
              0.8888888888888888,
              "#fdca26"
             ],
             [
              1,
              "#f0f921"
             ]
            ],
            "type": "contour"
           }
          ],
          "contourcarpet": [
           {
            "colorbar": {
             "outlinewidth": 0,
             "ticks": ""
            },
            "type": "contourcarpet"
           }
          ],
          "heatmap": [
           {
            "colorbar": {
             "outlinewidth": 0,
             "ticks": ""
            },
            "colorscale": [
             [
              0,
              "#0d0887"
             ],
             [
              0.1111111111111111,
              "#46039f"
             ],
             [
              0.2222222222222222,
              "#7201a8"
             ],
             [
              0.3333333333333333,
              "#9c179e"
             ],
             [
              0.4444444444444444,
              "#bd3786"
             ],
             [
              0.5555555555555556,
              "#d8576b"
             ],
             [
              0.6666666666666666,
              "#ed7953"
             ],
             [
              0.7777777777777778,
              "#fb9f3a"
             ],
             [
              0.8888888888888888,
              "#fdca26"
             ],
             [
              1,
              "#f0f921"
             ]
            ],
            "type": "heatmap"
           }
          ],
          "heatmapgl": [
           {
            "colorbar": {
             "outlinewidth": 0,
             "ticks": ""
            },
            "colorscale": [
             [
              0,
              "#0d0887"
             ],
             [
              0.1111111111111111,
              "#46039f"
             ],
             [
              0.2222222222222222,
              "#7201a8"
             ],
             [
              0.3333333333333333,
              "#9c179e"
             ],
             [
              0.4444444444444444,
              "#bd3786"
             ],
             [
              0.5555555555555556,
              "#d8576b"
             ],
             [
              0.6666666666666666,
              "#ed7953"
             ],
             [
              0.7777777777777778,
              "#fb9f3a"
             ],
             [
              0.8888888888888888,
              "#fdca26"
             ],
             [
              1,
              "#f0f921"
             ]
            ],
            "type": "heatmapgl"
           }
          ],
          "histogram": [
           {
            "marker": {
             "pattern": {
              "fillmode": "overlay",
              "size": 10,
              "solidity": 0.2
             }
            },
            "type": "histogram"
           }
          ],
          "histogram2d": [
           {
            "colorbar": {
             "outlinewidth": 0,
             "ticks": ""
            },
            "colorscale": [
             [
              0,
              "#0d0887"
             ],
             [
              0.1111111111111111,
              "#46039f"
             ],
             [
              0.2222222222222222,
              "#7201a8"
             ],
             [
              0.3333333333333333,
              "#9c179e"
             ],
             [
              0.4444444444444444,
              "#bd3786"
             ],
             [
              0.5555555555555556,
              "#d8576b"
             ],
             [
              0.6666666666666666,
              "#ed7953"
             ],
             [
              0.7777777777777778,
              "#fb9f3a"
             ],
             [
              0.8888888888888888,
              "#fdca26"
             ],
             [
              1,
              "#f0f921"
             ]
            ],
            "type": "histogram2d"
           }
          ],
          "histogram2dcontour": [
           {
            "colorbar": {
             "outlinewidth": 0,
             "ticks": ""
            },
            "colorscale": [
             [
              0,
              "#0d0887"
             ],
             [
              0.1111111111111111,
              "#46039f"
             ],
             [
              0.2222222222222222,
              "#7201a8"
             ],
             [
              0.3333333333333333,
              "#9c179e"
             ],
             [
              0.4444444444444444,
              "#bd3786"
             ],
             [
              0.5555555555555556,
              "#d8576b"
             ],
             [
              0.6666666666666666,
              "#ed7953"
             ],
             [
              0.7777777777777778,
              "#fb9f3a"
             ],
             [
              0.8888888888888888,
              "#fdca26"
             ],
             [
              1,
              "#f0f921"
             ]
            ],
            "type": "histogram2dcontour"
           }
          ],
          "mesh3d": [
           {
            "colorbar": {
             "outlinewidth": 0,
             "ticks": ""
            },
            "type": "mesh3d"
           }
          ],
          "parcoords": [
           {
            "line": {
             "colorbar": {
              "outlinewidth": 0,
              "ticks": ""
             }
            },
            "type": "parcoords"
           }
          ],
          "pie": [
           {
            "automargin": true,
            "type": "pie"
           }
          ],
          "scatter": [
           {
            "fillpattern": {
             "fillmode": "overlay",
             "size": 10,
             "solidity": 0.2
            },
            "type": "scatter"
           }
          ],
          "scatter3d": [
           {
            "line": {
             "colorbar": {
              "outlinewidth": 0,
              "ticks": ""
             }
            },
            "marker": {
             "colorbar": {
              "outlinewidth": 0,
              "ticks": ""
             }
            },
            "type": "scatter3d"
           }
          ],
          "scattercarpet": [
           {
            "marker": {
             "colorbar": {
              "outlinewidth": 0,
              "ticks": ""
             }
            },
            "type": "scattercarpet"
           }
          ],
          "scattergeo": [
           {
            "marker": {
             "colorbar": {
              "outlinewidth": 0,
              "ticks": ""
             }
            },
            "type": "scattergeo"
           }
          ],
          "scattergl": [
           {
            "marker": {
             "colorbar": {
              "outlinewidth": 0,
              "ticks": ""
             }
            },
            "type": "scattergl"
           }
          ],
          "scattermapbox": [
           {
            "marker": {
             "colorbar": {
              "outlinewidth": 0,
              "ticks": ""
             }
            },
            "type": "scattermapbox"
           }
          ],
          "scatterpolar": [
           {
            "marker": {
             "colorbar": {
              "outlinewidth": 0,
              "ticks": ""
             }
            },
            "type": "scatterpolar"
           }
          ],
          "scatterpolargl": [
           {
            "marker": {
             "colorbar": {
              "outlinewidth": 0,
              "ticks": ""
             }
            },
            "type": "scatterpolargl"
           }
          ],
          "scatterternary": [
           {
            "marker": {
             "colorbar": {
              "outlinewidth": 0,
              "ticks": ""
             }
            },
            "type": "scatterternary"
           }
          ],
          "surface": [
           {
            "colorbar": {
             "outlinewidth": 0,
             "ticks": ""
            },
            "colorscale": [
             [
              0,
              "#0d0887"
             ],
             [
              0.1111111111111111,
              "#46039f"
             ],
             [
              0.2222222222222222,
              "#7201a8"
             ],
             [
              0.3333333333333333,
              "#9c179e"
             ],
             [
              0.4444444444444444,
              "#bd3786"
             ],
             [
              0.5555555555555556,
              "#d8576b"
             ],
             [
              0.6666666666666666,
              "#ed7953"
             ],
             [
              0.7777777777777778,
              "#fb9f3a"
             ],
             [
              0.8888888888888888,
              "#fdca26"
             ],
             [
              1,
              "#f0f921"
             ]
            ],
            "type": "surface"
           }
          ],
          "table": [
           {
            "cells": {
             "fill": {
              "color": "#EBF0F8"
             },
             "line": {
              "color": "white"
             }
            },
            "header": {
             "fill": {
              "color": "#C8D4E3"
             },
             "line": {
              "color": "white"
             }
            },
            "type": "table"
           }
          ]
         },
         "layout": {
          "annotationdefaults": {
           "arrowcolor": "#2a3f5f",
           "arrowhead": 0,
           "arrowwidth": 1
          },
          "autotypenumbers": "strict",
          "coloraxis": {
           "colorbar": {
            "outlinewidth": 0,
            "ticks": ""
           }
          },
          "colorscale": {
           "diverging": [
            [
             0,
             "#8e0152"
            ],
            [
             0.1,
             "#c51b7d"
            ],
            [
             0.2,
             "#de77ae"
            ],
            [
             0.3,
             "#f1b6da"
            ],
            [
             0.4,
             "#fde0ef"
            ],
            [
             0.5,
             "#f7f7f7"
            ],
            [
             0.6,
             "#e6f5d0"
            ],
            [
             0.7,
             "#b8e186"
            ],
            [
             0.8,
             "#7fbc41"
            ],
            [
             0.9,
             "#4d9221"
            ],
            [
             1,
             "#276419"
            ]
           ],
           "sequential": [
            [
             0,
             "#0d0887"
            ],
            [
             0.1111111111111111,
             "#46039f"
            ],
            [
             0.2222222222222222,
             "#7201a8"
            ],
            [
             0.3333333333333333,
             "#9c179e"
            ],
            [
             0.4444444444444444,
             "#bd3786"
            ],
            [
             0.5555555555555556,
             "#d8576b"
            ],
            [
             0.6666666666666666,
             "#ed7953"
            ],
            [
             0.7777777777777778,
             "#fb9f3a"
            ],
            [
             0.8888888888888888,
             "#fdca26"
            ],
            [
             1,
             "#f0f921"
            ]
           ],
           "sequentialminus": [
            [
             0,
             "#0d0887"
            ],
            [
             0.1111111111111111,
             "#46039f"
            ],
            [
             0.2222222222222222,
             "#7201a8"
            ],
            [
             0.3333333333333333,
             "#9c179e"
            ],
            [
             0.4444444444444444,
             "#bd3786"
            ],
            [
             0.5555555555555556,
             "#d8576b"
            ],
            [
             0.6666666666666666,
             "#ed7953"
            ],
            [
             0.7777777777777778,
             "#fb9f3a"
            ],
            [
             0.8888888888888888,
             "#fdca26"
            ],
            [
             1,
             "#f0f921"
            ]
           ]
          },
          "colorway": [
           "#636efa",
           "#EF553B",
           "#00cc96",
           "#ab63fa",
           "#FFA15A",
           "#19d3f3",
           "#FF6692",
           "#B6E880",
           "#FF97FF",
           "#FECB52"
          ],
          "font": {
           "color": "#2a3f5f"
          },
          "geo": {
           "bgcolor": "white",
           "lakecolor": "white",
           "landcolor": "#E5ECF6",
           "showlakes": true,
           "showland": true,
           "subunitcolor": "white"
          },
          "hoverlabel": {
           "align": "left"
          },
          "hovermode": "closest",
          "mapbox": {
           "style": "light"
          },
          "paper_bgcolor": "white",
          "plot_bgcolor": "#E5ECF6",
          "polar": {
           "angularaxis": {
            "gridcolor": "white",
            "linecolor": "white",
            "ticks": ""
           },
           "bgcolor": "#E5ECF6",
           "radialaxis": {
            "gridcolor": "white",
            "linecolor": "white",
            "ticks": ""
           }
          },
          "scene": {
           "xaxis": {
            "backgroundcolor": "#E5ECF6",
            "gridcolor": "white",
            "gridwidth": 2,
            "linecolor": "white",
            "showbackground": true,
            "ticks": "",
            "zerolinecolor": "white"
           },
           "yaxis": {
            "backgroundcolor": "#E5ECF6",
            "gridcolor": "white",
            "gridwidth": 2,
            "linecolor": "white",
            "showbackground": true,
            "ticks": "",
            "zerolinecolor": "white"
           },
           "zaxis": {
            "backgroundcolor": "#E5ECF6",
            "gridcolor": "white",
            "gridwidth": 2,
            "linecolor": "white",
            "showbackground": true,
            "ticks": "",
            "zerolinecolor": "white"
           }
          },
          "shapedefaults": {
           "line": {
            "color": "#2a3f5f"
           }
          },
          "ternary": {
           "aaxis": {
            "gridcolor": "white",
            "linecolor": "white",
            "ticks": ""
           },
           "baxis": {
            "gridcolor": "white",
            "linecolor": "white",
            "ticks": ""
           },
           "bgcolor": "#E5ECF6",
           "caxis": {
            "gridcolor": "white",
            "linecolor": "white",
            "ticks": ""
           }
          },
          "title": {
           "x": 0.05
          },
          "xaxis": {
           "automargin": true,
           "gridcolor": "white",
           "linecolor": "white",
           "ticks": "",
           "title": {
            "standoff": 15
           },
           "zerolinecolor": "white",
           "zerolinewidth": 2
          },
          "yaxis": {
           "automargin": true,
           "gridcolor": "white",
           "linecolor": "white",
           "ticks": "",
           "title": {
            "standoff": 15
           },
           "zerolinecolor": "white",
           "zerolinewidth": 2
          }
         }
        },
        "title": {
         "text": "Country-wise Difference of Arrivals and Departures"
        },
        "xaxis": {
         "anchor": "y",
         "domain": [
          0,
          1
         ],
         "title": {
          "text": "Country"
         }
        },
        "yaxis": {
         "anchor": "x",
         "domain": [
          0,
          1
         ],
         "title": {
          "text": "Difference (In-Out)"
         }
        }
       }
      }
     },
     "metadata": {},
     "output_type": "display_data"
    }
   ],
   "source": [
    "import plotly.express as px\n",
    "\n",
    "# Assuming Difference_Countrywise_df is the DataFrame containing the differences\n",
    "\n",
    "# Melt the DataFrame to make it easier to plot\n",
    "Difference_countrywise_melted = Difference_Countrywise_df.melt(id_vars=['COUNTRY'], \n",
    "                                                              value_vars=['2014(In-Out)', '2016(In-Out)', '2017(In-Out)', \n",
    "                                                                          '2019(In-Out)', '2020(In-Out)', '2021(In-Out)', '2022(In-Out)'], \n",
    "                                                              var_name='Year', \n",
    "                                                              value_name='Difference')\n",
    "\n",
    "# Create an interactive bar plot using Plotly\n",
    "fig = px.bar(Difference_countrywise_melted, \n",
    "             x='COUNTRY', \n",
    "             y='Difference', \n",
    "             color='Year', \n",
    "             barmode='group',  # This groups bars by year for each country\n",
    "             title=\"Country-wise Difference of Arrivals and Departures\",\n",
    "             labels={\"COUNTRY\": \"Country\", \"Difference\": \"Difference (In-Out)\", \"Year\": \"Year\"},\n",
    "             height=600,  # You can adjust the height\n",
    "             color_continuous_scale='RdBu')  # Use deep contrasting colors\n",
    "\n",
    "# Show the plot\n",
    "fig.show()"
   ]
  },
  {
   "cell_type": "code",
   "execution_count": 34,
   "metadata": {},
   "outputs": [
    {
     "data": {
      "application/vnd.plotly.v1+json": {
       "config": {
        "plotlyServerURL": "https://plot.ly"
       },
       "data": [
        {
         "coloraxis": "coloraxis",
         "hovertemplate": "Country: %{x}<br>Year: %{y}<br>Difference (In-Out): %{z}<extra></extra>",
         "name": "0",
         "type": "heatmap",
         "x": [
          "AFGHANISTAN",
          "ARGENTINA",
          "AUSTRALIA",
          "AUSTRIA",
          "BAHRAIN",
          "BANGLADESH",
          "BELGIUM",
          "BHUTAN",
          "BRAZIL",
          "CANADA",
          "CZECH REPUBLIC",
          "DENMARK",
          "EGYPT",
          "FINLAND",
          "FRANCE",
          "GERMANY",
          "GREECE",
          "HUNGARY",
          "INDONESIA",
          "IRAN",
          "IRAQ",
          "IRELAND",
          "ISRAEL",
          "ITALY",
          "JAPAN",
          "KAZAKHSTAN",
          "KENYA",
          "MALAYSIA",
          "MALDIVES",
          "MAURITIUS",
          "MEXICO",
          "MYANMAR",
          "NEPAL",
          "NETHERLANDS",
          "NEW ZEALAND",
          "NIGERIA",
          "NORWAY",
          "OMAN",
          "PAKISTAN",
          "PHILIPPINES",
          "POLAND",
          "PORTUGAL",
          "REPUBLIC OF CHINA",
          "REPUBLIC OF KOREA",
          "RUSSIAN FEDERATION",
          "SAUDI ARABIA",
          "SINGAPORE",
          "SOUTH AFRICA",
          "SPAIN",
          "SRI LANKA",
          "SUDAN",
          "SWEDEN",
          "SWITZERLAND",
          "TAIWAN",
          "TANZANIA",
          "THAILAND",
          "TURKEY",
          "UKRAINE",
          "UNITED ARAB EMIRATES",
          "UNITED KINGDOM",
          "UNITED STATES OF AMERICA",
          "VIETNAM",
          "YEMEN"
         ],
         "xaxis": "x",
         "y": [
          "CONTINENT",
          "2014(In-Out)",
          "2016(In-Out)",
          "2017(In-Out)",
          "2019(In-Out)",
          "2020(In-Out)",
          "2021(In-Out)",
          "2022(In-Out)"
         ],
         "yaxis": "y",
         "z": [
          [
           "SOUTH ASIA",
           "CENTRAL & SOUTH AMERICA",
           "AUSTRALASIA",
           "WESTERN EUROPE",
           "WEST ASIA",
           "SOUTH ASIA",
           "WESTERN EUROPE",
           "SOUTH ASIA",
           "CENTRAL & SOUTH AMERICA",
           "NORTH AMERICA",
           "EASTERN EUROPE",
           "WESTERN EUROPE",
           "AFRICA",
           "WESTERN EUROPE",
           "WESTERN EUROPE",
           "WESTERN EUROPE",
           "WESTERN EUROPE",
           "EASTERN EUROPE",
           "SOUTH EAST ASIA",
           "SOUTH ASIA",
           "WEST ASIA",
           "WESTERN EUROPE",
           "WEST ASIA",
           "WESTERN EUROPE",
           "EAST ASIA",
           "EASTERN EUROPE",
           "AFRICA",
           "SOUTH EAST ASIA",
           "SOUTH ASIA",
           "AFRICA",
           "CENTRAL & SOUTH AMERICA",
           "SOUTH EAST ASIA",
           "SOUTH ASIA",
           "WESTERN EUROPE",
           "AUSTRALASIA",
           "AFRICA",
           "WESTERN EUROPE",
           "WEST ASIA",
           "SOUTH ASIA",
           "SOUTH EAST ASIA",
           "EASTERN EUROPE",
           "WESTERN EUROPE",
           "EAST ASIA",
           "EAST ASIA",
           "EASTERN EUROPE",
           "WEST ASIA",
           "SOUTH EAST ASIA",
           "AFRICA",
           "WESTERN EUROPE",
           "SOUTH ASIA",
           "AFRICA",
           "WESTERN EUROPE",
           "WESTERN EUROPE",
           "EAST ASIA",
           "AFRICA",
           "SOUTH EAST ASIA",
           "WEST ASIA",
           "EASTERN EUROPE",
           "WEST ASIA",
           "WESTERN EUROPE",
           "NORTH AMERICA",
           "SOUTH EAST ASIA",
           "WEST ASIA"
          ],
          [
           0,
           0,
           0,
           0,
           0,
           0,
           0,
           0,
           0,
           0,
           0,
           0,
           0,
           0,
           0,
           0,
           0,
           null,
           0,
           0,
           0,
           0,
           0,
           0,
           0,
           0,
           0,
           0,
           0,
           0,
           0,
           0,
           0,
           0,
           0,
           0,
           0,
           0,
           0,
           0,
           0,
           0,
           0,
           0,
           0,
           0,
           0,
           0,
           0,
           0,
           0,
           0,
           0,
           0,
           0,
           0,
           0,
           0,
           0,
           0,
           0,
           0,
           0
          ],
          [
           -25846,
           -2567,
           -30618,
           1257,
           618,
           1164752,
           -3942,
           -4707,
           -3164,
           -18200,
           1080,
           -2044,
           336,
           -2013,
           -10913,
           -3452,
           -1238,
           -1280,
           -8889,
           -3457,
           -8003,
           -1553,
           1100,
           -16498,
           -12910,
           -2442,
           -1228,
           -20165,
           51269,
           -3426,
           -2425,
           40883,
           -2921,
           -4812,
           -5680,
           5313,
           -734,
           -1512,
           60454,
           -1271,
           -2968,
           -11939,
           4078,
           -31307,
           -51155,
           8629,
           -11894,
           -4424,
           -5100,
           -11888,
           -5669,
           -2162,
           -1484,
           -4716,
           765,
           -20424,
           -3706,
           765,
           -73,
           -44413,
           -79980,
           -7046,
           -2312
          ],
          [
           0,
           0,
           0,
           0,
           0,
           1940900,
           0,
           -380,
           0,
           0,
           0,
           0,
           0,
           0,
           0,
           0,
           0,
           0,
           0,
           0,
           0,
           0,
           0,
           0,
           770,
           0,
           0,
           0,
           49962,
           0,
           0,
           46459,
           0,
           0,
           0,
           0,
           0,
           0,
           0,
           0,
           0,
           0,
           0,
           0,
           0,
           0,
           270,
           0,
           0,
           -5716,
           0,
           0,
           0,
           0,
           0,
           0,
           0,
           0,
           0,
           0,
           0,
           -3,
           0
          ],
          [
           null,
           10004,
           -222298,
           -8188,
           -349673,
           null,
           -1550,
           null,
           10896,
           -282601,
           -14394,
           -13123,
           -30742,
           -4874,
           26968,
           -59705,
           -29495,
           -14767,
           null,
           null,
           -18614,
           -6077,
           37236,
           -89610,
           null,
           -14190,
           -18253,
           null,
           null,
           -31660,
           11283,
           null,
           null,
           -54518,
           -45203,
           -41721,
           -2351,
           -866347,
           null,
           null,
           11194,
           56331,
           311688,
           null,
           151252,
           null,
           null,
           -29538,
           -15373,
           null,
           23869,
           -13022,
           -62185,
           34275,
           -5236,
           null,
           null,
           2233,
           null,
           174727,
           -426270,
           null,
           null
          ],
          [
           41888,
           3596,
           -78822,
           3419,
           -107479,
           397211,
           57,
           2039,
           2235,
           -104390,
           -395,
           -449,
           -8990,
           -2140,
           41288,
           -18794,
           -4123,
           -920,
           -55419,
           1372,
           7284,
           -11174,
           8911,
           -32583,
           19721,
           145,
           -6954,
           -61876,
           -68702,
           -4062,
           1501,
           24811,
           -3396,
           -3474,
           -25212,
           -20516,
           722,
           -265243,
           9509,
           -4304,
           5745,
           23193,
           19206,
           19454,
           90960,
           -539930,
           -255540,
           -9877,
           -6258,
           -35265,
           5271,
           -4139,
           -1503,
           4524,
           -4257,
           -182958,
           -5677,
           -823,
           -2470144,
           32392,
           -198809,
           -12156,
           null
          ],
          [
           32433,
           97,
           -3051,
           -111,
           -206594,
           143835,
           -6034,
           3792,
           -2428,
           -179263,
           -2508,
           -7314,
           -21298,
           -3142,
           -14110,
           -85863,
           -3305,
           -3721,
           -4587,
           -4605,
           7252,
           -23533,
           -2911,
           -39188,
           -746,
           -5381,
           -10835,
           -12116,
           -290631,
           -4595,
           -23306,
           99,
           -6598,
           -20685,
           1301,
           -28553,
           -2463,
           -397493,
           2701,
           2436,
           -8619,
           22105,
           1406,
           2324,
           -28708,
           -268239,
           -86871,
           -20680,
           -16508,
           -39855,
           2170,
           -12541,
           -14462,
           null,
           -16345,
           -6863,
           -14897,
           -29000,
           -3625953,
           -183962,
           -266046,
           -3555,
           null
          ],
          [
           420,
           3365,
           -112506,
           -4567,
           -327522,
           805066,
           -4528,
           16395,
           665,
           -490019,
           -2850,
           -11001,
           -30896,
           -10288,
           -21814,
           -113176,
           -16642,
           -11505,
           -153502,
           -5684,
           -44821,
           -44573,
           13131,
           -75611,
           7748,
           -15868,
           -19194,
           -181937,
           -232969,
           -20063,
           959,
           8716,
           -62214,
           -34011,
           -1157,
           -34814,
           -7408,
           -687548,
           -371,
           -18757,
           -10384,
           46774,
           4574,
           36970,
           55223,
           -2456801,
           -880144,
           -28045,
           -34439,
           37298,
           16025,
           -23776,
           -56122,
           null,
           -9412,
           -897369,
           -98999,
           2835,
           -5996567,
           -311438,
           -324355,
           -86499,
           null
          ]
         ]
        }
       ],
       "layout": {
        "coloraxis": {
         "cmid": 0,
         "colorbar": {
          "title": {
           "text": "Difference (In-Out)"
          }
         },
         "colorscale": [
          [
           0,
           "rgb(103,0,31)"
          ],
          [
           0.1,
           "rgb(178,24,43)"
          ],
          [
           0.2,
           "rgb(214,96,77)"
          ],
          [
           0.3,
           "rgb(244,165,130)"
          ],
          [
           0.4,
           "rgb(253,219,199)"
          ],
          [
           0.5,
           "rgb(247,247,247)"
          ],
          [
           0.6,
           "rgb(209,229,240)"
          ],
          [
           0.7,
           "rgb(146,197,222)"
          ],
          [
           0.8,
           "rgb(67,147,195)"
          ],
          [
           0.9,
           "rgb(33,102,172)"
          ],
          [
           1,
           "rgb(5,48,97)"
          ]
         ]
        },
        "template": {
         "data": {
          "bar": [
           {
            "error_x": {
             "color": "#2a3f5f"
            },
            "error_y": {
             "color": "#2a3f5f"
            },
            "marker": {
             "line": {
              "color": "#E5ECF6",
              "width": 0.5
             },
             "pattern": {
              "fillmode": "overlay",
              "size": 10,
              "solidity": 0.2
             }
            },
            "type": "bar"
           }
          ],
          "barpolar": [
           {
            "marker": {
             "line": {
              "color": "#E5ECF6",
              "width": 0.5
             },
             "pattern": {
              "fillmode": "overlay",
              "size": 10,
              "solidity": 0.2
             }
            },
            "type": "barpolar"
           }
          ],
          "carpet": [
           {
            "aaxis": {
             "endlinecolor": "#2a3f5f",
             "gridcolor": "white",
             "linecolor": "white",
             "minorgridcolor": "white",
             "startlinecolor": "#2a3f5f"
            },
            "baxis": {
             "endlinecolor": "#2a3f5f",
             "gridcolor": "white",
             "linecolor": "white",
             "minorgridcolor": "white",
             "startlinecolor": "#2a3f5f"
            },
            "type": "carpet"
           }
          ],
          "choropleth": [
           {
            "colorbar": {
             "outlinewidth": 0,
             "ticks": ""
            },
            "type": "choropleth"
           }
          ],
          "contour": [
           {
            "colorbar": {
             "outlinewidth": 0,
             "ticks": ""
            },
            "colorscale": [
             [
              0,
              "#0d0887"
             ],
             [
              0.1111111111111111,
              "#46039f"
             ],
             [
              0.2222222222222222,
              "#7201a8"
             ],
             [
              0.3333333333333333,
              "#9c179e"
             ],
             [
              0.4444444444444444,
              "#bd3786"
             ],
             [
              0.5555555555555556,
              "#d8576b"
             ],
             [
              0.6666666666666666,
              "#ed7953"
             ],
             [
              0.7777777777777778,
              "#fb9f3a"
             ],
             [
              0.8888888888888888,
              "#fdca26"
             ],
             [
              1,
              "#f0f921"
             ]
            ],
            "type": "contour"
           }
          ],
          "contourcarpet": [
           {
            "colorbar": {
             "outlinewidth": 0,
             "ticks": ""
            },
            "type": "contourcarpet"
           }
          ],
          "heatmap": [
           {
            "colorbar": {
             "outlinewidth": 0,
             "ticks": ""
            },
            "colorscale": [
             [
              0,
              "#0d0887"
             ],
             [
              0.1111111111111111,
              "#46039f"
             ],
             [
              0.2222222222222222,
              "#7201a8"
             ],
             [
              0.3333333333333333,
              "#9c179e"
             ],
             [
              0.4444444444444444,
              "#bd3786"
             ],
             [
              0.5555555555555556,
              "#d8576b"
             ],
             [
              0.6666666666666666,
              "#ed7953"
             ],
             [
              0.7777777777777778,
              "#fb9f3a"
             ],
             [
              0.8888888888888888,
              "#fdca26"
             ],
             [
              1,
              "#f0f921"
             ]
            ],
            "type": "heatmap"
           }
          ],
          "heatmapgl": [
           {
            "colorbar": {
             "outlinewidth": 0,
             "ticks": ""
            },
            "colorscale": [
             [
              0,
              "#0d0887"
             ],
             [
              0.1111111111111111,
              "#46039f"
             ],
             [
              0.2222222222222222,
              "#7201a8"
             ],
             [
              0.3333333333333333,
              "#9c179e"
             ],
             [
              0.4444444444444444,
              "#bd3786"
             ],
             [
              0.5555555555555556,
              "#d8576b"
             ],
             [
              0.6666666666666666,
              "#ed7953"
             ],
             [
              0.7777777777777778,
              "#fb9f3a"
             ],
             [
              0.8888888888888888,
              "#fdca26"
             ],
             [
              1,
              "#f0f921"
             ]
            ],
            "type": "heatmapgl"
           }
          ],
          "histogram": [
           {
            "marker": {
             "pattern": {
              "fillmode": "overlay",
              "size": 10,
              "solidity": 0.2
             }
            },
            "type": "histogram"
           }
          ],
          "histogram2d": [
           {
            "colorbar": {
             "outlinewidth": 0,
             "ticks": ""
            },
            "colorscale": [
             [
              0,
              "#0d0887"
             ],
             [
              0.1111111111111111,
              "#46039f"
             ],
             [
              0.2222222222222222,
              "#7201a8"
             ],
             [
              0.3333333333333333,
              "#9c179e"
             ],
             [
              0.4444444444444444,
              "#bd3786"
             ],
             [
              0.5555555555555556,
              "#d8576b"
             ],
             [
              0.6666666666666666,
              "#ed7953"
             ],
             [
              0.7777777777777778,
              "#fb9f3a"
             ],
             [
              0.8888888888888888,
              "#fdca26"
             ],
             [
              1,
              "#f0f921"
             ]
            ],
            "type": "histogram2d"
           }
          ],
          "histogram2dcontour": [
           {
            "colorbar": {
             "outlinewidth": 0,
             "ticks": ""
            },
            "colorscale": [
             [
              0,
              "#0d0887"
             ],
             [
              0.1111111111111111,
              "#46039f"
             ],
             [
              0.2222222222222222,
              "#7201a8"
             ],
             [
              0.3333333333333333,
              "#9c179e"
             ],
             [
              0.4444444444444444,
              "#bd3786"
             ],
             [
              0.5555555555555556,
              "#d8576b"
             ],
             [
              0.6666666666666666,
              "#ed7953"
             ],
             [
              0.7777777777777778,
              "#fb9f3a"
             ],
             [
              0.8888888888888888,
              "#fdca26"
             ],
             [
              1,
              "#f0f921"
             ]
            ],
            "type": "histogram2dcontour"
           }
          ],
          "mesh3d": [
           {
            "colorbar": {
             "outlinewidth": 0,
             "ticks": ""
            },
            "type": "mesh3d"
           }
          ],
          "parcoords": [
           {
            "line": {
             "colorbar": {
              "outlinewidth": 0,
              "ticks": ""
             }
            },
            "type": "parcoords"
           }
          ],
          "pie": [
           {
            "automargin": true,
            "type": "pie"
           }
          ],
          "scatter": [
           {
            "fillpattern": {
             "fillmode": "overlay",
             "size": 10,
             "solidity": 0.2
            },
            "type": "scatter"
           }
          ],
          "scatter3d": [
           {
            "line": {
             "colorbar": {
              "outlinewidth": 0,
              "ticks": ""
             }
            },
            "marker": {
             "colorbar": {
              "outlinewidth": 0,
              "ticks": ""
             }
            },
            "type": "scatter3d"
           }
          ],
          "scattercarpet": [
           {
            "marker": {
             "colorbar": {
              "outlinewidth": 0,
              "ticks": ""
             }
            },
            "type": "scattercarpet"
           }
          ],
          "scattergeo": [
           {
            "marker": {
             "colorbar": {
              "outlinewidth": 0,
              "ticks": ""
             }
            },
            "type": "scattergeo"
           }
          ],
          "scattergl": [
           {
            "marker": {
             "colorbar": {
              "outlinewidth": 0,
              "ticks": ""
             }
            },
            "type": "scattergl"
           }
          ],
          "scattermapbox": [
           {
            "marker": {
             "colorbar": {
              "outlinewidth": 0,
              "ticks": ""
             }
            },
            "type": "scattermapbox"
           }
          ],
          "scatterpolar": [
           {
            "marker": {
             "colorbar": {
              "outlinewidth": 0,
              "ticks": ""
             }
            },
            "type": "scatterpolar"
           }
          ],
          "scatterpolargl": [
           {
            "marker": {
             "colorbar": {
              "outlinewidth": 0,
              "ticks": ""
             }
            },
            "type": "scatterpolargl"
           }
          ],
          "scatterternary": [
           {
            "marker": {
             "colorbar": {
              "outlinewidth": 0,
              "ticks": ""
             }
            },
            "type": "scatterternary"
           }
          ],
          "surface": [
           {
            "colorbar": {
             "outlinewidth": 0,
             "ticks": ""
            },
            "colorscale": [
             [
              0,
              "#0d0887"
             ],
             [
              0.1111111111111111,
              "#46039f"
             ],
             [
              0.2222222222222222,
              "#7201a8"
             ],
             [
              0.3333333333333333,
              "#9c179e"
             ],
             [
              0.4444444444444444,
              "#bd3786"
             ],
             [
              0.5555555555555556,
              "#d8576b"
             ],
             [
              0.6666666666666666,
              "#ed7953"
             ],
             [
              0.7777777777777778,
              "#fb9f3a"
             ],
             [
              0.8888888888888888,
              "#fdca26"
             ],
             [
              1,
              "#f0f921"
             ]
            ],
            "type": "surface"
           }
          ],
          "table": [
           {
            "cells": {
             "fill": {
              "color": "#EBF0F8"
             },
             "line": {
              "color": "white"
             }
            },
            "header": {
             "fill": {
              "color": "#C8D4E3"
             },
             "line": {
              "color": "white"
             }
            },
            "type": "table"
           }
          ]
         },
         "layout": {
          "annotationdefaults": {
           "arrowcolor": "#2a3f5f",
           "arrowhead": 0,
           "arrowwidth": 1
          },
          "autotypenumbers": "strict",
          "coloraxis": {
           "colorbar": {
            "outlinewidth": 0,
            "ticks": ""
           }
          },
          "colorscale": {
           "diverging": [
            [
             0,
             "#8e0152"
            ],
            [
             0.1,
             "#c51b7d"
            ],
            [
             0.2,
             "#de77ae"
            ],
            [
             0.3,
             "#f1b6da"
            ],
            [
             0.4,
             "#fde0ef"
            ],
            [
             0.5,
             "#f7f7f7"
            ],
            [
             0.6,
             "#e6f5d0"
            ],
            [
             0.7,
             "#b8e186"
            ],
            [
             0.8,
             "#7fbc41"
            ],
            [
             0.9,
             "#4d9221"
            ],
            [
             1,
             "#276419"
            ]
           ],
           "sequential": [
            [
             0,
             "#0d0887"
            ],
            [
             0.1111111111111111,
             "#46039f"
            ],
            [
             0.2222222222222222,
             "#7201a8"
            ],
            [
             0.3333333333333333,
             "#9c179e"
            ],
            [
             0.4444444444444444,
             "#bd3786"
            ],
            [
             0.5555555555555556,
             "#d8576b"
            ],
            [
             0.6666666666666666,
             "#ed7953"
            ],
            [
             0.7777777777777778,
             "#fb9f3a"
            ],
            [
             0.8888888888888888,
             "#fdca26"
            ],
            [
             1,
             "#f0f921"
            ]
           ],
           "sequentialminus": [
            [
             0,
             "#0d0887"
            ],
            [
             0.1111111111111111,
             "#46039f"
            ],
            [
             0.2222222222222222,
             "#7201a8"
            ],
            [
             0.3333333333333333,
             "#9c179e"
            ],
            [
             0.4444444444444444,
             "#bd3786"
            ],
            [
             0.5555555555555556,
             "#d8576b"
            ],
            [
             0.6666666666666666,
             "#ed7953"
            ],
            [
             0.7777777777777778,
             "#fb9f3a"
            ],
            [
             0.8888888888888888,
             "#fdca26"
            ],
            [
             1,
             "#f0f921"
            ]
           ]
          },
          "colorway": [
           "#636efa",
           "#EF553B",
           "#00cc96",
           "#ab63fa",
           "#FFA15A",
           "#19d3f3",
           "#FF6692",
           "#B6E880",
           "#FF97FF",
           "#FECB52"
          ],
          "font": {
           "color": "#2a3f5f"
          },
          "geo": {
           "bgcolor": "white",
           "lakecolor": "white",
           "landcolor": "#E5ECF6",
           "showlakes": true,
           "showland": true,
           "subunitcolor": "white"
          },
          "hoverlabel": {
           "align": "left"
          },
          "hovermode": "closest",
          "mapbox": {
           "style": "light"
          },
          "paper_bgcolor": "white",
          "plot_bgcolor": "#E5ECF6",
          "polar": {
           "angularaxis": {
            "gridcolor": "white",
            "linecolor": "white",
            "ticks": ""
           },
           "bgcolor": "#E5ECF6",
           "radialaxis": {
            "gridcolor": "white",
            "linecolor": "white",
            "ticks": ""
           }
          },
          "scene": {
           "xaxis": {
            "backgroundcolor": "#E5ECF6",
            "gridcolor": "white",
            "gridwidth": 2,
            "linecolor": "white",
            "showbackground": true,
            "ticks": "",
            "zerolinecolor": "white"
           },
           "yaxis": {
            "backgroundcolor": "#E5ECF6",
            "gridcolor": "white",
            "gridwidth": 2,
            "linecolor": "white",
            "showbackground": true,
            "ticks": "",
            "zerolinecolor": "white"
           },
           "zaxis": {
            "backgroundcolor": "#E5ECF6",
            "gridcolor": "white",
            "gridwidth": 2,
            "linecolor": "white",
            "showbackground": true,
            "ticks": "",
            "zerolinecolor": "white"
           }
          },
          "shapedefaults": {
           "line": {
            "color": "#2a3f5f"
           }
          },
          "ternary": {
           "aaxis": {
            "gridcolor": "white",
            "linecolor": "white",
            "ticks": ""
           },
           "baxis": {
            "gridcolor": "white",
            "linecolor": "white",
            "ticks": ""
           },
           "bgcolor": "#E5ECF6",
           "caxis": {
            "gridcolor": "white",
            "linecolor": "white",
            "ticks": ""
           }
          },
          "title": {
           "x": 0.05
          },
          "xaxis": {
           "automargin": true,
           "gridcolor": "white",
           "linecolor": "white",
           "ticks": "",
           "title": {
            "standoff": 15
           },
           "zerolinecolor": "white",
           "zerolinewidth": 2
          },
          "yaxis": {
           "automargin": true,
           "gridcolor": "white",
           "linecolor": "white",
           "ticks": "",
           "title": {
            "standoff": 15
           },
           "zerolinecolor": "white",
           "zerolinewidth": 2
          }
         }
        },
        "title": {
         "text": "Country-wise Difference of Arrivals and Departures (Heatmap)"
        },
        "xaxis": {
         "anchor": "y",
         "domain": [
          0,
          1
         ],
         "title": {
          "text": "Country"
         }
        },
        "yaxis": {
         "anchor": "x",
         "autorange": "reversed",
         "domain": [
          0,
          1
         ],
         "title": {
          "text": "Year"
         }
        }
       }
      }
     },
     "metadata": {},
     "output_type": "display_data"
    }
   ],
   "source": [
    "import plotly.express as px\n",
    "\n",
    "# Assuming Difference_Countrywise_df is the DataFrame containing the differences\n",
    "\n",
    "# Set the 'COUNTRY' column as the index for easier plotting\n",
    "Difference_Countrywise_df.set_index('COUNTRY', inplace=True)\n",
    "\n",
    "# Create an interactive heatmap using Plotly\n",
    "fig = px.imshow(Difference_Countrywise_df.T,  # Transpose to have years as rows\n",
    "                labels=dict(x=\"Country\", y=\"Year\", color=\"Difference (In-Out)\"),\n",
    "                x=Difference_Countrywise_df.index,  # x-axis will be countries\n",
    "                y=Difference_Countrywise_df.columns,  # y-axis will be years\n",
    "                title=\"Country-wise Difference of Arrivals and Departures (Heatmap)\",\n",
    "                color_continuous_scale='RdBu',  # Diverging color scale for better contrast\n",
    "                color_continuous_midpoint=0,  # Set midpoint to 0 for better contrast\n",
    "                aspect=\"auto\")  # Adjust aspect ratio for better visualization\n",
    "\n",
    "# Show the plot\n",
    "fig.show()"
   ]
  },
  {
   "cell_type": "markdown",
   "metadata": {},
   "source": [
    "# Continentwise"
   ]
  },
  {
   "cell_type": "code",
   "execution_count": 35,
   "metadata": {},
   "outputs": [
    {
     "data": {
      "text/html": [
       "<div>\n",
       "<style scoped>\n",
       "    .dataframe tbody tr th:only-of-type {\n",
       "        vertical-align: middle;\n",
       "    }\n",
       "\n",
       "    .dataframe tbody tr th {\n",
       "        vertical-align: top;\n",
       "    }\n",
       "\n",
       "    .dataframe thead th {\n",
       "        text-align: right;\n",
       "    }\n",
       "</style>\n",
       "<table border=\"1\" class=\"dataframe\">\n",
       "  <thead>\n",
       "    <tr style=\"text-align: right;\">\n",
       "      <th></th>\n",
       "      <th>CONTINENT</th>\n",
       "      <th>2014(In-Out)</th>\n",
       "      <th>2016(In-Out)</th>\n",
       "      <th>2017(In-Out)</th>\n",
       "      <th>2019(In-Out)</th>\n",
       "      <th>2020(In-Out)</th>\n",
       "      <th>2021(In-Out)</th>\n",
       "      <th>2022(In-Out)</th>\n",
       "    </tr>\n",
       "  </thead>\n",
       "  <tbody>\n",
       "    <tr>\n",
       "      <th>0</th>\n",
       "      <td>AFRICA</td>\n",
       "      <td>0.0</td>\n",
       "      <td>-8333.0</td>\n",
       "      <td>0.0</td>\n",
       "      <td>-133281.0</td>\n",
       "      <td>-49385.0</td>\n",
       "      <td>-118820.0</td>\n",
       "      <td>-126399.0</td>\n",
       "    </tr>\n",
       "    <tr>\n",
       "      <th>1</th>\n",
       "      <td>AUSTRALASIA</td>\n",
       "      <td>0.0</td>\n",
       "      <td>-36298.0</td>\n",
       "      <td>0.0</td>\n",
       "      <td>-267501.0</td>\n",
       "      <td>-104034.0</td>\n",
       "      <td>-1750.0</td>\n",
       "      <td>-113663.0</td>\n",
       "    </tr>\n",
       "    <tr>\n",
       "      <th>2</th>\n",
       "      <td>CENTRAL &amp; SOUTH AMERICA</td>\n",
       "      <td>0.0</td>\n",
       "      <td>-8156.0</td>\n",
       "      <td>0.0</td>\n",
       "      <td>32183.0</td>\n",
       "      <td>7332.0</td>\n",
       "      <td>-25637.0</td>\n",
       "      <td>4989.0</td>\n",
       "    </tr>\n",
       "    <tr>\n",
       "      <th>3</th>\n",
       "      <td>EAST ASIA</td>\n",
       "      <td>0.0</td>\n",
       "      <td>-44855.0</td>\n",
       "      <td>770.0</td>\n",
       "      <td>734311.0</td>\n",
       "      <td>28283.0</td>\n",
       "      <td>-4877.0</td>\n",
       "      <td>17364.0</td>\n",
       "    </tr>\n",
       "    <tr>\n",
       "      <th>4</th>\n",
       "      <td>EASTERN EUROPE</td>\n",
       "      <td>0.0</td>\n",
       "      <td>-56000.0</td>\n",
       "      <td>0.0</td>\n",
       "      <td>80401.0</td>\n",
       "      <td>85304.0</td>\n",
       "      <td>-78831.0</td>\n",
       "      <td>-10520.0</td>\n",
       "    </tr>\n",
       "    <tr>\n",
       "      <th>5</th>\n",
       "      <td>NORTH AMERICA</td>\n",
       "      <td>0.0</td>\n",
       "      <td>-98180.0</td>\n",
       "      <td>0.0</td>\n",
       "      <td>-708871.0</td>\n",
       "      <td>-303199.0</td>\n",
       "      <td>-445309.0</td>\n",
       "      <td>-814374.0</td>\n",
       "    </tr>\n",
       "    <tr>\n",
       "      <th>6</th>\n",
       "      <td>SOUTH ASIA</td>\n",
       "      <td>0.0</td>\n",
       "      <td>1227656.0</td>\n",
       "      <td>1984766.0</td>\n",
       "      <td>3375819.0</td>\n",
       "      <td>344656.0</td>\n",
       "      <td>-158928.0</td>\n",
       "      <td>557941.0</td>\n",
       "    </tr>\n",
       "    <tr>\n",
       "      <th>7</th>\n",
       "      <td>SOUTH EAST ASIA</td>\n",
       "      <td>0.0</td>\n",
       "      <td>-28806.0</td>\n",
       "      <td>46726.0</td>\n",
       "      <td>921672.0</td>\n",
       "      <td>-552306.0</td>\n",
       "      <td>-112052.0</td>\n",
       "      <td>-2223296.0</td>\n",
       "    </tr>\n",
       "    <tr>\n",
       "      <th>8</th>\n",
       "      <td>WEST ASIA</td>\n",
       "      <td>0.0</td>\n",
       "      <td>-5259.0</td>\n",
       "      <td>0.0</td>\n",
       "      <td>-3205785.0</td>\n",
       "      <td>-3868251.0</td>\n",
       "      <td>-5389390.0</td>\n",
       "      <td>-11371669.0</td>\n",
       "    </tr>\n",
       "    <tr>\n",
       "      <th>9</th>\n",
       "      <td>WESTERN EUROPE</td>\n",
       "      <td>0.0</td>\n",
       "      <td>-111040.0</td>\n",
       "      <td>0.0</td>\n",
       "      <td>-102045.0</td>\n",
       "      <td>16434.0</td>\n",
       "      <td>-411116.0</td>\n",
       "      <td>-722620.0</td>\n",
       "    </tr>\n",
       "  </tbody>\n",
       "</table>\n",
       "</div>"
      ],
      "text/plain": [
       "                 CONTINENT  2014(In-Out)  2016(In-Out)  2017(In-Out)  2019(In-Out)  2020(In-Out)  2021(In-Out)  2022(In-Out)\n",
       "0                   AFRICA           0.0       -8333.0           0.0     -133281.0      -49385.0     -118820.0     -126399.0\n",
       "1              AUSTRALASIA           0.0      -36298.0           0.0     -267501.0     -104034.0       -1750.0     -113663.0\n",
       "2  CENTRAL & SOUTH AMERICA           0.0       -8156.0           0.0       32183.0        7332.0      -25637.0        4989.0\n",
       "3                EAST ASIA           0.0      -44855.0         770.0      734311.0       28283.0       -4877.0       17364.0\n",
       "4           EASTERN EUROPE           0.0      -56000.0           0.0       80401.0       85304.0      -78831.0      -10520.0\n",
       "5            NORTH AMERICA           0.0      -98180.0           0.0     -708871.0     -303199.0     -445309.0     -814374.0\n",
       "6               SOUTH ASIA           0.0     1227656.0     1984766.0     3375819.0      344656.0     -158928.0      557941.0\n",
       "7          SOUTH EAST ASIA           0.0      -28806.0       46726.0      921672.0     -552306.0     -112052.0    -2223296.0\n",
       "8                WEST ASIA           0.0       -5259.0           0.0    -3205785.0    -3868251.0    -5389390.0   -11371669.0\n",
       "9           WESTERN EUROPE           0.0     -111040.0           0.0     -102045.0       16434.0     -411116.0     -722620.0"
      ]
     },
     "execution_count": 35,
     "metadata": {},
     "output_type": "execute_result"
    }
   ],
   "source": [
    "Difference_Continentwise_df"
   ]
  },
  {
   "cell_type": "code",
   "execution_count": null,
   "metadata": {},
   "outputs": [],
   "source": [
    "Difference_Continentwise_df.to_csv(\"Difference_Continentwise.csv\",index=False)"
   ]
  },
  {
   "cell_type": "markdown",
   "metadata": {},
   "source": [
    "## Graphs"
   ]
  },
  {
   "cell_type": "code",
   "execution_count": 37,
   "metadata": {},
   "outputs": [
    {
     "data": {
      "application/vnd.plotly.v1+json": {
       "config": {
        "plotlyServerURL": "https://plot.ly"
       },
       "data": [
        {
         "alignmentgroup": "True",
         "hovertemplate": "Year=2014(In-Out)<br>Continent=%{x}<br>Difference (In-Out)=%{y}<extra></extra>",
         "legendgroup": "2014(In-Out)",
         "marker": {
          "color": "#636efa",
          "pattern": {
           "shape": ""
          }
         },
         "name": "2014(In-Out)",
         "offsetgroup": "2014(In-Out)",
         "orientation": "v",
         "showlegend": true,
         "textposition": "auto",
         "type": "bar",
         "x": [
          "AFRICA",
          "AUSTRALASIA",
          "CENTRAL & SOUTH AMERICA",
          "EAST ASIA",
          "EASTERN EUROPE",
          "NORTH AMERICA",
          "SOUTH ASIA",
          "SOUTH EAST ASIA",
          "WEST ASIA",
          "WESTERN EUROPE"
         ],
         "xaxis": "x",
         "y": [
          0,
          0,
          0,
          0,
          0,
          0,
          0,
          0,
          0,
          0
         ],
         "yaxis": "y"
        },
        {
         "alignmentgroup": "True",
         "hovertemplate": "Year=2016(In-Out)<br>Continent=%{x}<br>Difference (In-Out)=%{y}<extra></extra>",
         "legendgroup": "2016(In-Out)",
         "marker": {
          "color": "#EF553B",
          "pattern": {
           "shape": ""
          }
         },
         "name": "2016(In-Out)",
         "offsetgroup": "2016(In-Out)",
         "orientation": "v",
         "showlegend": true,
         "textposition": "auto",
         "type": "bar",
         "x": [
          "AFRICA",
          "AUSTRALASIA",
          "CENTRAL & SOUTH AMERICA",
          "EAST ASIA",
          "EASTERN EUROPE",
          "NORTH AMERICA",
          "SOUTH ASIA",
          "SOUTH EAST ASIA",
          "WEST ASIA",
          "WESTERN EUROPE"
         ],
         "xaxis": "x",
         "y": [
          -8333,
          -36298,
          -8156,
          -44855,
          -56000,
          -98180,
          1227656,
          -28806,
          -5259,
          -111040
         ],
         "yaxis": "y"
        },
        {
         "alignmentgroup": "True",
         "hovertemplate": "Year=2017(In-Out)<br>Continent=%{x}<br>Difference (In-Out)=%{y}<extra></extra>",
         "legendgroup": "2017(In-Out)",
         "marker": {
          "color": "#00cc96",
          "pattern": {
           "shape": ""
          }
         },
         "name": "2017(In-Out)",
         "offsetgroup": "2017(In-Out)",
         "orientation": "v",
         "showlegend": true,
         "textposition": "auto",
         "type": "bar",
         "x": [
          "AFRICA",
          "AUSTRALASIA",
          "CENTRAL & SOUTH AMERICA",
          "EAST ASIA",
          "EASTERN EUROPE",
          "NORTH AMERICA",
          "SOUTH ASIA",
          "SOUTH EAST ASIA",
          "WEST ASIA",
          "WESTERN EUROPE"
         ],
         "xaxis": "x",
         "y": [
          0,
          0,
          0,
          770,
          0,
          0,
          1984766,
          46726,
          0,
          0
         ],
         "yaxis": "y"
        },
        {
         "alignmentgroup": "True",
         "hovertemplate": "Year=2019(In-Out)<br>Continent=%{x}<br>Difference (In-Out)=%{y}<extra></extra>",
         "legendgroup": "2019(In-Out)",
         "marker": {
          "color": "#ab63fa",
          "pattern": {
           "shape": ""
          }
         },
         "name": "2019(In-Out)",
         "offsetgroup": "2019(In-Out)",
         "orientation": "v",
         "showlegend": true,
         "textposition": "auto",
         "type": "bar",
         "x": [
          "AFRICA",
          "AUSTRALASIA",
          "CENTRAL & SOUTH AMERICA",
          "EAST ASIA",
          "EASTERN EUROPE",
          "NORTH AMERICA",
          "SOUTH ASIA",
          "SOUTH EAST ASIA",
          "WEST ASIA",
          "WESTERN EUROPE"
         ],
         "xaxis": "x",
         "y": [
          -133281,
          -267501,
          32183,
          734311,
          80401,
          -708871,
          3375819,
          921672,
          -3205785,
          -102045
         ],
         "yaxis": "y"
        },
        {
         "alignmentgroup": "True",
         "hovertemplate": "Year=2020(In-Out)<br>Continent=%{x}<br>Difference (In-Out)=%{y}<extra></extra>",
         "legendgroup": "2020(In-Out)",
         "marker": {
          "color": "#FFA15A",
          "pattern": {
           "shape": ""
          }
         },
         "name": "2020(In-Out)",
         "offsetgroup": "2020(In-Out)",
         "orientation": "v",
         "showlegend": true,
         "textposition": "auto",
         "type": "bar",
         "x": [
          "AFRICA",
          "AUSTRALASIA",
          "CENTRAL & SOUTH AMERICA",
          "EAST ASIA",
          "EASTERN EUROPE",
          "NORTH AMERICA",
          "SOUTH ASIA",
          "SOUTH EAST ASIA",
          "WEST ASIA",
          "WESTERN EUROPE"
         ],
         "xaxis": "x",
         "y": [
          -49385,
          -104034,
          7332,
          28283,
          85304,
          -303199,
          344656,
          -552306,
          -3868251,
          16434
         ],
         "yaxis": "y"
        },
        {
         "alignmentgroup": "True",
         "hovertemplate": "Year=2021(In-Out)<br>Continent=%{x}<br>Difference (In-Out)=%{y}<extra></extra>",
         "legendgroup": "2021(In-Out)",
         "marker": {
          "color": "#19d3f3",
          "pattern": {
           "shape": ""
          }
         },
         "name": "2021(In-Out)",
         "offsetgroup": "2021(In-Out)",
         "orientation": "v",
         "showlegend": true,
         "textposition": "auto",
         "type": "bar",
         "x": [
          "AFRICA",
          "AUSTRALASIA",
          "CENTRAL & SOUTH AMERICA",
          "EAST ASIA",
          "EASTERN EUROPE",
          "NORTH AMERICA",
          "SOUTH ASIA",
          "SOUTH EAST ASIA",
          "WEST ASIA",
          "WESTERN EUROPE"
         ],
         "xaxis": "x",
         "y": [
          -118820,
          -1750,
          -25637,
          -4877,
          -78831,
          -445309,
          -158928,
          -112052,
          -5389390,
          -411116
         ],
         "yaxis": "y"
        },
        {
         "alignmentgroup": "True",
         "hovertemplate": "Year=2022(In-Out)<br>Continent=%{x}<br>Difference (In-Out)=%{y}<extra></extra>",
         "legendgroup": "2022(In-Out)",
         "marker": {
          "color": "#FF6692",
          "pattern": {
           "shape": ""
          }
         },
         "name": "2022(In-Out)",
         "offsetgroup": "2022(In-Out)",
         "orientation": "v",
         "showlegend": true,
         "textposition": "auto",
         "type": "bar",
         "x": [
          "AFRICA",
          "AUSTRALASIA",
          "CENTRAL & SOUTH AMERICA",
          "EAST ASIA",
          "EASTERN EUROPE",
          "NORTH AMERICA",
          "SOUTH ASIA",
          "SOUTH EAST ASIA",
          "WEST ASIA",
          "WESTERN EUROPE"
         ],
         "xaxis": "x",
         "y": [
          -126399,
          -113663,
          4989,
          17364,
          -10520,
          -814374,
          557941,
          -2223296,
          -11371669,
          -722620
         ],
         "yaxis": "y"
        }
       ],
       "layout": {
        "barmode": "group",
        "legend": {
         "title": {
          "text": "Year"
         },
         "tracegroupgap": 0
        },
        "template": {
         "data": {
          "bar": [
           {
            "error_x": {
             "color": "#2a3f5f"
            },
            "error_y": {
             "color": "#2a3f5f"
            },
            "marker": {
             "line": {
              "color": "#E5ECF6",
              "width": 0.5
             },
             "pattern": {
              "fillmode": "overlay",
              "size": 10,
              "solidity": 0.2
             }
            },
            "type": "bar"
           }
          ],
          "barpolar": [
           {
            "marker": {
             "line": {
              "color": "#E5ECF6",
              "width": 0.5
             },
             "pattern": {
              "fillmode": "overlay",
              "size": 10,
              "solidity": 0.2
             }
            },
            "type": "barpolar"
           }
          ],
          "carpet": [
           {
            "aaxis": {
             "endlinecolor": "#2a3f5f",
             "gridcolor": "white",
             "linecolor": "white",
             "minorgridcolor": "white",
             "startlinecolor": "#2a3f5f"
            },
            "baxis": {
             "endlinecolor": "#2a3f5f",
             "gridcolor": "white",
             "linecolor": "white",
             "minorgridcolor": "white",
             "startlinecolor": "#2a3f5f"
            },
            "type": "carpet"
           }
          ],
          "choropleth": [
           {
            "colorbar": {
             "outlinewidth": 0,
             "ticks": ""
            },
            "type": "choropleth"
           }
          ],
          "contour": [
           {
            "colorbar": {
             "outlinewidth": 0,
             "ticks": ""
            },
            "colorscale": [
             [
              0,
              "#0d0887"
             ],
             [
              0.1111111111111111,
              "#46039f"
             ],
             [
              0.2222222222222222,
              "#7201a8"
             ],
             [
              0.3333333333333333,
              "#9c179e"
             ],
             [
              0.4444444444444444,
              "#bd3786"
             ],
             [
              0.5555555555555556,
              "#d8576b"
             ],
             [
              0.6666666666666666,
              "#ed7953"
             ],
             [
              0.7777777777777778,
              "#fb9f3a"
             ],
             [
              0.8888888888888888,
              "#fdca26"
             ],
             [
              1,
              "#f0f921"
             ]
            ],
            "type": "contour"
           }
          ],
          "contourcarpet": [
           {
            "colorbar": {
             "outlinewidth": 0,
             "ticks": ""
            },
            "type": "contourcarpet"
           }
          ],
          "heatmap": [
           {
            "colorbar": {
             "outlinewidth": 0,
             "ticks": ""
            },
            "colorscale": [
             [
              0,
              "#0d0887"
             ],
             [
              0.1111111111111111,
              "#46039f"
             ],
             [
              0.2222222222222222,
              "#7201a8"
             ],
             [
              0.3333333333333333,
              "#9c179e"
             ],
             [
              0.4444444444444444,
              "#bd3786"
             ],
             [
              0.5555555555555556,
              "#d8576b"
             ],
             [
              0.6666666666666666,
              "#ed7953"
             ],
             [
              0.7777777777777778,
              "#fb9f3a"
             ],
             [
              0.8888888888888888,
              "#fdca26"
             ],
             [
              1,
              "#f0f921"
             ]
            ],
            "type": "heatmap"
           }
          ],
          "heatmapgl": [
           {
            "colorbar": {
             "outlinewidth": 0,
             "ticks": ""
            },
            "colorscale": [
             [
              0,
              "#0d0887"
             ],
             [
              0.1111111111111111,
              "#46039f"
             ],
             [
              0.2222222222222222,
              "#7201a8"
             ],
             [
              0.3333333333333333,
              "#9c179e"
             ],
             [
              0.4444444444444444,
              "#bd3786"
             ],
             [
              0.5555555555555556,
              "#d8576b"
             ],
             [
              0.6666666666666666,
              "#ed7953"
             ],
             [
              0.7777777777777778,
              "#fb9f3a"
             ],
             [
              0.8888888888888888,
              "#fdca26"
             ],
             [
              1,
              "#f0f921"
             ]
            ],
            "type": "heatmapgl"
           }
          ],
          "histogram": [
           {
            "marker": {
             "pattern": {
              "fillmode": "overlay",
              "size": 10,
              "solidity": 0.2
             }
            },
            "type": "histogram"
           }
          ],
          "histogram2d": [
           {
            "colorbar": {
             "outlinewidth": 0,
             "ticks": ""
            },
            "colorscale": [
             [
              0,
              "#0d0887"
             ],
             [
              0.1111111111111111,
              "#46039f"
             ],
             [
              0.2222222222222222,
              "#7201a8"
             ],
             [
              0.3333333333333333,
              "#9c179e"
             ],
             [
              0.4444444444444444,
              "#bd3786"
             ],
             [
              0.5555555555555556,
              "#d8576b"
             ],
             [
              0.6666666666666666,
              "#ed7953"
             ],
             [
              0.7777777777777778,
              "#fb9f3a"
             ],
             [
              0.8888888888888888,
              "#fdca26"
             ],
             [
              1,
              "#f0f921"
             ]
            ],
            "type": "histogram2d"
           }
          ],
          "histogram2dcontour": [
           {
            "colorbar": {
             "outlinewidth": 0,
             "ticks": ""
            },
            "colorscale": [
             [
              0,
              "#0d0887"
             ],
             [
              0.1111111111111111,
              "#46039f"
             ],
             [
              0.2222222222222222,
              "#7201a8"
             ],
             [
              0.3333333333333333,
              "#9c179e"
             ],
             [
              0.4444444444444444,
              "#bd3786"
             ],
             [
              0.5555555555555556,
              "#d8576b"
             ],
             [
              0.6666666666666666,
              "#ed7953"
             ],
             [
              0.7777777777777778,
              "#fb9f3a"
             ],
             [
              0.8888888888888888,
              "#fdca26"
             ],
             [
              1,
              "#f0f921"
             ]
            ],
            "type": "histogram2dcontour"
           }
          ],
          "mesh3d": [
           {
            "colorbar": {
             "outlinewidth": 0,
             "ticks": ""
            },
            "type": "mesh3d"
           }
          ],
          "parcoords": [
           {
            "line": {
             "colorbar": {
              "outlinewidth": 0,
              "ticks": ""
             }
            },
            "type": "parcoords"
           }
          ],
          "pie": [
           {
            "automargin": true,
            "type": "pie"
           }
          ],
          "scatter": [
           {
            "fillpattern": {
             "fillmode": "overlay",
             "size": 10,
             "solidity": 0.2
            },
            "type": "scatter"
           }
          ],
          "scatter3d": [
           {
            "line": {
             "colorbar": {
              "outlinewidth": 0,
              "ticks": ""
             }
            },
            "marker": {
             "colorbar": {
              "outlinewidth": 0,
              "ticks": ""
             }
            },
            "type": "scatter3d"
           }
          ],
          "scattercarpet": [
           {
            "marker": {
             "colorbar": {
              "outlinewidth": 0,
              "ticks": ""
             }
            },
            "type": "scattercarpet"
           }
          ],
          "scattergeo": [
           {
            "marker": {
             "colorbar": {
              "outlinewidth": 0,
              "ticks": ""
             }
            },
            "type": "scattergeo"
           }
          ],
          "scattergl": [
           {
            "marker": {
             "colorbar": {
              "outlinewidth": 0,
              "ticks": ""
             }
            },
            "type": "scattergl"
           }
          ],
          "scattermapbox": [
           {
            "marker": {
             "colorbar": {
              "outlinewidth": 0,
              "ticks": ""
             }
            },
            "type": "scattermapbox"
           }
          ],
          "scatterpolar": [
           {
            "marker": {
             "colorbar": {
              "outlinewidth": 0,
              "ticks": ""
             }
            },
            "type": "scatterpolar"
           }
          ],
          "scatterpolargl": [
           {
            "marker": {
             "colorbar": {
              "outlinewidth": 0,
              "ticks": ""
             }
            },
            "type": "scatterpolargl"
           }
          ],
          "scatterternary": [
           {
            "marker": {
             "colorbar": {
              "outlinewidth": 0,
              "ticks": ""
             }
            },
            "type": "scatterternary"
           }
          ],
          "surface": [
           {
            "colorbar": {
             "outlinewidth": 0,
             "ticks": ""
            },
            "colorscale": [
             [
              0,
              "#0d0887"
             ],
             [
              0.1111111111111111,
              "#46039f"
             ],
             [
              0.2222222222222222,
              "#7201a8"
             ],
             [
              0.3333333333333333,
              "#9c179e"
             ],
             [
              0.4444444444444444,
              "#bd3786"
             ],
             [
              0.5555555555555556,
              "#d8576b"
             ],
             [
              0.6666666666666666,
              "#ed7953"
             ],
             [
              0.7777777777777778,
              "#fb9f3a"
             ],
             [
              0.8888888888888888,
              "#fdca26"
             ],
             [
              1,
              "#f0f921"
             ]
            ],
            "type": "surface"
           }
          ],
          "table": [
           {
            "cells": {
             "fill": {
              "color": "#EBF0F8"
             },
             "line": {
              "color": "white"
             }
            },
            "header": {
             "fill": {
              "color": "#C8D4E3"
             },
             "line": {
              "color": "white"
             }
            },
            "type": "table"
           }
          ]
         },
         "layout": {
          "annotationdefaults": {
           "arrowcolor": "#2a3f5f",
           "arrowhead": 0,
           "arrowwidth": 1
          },
          "autotypenumbers": "strict",
          "coloraxis": {
           "colorbar": {
            "outlinewidth": 0,
            "ticks": ""
           }
          },
          "colorscale": {
           "diverging": [
            [
             0,
             "#8e0152"
            ],
            [
             0.1,
             "#c51b7d"
            ],
            [
             0.2,
             "#de77ae"
            ],
            [
             0.3,
             "#f1b6da"
            ],
            [
             0.4,
             "#fde0ef"
            ],
            [
             0.5,
             "#f7f7f7"
            ],
            [
             0.6,
             "#e6f5d0"
            ],
            [
             0.7,
             "#b8e186"
            ],
            [
             0.8,
             "#7fbc41"
            ],
            [
             0.9,
             "#4d9221"
            ],
            [
             1,
             "#276419"
            ]
           ],
           "sequential": [
            [
             0,
             "#0d0887"
            ],
            [
             0.1111111111111111,
             "#46039f"
            ],
            [
             0.2222222222222222,
             "#7201a8"
            ],
            [
             0.3333333333333333,
             "#9c179e"
            ],
            [
             0.4444444444444444,
             "#bd3786"
            ],
            [
             0.5555555555555556,
             "#d8576b"
            ],
            [
             0.6666666666666666,
             "#ed7953"
            ],
            [
             0.7777777777777778,
             "#fb9f3a"
            ],
            [
             0.8888888888888888,
             "#fdca26"
            ],
            [
             1,
             "#f0f921"
            ]
           ],
           "sequentialminus": [
            [
             0,
             "#0d0887"
            ],
            [
             0.1111111111111111,
             "#46039f"
            ],
            [
             0.2222222222222222,
             "#7201a8"
            ],
            [
             0.3333333333333333,
             "#9c179e"
            ],
            [
             0.4444444444444444,
             "#bd3786"
            ],
            [
             0.5555555555555556,
             "#d8576b"
            ],
            [
             0.6666666666666666,
             "#ed7953"
            ],
            [
             0.7777777777777778,
             "#fb9f3a"
            ],
            [
             0.8888888888888888,
             "#fdca26"
            ],
            [
             1,
             "#f0f921"
            ]
           ]
          },
          "colorway": [
           "#636efa",
           "#EF553B",
           "#00cc96",
           "#ab63fa",
           "#FFA15A",
           "#19d3f3",
           "#FF6692",
           "#B6E880",
           "#FF97FF",
           "#FECB52"
          ],
          "font": {
           "color": "#2a3f5f"
          },
          "geo": {
           "bgcolor": "white",
           "lakecolor": "white",
           "landcolor": "#E5ECF6",
           "showlakes": true,
           "showland": true,
           "subunitcolor": "white"
          },
          "hoverlabel": {
           "align": "left"
          },
          "hovermode": "closest",
          "mapbox": {
           "style": "light"
          },
          "paper_bgcolor": "white",
          "plot_bgcolor": "#E5ECF6",
          "polar": {
           "angularaxis": {
            "gridcolor": "white",
            "linecolor": "white",
            "ticks": ""
           },
           "bgcolor": "#E5ECF6",
           "radialaxis": {
            "gridcolor": "white",
            "linecolor": "white",
            "ticks": ""
           }
          },
          "scene": {
           "xaxis": {
            "backgroundcolor": "#E5ECF6",
            "gridcolor": "white",
            "gridwidth": 2,
            "linecolor": "white",
            "showbackground": true,
            "ticks": "",
            "zerolinecolor": "white"
           },
           "yaxis": {
            "backgroundcolor": "#E5ECF6",
            "gridcolor": "white",
            "gridwidth": 2,
            "linecolor": "white",
            "showbackground": true,
            "ticks": "",
            "zerolinecolor": "white"
           },
           "zaxis": {
            "backgroundcolor": "#E5ECF6",
            "gridcolor": "white",
            "gridwidth": 2,
            "linecolor": "white",
            "showbackground": true,
            "ticks": "",
            "zerolinecolor": "white"
           }
          },
          "shapedefaults": {
           "line": {
            "color": "#2a3f5f"
           }
          },
          "ternary": {
           "aaxis": {
            "gridcolor": "white",
            "linecolor": "white",
            "ticks": ""
           },
           "baxis": {
            "gridcolor": "white",
            "linecolor": "white",
            "ticks": ""
           },
           "bgcolor": "#E5ECF6",
           "caxis": {
            "gridcolor": "white",
            "linecolor": "white",
            "ticks": ""
           }
          },
          "title": {
           "x": 0.05
          },
          "xaxis": {
           "automargin": true,
           "gridcolor": "white",
           "linecolor": "white",
           "ticks": "",
           "title": {
            "standoff": 15
           },
           "zerolinecolor": "white",
           "zerolinewidth": 2
          },
          "yaxis": {
           "automargin": true,
           "gridcolor": "white",
           "linecolor": "white",
           "ticks": "",
           "title": {
            "standoff": 15
           },
           "zerolinecolor": "white",
           "zerolinewidth": 2
          }
         }
        },
        "title": {
         "text": "Continent-wise Difference of Arrivals and Departures"
        },
        "xaxis": {
         "anchor": "y",
         "domain": [
          0,
          1
         ],
         "title": {
          "text": "Continent"
         }
        },
        "yaxis": {
         "anchor": "x",
         "domain": [
          0,
          1
         ],
         "title": {
          "text": "Difference (In-Out)"
         }
        }
       }
      }
     },
     "metadata": {},
     "output_type": "display_data"
    }
   ],
   "source": [
    "import plotly.express as px\n",
    "\n",
    "# Assuming Difference_continent is the DataFrame containing the differences\n",
    "\n",
    "# Melt the DataFrame to make it easier to plot\n",
    "Difference_continent_melted = Difference_Continentwise_df.melt(id_vars=['CONTINENT'], \n",
    "                                                        value_vars=['2014(In-Out)', '2016(In-Out)', '2017(In-Out)', \n",
    "                                                                    '2019(In-Out)', '2020(In-Out)', '2021(In-Out)', '2022(In-Out)'], \n",
    "                                                        var_name='Year', \n",
    "                                                        value_name='Difference')\n",
    "\n",
    "# Create an interactive bar plot using Plotly\n",
    "fig = px.bar(Difference_continent_melted, \n",
    "             x='CONTINENT', \n",
    "             y='Difference', \n",
    "             color='Year', \n",
    "             barmode='group', \n",
    "             title=\"Continent-wise Difference of Arrivals and Departures\",\n",
    "             labels={\"CONTINENT\": \"Continent\", \"Difference\": \"Difference (In-Out)\", \"Year\": \"Year\"})\n",
    "\n",
    "# Show the plot\n",
    "fig.show()"
   ]
  },
  {
   "cell_type": "code",
   "execution_count": 38,
   "metadata": {},
   "outputs": [
    {
     "data": {
      "application/vnd.plotly.v1+json": {
       "config": {
        "plotlyServerURL": "https://plot.ly"
       },
       "data": [
        {
         "coloraxis": "coloraxis",
         "hovertemplate": "Continent: %{x}<br>Year: %{y}<br>Difference (In-Out): %{z}<extra></extra>",
         "name": "0",
         "type": "heatmap",
         "x": [
          "AFRICA",
          "AUSTRALASIA",
          "CENTRAL & SOUTH AMERICA",
          "EAST ASIA",
          "EASTERN EUROPE",
          "NORTH AMERICA",
          "SOUTH ASIA",
          "SOUTH EAST ASIA",
          "WEST ASIA",
          "WESTERN EUROPE"
         ],
         "xaxis": "x",
         "y": [
          "2014(In-Out)",
          "2016(In-Out)",
          "2017(In-Out)",
          "2019(In-Out)",
          "2020(In-Out)",
          "2021(In-Out)",
          "2022(In-Out)"
         ],
         "yaxis": "y",
         "z": [
          [
           0,
           0,
           0,
           0,
           0,
           0,
           0,
           0,
           0,
           0
          ],
          [
           -8333,
           -36298,
           -8156,
           -44855,
           -56000,
           -98180,
           1227656,
           -28806,
           -5259,
           -111040
          ],
          [
           0,
           0,
           0,
           770,
           0,
           0,
           1984766,
           46726,
           0,
           0
          ],
          [
           -133281,
           -267501,
           32183,
           734311,
           80401,
           -708871,
           3375819,
           921672,
           -3205785,
           -102045
          ],
          [
           -49385,
           -104034,
           7332,
           28283,
           85304,
           -303199,
           344656,
           -552306,
           -3868251,
           16434
          ],
          [
           -118820,
           -1750,
           -25637,
           -4877,
           -78831,
           -445309,
           -158928,
           -112052,
           -5389390,
           -411116
          ],
          [
           -126399,
           -113663,
           4989,
           17364,
           -10520,
           -814374,
           557941,
           -2223296,
           -11371669,
           -722620
          ]
         ]
        }
       ],
       "layout": {
        "coloraxis": {
         "colorbar": {
          "title": {
           "text": "Difference (In-Out)"
          }
         },
         "colorscale": [
          [
           0,
           "rgb(165,0,38)"
          ],
          [
           0.1,
           "rgb(215,48,39)"
          ],
          [
           0.2,
           "rgb(244,109,67)"
          ],
          [
           0.3,
           "rgb(253,174,97)"
          ],
          [
           0.4,
           "rgb(254,224,139)"
          ],
          [
           0.5,
           "rgb(255,255,191)"
          ],
          [
           0.6,
           "rgb(217,239,139)"
          ],
          [
           0.7,
           "rgb(166,217,106)"
          ],
          [
           0.8,
           "rgb(102,189,99)"
          ],
          [
           0.9,
           "rgb(26,152,80)"
          ],
          [
           1,
           "rgb(0,104,55)"
          ]
         ]
        },
        "template": {
         "data": {
          "bar": [
           {
            "error_x": {
             "color": "#2a3f5f"
            },
            "error_y": {
             "color": "#2a3f5f"
            },
            "marker": {
             "line": {
              "color": "#E5ECF6",
              "width": 0.5
             },
             "pattern": {
              "fillmode": "overlay",
              "size": 10,
              "solidity": 0.2
             }
            },
            "type": "bar"
           }
          ],
          "barpolar": [
           {
            "marker": {
             "line": {
              "color": "#E5ECF6",
              "width": 0.5
             },
             "pattern": {
              "fillmode": "overlay",
              "size": 10,
              "solidity": 0.2
             }
            },
            "type": "barpolar"
           }
          ],
          "carpet": [
           {
            "aaxis": {
             "endlinecolor": "#2a3f5f",
             "gridcolor": "white",
             "linecolor": "white",
             "minorgridcolor": "white",
             "startlinecolor": "#2a3f5f"
            },
            "baxis": {
             "endlinecolor": "#2a3f5f",
             "gridcolor": "white",
             "linecolor": "white",
             "minorgridcolor": "white",
             "startlinecolor": "#2a3f5f"
            },
            "type": "carpet"
           }
          ],
          "choropleth": [
           {
            "colorbar": {
             "outlinewidth": 0,
             "ticks": ""
            },
            "type": "choropleth"
           }
          ],
          "contour": [
           {
            "colorbar": {
             "outlinewidth": 0,
             "ticks": ""
            },
            "colorscale": [
             [
              0,
              "#0d0887"
             ],
             [
              0.1111111111111111,
              "#46039f"
             ],
             [
              0.2222222222222222,
              "#7201a8"
             ],
             [
              0.3333333333333333,
              "#9c179e"
             ],
             [
              0.4444444444444444,
              "#bd3786"
             ],
             [
              0.5555555555555556,
              "#d8576b"
             ],
             [
              0.6666666666666666,
              "#ed7953"
             ],
             [
              0.7777777777777778,
              "#fb9f3a"
             ],
             [
              0.8888888888888888,
              "#fdca26"
             ],
             [
              1,
              "#f0f921"
             ]
            ],
            "type": "contour"
           }
          ],
          "contourcarpet": [
           {
            "colorbar": {
             "outlinewidth": 0,
             "ticks": ""
            },
            "type": "contourcarpet"
           }
          ],
          "heatmap": [
           {
            "colorbar": {
             "outlinewidth": 0,
             "ticks": ""
            },
            "colorscale": [
             [
              0,
              "#0d0887"
             ],
             [
              0.1111111111111111,
              "#46039f"
             ],
             [
              0.2222222222222222,
              "#7201a8"
             ],
             [
              0.3333333333333333,
              "#9c179e"
             ],
             [
              0.4444444444444444,
              "#bd3786"
             ],
             [
              0.5555555555555556,
              "#d8576b"
             ],
             [
              0.6666666666666666,
              "#ed7953"
             ],
             [
              0.7777777777777778,
              "#fb9f3a"
             ],
             [
              0.8888888888888888,
              "#fdca26"
             ],
             [
              1,
              "#f0f921"
             ]
            ],
            "type": "heatmap"
           }
          ],
          "heatmapgl": [
           {
            "colorbar": {
             "outlinewidth": 0,
             "ticks": ""
            },
            "colorscale": [
             [
              0,
              "#0d0887"
             ],
             [
              0.1111111111111111,
              "#46039f"
             ],
             [
              0.2222222222222222,
              "#7201a8"
             ],
             [
              0.3333333333333333,
              "#9c179e"
             ],
             [
              0.4444444444444444,
              "#bd3786"
             ],
             [
              0.5555555555555556,
              "#d8576b"
             ],
             [
              0.6666666666666666,
              "#ed7953"
             ],
             [
              0.7777777777777778,
              "#fb9f3a"
             ],
             [
              0.8888888888888888,
              "#fdca26"
             ],
             [
              1,
              "#f0f921"
             ]
            ],
            "type": "heatmapgl"
           }
          ],
          "histogram": [
           {
            "marker": {
             "pattern": {
              "fillmode": "overlay",
              "size": 10,
              "solidity": 0.2
             }
            },
            "type": "histogram"
           }
          ],
          "histogram2d": [
           {
            "colorbar": {
             "outlinewidth": 0,
             "ticks": ""
            },
            "colorscale": [
             [
              0,
              "#0d0887"
             ],
             [
              0.1111111111111111,
              "#46039f"
             ],
             [
              0.2222222222222222,
              "#7201a8"
             ],
             [
              0.3333333333333333,
              "#9c179e"
             ],
             [
              0.4444444444444444,
              "#bd3786"
             ],
             [
              0.5555555555555556,
              "#d8576b"
             ],
             [
              0.6666666666666666,
              "#ed7953"
             ],
             [
              0.7777777777777778,
              "#fb9f3a"
             ],
             [
              0.8888888888888888,
              "#fdca26"
             ],
             [
              1,
              "#f0f921"
             ]
            ],
            "type": "histogram2d"
           }
          ],
          "histogram2dcontour": [
           {
            "colorbar": {
             "outlinewidth": 0,
             "ticks": ""
            },
            "colorscale": [
             [
              0,
              "#0d0887"
             ],
             [
              0.1111111111111111,
              "#46039f"
             ],
             [
              0.2222222222222222,
              "#7201a8"
             ],
             [
              0.3333333333333333,
              "#9c179e"
             ],
             [
              0.4444444444444444,
              "#bd3786"
             ],
             [
              0.5555555555555556,
              "#d8576b"
             ],
             [
              0.6666666666666666,
              "#ed7953"
             ],
             [
              0.7777777777777778,
              "#fb9f3a"
             ],
             [
              0.8888888888888888,
              "#fdca26"
             ],
             [
              1,
              "#f0f921"
             ]
            ],
            "type": "histogram2dcontour"
           }
          ],
          "mesh3d": [
           {
            "colorbar": {
             "outlinewidth": 0,
             "ticks": ""
            },
            "type": "mesh3d"
           }
          ],
          "parcoords": [
           {
            "line": {
             "colorbar": {
              "outlinewidth": 0,
              "ticks": ""
             }
            },
            "type": "parcoords"
           }
          ],
          "pie": [
           {
            "automargin": true,
            "type": "pie"
           }
          ],
          "scatter": [
           {
            "fillpattern": {
             "fillmode": "overlay",
             "size": 10,
             "solidity": 0.2
            },
            "type": "scatter"
           }
          ],
          "scatter3d": [
           {
            "line": {
             "colorbar": {
              "outlinewidth": 0,
              "ticks": ""
             }
            },
            "marker": {
             "colorbar": {
              "outlinewidth": 0,
              "ticks": ""
             }
            },
            "type": "scatter3d"
           }
          ],
          "scattercarpet": [
           {
            "marker": {
             "colorbar": {
              "outlinewidth": 0,
              "ticks": ""
             }
            },
            "type": "scattercarpet"
           }
          ],
          "scattergeo": [
           {
            "marker": {
             "colorbar": {
              "outlinewidth": 0,
              "ticks": ""
             }
            },
            "type": "scattergeo"
           }
          ],
          "scattergl": [
           {
            "marker": {
             "colorbar": {
              "outlinewidth": 0,
              "ticks": ""
             }
            },
            "type": "scattergl"
           }
          ],
          "scattermapbox": [
           {
            "marker": {
             "colorbar": {
              "outlinewidth": 0,
              "ticks": ""
             }
            },
            "type": "scattermapbox"
           }
          ],
          "scatterpolar": [
           {
            "marker": {
             "colorbar": {
              "outlinewidth": 0,
              "ticks": ""
             }
            },
            "type": "scatterpolar"
           }
          ],
          "scatterpolargl": [
           {
            "marker": {
             "colorbar": {
              "outlinewidth": 0,
              "ticks": ""
             }
            },
            "type": "scatterpolargl"
           }
          ],
          "scatterternary": [
           {
            "marker": {
             "colorbar": {
              "outlinewidth": 0,
              "ticks": ""
             }
            },
            "type": "scatterternary"
           }
          ],
          "surface": [
           {
            "colorbar": {
             "outlinewidth": 0,
             "ticks": ""
            },
            "colorscale": [
             [
              0,
              "#0d0887"
             ],
             [
              0.1111111111111111,
              "#46039f"
             ],
             [
              0.2222222222222222,
              "#7201a8"
             ],
             [
              0.3333333333333333,
              "#9c179e"
             ],
             [
              0.4444444444444444,
              "#bd3786"
             ],
             [
              0.5555555555555556,
              "#d8576b"
             ],
             [
              0.6666666666666666,
              "#ed7953"
             ],
             [
              0.7777777777777778,
              "#fb9f3a"
             ],
             [
              0.8888888888888888,
              "#fdca26"
             ],
             [
              1,
              "#f0f921"
             ]
            ],
            "type": "surface"
           }
          ],
          "table": [
           {
            "cells": {
             "fill": {
              "color": "#EBF0F8"
             },
             "line": {
              "color": "white"
             }
            },
            "header": {
             "fill": {
              "color": "#C8D4E3"
             },
             "line": {
              "color": "white"
             }
            },
            "type": "table"
           }
          ]
         },
         "layout": {
          "annotationdefaults": {
           "arrowcolor": "#2a3f5f",
           "arrowhead": 0,
           "arrowwidth": 1
          },
          "autotypenumbers": "strict",
          "coloraxis": {
           "colorbar": {
            "outlinewidth": 0,
            "ticks": ""
           }
          },
          "colorscale": {
           "diverging": [
            [
             0,
             "#8e0152"
            ],
            [
             0.1,
             "#c51b7d"
            ],
            [
             0.2,
             "#de77ae"
            ],
            [
             0.3,
             "#f1b6da"
            ],
            [
             0.4,
             "#fde0ef"
            ],
            [
             0.5,
             "#f7f7f7"
            ],
            [
             0.6,
             "#e6f5d0"
            ],
            [
             0.7,
             "#b8e186"
            ],
            [
             0.8,
             "#7fbc41"
            ],
            [
             0.9,
             "#4d9221"
            ],
            [
             1,
             "#276419"
            ]
           ],
           "sequential": [
            [
             0,
             "#0d0887"
            ],
            [
             0.1111111111111111,
             "#46039f"
            ],
            [
             0.2222222222222222,
             "#7201a8"
            ],
            [
             0.3333333333333333,
             "#9c179e"
            ],
            [
             0.4444444444444444,
             "#bd3786"
            ],
            [
             0.5555555555555556,
             "#d8576b"
            ],
            [
             0.6666666666666666,
             "#ed7953"
            ],
            [
             0.7777777777777778,
             "#fb9f3a"
            ],
            [
             0.8888888888888888,
             "#fdca26"
            ],
            [
             1,
             "#f0f921"
            ]
           ],
           "sequentialminus": [
            [
             0,
             "#0d0887"
            ],
            [
             0.1111111111111111,
             "#46039f"
            ],
            [
             0.2222222222222222,
             "#7201a8"
            ],
            [
             0.3333333333333333,
             "#9c179e"
            ],
            [
             0.4444444444444444,
             "#bd3786"
            ],
            [
             0.5555555555555556,
             "#d8576b"
            ],
            [
             0.6666666666666666,
             "#ed7953"
            ],
            [
             0.7777777777777778,
             "#fb9f3a"
            ],
            [
             0.8888888888888888,
             "#fdca26"
            ],
            [
             1,
             "#f0f921"
            ]
           ]
          },
          "colorway": [
           "#636efa",
           "#EF553B",
           "#00cc96",
           "#ab63fa",
           "#FFA15A",
           "#19d3f3",
           "#FF6692",
           "#B6E880",
           "#FF97FF",
           "#FECB52"
          ],
          "font": {
           "color": "#2a3f5f"
          },
          "geo": {
           "bgcolor": "white",
           "lakecolor": "white",
           "landcolor": "#E5ECF6",
           "showlakes": true,
           "showland": true,
           "subunitcolor": "white"
          },
          "hoverlabel": {
           "align": "left"
          },
          "hovermode": "closest",
          "mapbox": {
           "style": "light"
          },
          "paper_bgcolor": "white",
          "plot_bgcolor": "#E5ECF6",
          "polar": {
           "angularaxis": {
            "gridcolor": "white",
            "linecolor": "white",
            "ticks": ""
           },
           "bgcolor": "#E5ECF6",
           "radialaxis": {
            "gridcolor": "white",
            "linecolor": "white",
            "ticks": ""
           }
          },
          "scene": {
           "xaxis": {
            "backgroundcolor": "#E5ECF6",
            "gridcolor": "white",
            "gridwidth": 2,
            "linecolor": "white",
            "showbackground": true,
            "ticks": "",
            "zerolinecolor": "white"
           },
           "yaxis": {
            "backgroundcolor": "#E5ECF6",
            "gridcolor": "white",
            "gridwidth": 2,
            "linecolor": "white",
            "showbackground": true,
            "ticks": "",
            "zerolinecolor": "white"
           },
           "zaxis": {
            "backgroundcolor": "#E5ECF6",
            "gridcolor": "white",
            "gridwidth": 2,
            "linecolor": "white",
            "showbackground": true,
            "ticks": "",
            "zerolinecolor": "white"
           }
          },
          "shapedefaults": {
           "line": {
            "color": "#2a3f5f"
           }
          },
          "ternary": {
           "aaxis": {
            "gridcolor": "white",
            "linecolor": "white",
            "ticks": ""
           },
           "baxis": {
            "gridcolor": "white",
            "linecolor": "white",
            "ticks": ""
           },
           "bgcolor": "#E5ECF6",
           "caxis": {
            "gridcolor": "white",
            "linecolor": "white",
            "ticks": ""
           }
          },
          "title": {
           "x": 0.05
          },
          "xaxis": {
           "automargin": true,
           "gridcolor": "white",
           "linecolor": "white",
           "ticks": "",
           "title": {
            "standoff": 15
           },
           "zerolinecolor": "white",
           "zerolinewidth": 2
          },
          "yaxis": {
           "automargin": true,
           "gridcolor": "white",
           "linecolor": "white",
           "ticks": "",
           "title": {
            "standoff": 15
           },
           "zerolinecolor": "white",
           "zerolinewidth": 2
          }
         }
        },
        "title": {
         "text": "Continent-wise Difference of Arrivals and Departures (Heatmap)"
        },
        "xaxis": {
         "anchor": "y",
         "domain": [
          0,
          1
         ],
         "title": {
          "text": "Continent"
         }
        },
        "yaxis": {
         "anchor": "x",
         "autorange": "reversed",
         "domain": [
          0,
          1
         ],
         "title": {
          "text": "Year"
         }
        }
       }
      }
     },
     "metadata": {},
     "output_type": "display_data"
    }
   ],
   "source": [
    "\n",
    "# Assuming Difference_continent is the DataFrame containing the differences\n",
    "\n",
    "# Set the 'CONTINENT' column as the index for easier plotting\n",
    "Difference_Continentwise_df.set_index('CONTINENT', inplace=True)\n",
    "\n",
    "# Create an interactive heatmap using Plotly\n",
    "fig = px.imshow(Difference_Continentwise_df.T,  # Transpose to have years as columns\n",
    "                labels=dict(x=\"Continent\", y=\"Year\", color=\"Difference (In-Out)\"),\n",
    "                x=Difference_Continentwise_df.index,  # x-axis will be continents\n",
    "                y=Difference_Continentwise_df.columns,  # y-axis will be years\n",
    "                title=\"Continent-wise Difference of Arrivals and Departures (Heatmap)\",\n",
    "                color_continuous_scale='RdYlGn',  # Color scale from red to green\n",
    "                aspect=\"auto\")  # Adjust aspect ratio\n",
    "\n",
    "# Show the plot\n",
    "fig.show()"
   ]
  }
 ],
 "metadata": {
  "kernelspec": {
   "display_name": ".venv",
   "language": "python",
   "name": "python3"
  },
  "language_info": {
   "codemirror_mode": {
    "name": "ipython",
    "version": 3
   },
   "file_extension": ".py",
   "mimetype": "text/x-python",
   "name": "python",
   "nbconvert_exporter": "python",
   "pygments_lexer": "ipython3",
   "version": "3.9.6"
  }
 },
 "nbformat": 4,
 "nbformat_minor": 2
}
