{
 "cells": [
  {
   "cell_type": "markdown",
   "metadata": {},
   "source": [
    "1. For every year, find the change in outgoing tourists in absolute and percentage termsfrom the last year.\n",
    "2. Do this for every month and the year as a whole.\n",
    "3. Which years show the highest positive and negative changes?\n",
    "4. For each month, find the changes across the entire data from the previous month.\n",
    "4. Which months show the highest positive and negative changes?"
   ]
  },
  {
   "cell_type": "code",
   "execution_count": 2,
   "metadata": {},
   "outputs": [],
   "source": [
    "# !pip install pandas\n",
    "# !pip install matplotlib\n",
    "# !pip install plotly\n",
    "# !pip install nbformat\n",
    "# !pip install seaborn"
   ]
  },
  {
   "cell_type": "markdown",
   "metadata": {},
   "source": [
    "# Data Preprcessing"
   ]
  },
  {
   "cell_type": "code",
   "execution_count": 3,
   "metadata": {},
   "outputs": [],
   "source": [
    "import pandas as pd"
   ]
  },
  {
   "cell_type": "code",
   "execution_count": 4,
   "metadata": {},
   "outputs": [],
   "source": [
    "pd.set_option('display.max_columns', None)  # Display all columns\n",
    "pd.set_option('display.expand_frame_repr', False)  # Prevent wrapping to new line\n",
    "pd.set_option('display.max_colwidth', None)  # No limit on column width"
   ]
  },
  {
   "cell_type": "code",
   "execution_count": 5,
   "metadata": {},
   "outputs": [],
   "source": [
    "df_2013=pd.read_excel(\"../data-students/TourismData-2013/MONTH WISE NUMBER & PERCENTAGE SHARE OF INDIAN NATIONALS DEPARTURES FROM INDIA.xlsx\")\n",
    "df_2014=pd.read_excel(\"../data-students/TourismData-2014/MONTH WISE NUMBER & PERCENTAGE SHARE OF INDIAN NATIONALS DEPARTURES FROM INDIA.xlsx\")\n",
    "df_2016=pd.read_excel(\"../data-students/TourismData-2016/MONTH WISE NUMBER & PERCENTAGE SHARE OF INDIAN NATIONALS DEPARTURES FROM INDIA.xlsx\")\n",
    "df_2017=pd.read_excel(\"../data-students/TourismData-2017/MONTH WISE NUMBER & PERCENTAGE SHARE OF INDIAN NATIONALS DEPARTURES FROM INDIA.xlsx\")\n",
    "df_2018=pd.read_excel(\"../data-students/TourismData-2018/MONTH WISE NUMBER & PERCENTAGE SHARE OF INDIAN NATIONALS DEPARTURES FROM INDIA.xlsx\")\n",
    "df_2019=pd.read_excel(\"../data-students/TourismData-2019/MONTH WISE NUMBER & PERCENTAGE SHARE OF INDIAN NATIONALS DEPARTURES FROM INDIA.xlsx\")\n",
    "df_2020=pd.read_excel(\"../data-students/TourismData-2020/MONTH WISE NUMBER & PERCENTAGE SHARE OF INDIAN NATIONALS DEPARTURES FROM INDIA.xlsx\")\n",
    "df_2021=pd.read_excel(\"../data-students/TourismData-2021/MONTH WISE NUMBER & PERCENTAGE SHARE OF INDIAN NATIONALS DEPARTURES FROM INDIA.xlsx\")\n",
    "df_2022=pd.read_excel(\"../data-students/TourismData-2022/MONTH WISE NUMBER & PERCENTAGE SHARE OF INDIAN NATIONALS DEPARTURES FROM INDIA.xlsx\")"
   ]
  },
  {
   "cell_type": "markdown",
   "metadata": {},
   "source": [
    "- 2015 data is missing"
   ]
  },
  {
   "cell_type": "code",
   "execution_count": 6,
   "metadata": {},
   "outputs": [],
   "source": [
    "df_2013.columns=['Month','Dep']\n",
    "df_2014.columns=['Month','Dep']\n",
    "df_2016.columns=['Month','Dep']\n",
    "df_2017.columns=['Month','Dep']\n",
    "df_2018.columns=['Month','Dep']\n",
    "df_2019.columns=['Month','Dep']\n",
    "df_2020.columns=['Month','Dep']\n",
    "df_2021.columns=['Month','Dep']\n",
    "df_2022.columns=['Month','Dep']"
   ]
  },
  {
   "cell_type": "code",
   "execution_count": 7,
   "metadata": {},
   "outputs": [
    {
     "data": {
      "text/html": [
       "<div>\n",
       "<style scoped>\n",
       "    .dataframe tbody tr th:only-of-type {\n",
       "        vertical-align: middle;\n",
       "    }\n",
       "\n",
       "    .dataframe tbody tr th {\n",
       "        vertical-align: top;\n",
       "    }\n",
       "\n",
       "    .dataframe thead th {\n",
       "        text-align: right;\n",
       "    }\n",
       "</style>\n",
       "<table border=\"1\" class=\"dataframe\">\n",
       "  <thead>\n",
       "    <tr style=\"text-align: right;\">\n",
       "      <th></th>\n",
       "      <th>Month</th>\n",
       "      <th>Dep</th>\n",
       "    </tr>\n",
       "  </thead>\n",
       "  <tbody>\n",
       "    <tr>\n",
       "      <th>0</th>\n",
       "      <td>January</td>\n",
       "      <td>1304132</td>\n",
       "    </tr>\n",
       "    <tr>\n",
       "      <th>1</th>\n",
       "      <td>February</td>\n",
       "      <td>1158239</td>\n",
       "    </tr>\n",
       "    <tr>\n",
       "      <th>2</th>\n",
       "      <td>March</td>\n",
       "      <td>1498482</td>\n",
       "    </tr>\n",
       "    <tr>\n",
       "      <th>3</th>\n",
       "      <td>April</td>\n",
       "      <td>1564581</td>\n",
       "    </tr>\n",
       "    <tr>\n",
       "      <th>4</th>\n",
       "      <td>May</td>\n",
       "      <td>1934175</td>\n",
       "    </tr>\n",
       "    <tr>\n",
       "      <th>5</th>\n",
       "      <td>June</td>\n",
       "      <td>1901784</td>\n",
       "    </tr>\n",
       "    <tr>\n",
       "      <th>6</th>\n",
       "      <td>July</td>\n",
       "      <td>1830798</td>\n",
       "    </tr>\n",
       "    <tr>\n",
       "      <th>7</th>\n",
       "      <td>August</td>\n",
       "      <td>2160605</td>\n",
       "    </tr>\n",
       "    <tr>\n",
       "      <th>8</th>\n",
       "      <td>September</td>\n",
       "      <td>2181964</td>\n",
       "    </tr>\n",
       "    <tr>\n",
       "      <th>9</th>\n",
       "      <td>October</td>\n",
       "      <td>1999753</td>\n",
       "    </tr>\n",
       "    <tr>\n",
       "      <th>10</th>\n",
       "      <td>November</td>\n",
       "      <td>1913010</td>\n",
       "    </tr>\n",
       "    <tr>\n",
       "      <th>11</th>\n",
       "      <td>December</td>\n",
       "      <td>2155211</td>\n",
       "    </tr>\n",
       "  </tbody>\n",
       "</table>\n",
       "</div>"
      ],
      "text/plain": [
       "        Month      Dep\n",
       "0     January  1304132\n",
       "1    February  1158239\n",
       "2       March  1498482\n",
       "3       April  1564581\n",
       "4         May  1934175\n",
       "5        June  1901784\n",
       "6        July  1830798\n",
       "7      August  2160605\n",
       "8   September  2181964\n",
       "9     October  1999753\n",
       "10   November  1913010\n",
       "11   December  2155211"
      ]
     },
     "execution_count": 7,
     "metadata": {},
     "output_type": "execute_result"
    }
   ],
   "source": [
    "df_2022"
   ]
  },
  {
   "cell_type": "code",
   "execution_count": 8,
   "metadata": {},
   "outputs": [],
   "source": [
    "# df_2013['Dep'] = df_2013['Dep'].astype('Int64')\n",
    "# df_2014['Dep'] = df_2013['Dep'].astype('Int64')\n",
    "# df_2016['Dep'] = df_2013['Dep'].astype('Int64')\n",
    "# df_2017['Dep'] = df_2013['Dep'].astype('Int64')\n",
    "# df_2018['Dep'] = df_2013['Dep'].astype('Int64')\n",
    "# df_2019['Dep'] = df_2013['Dep'].astype('Int64')\n",
    "# df_2020['Dep'] = df_2013['Dep'].astype('Int64')\n",
    "# df_2021['Dep'] = df_2013['Dep'].astype('Int64')\n",
    "# df_2022['Dep'] = df_2013['Dep'].astype('Int64')"
   ]
  },
  {
   "cell_type": "code",
   "execution_count": 9,
   "metadata": {},
   "outputs": [],
   "source": [
    "# df_2013['Dep'] = pd.to_numeric(df_2013['Dep'], errors='coerce')  # Convert to numeric, replace errors with NaN if any\n",
    "# df_2014['Dep'] = pd.to_numeric(df_2014['Dep'], errors='coerce')  # Convert to numeric, replace errors with NaN if any\n",
    "# df_2016['Dep'] = pd.to_numeric(df_2016['Dep'], errors='coerce')  # Convert to numeric, replace errors with NaN if any\n",
    "# df_2017['Dep'] = pd.to_numeric(df_2017['Dep'], errors='coerce')  # Convert to numeric, replace errors with NaN if any\n",
    "# df_2018['Dep'] = pd.to_numeric(df_2018['Dep'], errors='coerce')  # Convert to numeric, replace errors with NaN if any\n",
    "# df_2019['Dep'] = pd.to_numeric(df_2019['Dep'], errors='coerce')  # Convert to numeric, replace errors with NaN if any\n",
    "# df_2020['Dep'] = pd.to_numeric(df_2020['Dep'], errors='coerce')  # Convert to numeric, replace errors with NaN if any\n",
    "# df_2021['Dep'] = pd.to_numeric(df_2021['Dep'], errors='coerce')  # Convert to numeric, replace errors with NaN if any\n",
    "# df_2022['Dep'] = pd.to_numeric(df_2022['Dep'], errors='coerce')  # Convert to numeric, replace errors with NaN if any"
   ]
  },
  {
   "cell_type": "code",
   "execution_count": 10,
   "metadata": {},
   "outputs": [
    {
     "data": {
      "text/html": [
       "<div>\n",
       "<style scoped>\n",
       "    .dataframe tbody tr th:only-of-type {\n",
       "        vertical-align: middle;\n",
       "    }\n",
       "\n",
       "    .dataframe tbody tr th {\n",
       "        vertical-align: top;\n",
       "    }\n",
       "\n",
       "    .dataframe thead th {\n",
       "        text-align: right;\n",
       "    }\n",
       "</style>\n",
       "<table border=\"1\" class=\"dataframe\">\n",
       "  <thead>\n",
       "    <tr style=\"text-align: right;\">\n",
       "      <th></th>\n",
       "      <th>Month</th>\n",
       "      <th>Dep</th>\n",
       "    </tr>\n",
       "  </thead>\n",
       "  <tbody>\n",
       "    <tr>\n",
       "      <th>0</th>\n",
       "      <td>January</td>\n",
       "      <td>1304132</td>\n",
       "    </tr>\n",
       "    <tr>\n",
       "      <th>1</th>\n",
       "      <td>February</td>\n",
       "      <td>1158239</td>\n",
       "    </tr>\n",
       "    <tr>\n",
       "      <th>2</th>\n",
       "      <td>March</td>\n",
       "      <td>1498482</td>\n",
       "    </tr>\n",
       "    <tr>\n",
       "      <th>3</th>\n",
       "      <td>April</td>\n",
       "      <td>1564581</td>\n",
       "    </tr>\n",
       "    <tr>\n",
       "      <th>4</th>\n",
       "      <td>May</td>\n",
       "      <td>1934175</td>\n",
       "    </tr>\n",
       "    <tr>\n",
       "      <th>5</th>\n",
       "      <td>June</td>\n",
       "      <td>1901784</td>\n",
       "    </tr>\n",
       "    <tr>\n",
       "      <th>6</th>\n",
       "      <td>July</td>\n",
       "      <td>1830798</td>\n",
       "    </tr>\n",
       "    <tr>\n",
       "      <th>7</th>\n",
       "      <td>August</td>\n",
       "      <td>2160605</td>\n",
       "    </tr>\n",
       "    <tr>\n",
       "      <th>8</th>\n",
       "      <td>September</td>\n",
       "      <td>2181964</td>\n",
       "    </tr>\n",
       "    <tr>\n",
       "      <th>9</th>\n",
       "      <td>October</td>\n",
       "      <td>1999753</td>\n",
       "    </tr>\n",
       "    <tr>\n",
       "      <th>10</th>\n",
       "      <td>November</td>\n",
       "      <td>1913010</td>\n",
       "    </tr>\n",
       "    <tr>\n",
       "      <th>11</th>\n",
       "      <td>December</td>\n",
       "      <td>2155211</td>\n",
       "    </tr>\n",
       "  </tbody>\n",
       "</table>\n",
       "</div>"
      ],
      "text/plain": [
       "        Month      Dep\n",
       "0     January  1304132\n",
       "1    February  1158239\n",
       "2       March  1498482\n",
       "3       April  1564581\n",
       "4         May  1934175\n",
       "5        June  1901784\n",
       "6        July  1830798\n",
       "7      August  2160605\n",
       "8   September  2181964\n",
       "9     October  1999753\n",
       "10   November  1913010\n",
       "11   December  2155211"
      ]
     },
     "execution_count": 10,
     "metadata": {},
     "output_type": "execute_result"
    }
   ],
   "source": [
    "df_2022"
   ]
  },
  {
   "cell_type": "code",
   "execution_count": 11,
   "metadata": {},
   "outputs": [
    {
     "data": {
      "text/html": [
       "<div>\n",
       "<style scoped>\n",
       "    .dataframe tbody tr th:only-of-type {\n",
       "        vertical-align: middle;\n",
       "    }\n",
       "\n",
       "    .dataframe tbody tr th {\n",
       "        vertical-align: top;\n",
       "    }\n",
       "\n",
       "    .dataframe thead th {\n",
       "        text-align: right;\n",
       "    }\n",
       "</style>\n",
       "<table border=\"1\" class=\"dataframe\">\n",
       "  <thead>\n",
       "    <tr style=\"text-align: right;\">\n",
       "      <th></th>\n",
       "      <th>Month</th>\n",
       "      <th>Dep</th>\n",
       "    </tr>\n",
       "  </thead>\n",
       "  <tbody>\n",
       "    <tr>\n",
       "      <th>0</th>\n",
       "      <td>January</td>\n",
       "      <td>1424291</td>\n",
       "    </tr>\n",
       "    <tr>\n",
       "      <th>1</th>\n",
       "      <td>February</td>\n",
       "      <td>1285813</td>\n",
       "    </tr>\n",
       "    <tr>\n",
       "      <th>2</th>\n",
       "      <td>March</td>\n",
       "      <td>1287728</td>\n",
       "    </tr>\n",
       "    <tr>\n",
       "      <th>3</th>\n",
       "      <td>April</td>\n",
       "      <td>1395879</td>\n",
       "    </tr>\n",
       "    <tr>\n",
       "      <th>4</th>\n",
       "      <td>May</td>\n",
       "      <td>1591906</td>\n",
       "    </tr>\n",
       "    <tr>\n",
       "      <th>5</th>\n",
       "      <td>June</td>\n",
       "      <td>1320676</td>\n",
       "    </tr>\n",
       "    <tr>\n",
       "      <th>6</th>\n",
       "      <td>July</td>\n",
       "      <td>1415677</td>\n",
       "    </tr>\n",
       "    <tr>\n",
       "      <th>7</th>\n",
       "      <td>August</td>\n",
       "      <td>1593409</td>\n",
       "    </tr>\n",
       "    <tr>\n",
       "      <th>8</th>\n",
       "      <td>September</td>\n",
       "      <td>1640118</td>\n",
       "    </tr>\n",
       "    <tr>\n",
       "      <th>9</th>\n",
       "      <td>October</td>\n",
       "      <td>1218333</td>\n",
       "    </tr>\n",
       "    <tr>\n",
       "      <th>10</th>\n",
       "      <td>November</td>\n",
       "      <td>1438279</td>\n",
       "    </tr>\n",
       "    <tr>\n",
       "      <th>11</th>\n",
       "      <td>December</td>\n",
       "      <td>1566117</td>\n",
       "    </tr>\n",
       "  </tbody>\n",
       "</table>\n",
       "</div>"
      ],
      "text/plain": [
       "        Month      Dep\n",
       "0     January  1424291\n",
       "1    February  1285813\n",
       "2       March  1287728\n",
       "3       April  1395879\n",
       "4         May  1591906\n",
       "5        June  1320676\n",
       "6        July  1415677\n",
       "7      August  1593409\n",
       "8   September  1640118\n",
       "9     October  1218333\n",
       "10   November  1438279\n",
       "11   December  1566117"
      ]
     },
     "execution_count": 11,
     "metadata": {},
     "output_type": "execute_result"
    }
   ],
   "source": [
    "# df_2013.drop(0, inplace=True)\n",
    "df_2013"
   ]
  },
  {
   "cell_type": "code",
   "execution_count": 12,
   "metadata": {},
   "outputs": [
    {
     "data": {
      "text/html": [
       "<div>\n",
       "<style scoped>\n",
       "    .dataframe tbody tr th:only-of-type {\n",
       "        vertical-align: middle;\n",
       "    }\n",
       "\n",
       "    .dataframe tbody tr th {\n",
       "        vertical-align: top;\n",
       "    }\n",
       "\n",
       "    .dataframe thead th {\n",
       "        text-align: right;\n",
       "    }\n",
       "</style>\n",
       "<table border=\"1\" class=\"dataframe\">\n",
       "  <thead>\n",
       "    <tr style=\"text-align: right;\">\n",
       "      <th></th>\n",
       "      <th>Month</th>\n",
       "      <th>Dep</th>\n",
       "    </tr>\n",
       "  </thead>\n",
       "  <tbody>\n",
       "    <tr>\n",
       "      <th>0</th>\n",
       "      <td>January</td>\n",
       "      <td>1518285</td>\n",
       "    </tr>\n",
       "    <tr>\n",
       "      <th>1</th>\n",
       "      <td>February</td>\n",
       "      <td>1328360</td>\n",
       "    </tr>\n",
       "    <tr>\n",
       "      <th>2</th>\n",
       "      <td>March</td>\n",
       "      <td>1463879</td>\n",
       "    </tr>\n",
       "    <tr>\n",
       "      <th>3</th>\n",
       "      <td>April</td>\n",
       "      <td>1561150</td>\n",
       "    </tr>\n",
       "    <tr>\n",
       "      <th>4</th>\n",
       "      <td>May</td>\n",
       "      <td>1744621</td>\n",
       "    </tr>\n",
       "    <tr>\n",
       "      <th>5</th>\n",
       "      <td>June</td>\n",
       "      <td>1573931</td>\n",
       "    </tr>\n",
       "    <tr>\n",
       "      <th>6</th>\n",
       "      <td>July</td>\n",
       "      <td>1327984</td>\n",
       "    </tr>\n",
       "    <tr>\n",
       "      <th>7</th>\n",
       "      <td>August</td>\n",
       "      <td>1688554</td>\n",
       "    </tr>\n",
       "    <tr>\n",
       "      <th>8</th>\n",
       "      <td>September</td>\n",
       "      <td>1697955</td>\n",
       "    </tr>\n",
       "    <tr>\n",
       "      <th>9</th>\n",
       "      <td>October</td>\n",
       "      <td>1490000</td>\n",
       "    </tr>\n",
       "    <tr>\n",
       "      <th>10</th>\n",
       "      <td>November</td>\n",
       "      <td>1388722</td>\n",
       "    </tr>\n",
       "    <tr>\n",
       "      <th>11</th>\n",
       "      <td>December</td>\n",
       "      <td>1566514</td>\n",
       "    </tr>\n",
       "  </tbody>\n",
       "</table>\n",
       "</div>"
      ],
      "text/plain": [
       "        Month      Dep\n",
       "0     January  1518285\n",
       "1    February  1328360\n",
       "2       March  1463879\n",
       "3       April  1561150\n",
       "4         May  1744621\n",
       "5        June  1573931\n",
       "6        July  1327984\n",
       "7      August  1688554\n",
       "8   September  1697955\n",
       "9     October  1490000\n",
       "10   November  1388722\n",
       "11   December  1566514"
      ]
     },
     "execution_count": 12,
     "metadata": {},
     "output_type": "execute_result"
    }
   ],
   "source": [
    "# df_2014.drop(0, inplace=True)\n",
    "df_2014"
   ]
  },
  {
   "cell_type": "code",
   "execution_count": 13,
   "metadata": {},
   "outputs": [
    {
     "data": {
      "text/html": [
       "<div>\n",
       "<style scoped>\n",
       "    .dataframe tbody tr th:only-of-type {\n",
       "        vertical-align: middle;\n",
       "    }\n",
       "\n",
       "    .dataframe tbody tr th {\n",
       "        vertical-align: top;\n",
       "    }\n",
       "\n",
       "    .dataframe thead th {\n",
       "        text-align: right;\n",
       "    }\n",
       "</style>\n",
       "<table border=\"1\" class=\"dataframe\">\n",
       "  <thead>\n",
       "    <tr style=\"text-align: right;\">\n",
       "      <th></th>\n",
       "      <th>Month</th>\n",
       "      <th>Dep</th>\n",
       "    </tr>\n",
       "  </thead>\n",
       "  <tbody>\n",
       "    <tr>\n",
       "      <th>0</th>\n",
       "      <td>January</td>\n",
       "      <td>1866995</td>\n",
       "    </tr>\n",
       "    <tr>\n",
       "      <th>1</th>\n",
       "      <td>February</td>\n",
       "      <td>1605765</td>\n",
       "    </tr>\n",
       "    <tr>\n",
       "      <th>2</th>\n",
       "      <td>March</td>\n",
       "      <td>1731968</td>\n",
       "    </tr>\n",
       "    <tr>\n",
       "      <th>3</th>\n",
       "      <td>April</td>\n",
       "      <td>1912473</td>\n",
       "    </tr>\n",
       "    <tr>\n",
       "      <th>4</th>\n",
       "      <td>May</td>\n",
       "      <td>2128686</td>\n",
       "    </tr>\n",
       "    <tr>\n",
       "      <th>5</th>\n",
       "      <td>June</td>\n",
       "      <td>1693204</td>\n",
       "    </tr>\n",
       "    <tr>\n",
       "      <th>6</th>\n",
       "      <td>July</td>\n",
       "      <td>1701014</td>\n",
       "    </tr>\n",
       "    <tr>\n",
       "      <th>7</th>\n",
       "      <td>August</td>\n",
       "      <td>2001816</td>\n",
       "    </tr>\n",
       "    <tr>\n",
       "      <th>8</th>\n",
       "      <td>September</td>\n",
       "      <td>1942743</td>\n",
       "    </tr>\n",
       "    <tr>\n",
       "      <th>9</th>\n",
       "      <td>October</td>\n",
       "      <td>1725665</td>\n",
       "    </tr>\n",
       "    <tr>\n",
       "      <th>10</th>\n",
       "      <td>November</td>\n",
       "      <td>1721215</td>\n",
       "    </tr>\n",
       "    <tr>\n",
       "      <th>11</th>\n",
       "      <td>December</td>\n",
       "      <td>1840451</td>\n",
       "    </tr>\n",
       "  </tbody>\n",
       "</table>\n",
       "</div>"
      ],
      "text/plain": [
       "        Month      Dep\n",
       "0     January  1866995\n",
       "1    February  1605765\n",
       "2       March  1731968\n",
       "3       April  1912473\n",
       "4         May  2128686\n",
       "5        June  1693204\n",
       "6        July  1701014\n",
       "7      August  2001816\n",
       "8   September  1942743\n",
       "9     October  1725665\n",
       "10   November  1721215\n",
       "11   December  1840451"
      ]
     },
     "execution_count": 13,
     "metadata": {},
     "output_type": "execute_result"
    }
   ],
   "source": [
    "# df_2016.drop(0, inplace=True)\n",
    "df_2016"
   ]
  },
  {
   "cell_type": "code",
   "execution_count": 14,
   "metadata": {},
   "outputs": [
    {
     "data": {
      "text/html": [
       "<div>\n",
       "<style scoped>\n",
       "    .dataframe tbody tr th:only-of-type {\n",
       "        vertical-align: middle;\n",
       "    }\n",
       "\n",
       "    .dataframe tbody tr th {\n",
       "        vertical-align: top;\n",
       "    }\n",
       "\n",
       "    .dataframe thead th {\n",
       "        text-align: right;\n",
       "    }\n",
       "</style>\n",
       "<table border=\"1\" class=\"dataframe\">\n",
       "  <thead>\n",
       "    <tr style=\"text-align: right;\">\n",
       "      <th></th>\n",
       "      <th>Month</th>\n",
       "      <th>Dep</th>\n",
       "    </tr>\n",
       "  </thead>\n",
       "  <tbody>\n",
       "    <tr>\n",
       "      <th>0</th>\n",
       "      <td>January</td>\n",
       "      <td>1962619</td>\n",
       "    </tr>\n",
       "    <tr>\n",
       "      <th>1</th>\n",
       "      <td>February</td>\n",
       "      <td>1714399</td>\n",
       "    </tr>\n",
       "    <tr>\n",
       "      <th>2</th>\n",
       "      <td>March</td>\n",
       "      <td>1846395</td>\n",
       "    </tr>\n",
       "    <tr>\n",
       "      <th>3</th>\n",
       "      <td>April</td>\n",
       "      <td>2047568</td>\n",
       "    </tr>\n",
       "    <tr>\n",
       "      <th>4</th>\n",
       "      <td>May</td>\n",
       "      <td>2312939</td>\n",
       "    </tr>\n",
       "    <tr>\n",
       "      <th>5</th>\n",
       "      <td>June</td>\n",
       "      <td>1781817</td>\n",
       "    </tr>\n",
       "    <tr>\n",
       "      <th>6</th>\n",
       "      <td>July</td>\n",
       "      <td>1938221</td>\n",
       "    </tr>\n",
       "    <tr>\n",
       "      <th>7</th>\n",
       "      <td>August</td>\n",
       "      <td>2118235</td>\n",
       "    </tr>\n",
       "    <tr>\n",
       "      <th>8</th>\n",
       "      <td>September</td>\n",
       "      <td>2232437</td>\n",
       "    </tr>\n",
       "    <tr>\n",
       "      <th>9</th>\n",
       "      <td>October</td>\n",
       "      <td>1999069</td>\n",
       "    </tr>\n",
       "    <tr>\n",
       "      <th>10</th>\n",
       "      <td>November</td>\n",
       "      <td>1856300</td>\n",
       "    </tr>\n",
       "    <tr>\n",
       "      <th>11</th>\n",
       "      <td>December</td>\n",
       "      <td>2132958</td>\n",
       "    </tr>\n",
       "  </tbody>\n",
       "</table>\n",
       "</div>"
      ],
      "text/plain": [
       "        Month      Dep\n",
       "0     January  1962619\n",
       "1    February  1714399\n",
       "2       March  1846395\n",
       "3       April  2047568\n",
       "4         May  2312939\n",
       "5        June  1781817\n",
       "6        July  1938221\n",
       "7      August  2118235\n",
       "8   September  2232437\n",
       "9     October  1999069\n",
       "10   November  1856300\n",
       "11   December  2132958"
      ]
     },
     "execution_count": 14,
     "metadata": {},
     "output_type": "execute_result"
    }
   ],
   "source": [
    "# df_2017.drop(0, inplace=True)\n",
    "# df_2017.drop(13, inplace=True) # Total row\n",
    "df_2017"
   ]
  },
  {
   "cell_type": "code",
   "execution_count": 15,
   "metadata": {},
   "outputs": [
    {
     "data": {
      "text/html": [
       "<div>\n",
       "<style scoped>\n",
       "    .dataframe tbody tr th:only-of-type {\n",
       "        vertical-align: middle;\n",
       "    }\n",
       "\n",
       "    .dataframe tbody tr th {\n",
       "        vertical-align: top;\n",
       "    }\n",
       "\n",
       "    .dataframe thead th {\n",
       "        text-align: right;\n",
       "    }\n",
       "</style>\n",
       "<table border=\"1\" class=\"dataframe\">\n",
       "  <thead>\n",
       "    <tr style=\"text-align: right;\">\n",
       "      <th></th>\n",
       "      <th>Month</th>\n",
       "      <th>Dep</th>\n",
       "    </tr>\n",
       "  </thead>\n",
       "  <tbody>\n",
       "    <tr>\n",
       "      <th>0</th>\n",
       "      <td>January</td>\n",
       "      <td>2238035</td>\n",
       "    </tr>\n",
       "    <tr>\n",
       "      <th>1</th>\n",
       "      <td>February</td>\n",
       "      <td>1839947</td>\n",
       "    </tr>\n",
       "    <tr>\n",
       "      <th>2</th>\n",
       "      <td>March</td>\n",
       "      <td>2099266</td>\n",
       "    </tr>\n",
       "    <tr>\n",
       "      <th>3</th>\n",
       "      <td>April</td>\n",
       "      <td>2321632</td>\n",
       "    </tr>\n",
       "    <tr>\n",
       "      <th>4</th>\n",
       "      <td>May</td>\n",
       "      <td>2521860</td>\n",
       "    </tr>\n",
       "    <tr>\n",
       "      <th>5</th>\n",
       "      <td>June</td>\n",
       "      <td>2054526</td>\n",
       "    </tr>\n",
       "    <tr>\n",
       "      <th>6</th>\n",
       "      <td>July</td>\n",
       "      <td>2150580</td>\n",
       "    </tr>\n",
       "    <tr>\n",
       "      <th>7</th>\n",
       "      <td>August</td>\n",
       "      <td>2272537</td>\n",
       "    </tr>\n",
       "    <tr>\n",
       "      <th>8</th>\n",
       "      <td>September</td>\n",
       "      <td>2434217</td>\n",
       "    </tr>\n",
       "    <tr>\n",
       "      <th>9</th>\n",
       "      <td>October</td>\n",
       "      <td>2074788</td>\n",
       "    </tr>\n",
       "    <tr>\n",
       "      <th>10</th>\n",
       "      <td>November</td>\n",
       "      <td>2087972</td>\n",
       "    </tr>\n",
       "    <tr>\n",
       "      <th>11</th>\n",
       "      <td>December</td>\n",
       "      <td>2201124</td>\n",
       "    </tr>\n",
       "  </tbody>\n",
       "</table>\n",
       "</div>"
      ],
      "text/plain": [
       "        Month      Dep\n",
       "0     January  2238035\n",
       "1    February  1839947\n",
       "2       March  2099266\n",
       "3       April  2321632\n",
       "4         May  2521860\n",
       "5        June  2054526\n",
       "6        July  2150580\n",
       "7      August  2272537\n",
       "8   September  2434217\n",
       "9     October  2074788\n",
       "10   November  2087972\n",
       "11   December  2201124"
      ]
     },
     "execution_count": 15,
     "metadata": {},
     "output_type": "execute_result"
    }
   ],
   "source": [
    "# df_2018.drop(0, inplace=True)\n",
    "df_2018"
   ]
  },
  {
   "cell_type": "code",
   "execution_count": 16,
   "metadata": {},
   "outputs": [
    {
     "data": {
      "text/html": [
       "<div>\n",
       "<style scoped>\n",
       "    .dataframe tbody tr th:only-of-type {\n",
       "        vertical-align: middle;\n",
       "    }\n",
       "\n",
       "    .dataframe tbody tr th {\n",
       "        vertical-align: top;\n",
       "    }\n",
       "\n",
       "    .dataframe thead th {\n",
       "        text-align: right;\n",
       "    }\n",
       "</style>\n",
       "<table border=\"1\" class=\"dataframe\">\n",
       "  <thead>\n",
       "    <tr style=\"text-align: right;\">\n",
       "      <th></th>\n",
       "      <th>Month</th>\n",
       "      <th>Dep</th>\n",
       "    </tr>\n",
       "  </thead>\n",
       "  <tbody>\n",
       "    <tr>\n",
       "      <th>0</th>\n",
       "      <td>January</td>\n",
       "      <td>2309062</td>\n",
       "    </tr>\n",
       "    <tr>\n",
       "      <th>1</th>\n",
       "      <td>February</td>\n",
       "      <td>1992487</td>\n",
       "    </tr>\n",
       "    <tr>\n",
       "      <th>2</th>\n",
       "      <td>March</td>\n",
       "      <td>2203115</td>\n",
       "    </tr>\n",
       "    <tr>\n",
       "      <th>3</th>\n",
       "      <td>April</td>\n",
       "      <td>2202018</td>\n",
       "    </tr>\n",
       "    <tr>\n",
       "      <th>4</th>\n",
       "      <td>May</td>\n",
       "      <td>2384815</td>\n",
       "    </tr>\n",
       "    <tr>\n",
       "      <th>5</th>\n",
       "      <td>June</td>\n",
       "      <td>2198582</td>\n",
       "    </tr>\n",
       "    <tr>\n",
       "      <th>6</th>\n",
       "      <td>July</td>\n",
       "      <td>2180437</td>\n",
       "    </tr>\n",
       "    <tr>\n",
       "      <th>7</th>\n",
       "      <td>August</td>\n",
       "      <td>2351701</td>\n",
       "    </tr>\n",
       "    <tr>\n",
       "      <th>8</th>\n",
       "      <td>September</td>\n",
       "      <td>2354445</td>\n",
       "    </tr>\n",
       "    <tr>\n",
       "      <th>9</th>\n",
       "      <td>October</td>\n",
       "      <td>2145065</td>\n",
       "    </tr>\n",
       "    <tr>\n",
       "      <th>10</th>\n",
       "      <td>November</td>\n",
       "      <td>2147330</td>\n",
       "    </tr>\n",
       "    <tr>\n",
       "      <th>11</th>\n",
       "      <td>December</td>\n",
       "      <td>2355977</td>\n",
       "    </tr>\n",
       "  </tbody>\n",
       "</table>\n",
       "</div>"
      ],
      "text/plain": [
       "        Month      Dep\n",
       "0     January  2309062\n",
       "1    February  1992487\n",
       "2       March  2203115\n",
       "3       April  2202018\n",
       "4         May  2384815\n",
       "5        June  2198582\n",
       "6        July  2180437\n",
       "7      August  2351701\n",
       "8   September  2354445\n",
       "9     October  2145065\n",
       "10   November  2147330\n",
       "11   December  2355977"
      ]
     },
     "execution_count": 16,
     "metadata": {},
     "output_type": "execute_result"
    }
   ],
   "source": [
    "# df_2019.drop(0, inplace=True)\n",
    "df_2019"
   ]
  },
  {
   "cell_type": "code",
   "execution_count": 17,
   "metadata": {},
   "outputs": [
    {
     "data": {
      "text/html": [
       "<div>\n",
       "<style scoped>\n",
       "    .dataframe tbody tr th:only-of-type {\n",
       "        vertical-align: middle;\n",
       "    }\n",
       "\n",
       "    .dataframe tbody tr th {\n",
       "        vertical-align: top;\n",
       "    }\n",
       "\n",
       "    .dataframe thead th {\n",
       "        text-align: right;\n",
       "    }\n",
       "</style>\n",
       "<table border=\"1\" class=\"dataframe\">\n",
       "  <thead>\n",
       "    <tr style=\"text-align: right;\">\n",
       "      <th></th>\n",
       "      <th>Month</th>\n",
       "      <th>Dep</th>\n",
       "    </tr>\n",
       "  </thead>\n",
       "  <tbody>\n",
       "    <tr>\n",
       "      <th>0</th>\n",
       "      <td>January</td>\n",
       "      <td>2353147</td>\n",
       "    </tr>\n",
       "    <tr>\n",
       "      <th>1</th>\n",
       "      <td>February</td>\n",
       "      <td>1983289</td>\n",
       "    </tr>\n",
       "    <tr>\n",
       "      <th>2</th>\n",
       "      <td>March</td>\n",
       "      <td>851332</td>\n",
       "    </tr>\n",
       "    <tr>\n",
       "      <th>3</th>\n",
       "      <td>April</td>\n",
       "      <td>6533</td>\n",
       "    </tr>\n",
       "    <tr>\n",
       "      <th>4</th>\n",
       "      <td>May</td>\n",
       "      <td>22912</td>\n",
       "    </tr>\n",
       "    <tr>\n",
       "      <th>5</th>\n",
       "      <td>June</td>\n",
       "      <td>68802</td>\n",
       "    </tr>\n",
       "    <tr>\n",
       "      <th>6</th>\n",
       "      <td>July</td>\n",
       "      <td>135227</td>\n",
       "    </tr>\n",
       "    <tr>\n",
       "      <th>7</th>\n",
       "      <td>August</td>\n",
       "      <td>211511</td>\n",
       "    </tr>\n",
       "    <tr>\n",
       "      <th>8</th>\n",
       "      <td>September</td>\n",
       "      <td>304780</td>\n",
       "    </tr>\n",
       "    <tr>\n",
       "      <th>9</th>\n",
       "      <td>October</td>\n",
       "      <td>372362</td>\n",
       "    </tr>\n",
       "    <tr>\n",
       "      <th>10</th>\n",
       "      <td>November</td>\n",
       "      <td>409155</td>\n",
       "    </tr>\n",
       "    <tr>\n",
       "      <th>11</th>\n",
       "      <td>December</td>\n",
       "      <td>575516</td>\n",
       "    </tr>\n",
       "  </tbody>\n",
       "</table>\n",
       "</div>"
      ],
      "text/plain": [
       "        Month      Dep\n",
       "0     January  2353147\n",
       "1    February  1983289\n",
       "2       March   851332\n",
       "3       April     6533\n",
       "4         May    22912\n",
       "5        June    68802\n",
       "6        July   135227\n",
       "7      August   211511\n",
       "8   September   304780\n",
       "9     October   372362\n",
       "10   November   409155\n",
       "11   December   575516"
      ]
     },
     "execution_count": 17,
     "metadata": {},
     "output_type": "execute_result"
    }
   ],
   "source": [
    "# df_2020.drop(0, inplace=True)\n",
    "df_2020"
   ]
  },
  {
   "cell_type": "code",
   "execution_count": 18,
   "metadata": {},
   "outputs": [
    {
     "data": {
      "text/html": [
       "<div>\n",
       "<style scoped>\n",
       "    .dataframe tbody tr th:only-of-type {\n",
       "        vertical-align: middle;\n",
       "    }\n",
       "\n",
       "    .dataframe tbody tr th {\n",
       "        vertical-align: top;\n",
       "    }\n",
       "\n",
       "    .dataframe thead th {\n",
       "        text-align: right;\n",
       "    }\n",
       "</style>\n",
       "<table border=\"1\" class=\"dataframe\">\n",
       "  <thead>\n",
       "    <tr style=\"text-align: right;\">\n",
       "      <th></th>\n",
       "      <th>Month</th>\n",
       "      <th>Dep</th>\n",
       "    </tr>\n",
       "  </thead>\n",
       "  <tbody>\n",
       "    <tr>\n",
       "      <th>0</th>\n",
       "      <td>January</td>\n",
       "      <td>689366</td>\n",
       "    </tr>\n",
       "    <tr>\n",
       "      <th>1</th>\n",
       "      <td>February</td>\n",
       "      <td>653071</td>\n",
       "    </tr>\n",
       "    <tr>\n",
       "      <th>2</th>\n",
       "      <td>March</td>\n",
       "      <td>709010</td>\n",
       "    </tr>\n",
       "    <tr>\n",
       "      <th>3</th>\n",
       "      <td>April</td>\n",
       "      <td>634663</td>\n",
       "    </tr>\n",
       "    <tr>\n",
       "      <th>4</th>\n",
       "      <td>May</td>\n",
       "      <td>154873</td>\n",
       "    </tr>\n",
       "    <tr>\n",
       "      <th>5</th>\n",
       "      <td>June</td>\n",
       "      <td>150717</td>\n",
       "    </tr>\n",
       "    <tr>\n",
       "      <th>6</th>\n",
       "      <td>July</td>\n",
       "      <td>223956</td>\n",
       "    </tr>\n",
       "    <tr>\n",
       "      <th>7</th>\n",
       "      <td>August</td>\n",
       "      <td>661188</td>\n",
       "    </tr>\n",
       "    <tr>\n",
       "      <th>8</th>\n",
       "      <td>September</td>\n",
       "      <td>962026</td>\n",
       "    </tr>\n",
       "    <tr>\n",
       "      <th>9</th>\n",
       "      <td>October</td>\n",
       "      <td>1096257</td>\n",
       "    </tr>\n",
       "    <tr>\n",
       "      <th>10</th>\n",
       "      <td>November</td>\n",
       "      <td>1188345</td>\n",
       "    </tr>\n",
       "    <tr>\n",
       "      <th>11</th>\n",
       "      <td>December</td>\n",
       "      <td>1427843</td>\n",
       "    </tr>\n",
       "  </tbody>\n",
       "</table>\n",
       "</div>"
      ],
      "text/plain": [
       "        Month      Dep\n",
       "0     January   689366\n",
       "1    February   653071\n",
       "2       March   709010\n",
       "3       April   634663\n",
       "4         May   154873\n",
       "5        June   150717\n",
       "6        July   223956\n",
       "7      August   661188\n",
       "8   September   962026\n",
       "9     October  1096257\n",
       "10   November  1188345\n",
       "11   December  1427843"
      ]
     },
     "execution_count": 18,
     "metadata": {},
     "output_type": "execute_result"
    }
   ],
   "source": [
    "# df_2021.drop(0, inplace=True)\n",
    "df_2021"
   ]
  },
  {
   "cell_type": "code",
   "execution_count": 19,
   "metadata": {},
   "outputs": [
    {
     "data": {
      "text/html": [
       "<div>\n",
       "<style scoped>\n",
       "    .dataframe tbody tr th:only-of-type {\n",
       "        vertical-align: middle;\n",
       "    }\n",
       "\n",
       "    .dataframe tbody tr th {\n",
       "        vertical-align: top;\n",
       "    }\n",
       "\n",
       "    .dataframe thead th {\n",
       "        text-align: right;\n",
       "    }\n",
       "</style>\n",
       "<table border=\"1\" class=\"dataframe\">\n",
       "  <thead>\n",
       "    <tr style=\"text-align: right;\">\n",
       "      <th></th>\n",
       "      <th>Month</th>\n",
       "      <th>Dep</th>\n",
       "    </tr>\n",
       "  </thead>\n",
       "  <tbody>\n",
       "    <tr>\n",
       "      <th>0</th>\n",
       "      <td>January</td>\n",
       "      <td>1304132</td>\n",
       "    </tr>\n",
       "    <tr>\n",
       "      <th>1</th>\n",
       "      <td>February</td>\n",
       "      <td>1158239</td>\n",
       "    </tr>\n",
       "    <tr>\n",
       "      <th>2</th>\n",
       "      <td>March</td>\n",
       "      <td>1498482</td>\n",
       "    </tr>\n",
       "    <tr>\n",
       "      <th>3</th>\n",
       "      <td>April</td>\n",
       "      <td>1564581</td>\n",
       "    </tr>\n",
       "    <tr>\n",
       "      <th>4</th>\n",
       "      <td>May</td>\n",
       "      <td>1934175</td>\n",
       "    </tr>\n",
       "    <tr>\n",
       "      <th>5</th>\n",
       "      <td>June</td>\n",
       "      <td>1901784</td>\n",
       "    </tr>\n",
       "    <tr>\n",
       "      <th>6</th>\n",
       "      <td>July</td>\n",
       "      <td>1830798</td>\n",
       "    </tr>\n",
       "    <tr>\n",
       "      <th>7</th>\n",
       "      <td>August</td>\n",
       "      <td>2160605</td>\n",
       "    </tr>\n",
       "    <tr>\n",
       "      <th>8</th>\n",
       "      <td>September</td>\n",
       "      <td>2181964</td>\n",
       "    </tr>\n",
       "    <tr>\n",
       "      <th>9</th>\n",
       "      <td>October</td>\n",
       "      <td>1999753</td>\n",
       "    </tr>\n",
       "    <tr>\n",
       "      <th>10</th>\n",
       "      <td>November</td>\n",
       "      <td>1913010</td>\n",
       "    </tr>\n",
       "    <tr>\n",
       "      <th>11</th>\n",
       "      <td>December</td>\n",
       "      <td>2155211</td>\n",
       "    </tr>\n",
       "  </tbody>\n",
       "</table>\n",
       "</div>"
      ],
      "text/plain": [
       "        Month      Dep\n",
       "0     January  1304132\n",
       "1    February  1158239\n",
       "2       March  1498482\n",
       "3       April  1564581\n",
       "4         May  1934175\n",
       "5        June  1901784\n",
       "6        July  1830798\n",
       "7      August  2160605\n",
       "8   September  2181964\n",
       "9     October  1999753\n",
       "10   November  1913010\n",
       "11   December  2155211"
      ]
     },
     "execution_count": 19,
     "metadata": {},
     "output_type": "execute_result"
    }
   ],
   "source": [
    "# df_2022.drop(0, inplace=True)\n",
    "df_2022"
   ]
  },
  {
   "cell_type": "code",
   "execution_count": 20,
   "metadata": {},
   "outputs": [
    {
     "data": {
      "text/html": [
       "<div>\n",
       "<style scoped>\n",
       "    .dataframe tbody tr th:only-of-type {\n",
       "        vertical-align: middle;\n",
       "    }\n",
       "\n",
       "    .dataframe tbody tr th {\n",
       "        vertical-align: top;\n",
       "    }\n",
       "\n",
       "    .dataframe thead th {\n",
       "        text-align: right;\n",
       "    }\n",
       "</style>\n",
       "<table border=\"1\" class=\"dataframe\">\n",
       "  <thead>\n",
       "    <tr style=\"text-align: right;\">\n",
       "      <th></th>\n",
       "      <th>Month</th>\n",
       "      <th>Dep</th>\n",
       "      <th>Dep</th>\n",
       "      <th>Dep</th>\n",
       "      <th>Dep</th>\n",
       "      <th>Dep</th>\n",
       "      <th>Dep</th>\n",
       "      <th>Dep</th>\n",
       "      <th>Dep</th>\n",
       "      <th>Dep</th>\n",
       "    </tr>\n",
       "  </thead>\n",
       "  <tbody>\n",
       "    <tr>\n",
       "      <th>0</th>\n",
       "      <td>January</td>\n",
       "      <td>1424291</td>\n",
       "      <td>1518285</td>\n",
       "      <td>1866995</td>\n",
       "      <td>1962619</td>\n",
       "      <td>2238035</td>\n",
       "      <td>2309062</td>\n",
       "      <td>2353147</td>\n",
       "      <td>689366</td>\n",
       "      <td>1304132</td>\n",
       "    </tr>\n",
       "    <tr>\n",
       "      <th>1</th>\n",
       "      <td>February</td>\n",
       "      <td>1285813</td>\n",
       "      <td>1328360</td>\n",
       "      <td>1605765</td>\n",
       "      <td>1714399</td>\n",
       "      <td>1839947</td>\n",
       "      <td>1992487</td>\n",
       "      <td>1983289</td>\n",
       "      <td>653071</td>\n",
       "      <td>1158239</td>\n",
       "    </tr>\n",
       "    <tr>\n",
       "      <th>2</th>\n",
       "      <td>March</td>\n",
       "      <td>1287728</td>\n",
       "      <td>1463879</td>\n",
       "      <td>1731968</td>\n",
       "      <td>1846395</td>\n",
       "      <td>2099266</td>\n",
       "      <td>2203115</td>\n",
       "      <td>851332</td>\n",
       "      <td>709010</td>\n",
       "      <td>1498482</td>\n",
       "    </tr>\n",
       "    <tr>\n",
       "      <th>3</th>\n",
       "      <td>April</td>\n",
       "      <td>1395879</td>\n",
       "      <td>1561150</td>\n",
       "      <td>1912473</td>\n",
       "      <td>2047568</td>\n",
       "      <td>2321632</td>\n",
       "      <td>2202018</td>\n",
       "      <td>6533</td>\n",
       "      <td>634663</td>\n",
       "      <td>1564581</td>\n",
       "    </tr>\n",
       "    <tr>\n",
       "      <th>4</th>\n",
       "      <td>May</td>\n",
       "      <td>1591906</td>\n",
       "      <td>1744621</td>\n",
       "      <td>2128686</td>\n",
       "      <td>2312939</td>\n",
       "      <td>2521860</td>\n",
       "      <td>2384815</td>\n",
       "      <td>22912</td>\n",
       "      <td>154873</td>\n",
       "      <td>1934175</td>\n",
       "    </tr>\n",
       "    <tr>\n",
       "      <th>5</th>\n",
       "      <td>June</td>\n",
       "      <td>1320676</td>\n",
       "      <td>1573931</td>\n",
       "      <td>1693204</td>\n",
       "      <td>1781817</td>\n",
       "      <td>2054526</td>\n",
       "      <td>2198582</td>\n",
       "      <td>68802</td>\n",
       "      <td>150717</td>\n",
       "      <td>1901784</td>\n",
       "    </tr>\n",
       "    <tr>\n",
       "      <th>6</th>\n",
       "      <td>July</td>\n",
       "      <td>1415677</td>\n",
       "      <td>1327984</td>\n",
       "      <td>1701014</td>\n",
       "      <td>1938221</td>\n",
       "      <td>2150580</td>\n",
       "      <td>2180437</td>\n",
       "      <td>135227</td>\n",
       "      <td>223956</td>\n",
       "      <td>1830798</td>\n",
       "    </tr>\n",
       "    <tr>\n",
       "      <th>7</th>\n",
       "      <td>August</td>\n",
       "      <td>1593409</td>\n",
       "      <td>1688554</td>\n",
       "      <td>2001816</td>\n",
       "      <td>2118235</td>\n",
       "      <td>2272537</td>\n",
       "      <td>2351701</td>\n",
       "      <td>211511</td>\n",
       "      <td>661188</td>\n",
       "      <td>2160605</td>\n",
       "    </tr>\n",
       "    <tr>\n",
       "      <th>8</th>\n",
       "      <td>September</td>\n",
       "      <td>1640118</td>\n",
       "      <td>1697955</td>\n",
       "      <td>1942743</td>\n",
       "      <td>2232437</td>\n",
       "      <td>2434217</td>\n",
       "      <td>2354445</td>\n",
       "      <td>304780</td>\n",
       "      <td>962026</td>\n",
       "      <td>2181964</td>\n",
       "    </tr>\n",
       "    <tr>\n",
       "      <th>9</th>\n",
       "      <td>October</td>\n",
       "      <td>1218333</td>\n",
       "      <td>1490000</td>\n",
       "      <td>1725665</td>\n",
       "      <td>1999069</td>\n",
       "      <td>2074788</td>\n",
       "      <td>2145065</td>\n",
       "      <td>372362</td>\n",
       "      <td>1096257</td>\n",
       "      <td>1999753</td>\n",
       "    </tr>\n",
       "    <tr>\n",
       "      <th>10</th>\n",
       "      <td>November</td>\n",
       "      <td>1438279</td>\n",
       "      <td>1388722</td>\n",
       "      <td>1721215</td>\n",
       "      <td>1856300</td>\n",
       "      <td>2087972</td>\n",
       "      <td>2147330</td>\n",
       "      <td>409155</td>\n",
       "      <td>1188345</td>\n",
       "      <td>1913010</td>\n",
       "    </tr>\n",
       "    <tr>\n",
       "      <th>11</th>\n",
       "      <td>December</td>\n",
       "      <td>1566117</td>\n",
       "      <td>1566514</td>\n",
       "      <td>1840451</td>\n",
       "      <td>2132958</td>\n",
       "      <td>2201124</td>\n",
       "      <td>2355977</td>\n",
       "      <td>575516</td>\n",
       "      <td>1427843</td>\n",
       "      <td>2155211</td>\n",
       "    </tr>\n",
       "  </tbody>\n",
       "</table>\n",
       "</div>"
      ],
      "text/plain": [
       "        Month      Dep      Dep      Dep      Dep      Dep      Dep      Dep      Dep      Dep\n",
       "0     January  1424291  1518285  1866995  1962619  2238035  2309062  2353147   689366  1304132\n",
       "1    February  1285813  1328360  1605765  1714399  1839947  1992487  1983289   653071  1158239\n",
       "2       March  1287728  1463879  1731968  1846395  2099266  2203115   851332   709010  1498482\n",
       "3       April  1395879  1561150  1912473  2047568  2321632  2202018     6533   634663  1564581\n",
       "4         May  1591906  1744621  2128686  2312939  2521860  2384815    22912   154873  1934175\n",
       "5        June  1320676  1573931  1693204  1781817  2054526  2198582    68802   150717  1901784\n",
       "6        July  1415677  1327984  1701014  1938221  2150580  2180437   135227   223956  1830798\n",
       "7      August  1593409  1688554  2001816  2118235  2272537  2351701   211511   661188  2160605\n",
       "8   September  1640118  1697955  1942743  2232437  2434217  2354445   304780   962026  2181964\n",
       "9     October  1218333  1490000  1725665  1999069  2074788  2145065   372362  1096257  1999753\n",
       "10   November  1438279  1388722  1721215  1856300  2087972  2147330   409155  1188345  1913010\n",
       "11   December  1566117  1566514  1840451  2132958  2201124  2355977   575516  1427843  2155211"
      ]
     },
     "execution_count": 20,
     "metadata": {},
     "output_type": "execute_result"
    }
   ],
   "source": [
    "pd.concat([df_2013,df_2014['Dep'],df_2016['Dep'],df_2017['Dep'],df_2018['Dep'],df_2019['Dep'],df_2020['Dep'],df_2021['Dep'],df_2022['Dep']], axis=1)"
   ]
  },
  {
   "cell_type": "code",
   "execution_count": 21,
   "metadata": {},
   "outputs": [],
   "source": [
    "df_2013['Dep'] = pd.to_numeric(df_2013['Dep'], errors='coerce')  # Convert to numeric, replace errors with NaN if any\n",
    "df_2014['Dep'] = pd.to_numeric(df_2014['Dep'], errors='coerce')  # Convert to numeric, replace errors with NaN if any\n",
    "df_2016['Dep'] = pd.to_numeric(df_2016['Dep'], errors='coerce')  # Convert to numeric, replace errors with NaN if any\n",
    "df_2017['Dep'] = pd.to_numeric(df_2017['Dep'], errors='coerce')  # Convert to numeric, replace errors with NaN if any\n",
    "df_2018['Dep'] = pd.to_numeric(df_2018['Dep'], errors='coerce')  # Convert to numeric, replace errors with NaN if any\n",
    "df_2019['Dep'] = pd.to_numeric(df_2019['Dep'], errors='coerce')  # Convert to numeric, replace errors with NaN if any\n",
    "df_2020['Dep'] = pd.to_numeric(df_2020['Dep'], errors='coerce')  # Convert to numeric, replace errors with NaN if any\n",
    "df_2021['Dep'] = pd.to_numeric(df_2021['Dep'], errors='coerce')  # Convert to numeric, replace errors with NaN if any\n",
    "df_2022['Dep'] = pd.to_numeric(df_2022['Dep'], errors='coerce')  # Convert to numeric, replace errors with NaN if any"
   ]
  },
  {
   "cell_type": "code",
   "execution_count": 22,
   "metadata": {},
   "outputs": [
    {
     "data": {
      "text/plain": [
       "[        Month      Dep\n",
       " 0     January  1424291\n",
       " 1    February  1285813\n",
       " 2       March  1287728\n",
       " 3       April  1395879\n",
       " 4         May  1591906\n",
       " 5        June  1320676\n",
       " 6        July  1415677\n",
       " 7      August  1593409\n",
       " 8   September  1640118\n",
       " 9     October  1218333\n",
       " 10   November  1438279\n",
       " 11   December  1566117,\n",
       "         Month      Dep\n",
       " 0     January  1518285\n",
       " 1    February  1328360\n",
       " 2       March  1463879\n",
       " 3       April  1561150\n",
       " 4         May  1744621\n",
       " 5        June  1573931\n",
       " 6        July  1327984\n",
       " 7      August  1688554\n",
       " 8   September  1697955\n",
       " 9     October  1490000\n",
       " 10   November  1388722\n",
       " 11   December  1566514,\n",
       "         Month      Dep\n",
       " 0     January  1866995\n",
       " 1    February  1605765\n",
       " 2       March  1731968\n",
       " 3       April  1912473\n",
       " 4         May  2128686\n",
       " 5        June  1693204\n",
       " 6        July  1701014\n",
       " 7      August  2001816\n",
       " 8   September  1942743\n",
       " 9     October  1725665\n",
       " 10   November  1721215\n",
       " 11   December  1840451,\n",
       "         Month      Dep\n",
       " 0     January  1962619\n",
       " 1    February  1714399\n",
       " 2       March  1846395\n",
       " 3       April  2047568\n",
       " 4         May  2312939\n",
       " 5        June  1781817\n",
       " 6        July  1938221\n",
       " 7      August  2118235\n",
       " 8   September  2232437\n",
       " 9     October  1999069\n",
       " 10   November  1856300\n",
       " 11   December  2132958,\n",
       "         Month      Dep\n",
       " 0     January  2238035\n",
       " 1    February  1839947\n",
       " 2       March  2099266\n",
       " 3       April  2321632\n",
       " 4         May  2521860\n",
       " 5        June  2054526\n",
       " 6        July  2150580\n",
       " 7      August  2272537\n",
       " 8   September  2434217\n",
       " 9     October  2074788\n",
       " 10   November  2087972\n",
       " 11   December  2201124,\n",
       "         Month      Dep\n",
       " 0     January  2309062\n",
       " 1    February  1992487\n",
       " 2       March  2203115\n",
       " 3       April  2202018\n",
       " 4         May  2384815\n",
       " 5        June  2198582\n",
       " 6        July  2180437\n",
       " 7      August  2351701\n",
       " 8   September  2354445\n",
       " 9     October  2145065\n",
       " 10   November  2147330\n",
       " 11   December  2355977,\n",
       "         Month      Dep\n",
       " 0     January  2353147\n",
       " 1    February  1983289\n",
       " 2       March   851332\n",
       " 3       April     6533\n",
       " 4         May    22912\n",
       " 5        June    68802\n",
       " 6        July   135227\n",
       " 7      August   211511\n",
       " 8   September   304780\n",
       " 9     October   372362\n",
       " 10   November   409155\n",
       " 11   December   575516,\n",
       "         Month      Dep\n",
       " 0     January   689366\n",
       " 1    February   653071\n",
       " 2       March   709010\n",
       " 3       April   634663\n",
       " 4         May   154873\n",
       " 5        June   150717\n",
       " 6        July   223956\n",
       " 7      August   661188\n",
       " 8   September   962026\n",
       " 9     October  1096257\n",
       " 10   November  1188345\n",
       " 11   December  1427843,\n",
       "         Month      Dep\n",
       " 0     January  1304132\n",
       " 1    February  1158239\n",
       " 2       March  1498482\n",
       " 3       April  1564581\n",
       " 4         May  1934175\n",
       " 5        June  1901784\n",
       " 6        July  1830798\n",
       " 7      August  2160605\n",
       " 8   September  2181964\n",
       " 9     October  1999753\n",
       " 10   November  1913010\n",
       " 11   December  2155211]"
      ]
     },
     "execution_count": 22,
     "metadata": {},
     "output_type": "execute_result"
    }
   ],
   "source": [
    "# Combine data into a single DataFrame with a 'Year' column\n",
    "dfs = [df_2013, df_2014, df_2016, df_2017, df_2018, df_2019, df_2020, df_2021, df_2022]\n",
    "years = [2013, 2014, 2016, 2017, 2018, 2019, 2020, 2021, 2022]\n",
    "dfs"
   ]
  },
  {
   "cell_type": "code",
   "execution_count": 23,
   "metadata": {},
   "outputs": [],
   "source": [
    "# Ensure 'Dep' column is numeric in all DataFrames\n",
    "# for df in dfs:\n",
    "#     df['Dep'] = pd.to_numeric(df['Dep'], errors='coerce')  # Convert to numeric, replace errors with NaN if any\n",
    "\n",
    "# Add a 'Year' column to each DataFrame, then concatenate\n",
    "for df, year in zip(dfs, years):\n",
    "    df['Year'] = year\n",
    "\n",
    "# df_all = pd.concat(dfs, ignore_index=True)\n",
    "df_all = pd.concat(dfs, ignore_index=True).reset_index(drop=True)\n",
    "# df_all = df_all.sort_values(by=['Year', 'Month']).reset_index(drop=True)"
   ]
  },
  {
   "cell_type": "code",
   "execution_count": 24,
   "metadata": {},
   "outputs": [
    {
     "data": {
      "text/html": [
       "<div>\n",
       "<style scoped>\n",
       "    .dataframe tbody tr th:only-of-type {\n",
       "        vertical-align: middle;\n",
       "    }\n",
       "\n",
       "    .dataframe tbody tr th {\n",
       "        vertical-align: top;\n",
       "    }\n",
       "\n",
       "    .dataframe thead th {\n",
       "        text-align: right;\n",
       "    }\n",
       "</style>\n",
       "<table border=\"1\" class=\"dataframe\">\n",
       "  <thead>\n",
       "    <tr style=\"text-align: right;\">\n",
       "      <th></th>\n",
       "      <th>Month</th>\n",
       "      <th>Dep</th>\n",
       "      <th>Year</th>\n",
       "    </tr>\n",
       "  </thead>\n",
       "  <tbody>\n",
       "    <tr>\n",
       "      <th>0</th>\n",
       "      <td>January</td>\n",
       "      <td>1424291</td>\n",
       "      <td>2013</td>\n",
       "    </tr>\n",
       "    <tr>\n",
       "      <th>1</th>\n",
       "      <td>February</td>\n",
       "      <td>1285813</td>\n",
       "      <td>2013</td>\n",
       "    </tr>\n",
       "    <tr>\n",
       "      <th>2</th>\n",
       "      <td>March</td>\n",
       "      <td>1287728</td>\n",
       "      <td>2013</td>\n",
       "    </tr>\n",
       "    <tr>\n",
       "      <th>3</th>\n",
       "      <td>April</td>\n",
       "      <td>1395879</td>\n",
       "      <td>2013</td>\n",
       "    </tr>\n",
       "    <tr>\n",
       "      <th>4</th>\n",
       "      <td>May</td>\n",
       "      <td>1591906</td>\n",
       "      <td>2013</td>\n",
       "    </tr>\n",
       "    <tr>\n",
       "      <th>...</th>\n",
       "      <td>...</td>\n",
       "      <td>...</td>\n",
       "      <td>...</td>\n",
       "    </tr>\n",
       "    <tr>\n",
       "      <th>103</th>\n",
       "      <td>August</td>\n",
       "      <td>2160605</td>\n",
       "      <td>2022</td>\n",
       "    </tr>\n",
       "    <tr>\n",
       "      <th>104</th>\n",
       "      <td>September</td>\n",
       "      <td>2181964</td>\n",
       "      <td>2022</td>\n",
       "    </tr>\n",
       "    <tr>\n",
       "      <th>105</th>\n",
       "      <td>October</td>\n",
       "      <td>1999753</td>\n",
       "      <td>2022</td>\n",
       "    </tr>\n",
       "    <tr>\n",
       "      <th>106</th>\n",
       "      <td>November</td>\n",
       "      <td>1913010</td>\n",
       "      <td>2022</td>\n",
       "    </tr>\n",
       "    <tr>\n",
       "      <th>107</th>\n",
       "      <td>December</td>\n",
       "      <td>2155211</td>\n",
       "      <td>2022</td>\n",
       "    </tr>\n",
       "  </tbody>\n",
       "</table>\n",
       "<p>108 rows × 3 columns</p>\n",
       "</div>"
      ],
      "text/plain": [
       "         Month      Dep  Year\n",
       "0      January  1424291  2013\n",
       "1     February  1285813  2013\n",
       "2        March  1287728  2013\n",
       "3        April  1395879  2013\n",
       "4          May  1591906  2013\n",
       "..         ...      ...   ...\n",
       "103     August  2160605  2022\n",
       "104  September  2181964  2022\n",
       "105    October  1999753  2022\n",
       "106   November  1913010  2022\n",
       "107   December  2155211  2022\n",
       "\n",
       "[108 rows x 3 columns]"
      ]
     },
     "execution_count": 24,
     "metadata": {},
     "output_type": "execute_result"
    }
   ],
   "source": [
    "# df_all.to_csv(\"temp2.csv\",index=False)\n",
    "df_all"
   ]
  },
  {
   "cell_type": "code",
   "execution_count": 25,
   "metadata": {},
   "outputs": [
    {
     "data": {
      "text/html": [
       "<div>\n",
       "<style scoped>\n",
       "    .dataframe tbody tr th:only-of-type {\n",
       "        vertical-align: middle;\n",
       "    }\n",
       "\n",
       "    .dataframe tbody tr th {\n",
       "        vertical-align: top;\n",
       "    }\n",
       "\n",
       "    .dataframe thead th {\n",
       "        text-align: right;\n",
       "    }\n",
       "</style>\n",
       "<table border=\"1\" class=\"dataframe\">\n",
       "  <thead>\n",
       "    <tr style=\"text-align: right;\">\n",
       "      <th>Year</th>\n",
       "      <th>2013</th>\n",
       "      <th>2014</th>\n",
       "      <th>2016</th>\n",
       "      <th>2017</th>\n",
       "      <th>2018</th>\n",
       "      <th>2019</th>\n",
       "      <th>2020</th>\n",
       "      <th>2021</th>\n",
       "      <th>2022</th>\n",
       "    </tr>\n",
       "    <tr>\n",
       "      <th>Month</th>\n",
       "      <th></th>\n",
       "      <th></th>\n",
       "      <th></th>\n",
       "      <th></th>\n",
       "      <th></th>\n",
       "      <th></th>\n",
       "      <th></th>\n",
       "      <th></th>\n",
       "      <th></th>\n",
       "    </tr>\n",
       "  </thead>\n",
       "  <tbody>\n",
       "    <tr>\n",
       "      <th>January</th>\n",
       "      <td>1424291</td>\n",
       "      <td>1518285</td>\n",
       "      <td>1866995</td>\n",
       "      <td>1962619</td>\n",
       "      <td>2238035</td>\n",
       "      <td>2309062</td>\n",
       "      <td>2353147</td>\n",
       "      <td>689366</td>\n",
       "      <td>1304132</td>\n",
       "    </tr>\n",
       "    <tr>\n",
       "      <th>February</th>\n",
       "      <td>1285813</td>\n",
       "      <td>1328360</td>\n",
       "      <td>1605765</td>\n",
       "      <td>1714399</td>\n",
       "      <td>1839947</td>\n",
       "      <td>1992487</td>\n",
       "      <td>1983289</td>\n",
       "      <td>653071</td>\n",
       "      <td>1158239</td>\n",
       "    </tr>\n",
       "    <tr>\n",
       "      <th>March</th>\n",
       "      <td>1287728</td>\n",
       "      <td>1463879</td>\n",
       "      <td>1731968</td>\n",
       "      <td>1846395</td>\n",
       "      <td>2099266</td>\n",
       "      <td>2203115</td>\n",
       "      <td>851332</td>\n",
       "      <td>709010</td>\n",
       "      <td>1498482</td>\n",
       "    </tr>\n",
       "    <tr>\n",
       "      <th>April</th>\n",
       "      <td>1395879</td>\n",
       "      <td>1561150</td>\n",
       "      <td>1912473</td>\n",
       "      <td>2047568</td>\n",
       "      <td>2321632</td>\n",
       "      <td>2202018</td>\n",
       "      <td>6533</td>\n",
       "      <td>634663</td>\n",
       "      <td>1564581</td>\n",
       "    </tr>\n",
       "    <tr>\n",
       "      <th>May</th>\n",
       "      <td>1591906</td>\n",
       "      <td>1744621</td>\n",
       "      <td>2128686</td>\n",
       "      <td>2312939</td>\n",
       "      <td>2521860</td>\n",
       "      <td>2384815</td>\n",
       "      <td>22912</td>\n",
       "      <td>154873</td>\n",
       "      <td>1934175</td>\n",
       "    </tr>\n",
       "    <tr>\n",
       "      <th>June</th>\n",
       "      <td>1320676</td>\n",
       "      <td>1573931</td>\n",
       "      <td>1693204</td>\n",
       "      <td>1781817</td>\n",
       "      <td>2054526</td>\n",
       "      <td>2198582</td>\n",
       "      <td>68802</td>\n",
       "      <td>150717</td>\n",
       "      <td>1901784</td>\n",
       "    </tr>\n",
       "    <tr>\n",
       "      <th>July</th>\n",
       "      <td>1415677</td>\n",
       "      <td>1327984</td>\n",
       "      <td>1701014</td>\n",
       "      <td>1938221</td>\n",
       "      <td>2150580</td>\n",
       "      <td>2180437</td>\n",
       "      <td>135227</td>\n",
       "      <td>223956</td>\n",
       "      <td>1830798</td>\n",
       "    </tr>\n",
       "    <tr>\n",
       "      <th>August</th>\n",
       "      <td>1593409</td>\n",
       "      <td>1688554</td>\n",
       "      <td>2001816</td>\n",
       "      <td>2118235</td>\n",
       "      <td>2272537</td>\n",
       "      <td>2351701</td>\n",
       "      <td>211511</td>\n",
       "      <td>661188</td>\n",
       "      <td>2160605</td>\n",
       "    </tr>\n",
       "    <tr>\n",
       "      <th>September</th>\n",
       "      <td>1640118</td>\n",
       "      <td>1697955</td>\n",
       "      <td>1942743</td>\n",
       "      <td>2232437</td>\n",
       "      <td>2434217</td>\n",
       "      <td>2354445</td>\n",
       "      <td>304780</td>\n",
       "      <td>962026</td>\n",
       "      <td>2181964</td>\n",
       "    </tr>\n",
       "    <tr>\n",
       "      <th>October</th>\n",
       "      <td>1218333</td>\n",
       "      <td>1490000</td>\n",
       "      <td>1725665</td>\n",
       "      <td>1999069</td>\n",
       "      <td>2074788</td>\n",
       "      <td>2145065</td>\n",
       "      <td>372362</td>\n",
       "      <td>1096257</td>\n",
       "      <td>1999753</td>\n",
       "    </tr>\n",
       "    <tr>\n",
       "      <th>November</th>\n",
       "      <td>1438279</td>\n",
       "      <td>1388722</td>\n",
       "      <td>1721215</td>\n",
       "      <td>1856300</td>\n",
       "      <td>2087972</td>\n",
       "      <td>2147330</td>\n",
       "      <td>409155</td>\n",
       "      <td>1188345</td>\n",
       "      <td>1913010</td>\n",
       "    </tr>\n",
       "    <tr>\n",
       "      <th>December</th>\n",
       "      <td>1566117</td>\n",
       "      <td>1566514</td>\n",
       "      <td>1840451</td>\n",
       "      <td>2132958</td>\n",
       "      <td>2201124</td>\n",
       "      <td>2355977</td>\n",
       "      <td>575516</td>\n",
       "      <td>1427843</td>\n",
       "      <td>2155211</td>\n",
       "    </tr>\n",
       "  </tbody>\n",
       "</table>\n",
       "</div>"
      ],
      "text/plain": [
       "Year          2013     2014     2016     2017     2018     2019     2020     2021     2022\n",
       "Month                                                                                     \n",
       "January    1424291  1518285  1866995  1962619  2238035  2309062  2353147   689366  1304132\n",
       "February   1285813  1328360  1605765  1714399  1839947  1992487  1983289   653071  1158239\n",
       "March      1287728  1463879  1731968  1846395  2099266  2203115   851332   709010  1498482\n",
       "April      1395879  1561150  1912473  2047568  2321632  2202018     6533   634663  1564581\n",
       "May        1591906  1744621  2128686  2312939  2521860  2384815    22912   154873  1934175\n",
       "June       1320676  1573931  1693204  1781817  2054526  2198582    68802   150717  1901784\n",
       "July       1415677  1327984  1701014  1938221  2150580  2180437   135227   223956  1830798\n",
       "August     1593409  1688554  2001816  2118235  2272537  2351701   211511   661188  2160605\n",
       "September  1640118  1697955  1942743  2232437  2434217  2354445   304780   962026  2181964\n",
       "October    1218333  1490000  1725665  1999069  2074788  2145065   372362  1096257  1999753\n",
       "November   1438279  1388722  1721215  1856300  2087972  2147330   409155  1188345  1913010\n",
       "December   1566117  1566514  1840451  2132958  2201124  2355977   575516  1427843  2155211"
      ]
     },
     "execution_count": 25,
     "metadata": {},
     "output_type": "execute_result"
    }
   ],
   "source": [
    "# Create a pivot table with months as rows and years as columns for easier calculations\n",
    "# Define the month order from January to December\n",
    "month_order = [\"January\", \"February\", \"March\", \"April\", \"May\", \"June\", \n",
    "               \"July\", \"August\", \"September\", \"October\", \"November\", \"December\"]\n",
    "\n",
    "# Convert the \"Month\" column to a categorical type with a specific order\n",
    "df_all['Month'] = pd.Categorical(df_all['Month'], categories=month_order, ordered=True)\n",
    "\n",
    "# Now create the pivot table with the specified order\n",
    "df_pivot = df_all.pivot(index='Month', columns='Year', values='Dep').sort_index()\n",
    "\n",
    "# df_pivot = df_all.pivot(index='Month', columns='Year', values='Dep')\n",
    "df_pivot"
   ]
  },
  {
   "cell_type": "code",
   "execution_count": 26,
   "metadata": {},
   "outputs": [],
   "source": [
    "# Sum Dep for each year to get total yearly tourists\n",
    "total_yearly_tourists = df_all.groupby('Year')['Dep'].sum()\n",
    "\n",
    "# Calculate overall yearly change in absolute and percentage terms\n",
    "yearly_total_change_abs = total_yearly_tourists.diff().dropna()\n",
    "yearly_total_change_pct = yearly_total_change_abs / total_yearly_tourists.shift(1) * 100\n",
    "\n",
    "yearly_total_change_pct = yearly_total_change_pct.round(2)\n"
   ]
  },
  {
   "cell_type": "code",
   "execution_count": 27,
   "metadata": {},
   "outputs": [],
   "source": [
    "yearly_change_abs = df_pivot.diff(axis=1).drop(columns=2013)  # Skip 2013 as there's no prior year\n",
    "yearly_change_pct = df_pivot.pct_change(axis=1).drop(columns=2013) * 100  # Convert to percentage\n",
    "\n",
    "yearly_change_pct = yearly_change_pct.round(2)"
   ]
  },
  {
   "cell_type": "markdown",
   "metadata": {},
   "source": [
    "# 1-> Every Year"
   ]
  },
  {
   "cell_type": "code",
   "execution_count": 28,
   "metadata": {},
   "outputs": [
    {
     "name": "stdout",
     "output_type": "stream",
     "text": [
      "Total Yearly Absolute Change:\n",
      " Year\n",
      "2014     1171729.0\n",
      "2016     3522040.0\n",
      "2017     2070962.0\n",
      "2018     2353527.0\n",
      "2019      528550.0\n",
      "2020   -19530468.0\n",
      "2021     1256749.0\n",
      "2022    13051419.0\n",
      "Name: Dep, dtype: float64\n"
     ]
    }
   ],
   "source": [
    "# Sum Dep for each year to get total yearly tourists\n",
    "print(\"Total Yearly Absolute Change:\\n\", yearly_total_change_abs)"
   ]
  },
  {
   "cell_type": "code",
   "execution_count": 29,
   "metadata": {},
   "outputs": [
    {
     "data": {
      "text/plain": [
       "Year\n",
       "2014     1171729.0\n",
       "2016     3522040.0\n",
       "2017     2070962.0\n",
       "2018     2353527.0\n",
       "2019      528550.0\n",
       "2020   -19530468.0\n",
       "2021     1256749.0\n",
       "2022    13051419.0\n",
       "Name: Dep, dtype: float64"
      ]
     },
     "execution_count": 29,
     "metadata": {},
     "output_type": "execute_result"
    }
   ],
   "source": [
    "yearly_total_change_abs"
   ]
  },
  {
   "cell_type": "code",
   "execution_count": 30,
   "metadata": {},
   "outputs": [],
   "source": [
    "yearly_total_change_abs.to_csv(\"1_Yearly_absolute_change.csv\")"
   ]
  },
  {
   "cell_type": "code",
   "execution_count": 31,
   "metadata": {},
   "outputs": [
    {
     "name": "stdout",
     "output_type": "stream",
     "text": [
      "\n",
      "Total Yearly Percentage Change:\n",
      " Year\n",
      "2013       NaN\n",
      "2014      6.82\n",
      "2016     19.19\n",
      "2017      9.47\n",
      "2018      9.83\n",
      "2019      2.01\n",
      "2020    -72.81\n",
      "2021     17.23\n",
      "2022    152.62\n",
      "Name: Dep, dtype: float64\n"
     ]
    }
   ],
   "source": [
    "print(\"\\nTotal Yearly Percentage Change:\\n\", yearly_total_change_pct)"
   ]
  },
  {
   "cell_type": "code",
   "execution_count": 32,
   "metadata": {},
   "outputs": [],
   "source": [
    "yearly_total_change_pct.to_csv(\"1_Yearly_percentage_change.csv\")"
   ]
  },
  {
   "cell_type": "code",
   "execution_count": 33,
   "metadata": {},
   "outputs": [],
   "source": [
    "# yearly_change_abs = df_pivot.diff(axis=1).drop(columns=2013)  # Skip 2013 as there's no prior year\n",
    "# yearly_change_pct = df_pivot.pct_change(axis=1).drop(columns=2013) * 100  # Convert to percentage\n",
    "\n",
    "# yearly_change_pct = yearly_change_pct.round(2)"
   ]
  },
  {
   "cell_type": "code",
   "execution_count": 34,
   "metadata": {},
   "outputs": [],
   "source": [
    "# import plotly.graph_objects as go\n",
    "\n",
    "# # Assuming yearly_change_abs is your DataFrame with absolute yearly changes\n",
    "\n",
    "# # Create a Plotly figure\n",
    "# fig = go.Figure()\n",
    "\n",
    "# # Adding a line for each year in yearly_change_abs\n",
    "# for year in yearly_change_abs.columns:\n",
    "#     fig.add_trace(go.Scatter(\n",
    "#         x=yearly_change_abs.index, \n",
    "#         y=yearly_change_abs[year],\n",
    "#         mode='lines+markers',  # Adds markers on the line\n",
    "#         name=str(year),  # Each line is labeled by the year\n",
    "#         hovertemplate=f\"{year}: {{y:.2f}}\"  # Customize hover to show the absolute change\n",
    "#     ))\n",
    "\n",
    "# # Updating layout for the plot\n",
    "# fig.update_layout(\n",
    "#     title=\"Yearly Absolute Change in Dep\",\n",
    "#     xaxis_title=\"Month\",\n",
    "#     yaxis_title=\"Absolute Change\",\n",
    "#     template=\"plotly_white\",  # Light theme\n",
    "#     height=600,\n",
    "#     xaxis=dict(tickmode='array', tickvals=yearly_change_abs.index),\n",
    "#     legend_title=\"Year\",\n",
    "# )\n",
    "\n",
    "# # Show the plot\n",
    "# fig.show()"
   ]
  },
  {
   "cell_type": "code",
   "execution_count": 35,
   "metadata": {},
   "outputs": [
    {
     "data": {
      "application/vnd.plotly.v1+json": {
       "config": {
        "plotlyServerURL": "https://plot.ly"
       },
       "data": [
        {
         "marker": {
          "color": "skyblue"
         },
         "name": "Total Absolute Change",
         "text": [
          "1171729.00",
          "3522040.00",
          "2070962.00",
          "2353527.00",
          "528550.00",
          "-19530468.00",
          "1256749.00",
          "13051419.00"
         ],
         "textposition": "inside",
         "type": "bar",
         "x": [
          2014,
          2016,
          2017,
          2018,
          2019,
          2020,
          2021,
          2022
         ],
         "xaxis": "x",
         "y": [
          1171729,
          3522040,
          2070962,
          2353527,
          528550,
          -19530468,
          1256749,
          13051419
         ],
         "yaxis": "y"
        },
        {
         "marker": {
          "color": "lightgreen"
         },
         "name": "Total Percentage Change",
         "text": [
          "nan",
          "6.82",
          "19.19",
          "9.47",
          "9.83",
          "2.01",
          "-72.81",
          "17.23",
          "152.62"
         ],
         "textposition": "inside",
         "type": "bar",
         "x": [
          2013,
          2014,
          2016,
          2017,
          2018,
          2019,
          2020,
          2021,
          2022
         ],
         "xaxis": "x2",
         "y": [
          null,
          6.82,
          19.19,
          9.47,
          9.83,
          2.01,
          -72.81,
          17.23,
          152.62
         ],
         "yaxis": "y2"
        }
       ],
       "layout": {
        "annotations": [
         {
          "font": {
           "size": 16
          },
          "showarrow": false,
          "text": "Total Yearly Absolute Change in Dep",
          "x": 0.225,
          "xanchor": "center",
          "xref": "paper",
          "y": 1,
          "yanchor": "bottom",
          "yref": "paper"
         },
         {
          "font": {
           "size": 16
          },
          "showarrow": false,
          "text": "Total Yearly Percentage Change in Dep",
          "x": 0.775,
          "xanchor": "center",
          "xref": "paper",
          "y": 1,
          "yanchor": "bottom",
          "yref": "paper"
         }
        ],
        "height": 600,
        "legend": {
         "orientation": "h",
         "x": 0.5,
         "xanchor": "center",
         "y": 1.1,
         "yanchor": "bottom"
        },
        "template": {
         "data": {
          "bar": [
           {
            "error_x": {
             "color": "#2a3f5f"
            },
            "error_y": {
             "color": "#2a3f5f"
            },
            "marker": {
             "line": {
              "color": "white",
              "width": 0.5
             },
             "pattern": {
              "fillmode": "overlay",
              "size": 10,
              "solidity": 0.2
             }
            },
            "type": "bar"
           }
          ],
          "barpolar": [
           {
            "marker": {
             "line": {
              "color": "white",
              "width": 0.5
             },
             "pattern": {
              "fillmode": "overlay",
              "size": 10,
              "solidity": 0.2
             }
            },
            "type": "barpolar"
           }
          ],
          "carpet": [
           {
            "aaxis": {
             "endlinecolor": "#2a3f5f",
             "gridcolor": "#C8D4E3",
             "linecolor": "#C8D4E3",
             "minorgridcolor": "#C8D4E3",
             "startlinecolor": "#2a3f5f"
            },
            "baxis": {
             "endlinecolor": "#2a3f5f",
             "gridcolor": "#C8D4E3",
             "linecolor": "#C8D4E3",
             "minorgridcolor": "#C8D4E3",
             "startlinecolor": "#2a3f5f"
            },
            "type": "carpet"
           }
          ],
          "choropleth": [
           {
            "colorbar": {
             "outlinewidth": 0,
             "ticks": ""
            },
            "type": "choropleth"
           }
          ],
          "contour": [
           {
            "colorbar": {
             "outlinewidth": 0,
             "ticks": ""
            },
            "colorscale": [
             [
              0,
              "#0d0887"
             ],
             [
              0.1111111111111111,
              "#46039f"
             ],
             [
              0.2222222222222222,
              "#7201a8"
             ],
             [
              0.3333333333333333,
              "#9c179e"
             ],
             [
              0.4444444444444444,
              "#bd3786"
             ],
             [
              0.5555555555555556,
              "#d8576b"
             ],
             [
              0.6666666666666666,
              "#ed7953"
             ],
             [
              0.7777777777777778,
              "#fb9f3a"
             ],
             [
              0.8888888888888888,
              "#fdca26"
             ],
             [
              1,
              "#f0f921"
             ]
            ],
            "type": "contour"
           }
          ],
          "contourcarpet": [
           {
            "colorbar": {
             "outlinewidth": 0,
             "ticks": ""
            },
            "type": "contourcarpet"
           }
          ],
          "heatmap": [
           {
            "colorbar": {
             "outlinewidth": 0,
             "ticks": ""
            },
            "colorscale": [
             [
              0,
              "#0d0887"
             ],
             [
              0.1111111111111111,
              "#46039f"
             ],
             [
              0.2222222222222222,
              "#7201a8"
             ],
             [
              0.3333333333333333,
              "#9c179e"
             ],
             [
              0.4444444444444444,
              "#bd3786"
             ],
             [
              0.5555555555555556,
              "#d8576b"
             ],
             [
              0.6666666666666666,
              "#ed7953"
             ],
             [
              0.7777777777777778,
              "#fb9f3a"
             ],
             [
              0.8888888888888888,
              "#fdca26"
             ],
             [
              1,
              "#f0f921"
             ]
            ],
            "type": "heatmap"
           }
          ],
          "heatmapgl": [
           {
            "colorbar": {
             "outlinewidth": 0,
             "ticks": ""
            },
            "colorscale": [
             [
              0,
              "#0d0887"
             ],
             [
              0.1111111111111111,
              "#46039f"
             ],
             [
              0.2222222222222222,
              "#7201a8"
             ],
             [
              0.3333333333333333,
              "#9c179e"
             ],
             [
              0.4444444444444444,
              "#bd3786"
             ],
             [
              0.5555555555555556,
              "#d8576b"
             ],
             [
              0.6666666666666666,
              "#ed7953"
             ],
             [
              0.7777777777777778,
              "#fb9f3a"
             ],
             [
              0.8888888888888888,
              "#fdca26"
             ],
             [
              1,
              "#f0f921"
             ]
            ],
            "type": "heatmapgl"
           }
          ],
          "histogram": [
           {
            "marker": {
             "pattern": {
              "fillmode": "overlay",
              "size": 10,
              "solidity": 0.2
             }
            },
            "type": "histogram"
           }
          ],
          "histogram2d": [
           {
            "colorbar": {
             "outlinewidth": 0,
             "ticks": ""
            },
            "colorscale": [
             [
              0,
              "#0d0887"
             ],
             [
              0.1111111111111111,
              "#46039f"
             ],
             [
              0.2222222222222222,
              "#7201a8"
             ],
             [
              0.3333333333333333,
              "#9c179e"
             ],
             [
              0.4444444444444444,
              "#bd3786"
             ],
             [
              0.5555555555555556,
              "#d8576b"
             ],
             [
              0.6666666666666666,
              "#ed7953"
             ],
             [
              0.7777777777777778,
              "#fb9f3a"
             ],
             [
              0.8888888888888888,
              "#fdca26"
             ],
             [
              1,
              "#f0f921"
             ]
            ],
            "type": "histogram2d"
           }
          ],
          "histogram2dcontour": [
           {
            "colorbar": {
             "outlinewidth": 0,
             "ticks": ""
            },
            "colorscale": [
             [
              0,
              "#0d0887"
             ],
             [
              0.1111111111111111,
              "#46039f"
             ],
             [
              0.2222222222222222,
              "#7201a8"
             ],
             [
              0.3333333333333333,
              "#9c179e"
             ],
             [
              0.4444444444444444,
              "#bd3786"
             ],
             [
              0.5555555555555556,
              "#d8576b"
             ],
             [
              0.6666666666666666,
              "#ed7953"
             ],
             [
              0.7777777777777778,
              "#fb9f3a"
             ],
             [
              0.8888888888888888,
              "#fdca26"
             ],
             [
              1,
              "#f0f921"
             ]
            ],
            "type": "histogram2dcontour"
           }
          ],
          "mesh3d": [
           {
            "colorbar": {
             "outlinewidth": 0,
             "ticks": ""
            },
            "type": "mesh3d"
           }
          ],
          "parcoords": [
           {
            "line": {
             "colorbar": {
              "outlinewidth": 0,
              "ticks": ""
             }
            },
            "type": "parcoords"
           }
          ],
          "pie": [
           {
            "automargin": true,
            "type": "pie"
           }
          ],
          "scatter": [
           {
            "fillpattern": {
             "fillmode": "overlay",
             "size": 10,
             "solidity": 0.2
            },
            "type": "scatter"
           }
          ],
          "scatter3d": [
           {
            "line": {
             "colorbar": {
              "outlinewidth": 0,
              "ticks": ""
             }
            },
            "marker": {
             "colorbar": {
              "outlinewidth": 0,
              "ticks": ""
             }
            },
            "type": "scatter3d"
           }
          ],
          "scattercarpet": [
           {
            "marker": {
             "colorbar": {
              "outlinewidth": 0,
              "ticks": ""
             }
            },
            "type": "scattercarpet"
           }
          ],
          "scattergeo": [
           {
            "marker": {
             "colorbar": {
              "outlinewidth": 0,
              "ticks": ""
             }
            },
            "type": "scattergeo"
           }
          ],
          "scattergl": [
           {
            "marker": {
             "colorbar": {
              "outlinewidth": 0,
              "ticks": ""
             }
            },
            "type": "scattergl"
           }
          ],
          "scattermapbox": [
           {
            "marker": {
             "colorbar": {
              "outlinewidth": 0,
              "ticks": ""
             }
            },
            "type": "scattermapbox"
           }
          ],
          "scatterpolar": [
           {
            "marker": {
             "colorbar": {
              "outlinewidth": 0,
              "ticks": ""
             }
            },
            "type": "scatterpolar"
           }
          ],
          "scatterpolargl": [
           {
            "marker": {
             "colorbar": {
              "outlinewidth": 0,
              "ticks": ""
             }
            },
            "type": "scatterpolargl"
           }
          ],
          "scatterternary": [
           {
            "marker": {
             "colorbar": {
              "outlinewidth": 0,
              "ticks": ""
             }
            },
            "type": "scatterternary"
           }
          ],
          "surface": [
           {
            "colorbar": {
             "outlinewidth": 0,
             "ticks": ""
            },
            "colorscale": [
             [
              0,
              "#0d0887"
             ],
             [
              0.1111111111111111,
              "#46039f"
             ],
             [
              0.2222222222222222,
              "#7201a8"
             ],
             [
              0.3333333333333333,
              "#9c179e"
             ],
             [
              0.4444444444444444,
              "#bd3786"
             ],
             [
              0.5555555555555556,
              "#d8576b"
             ],
             [
              0.6666666666666666,
              "#ed7953"
             ],
             [
              0.7777777777777778,
              "#fb9f3a"
             ],
             [
              0.8888888888888888,
              "#fdca26"
             ],
             [
              1,
              "#f0f921"
             ]
            ],
            "type": "surface"
           }
          ],
          "table": [
           {
            "cells": {
             "fill": {
              "color": "#EBF0F8"
             },
             "line": {
              "color": "white"
             }
            },
            "header": {
             "fill": {
              "color": "#C8D4E3"
             },
             "line": {
              "color": "white"
             }
            },
            "type": "table"
           }
          ]
         },
         "layout": {
          "annotationdefaults": {
           "arrowcolor": "#2a3f5f",
           "arrowhead": 0,
           "arrowwidth": 1
          },
          "autotypenumbers": "strict",
          "coloraxis": {
           "colorbar": {
            "outlinewidth": 0,
            "ticks": ""
           }
          },
          "colorscale": {
           "diverging": [
            [
             0,
             "#8e0152"
            ],
            [
             0.1,
             "#c51b7d"
            ],
            [
             0.2,
             "#de77ae"
            ],
            [
             0.3,
             "#f1b6da"
            ],
            [
             0.4,
             "#fde0ef"
            ],
            [
             0.5,
             "#f7f7f7"
            ],
            [
             0.6,
             "#e6f5d0"
            ],
            [
             0.7,
             "#b8e186"
            ],
            [
             0.8,
             "#7fbc41"
            ],
            [
             0.9,
             "#4d9221"
            ],
            [
             1,
             "#276419"
            ]
           ],
           "sequential": [
            [
             0,
             "#0d0887"
            ],
            [
             0.1111111111111111,
             "#46039f"
            ],
            [
             0.2222222222222222,
             "#7201a8"
            ],
            [
             0.3333333333333333,
             "#9c179e"
            ],
            [
             0.4444444444444444,
             "#bd3786"
            ],
            [
             0.5555555555555556,
             "#d8576b"
            ],
            [
             0.6666666666666666,
             "#ed7953"
            ],
            [
             0.7777777777777778,
             "#fb9f3a"
            ],
            [
             0.8888888888888888,
             "#fdca26"
            ],
            [
             1,
             "#f0f921"
            ]
           ],
           "sequentialminus": [
            [
             0,
             "#0d0887"
            ],
            [
             0.1111111111111111,
             "#46039f"
            ],
            [
             0.2222222222222222,
             "#7201a8"
            ],
            [
             0.3333333333333333,
             "#9c179e"
            ],
            [
             0.4444444444444444,
             "#bd3786"
            ],
            [
             0.5555555555555556,
             "#d8576b"
            ],
            [
             0.6666666666666666,
             "#ed7953"
            ],
            [
             0.7777777777777778,
             "#fb9f3a"
            ],
            [
             0.8888888888888888,
             "#fdca26"
            ],
            [
             1,
             "#f0f921"
            ]
           ]
          },
          "colorway": [
           "#636efa",
           "#EF553B",
           "#00cc96",
           "#ab63fa",
           "#FFA15A",
           "#19d3f3",
           "#FF6692",
           "#B6E880",
           "#FF97FF",
           "#FECB52"
          ],
          "font": {
           "color": "#2a3f5f"
          },
          "geo": {
           "bgcolor": "white",
           "lakecolor": "white",
           "landcolor": "white",
           "showlakes": true,
           "showland": true,
           "subunitcolor": "#C8D4E3"
          },
          "hoverlabel": {
           "align": "left"
          },
          "hovermode": "closest",
          "mapbox": {
           "style": "light"
          },
          "paper_bgcolor": "white",
          "plot_bgcolor": "white",
          "polar": {
           "angularaxis": {
            "gridcolor": "#EBF0F8",
            "linecolor": "#EBF0F8",
            "ticks": ""
           },
           "bgcolor": "white",
           "radialaxis": {
            "gridcolor": "#EBF0F8",
            "linecolor": "#EBF0F8",
            "ticks": ""
           }
          },
          "scene": {
           "xaxis": {
            "backgroundcolor": "white",
            "gridcolor": "#DFE8F3",
            "gridwidth": 2,
            "linecolor": "#EBF0F8",
            "showbackground": true,
            "ticks": "",
            "zerolinecolor": "#EBF0F8"
           },
           "yaxis": {
            "backgroundcolor": "white",
            "gridcolor": "#DFE8F3",
            "gridwidth": 2,
            "linecolor": "#EBF0F8",
            "showbackground": true,
            "ticks": "",
            "zerolinecolor": "#EBF0F8"
           },
           "zaxis": {
            "backgroundcolor": "white",
            "gridcolor": "#DFE8F3",
            "gridwidth": 2,
            "linecolor": "#EBF0F8",
            "showbackground": true,
            "ticks": "",
            "zerolinecolor": "#EBF0F8"
           }
          },
          "shapedefaults": {
           "line": {
            "color": "#2a3f5f"
           }
          },
          "ternary": {
           "aaxis": {
            "gridcolor": "#DFE8F3",
            "linecolor": "#A2B1C6",
            "ticks": ""
           },
           "baxis": {
            "gridcolor": "#DFE8F3",
            "linecolor": "#A2B1C6",
            "ticks": ""
           },
           "bgcolor": "white",
           "caxis": {
            "gridcolor": "#DFE8F3",
            "linecolor": "#A2B1C6",
            "ticks": ""
           }
          },
          "title": {
           "x": 0.05
          },
          "xaxis": {
           "automargin": true,
           "gridcolor": "#EBF0F8",
           "linecolor": "#EBF0F8",
           "ticks": "",
           "title": {
            "standoff": 15
           },
           "zerolinecolor": "#EBF0F8",
           "zerolinewidth": 2
          },
          "yaxis": {
           "automargin": true,
           "gridcolor": "#EBF0F8",
           "linecolor": "#EBF0F8",
           "ticks": "",
           "title": {
            "standoff": 15
           },
           "zerolinecolor": "#EBF0F8",
           "zerolinewidth": 2
          }
         }
        },
        "xaxis": {
         "anchor": "y",
         "domain": [
          0,
          0.45
         ],
         "title": {
          "text": "Year"
         }
        },
        "xaxis2": {
         "anchor": "y2",
         "domain": [
          0.55,
          1
         ],
         "title": {
          "text": "Year"
         }
        },
        "yaxis": {
         "anchor": "x",
         "domain": [
          0,
          1
         ],
         "title": {
          "text": "Total Absolute Change"
         }
        },
        "yaxis2": {
         "anchor": "x2",
         "domain": [
          0,
          1
         ],
         "title": {
          "text": "Total Percentage Change (%)"
         }
        }
       }
      }
     },
     "metadata": {},
     "output_type": "display_data"
    }
   ],
   "source": [
    "import plotly.graph_objects as go\n",
    "from plotly.subplots import make_subplots\n",
    "\n",
    "# Assuming yearly_total_change_abs and yearly_total_change_pct are defined DataFrames/Series\n",
    "\n",
    "# Create a figure with two subplots side by side\n",
    "fig = make_subplots(rows=1, cols=2, subplot_titles=(\"Total Yearly Absolute Change in Dep\", \"Total Yearly Percentage Change in Dep\"))\n",
    "\n",
    "# Plotting total absolute change for each year (yearly_total_change_abs) as a bar plot\n",
    "fig.add_trace(go.Bar(\n",
    "    x=yearly_total_change_abs.index,\n",
    "    y=yearly_total_change_abs.values,\n",
    "    text=[f'{val:.2f}' for val in yearly_total_change_abs.values],  # Show values inside bars\n",
    "    textposition='inside',\n",
    "    marker_color='skyblue',\n",
    "    name='Total Absolute Change'\n",
    "), row=1, col=1)\n",
    "\n",
    "# Plotting total percentage change for each year (yearly_total_change_pct) as a bar plot\n",
    "fig.add_trace(go.Bar(\n",
    "    x=yearly_total_change_pct.index,\n",
    "    y=yearly_total_change_pct.values,\n",
    "    text=[f'{val:.2f}' for val in yearly_total_change_pct.values],  # Show values inside bars\n",
    "    textposition='inside',\n",
    "    marker_color='lightgreen',\n",
    "    name='Total Percentage Change'\n",
    "), row=1, col=2)\n",
    "\n",
    "# Update layout for the figure\n",
    "fig.update_layout(\n",
    "    # title=\"Total Yearly Change in Dep (Absolute and Percentage)\",\n",
    "    xaxis_title=\"Year\",\n",
    "    yaxis_title=\"Change\",\n",
    "    template=\"plotly_white\",  # Light theme\n",
    "    height=600,\n",
    "    legend=dict(\n",
    "        orientation=\"h\",  # Horizontal legend\n",
    "        yanchor=\"bottom\",  # Anchor legend to bottom\n",
    "        y=1.1,             # Position legend above the plot\n",
    "        xanchor=\"center\",  # Center align the legend\n",
    "        x=0.5              # Position in the middle horizontally\n",
    "    )\n",
    ")\n",
    "\n",
    "# Update individual axis titles for each subplot\n",
    "fig.update_xaxes(title_text=\"Year\", row=1, col=1)\n",
    "fig.update_yaxes(title_text=\"Total Absolute Change\", row=1, col=1)\n",
    "fig.update_xaxes(title_text=\"Year\", row=1, col=2)\n",
    "fig.update_yaxes(title_text=\"Total Percentage Change (%)\", row=1, col=2)\n",
    "\n",
    "# Show the plot\n",
    "fig.show()"
   ]
  },
  {
   "cell_type": "markdown",
   "metadata": {},
   "source": [
    "# 2 -> Every Month"
   ]
  },
  {
   "cell_type": "code",
   "execution_count": 36,
   "metadata": {},
   "outputs": [
    {
     "data": {
      "text/html": [
       "<div>\n",
       "<style scoped>\n",
       "    .dataframe tbody tr th:only-of-type {\n",
       "        vertical-align: middle;\n",
       "    }\n",
       "\n",
       "    .dataframe tbody tr th {\n",
       "        vertical-align: top;\n",
       "    }\n",
       "\n",
       "    .dataframe thead th {\n",
       "        text-align: right;\n",
       "    }\n",
       "</style>\n",
       "<table border=\"1\" class=\"dataframe\">\n",
       "  <thead>\n",
       "    <tr style=\"text-align: right;\">\n",
       "      <th>Year</th>\n",
       "      <th>2014</th>\n",
       "      <th>2016</th>\n",
       "      <th>2017</th>\n",
       "      <th>2018</th>\n",
       "      <th>2019</th>\n",
       "      <th>2020</th>\n",
       "      <th>2021</th>\n",
       "      <th>2022</th>\n",
       "    </tr>\n",
       "    <tr>\n",
       "      <th>Month</th>\n",
       "      <th></th>\n",
       "      <th></th>\n",
       "      <th></th>\n",
       "      <th></th>\n",
       "      <th></th>\n",
       "      <th></th>\n",
       "      <th></th>\n",
       "      <th></th>\n",
       "    </tr>\n",
       "  </thead>\n",
       "  <tbody>\n",
       "    <tr>\n",
       "      <th>January</th>\n",
       "      <td>93994</td>\n",
       "      <td>348710</td>\n",
       "      <td>95624</td>\n",
       "      <td>275416</td>\n",
       "      <td>71027</td>\n",
       "      <td>44085</td>\n",
       "      <td>-1663781</td>\n",
       "      <td>614766</td>\n",
       "    </tr>\n",
       "    <tr>\n",
       "      <th>February</th>\n",
       "      <td>42547</td>\n",
       "      <td>277405</td>\n",
       "      <td>108634</td>\n",
       "      <td>125548</td>\n",
       "      <td>152540</td>\n",
       "      <td>-9198</td>\n",
       "      <td>-1330218</td>\n",
       "      <td>505168</td>\n",
       "    </tr>\n",
       "    <tr>\n",
       "      <th>March</th>\n",
       "      <td>176151</td>\n",
       "      <td>268089</td>\n",
       "      <td>114427</td>\n",
       "      <td>252871</td>\n",
       "      <td>103849</td>\n",
       "      <td>-1351783</td>\n",
       "      <td>-142322</td>\n",
       "      <td>789472</td>\n",
       "    </tr>\n",
       "    <tr>\n",
       "      <th>April</th>\n",
       "      <td>165271</td>\n",
       "      <td>351323</td>\n",
       "      <td>135095</td>\n",
       "      <td>274064</td>\n",
       "      <td>-119614</td>\n",
       "      <td>-2195485</td>\n",
       "      <td>628130</td>\n",
       "      <td>929918</td>\n",
       "    </tr>\n",
       "    <tr>\n",
       "      <th>May</th>\n",
       "      <td>152715</td>\n",
       "      <td>384065</td>\n",
       "      <td>184253</td>\n",
       "      <td>208921</td>\n",
       "      <td>-137045</td>\n",
       "      <td>-2361903</td>\n",
       "      <td>131961</td>\n",
       "      <td>1779302</td>\n",
       "    </tr>\n",
       "    <tr>\n",
       "      <th>June</th>\n",
       "      <td>253255</td>\n",
       "      <td>119273</td>\n",
       "      <td>88613</td>\n",
       "      <td>272709</td>\n",
       "      <td>144056</td>\n",
       "      <td>-2129780</td>\n",
       "      <td>81915</td>\n",
       "      <td>1751067</td>\n",
       "    </tr>\n",
       "    <tr>\n",
       "      <th>July</th>\n",
       "      <td>-87693</td>\n",
       "      <td>373030</td>\n",
       "      <td>237207</td>\n",
       "      <td>212359</td>\n",
       "      <td>29857</td>\n",
       "      <td>-2045210</td>\n",
       "      <td>88729</td>\n",
       "      <td>1606842</td>\n",
       "    </tr>\n",
       "    <tr>\n",
       "      <th>August</th>\n",
       "      <td>95145</td>\n",
       "      <td>313262</td>\n",
       "      <td>116419</td>\n",
       "      <td>154302</td>\n",
       "      <td>79164</td>\n",
       "      <td>-2140190</td>\n",
       "      <td>449677</td>\n",
       "      <td>1499417</td>\n",
       "    </tr>\n",
       "    <tr>\n",
       "      <th>September</th>\n",
       "      <td>57837</td>\n",
       "      <td>244788</td>\n",
       "      <td>289694</td>\n",
       "      <td>201780</td>\n",
       "      <td>-79772</td>\n",
       "      <td>-2049665</td>\n",
       "      <td>657246</td>\n",
       "      <td>1219938</td>\n",
       "    </tr>\n",
       "    <tr>\n",
       "      <th>October</th>\n",
       "      <td>271667</td>\n",
       "      <td>235665</td>\n",
       "      <td>273404</td>\n",
       "      <td>75719</td>\n",
       "      <td>70277</td>\n",
       "      <td>-1772703</td>\n",
       "      <td>723895</td>\n",
       "      <td>903496</td>\n",
       "    </tr>\n",
       "    <tr>\n",
       "      <th>November</th>\n",
       "      <td>-49557</td>\n",
       "      <td>332493</td>\n",
       "      <td>135085</td>\n",
       "      <td>231672</td>\n",
       "      <td>59358</td>\n",
       "      <td>-1738175</td>\n",
       "      <td>779190</td>\n",
       "      <td>724665</td>\n",
       "    </tr>\n",
       "    <tr>\n",
       "      <th>December</th>\n",
       "      <td>397</td>\n",
       "      <td>273937</td>\n",
       "      <td>292507</td>\n",
       "      <td>68166</td>\n",
       "      <td>154853</td>\n",
       "      <td>-1780461</td>\n",
       "      <td>852327</td>\n",
       "      <td>727368</td>\n",
       "    </tr>\n",
       "  </tbody>\n",
       "</table>\n",
       "</div>"
      ],
      "text/plain": [
       "Year         2014    2016    2017    2018    2019     2020     2021     2022\n",
       "Month                                                                       \n",
       "January     93994  348710   95624  275416   71027    44085 -1663781   614766\n",
       "February    42547  277405  108634  125548  152540    -9198 -1330218   505168\n",
       "March      176151  268089  114427  252871  103849 -1351783  -142322   789472\n",
       "April      165271  351323  135095  274064 -119614 -2195485   628130   929918\n",
       "May        152715  384065  184253  208921 -137045 -2361903   131961  1779302\n",
       "June       253255  119273   88613  272709  144056 -2129780    81915  1751067\n",
       "July       -87693  373030  237207  212359   29857 -2045210    88729  1606842\n",
       "August      95145  313262  116419  154302   79164 -2140190   449677  1499417\n",
       "September   57837  244788  289694  201780  -79772 -2049665   657246  1219938\n",
       "October    271667  235665  273404   75719   70277 -1772703   723895   903496\n",
       "November   -49557  332493  135085  231672   59358 -1738175   779190   724665\n",
       "December      397  273937  292507   68166  154853 -1780461   852327   727368"
      ]
     },
     "execution_count": 36,
     "metadata": {},
     "output_type": "execute_result"
    }
   ],
   "source": [
    "# Calculate year-over-year absolute change and percentage change\n",
    "yearly_change_abs = df_pivot.diff(axis=1).drop(columns=2013)  # Skip 2013 as there's no prior year\n",
    "yearly_change_pct = df_pivot.pct_change(axis=1).drop(columns=2013) * 100  # Convert to percentage\n",
    "\n",
    "yearly_change_pct = yearly_change_pct.round(2)\n",
    "\n",
    "# Display changes for each year\n",
    "# print(\"Yearly Absolute Change:\\n\", yearly_change_abs)\n",
    "yearly_change_abs"
   ]
  },
  {
   "cell_type": "code",
   "execution_count": 37,
   "metadata": {},
   "outputs": [
    {
     "data": {
      "text/html": [
       "<div>\n",
       "<style scoped>\n",
       "    .dataframe tbody tr th:only-of-type {\n",
       "        vertical-align: middle;\n",
       "    }\n",
       "\n",
       "    .dataframe tbody tr th {\n",
       "        vertical-align: top;\n",
       "    }\n",
       "\n",
       "    .dataframe thead th {\n",
       "        text-align: right;\n",
       "    }\n",
       "</style>\n",
       "<table border=\"1\" class=\"dataframe\">\n",
       "  <thead>\n",
       "    <tr style=\"text-align: right;\">\n",
       "      <th>Year</th>\n",
       "      <th>2014</th>\n",
       "      <th>2016</th>\n",
       "      <th>2017</th>\n",
       "      <th>2018</th>\n",
       "      <th>2019</th>\n",
       "      <th>2020</th>\n",
       "      <th>2021</th>\n",
       "      <th>2022</th>\n",
       "    </tr>\n",
       "    <tr>\n",
       "      <th>Month</th>\n",
       "      <th></th>\n",
       "      <th></th>\n",
       "      <th></th>\n",
       "      <th></th>\n",
       "      <th></th>\n",
       "      <th></th>\n",
       "      <th></th>\n",
       "      <th></th>\n",
       "    </tr>\n",
       "  </thead>\n",
       "  <tbody>\n",
       "    <tr>\n",
       "      <th>January</th>\n",
       "      <td>6.60</td>\n",
       "      <td>22.97</td>\n",
       "      <td>5.12</td>\n",
       "      <td>14.03</td>\n",
       "      <td>3.17</td>\n",
       "      <td>1.91</td>\n",
       "      <td>-70.70</td>\n",
       "      <td>89.18</td>\n",
       "    </tr>\n",
       "    <tr>\n",
       "      <th>February</th>\n",
       "      <td>3.31</td>\n",
       "      <td>20.88</td>\n",
       "      <td>6.77</td>\n",
       "      <td>7.32</td>\n",
       "      <td>8.29</td>\n",
       "      <td>-0.46</td>\n",
       "      <td>-67.07</td>\n",
       "      <td>77.35</td>\n",
       "    </tr>\n",
       "    <tr>\n",
       "      <th>March</th>\n",
       "      <td>13.68</td>\n",
       "      <td>18.31</td>\n",
       "      <td>6.61</td>\n",
       "      <td>13.70</td>\n",
       "      <td>4.95</td>\n",
       "      <td>-61.36</td>\n",
       "      <td>-16.72</td>\n",
       "      <td>111.35</td>\n",
       "    </tr>\n",
       "    <tr>\n",
       "      <th>April</th>\n",
       "      <td>11.84</td>\n",
       "      <td>22.50</td>\n",
       "      <td>7.06</td>\n",
       "      <td>13.38</td>\n",
       "      <td>-5.15</td>\n",
       "      <td>-99.70</td>\n",
       "      <td>9614.73</td>\n",
       "      <td>146.52</td>\n",
       "    </tr>\n",
       "    <tr>\n",
       "      <th>May</th>\n",
       "      <td>9.59</td>\n",
       "      <td>22.01</td>\n",
       "      <td>8.66</td>\n",
       "      <td>9.03</td>\n",
       "      <td>-5.43</td>\n",
       "      <td>-99.04</td>\n",
       "      <td>575.95</td>\n",
       "      <td>1148.88</td>\n",
       "    </tr>\n",
       "    <tr>\n",
       "      <th>June</th>\n",
       "      <td>19.18</td>\n",
       "      <td>7.58</td>\n",
       "      <td>5.23</td>\n",
       "      <td>15.31</td>\n",
       "      <td>7.01</td>\n",
       "      <td>-96.87</td>\n",
       "      <td>119.06</td>\n",
       "      <td>1161.82</td>\n",
       "    </tr>\n",
       "    <tr>\n",
       "      <th>July</th>\n",
       "      <td>-6.19</td>\n",
       "      <td>28.09</td>\n",
       "      <td>13.95</td>\n",
       "      <td>10.96</td>\n",
       "      <td>1.39</td>\n",
       "      <td>-93.80</td>\n",
       "      <td>65.61</td>\n",
       "      <td>717.48</td>\n",
       "    </tr>\n",
       "    <tr>\n",
       "      <th>August</th>\n",
       "      <td>5.97</td>\n",
       "      <td>18.55</td>\n",
       "      <td>5.82</td>\n",
       "      <td>7.28</td>\n",
       "      <td>3.48</td>\n",
       "      <td>-91.01</td>\n",
       "      <td>212.60</td>\n",
       "      <td>226.78</td>\n",
       "    </tr>\n",
       "    <tr>\n",
       "      <th>September</th>\n",
       "      <td>3.53</td>\n",
       "      <td>14.42</td>\n",
       "      <td>14.91</td>\n",
       "      <td>9.04</td>\n",
       "      <td>-3.28</td>\n",
       "      <td>-87.06</td>\n",
       "      <td>215.65</td>\n",
       "      <td>126.81</td>\n",
       "    </tr>\n",
       "    <tr>\n",
       "      <th>October</th>\n",
       "      <td>22.30</td>\n",
       "      <td>15.82</td>\n",
       "      <td>15.84</td>\n",
       "      <td>3.79</td>\n",
       "      <td>3.39</td>\n",
       "      <td>-82.64</td>\n",
       "      <td>194.41</td>\n",
       "      <td>82.42</td>\n",
       "    </tr>\n",
       "    <tr>\n",
       "      <th>November</th>\n",
       "      <td>-3.45</td>\n",
       "      <td>23.94</td>\n",
       "      <td>7.85</td>\n",
       "      <td>12.48</td>\n",
       "      <td>2.84</td>\n",
       "      <td>-80.95</td>\n",
       "      <td>190.44</td>\n",
       "      <td>60.98</td>\n",
       "    </tr>\n",
       "    <tr>\n",
       "      <th>December</th>\n",
       "      <td>0.03</td>\n",
       "      <td>17.49</td>\n",
       "      <td>15.89</td>\n",
       "      <td>3.20</td>\n",
       "      <td>7.04</td>\n",
       "      <td>-75.57</td>\n",
       "      <td>148.10</td>\n",
       "      <td>50.94</td>\n",
       "    </tr>\n",
       "  </tbody>\n",
       "</table>\n",
       "</div>"
      ],
      "text/plain": [
       "Year        2014   2016   2017   2018  2019   2020     2021     2022\n",
       "Month                                                               \n",
       "January     6.60  22.97   5.12  14.03  3.17   1.91   -70.70    89.18\n",
       "February    3.31  20.88   6.77   7.32  8.29  -0.46   -67.07    77.35\n",
       "March      13.68  18.31   6.61  13.70  4.95 -61.36   -16.72   111.35\n",
       "April      11.84  22.50   7.06  13.38 -5.15 -99.70  9614.73   146.52\n",
       "May         9.59  22.01   8.66   9.03 -5.43 -99.04   575.95  1148.88\n",
       "June       19.18   7.58   5.23  15.31  7.01 -96.87   119.06  1161.82\n",
       "July       -6.19  28.09  13.95  10.96  1.39 -93.80    65.61   717.48\n",
       "August      5.97  18.55   5.82   7.28  3.48 -91.01   212.60   226.78\n",
       "September   3.53  14.42  14.91   9.04 -3.28 -87.06   215.65   126.81\n",
       "October    22.30  15.82  15.84   3.79  3.39 -82.64   194.41    82.42\n",
       "November   -3.45  23.94   7.85  12.48  2.84 -80.95   190.44    60.98\n",
       "December    0.03  17.49  15.89   3.20  7.04 -75.57   148.10    50.94"
      ]
     },
     "execution_count": 37,
     "metadata": {},
     "output_type": "execute_result"
    }
   ],
   "source": [
    "# print(\"Yearly Percentage Change:\\n\", yearly_change_pct)\n",
    "yearly_change_pct"
   ]
  },
  {
   "cell_type": "code",
   "execution_count": 38,
   "metadata": {},
   "outputs": [],
   "source": [
    "# yearly_change_abs.to_csv(\"1_a_a_yearly_absolute_change.csv\",index_label=False)\n",
    "# yearly_change_pct.to_csv(\"1_a_b_yearly_percentage_change.csv\",index_label=False)\n",
    "yearly_change_abs.to_csv(\"2_Monthly_absolute_change.csv\")\n",
    "yearly_change_pct.to_csv(\"2_Monthly_percent_change.csv\")"
   ]
  },
  {
   "cell_type": "code",
   "execution_count": 39,
   "metadata": {},
   "outputs": [
    {
     "data": {
      "application/vnd.plotly.v1+json": {
       "config": {
        "plotlyServerURL": "https://plot.ly"
       },
       "data": [
        {
         "hovertemplate": "2014: {y:.2f}",
         "mode": "lines+markers",
         "name": "2014",
         "type": "scatter",
         "x": [
          "January",
          "February",
          "March",
          "April",
          "May",
          "June",
          "July",
          "August",
          "September",
          "October",
          "November",
          "December"
         ],
         "y": [
          93994,
          42547,
          176151,
          165271,
          152715,
          253255,
          -87693,
          95145,
          57837,
          271667,
          -49557,
          397
         ]
        },
        {
         "hovertemplate": "2016: {y:.2f}",
         "mode": "lines+markers",
         "name": "2016",
         "type": "scatter",
         "x": [
          "January",
          "February",
          "March",
          "April",
          "May",
          "June",
          "July",
          "August",
          "September",
          "October",
          "November",
          "December"
         ],
         "y": [
          348710,
          277405,
          268089,
          351323,
          384065,
          119273,
          373030,
          313262,
          244788,
          235665,
          332493,
          273937
         ]
        },
        {
         "hovertemplate": "2017: {y:.2f}",
         "mode": "lines+markers",
         "name": "2017",
         "type": "scatter",
         "x": [
          "January",
          "February",
          "March",
          "April",
          "May",
          "June",
          "July",
          "August",
          "September",
          "October",
          "November",
          "December"
         ],
         "y": [
          95624,
          108634,
          114427,
          135095,
          184253,
          88613,
          237207,
          116419,
          289694,
          273404,
          135085,
          292507
         ]
        },
        {
         "hovertemplate": "2018: {y:.2f}",
         "mode": "lines+markers",
         "name": "2018",
         "type": "scatter",
         "x": [
          "January",
          "February",
          "March",
          "April",
          "May",
          "June",
          "July",
          "August",
          "September",
          "October",
          "November",
          "December"
         ],
         "y": [
          275416,
          125548,
          252871,
          274064,
          208921,
          272709,
          212359,
          154302,
          201780,
          75719,
          231672,
          68166
         ]
        },
        {
         "hovertemplate": "2019: {y:.2f}",
         "mode": "lines+markers",
         "name": "2019",
         "type": "scatter",
         "x": [
          "January",
          "February",
          "March",
          "April",
          "May",
          "June",
          "July",
          "August",
          "September",
          "October",
          "November",
          "December"
         ],
         "y": [
          71027,
          152540,
          103849,
          -119614,
          -137045,
          144056,
          29857,
          79164,
          -79772,
          70277,
          59358,
          154853
         ]
        },
        {
         "hovertemplate": "2020: {y:.2f}",
         "mode": "lines+markers",
         "name": "2020",
         "type": "scatter",
         "x": [
          "January",
          "February",
          "March",
          "April",
          "May",
          "June",
          "July",
          "August",
          "September",
          "October",
          "November",
          "December"
         ],
         "y": [
          44085,
          -9198,
          -1351783,
          -2195485,
          -2361903,
          -2129780,
          -2045210,
          -2140190,
          -2049665,
          -1772703,
          -1738175,
          -1780461
         ]
        },
        {
         "hovertemplate": "2021: {y:.2f}",
         "mode": "lines+markers",
         "name": "2021",
         "type": "scatter",
         "x": [
          "January",
          "February",
          "March",
          "April",
          "May",
          "June",
          "July",
          "August",
          "September",
          "October",
          "November",
          "December"
         ],
         "y": [
          -1663781,
          -1330218,
          -142322,
          628130,
          131961,
          81915,
          88729,
          449677,
          657246,
          723895,
          779190,
          852327
         ]
        },
        {
         "hovertemplate": "2022: {y:.2f}",
         "mode": "lines+markers",
         "name": "2022",
         "type": "scatter",
         "x": [
          "January",
          "February",
          "March",
          "April",
          "May",
          "June",
          "July",
          "August",
          "September",
          "October",
          "November",
          "December"
         ],
         "y": [
          614766,
          505168,
          789472,
          929918,
          1779302,
          1751067,
          1606842,
          1499417,
          1219938,
          903496,
          724665,
          727368
         ]
        }
       ],
       "layout": {
        "height": 600,
        "legend": {
         "title": {
          "text": "Year"
         }
        },
        "template": {
         "data": {
          "bar": [
           {
            "error_x": {
             "color": "#2a3f5f"
            },
            "error_y": {
             "color": "#2a3f5f"
            },
            "marker": {
             "line": {
              "color": "white",
              "width": 0.5
             },
             "pattern": {
              "fillmode": "overlay",
              "size": 10,
              "solidity": 0.2
             }
            },
            "type": "bar"
           }
          ],
          "barpolar": [
           {
            "marker": {
             "line": {
              "color": "white",
              "width": 0.5
             },
             "pattern": {
              "fillmode": "overlay",
              "size": 10,
              "solidity": 0.2
             }
            },
            "type": "barpolar"
           }
          ],
          "carpet": [
           {
            "aaxis": {
             "endlinecolor": "#2a3f5f",
             "gridcolor": "#C8D4E3",
             "linecolor": "#C8D4E3",
             "minorgridcolor": "#C8D4E3",
             "startlinecolor": "#2a3f5f"
            },
            "baxis": {
             "endlinecolor": "#2a3f5f",
             "gridcolor": "#C8D4E3",
             "linecolor": "#C8D4E3",
             "minorgridcolor": "#C8D4E3",
             "startlinecolor": "#2a3f5f"
            },
            "type": "carpet"
           }
          ],
          "choropleth": [
           {
            "colorbar": {
             "outlinewidth": 0,
             "ticks": ""
            },
            "type": "choropleth"
           }
          ],
          "contour": [
           {
            "colorbar": {
             "outlinewidth": 0,
             "ticks": ""
            },
            "colorscale": [
             [
              0,
              "#0d0887"
             ],
             [
              0.1111111111111111,
              "#46039f"
             ],
             [
              0.2222222222222222,
              "#7201a8"
             ],
             [
              0.3333333333333333,
              "#9c179e"
             ],
             [
              0.4444444444444444,
              "#bd3786"
             ],
             [
              0.5555555555555556,
              "#d8576b"
             ],
             [
              0.6666666666666666,
              "#ed7953"
             ],
             [
              0.7777777777777778,
              "#fb9f3a"
             ],
             [
              0.8888888888888888,
              "#fdca26"
             ],
             [
              1,
              "#f0f921"
             ]
            ],
            "type": "contour"
           }
          ],
          "contourcarpet": [
           {
            "colorbar": {
             "outlinewidth": 0,
             "ticks": ""
            },
            "type": "contourcarpet"
           }
          ],
          "heatmap": [
           {
            "colorbar": {
             "outlinewidth": 0,
             "ticks": ""
            },
            "colorscale": [
             [
              0,
              "#0d0887"
             ],
             [
              0.1111111111111111,
              "#46039f"
             ],
             [
              0.2222222222222222,
              "#7201a8"
             ],
             [
              0.3333333333333333,
              "#9c179e"
             ],
             [
              0.4444444444444444,
              "#bd3786"
             ],
             [
              0.5555555555555556,
              "#d8576b"
             ],
             [
              0.6666666666666666,
              "#ed7953"
             ],
             [
              0.7777777777777778,
              "#fb9f3a"
             ],
             [
              0.8888888888888888,
              "#fdca26"
             ],
             [
              1,
              "#f0f921"
             ]
            ],
            "type": "heatmap"
           }
          ],
          "heatmapgl": [
           {
            "colorbar": {
             "outlinewidth": 0,
             "ticks": ""
            },
            "colorscale": [
             [
              0,
              "#0d0887"
             ],
             [
              0.1111111111111111,
              "#46039f"
             ],
             [
              0.2222222222222222,
              "#7201a8"
             ],
             [
              0.3333333333333333,
              "#9c179e"
             ],
             [
              0.4444444444444444,
              "#bd3786"
             ],
             [
              0.5555555555555556,
              "#d8576b"
             ],
             [
              0.6666666666666666,
              "#ed7953"
             ],
             [
              0.7777777777777778,
              "#fb9f3a"
             ],
             [
              0.8888888888888888,
              "#fdca26"
             ],
             [
              1,
              "#f0f921"
             ]
            ],
            "type": "heatmapgl"
           }
          ],
          "histogram": [
           {
            "marker": {
             "pattern": {
              "fillmode": "overlay",
              "size": 10,
              "solidity": 0.2
             }
            },
            "type": "histogram"
           }
          ],
          "histogram2d": [
           {
            "colorbar": {
             "outlinewidth": 0,
             "ticks": ""
            },
            "colorscale": [
             [
              0,
              "#0d0887"
             ],
             [
              0.1111111111111111,
              "#46039f"
             ],
             [
              0.2222222222222222,
              "#7201a8"
             ],
             [
              0.3333333333333333,
              "#9c179e"
             ],
             [
              0.4444444444444444,
              "#bd3786"
             ],
             [
              0.5555555555555556,
              "#d8576b"
             ],
             [
              0.6666666666666666,
              "#ed7953"
             ],
             [
              0.7777777777777778,
              "#fb9f3a"
             ],
             [
              0.8888888888888888,
              "#fdca26"
             ],
             [
              1,
              "#f0f921"
             ]
            ],
            "type": "histogram2d"
           }
          ],
          "histogram2dcontour": [
           {
            "colorbar": {
             "outlinewidth": 0,
             "ticks": ""
            },
            "colorscale": [
             [
              0,
              "#0d0887"
             ],
             [
              0.1111111111111111,
              "#46039f"
             ],
             [
              0.2222222222222222,
              "#7201a8"
             ],
             [
              0.3333333333333333,
              "#9c179e"
             ],
             [
              0.4444444444444444,
              "#bd3786"
             ],
             [
              0.5555555555555556,
              "#d8576b"
             ],
             [
              0.6666666666666666,
              "#ed7953"
             ],
             [
              0.7777777777777778,
              "#fb9f3a"
             ],
             [
              0.8888888888888888,
              "#fdca26"
             ],
             [
              1,
              "#f0f921"
             ]
            ],
            "type": "histogram2dcontour"
           }
          ],
          "mesh3d": [
           {
            "colorbar": {
             "outlinewidth": 0,
             "ticks": ""
            },
            "type": "mesh3d"
           }
          ],
          "parcoords": [
           {
            "line": {
             "colorbar": {
              "outlinewidth": 0,
              "ticks": ""
             }
            },
            "type": "parcoords"
           }
          ],
          "pie": [
           {
            "automargin": true,
            "type": "pie"
           }
          ],
          "scatter": [
           {
            "fillpattern": {
             "fillmode": "overlay",
             "size": 10,
             "solidity": 0.2
            },
            "type": "scatter"
           }
          ],
          "scatter3d": [
           {
            "line": {
             "colorbar": {
              "outlinewidth": 0,
              "ticks": ""
             }
            },
            "marker": {
             "colorbar": {
              "outlinewidth": 0,
              "ticks": ""
             }
            },
            "type": "scatter3d"
           }
          ],
          "scattercarpet": [
           {
            "marker": {
             "colorbar": {
              "outlinewidth": 0,
              "ticks": ""
             }
            },
            "type": "scattercarpet"
           }
          ],
          "scattergeo": [
           {
            "marker": {
             "colorbar": {
              "outlinewidth": 0,
              "ticks": ""
             }
            },
            "type": "scattergeo"
           }
          ],
          "scattergl": [
           {
            "marker": {
             "colorbar": {
              "outlinewidth": 0,
              "ticks": ""
             }
            },
            "type": "scattergl"
           }
          ],
          "scattermapbox": [
           {
            "marker": {
             "colorbar": {
              "outlinewidth": 0,
              "ticks": ""
             }
            },
            "type": "scattermapbox"
           }
          ],
          "scatterpolar": [
           {
            "marker": {
             "colorbar": {
              "outlinewidth": 0,
              "ticks": ""
             }
            },
            "type": "scatterpolar"
           }
          ],
          "scatterpolargl": [
           {
            "marker": {
             "colorbar": {
              "outlinewidth": 0,
              "ticks": ""
             }
            },
            "type": "scatterpolargl"
           }
          ],
          "scatterternary": [
           {
            "marker": {
             "colorbar": {
              "outlinewidth": 0,
              "ticks": ""
             }
            },
            "type": "scatterternary"
           }
          ],
          "surface": [
           {
            "colorbar": {
             "outlinewidth": 0,
             "ticks": ""
            },
            "colorscale": [
             [
              0,
              "#0d0887"
             ],
             [
              0.1111111111111111,
              "#46039f"
             ],
             [
              0.2222222222222222,
              "#7201a8"
             ],
             [
              0.3333333333333333,
              "#9c179e"
             ],
             [
              0.4444444444444444,
              "#bd3786"
             ],
             [
              0.5555555555555556,
              "#d8576b"
             ],
             [
              0.6666666666666666,
              "#ed7953"
             ],
             [
              0.7777777777777778,
              "#fb9f3a"
             ],
             [
              0.8888888888888888,
              "#fdca26"
             ],
             [
              1,
              "#f0f921"
             ]
            ],
            "type": "surface"
           }
          ],
          "table": [
           {
            "cells": {
             "fill": {
              "color": "#EBF0F8"
             },
             "line": {
              "color": "white"
             }
            },
            "header": {
             "fill": {
              "color": "#C8D4E3"
             },
             "line": {
              "color": "white"
             }
            },
            "type": "table"
           }
          ]
         },
         "layout": {
          "annotationdefaults": {
           "arrowcolor": "#2a3f5f",
           "arrowhead": 0,
           "arrowwidth": 1
          },
          "autotypenumbers": "strict",
          "coloraxis": {
           "colorbar": {
            "outlinewidth": 0,
            "ticks": ""
           }
          },
          "colorscale": {
           "diverging": [
            [
             0,
             "#8e0152"
            ],
            [
             0.1,
             "#c51b7d"
            ],
            [
             0.2,
             "#de77ae"
            ],
            [
             0.3,
             "#f1b6da"
            ],
            [
             0.4,
             "#fde0ef"
            ],
            [
             0.5,
             "#f7f7f7"
            ],
            [
             0.6,
             "#e6f5d0"
            ],
            [
             0.7,
             "#b8e186"
            ],
            [
             0.8,
             "#7fbc41"
            ],
            [
             0.9,
             "#4d9221"
            ],
            [
             1,
             "#276419"
            ]
           ],
           "sequential": [
            [
             0,
             "#0d0887"
            ],
            [
             0.1111111111111111,
             "#46039f"
            ],
            [
             0.2222222222222222,
             "#7201a8"
            ],
            [
             0.3333333333333333,
             "#9c179e"
            ],
            [
             0.4444444444444444,
             "#bd3786"
            ],
            [
             0.5555555555555556,
             "#d8576b"
            ],
            [
             0.6666666666666666,
             "#ed7953"
            ],
            [
             0.7777777777777778,
             "#fb9f3a"
            ],
            [
             0.8888888888888888,
             "#fdca26"
            ],
            [
             1,
             "#f0f921"
            ]
           ],
           "sequentialminus": [
            [
             0,
             "#0d0887"
            ],
            [
             0.1111111111111111,
             "#46039f"
            ],
            [
             0.2222222222222222,
             "#7201a8"
            ],
            [
             0.3333333333333333,
             "#9c179e"
            ],
            [
             0.4444444444444444,
             "#bd3786"
            ],
            [
             0.5555555555555556,
             "#d8576b"
            ],
            [
             0.6666666666666666,
             "#ed7953"
            ],
            [
             0.7777777777777778,
             "#fb9f3a"
            ],
            [
             0.8888888888888888,
             "#fdca26"
            ],
            [
             1,
             "#f0f921"
            ]
           ]
          },
          "colorway": [
           "#636efa",
           "#EF553B",
           "#00cc96",
           "#ab63fa",
           "#FFA15A",
           "#19d3f3",
           "#FF6692",
           "#B6E880",
           "#FF97FF",
           "#FECB52"
          ],
          "font": {
           "color": "#2a3f5f"
          },
          "geo": {
           "bgcolor": "white",
           "lakecolor": "white",
           "landcolor": "white",
           "showlakes": true,
           "showland": true,
           "subunitcolor": "#C8D4E3"
          },
          "hoverlabel": {
           "align": "left"
          },
          "hovermode": "closest",
          "mapbox": {
           "style": "light"
          },
          "paper_bgcolor": "white",
          "plot_bgcolor": "white",
          "polar": {
           "angularaxis": {
            "gridcolor": "#EBF0F8",
            "linecolor": "#EBF0F8",
            "ticks": ""
           },
           "bgcolor": "white",
           "radialaxis": {
            "gridcolor": "#EBF0F8",
            "linecolor": "#EBF0F8",
            "ticks": ""
           }
          },
          "scene": {
           "xaxis": {
            "backgroundcolor": "white",
            "gridcolor": "#DFE8F3",
            "gridwidth": 2,
            "linecolor": "#EBF0F8",
            "showbackground": true,
            "ticks": "",
            "zerolinecolor": "#EBF0F8"
           },
           "yaxis": {
            "backgroundcolor": "white",
            "gridcolor": "#DFE8F3",
            "gridwidth": 2,
            "linecolor": "#EBF0F8",
            "showbackground": true,
            "ticks": "",
            "zerolinecolor": "#EBF0F8"
           },
           "zaxis": {
            "backgroundcolor": "white",
            "gridcolor": "#DFE8F3",
            "gridwidth": 2,
            "linecolor": "#EBF0F8",
            "showbackground": true,
            "ticks": "",
            "zerolinecolor": "#EBF0F8"
           }
          },
          "shapedefaults": {
           "line": {
            "color": "#2a3f5f"
           }
          },
          "ternary": {
           "aaxis": {
            "gridcolor": "#DFE8F3",
            "linecolor": "#A2B1C6",
            "ticks": ""
           },
           "baxis": {
            "gridcolor": "#DFE8F3",
            "linecolor": "#A2B1C6",
            "ticks": ""
           },
           "bgcolor": "white",
           "caxis": {
            "gridcolor": "#DFE8F3",
            "linecolor": "#A2B1C6",
            "ticks": ""
           }
          },
          "title": {
           "x": 0.05
          },
          "xaxis": {
           "automargin": true,
           "gridcolor": "#EBF0F8",
           "linecolor": "#EBF0F8",
           "ticks": "",
           "title": {
            "standoff": 15
           },
           "zerolinecolor": "#EBF0F8",
           "zerolinewidth": 2
          },
          "yaxis": {
           "automargin": true,
           "gridcolor": "#EBF0F8",
           "linecolor": "#EBF0F8",
           "ticks": "",
           "title": {
            "standoff": 15
           },
           "zerolinecolor": "#EBF0F8",
           "zerolinewidth": 2
          }
         }
        },
        "title": {
         "text": "Absolute Change in Dep"
        },
        "xaxis": {
         "tickmode": "array",
         "tickvals": [
          "January",
          "February",
          "March",
          "April",
          "May",
          "June",
          "July",
          "August",
          "September",
          "October",
          "November",
          "December"
         ],
         "title": {
          "text": "Month"
         }
        },
        "yaxis": {
         "title": {
          "text": "Absolute Change"
         }
        }
       }
      }
     },
     "metadata": {},
     "output_type": "display_data"
    }
   ],
   "source": [
    "import plotly.graph_objects as go\n",
    "\n",
    "# Assuming yearly_change_abs is your DataFrame with absolute yearly changes\n",
    "\n",
    "# Create a Plotly figure\n",
    "fig = go.Figure()\n",
    "\n",
    "# Adding a line for each year in yearly_change_abs\n",
    "for year in yearly_change_abs.columns:\n",
    "    fig.add_trace(go.Scatter(\n",
    "        x=yearly_change_abs.index, \n",
    "        y=yearly_change_abs[year],\n",
    "        mode='lines+markers',  # Adds markers on the line\n",
    "        name=str(year),  # Each line is labeled by the year\n",
    "        hovertemplate=f\"{year}: {{y:.2f}}\"  # Customize hover to show the absolute change\n",
    "    ))\n",
    "\n",
    "# Updating layout for the plot\n",
    "fig.update_layout(\n",
    "    # title=\"Yearly Absolute Change in Dep\",\n",
    "    title=\"Absolute Change in Dep\",\n",
    "    xaxis_title=\"Month\",\n",
    "    yaxis_title=\"Absolute Change\",\n",
    "    template=\"plotly_white\",  # Light theme\n",
    "    height=600,\n",
    "    xaxis=dict(tickmode='array', tickvals=yearly_change_abs.index),\n",
    "    legend_title=\"Year\",\n",
    ")\n",
    "\n",
    "# Show the plot\n",
    "fig.show()"
   ]
  },
  {
   "cell_type": "code",
   "execution_count": 40,
   "metadata": {},
   "outputs": [
    {
     "data": {
      "application/vnd.plotly.v1+json": {
       "config": {
        "plotlyServerURL": "https://plot.ly"
       },
       "data": [
        {
         "hovertemplate": "2014: {y:.2f}%",
         "mode": "lines+markers",
         "name": "2014",
         "type": "scatter",
         "x": [
          "January",
          "February",
          "March",
          "April",
          "May",
          "June",
          "July",
          "August",
          "September",
          "October",
          "November",
          "December"
         ],
         "y": [
          6.6,
          3.31,
          13.68,
          11.84,
          9.59,
          19.18,
          -6.19,
          5.97,
          3.53,
          22.3,
          -3.45,
          0.03
         ]
        },
        {
         "hovertemplate": "2016: {y:.2f}%",
         "mode": "lines+markers",
         "name": "2016",
         "type": "scatter",
         "x": [
          "January",
          "February",
          "March",
          "April",
          "May",
          "June",
          "July",
          "August",
          "September",
          "October",
          "November",
          "December"
         ],
         "y": [
          22.97,
          20.88,
          18.31,
          22.5,
          22.01,
          7.58,
          28.09,
          18.55,
          14.42,
          15.82,
          23.94,
          17.49
         ]
        },
        {
         "hovertemplate": "2017: {y:.2f}%",
         "mode": "lines+markers",
         "name": "2017",
         "type": "scatter",
         "x": [
          "January",
          "February",
          "March",
          "April",
          "May",
          "June",
          "July",
          "August",
          "September",
          "October",
          "November",
          "December"
         ],
         "y": [
          5.12,
          6.77,
          6.61,
          7.06,
          8.66,
          5.23,
          13.95,
          5.82,
          14.91,
          15.84,
          7.85,
          15.89
         ]
        },
        {
         "hovertemplate": "2018: {y:.2f}%",
         "mode": "lines+markers",
         "name": "2018",
         "type": "scatter",
         "x": [
          "January",
          "February",
          "March",
          "April",
          "May",
          "June",
          "July",
          "August",
          "September",
          "October",
          "November",
          "December"
         ],
         "y": [
          14.03,
          7.32,
          13.7,
          13.38,
          9.03,
          15.31,
          10.96,
          7.28,
          9.04,
          3.79,
          12.48,
          3.2
         ]
        },
        {
         "hovertemplate": "2019: {y:.2f}%",
         "mode": "lines+markers",
         "name": "2019",
         "type": "scatter",
         "x": [
          "January",
          "February",
          "March",
          "April",
          "May",
          "June",
          "July",
          "August",
          "September",
          "October",
          "November",
          "December"
         ],
         "y": [
          3.17,
          8.29,
          4.95,
          -5.15,
          -5.43,
          7.01,
          1.39,
          3.48,
          -3.28,
          3.39,
          2.84,
          7.04
         ]
        },
        {
         "hovertemplate": "2020: {y:.2f}%",
         "mode": "lines+markers",
         "name": "2020",
         "type": "scatter",
         "x": [
          "January",
          "February",
          "March",
          "April",
          "May",
          "June",
          "July",
          "August",
          "September",
          "October",
          "November",
          "December"
         ],
         "y": [
          1.91,
          -0.46,
          -61.36,
          -99.7,
          -99.04,
          -96.87,
          -93.8,
          -91.01,
          -87.06,
          -82.64,
          -80.95,
          -75.57
         ]
        },
        {
         "hovertemplate": "2021: {y:.2f}%",
         "mode": "lines+markers",
         "name": "2021",
         "type": "scatter",
         "x": [
          "January",
          "February",
          "March",
          "April",
          "May",
          "June",
          "July",
          "August",
          "September",
          "October",
          "November",
          "December"
         ],
         "y": [
          -70.7,
          -67.07,
          -16.72,
          9614.73,
          575.95,
          119.06,
          65.61,
          212.6,
          215.65,
          194.41,
          190.44,
          148.1
         ]
        },
        {
         "hovertemplate": "2022: {y:.2f}%",
         "mode": "lines+markers",
         "name": "2022",
         "type": "scatter",
         "x": [
          "January",
          "February",
          "March",
          "April",
          "May",
          "June",
          "July",
          "August",
          "September",
          "October",
          "November",
          "December"
         ],
         "y": [
          89.18,
          77.35,
          111.35,
          146.52,
          1148.88,
          1161.82,
          717.48,
          226.78,
          126.81,
          82.42,
          60.98,
          50.94
         ]
        }
       ],
       "layout": {
        "height": 600,
        "legend": {
         "title": {
          "text": "Year"
         }
        },
        "template": {
         "data": {
          "bar": [
           {
            "error_x": {
             "color": "#2a3f5f"
            },
            "error_y": {
             "color": "#2a3f5f"
            },
            "marker": {
             "line": {
              "color": "white",
              "width": 0.5
             },
             "pattern": {
              "fillmode": "overlay",
              "size": 10,
              "solidity": 0.2
             }
            },
            "type": "bar"
           }
          ],
          "barpolar": [
           {
            "marker": {
             "line": {
              "color": "white",
              "width": 0.5
             },
             "pattern": {
              "fillmode": "overlay",
              "size": 10,
              "solidity": 0.2
             }
            },
            "type": "barpolar"
           }
          ],
          "carpet": [
           {
            "aaxis": {
             "endlinecolor": "#2a3f5f",
             "gridcolor": "#C8D4E3",
             "linecolor": "#C8D4E3",
             "minorgridcolor": "#C8D4E3",
             "startlinecolor": "#2a3f5f"
            },
            "baxis": {
             "endlinecolor": "#2a3f5f",
             "gridcolor": "#C8D4E3",
             "linecolor": "#C8D4E3",
             "minorgridcolor": "#C8D4E3",
             "startlinecolor": "#2a3f5f"
            },
            "type": "carpet"
           }
          ],
          "choropleth": [
           {
            "colorbar": {
             "outlinewidth": 0,
             "ticks": ""
            },
            "type": "choropleth"
           }
          ],
          "contour": [
           {
            "colorbar": {
             "outlinewidth": 0,
             "ticks": ""
            },
            "colorscale": [
             [
              0,
              "#0d0887"
             ],
             [
              0.1111111111111111,
              "#46039f"
             ],
             [
              0.2222222222222222,
              "#7201a8"
             ],
             [
              0.3333333333333333,
              "#9c179e"
             ],
             [
              0.4444444444444444,
              "#bd3786"
             ],
             [
              0.5555555555555556,
              "#d8576b"
             ],
             [
              0.6666666666666666,
              "#ed7953"
             ],
             [
              0.7777777777777778,
              "#fb9f3a"
             ],
             [
              0.8888888888888888,
              "#fdca26"
             ],
             [
              1,
              "#f0f921"
             ]
            ],
            "type": "contour"
           }
          ],
          "contourcarpet": [
           {
            "colorbar": {
             "outlinewidth": 0,
             "ticks": ""
            },
            "type": "contourcarpet"
           }
          ],
          "heatmap": [
           {
            "colorbar": {
             "outlinewidth": 0,
             "ticks": ""
            },
            "colorscale": [
             [
              0,
              "#0d0887"
             ],
             [
              0.1111111111111111,
              "#46039f"
             ],
             [
              0.2222222222222222,
              "#7201a8"
             ],
             [
              0.3333333333333333,
              "#9c179e"
             ],
             [
              0.4444444444444444,
              "#bd3786"
             ],
             [
              0.5555555555555556,
              "#d8576b"
             ],
             [
              0.6666666666666666,
              "#ed7953"
             ],
             [
              0.7777777777777778,
              "#fb9f3a"
             ],
             [
              0.8888888888888888,
              "#fdca26"
             ],
             [
              1,
              "#f0f921"
             ]
            ],
            "type": "heatmap"
           }
          ],
          "heatmapgl": [
           {
            "colorbar": {
             "outlinewidth": 0,
             "ticks": ""
            },
            "colorscale": [
             [
              0,
              "#0d0887"
             ],
             [
              0.1111111111111111,
              "#46039f"
             ],
             [
              0.2222222222222222,
              "#7201a8"
             ],
             [
              0.3333333333333333,
              "#9c179e"
             ],
             [
              0.4444444444444444,
              "#bd3786"
             ],
             [
              0.5555555555555556,
              "#d8576b"
             ],
             [
              0.6666666666666666,
              "#ed7953"
             ],
             [
              0.7777777777777778,
              "#fb9f3a"
             ],
             [
              0.8888888888888888,
              "#fdca26"
             ],
             [
              1,
              "#f0f921"
             ]
            ],
            "type": "heatmapgl"
           }
          ],
          "histogram": [
           {
            "marker": {
             "pattern": {
              "fillmode": "overlay",
              "size": 10,
              "solidity": 0.2
             }
            },
            "type": "histogram"
           }
          ],
          "histogram2d": [
           {
            "colorbar": {
             "outlinewidth": 0,
             "ticks": ""
            },
            "colorscale": [
             [
              0,
              "#0d0887"
             ],
             [
              0.1111111111111111,
              "#46039f"
             ],
             [
              0.2222222222222222,
              "#7201a8"
             ],
             [
              0.3333333333333333,
              "#9c179e"
             ],
             [
              0.4444444444444444,
              "#bd3786"
             ],
             [
              0.5555555555555556,
              "#d8576b"
             ],
             [
              0.6666666666666666,
              "#ed7953"
             ],
             [
              0.7777777777777778,
              "#fb9f3a"
             ],
             [
              0.8888888888888888,
              "#fdca26"
             ],
             [
              1,
              "#f0f921"
             ]
            ],
            "type": "histogram2d"
           }
          ],
          "histogram2dcontour": [
           {
            "colorbar": {
             "outlinewidth": 0,
             "ticks": ""
            },
            "colorscale": [
             [
              0,
              "#0d0887"
             ],
             [
              0.1111111111111111,
              "#46039f"
             ],
             [
              0.2222222222222222,
              "#7201a8"
             ],
             [
              0.3333333333333333,
              "#9c179e"
             ],
             [
              0.4444444444444444,
              "#bd3786"
             ],
             [
              0.5555555555555556,
              "#d8576b"
             ],
             [
              0.6666666666666666,
              "#ed7953"
             ],
             [
              0.7777777777777778,
              "#fb9f3a"
             ],
             [
              0.8888888888888888,
              "#fdca26"
             ],
             [
              1,
              "#f0f921"
             ]
            ],
            "type": "histogram2dcontour"
           }
          ],
          "mesh3d": [
           {
            "colorbar": {
             "outlinewidth": 0,
             "ticks": ""
            },
            "type": "mesh3d"
           }
          ],
          "parcoords": [
           {
            "line": {
             "colorbar": {
              "outlinewidth": 0,
              "ticks": ""
             }
            },
            "type": "parcoords"
           }
          ],
          "pie": [
           {
            "automargin": true,
            "type": "pie"
           }
          ],
          "scatter": [
           {
            "fillpattern": {
             "fillmode": "overlay",
             "size": 10,
             "solidity": 0.2
            },
            "type": "scatter"
           }
          ],
          "scatter3d": [
           {
            "line": {
             "colorbar": {
              "outlinewidth": 0,
              "ticks": ""
             }
            },
            "marker": {
             "colorbar": {
              "outlinewidth": 0,
              "ticks": ""
             }
            },
            "type": "scatter3d"
           }
          ],
          "scattercarpet": [
           {
            "marker": {
             "colorbar": {
              "outlinewidth": 0,
              "ticks": ""
             }
            },
            "type": "scattercarpet"
           }
          ],
          "scattergeo": [
           {
            "marker": {
             "colorbar": {
              "outlinewidth": 0,
              "ticks": ""
             }
            },
            "type": "scattergeo"
           }
          ],
          "scattergl": [
           {
            "marker": {
             "colorbar": {
              "outlinewidth": 0,
              "ticks": ""
             }
            },
            "type": "scattergl"
           }
          ],
          "scattermapbox": [
           {
            "marker": {
             "colorbar": {
              "outlinewidth": 0,
              "ticks": ""
             }
            },
            "type": "scattermapbox"
           }
          ],
          "scatterpolar": [
           {
            "marker": {
             "colorbar": {
              "outlinewidth": 0,
              "ticks": ""
             }
            },
            "type": "scatterpolar"
           }
          ],
          "scatterpolargl": [
           {
            "marker": {
             "colorbar": {
              "outlinewidth": 0,
              "ticks": ""
             }
            },
            "type": "scatterpolargl"
           }
          ],
          "scatterternary": [
           {
            "marker": {
             "colorbar": {
              "outlinewidth": 0,
              "ticks": ""
             }
            },
            "type": "scatterternary"
           }
          ],
          "surface": [
           {
            "colorbar": {
             "outlinewidth": 0,
             "ticks": ""
            },
            "colorscale": [
             [
              0,
              "#0d0887"
             ],
             [
              0.1111111111111111,
              "#46039f"
             ],
             [
              0.2222222222222222,
              "#7201a8"
             ],
             [
              0.3333333333333333,
              "#9c179e"
             ],
             [
              0.4444444444444444,
              "#bd3786"
             ],
             [
              0.5555555555555556,
              "#d8576b"
             ],
             [
              0.6666666666666666,
              "#ed7953"
             ],
             [
              0.7777777777777778,
              "#fb9f3a"
             ],
             [
              0.8888888888888888,
              "#fdca26"
             ],
             [
              1,
              "#f0f921"
             ]
            ],
            "type": "surface"
           }
          ],
          "table": [
           {
            "cells": {
             "fill": {
              "color": "#EBF0F8"
             },
             "line": {
              "color": "white"
             }
            },
            "header": {
             "fill": {
              "color": "#C8D4E3"
             },
             "line": {
              "color": "white"
             }
            },
            "type": "table"
           }
          ]
         },
         "layout": {
          "annotationdefaults": {
           "arrowcolor": "#2a3f5f",
           "arrowhead": 0,
           "arrowwidth": 1
          },
          "autotypenumbers": "strict",
          "coloraxis": {
           "colorbar": {
            "outlinewidth": 0,
            "ticks": ""
           }
          },
          "colorscale": {
           "diverging": [
            [
             0,
             "#8e0152"
            ],
            [
             0.1,
             "#c51b7d"
            ],
            [
             0.2,
             "#de77ae"
            ],
            [
             0.3,
             "#f1b6da"
            ],
            [
             0.4,
             "#fde0ef"
            ],
            [
             0.5,
             "#f7f7f7"
            ],
            [
             0.6,
             "#e6f5d0"
            ],
            [
             0.7,
             "#b8e186"
            ],
            [
             0.8,
             "#7fbc41"
            ],
            [
             0.9,
             "#4d9221"
            ],
            [
             1,
             "#276419"
            ]
           ],
           "sequential": [
            [
             0,
             "#0d0887"
            ],
            [
             0.1111111111111111,
             "#46039f"
            ],
            [
             0.2222222222222222,
             "#7201a8"
            ],
            [
             0.3333333333333333,
             "#9c179e"
            ],
            [
             0.4444444444444444,
             "#bd3786"
            ],
            [
             0.5555555555555556,
             "#d8576b"
            ],
            [
             0.6666666666666666,
             "#ed7953"
            ],
            [
             0.7777777777777778,
             "#fb9f3a"
            ],
            [
             0.8888888888888888,
             "#fdca26"
            ],
            [
             1,
             "#f0f921"
            ]
           ],
           "sequentialminus": [
            [
             0,
             "#0d0887"
            ],
            [
             0.1111111111111111,
             "#46039f"
            ],
            [
             0.2222222222222222,
             "#7201a8"
            ],
            [
             0.3333333333333333,
             "#9c179e"
            ],
            [
             0.4444444444444444,
             "#bd3786"
            ],
            [
             0.5555555555555556,
             "#d8576b"
            ],
            [
             0.6666666666666666,
             "#ed7953"
            ],
            [
             0.7777777777777778,
             "#fb9f3a"
            ],
            [
             0.8888888888888888,
             "#fdca26"
            ],
            [
             1,
             "#f0f921"
            ]
           ]
          },
          "colorway": [
           "#636efa",
           "#EF553B",
           "#00cc96",
           "#ab63fa",
           "#FFA15A",
           "#19d3f3",
           "#FF6692",
           "#B6E880",
           "#FF97FF",
           "#FECB52"
          ],
          "font": {
           "color": "#2a3f5f"
          },
          "geo": {
           "bgcolor": "white",
           "lakecolor": "white",
           "landcolor": "white",
           "showlakes": true,
           "showland": true,
           "subunitcolor": "#C8D4E3"
          },
          "hoverlabel": {
           "align": "left"
          },
          "hovermode": "closest",
          "mapbox": {
           "style": "light"
          },
          "paper_bgcolor": "white",
          "plot_bgcolor": "white",
          "polar": {
           "angularaxis": {
            "gridcolor": "#EBF0F8",
            "linecolor": "#EBF0F8",
            "ticks": ""
           },
           "bgcolor": "white",
           "radialaxis": {
            "gridcolor": "#EBF0F8",
            "linecolor": "#EBF0F8",
            "ticks": ""
           }
          },
          "scene": {
           "xaxis": {
            "backgroundcolor": "white",
            "gridcolor": "#DFE8F3",
            "gridwidth": 2,
            "linecolor": "#EBF0F8",
            "showbackground": true,
            "ticks": "",
            "zerolinecolor": "#EBF0F8"
           },
           "yaxis": {
            "backgroundcolor": "white",
            "gridcolor": "#DFE8F3",
            "gridwidth": 2,
            "linecolor": "#EBF0F8",
            "showbackground": true,
            "ticks": "",
            "zerolinecolor": "#EBF0F8"
           },
           "zaxis": {
            "backgroundcolor": "white",
            "gridcolor": "#DFE8F3",
            "gridwidth": 2,
            "linecolor": "#EBF0F8",
            "showbackground": true,
            "ticks": "",
            "zerolinecolor": "#EBF0F8"
           }
          },
          "shapedefaults": {
           "line": {
            "color": "#2a3f5f"
           }
          },
          "ternary": {
           "aaxis": {
            "gridcolor": "#DFE8F3",
            "linecolor": "#A2B1C6",
            "ticks": ""
           },
           "baxis": {
            "gridcolor": "#DFE8F3",
            "linecolor": "#A2B1C6",
            "ticks": ""
           },
           "bgcolor": "white",
           "caxis": {
            "gridcolor": "#DFE8F3",
            "linecolor": "#A2B1C6",
            "ticks": ""
           }
          },
          "title": {
           "x": 0.05
          },
          "xaxis": {
           "automargin": true,
           "gridcolor": "#EBF0F8",
           "linecolor": "#EBF0F8",
           "ticks": "",
           "title": {
            "standoff": 15
           },
           "zerolinecolor": "#EBF0F8",
           "zerolinewidth": 2
          },
          "yaxis": {
           "automargin": true,
           "gridcolor": "#EBF0F8",
           "linecolor": "#EBF0F8",
           "ticks": "",
           "title": {
            "standoff": 15
           },
           "zerolinecolor": "#EBF0F8",
           "zerolinewidth": 2
          }
         }
        },
        "title": {
         "text": "Percentage Change in Dep"
        },
        "xaxis": {
         "tickmode": "array",
         "tickvals": [
          "January",
          "February",
          "March",
          "April",
          "May",
          "June",
          "July",
          "August",
          "September",
          "October",
          "November",
          "December"
         ],
         "title": {
          "text": "Month"
         }
        },
        "yaxis": {
         "title": {
          "text": "Percentage Change (%)"
         }
        }
       }
      }
     },
     "metadata": {},
     "output_type": "display_data"
    }
   ],
   "source": [
    "import plotly.graph_objects as go\n",
    "\n",
    "# Assuming yearly_change_pct is your DataFrame with percentage yearly changes\n",
    "\n",
    "# Create a Plotly figure\n",
    "fig = go.Figure()\n",
    "\n",
    "# Adding a line for each year in yearly_change_pct\n",
    "for year in yearly_change_pct.columns:\n",
    "    fig.add_trace(go.Scatter(\n",
    "        x=yearly_change_pct.index, \n",
    "        y=yearly_change_pct[year],\n",
    "        mode='lines+markers',  # Adds markers on the line\n",
    "        name=str(year),  # Each line is labeled by the year\n",
    "        hovertemplate=f\"{year}: {{y:.2f}}%\"  # Customize hover format for percentage\n",
    "    ))\n",
    "\n",
    "# Updating layout for the plot\n",
    "fig.update_layout(\n",
    "    # title=\"Yearly Percentage Change in Dep\",\n",
    "    title=\"Percentage Change in Dep\",\n",
    "    xaxis_title=\"Month\",\n",
    "    yaxis_title=\"Percentage Change (%)\",\n",
    "    template=\"plotly_white\",  # Light theme\n",
    "    height=600,\n",
    "    xaxis=dict(tickmode='array', tickvals=yearly_change_pct.index),\n",
    "    legend_title=\"Year\",\n",
    ")\n",
    "\n",
    "# Show the plot\n",
    "fig.show()"
   ]
  },
  {
   "cell_type": "markdown",
   "metadata": {},
   "source": [
    "## Every year"
   ]
  },
  {
   "cell_type": "code",
   "execution_count": 41,
   "metadata": {},
   "outputs": [],
   "source": [
    "# # Sum Dep for each year to get total yearly tourists\n",
    "# total_yearly_tourists = df_all.groupby('Year')['Dep'].sum()\n",
    "\n",
    "# # Calculate overall yearly change in absolute and percentage terms\n",
    "# yearly_total_change_abs = total_yearly_tourists.diff().dropna()\n",
    "# yearly_total_change_pct = yearly_total_change_abs / total_yearly_tourists.shift(1) * 100\n",
    "\n",
    "# yearly_total_change_pct = yearly_total_change_pct.round(2)\n",
    "\n",
    "\n",
    "# print(\"Total Yearly Absolute Change:\\n\", yearly_total_change_abs)"
   ]
  },
  {
   "cell_type": "code",
   "execution_count": 42,
   "metadata": {},
   "outputs": [],
   "source": [
    "# print(\"\\nTotal Yearly Percentage Change:\\n\", yearly_total_change_pct)"
   ]
  },
  {
   "cell_type": "code",
   "execution_count": 43,
   "metadata": {},
   "outputs": [],
   "source": [
    "# import plotly.graph_objects as go\n",
    "# from plotly.subplots import make_subplots\n",
    "\n",
    "# # Assuming yearly_total_change_abs and yearly_total_change_pct are defined DataFrames/Series\n",
    "\n",
    "# # Create a figure with two subplots side by side\n",
    "# fig = make_subplots(rows=1, cols=2, subplot_titles=(\"Total Yearly Absolute Change in Dep\", \"Total Yearly Percentage Change in Dep\"))\n",
    "\n",
    "# # Plotting total absolute change for each year (yearly_total_change_abs) as a bar plot\n",
    "# fig.add_trace(go.Bar(\n",
    "#     x=yearly_total_change_abs.index,\n",
    "#     y=yearly_total_change_abs.values,\n",
    "#     text=[f'{val:.2f}' for val in yearly_total_change_abs.values],  # Show values inside bars\n",
    "#     textposition='inside',\n",
    "#     marker_color='skyblue',\n",
    "#     name='Total Absolute Change'\n",
    "# ), row=1, col=1)\n",
    "\n",
    "# # Plotting total percentage change for each year (yearly_total_change_pct) as a bar plot\n",
    "# fig.add_trace(go.Bar(\n",
    "#     x=yearly_total_change_pct.index,\n",
    "#     y=yearly_total_change_pct.values,\n",
    "#     text=[f'{val:.2f}' for val in yearly_total_change_pct.values],  # Show values inside bars\n",
    "#     textposition='inside',\n",
    "#     marker_color='lightgreen',\n",
    "#     name='Total Percentage Change'\n",
    "# ), row=1, col=2)\n",
    "\n",
    "# # Update layout for the figure\n",
    "# fig.update_layout(\n",
    "#     # title=\"Total Yearly Change in Dep (Absolute and Percentage)\",\n",
    "#     xaxis_title=\"Year\",\n",
    "#     yaxis_title=\"Change\",\n",
    "#     template=\"plotly_white\",  # Light theme\n",
    "#     height=600,\n",
    "#     legend=dict(\n",
    "#         orientation=\"h\",  # Horizontal legend\n",
    "#         yanchor=\"bottom\",  # Anchor legend to bottom\n",
    "#         y=1.1,             # Position legend above the plot\n",
    "#         xanchor=\"center\",  # Center align the legend\n",
    "#         x=0.5              # Position in the middle horizontally\n",
    "#     )\n",
    "# )\n",
    "\n",
    "# # Update individual axis titles for each subplot\n",
    "# fig.update_xaxes(title_text=\"Year\", row=1, col=1)\n",
    "# fig.update_yaxes(title_text=\"Total Absolute Change\", row=1, col=1)\n",
    "# fig.update_xaxes(title_text=\"Year\", row=1, col=2)\n",
    "# fig.update_yaxes(title_text=\"Total Percentage Change (%)\", row=1, col=2)\n",
    "\n",
    "# # Show the plot\n",
    "# fig.show()"
   ]
  },
  {
   "cell_type": "markdown",
   "metadata": {},
   "source": [
    "# 3"
   ]
  },
  {
   "cell_type": "code",
   "execution_count": 44,
   "metadata": {},
   "outputs": [],
   "source": [
    "# Find highest positive and negative changes in absolute and percentage terms\n",
    "highest_abs_change_year = yearly_total_change_abs.idxmax(), yearly_total_change_abs.max()\n",
    "lowest_abs_change_year = yearly_total_change_abs.idxmin(), yearly_total_change_abs.min()\n",
    "\n",
    "highest_pct_change_year = yearly_total_change_pct.idxmax(), yearly_total_change_pct.max()\n",
    "lowest_pct_change_year = yearly_total_change_pct.idxmin(), yearly_total_change_pct.min()\n",
    "\n",
    "# Convert the results to native Python types (int and float)\n",
    "highest_abs_change_year = (int(highest_abs_change_year[0]), float(highest_abs_change_year[1]))\n",
    "lowest_abs_change_year = (int(lowest_abs_change_year[0]), float(lowest_abs_change_year[1]))\n",
    "\n",
    "highest_pct_change_year = (int(highest_pct_change_year[0]), float(highest_pct_change_year[1]))\n",
    "lowest_pct_change_year = (int(lowest_pct_change_year[0]), float(lowest_pct_change_year[1]))\n",
    "\n",
    "# highest_pct_change_year = highest_pct_change_year.round(2)\n",
    "# lowest_pct_change_year = lowest_pct_change_year.round(2)\n",
    "\n",
    "# Print the results\n",
    "# print(\"Highest Absolute Change:\", highest_abs_change_year)\n",
    "# print(\"Lowest Absolute Change:\", lowest_abs_change_year)\n",
    "# print(\"Highest Percentage Change:\", highest_pct_change_year)\n",
    "# print(\"Lowest Percentage Change:\", lowest_pct_change_year)\n",
    "\n",
    "df_results = pd.DataFrame({\n",
    "    \"Type\": [\"Highest Absolute Change\", \"Lowest Absolute Change\", \"Highest Percentage Change\", \"Lowest Percentage Change\"],\n",
    "    \"Year\": [highest_abs_change_year[0], lowest_abs_change_year[0], highest_pct_change_year[0], lowest_pct_change_year[0]],\n",
    "    \"Value\": [highest_abs_change_year[1], lowest_abs_change_year[1], highest_pct_change_year[1], lowest_pct_change_year[1]]\n",
    "})"
   ]
  },
  {
   "cell_type": "code",
   "execution_count": 45,
   "metadata": {},
   "outputs": [],
   "source": [
    "df_results.to_csv(\"3_Hi_lo_Abs_Pct_Year_change.csv\",index=False)"
   ]
  },
  {
   "cell_type": "code",
   "execution_count": 46,
   "metadata": {},
   "outputs": [
    {
     "data": {
      "application/vnd.plotly.v1+json": {
       "config": {
        "plotlyServerURL": "https://plot.ly"
       },
       "data": [
        {
         "marker": {
          "color": [
           "skyblue",
           "lightcoral"
          ]
         },
         "name": "Absolute Change",
         "text": [
          "2014: 5,831,498.00",
          "2020: -8,185,589.00"
         ],
         "textposition": "inside",
         "type": "bar",
         "x": [
          "Highest Absolute Change",
          "Lowest Absolute Change"
         ],
         "xaxis": "x",
         "y": [
          5831498,
          -8185589
         ],
         "yaxis": "y"
        },
        {
         "marker": {
          "color": [
           "lightgreen",
           "blue"
          ]
         },
         "name": "Percentage Change",
         "text": [
          "2022: 321.54%",
          "2020: -74.89%"
         ],
         "textposition": "inside",
         "type": "bar",
         "x": [
          "Highest Percentage Change",
          "Lowest Percentage Change"
         ],
         "xaxis": "x2",
         "y": [
          321.54,
          -74.89
         ],
         "yaxis": "y2"
        }
       ],
       "layout": {
        "annotations": [
         {
          "font": {
           "size": 16
          },
          "showarrow": false,
          "text": "Highest and Lowest Absolute Change",
          "x": 0.225,
          "xanchor": "center",
          "xref": "paper",
          "y": 1,
          "yanchor": "bottom",
          "yref": "paper"
         },
         {
          "font": {
           "size": 16
          },
          "showarrow": false,
          "text": "Highest and Lowest Percentage Change",
          "x": 0.775,
          "xanchor": "center",
          "xref": "paper",
          "y": 1,
          "yanchor": "bottom",
          "yref": "paper"
         }
        ],
        "height": 500,
        "showlegend": false,
        "template": {
         "data": {
          "bar": [
           {
            "error_x": {
             "color": "#2a3f5f"
            },
            "error_y": {
             "color": "#2a3f5f"
            },
            "marker": {
             "line": {
              "color": "white",
              "width": 0.5
             },
             "pattern": {
              "fillmode": "overlay",
              "size": 10,
              "solidity": 0.2
             }
            },
            "type": "bar"
           }
          ],
          "barpolar": [
           {
            "marker": {
             "line": {
              "color": "white",
              "width": 0.5
             },
             "pattern": {
              "fillmode": "overlay",
              "size": 10,
              "solidity": 0.2
             }
            },
            "type": "barpolar"
           }
          ],
          "carpet": [
           {
            "aaxis": {
             "endlinecolor": "#2a3f5f",
             "gridcolor": "#C8D4E3",
             "linecolor": "#C8D4E3",
             "minorgridcolor": "#C8D4E3",
             "startlinecolor": "#2a3f5f"
            },
            "baxis": {
             "endlinecolor": "#2a3f5f",
             "gridcolor": "#C8D4E3",
             "linecolor": "#C8D4E3",
             "minorgridcolor": "#C8D4E3",
             "startlinecolor": "#2a3f5f"
            },
            "type": "carpet"
           }
          ],
          "choropleth": [
           {
            "colorbar": {
             "outlinewidth": 0,
             "ticks": ""
            },
            "type": "choropleth"
           }
          ],
          "contour": [
           {
            "colorbar": {
             "outlinewidth": 0,
             "ticks": ""
            },
            "colorscale": [
             [
              0,
              "#0d0887"
             ],
             [
              0.1111111111111111,
              "#46039f"
             ],
             [
              0.2222222222222222,
              "#7201a8"
             ],
             [
              0.3333333333333333,
              "#9c179e"
             ],
             [
              0.4444444444444444,
              "#bd3786"
             ],
             [
              0.5555555555555556,
              "#d8576b"
             ],
             [
              0.6666666666666666,
              "#ed7953"
             ],
             [
              0.7777777777777778,
              "#fb9f3a"
             ],
             [
              0.8888888888888888,
              "#fdca26"
             ],
             [
              1,
              "#f0f921"
             ]
            ],
            "type": "contour"
           }
          ],
          "contourcarpet": [
           {
            "colorbar": {
             "outlinewidth": 0,
             "ticks": ""
            },
            "type": "contourcarpet"
           }
          ],
          "heatmap": [
           {
            "colorbar": {
             "outlinewidth": 0,
             "ticks": ""
            },
            "colorscale": [
             [
              0,
              "#0d0887"
             ],
             [
              0.1111111111111111,
              "#46039f"
             ],
             [
              0.2222222222222222,
              "#7201a8"
             ],
             [
              0.3333333333333333,
              "#9c179e"
             ],
             [
              0.4444444444444444,
              "#bd3786"
             ],
             [
              0.5555555555555556,
              "#d8576b"
             ],
             [
              0.6666666666666666,
              "#ed7953"
             ],
             [
              0.7777777777777778,
              "#fb9f3a"
             ],
             [
              0.8888888888888888,
              "#fdca26"
             ],
             [
              1,
              "#f0f921"
             ]
            ],
            "type": "heatmap"
           }
          ],
          "heatmapgl": [
           {
            "colorbar": {
             "outlinewidth": 0,
             "ticks": ""
            },
            "colorscale": [
             [
              0,
              "#0d0887"
             ],
             [
              0.1111111111111111,
              "#46039f"
             ],
             [
              0.2222222222222222,
              "#7201a8"
             ],
             [
              0.3333333333333333,
              "#9c179e"
             ],
             [
              0.4444444444444444,
              "#bd3786"
             ],
             [
              0.5555555555555556,
              "#d8576b"
             ],
             [
              0.6666666666666666,
              "#ed7953"
             ],
             [
              0.7777777777777778,
              "#fb9f3a"
             ],
             [
              0.8888888888888888,
              "#fdca26"
             ],
             [
              1,
              "#f0f921"
             ]
            ],
            "type": "heatmapgl"
           }
          ],
          "histogram": [
           {
            "marker": {
             "pattern": {
              "fillmode": "overlay",
              "size": 10,
              "solidity": 0.2
             }
            },
            "type": "histogram"
           }
          ],
          "histogram2d": [
           {
            "colorbar": {
             "outlinewidth": 0,
             "ticks": ""
            },
            "colorscale": [
             [
              0,
              "#0d0887"
             ],
             [
              0.1111111111111111,
              "#46039f"
             ],
             [
              0.2222222222222222,
              "#7201a8"
             ],
             [
              0.3333333333333333,
              "#9c179e"
             ],
             [
              0.4444444444444444,
              "#bd3786"
             ],
             [
              0.5555555555555556,
              "#d8576b"
             ],
             [
              0.6666666666666666,
              "#ed7953"
             ],
             [
              0.7777777777777778,
              "#fb9f3a"
             ],
             [
              0.8888888888888888,
              "#fdca26"
             ],
             [
              1,
              "#f0f921"
             ]
            ],
            "type": "histogram2d"
           }
          ],
          "histogram2dcontour": [
           {
            "colorbar": {
             "outlinewidth": 0,
             "ticks": ""
            },
            "colorscale": [
             [
              0,
              "#0d0887"
             ],
             [
              0.1111111111111111,
              "#46039f"
             ],
             [
              0.2222222222222222,
              "#7201a8"
             ],
             [
              0.3333333333333333,
              "#9c179e"
             ],
             [
              0.4444444444444444,
              "#bd3786"
             ],
             [
              0.5555555555555556,
              "#d8576b"
             ],
             [
              0.6666666666666666,
              "#ed7953"
             ],
             [
              0.7777777777777778,
              "#fb9f3a"
             ],
             [
              0.8888888888888888,
              "#fdca26"
             ],
             [
              1,
              "#f0f921"
             ]
            ],
            "type": "histogram2dcontour"
           }
          ],
          "mesh3d": [
           {
            "colorbar": {
             "outlinewidth": 0,
             "ticks": ""
            },
            "type": "mesh3d"
           }
          ],
          "parcoords": [
           {
            "line": {
             "colorbar": {
              "outlinewidth": 0,
              "ticks": ""
             }
            },
            "type": "parcoords"
           }
          ],
          "pie": [
           {
            "automargin": true,
            "type": "pie"
           }
          ],
          "scatter": [
           {
            "fillpattern": {
             "fillmode": "overlay",
             "size": 10,
             "solidity": 0.2
            },
            "type": "scatter"
           }
          ],
          "scatter3d": [
           {
            "line": {
             "colorbar": {
              "outlinewidth": 0,
              "ticks": ""
             }
            },
            "marker": {
             "colorbar": {
              "outlinewidth": 0,
              "ticks": ""
             }
            },
            "type": "scatter3d"
           }
          ],
          "scattercarpet": [
           {
            "marker": {
             "colorbar": {
              "outlinewidth": 0,
              "ticks": ""
             }
            },
            "type": "scattercarpet"
           }
          ],
          "scattergeo": [
           {
            "marker": {
             "colorbar": {
              "outlinewidth": 0,
              "ticks": ""
             }
            },
            "type": "scattergeo"
           }
          ],
          "scattergl": [
           {
            "marker": {
             "colorbar": {
              "outlinewidth": 0,
              "ticks": ""
             }
            },
            "type": "scattergl"
           }
          ],
          "scattermapbox": [
           {
            "marker": {
             "colorbar": {
              "outlinewidth": 0,
              "ticks": ""
             }
            },
            "type": "scattermapbox"
           }
          ],
          "scatterpolar": [
           {
            "marker": {
             "colorbar": {
              "outlinewidth": 0,
              "ticks": ""
             }
            },
            "type": "scatterpolar"
           }
          ],
          "scatterpolargl": [
           {
            "marker": {
             "colorbar": {
              "outlinewidth": 0,
              "ticks": ""
             }
            },
            "type": "scatterpolargl"
           }
          ],
          "scatterternary": [
           {
            "marker": {
             "colorbar": {
              "outlinewidth": 0,
              "ticks": ""
             }
            },
            "type": "scatterternary"
           }
          ],
          "surface": [
           {
            "colorbar": {
             "outlinewidth": 0,
             "ticks": ""
            },
            "colorscale": [
             [
              0,
              "#0d0887"
             ],
             [
              0.1111111111111111,
              "#46039f"
             ],
             [
              0.2222222222222222,
              "#7201a8"
             ],
             [
              0.3333333333333333,
              "#9c179e"
             ],
             [
              0.4444444444444444,
              "#bd3786"
             ],
             [
              0.5555555555555556,
              "#d8576b"
             ],
             [
              0.6666666666666666,
              "#ed7953"
             ],
             [
              0.7777777777777778,
              "#fb9f3a"
             ],
             [
              0.8888888888888888,
              "#fdca26"
             ],
             [
              1,
              "#f0f921"
             ]
            ],
            "type": "surface"
           }
          ],
          "table": [
           {
            "cells": {
             "fill": {
              "color": "#EBF0F8"
             },
             "line": {
              "color": "white"
             }
            },
            "header": {
             "fill": {
              "color": "#C8D4E3"
             },
             "line": {
              "color": "white"
             }
            },
            "type": "table"
           }
          ]
         },
         "layout": {
          "annotationdefaults": {
           "arrowcolor": "#2a3f5f",
           "arrowhead": 0,
           "arrowwidth": 1
          },
          "autotypenumbers": "strict",
          "coloraxis": {
           "colorbar": {
            "outlinewidth": 0,
            "ticks": ""
           }
          },
          "colorscale": {
           "diverging": [
            [
             0,
             "#8e0152"
            ],
            [
             0.1,
             "#c51b7d"
            ],
            [
             0.2,
             "#de77ae"
            ],
            [
             0.3,
             "#f1b6da"
            ],
            [
             0.4,
             "#fde0ef"
            ],
            [
             0.5,
             "#f7f7f7"
            ],
            [
             0.6,
             "#e6f5d0"
            ],
            [
             0.7,
             "#b8e186"
            ],
            [
             0.8,
             "#7fbc41"
            ],
            [
             0.9,
             "#4d9221"
            ],
            [
             1,
             "#276419"
            ]
           ],
           "sequential": [
            [
             0,
             "#0d0887"
            ],
            [
             0.1111111111111111,
             "#46039f"
            ],
            [
             0.2222222222222222,
             "#7201a8"
            ],
            [
             0.3333333333333333,
             "#9c179e"
            ],
            [
             0.4444444444444444,
             "#bd3786"
            ],
            [
             0.5555555555555556,
             "#d8576b"
            ],
            [
             0.6666666666666666,
             "#ed7953"
            ],
            [
             0.7777777777777778,
             "#fb9f3a"
            ],
            [
             0.8888888888888888,
             "#fdca26"
            ],
            [
             1,
             "#f0f921"
            ]
           ],
           "sequentialminus": [
            [
             0,
             "#0d0887"
            ],
            [
             0.1111111111111111,
             "#46039f"
            ],
            [
             0.2222222222222222,
             "#7201a8"
            ],
            [
             0.3333333333333333,
             "#9c179e"
            ],
            [
             0.4444444444444444,
             "#bd3786"
            ],
            [
             0.5555555555555556,
             "#d8576b"
            ],
            [
             0.6666666666666666,
             "#ed7953"
            ],
            [
             0.7777777777777778,
             "#fb9f3a"
            ],
            [
             0.8888888888888888,
             "#fdca26"
            ],
            [
             1,
             "#f0f921"
            ]
           ]
          },
          "colorway": [
           "#636efa",
           "#EF553B",
           "#00cc96",
           "#ab63fa",
           "#FFA15A",
           "#19d3f3",
           "#FF6692",
           "#B6E880",
           "#FF97FF",
           "#FECB52"
          ],
          "font": {
           "color": "#2a3f5f"
          },
          "geo": {
           "bgcolor": "white",
           "lakecolor": "white",
           "landcolor": "white",
           "showlakes": true,
           "showland": true,
           "subunitcolor": "#C8D4E3"
          },
          "hoverlabel": {
           "align": "left"
          },
          "hovermode": "closest",
          "mapbox": {
           "style": "light"
          },
          "paper_bgcolor": "white",
          "plot_bgcolor": "white",
          "polar": {
           "angularaxis": {
            "gridcolor": "#EBF0F8",
            "linecolor": "#EBF0F8",
            "ticks": ""
           },
           "bgcolor": "white",
           "radialaxis": {
            "gridcolor": "#EBF0F8",
            "linecolor": "#EBF0F8",
            "ticks": ""
           }
          },
          "scene": {
           "xaxis": {
            "backgroundcolor": "white",
            "gridcolor": "#DFE8F3",
            "gridwidth": 2,
            "linecolor": "#EBF0F8",
            "showbackground": true,
            "ticks": "",
            "zerolinecolor": "#EBF0F8"
           },
           "yaxis": {
            "backgroundcolor": "white",
            "gridcolor": "#DFE8F3",
            "gridwidth": 2,
            "linecolor": "#EBF0F8",
            "showbackground": true,
            "ticks": "",
            "zerolinecolor": "#EBF0F8"
           },
           "zaxis": {
            "backgroundcolor": "white",
            "gridcolor": "#DFE8F3",
            "gridwidth": 2,
            "linecolor": "#EBF0F8",
            "showbackground": true,
            "ticks": "",
            "zerolinecolor": "#EBF0F8"
           }
          },
          "shapedefaults": {
           "line": {
            "color": "#2a3f5f"
           }
          },
          "ternary": {
           "aaxis": {
            "gridcolor": "#DFE8F3",
            "linecolor": "#A2B1C6",
            "ticks": ""
           },
           "baxis": {
            "gridcolor": "#DFE8F3",
            "linecolor": "#A2B1C6",
            "ticks": ""
           },
           "bgcolor": "white",
           "caxis": {
            "gridcolor": "#DFE8F3",
            "linecolor": "#A2B1C6",
            "ticks": ""
           }
          },
          "title": {
           "x": 0.05
          },
          "xaxis": {
           "automargin": true,
           "gridcolor": "#EBF0F8",
           "linecolor": "#EBF0F8",
           "ticks": "",
           "title": {
            "standoff": 15
           },
           "zerolinecolor": "#EBF0F8",
           "zerolinewidth": 2
          },
          "yaxis": {
           "automargin": true,
           "gridcolor": "#EBF0F8",
           "linecolor": "#EBF0F8",
           "ticks": "",
           "title": {
            "standoff": 15
           },
           "zerolinecolor": "#EBF0F8",
           "zerolinewidth": 2
          }
         }
        },
        "title": {
         "text": "Highest and Lowest Yearly Changes in Dep"
        },
        "xaxis": {
         "anchor": "y",
         "domain": [
          0,
          0.45
         ],
         "title": {
          "text": "Change Type"
         }
        },
        "xaxis2": {
         "anchor": "y2",
         "domain": [
          0.55,
          1
         ]
        },
        "yaxis": {
         "anchor": "x",
         "domain": [
          0,
          1
         ],
         "title": {
          "text": "Change Value"
         }
        },
        "yaxis2": {
         "anchor": "x2",
         "domain": [
          0,
          1
         ],
         "title": {
          "text": "Percentage Change (%)"
         }
        }
       }
      }
     },
     "metadata": {},
     "output_type": "display_data"
    }
   ],
   "source": [
    "import plotly.graph_objects as go\n",
    "from plotly.subplots import make_subplots\n",
    "\n",
    "# Define data\n",
    "highest_abs_change_year = (2014, 5831498.0)\n",
    "lowest_abs_change_year = (2020, -8185589.0)\n",
    "highest_pct_change_year = (2022, 321.54)\n",
    "lowest_pct_change_year = (2020, -74.89)\n",
    "\n",
    "# Create figure with two subplots\n",
    "fig = make_subplots(rows=1, cols=2, subplot_titles=(\"Highest and Lowest Absolute Change\", \"Highest and Lowest Percentage Change\"))\n",
    "\n",
    "# Plot Absolute Change with annotations\n",
    "fig.add_trace(go.Bar(\n",
    "    x=['Highest Absolute Change', 'Lowest Absolute Change'],\n",
    "    y=[highest_abs_change_year[1], lowest_abs_change_year[1]],\n",
    "    text=[f\"{highest_abs_change_year[0]}: {highest_abs_change_year[1]:,.2f}\", f\"{lowest_abs_change_year[0]}: {lowest_abs_change_year[1]:,.2f}\"],\n",
    "    textposition=\"inside\",\n",
    "    marker_color=['skyblue', 'lightcoral'],\n",
    "    name=\"Absolute Change\"\n",
    "), row=1, col=1)\n",
    "\n",
    "# Plot Percentage Change with annotations\n",
    "fig.add_trace(go.Bar(\n",
    "    x=['Highest Percentage Change', 'Lowest Percentage Change'],\n",
    "    y=[highest_pct_change_year[1], lowest_pct_change_year[1]],\n",
    "    text=[f\"{highest_pct_change_year[0]}: {highest_pct_change_year[1]:.2f}%\", f\"{lowest_pct_change_year[0]}: {lowest_pct_change_year[1]:.2f}%\"],\n",
    "    textposition=\"inside\",\n",
    "    marker_color=['lightgreen', 'blue'],\n",
    "    name=\"Percentage Change\"\n",
    "), row=1, col=2)\n",
    "\n",
    "# Update layout\n",
    "fig.update_layout(\n",
    "    title=\"Highest and Lowest Yearly Changes in Dep\",\n",
    "    template=\"plotly_white\",\n",
    "    height=500,\n",
    "    showlegend=False,\n",
    "    xaxis=dict(title=\"Change Type\"),\n",
    "    yaxis=dict(title=\"Change Value\"),\n",
    "    yaxis2=dict(title=\"Percentage Change (%)\")\n",
    ")\n",
    "\n",
    "# Show plot\n",
    "fig.show()"
   ]
  },
  {
   "cell_type": "code",
   "execution_count": 47,
   "metadata": {},
   "outputs": [
    {
     "data": {
      "text/html": [
       "<div>\n",
       "<style scoped>\n",
       "    .dataframe tbody tr th:only-of-type {\n",
       "        vertical-align: middle;\n",
       "    }\n",
       "\n",
       "    .dataframe tbody tr th {\n",
       "        vertical-align: top;\n",
       "    }\n",
       "\n",
       "    .dataframe thead th {\n",
       "        text-align: right;\n",
       "    }\n",
       "</style>\n",
       "<table border=\"1\" class=\"dataframe\">\n",
       "  <thead>\n",
       "    <tr style=\"text-align: right;\">\n",
       "      <th>Year</th>\n",
       "      <th>2013</th>\n",
       "      <th>2014</th>\n",
       "      <th>2016</th>\n",
       "      <th>2017</th>\n",
       "      <th>2018</th>\n",
       "      <th>2019</th>\n",
       "      <th>2020</th>\n",
       "      <th>2021</th>\n",
       "      <th>2022</th>\n",
       "    </tr>\n",
       "    <tr>\n",
       "      <th>Month</th>\n",
       "      <th></th>\n",
       "      <th></th>\n",
       "      <th></th>\n",
       "      <th></th>\n",
       "      <th></th>\n",
       "      <th></th>\n",
       "      <th></th>\n",
       "      <th></th>\n",
       "      <th></th>\n",
       "    </tr>\n",
       "  </thead>\n",
       "  <tbody>\n",
       "    <tr>\n",
       "      <th>January</th>\n",
       "      <td>1424291</td>\n",
       "      <td>1518285</td>\n",
       "      <td>1866995</td>\n",
       "      <td>1962619</td>\n",
       "      <td>2238035</td>\n",
       "      <td>2309062</td>\n",
       "      <td>2353147</td>\n",
       "      <td>689366</td>\n",
       "      <td>1304132</td>\n",
       "    </tr>\n",
       "    <tr>\n",
       "      <th>February</th>\n",
       "      <td>1285813</td>\n",
       "      <td>1328360</td>\n",
       "      <td>1605765</td>\n",
       "      <td>1714399</td>\n",
       "      <td>1839947</td>\n",
       "      <td>1992487</td>\n",
       "      <td>1983289</td>\n",
       "      <td>653071</td>\n",
       "      <td>1158239</td>\n",
       "    </tr>\n",
       "    <tr>\n",
       "      <th>March</th>\n",
       "      <td>1287728</td>\n",
       "      <td>1463879</td>\n",
       "      <td>1731968</td>\n",
       "      <td>1846395</td>\n",
       "      <td>2099266</td>\n",
       "      <td>2203115</td>\n",
       "      <td>851332</td>\n",
       "      <td>709010</td>\n",
       "      <td>1498482</td>\n",
       "    </tr>\n",
       "    <tr>\n",
       "      <th>April</th>\n",
       "      <td>1395879</td>\n",
       "      <td>1561150</td>\n",
       "      <td>1912473</td>\n",
       "      <td>2047568</td>\n",
       "      <td>2321632</td>\n",
       "      <td>2202018</td>\n",
       "      <td>6533</td>\n",
       "      <td>634663</td>\n",
       "      <td>1564581</td>\n",
       "    </tr>\n",
       "    <tr>\n",
       "      <th>May</th>\n",
       "      <td>1591906</td>\n",
       "      <td>1744621</td>\n",
       "      <td>2128686</td>\n",
       "      <td>2312939</td>\n",
       "      <td>2521860</td>\n",
       "      <td>2384815</td>\n",
       "      <td>22912</td>\n",
       "      <td>154873</td>\n",
       "      <td>1934175</td>\n",
       "    </tr>\n",
       "    <tr>\n",
       "      <th>June</th>\n",
       "      <td>1320676</td>\n",
       "      <td>1573931</td>\n",
       "      <td>1693204</td>\n",
       "      <td>1781817</td>\n",
       "      <td>2054526</td>\n",
       "      <td>2198582</td>\n",
       "      <td>68802</td>\n",
       "      <td>150717</td>\n",
       "      <td>1901784</td>\n",
       "    </tr>\n",
       "    <tr>\n",
       "      <th>July</th>\n",
       "      <td>1415677</td>\n",
       "      <td>1327984</td>\n",
       "      <td>1701014</td>\n",
       "      <td>1938221</td>\n",
       "      <td>2150580</td>\n",
       "      <td>2180437</td>\n",
       "      <td>135227</td>\n",
       "      <td>223956</td>\n",
       "      <td>1830798</td>\n",
       "    </tr>\n",
       "    <tr>\n",
       "      <th>August</th>\n",
       "      <td>1593409</td>\n",
       "      <td>1688554</td>\n",
       "      <td>2001816</td>\n",
       "      <td>2118235</td>\n",
       "      <td>2272537</td>\n",
       "      <td>2351701</td>\n",
       "      <td>211511</td>\n",
       "      <td>661188</td>\n",
       "      <td>2160605</td>\n",
       "    </tr>\n",
       "    <tr>\n",
       "      <th>September</th>\n",
       "      <td>1640118</td>\n",
       "      <td>1697955</td>\n",
       "      <td>1942743</td>\n",
       "      <td>2232437</td>\n",
       "      <td>2434217</td>\n",
       "      <td>2354445</td>\n",
       "      <td>304780</td>\n",
       "      <td>962026</td>\n",
       "      <td>2181964</td>\n",
       "    </tr>\n",
       "    <tr>\n",
       "      <th>October</th>\n",
       "      <td>1218333</td>\n",
       "      <td>1490000</td>\n",
       "      <td>1725665</td>\n",
       "      <td>1999069</td>\n",
       "      <td>2074788</td>\n",
       "      <td>2145065</td>\n",
       "      <td>372362</td>\n",
       "      <td>1096257</td>\n",
       "      <td>1999753</td>\n",
       "    </tr>\n",
       "    <tr>\n",
       "      <th>November</th>\n",
       "      <td>1438279</td>\n",
       "      <td>1388722</td>\n",
       "      <td>1721215</td>\n",
       "      <td>1856300</td>\n",
       "      <td>2087972</td>\n",
       "      <td>2147330</td>\n",
       "      <td>409155</td>\n",
       "      <td>1188345</td>\n",
       "      <td>1913010</td>\n",
       "    </tr>\n",
       "    <tr>\n",
       "      <th>December</th>\n",
       "      <td>1566117</td>\n",
       "      <td>1566514</td>\n",
       "      <td>1840451</td>\n",
       "      <td>2132958</td>\n",
       "      <td>2201124</td>\n",
       "      <td>2355977</td>\n",
       "      <td>575516</td>\n",
       "      <td>1427843</td>\n",
       "      <td>2155211</td>\n",
       "    </tr>\n",
       "  </tbody>\n",
       "</table>\n",
       "</div>"
      ],
      "text/plain": [
       "Year          2013     2014     2016     2017     2018     2019     2020     2021     2022\n",
       "Month                                                                                     \n",
       "January    1424291  1518285  1866995  1962619  2238035  2309062  2353147   689366  1304132\n",
       "February   1285813  1328360  1605765  1714399  1839947  1992487  1983289   653071  1158239\n",
       "March      1287728  1463879  1731968  1846395  2099266  2203115   851332   709010  1498482\n",
       "April      1395879  1561150  1912473  2047568  2321632  2202018     6533   634663  1564581\n",
       "May        1591906  1744621  2128686  2312939  2521860  2384815    22912   154873  1934175\n",
       "June       1320676  1573931  1693204  1781817  2054526  2198582    68802   150717  1901784\n",
       "July       1415677  1327984  1701014  1938221  2150580  2180437   135227   223956  1830798\n",
       "August     1593409  1688554  2001816  2118235  2272537  2351701   211511   661188  2160605\n",
       "September  1640118  1697955  1942743  2232437  2434217  2354445   304780   962026  2181964\n",
       "October    1218333  1490000  1725665  1999069  2074788  2145065   372362  1096257  1999753\n",
       "November   1438279  1388722  1721215  1856300  2087972  2147330   409155  1188345  1913010\n",
       "December   1566117  1566514  1840451  2132958  2201124  2355977   575516  1427843  2155211"
      ]
     },
     "execution_count": 47,
     "metadata": {},
     "output_type": "execute_result"
    }
   ],
   "source": [
    "df_pivot"
   ]
  },
  {
   "cell_type": "markdown",
   "metadata": {},
   "source": [
    "# 4"
   ]
  },
  {
   "cell_type": "code",
   "execution_count": 48,
   "metadata": {},
   "outputs": [
    {
     "data": {
      "text/html": [
       "<div>\n",
       "<style scoped>\n",
       "    .dataframe tbody tr th:only-of-type {\n",
       "        vertical-align: middle;\n",
       "    }\n",
       "\n",
       "    .dataframe tbody tr th {\n",
       "        vertical-align: top;\n",
       "    }\n",
       "\n",
       "    .dataframe thead th {\n",
       "        text-align: right;\n",
       "    }\n",
       "</style>\n",
       "<table border=\"1\" class=\"dataframe\">\n",
       "  <thead>\n",
       "    <tr style=\"text-align: right;\">\n",
       "      <th></th>\n",
       "      <th>Month</th>\n",
       "      <th>Dep</th>\n",
       "      <th>Year</th>\n",
       "      <th>Monthly_Change_Abs</th>\n",
       "      <th>Monthly_Change_Pct</th>\n",
       "    </tr>\n",
       "  </thead>\n",
       "  <tbody>\n",
       "    <tr>\n",
       "      <th>0</th>\n",
       "      <td>January</td>\n",
       "      <td>1424291</td>\n",
       "      <td>2013</td>\n",
       "      <td>NaN</td>\n",
       "      <td>NaN</td>\n",
       "    </tr>\n",
       "    <tr>\n",
       "      <th>1</th>\n",
       "      <td>February</td>\n",
       "      <td>1285813</td>\n",
       "      <td>2013</td>\n",
       "      <td>-138478.0</td>\n",
       "      <td>-9.722592</td>\n",
       "    </tr>\n",
       "    <tr>\n",
       "      <th>2</th>\n",
       "      <td>March</td>\n",
       "      <td>1287728</td>\n",
       "      <td>2013</td>\n",
       "      <td>1915.0</td>\n",
       "      <td>0.148933</td>\n",
       "    </tr>\n",
       "    <tr>\n",
       "      <th>3</th>\n",
       "      <td>April</td>\n",
       "      <td>1395879</td>\n",
       "      <td>2013</td>\n",
       "      <td>108151.0</td>\n",
       "      <td>8.398590</td>\n",
       "    </tr>\n",
       "    <tr>\n",
       "      <th>4</th>\n",
       "      <td>May</td>\n",
       "      <td>1591906</td>\n",
       "      <td>2013</td>\n",
       "      <td>196027.0</td>\n",
       "      <td>14.043266</td>\n",
       "    </tr>\n",
       "  </tbody>\n",
       "</table>\n",
       "</div>"
      ],
      "text/plain": [
       "      Month      Dep  Year  Monthly_Change_Abs  Monthly_Change_Pct\n",
       "0   January  1424291  2013                 NaN                 NaN\n",
       "1  February  1285813  2013           -138478.0           -9.722592\n",
       "2     March  1287728  2013              1915.0            0.148933\n",
       "3     April  1395879  2013            108151.0            8.398590\n",
       "4       May  1591906  2013            196027.0           14.043266"
      ]
     },
     "execution_count": 48,
     "metadata": {},
     "output_type": "execute_result"
    }
   ],
   "source": [
    "# Sort data by year and month, then calculate month-over-month changes\n",
    "# df_all = df_all.sort_values(by=['Year', 'Month']).reset_index(drop=True)\n",
    "\n",
    "# Calculate absolute and percentage changes month-over-month\n",
    "df_all['Monthly_Change_Abs'] = df_all['Dep'].diff()\n",
    "df_all['Monthly_Change_Pct'] = df_all['Dep'].pct_change() * 100\n",
    "\n",
    "# print(df_all[['Year', 'Month', 'Dep', 'Monthly_Change_Abs', 'Monthly_Change_Pct']])\n",
    "df_all.head()"
   ]
  },
  {
   "cell_type": "code",
   "execution_count": 49,
   "metadata": {},
   "outputs": [],
   "source": [
    "df_all.to_csv('4_Change_from_prev_month.csv',index=False)"
   ]
  },
  {
   "cell_type": "code",
   "execution_count": 50,
   "metadata": {},
   "outputs": [
    {
     "data": {
      "application/vnd.plotly.v1+json": {
       "config": {
        "plotlyServerURL": "https://plot.ly"
       },
       "data": [
        {
         "name": "Total Dep by Year",
         "type": "bar",
         "x": [
          2013,
          2014,
          2016,
          2017,
          2018,
          2019,
          2020,
          2021,
          2022
         ],
         "xaxis": "x",
         "y": [
          17178226,
          18349955,
          21871995,
          23942957,
          26296484,
          26825034,
          7294566,
          8551315,
          21602734
         ],
         "yaxis": "y"
        },
        {
         "name": "Total Dep by Month",
         "type": "bar",
         "x": [
          "January",
          "February",
          "March",
          "April",
          "May",
          "June",
          "July",
          "August",
          "September",
          "October",
          "November",
          "December"
         ],
         "xaxis": "x2",
         "y": [
          15665932,
          13561370,
          13691175,
          13646497,
          14796787,
          12744039,
          12903894,
          15059556,
          15750685,
          14121292,
          14150328,
          15821711
         ],
         "yaxis": "y2"
        }
       ],
       "layout": {
        "annotations": [
         {
          "font": {
           "size": 16
          },
          "showarrow": false,
          "text": "Total Dep by Year",
          "x": 0.225,
          "xanchor": "center",
          "xref": "paper",
          "y": 1,
          "yanchor": "bottom",
          "yref": "paper"
         },
         {
          "font": {
           "size": 16
          },
          "showarrow": false,
          "text": "Total Dep by Month",
          "x": 0.775,
          "xanchor": "center",
          "xref": "paper",
          "y": 1,
          "yanchor": "bottom",
          "yref": "paper"
         }
        ],
        "height": 500,
        "showlegend": false,
        "template": {
         "data": {
          "bar": [
           {
            "error_x": {
             "color": "#2a3f5f"
            },
            "error_y": {
             "color": "#2a3f5f"
            },
            "marker": {
             "line": {
              "color": "white",
              "width": 0.5
             },
             "pattern": {
              "fillmode": "overlay",
              "size": 10,
              "solidity": 0.2
             }
            },
            "type": "bar"
           }
          ],
          "barpolar": [
           {
            "marker": {
             "line": {
              "color": "white",
              "width": 0.5
             },
             "pattern": {
              "fillmode": "overlay",
              "size": 10,
              "solidity": 0.2
             }
            },
            "type": "barpolar"
           }
          ],
          "carpet": [
           {
            "aaxis": {
             "endlinecolor": "#2a3f5f",
             "gridcolor": "#C8D4E3",
             "linecolor": "#C8D4E3",
             "minorgridcolor": "#C8D4E3",
             "startlinecolor": "#2a3f5f"
            },
            "baxis": {
             "endlinecolor": "#2a3f5f",
             "gridcolor": "#C8D4E3",
             "linecolor": "#C8D4E3",
             "minorgridcolor": "#C8D4E3",
             "startlinecolor": "#2a3f5f"
            },
            "type": "carpet"
           }
          ],
          "choropleth": [
           {
            "colorbar": {
             "outlinewidth": 0,
             "ticks": ""
            },
            "type": "choropleth"
           }
          ],
          "contour": [
           {
            "colorbar": {
             "outlinewidth": 0,
             "ticks": ""
            },
            "colorscale": [
             [
              0,
              "#0d0887"
             ],
             [
              0.1111111111111111,
              "#46039f"
             ],
             [
              0.2222222222222222,
              "#7201a8"
             ],
             [
              0.3333333333333333,
              "#9c179e"
             ],
             [
              0.4444444444444444,
              "#bd3786"
             ],
             [
              0.5555555555555556,
              "#d8576b"
             ],
             [
              0.6666666666666666,
              "#ed7953"
             ],
             [
              0.7777777777777778,
              "#fb9f3a"
             ],
             [
              0.8888888888888888,
              "#fdca26"
             ],
             [
              1,
              "#f0f921"
             ]
            ],
            "type": "contour"
           }
          ],
          "contourcarpet": [
           {
            "colorbar": {
             "outlinewidth": 0,
             "ticks": ""
            },
            "type": "contourcarpet"
           }
          ],
          "heatmap": [
           {
            "colorbar": {
             "outlinewidth": 0,
             "ticks": ""
            },
            "colorscale": [
             [
              0,
              "#0d0887"
             ],
             [
              0.1111111111111111,
              "#46039f"
             ],
             [
              0.2222222222222222,
              "#7201a8"
             ],
             [
              0.3333333333333333,
              "#9c179e"
             ],
             [
              0.4444444444444444,
              "#bd3786"
             ],
             [
              0.5555555555555556,
              "#d8576b"
             ],
             [
              0.6666666666666666,
              "#ed7953"
             ],
             [
              0.7777777777777778,
              "#fb9f3a"
             ],
             [
              0.8888888888888888,
              "#fdca26"
             ],
             [
              1,
              "#f0f921"
             ]
            ],
            "type": "heatmap"
           }
          ],
          "heatmapgl": [
           {
            "colorbar": {
             "outlinewidth": 0,
             "ticks": ""
            },
            "colorscale": [
             [
              0,
              "#0d0887"
             ],
             [
              0.1111111111111111,
              "#46039f"
             ],
             [
              0.2222222222222222,
              "#7201a8"
             ],
             [
              0.3333333333333333,
              "#9c179e"
             ],
             [
              0.4444444444444444,
              "#bd3786"
             ],
             [
              0.5555555555555556,
              "#d8576b"
             ],
             [
              0.6666666666666666,
              "#ed7953"
             ],
             [
              0.7777777777777778,
              "#fb9f3a"
             ],
             [
              0.8888888888888888,
              "#fdca26"
             ],
             [
              1,
              "#f0f921"
             ]
            ],
            "type": "heatmapgl"
           }
          ],
          "histogram": [
           {
            "marker": {
             "pattern": {
              "fillmode": "overlay",
              "size": 10,
              "solidity": 0.2
             }
            },
            "type": "histogram"
           }
          ],
          "histogram2d": [
           {
            "colorbar": {
             "outlinewidth": 0,
             "ticks": ""
            },
            "colorscale": [
             [
              0,
              "#0d0887"
             ],
             [
              0.1111111111111111,
              "#46039f"
             ],
             [
              0.2222222222222222,
              "#7201a8"
             ],
             [
              0.3333333333333333,
              "#9c179e"
             ],
             [
              0.4444444444444444,
              "#bd3786"
             ],
             [
              0.5555555555555556,
              "#d8576b"
             ],
             [
              0.6666666666666666,
              "#ed7953"
             ],
             [
              0.7777777777777778,
              "#fb9f3a"
             ],
             [
              0.8888888888888888,
              "#fdca26"
             ],
             [
              1,
              "#f0f921"
             ]
            ],
            "type": "histogram2d"
           }
          ],
          "histogram2dcontour": [
           {
            "colorbar": {
             "outlinewidth": 0,
             "ticks": ""
            },
            "colorscale": [
             [
              0,
              "#0d0887"
             ],
             [
              0.1111111111111111,
              "#46039f"
             ],
             [
              0.2222222222222222,
              "#7201a8"
             ],
             [
              0.3333333333333333,
              "#9c179e"
             ],
             [
              0.4444444444444444,
              "#bd3786"
             ],
             [
              0.5555555555555556,
              "#d8576b"
             ],
             [
              0.6666666666666666,
              "#ed7953"
             ],
             [
              0.7777777777777778,
              "#fb9f3a"
             ],
             [
              0.8888888888888888,
              "#fdca26"
             ],
             [
              1,
              "#f0f921"
             ]
            ],
            "type": "histogram2dcontour"
           }
          ],
          "mesh3d": [
           {
            "colorbar": {
             "outlinewidth": 0,
             "ticks": ""
            },
            "type": "mesh3d"
           }
          ],
          "parcoords": [
           {
            "line": {
             "colorbar": {
              "outlinewidth": 0,
              "ticks": ""
             }
            },
            "type": "parcoords"
           }
          ],
          "pie": [
           {
            "automargin": true,
            "type": "pie"
           }
          ],
          "scatter": [
           {
            "fillpattern": {
             "fillmode": "overlay",
             "size": 10,
             "solidity": 0.2
            },
            "type": "scatter"
           }
          ],
          "scatter3d": [
           {
            "line": {
             "colorbar": {
              "outlinewidth": 0,
              "ticks": ""
             }
            },
            "marker": {
             "colorbar": {
              "outlinewidth": 0,
              "ticks": ""
             }
            },
            "type": "scatter3d"
           }
          ],
          "scattercarpet": [
           {
            "marker": {
             "colorbar": {
              "outlinewidth": 0,
              "ticks": ""
             }
            },
            "type": "scattercarpet"
           }
          ],
          "scattergeo": [
           {
            "marker": {
             "colorbar": {
              "outlinewidth": 0,
              "ticks": ""
             }
            },
            "type": "scattergeo"
           }
          ],
          "scattergl": [
           {
            "marker": {
             "colorbar": {
              "outlinewidth": 0,
              "ticks": ""
             }
            },
            "type": "scattergl"
           }
          ],
          "scattermapbox": [
           {
            "marker": {
             "colorbar": {
              "outlinewidth": 0,
              "ticks": ""
             }
            },
            "type": "scattermapbox"
           }
          ],
          "scatterpolar": [
           {
            "marker": {
             "colorbar": {
              "outlinewidth": 0,
              "ticks": ""
             }
            },
            "type": "scatterpolar"
           }
          ],
          "scatterpolargl": [
           {
            "marker": {
             "colorbar": {
              "outlinewidth": 0,
              "ticks": ""
             }
            },
            "type": "scatterpolargl"
           }
          ],
          "scatterternary": [
           {
            "marker": {
             "colorbar": {
              "outlinewidth": 0,
              "ticks": ""
             }
            },
            "type": "scatterternary"
           }
          ],
          "surface": [
           {
            "colorbar": {
             "outlinewidth": 0,
             "ticks": ""
            },
            "colorscale": [
             [
              0,
              "#0d0887"
             ],
             [
              0.1111111111111111,
              "#46039f"
             ],
             [
              0.2222222222222222,
              "#7201a8"
             ],
             [
              0.3333333333333333,
              "#9c179e"
             ],
             [
              0.4444444444444444,
              "#bd3786"
             ],
             [
              0.5555555555555556,
              "#d8576b"
             ],
             [
              0.6666666666666666,
              "#ed7953"
             ],
             [
              0.7777777777777778,
              "#fb9f3a"
             ],
             [
              0.8888888888888888,
              "#fdca26"
             ],
             [
              1,
              "#f0f921"
             ]
            ],
            "type": "surface"
           }
          ],
          "table": [
           {
            "cells": {
             "fill": {
              "color": "#EBF0F8"
             },
             "line": {
              "color": "white"
             }
            },
            "header": {
             "fill": {
              "color": "#C8D4E3"
             },
             "line": {
              "color": "white"
             }
            },
            "type": "table"
           }
          ]
         },
         "layout": {
          "annotationdefaults": {
           "arrowcolor": "#2a3f5f",
           "arrowhead": 0,
           "arrowwidth": 1
          },
          "autotypenumbers": "strict",
          "coloraxis": {
           "colorbar": {
            "outlinewidth": 0,
            "ticks": ""
           }
          },
          "colorscale": {
           "diverging": [
            [
             0,
             "#8e0152"
            ],
            [
             0.1,
             "#c51b7d"
            ],
            [
             0.2,
             "#de77ae"
            ],
            [
             0.3,
             "#f1b6da"
            ],
            [
             0.4,
             "#fde0ef"
            ],
            [
             0.5,
             "#f7f7f7"
            ],
            [
             0.6,
             "#e6f5d0"
            ],
            [
             0.7,
             "#b8e186"
            ],
            [
             0.8,
             "#7fbc41"
            ],
            [
             0.9,
             "#4d9221"
            ],
            [
             1,
             "#276419"
            ]
           ],
           "sequential": [
            [
             0,
             "#0d0887"
            ],
            [
             0.1111111111111111,
             "#46039f"
            ],
            [
             0.2222222222222222,
             "#7201a8"
            ],
            [
             0.3333333333333333,
             "#9c179e"
            ],
            [
             0.4444444444444444,
             "#bd3786"
            ],
            [
             0.5555555555555556,
             "#d8576b"
            ],
            [
             0.6666666666666666,
             "#ed7953"
            ],
            [
             0.7777777777777778,
             "#fb9f3a"
            ],
            [
             0.8888888888888888,
             "#fdca26"
            ],
            [
             1,
             "#f0f921"
            ]
           ],
           "sequentialminus": [
            [
             0,
             "#0d0887"
            ],
            [
             0.1111111111111111,
             "#46039f"
            ],
            [
             0.2222222222222222,
             "#7201a8"
            ],
            [
             0.3333333333333333,
             "#9c179e"
            ],
            [
             0.4444444444444444,
             "#bd3786"
            ],
            [
             0.5555555555555556,
             "#d8576b"
            ],
            [
             0.6666666666666666,
             "#ed7953"
            ],
            [
             0.7777777777777778,
             "#fb9f3a"
            ],
            [
             0.8888888888888888,
             "#fdca26"
            ],
            [
             1,
             "#f0f921"
            ]
           ]
          },
          "colorway": [
           "#636efa",
           "#EF553B",
           "#00cc96",
           "#ab63fa",
           "#FFA15A",
           "#19d3f3",
           "#FF6692",
           "#B6E880",
           "#FF97FF",
           "#FECB52"
          ],
          "font": {
           "color": "#2a3f5f"
          },
          "geo": {
           "bgcolor": "white",
           "lakecolor": "white",
           "landcolor": "white",
           "showlakes": true,
           "showland": true,
           "subunitcolor": "#C8D4E3"
          },
          "hoverlabel": {
           "align": "left"
          },
          "hovermode": "closest",
          "mapbox": {
           "style": "light"
          },
          "paper_bgcolor": "white",
          "plot_bgcolor": "white",
          "polar": {
           "angularaxis": {
            "gridcolor": "#EBF0F8",
            "linecolor": "#EBF0F8",
            "ticks": ""
           },
           "bgcolor": "white",
           "radialaxis": {
            "gridcolor": "#EBF0F8",
            "linecolor": "#EBF0F8",
            "ticks": ""
           }
          },
          "scene": {
           "xaxis": {
            "backgroundcolor": "white",
            "gridcolor": "#DFE8F3",
            "gridwidth": 2,
            "linecolor": "#EBF0F8",
            "showbackground": true,
            "ticks": "",
            "zerolinecolor": "#EBF0F8"
           },
           "yaxis": {
            "backgroundcolor": "white",
            "gridcolor": "#DFE8F3",
            "gridwidth": 2,
            "linecolor": "#EBF0F8",
            "showbackground": true,
            "ticks": "",
            "zerolinecolor": "#EBF0F8"
           },
           "zaxis": {
            "backgroundcolor": "white",
            "gridcolor": "#DFE8F3",
            "gridwidth": 2,
            "linecolor": "#EBF0F8",
            "showbackground": true,
            "ticks": "",
            "zerolinecolor": "#EBF0F8"
           }
          },
          "shapedefaults": {
           "line": {
            "color": "#2a3f5f"
           }
          },
          "ternary": {
           "aaxis": {
            "gridcolor": "#DFE8F3",
            "linecolor": "#A2B1C6",
            "ticks": ""
           },
           "baxis": {
            "gridcolor": "#DFE8F3",
            "linecolor": "#A2B1C6",
            "ticks": ""
           },
           "bgcolor": "white",
           "caxis": {
            "gridcolor": "#DFE8F3",
            "linecolor": "#A2B1C6",
            "ticks": ""
           }
          },
          "title": {
           "x": 0.05
          },
          "xaxis": {
           "automargin": true,
           "gridcolor": "#EBF0F8",
           "linecolor": "#EBF0F8",
           "ticks": "",
           "title": {
            "standoff": 15
           },
           "zerolinecolor": "#EBF0F8",
           "zerolinewidth": 2
          },
          "yaxis": {
           "automargin": true,
           "gridcolor": "#EBF0F8",
           "linecolor": "#EBF0F8",
           "ticks": "",
           "title": {
            "standoff": 15
           },
           "zerolinecolor": "#EBF0F8",
           "zerolinewidth": 2
          }
         }
        },
        "title": {
         "text": "Interactive Overview of Dep by Year and Month"
        },
        "xaxis": {
         "anchor": "y",
         "domain": [
          0,
          0.45
         ],
         "title": {
          "text": "Year"
         }
        },
        "xaxis2": {
         "anchor": "y2",
         "domain": [
          0.55,
          1
         ],
         "title": {
          "text": "Month"
         }
        },
        "yaxis": {
         "anchor": "x",
         "domain": [
          0,
          1
         ],
         "title": {
          "text": "Total Dep"
         }
        },
        "yaxis2": {
         "anchor": "x2",
         "domain": [
          0,
          1
         ],
         "title": {
          "text": "Total Dep"
         }
        }
       }
      }
     },
     "metadata": {},
     "output_type": "display_data"
    },
    {
     "data": {
      "application/vnd.plotly.v1+json": {
       "config": {
        "plotlyServerURL": "https://plot.ly"
       },
       "data": [
        {
         "line": {
          "color": "skyblue"
         },
         "mode": "lines+markers",
         "name": "Monthly Change (Abs)",
         "type": "scatter",
         "x": [
          "2013-January",
          "2013-February",
          "2013-March",
          "2013-April",
          "2013-May",
          "2013-June",
          "2013-July",
          "2013-August",
          "2013-September",
          "2013-October",
          "2013-November",
          "2013-December",
          "2014-January",
          "2014-February",
          "2014-March",
          "2014-April",
          "2014-May",
          "2014-June",
          "2014-July",
          "2014-August",
          "2014-September",
          "2014-October",
          "2014-November",
          "2014-December",
          "2016-January",
          "2016-February",
          "2016-March",
          "2016-April",
          "2016-May",
          "2016-June",
          "2016-July",
          "2016-August",
          "2016-September",
          "2016-October",
          "2016-November",
          "2016-December",
          "2017-January",
          "2017-February",
          "2017-March",
          "2017-April",
          "2017-May",
          "2017-June",
          "2017-July",
          "2017-August",
          "2017-September",
          "2017-October",
          "2017-November",
          "2017-December",
          "2018-January",
          "2018-February",
          "2018-March",
          "2018-April",
          "2018-May",
          "2018-June",
          "2018-July",
          "2018-August",
          "2018-September",
          "2018-October",
          "2018-November",
          "2018-December",
          "2019-January",
          "2019-February",
          "2019-March",
          "2019-April",
          "2019-May",
          "2019-June",
          "2019-July",
          "2019-August",
          "2019-September",
          "2019-October",
          "2019-November",
          "2019-December",
          "2020-January",
          "2020-February",
          "2020-March",
          "2020-April",
          "2020-May",
          "2020-June",
          "2020-July",
          "2020-August",
          "2020-September",
          "2020-October",
          "2020-November",
          "2020-December",
          "2021-January",
          "2021-February",
          "2021-March",
          "2021-April",
          "2021-May",
          "2021-June",
          "2021-July",
          "2021-August",
          "2021-September",
          "2021-October",
          "2021-November",
          "2021-December",
          "2022-January",
          "2022-February",
          "2022-March",
          "2022-April",
          "2022-May",
          "2022-June",
          "2022-July",
          "2022-August",
          "2022-September",
          "2022-October",
          "2022-November",
          "2022-December"
         ],
         "xaxis": "x",
         "y": [
          0,
          -138478,
          1915,
          108151,
          196027,
          -271230,
          95001,
          177732,
          46709,
          -421785,
          219946,
          127838,
          -47832,
          -189925,
          135519,
          97271,
          183471,
          -170690,
          -245947,
          360570,
          9401,
          -207955,
          -101278,
          177792,
          300481,
          -261230,
          126203,
          180505,
          216213,
          -435482,
          7810,
          300802,
          -59073,
          -217078,
          -4450,
          119236,
          122168,
          -248220,
          131996,
          201173,
          265371,
          -531122,
          156404,
          180014,
          114202,
          -233368,
          -142769,
          276658,
          105077,
          -398088,
          259319,
          222366,
          200228,
          -467334,
          96054,
          121957,
          161680,
          -359429,
          13184,
          113152,
          107938,
          -316575,
          210628,
          -1097,
          182797,
          -186233,
          -18145,
          171264,
          2744,
          -209380,
          2265,
          208647,
          -2830,
          -369858,
          -1131957,
          -844799,
          16379,
          45890,
          66425,
          76284,
          93269,
          67582,
          36793,
          166361,
          113850,
          -36295,
          55939,
          -74347,
          -479790,
          -4156,
          73239,
          437232,
          300838,
          134231,
          92088,
          239498,
          -123711,
          -145893,
          340243,
          66099,
          369594,
          -32391,
          -70986,
          329807,
          21359,
          -182211,
          -86743,
          242201
         ],
         "yaxis": "y"
        },
        {
         "line": {
          "color": "salmon"
         },
         "mode": "lines+markers",
         "name": "Monthly Change (Pct)",
         "type": "scatter",
         "x": [
          "2013-January",
          "2013-February",
          "2013-March",
          "2013-April",
          "2013-May",
          "2013-June",
          "2013-July",
          "2013-August",
          "2013-September",
          "2013-October",
          "2013-November",
          "2013-December",
          "2014-January",
          "2014-February",
          "2014-March",
          "2014-April",
          "2014-May",
          "2014-June",
          "2014-July",
          "2014-August",
          "2014-September",
          "2014-October",
          "2014-November",
          "2014-December",
          "2016-January",
          "2016-February",
          "2016-March",
          "2016-April",
          "2016-May",
          "2016-June",
          "2016-July",
          "2016-August",
          "2016-September",
          "2016-October",
          "2016-November",
          "2016-December",
          "2017-January",
          "2017-February",
          "2017-March",
          "2017-April",
          "2017-May",
          "2017-June",
          "2017-July",
          "2017-August",
          "2017-September",
          "2017-October",
          "2017-November",
          "2017-December",
          "2018-January",
          "2018-February",
          "2018-March",
          "2018-April",
          "2018-May",
          "2018-June",
          "2018-July",
          "2018-August",
          "2018-September",
          "2018-October",
          "2018-November",
          "2018-December",
          "2019-January",
          "2019-February",
          "2019-March",
          "2019-April",
          "2019-May",
          "2019-June",
          "2019-July",
          "2019-August",
          "2019-September",
          "2019-October",
          "2019-November",
          "2019-December",
          "2020-January",
          "2020-February",
          "2020-March",
          "2020-April",
          "2020-May",
          "2020-June",
          "2020-July",
          "2020-August",
          "2020-September",
          "2020-October",
          "2020-November",
          "2020-December",
          "2021-January",
          "2021-February",
          "2021-March",
          "2021-April",
          "2021-May",
          "2021-June",
          "2021-July",
          "2021-August",
          "2021-September",
          "2021-October",
          "2021-November",
          "2021-December",
          "2022-January",
          "2022-February",
          "2022-March",
          "2022-April",
          "2022-May",
          "2022-June",
          "2022-July",
          "2022-August",
          "2022-September",
          "2022-October",
          "2022-November",
          "2022-December"
         ],
         "xaxis": "x2",
         "y": [
          0,
          -9.722591801815783,
          0.148933009698915,
          8.398590385547266,
          14.043265927777405,
          -17.03806631798611,
          7.193361581493107,
          12.554558702302865,
          2.9313879863864134,
          -25.71674720965199,
          18.053028195082945,
          8.888261595976864,
          -3.0541779445596995,
          -12.509179765327328,
          10.201978379354992,
          6.644743178910284,
          11.752297985459448,
          -9.783786851126974,
          -15.626288573006065,
          27.151682550392174,
          0.5567485552727458,
          -12.247379936452973,
          -6.7971812080536935,
          12.802562355892677,
          19.181507474558156,
          -13.992003192295643,
          7.859369210314093,
          10.421959297169469,
          11.30541450781266,
          -20.457784755478258,
          0.46125570220718615,
          17.683687494635556,
          -2.9509705187689583,
          -11.173788813033948,
          -0.2578716031211181,
          6.927432075597761,
          6.637938201017035,
          -12.64738596742414,
          7.699257874042154,
          10.895447615488552,
          12.960302173114634,
          -22.96307857665074,
          8.777781332201906,
          9.287588979791273,
          5.391375366755824,
          -10.453508878414041,
          -7.141774496027898,
          14.903733232774874,
          4.9263511048975195,
          -17.78738938399087,
          14.093829876621445,
          10.592559494604314,
          8.624450386624583,
          -18.531322119388072,
          4.675238960227324,
          5.670888783490957,
          7.114515627248319,
          -14.765692623130967,
          0.635438415876699,
          5.4192297597860595,
          4.903767347954946,
          -13.710112591173385,
          10.571110376127923,
          -0.04979313381280326,
          8.301339952716091,
          -7.809117269054411,
          -0.8253046736487413,
          7.854572271521709,
          0.11668149990156085,
          -8.89296628292443,
          0.10559120586088877,
          9.716578262307142,
          -0.12012001814958317,
          -15.717590103805668,
          -57.074737973134525,
          -99.23261430323305,
          250.71177100872495,
          200.28805865921785,
          96.54515857097176,
          56.41181125071177,
          44.09652453063906,
          22.174027167136945,
          9.880976039445489,
          40.65965221004264,
          19.782247583038526,
          -5.264982607207203,
          8.565531159705465,
          -10.486029816222619,
          -75.59760061639011,
          -2.683489052320287,
          48.59372200879795,
          195.2312061297755,
          45.499615842997756,
          13.952949296588656,
          8.400220021400084,
          20.15391153242534,
          -8.664187869394603,
          -11.186981072468127,
          29.375888741442836,
          4.411063996764719,
          23.622554536965488,
          -1.6746674938927453,
          -3.732600547696263,
          18.014384984034294,
          0.9885657026619921,
          -8.350779389577468,
          -4.3376857041844685,
          12.660728380928488
         ],
         "yaxis": "y2"
        }
       ],
       "layout": {
        "annotations": [
         {
          "font": {
           "size": 16
          },
          "showarrow": false,
          "text": "Monthly Change in Dep (Absolute)",
          "x": 0.225,
          "xanchor": "center",
          "xref": "paper",
          "y": 1,
          "yanchor": "bottom",
          "yref": "paper"
         },
         {
          "font": {
           "size": 16
          },
          "showarrow": false,
          "text": "Monthly Change in Dep (Percentage)",
          "x": 0.775,
          "xanchor": "center",
          "xref": "paper",
          "y": 1,
          "yanchor": "bottom",
          "yref": "paper"
         }
        ],
        "height": 500,
        "showlegend": false,
        "template": {
         "data": {
          "bar": [
           {
            "error_x": {
             "color": "#2a3f5f"
            },
            "error_y": {
             "color": "#2a3f5f"
            },
            "marker": {
             "line": {
              "color": "white",
              "width": 0.5
             },
             "pattern": {
              "fillmode": "overlay",
              "size": 10,
              "solidity": 0.2
             }
            },
            "type": "bar"
           }
          ],
          "barpolar": [
           {
            "marker": {
             "line": {
              "color": "white",
              "width": 0.5
             },
             "pattern": {
              "fillmode": "overlay",
              "size": 10,
              "solidity": 0.2
             }
            },
            "type": "barpolar"
           }
          ],
          "carpet": [
           {
            "aaxis": {
             "endlinecolor": "#2a3f5f",
             "gridcolor": "#C8D4E3",
             "linecolor": "#C8D4E3",
             "minorgridcolor": "#C8D4E3",
             "startlinecolor": "#2a3f5f"
            },
            "baxis": {
             "endlinecolor": "#2a3f5f",
             "gridcolor": "#C8D4E3",
             "linecolor": "#C8D4E3",
             "minorgridcolor": "#C8D4E3",
             "startlinecolor": "#2a3f5f"
            },
            "type": "carpet"
           }
          ],
          "choropleth": [
           {
            "colorbar": {
             "outlinewidth": 0,
             "ticks": ""
            },
            "type": "choropleth"
           }
          ],
          "contour": [
           {
            "colorbar": {
             "outlinewidth": 0,
             "ticks": ""
            },
            "colorscale": [
             [
              0,
              "#0d0887"
             ],
             [
              0.1111111111111111,
              "#46039f"
             ],
             [
              0.2222222222222222,
              "#7201a8"
             ],
             [
              0.3333333333333333,
              "#9c179e"
             ],
             [
              0.4444444444444444,
              "#bd3786"
             ],
             [
              0.5555555555555556,
              "#d8576b"
             ],
             [
              0.6666666666666666,
              "#ed7953"
             ],
             [
              0.7777777777777778,
              "#fb9f3a"
             ],
             [
              0.8888888888888888,
              "#fdca26"
             ],
             [
              1,
              "#f0f921"
             ]
            ],
            "type": "contour"
           }
          ],
          "contourcarpet": [
           {
            "colorbar": {
             "outlinewidth": 0,
             "ticks": ""
            },
            "type": "contourcarpet"
           }
          ],
          "heatmap": [
           {
            "colorbar": {
             "outlinewidth": 0,
             "ticks": ""
            },
            "colorscale": [
             [
              0,
              "#0d0887"
             ],
             [
              0.1111111111111111,
              "#46039f"
             ],
             [
              0.2222222222222222,
              "#7201a8"
             ],
             [
              0.3333333333333333,
              "#9c179e"
             ],
             [
              0.4444444444444444,
              "#bd3786"
             ],
             [
              0.5555555555555556,
              "#d8576b"
             ],
             [
              0.6666666666666666,
              "#ed7953"
             ],
             [
              0.7777777777777778,
              "#fb9f3a"
             ],
             [
              0.8888888888888888,
              "#fdca26"
             ],
             [
              1,
              "#f0f921"
             ]
            ],
            "type": "heatmap"
           }
          ],
          "heatmapgl": [
           {
            "colorbar": {
             "outlinewidth": 0,
             "ticks": ""
            },
            "colorscale": [
             [
              0,
              "#0d0887"
             ],
             [
              0.1111111111111111,
              "#46039f"
             ],
             [
              0.2222222222222222,
              "#7201a8"
             ],
             [
              0.3333333333333333,
              "#9c179e"
             ],
             [
              0.4444444444444444,
              "#bd3786"
             ],
             [
              0.5555555555555556,
              "#d8576b"
             ],
             [
              0.6666666666666666,
              "#ed7953"
             ],
             [
              0.7777777777777778,
              "#fb9f3a"
             ],
             [
              0.8888888888888888,
              "#fdca26"
             ],
             [
              1,
              "#f0f921"
             ]
            ],
            "type": "heatmapgl"
           }
          ],
          "histogram": [
           {
            "marker": {
             "pattern": {
              "fillmode": "overlay",
              "size": 10,
              "solidity": 0.2
             }
            },
            "type": "histogram"
           }
          ],
          "histogram2d": [
           {
            "colorbar": {
             "outlinewidth": 0,
             "ticks": ""
            },
            "colorscale": [
             [
              0,
              "#0d0887"
             ],
             [
              0.1111111111111111,
              "#46039f"
             ],
             [
              0.2222222222222222,
              "#7201a8"
             ],
             [
              0.3333333333333333,
              "#9c179e"
             ],
             [
              0.4444444444444444,
              "#bd3786"
             ],
             [
              0.5555555555555556,
              "#d8576b"
             ],
             [
              0.6666666666666666,
              "#ed7953"
             ],
             [
              0.7777777777777778,
              "#fb9f3a"
             ],
             [
              0.8888888888888888,
              "#fdca26"
             ],
             [
              1,
              "#f0f921"
             ]
            ],
            "type": "histogram2d"
           }
          ],
          "histogram2dcontour": [
           {
            "colorbar": {
             "outlinewidth": 0,
             "ticks": ""
            },
            "colorscale": [
             [
              0,
              "#0d0887"
             ],
             [
              0.1111111111111111,
              "#46039f"
             ],
             [
              0.2222222222222222,
              "#7201a8"
             ],
             [
              0.3333333333333333,
              "#9c179e"
             ],
             [
              0.4444444444444444,
              "#bd3786"
             ],
             [
              0.5555555555555556,
              "#d8576b"
             ],
             [
              0.6666666666666666,
              "#ed7953"
             ],
             [
              0.7777777777777778,
              "#fb9f3a"
             ],
             [
              0.8888888888888888,
              "#fdca26"
             ],
             [
              1,
              "#f0f921"
             ]
            ],
            "type": "histogram2dcontour"
           }
          ],
          "mesh3d": [
           {
            "colorbar": {
             "outlinewidth": 0,
             "ticks": ""
            },
            "type": "mesh3d"
           }
          ],
          "parcoords": [
           {
            "line": {
             "colorbar": {
              "outlinewidth": 0,
              "ticks": ""
             }
            },
            "type": "parcoords"
           }
          ],
          "pie": [
           {
            "automargin": true,
            "type": "pie"
           }
          ],
          "scatter": [
           {
            "fillpattern": {
             "fillmode": "overlay",
             "size": 10,
             "solidity": 0.2
            },
            "type": "scatter"
           }
          ],
          "scatter3d": [
           {
            "line": {
             "colorbar": {
              "outlinewidth": 0,
              "ticks": ""
             }
            },
            "marker": {
             "colorbar": {
              "outlinewidth": 0,
              "ticks": ""
             }
            },
            "type": "scatter3d"
           }
          ],
          "scattercarpet": [
           {
            "marker": {
             "colorbar": {
              "outlinewidth": 0,
              "ticks": ""
             }
            },
            "type": "scattercarpet"
           }
          ],
          "scattergeo": [
           {
            "marker": {
             "colorbar": {
              "outlinewidth": 0,
              "ticks": ""
             }
            },
            "type": "scattergeo"
           }
          ],
          "scattergl": [
           {
            "marker": {
             "colorbar": {
              "outlinewidth": 0,
              "ticks": ""
             }
            },
            "type": "scattergl"
           }
          ],
          "scattermapbox": [
           {
            "marker": {
             "colorbar": {
              "outlinewidth": 0,
              "ticks": ""
             }
            },
            "type": "scattermapbox"
           }
          ],
          "scatterpolar": [
           {
            "marker": {
             "colorbar": {
              "outlinewidth": 0,
              "ticks": ""
             }
            },
            "type": "scatterpolar"
           }
          ],
          "scatterpolargl": [
           {
            "marker": {
             "colorbar": {
              "outlinewidth": 0,
              "ticks": ""
             }
            },
            "type": "scatterpolargl"
           }
          ],
          "scatterternary": [
           {
            "marker": {
             "colorbar": {
              "outlinewidth": 0,
              "ticks": ""
             }
            },
            "type": "scatterternary"
           }
          ],
          "surface": [
           {
            "colorbar": {
             "outlinewidth": 0,
             "ticks": ""
            },
            "colorscale": [
             [
              0,
              "#0d0887"
             ],
             [
              0.1111111111111111,
              "#46039f"
             ],
             [
              0.2222222222222222,
              "#7201a8"
             ],
             [
              0.3333333333333333,
              "#9c179e"
             ],
             [
              0.4444444444444444,
              "#bd3786"
             ],
             [
              0.5555555555555556,
              "#d8576b"
             ],
             [
              0.6666666666666666,
              "#ed7953"
             ],
             [
              0.7777777777777778,
              "#fb9f3a"
             ],
             [
              0.8888888888888888,
              "#fdca26"
             ],
             [
              1,
              "#f0f921"
             ]
            ],
            "type": "surface"
           }
          ],
          "table": [
           {
            "cells": {
             "fill": {
              "color": "#EBF0F8"
             },
             "line": {
              "color": "white"
             }
            },
            "header": {
             "fill": {
              "color": "#C8D4E3"
             },
             "line": {
              "color": "white"
             }
            },
            "type": "table"
           }
          ]
         },
         "layout": {
          "annotationdefaults": {
           "arrowcolor": "#2a3f5f",
           "arrowhead": 0,
           "arrowwidth": 1
          },
          "autotypenumbers": "strict",
          "coloraxis": {
           "colorbar": {
            "outlinewidth": 0,
            "ticks": ""
           }
          },
          "colorscale": {
           "diverging": [
            [
             0,
             "#8e0152"
            ],
            [
             0.1,
             "#c51b7d"
            ],
            [
             0.2,
             "#de77ae"
            ],
            [
             0.3,
             "#f1b6da"
            ],
            [
             0.4,
             "#fde0ef"
            ],
            [
             0.5,
             "#f7f7f7"
            ],
            [
             0.6,
             "#e6f5d0"
            ],
            [
             0.7,
             "#b8e186"
            ],
            [
             0.8,
             "#7fbc41"
            ],
            [
             0.9,
             "#4d9221"
            ],
            [
             1,
             "#276419"
            ]
           ],
           "sequential": [
            [
             0,
             "#0d0887"
            ],
            [
             0.1111111111111111,
             "#46039f"
            ],
            [
             0.2222222222222222,
             "#7201a8"
            ],
            [
             0.3333333333333333,
             "#9c179e"
            ],
            [
             0.4444444444444444,
             "#bd3786"
            ],
            [
             0.5555555555555556,
             "#d8576b"
            ],
            [
             0.6666666666666666,
             "#ed7953"
            ],
            [
             0.7777777777777778,
             "#fb9f3a"
            ],
            [
             0.8888888888888888,
             "#fdca26"
            ],
            [
             1,
             "#f0f921"
            ]
           ],
           "sequentialminus": [
            [
             0,
             "#0d0887"
            ],
            [
             0.1111111111111111,
             "#46039f"
            ],
            [
             0.2222222222222222,
             "#7201a8"
            ],
            [
             0.3333333333333333,
             "#9c179e"
            ],
            [
             0.4444444444444444,
             "#bd3786"
            ],
            [
             0.5555555555555556,
             "#d8576b"
            ],
            [
             0.6666666666666666,
             "#ed7953"
            ],
            [
             0.7777777777777778,
             "#fb9f3a"
            ],
            [
             0.8888888888888888,
             "#fdca26"
            ],
            [
             1,
             "#f0f921"
            ]
           ]
          },
          "colorway": [
           "#636efa",
           "#EF553B",
           "#00cc96",
           "#ab63fa",
           "#FFA15A",
           "#19d3f3",
           "#FF6692",
           "#B6E880",
           "#FF97FF",
           "#FECB52"
          ],
          "font": {
           "color": "#2a3f5f"
          },
          "geo": {
           "bgcolor": "white",
           "lakecolor": "white",
           "landcolor": "white",
           "showlakes": true,
           "showland": true,
           "subunitcolor": "#C8D4E3"
          },
          "hoverlabel": {
           "align": "left"
          },
          "hovermode": "closest",
          "mapbox": {
           "style": "light"
          },
          "paper_bgcolor": "white",
          "plot_bgcolor": "white",
          "polar": {
           "angularaxis": {
            "gridcolor": "#EBF0F8",
            "linecolor": "#EBF0F8",
            "ticks": ""
           },
           "bgcolor": "white",
           "radialaxis": {
            "gridcolor": "#EBF0F8",
            "linecolor": "#EBF0F8",
            "ticks": ""
           }
          },
          "scene": {
           "xaxis": {
            "backgroundcolor": "white",
            "gridcolor": "#DFE8F3",
            "gridwidth": 2,
            "linecolor": "#EBF0F8",
            "showbackground": true,
            "ticks": "",
            "zerolinecolor": "#EBF0F8"
           },
           "yaxis": {
            "backgroundcolor": "white",
            "gridcolor": "#DFE8F3",
            "gridwidth": 2,
            "linecolor": "#EBF0F8",
            "showbackground": true,
            "ticks": "",
            "zerolinecolor": "#EBF0F8"
           },
           "zaxis": {
            "backgroundcolor": "white",
            "gridcolor": "#DFE8F3",
            "gridwidth": 2,
            "linecolor": "#EBF0F8",
            "showbackground": true,
            "ticks": "",
            "zerolinecolor": "#EBF0F8"
           }
          },
          "shapedefaults": {
           "line": {
            "color": "#2a3f5f"
           }
          },
          "ternary": {
           "aaxis": {
            "gridcolor": "#DFE8F3",
            "linecolor": "#A2B1C6",
            "ticks": ""
           },
           "baxis": {
            "gridcolor": "#DFE8F3",
            "linecolor": "#A2B1C6",
            "ticks": ""
           },
           "bgcolor": "white",
           "caxis": {
            "gridcolor": "#DFE8F3",
            "linecolor": "#A2B1C6",
            "ticks": ""
           }
          },
          "title": {
           "x": 0.05
          },
          "xaxis": {
           "automargin": true,
           "gridcolor": "#EBF0F8",
           "linecolor": "#EBF0F8",
           "ticks": "",
           "title": {
            "standoff": 15
           },
           "zerolinecolor": "#EBF0F8",
           "zerolinewidth": 2
          },
          "yaxis": {
           "automargin": true,
           "gridcolor": "#EBF0F8",
           "linecolor": "#EBF0F8",
           "ticks": "",
           "title": {
            "standoff": 15
           },
           "zerolinecolor": "#EBF0F8",
           "zerolinewidth": 2
          }
         }
        },
        "title": {
         "text": "Monthly Change in Dep (Absolute and Percentage)"
        },
        "xaxis": {
         "anchor": "y",
         "domain": [
          0,
          0.45
         ],
         "title": {
          "text": "Date"
         }
        },
        "xaxis2": {
         "anchor": "y2",
         "domain": [
          0.55,
          1
         ],
         "title": {
          "text": "Date"
         }
        },
        "yaxis": {
         "anchor": "x",
         "domain": [
          0,
          1
         ],
         "title": {
          "text": "Monthly Change (Absolute)"
         }
        },
        "yaxis2": {
         "anchor": "x2",
         "domain": [
          0,
          1
         ],
         "title": {
          "text": "Monthly Change (Percentage)"
         }
        }
       }
      }
     },
     "metadata": {},
     "output_type": "display_data"
    },
    {
     "data": {
      "application/vnd.plotly.v1+json": {
       "config": {
        "plotlyServerURL": "https://plot.ly"
       },
       "data": [
        {
         "hovertemplate": "Year=2013<br>Month=%{x}<br>Dep=%{y}<extra></extra>",
         "legendgroup": "2013",
         "line": {
          "color": "#636efa",
          "dash": "solid"
         },
         "marker": {
          "symbol": "circle"
         },
         "mode": "lines",
         "name": "2013",
         "orientation": "v",
         "showlegend": true,
         "type": "scatter",
         "x": [
          "January",
          "February",
          "March",
          "April",
          "May",
          "June",
          "July",
          "August",
          "September",
          "October",
          "November",
          "December"
         ],
         "xaxis": "x",
         "y": [
          1424291,
          1285813,
          1287728,
          1395879,
          1591906,
          1320676,
          1415677,
          1593409,
          1640118,
          1218333,
          1438279,
          1566117
         ],
         "yaxis": "y"
        },
        {
         "hovertemplate": "Year=2014<br>Month=%{x}<br>Dep=%{y}<extra></extra>",
         "legendgroup": "2014",
         "line": {
          "color": "#EF553B",
          "dash": "solid"
         },
         "marker": {
          "symbol": "circle"
         },
         "mode": "lines",
         "name": "2014",
         "orientation": "v",
         "showlegend": true,
         "type": "scatter",
         "x": [
          "January",
          "February",
          "March",
          "April",
          "May",
          "June",
          "July",
          "August",
          "September",
          "October",
          "November",
          "December"
         ],
         "xaxis": "x",
         "y": [
          1518285,
          1328360,
          1463879,
          1561150,
          1744621,
          1573931,
          1327984,
          1688554,
          1697955,
          1490000,
          1388722,
          1566514
         ],
         "yaxis": "y"
        },
        {
         "hovertemplate": "Year=2016<br>Month=%{x}<br>Dep=%{y}<extra></extra>",
         "legendgroup": "2016",
         "line": {
          "color": "#00cc96",
          "dash": "solid"
         },
         "marker": {
          "symbol": "circle"
         },
         "mode": "lines",
         "name": "2016",
         "orientation": "v",
         "showlegend": true,
         "type": "scatter",
         "x": [
          "January",
          "February",
          "March",
          "April",
          "May",
          "June",
          "July",
          "August",
          "September",
          "October",
          "November",
          "December"
         ],
         "xaxis": "x",
         "y": [
          1866995,
          1605765,
          1731968,
          1912473,
          2128686,
          1693204,
          1701014,
          2001816,
          1942743,
          1725665,
          1721215,
          1840451
         ],
         "yaxis": "y"
        },
        {
         "hovertemplate": "Year=2017<br>Month=%{x}<br>Dep=%{y}<extra></extra>",
         "legendgroup": "2017",
         "line": {
          "color": "#ab63fa",
          "dash": "solid"
         },
         "marker": {
          "symbol": "circle"
         },
         "mode": "lines",
         "name": "2017",
         "orientation": "v",
         "showlegend": true,
         "type": "scatter",
         "x": [
          "January",
          "February",
          "March",
          "April",
          "May",
          "June",
          "July",
          "August",
          "September",
          "October",
          "November",
          "December"
         ],
         "xaxis": "x",
         "y": [
          1962619,
          1714399,
          1846395,
          2047568,
          2312939,
          1781817,
          1938221,
          2118235,
          2232437,
          1999069,
          1856300,
          2132958
         ],
         "yaxis": "y"
        },
        {
         "hovertemplate": "Year=2018<br>Month=%{x}<br>Dep=%{y}<extra></extra>",
         "legendgroup": "2018",
         "line": {
          "color": "#FFA15A",
          "dash": "solid"
         },
         "marker": {
          "symbol": "circle"
         },
         "mode": "lines",
         "name": "2018",
         "orientation": "v",
         "showlegend": true,
         "type": "scatter",
         "x": [
          "January",
          "February",
          "March",
          "April",
          "May",
          "June",
          "July",
          "August",
          "September",
          "October",
          "November",
          "December"
         ],
         "xaxis": "x",
         "y": [
          2238035,
          1839947,
          2099266,
          2321632,
          2521860,
          2054526,
          2150580,
          2272537,
          2434217,
          2074788,
          2087972,
          2201124
         ],
         "yaxis": "y"
        },
        {
         "hovertemplate": "Year=2019<br>Month=%{x}<br>Dep=%{y}<extra></extra>",
         "legendgroup": "2019",
         "line": {
          "color": "#19d3f3",
          "dash": "solid"
         },
         "marker": {
          "symbol": "circle"
         },
         "mode": "lines",
         "name": "2019",
         "orientation": "v",
         "showlegend": true,
         "type": "scatter",
         "x": [
          "January",
          "February",
          "March",
          "April",
          "May",
          "June",
          "July",
          "August",
          "September",
          "October",
          "November",
          "December"
         ],
         "xaxis": "x",
         "y": [
          2309062,
          1992487,
          2203115,
          2202018,
          2384815,
          2198582,
          2180437,
          2351701,
          2354445,
          2145065,
          2147330,
          2355977
         ],
         "yaxis": "y"
        },
        {
         "hovertemplate": "Year=2020<br>Month=%{x}<br>Dep=%{y}<extra></extra>",
         "legendgroup": "2020",
         "line": {
          "color": "#FF6692",
          "dash": "solid"
         },
         "marker": {
          "symbol": "circle"
         },
         "mode": "lines",
         "name": "2020",
         "orientation": "v",
         "showlegend": true,
         "type": "scatter",
         "x": [
          "January",
          "February",
          "March",
          "April",
          "May",
          "June",
          "July",
          "August",
          "September",
          "October",
          "November",
          "December"
         ],
         "xaxis": "x",
         "y": [
          2353147,
          1983289,
          851332,
          6533,
          22912,
          68802,
          135227,
          211511,
          304780,
          372362,
          409155,
          575516
         ],
         "yaxis": "y"
        },
        {
         "hovertemplate": "Year=2021<br>Month=%{x}<br>Dep=%{y}<extra></extra>",
         "legendgroup": "2021",
         "line": {
          "color": "#B6E880",
          "dash": "solid"
         },
         "marker": {
          "symbol": "circle"
         },
         "mode": "lines",
         "name": "2021",
         "orientation": "v",
         "showlegend": true,
         "type": "scatter",
         "x": [
          "January",
          "February",
          "March",
          "April",
          "May",
          "June",
          "July",
          "August",
          "September",
          "October",
          "November",
          "December"
         ],
         "xaxis": "x",
         "y": [
          689366,
          653071,
          709010,
          634663,
          154873,
          150717,
          223956,
          661188,
          962026,
          1096257,
          1188345,
          1427843
         ],
         "yaxis": "y"
        },
        {
         "hovertemplate": "Year=2022<br>Month=%{x}<br>Dep=%{y}<extra></extra>",
         "legendgroup": "2022",
         "line": {
          "color": "#FF97FF",
          "dash": "solid"
         },
         "marker": {
          "symbol": "circle"
         },
         "mode": "lines",
         "name": "2022",
         "orientation": "v",
         "showlegend": true,
         "type": "scatter",
         "x": [
          "January",
          "February",
          "March",
          "April",
          "May",
          "June",
          "July",
          "August",
          "September",
          "October",
          "November",
          "December"
         ],
         "xaxis": "x",
         "y": [
          1304132,
          1158239,
          1498482,
          1564581,
          1934175,
          1901784,
          1830798,
          2160605,
          2181964,
          1999753,
          1913010,
          2155211
         ],
         "yaxis": "y"
        }
       ],
       "layout": {
        "legend": {
         "title": {
          "text": "Year"
         },
         "tracegroupgap": 0
        },
        "template": {
         "data": {
          "bar": [
           {
            "error_x": {
             "color": "#2a3f5f"
            },
            "error_y": {
             "color": "#2a3f5f"
            },
            "marker": {
             "line": {
              "color": "#E5ECF6",
              "width": 0.5
             },
             "pattern": {
              "fillmode": "overlay",
              "size": 10,
              "solidity": 0.2
             }
            },
            "type": "bar"
           }
          ],
          "barpolar": [
           {
            "marker": {
             "line": {
              "color": "#E5ECF6",
              "width": 0.5
             },
             "pattern": {
              "fillmode": "overlay",
              "size": 10,
              "solidity": 0.2
             }
            },
            "type": "barpolar"
           }
          ],
          "carpet": [
           {
            "aaxis": {
             "endlinecolor": "#2a3f5f",
             "gridcolor": "white",
             "linecolor": "white",
             "minorgridcolor": "white",
             "startlinecolor": "#2a3f5f"
            },
            "baxis": {
             "endlinecolor": "#2a3f5f",
             "gridcolor": "white",
             "linecolor": "white",
             "minorgridcolor": "white",
             "startlinecolor": "#2a3f5f"
            },
            "type": "carpet"
           }
          ],
          "choropleth": [
           {
            "colorbar": {
             "outlinewidth": 0,
             "ticks": ""
            },
            "type": "choropleth"
           }
          ],
          "contour": [
           {
            "colorbar": {
             "outlinewidth": 0,
             "ticks": ""
            },
            "colorscale": [
             [
              0,
              "#0d0887"
             ],
             [
              0.1111111111111111,
              "#46039f"
             ],
             [
              0.2222222222222222,
              "#7201a8"
             ],
             [
              0.3333333333333333,
              "#9c179e"
             ],
             [
              0.4444444444444444,
              "#bd3786"
             ],
             [
              0.5555555555555556,
              "#d8576b"
             ],
             [
              0.6666666666666666,
              "#ed7953"
             ],
             [
              0.7777777777777778,
              "#fb9f3a"
             ],
             [
              0.8888888888888888,
              "#fdca26"
             ],
             [
              1,
              "#f0f921"
             ]
            ],
            "type": "contour"
           }
          ],
          "contourcarpet": [
           {
            "colorbar": {
             "outlinewidth": 0,
             "ticks": ""
            },
            "type": "contourcarpet"
           }
          ],
          "heatmap": [
           {
            "colorbar": {
             "outlinewidth": 0,
             "ticks": ""
            },
            "colorscale": [
             [
              0,
              "#0d0887"
             ],
             [
              0.1111111111111111,
              "#46039f"
             ],
             [
              0.2222222222222222,
              "#7201a8"
             ],
             [
              0.3333333333333333,
              "#9c179e"
             ],
             [
              0.4444444444444444,
              "#bd3786"
             ],
             [
              0.5555555555555556,
              "#d8576b"
             ],
             [
              0.6666666666666666,
              "#ed7953"
             ],
             [
              0.7777777777777778,
              "#fb9f3a"
             ],
             [
              0.8888888888888888,
              "#fdca26"
             ],
             [
              1,
              "#f0f921"
             ]
            ],
            "type": "heatmap"
           }
          ],
          "heatmapgl": [
           {
            "colorbar": {
             "outlinewidth": 0,
             "ticks": ""
            },
            "colorscale": [
             [
              0,
              "#0d0887"
             ],
             [
              0.1111111111111111,
              "#46039f"
             ],
             [
              0.2222222222222222,
              "#7201a8"
             ],
             [
              0.3333333333333333,
              "#9c179e"
             ],
             [
              0.4444444444444444,
              "#bd3786"
             ],
             [
              0.5555555555555556,
              "#d8576b"
             ],
             [
              0.6666666666666666,
              "#ed7953"
             ],
             [
              0.7777777777777778,
              "#fb9f3a"
             ],
             [
              0.8888888888888888,
              "#fdca26"
             ],
             [
              1,
              "#f0f921"
             ]
            ],
            "type": "heatmapgl"
           }
          ],
          "histogram": [
           {
            "marker": {
             "pattern": {
              "fillmode": "overlay",
              "size": 10,
              "solidity": 0.2
             }
            },
            "type": "histogram"
           }
          ],
          "histogram2d": [
           {
            "colorbar": {
             "outlinewidth": 0,
             "ticks": ""
            },
            "colorscale": [
             [
              0,
              "#0d0887"
             ],
             [
              0.1111111111111111,
              "#46039f"
             ],
             [
              0.2222222222222222,
              "#7201a8"
             ],
             [
              0.3333333333333333,
              "#9c179e"
             ],
             [
              0.4444444444444444,
              "#bd3786"
             ],
             [
              0.5555555555555556,
              "#d8576b"
             ],
             [
              0.6666666666666666,
              "#ed7953"
             ],
             [
              0.7777777777777778,
              "#fb9f3a"
             ],
             [
              0.8888888888888888,
              "#fdca26"
             ],
             [
              1,
              "#f0f921"
             ]
            ],
            "type": "histogram2d"
           }
          ],
          "histogram2dcontour": [
           {
            "colorbar": {
             "outlinewidth": 0,
             "ticks": ""
            },
            "colorscale": [
             [
              0,
              "#0d0887"
             ],
             [
              0.1111111111111111,
              "#46039f"
             ],
             [
              0.2222222222222222,
              "#7201a8"
             ],
             [
              0.3333333333333333,
              "#9c179e"
             ],
             [
              0.4444444444444444,
              "#bd3786"
             ],
             [
              0.5555555555555556,
              "#d8576b"
             ],
             [
              0.6666666666666666,
              "#ed7953"
             ],
             [
              0.7777777777777778,
              "#fb9f3a"
             ],
             [
              0.8888888888888888,
              "#fdca26"
             ],
             [
              1,
              "#f0f921"
             ]
            ],
            "type": "histogram2dcontour"
           }
          ],
          "mesh3d": [
           {
            "colorbar": {
             "outlinewidth": 0,
             "ticks": ""
            },
            "type": "mesh3d"
           }
          ],
          "parcoords": [
           {
            "line": {
             "colorbar": {
              "outlinewidth": 0,
              "ticks": ""
             }
            },
            "type": "parcoords"
           }
          ],
          "pie": [
           {
            "automargin": true,
            "type": "pie"
           }
          ],
          "scatter": [
           {
            "fillpattern": {
             "fillmode": "overlay",
             "size": 10,
             "solidity": 0.2
            },
            "type": "scatter"
           }
          ],
          "scatter3d": [
           {
            "line": {
             "colorbar": {
              "outlinewidth": 0,
              "ticks": ""
             }
            },
            "marker": {
             "colorbar": {
              "outlinewidth": 0,
              "ticks": ""
             }
            },
            "type": "scatter3d"
           }
          ],
          "scattercarpet": [
           {
            "marker": {
             "colorbar": {
              "outlinewidth": 0,
              "ticks": ""
             }
            },
            "type": "scattercarpet"
           }
          ],
          "scattergeo": [
           {
            "marker": {
             "colorbar": {
              "outlinewidth": 0,
              "ticks": ""
             }
            },
            "type": "scattergeo"
           }
          ],
          "scattergl": [
           {
            "marker": {
             "colorbar": {
              "outlinewidth": 0,
              "ticks": ""
             }
            },
            "type": "scattergl"
           }
          ],
          "scattermapbox": [
           {
            "marker": {
             "colorbar": {
              "outlinewidth": 0,
              "ticks": ""
             }
            },
            "type": "scattermapbox"
           }
          ],
          "scatterpolar": [
           {
            "marker": {
             "colorbar": {
              "outlinewidth": 0,
              "ticks": ""
             }
            },
            "type": "scatterpolar"
           }
          ],
          "scatterpolargl": [
           {
            "marker": {
             "colorbar": {
              "outlinewidth": 0,
              "ticks": ""
             }
            },
            "type": "scatterpolargl"
           }
          ],
          "scatterternary": [
           {
            "marker": {
             "colorbar": {
              "outlinewidth": 0,
              "ticks": ""
             }
            },
            "type": "scatterternary"
           }
          ],
          "surface": [
           {
            "colorbar": {
             "outlinewidth": 0,
             "ticks": ""
            },
            "colorscale": [
             [
              0,
              "#0d0887"
             ],
             [
              0.1111111111111111,
              "#46039f"
             ],
             [
              0.2222222222222222,
              "#7201a8"
             ],
             [
              0.3333333333333333,
              "#9c179e"
             ],
             [
              0.4444444444444444,
              "#bd3786"
             ],
             [
              0.5555555555555556,
              "#d8576b"
             ],
             [
              0.6666666666666666,
              "#ed7953"
             ],
             [
              0.7777777777777778,
              "#fb9f3a"
             ],
             [
              0.8888888888888888,
              "#fdca26"
             ],
             [
              1,
              "#f0f921"
             ]
            ],
            "type": "surface"
           }
          ],
          "table": [
           {
            "cells": {
             "fill": {
              "color": "#EBF0F8"
             },
             "line": {
              "color": "white"
             }
            },
            "header": {
             "fill": {
              "color": "#C8D4E3"
             },
             "line": {
              "color": "white"
             }
            },
            "type": "table"
           }
          ]
         },
         "layout": {
          "annotationdefaults": {
           "arrowcolor": "#2a3f5f",
           "arrowhead": 0,
           "arrowwidth": 1
          },
          "autotypenumbers": "strict",
          "coloraxis": {
           "colorbar": {
            "outlinewidth": 0,
            "ticks": ""
           }
          },
          "colorscale": {
           "diverging": [
            [
             0,
             "#8e0152"
            ],
            [
             0.1,
             "#c51b7d"
            ],
            [
             0.2,
             "#de77ae"
            ],
            [
             0.3,
             "#f1b6da"
            ],
            [
             0.4,
             "#fde0ef"
            ],
            [
             0.5,
             "#f7f7f7"
            ],
            [
             0.6,
             "#e6f5d0"
            ],
            [
             0.7,
             "#b8e186"
            ],
            [
             0.8,
             "#7fbc41"
            ],
            [
             0.9,
             "#4d9221"
            ],
            [
             1,
             "#276419"
            ]
           ],
           "sequential": [
            [
             0,
             "#0d0887"
            ],
            [
             0.1111111111111111,
             "#46039f"
            ],
            [
             0.2222222222222222,
             "#7201a8"
            ],
            [
             0.3333333333333333,
             "#9c179e"
            ],
            [
             0.4444444444444444,
             "#bd3786"
            ],
            [
             0.5555555555555556,
             "#d8576b"
            ],
            [
             0.6666666666666666,
             "#ed7953"
            ],
            [
             0.7777777777777778,
             "#fb9f3a"
            ],
            [
             0.8888888888888888,
             "#fdca26"
            ],
            [
             1,
             "#f0f921"
            ]
           ],
           "sequentialminus": [
            [
             0,
             "#0d0887"
            ],
            [
             0.1111111111111111,
             "#46039f"
            ],
            [
             0.2222222222222222,
             "#7201a8"
            ],
            [
             0.3333333333333333,
             "#9c179e"
            ],
            [
             0.4444444444444444,
             "#bd3786"
            ],
            [
             0.5555555555555556,
             "#d8576b"
            ],
            [
             0.6666666666666666,
             "#ed7953"
            ],
            [
             0.7777777777777778,
             "#fb9f3a"
            ],
            [
             0.8888888888888888,
             "#fdca26"
            ],
            [
             1,
             "#f0f921"
            ]
           ]
          },
          "colorway": [
           "#636efa",
           "#EF553B",
           "#00cc96",
           "#ab63fa",
           "#FFA15A",
           "#19d3f3",
           "#FF6692",
           "#B6E880",
           "#FF97FF",
           "#FECB52"
          ],
          "font": {
           "color": "#2a3f5f"
          },
          "geo": {
           "bgcolor": "white",
           "lakecolor": "white",
           "landcolor": "#E5ECF6",
           "showlakes": true,
           "showland": true,
           "subunitcolor": "white"
          },
          "hoverlabel": {
           "align": "left"
          },
          "hovermode": "closest",
          "mapbox": {
           "style": "light"
          },
          "paper_bgcolor": "white",
          "plot_bgcolor": "#E5ECF6",
          "polar": {
           "angularaxis": {
            "gridcolor": "white",
            "linecolor": "white",
            "ticks": ""
           },
           "bgcolor": "#E5ECF6",
           "radialaxis": {
            "gridcolor": "white",
            "linecolor": "white",
            "ticks": ""
           }
          },
          "scene": {
           "xaxis": {
            "backgroundcolor": "#E5ECF6",
            "gridcolor": "white",
            "gridwidth": 2,
            "linecolor": "white",
            "showbackground": true,
            "ticks": "",
            "zerolinecolor": "white"
           },
           "yaxis": {
            "backgroundcolor": "#E5ECF6",
            "gridcolor": "white",
            "gridwidth": 2,
            "linecolor": "white",
            "showbackground": true,
            "ticks": "",
            "zerolinecolor": "white"
           },
           "zaxis": {
            "backgroundcolor": "#E5ECF6",
            "gridcolor": "white",
            "gridwidth": 2,
            "linecolor": "white",
            "showbackground": true,
            "ticks": "",
            "zerolinecolor": "white"
           }
          },
          "shapedefaults": {
           "line": {
            "color": "#2a3f5f"
           }
          },
          "ternary": {
           "aaxis": {
            "gridcolor": "white",
            "linecolor": "white",
            "ticks": ""
           },
           "baxis": {
            "gridcolor": "white",
            "linecolor": "white",
            "ticks": ""
           },
           "bgcolor": "#E5ECF6",
           "caxis": {
            "gridcolor": "white",
            "linecolor": "white",
            "ticks": ""
           }
          },
          "title": {
           "x": 0.05
          },
          "xaxis": {
           "automargin": true,
           "gridcolor": "white",
           "linecolor": "white",
           "ticks": "",
           "title": {
            "standoff": 15
           },
           "zerolinecolor": "white",
           "zerolinewidth": 2
          },
          "yaxis": {
           "automargin": true,
           "gridcolor": "white",
           "linecolor": "white",
           "ticks": "",
           "title": {
            "standoff": 15
           },
           "zerolinecolor": "white",
           "zerolinewidth": 2
          }
         }
        },
        "title": {
         "text": "Dep Over Time"
        },
        "xaxis": {
         "anchor": "y",
         "domain": [
          0,
          1
         ],
         "rangeslider": {
          "visible": true
         },
         "title": {
          "text": "Month"
         }
        },
        "yaxis": {
         "anchor": "x",
         "domain": [
          0,
          1
         ],
         "title": {
          "text": "Dep"
         }
        }
       }
      }
     },
     "metadata": {},
     "output_type": "display_data"
    }
   ],
   "source": [
    "import matplotlib.pyplot as plt\n",
    "import plotly.express as px\n",
    "\n",
    "\n",
    "import plotly.graph_objects as go\n",
    "from plotly.subplots import make_subplots\n",
    "\n",
    "# Assuming df_all is your DataFrame with columns 'Year', 'Month', 'Dep', 'Monthly_Change_Abs', and 'Monthly_Change_Pct'\n",
    "\n",
    "# Grouping and preparing data\n",
    "Dep_by_year = df_all.groupby('Year', observed=False)['Dep'].sum()\n",
    "Dep_by_month = df_all.groupby('Month', observed=False)['Dep'].sum()\n",
    "\n",
    "# Create a subplot figure with 1 row and 2 columns\n",
    "fig = make_subplots(rows=1, cols=2, subplot_titles=[\n",
    "    \"Total Dep by Year\",\n",
    "    \"Total Dep by Month\"\n",
    "])\n",
    "\n",
    "# Plot 1: Dep by Year (Bar plot)\n",
    "fig.add_trace(\n",
    "    go.Bar(x=Dep_by_year.index, y=Dep_by_year.values, name=\"Total Dep by Year\"),\n",
    "    row=1, col=1\n",
    ")\n",
    "\n",
    "# Plot 2: Dep by Month (Bar plot)\n",
    "fig.add_trace(\n",
    "    go.Bar(x=Dep_by_month.index, y=Dep_by_month.values, name=\"Total Dep by Month\"),\n",
    "    row=1, col=2\n",
    ")\n",
    "\n",
    "# Update layout for the entire figure\n",
    "fig.update_layout(\n",
    "    title=\"Interactive Overview of Dep by Year and Month\",\n",
    "    height=500,\n",
    "    showlegend=False,\n",
    "    template=\"plotly_white\"\n",
    ")\n",
    "\n",
    "# Set axis titles\n",
    "fig.update_xaxes(title_text=\"Year\", row=1, col=1)\n",
    "fig.update_yaxes(title_text=\"Total Dep\", row=1, col=1)\n",
    "\n",
    "fig.update_xaxes(title_text=\"Month\", row=1, col=2)\n",
    "fig.update_yaxes(title_text=\"Total Dep\", row=1, col=2)\n",
    "\n",
    "# Show the plot\n",
    "fig.show()\n",
    "\n",
    "\n",
    "\n",
    "\n",
    "import plotly.graph_objects as go\n",
    "from plotly.subplots import make_subplots\n",
    "\n",
    "# Assuming df_all is your DataFrame with columns 'Year', 'Month', 'Monthly_Change_Abs', and 'Monthly_Change_Pct'\n",
    "\n",
    "# Grouping data by Year and Month\n",
    "monthly_change_abs = df_all.groupby(['Year', 'Month'], observed=False)['Monthly_Change_Abs'].sum().reset_index()\n",
    "monthly_change_pct = df_all.groupby(['Year', 'Month'], observed=False)['Monthly_Change_Pct'].sum().reset_index()\n",
    "\n",
    "# Convert 'Month' column to string to perform string concatenation for x-axis labels\n",
    "monthly_change_abs['Month'] = monthly_change_abs['Month'].astype(str)\n",
    "monthly_change_pct['Month'] = monthly_change_pct['Month'].astype(str)\n",
    "\n",
    "# Creating an interactive subplot figure with 1 row and 2 columns\n",
    "fig = make_subplots(rows=1, cols=2, subplot_titles=[\n",
    "    \"Monthly Change in Dep (Absolute)\",\n",
    "    \"Monthly Change in Dep (Percentage)\"\n",
    "])\n",
    "\n",
    "# Plot 1: Monthly Change in Dep (Absolute)\n",
    "fig.add_trace(\n",
    "    go.Scatter(x=monthly_change_abs['Year'].astype(str) + '-' + monthly_change_abs['Month'],\n",
    "               y=monthly_change_abs['Monthly_Change_Abs'],\n",
    "               mode='lines+markers',\n",
    "               name=\"Monthly Change (Abs)\",\n",
    "               line=dict(color=\"skyblue\")),\n",
    "    row=1, col=1\n",
    ")\n",
    "\n",
    "# Plot 2: Monthly Change in Dep (Percentage)\n",
    "fig.add_trace(\n",
    "    go.Scatter(x=monthly_change_pct['Year'].astype(str) + '-' + monthly_change_pct['Month'],\n",
    "               y=monthly_change_pct['Monthly_Change_Pct'],\n",
    "               mode='lines+markers',\n",
    "               name=\"Monthly Change (Pct)\",\n",
    "               line=dict(color=\"salmon\")),\n",
    "    row=1, col=2\n",
    ")\n",
    "\n",
    "# Update layout for the entire figure\n",
    "fig.update_layout(\n",
    "    title=\"Monthly Change in Dep (Absolute and Percentage)\",\n",
    "    height=500,\n",
    "    showlegend=False,\n",
    "    template=\"plotly_white\"\n",
    ")\n",
    "\n",
    "# Set axis titles\n",
    "fig.update_xaxes(title_text=\"Date\", row=1, col=1)\n",
    "fig.update_yaxes(title_text=\"Monthly Change (Absolute)\", row=1, col=1)\n",
    "\n",
    "fig.update_xaxes(title_text=\"Date\", row=1, col=2)\n",
    "fig.update_yaxes(title_text=\"Monthly Change (Percentage)\", row=1, col=2)\n",
    "\n",
    "# Show the plot\n",
    "fig.show()\n",
    "\n",
    "\n",
    "\n",
    "\n",
    "\n",
    "\n",
    "# Assuming df_all is your DataFrame\n",
    "\n",
    "# Create a figure with multiple subplots\n",
    "# fig, axes = plt.subplots(nrows=2, ncols=2, figsize=(15, 10))\n",
    "\n",
    "# # Plot 1: Dep by Year\n",
    "# df_all.groupby('Year')['Dep'].sum().plot(kind='bar', ax=axes[0, 0])\n",
    "# axes[0, 0].set_title('Total Dep by Year')\n",
    "\n",
    "# # Plot 2: Dep by Month\n",
    "# df_all.groupby('Month')['Dep'].sum().plot(kind='bar', ax=axes[0, 1])\n",
    "# axes[0, 1].set_title('Total Dep by Month')\n",
    "\n",
    "# # Plot 3: Monthly Change (Absolute)\n",
    "# df_all.groupby(['Year', 'Month'])['Monthly_Change_Abs'].sum().plot(kind='line', ax=axes[1, 0])\n",
    "# axes[1, 0].set_title('Monthly Change in Dep (Absolute)')\n",
    "\n",
    "# # Plot 4: Monthly Change (Percentage)\n",
    "# df_all.groupby(['Year', 'Month'])['Monthly_Change_Pct'].sum().plot(kind='line', ax=axes[1, 1])\n",
    "# axes[1, 1].set_title('Monthly Change in Dep (Percentage)')\n",
    "\n",
    "# # Adjust layout and display the plots\n",
    "# plt.tight_layout()\n",
    "# plt.show()\n",
    "\n",
    "#Interactive Plot\n",
    "fig = px.line(df_all, x='Month', y='Dep', color='Year', title='Dep Over Time')\n",
    "fig.update_layout(xaxis_rangeslider_visible=True)  # Add a slider for scrolling through the data\n",
    "fig.show()"
   ]
  },
  {
   "cell_type": "code",
   "execution_count": 51,
   "metadata": {},
   "outputs": [],
   "source": [
    "# import pandas as pd\n",
    "# import plotly.graph_objects as go\n",
    "# import plotly.express as px\n",
    "# from plotly.subplots import make_subplots\n",
    "\n",
    "# # Assuming df_all is your DataFrame with columns 'Year', 'Month', 'Dep', 'Monthly_Change_Abs', 'Monthly_Change_Pct'\n",
    "\n",
    "# # 1. Total Dep by Year\n",
    "# def plot_dep_by_year(df):\n",
    "#     Dep_by_year = df.groupby('Year', observed=False)['Dep'].sum()\n",
    "#     fig = go.Figure(go.Bar(x=Dep_by_year.index, y=Dep_by_year.values, name=\"Total Dep by Year\"))\n",
    "#     fig.update_layout(title=\"Total Dep by Year\", xaxis_title=\"Year\", yaxis_title=\"Total Dep\", template=\"plotly_white\")\n",
    "#     fig.show()\n",
    "\n",
    "# # 2. Total Dep by Month\n",
    "# def plot_dep_by_month(df):\n",
    "#     Dep_by_month = df.groupby('Month', observed=False)['Dep'].sum()\n",
    "#     fig = go.Figure(go.Bar(x=Dep_by_month.index, y=Dep_by_month.values, name=\"Total Dep by Month\"))\n",
    "#     fig.update_layout(title=\"Total Dep by Month\", xaxis_title=\"Month\", yaxis_title=\"Total Dep\", template=\"plotly_white\")\n",
    "#     fig.show()\n",
    "\n",
    "# # 3. Monthly Change in Dep (Absolute)\n",
    "# def plot_monthly_change_abs(df):\n",
    "#     monthly_change_abs = df.groupby(['Year', 'Month'], observed=False)['Monthly_Change_Abs'].sum().reset_index()\n",
    "#     monthly_change_abs['Month'] = monthly_change_abs['Month'].astype(str)\n",
    "#     fig = go.Figure(go.Scatter(x=monthly_change_abs['Year'].astype(str) + '-' + monthly_change_abs['Month'],\n",
    "#                                y=monthly_change_abs['Monthly_Change_Abs'],\n",
    "#                                mode='lines+markers',\n",
    "#                                name=\"Monthly Change (Abs)\",\n",
    "#                                line=dict(color=\"skyblue\")))\n",
    "#     fig.update_layout(title=\"Monthly Change in Dep (Absolute)\", xaxis_title=\"Date\", yaxis_title=\"Monthly Change (Absolute)\", template=\"plotly_white\")\n",
    "#     fig.show()\n",
    "\n",
    "# # 4. Monthly Change in Dep (Percentage)\n",
    "# def plot_monthly_change_pct(df):\n",
    "#     monthly_change_pct = df.groupby(['Year', 'Month'], observed=False)['Monthly_Change_Pct'].sum().reset_index()\n",
    "#     monthly_change_pct['Month'] = monthly_change_pct['Month'].astype(str)\n",
    "#     fig = go.Figure(go.Scatter(x=monthly_change_pct['Year'].astype(str) + '-' + monthly_change_pct['Month'],\n",
    "#                                y=monthly_change_pct['Monthly_Change_Pct'],\n",
    "#                                mode='lines+markers',\n",
    "#                                name=\"Monthly Change (Pct)\",\n",
    "#                                line=dict(color=\"salmon\")))\n",
    "#     fig.update_layout(title=\"Monthly Change in Dep (Percentage)\", xaxis_title=\"Date\", yaxis_title=\"Monthly Change (Percentage)\", template=\"plotly_white\")\n",
    "#     fig.show()\n",
    "\n",
    "# # 5. Dep Over Time (Interactive Plot)\n",
    "# def plot_dep_over_time(df):\n",
    "#     fig = px.line(df, x='Month', y='Dep', color='Year', title='Dep Over Time')\n",
    "#     fig.update_layout(xaxis_rangeslider_visible=True)  # Add a slider for scrolling through the data\n",
    "#     fig.show()\n",
    "\n",
    "# # Example calls\n",
    "# plot_dep_by_year(df_all)\n",
    "# plot_dep_by_month(df_all)\n",
    "# plot_monthly_change_abs(df_all)\n",
    "# plot_monthly_change_pct(df_all)\n",
    "# plot_dep_over_time(df_all)"
   ]
  },
  {
   "cell_type": "code",
   "execution_count": 52,
   "metadata": {},
   "outputs": [
    {
     "data": {
      "application/vnd.plotly.v1+json": {
       "config": {
        "plotlyServerURL": "https://plot.ly"
       },
       "data": [
        {
         "coloraxis": "coloraxis",
         "hovertemplate": "Year: %{x}<br>Month: %{y}<br>Dep: %{z}<extra></extra>",
         "name": "0",
         "texttemplate": "%{z}",
         "type": "heatmap",
         "x": [
          2013,
          2014,
          2015,
          2016,
          2017,
          2018,
          2019,
          2020,
          2021,
          2022
         ],
         "xaxis": "x",
         "y": [
          "January",
          "February",
          "March",
          "April",
          "May",
          "June",
          "July",
          "August",
          "September",
          "October",
          "November",
          "December"
         ],
         "yaxis": "y",
         "z": [
          [
           1424291,
           1518285,
           null,
           1866995,
           1962619,
           2238035,
           2309062,
           2353147,
           689366,
           1304132
          ],
          [
           1285813,
           1328360,
           null,
           1605765,
           1714399,
           1839947,
           1992487,
           1983289,
           653071,
           1158239
          ],
          [
           1287728,
           1463879,
           null,
           1731968,
           1846395,
           2099266,
           2203115,
           851332,
           709010,
           1498482
          ],
          [
           1395879,
           1561150,
           null,
           1912473,
           2047568,
           2321632,
           2202018,
           6533,
           634663,
           1564581
          ],
          [
           1591906,
           1744621,
           null,
           2128686,
           2312939,
           2521860,
           2384815,
           22912,
           154873,
           1934175
          ],
          [
           1320676,
           1573931,
           null,
           1693204,
           1781817,
           2054526,
           2198582,
           68802,
           150717,
           1901784
          ],
          [
           1415677,
           1327984,
           null,
           1701014,
           1938221,
           2150580,
           2180437,
           135227,
           223956,
           1830798
          ],
          [
           1593409,
           1688554,
           null,
           2001816,
           2118235,
           2272537,
           2351701,
           211511,
           661188,
           2160605
          ],
          [
           1640118,
           1697955,
           null,
           1942743,
           2232437,
           2434217,
           2354445,
           304780,
           962026,
           2181964
          ],
          [
           1218333,
           1490000,
           null,
           1725665,
           1999069,
           2074788,
           2145065,
           372362,
           1096257,
           1999753
          ],
          [
           1438279,
           1388722,
           null,
           1721215,
           1856300,
           2087972,
           2147330,
           409155,
           1188345,
           1913010
          ],
          [
           1566117,
           1566514,
           null,
           1840451,
           2132958,
           2201124,
           2355977,
           575516,
           1427843,
           2155211
          ]
         ]
        }
       ],
       "layout": {
        "coloraxis": {
         "colorbar": {
          "title": {
           "text": "Dep"
          }
         },
         "colorscale": [
          [
           0,
           "#440154"
          ],
          [
           0.1111111111111111,
           "#482878"
          ],
          [
           0.2222222222222222,
           "#3e4989"
          ],
          [
           0.3333333333333333,
           "#31688e"
          ],
          [
           0.4444444444444444,
           "#26828e"
          ],
          [
           0.5555555555555556,
           "#1f9e89"
          ],
          [
           0.6666666666666666,
           "#35b779"
          ],
          [
           0.7777777777777778,
           "#6ece58"
          ],
          [
           0.8888888888888888,
           "#b5de2b"
          ],
          [
           1,
           "#fde725"
          ]
         ],
         "showscale": true
        },
        "height": 600,
        "margin": {
         "t": 60
        },
        "template": {
         "data": {
          "bar": [
           {
            "error_x": {
             "color": "#2a3f5f"
            },
            "error_y": {
             "color": "#2a3f5f"
            },
            "marker": {
             "line": {
              "color": "white",
              "width": 0.5
             },
             "pattern": {
              "fillmode": "overlay",
              "size": 10,
              "solidity": 0.2
             }
            },
            "type": "bar"
           }
          ],
          "barpolar": [
           {
            "marker": {
             "line": {
              "color": "white",
              "width": 0.5
             },
             "pattern": {
              "fillmode": "overlay",
              "size": 10,
              "solidity": 0.2
             }
            },
            "type": "barpolar"
           }
          ],
          "carpet": [
           {
            "aaxis": {
             "endlinecolor": "#2a3f5f",
             "gridcolor": "#C8D4E3",
             "linecolor": "#C8D4E3",
             "minorgridcolor": "#C8D4E3",
             "startlinecolor": "#2a3f5f"
            },
            "baxis": {
             "endlinecolor": "#2a3f5f",
             "gridcolor": "#C8D4E3",
             "linecolor": "#C8D4E3",
             "minorgridcolor": "#C8D4E3",
             "startlinecolor": "#2a3f5f"
            },
            "type": "carpet"
           }
          ],
          "choropleth": [
           {
            "colorbar": {
             "outlinewidth": 0,
             "ticks": ""
            },
            "type": "choropleth"
           }
          ],
          "contour": [
           {
            "colorbar": {
             "outlinewidth": 0,
             "ticks": ""
            },
            "colorscale": [
             [
              0,
              "#0d0887"
             ],
             [
              0.1111111111111111,
              "#46039f"
             ],
             [
              0.2222222222222222,
              "#7201a8"
             ],
             [
              0.3333333333333333,
              "#9c179e"
             ],
             [
              0.4444444444444444,
              "#bd3786"
             ],
             [
              0.5555555555555556,
              "#d8576b"
             ],
             [
              0.6666666666666666,
              "#ed7953"
             ],
             [
              0.7777777777777778,
              "#fb9f3a"
             ],
             [
              0.8888888888888888,
              "#fdca26"
             ],
             [
              1,
              "#f0f921"
             ]
            ],
            "type": "contour"
           }
          ],
          "contourcarpet": [
           {
            "colorbar": {
             "outlinewidth": 0,
             "ticks": ""
            },
            "type": "contourcarpet"
           }
          ],
          "heatmap": [
           {
            "colorbar": {
             "outlinewidth": 0,
             "ticks": ""
            },
            "colorscale": [
             [
              0,
              "#0d0887"
             ],
             [
              0.1111111111111111,
              "#46039f"
             ],
             [
              0.2222222222222222,
              "#7201a8"
             ],
             [
              0.3333333333333333,
              "#9c179e"
             ],
             [
              0.4444444444444444,
              "#bd3786"
             ],
             [
              0.5555555555555556,
              "#d8576b"
             ],
             [
              0.6666666666666666,
              "#ed7953"
             ],
             [
              0.7777777777777778,
              "#fb9f3a"
             ],
             [
              0.8888888888888888,
              "#fdca26"
             ],
             [
              1,
              "#f0f921"
             ]
            ],
            "type": "heatmap"
           }
          ],
          "heatmapgl": [
           {
            "colorbar": {
             "outlinewidth": 0,
             "ticks": ""
            },
            "colorscale": [
             [
              0,
              "#0d0887"
             ],
             [
              0.1111111111111111,
              "#46039f"
             ],
             [
              0.2222222222222222,
              "#7201a8"
             ],
             [
              0.3333333333333333,
              "#9c179e"
             ],
             [
              0.4444444444444444,
              "#bd3786"
             ],
             [
              0.5555555555555556,
              "#d8576b"
             ],
             [
              0.6666666666666666,
              "#ed7953"
             ],
             [
              0.7777777777777778,
              "#fb9f3a"
             ],
             [
              0.8888888888888888,
              "#fdca26"
             ],
             [
              1,
              "#f0f921"
             ]
            ],
            "type": "heatmapgl"
           }
          ],
          "histogram": [
           {
            "marker": {
             "pattern": {
              "fillmode": "overlay",
              "size": 10,
              "solidity": 0.2
             }
            },
            "type": "histogram"
           }
          ],
          "histogram2d": [
           {
            "colorbar": {
             "outlinewidth": 0,
             "ticks": ""
            },
            "colorscale": [
             [
              0,
              "#0d0887"
             ],
             [
              0.1111111111111111,
              "#46039f"
             ],
             [
              0.2222222222222222,
              "#7201a8"
             ],
             [
              0.3333333333333333,
              "#9c179e"
             ],
             [
              0.4444444444444444,
              "#bd3786"
             ],
             [
              0.5555555555555556,
              "#d8576b"
             ],
             [
              0.6666666666666666,
              "#ed7953"
             ],
             [
              0.7777777777777778,
              "#fb9f3a"
             ],
             [
              0.8888888888888888,
              "#fdca26"
             ],
             [
              1,
              "#f0f921"
             ]
            ],
            "type": "histogram2d"
           }
          ],
          "histogram2dcontour": [
           {
            "colorbar": {
             "outlinewidth": 0,
             "ticks": ""
            },
            "colorscale": [
             [
              0,
              "#0d0887"
             ],
             [
              0.1111111111111111,
              "#46039f"
             ],
             [
              0.2222222222222222,
              "#7201a8"
             ],
             [
              0.3333333333333333,
              "#9c179e"
             ],
             [
              0.4444444444444444,
              "#bd3786"
             ],
             [
              0.5555555555555556,
              "#d8576b"
             ],
             [
              0.6666666666666666,
              "#ed7953"
             ],
             [
              0.7777777777777778,
              "#fb9f3a"
             ],
             [
              0.8888888888888888,
              "#fdca26"
             ],
             [
              1,
              "#f0f921"
             ]
            ],
            "type": "histogram2dcontour"
           }
          ],
          "mesh3d": [
           {
            "colorbar": {
             "outlinewidth": 0,
             "ticks": ""
            },
            "type": "mesh3d"
           }
          ],
          "parcoords": [
           {
            "line": {
             "colorbar": {
              "outlinewidth": 0,
              "ticks": ""
             }
            },
            "type": "parcoords"
           }
          ],
          "pie": [
           {
            "automargin": true,
            "type": "pie"
           }
          ],
          "scatter": [
           {
            "fillpattern": {
             "fillmode": "overlay",
             "size": 10,
             "solidity": 0.2
            },
            "type": "scatter"
           }
          ],
          "scatter3d": [
           {
            "line": {
             "colorbar": {
              "outlinewidth": 0,
              "ticks": ""
             }
            },
            "marker": {
             "colorbar": {
              "outlinewidth": 0,
              "ticks": ""
             }
            },
            "type": "scatter3d"
           }
          ],
          "scattercarpet": [
           {
            "marker": {
             "colorbar": {
              "outlinewidth": 0,
              "ticks": ""
             }
            },
            "type": "scattercarpet"
           }
          ],
          "scattergeo": [
           {
            "marker": {
             "colorbar": {
              "outlinewidth": 0,
              "ticks": ""
             }
            },
            "type": "scattergeo"
           }
          ],
          "scattergl": [
           {
            "marker": {
             "colorbar": {
              "outlinewidth": 0,
              "ticks": ""
             }
            },
            "type": "scattergl"
           }
          ],
          "scattermapbox": [
           {
            "marker": {
             "colorbar": {
              "outlinewidth": 0,
              "ticks": ""
             }
            },
            "type": "scattermapbox"
           }
          ],
          "scatterpolar": [
           {
            "marker": {
             "colorbar": {
              "outlinewidth": 0,
              "ticks": ""
             }
            },
            "type": "scatterpolar"
           }
          ],
          "scatterpolargl": [
           {
            "marker": {
             "colorbar": {
              "outlinewidth": 0,
              "ticks": ""
             }
            },
            "type": "scatterpolargl"
           }
          ],
          "scatterternary": [
           {
            "marker": {
             "colorbar": {
              "outlinewidth": 0,
              "ticks": ""
             }
            },
            "type": "scatterternary"
           }
          ],
          "surface": [
           {
            "colorbar": {
             "outlinewidth": 0,
             "ticks": ""
            },
            "colorscale": [
             [
              0,
              "#0d0887"
             ],
             [
              0.1111111111111111,
              "#46039f"
             ],
             [
              0.2222222222222222,
              "#7201a8"
             ],
             [
              0.3333333333333333,
              "#9c179e"
             ],
             [
              0.4444444444444444,
              "#bd3786"
             ],
             [
              0.5555555555555556,
              "#d8576b"
             ],
             [
              0.6666666666666666,
              "#ed7953"
             ],
             [
              0.7777777777777778,
              "#fb9f3a"
             ],
             [
              0.8888888888888888,
              "#fdca26"
             ],
             [
              1,
              "#f0f921"
             ]
            ],
            "type": "surface"
           }
          ],
          "table": [
           {
            "cells": {
             "fill": {
              "color": "#EBF0F8"
             },
             "line": {
              "color": "white"
             }
            },
            "header": {
             "fill": {
              "color": "#C8D4E3"
             },
             "line": {
              "color": "white"
             }
            },
            "type": "table"
           }
          ]
         },
         "layout": {
          "annotationdefaults": {
           "arrowcolor": "#2a3f5f",
           "arrowhead": 0,
           "arrowwidth": 1
          },
          "autotypenumbers": "strict",
          "coloraxis": {
           "colorbar": {
            "outlinewidth": 0,
            "ticks": ""
           }
          },
          "colorscale": {
           "diverging": [
            [
             0,
             "#8e0152"
            ],
            [
             0.1,
             "#c51b7d"
            ],
            [
             0.2,
             "#de77ae"
            ],
            [
             0.3,
             "#f1b6da"
            ],
            [
             0.4,
             "#fde0ef"
            ],
            [
             0.5,
             "#f7f7f7"
            ],
            [
             0.6,
             "#e6f5d0"
            ],
            [
             0.7,
             "#b8e186"
            ],
            [
             0.8,
             "#7fbc41"
            ],
            [
             0.9,
             "#4d9221"
            ],
            [
             1,
             "#276419"
            ]
           ],
           "sequential": [
            [
             0,
             "#0d0887"
            ],
            [
             0.1111111111111111,
             "#46039f"
            ],
            [
             0.2222222222222222,
             "#7201a8"
            ],
            [
             0.3333333333333333,
             "#9c179e"
            ],
            [
             0.4444444444444444,
             "#bd3786"
            ],
            [
             0.5555555555555556,
             "#d8576b"
            ],
            [
             0.6666666666666666,
             "#ed7953"
            ],
            [
             0.7777777777777778,
             "#fb9f3a"
            ],
            [
             0.8888888888888888,
             "#fdca26"
            ],
            [
             1,
             "#f0f921"
            ]
           ],
           "sequentialminus": [
            [
             0,
             "#0d0887"
            ],
            [
             0.1111111111111111,
             "#46039f"
            ],
            [
             0.2222222222222222,
             "#7201a8"
            ],
            [
             0.3333333333333333,
             "#9c179e"
            ],
            [
             0.4444444444444444,
             "#bd3786"
            ],
            [
             0.5555555555555556,
             "#d8576b"
            ],
            [
             0.6666666666666666,
             "#ed7953"
            ],
            [
             0.7777777777777778,
             "#fb9f3a"
            ],
            [
             0.8888888888888888,
             "#fdca26"
            ],
            [
             1,
             "#f0f921"
            ]
           ]
          },
          "colorway": [
           "#636efa",
           "#EF553B",
           "#00cc96",
           "#ab63fa",
           "#FFA15A",
           "#19d3f3",
           "#FF6692",
           "#B6E880",
           "#FF97FF",
           "#FECB52"
          ],
          "font": {
           "color": "#2a3f5f"
          },
          "geo": {
           "bgcolor": "white",
           "lakecolor": "white",
           "landcolor": "white",
           "showlakes": true,
           "showland": true,
           "subunitcolor": "#C8D4E3"
          },
          "hoverlabel": {
           "align": "left"
          },
          "hovermode": "closest",
          "mapbox": {
           "style": "light"
          },
          "paper_bgcolor": "white",
          "plot_bgcolor": "white",
          "polar": {
           "angularaxis": {
            "gridcolor": "#EBF0F8",
            "linecolor": "#EBF0F8",
            "ticks": ""
           },
           "bgcolor": "white",
           "radialaxis": {
            "gridcolor": "#EBF0F8",
            "linecolor": "#EBF0F8",
            "ticks": ""
           }
          },
          "scene": {
           "xaxis": {
            "backgroundcolor": "white",
            "gridcolor": "#DFE8F3",
            "gridwidth": 2,
            "linecolor": "#EBF0F8",
            "showbackground": true,
            "ticks": "",
            "zerolinecolor": "#EBF0F8"
           },
           "yaxis": {
            "backgroundcolor": "white",
            "gridcolor": "#DFE8F3",
            "gridwidth": 2,
            "linecolor": "#EBF0F8",
            "showbackground": true,
            "ticks": "",
            "zerolinecolor": "#EBF0F8"
           },
           "zaxis": {
            "backgroundcolor": "white",
            "gridcolor": "#DFE8F3",
            "gridwidth": 2,
            "linecolor": "#EBF0F8",
            "showbackground": true,
            "ticks": "",
            "zerolinecolor": "#EBF0F8"
           }
          },
          "shapedefaults": {
           "line": {
            "color": "#2a3f5f"
           }
          },
          "ternary": {
           "aaxis": {
            "gridcolor": "#DFE8F3",
            "linecolor": "#A2B1C6",
            "ticks": ""
           },
           "baxis": {
            "gridcolor": "#DFE8F3",
            "linecolor": "#A2B1C6",
            "ticks": ""
           },
           "bgcolor": "white",
           "caxis": {
            "gridcolor": "#DFE8F3",
            "linecolor": "#A2B1C6",
            "ticks": ""
           }
          },
          "title": {
           "x": 0.05
          },
          "xaxis": {
           "automargin": true,
           "gridcolor": "#EBF0F8",
           "linecolor": "#EBF0F8",
           "ticks": "",
           "title": {
            "standoff": 15
           },
           "zerolinecolor": "#EBF0F8",
           "zerolinewidth": 2
          },
          "yaxis": {
           "automargin": true,
           "gridcolor": "#EBF0F8",
           "linecolor": "#EBF0F8",
           "ticks": "",
           "title": {
            "standoff": 15
           },
           "zerolinecolor": "#EBF0F8",
           "zerolinewidth": 2
          }
         }
        },
        "title": {
         "text": "Heatmap of Dep by Month and Year with Values Inside Cells"
        },
        "xaxis": {
         "anchor": "y",
         "constrain": "domain",
         "domain": [
          0,
          1
         ],
         "scaleanchor": "y",
         "tickmode": "array",
         "ticktext": [
          "2013",
          "2014",
          "2015",
          "2016",
          "2017",
          "2018",
          "2019",
          "2020",
          "2021",
          "2022"
         ],
         "tickvals": [
          2013,
          2014,
          2015,
          2016,
          2017,
          2018,
          2019,
          2020,
          2021,
          2022
         ],
         "title": {
          "text": "Year"
         }
        },
        "yaxis": {
         "anchor": "x",
         "autorange": "reversed",
         "constrain": "domain",
         "domain": [
          0,
          1
         ],
         "title": {
          "text": "Month"
         }
        }
       }
      }
     },
     "metadata": {},
     "output_type": "display_data"
    }
   ],
   "source": [
    "import plotly.express as px\n",
    "import numpy as np\n",
    "\n",
    "# Assuming df_pivot is already defined\n",
    "\n",
    "# Add a blank space (NaN column) for 2015 in the correct position\n",
    "df_pivot.insert(2, 2015, np.nan)  # Insert NaN at the position for 2015 (after 2014)\n",
    "\n",
    "# Create a heatmap for df_pivot with values inside the cells\n",
    "fig = px.imshow(df_pivot,\n",
    "                labels=dict(x=\"Year\", y=\"Month\", color=\"Dep\"),\n",
    "                x=df_pivot.columns,  # Year values\n",
    "                y=df_pivot.index,    # Month values\n",
    "                color_continuous_scale='Viridis',  # Choose the color scale\n",
    "                text_auto=True)  # This will show values inside the cells\n",
    "\n",
    "# Update layout for better visualization\n",
    "fig.update_layout(\n",
    "    title=\"Heatmap of Dep by Month and Year with Values Inside Cells\",\n",
    "    xaxis_title=\"Year\",\n",
    "    yaxis_title=\"Month\",\n",
    "    template=\"plotly_white\",  # Light theme\n",
    "    height=600,\n",
    "    coloraxis_showscale=True,  # Show color scale\n",
    "    xaxis=dict(\n",
    "        tickmode='array',  # Use array mode for ticks\n",
    "        tickvals=df_pivot.columns,  # Set tick values to the years\n",
    "        ticktext=[str(year) for year in df_pivot.columns],  # Show all years as labels\n",
    "    )\n",
    ")\n",
    "\n",
    "# Show the plot\n",
    "fig.show()"
   ]
  },
  {
   "cell_type": "markdown",
   "metadata": {},
   "source": [
    "# 5"
   ]
  },
  {
   "cell_type": "code",
   "execution_count": 53,
   "metadata": {},
   "outputs": [],
   "source": [
    "# # Find the month with the highest and lowest absolute and percentage monthly changes\n",
    "# highest_abs_month = df_all.loc[df_all['Monthly_Change_Abs'].idxmax(), ['Year', 'Month', 'Monthly_Change_Abs']]\n",
    "# lowest_abs_month = df_all.loc[df_all['Monthly_Change_Abs'].idxmin(), ['Year', 'Month', 'Monthly_Change_Abs']]\n",
    "\n",
    "# highest_pct_month = df_all.loc[df_all['Monthly_Change_Pct'].idxmax(), ['Year', 'Month', 'Monthly_Change_Pct']]\n",
    "# lowest_pct_month = df_all.loc[df_all['Monthly_Change_Pct'].idxmin(), ['Year', 'Month', 'Monthly_Change_Pct']]\n",
    "\n",
    "# # Extract the specific values (Year, Month, and Change) from the Series\n",
    "# highest_abs_month = highest_abs_month[['Year', 'Month', 'Monthly_Change_Abs']].values\n",
    "# lowest_abs_month = lowest_abs_month[['Year', 'Month', 'Monthly_Change_Abs']].values\n",
    "\n",
    "# highest_pct_month = highest_pct_month[['Year', 'Month', 'Monthly_Change_Pct']].values\n",
    "# lowest_pct_month = lowest_pct_month[['Year', 'Month', 'Monthly_Change_Pct']].values\n",
    "\n",
    "# # Print the results without the dtype and index information\n",
    "# print(\"Highest Monthly Absolute Change:\")\n",
    "# print(f\"Year: {int(highest_abs_month[0])}, Month: {highest_abs_month[1]}, Change: {float(highest_abs_month[2])}\")\n",
    "\n",
    "# print(\"Lowest Monthly Absolute Change:\")\n",
    "# print(f\"Year: {int(lowest_abs_month[0])}, Month: {lowest_abs_month[1]}, Change: {float(lowest_abs_month[2])}\")\n",
    "\n",
    "# print(\"Highest Monthly Percentage Change:\")\n",
    "# print(f\"Year: {int(highest_pct_month[0])}, Month: {highest_pct_month[1]}, Change: {float(highest_pct_month[2])}\")\n",
    "\n",
    "# print(\"Lowest Monthly Percentage Change:\")\n",
    "# print(f\"Year: {int(lowest_pct_month[0])}, Month: {lowest_pct_month[1]}, Change: {float(lowest_pct_month[2])}\")\n",
    "\n",
    "# # print(\"Highest Monthly Absolute Change:\\n\", highest_abs_month)\n",
    "# # print(\"Lowest Monthly Absolute Change:\\n\", lowest_abs_month)\n",
    "# # print(\"Highest Monthly Percentage Change:\\n\", highest_pct_month)\n",
    "# # print(\"Lowest Monthly Percentage Change:\\n\", lowest_pct_month)"
   ]
  },
  {
   "cell_type": "code",
   "execution_count": 54,
   "metadata": {},
   "outputs": [
    {
     "data": {
      "text/html": [
       "<div>\n",
       "<style scoped>\n",
       "    .dataframe tbody tr th:only-of-type {\n",
       "        vertical-align: middle;\n",
       "    }\n",
       "\n",
       "    .dataframe tbody tr th {\n",
       "        vertical-align: top;\n",
       "    }\n",
       "\n",
       "    .dataframe thead th {\n",
       "        text-align: right;\n",
       "    }\n",
       "</style>\n",
       "<table border=\"1\" class=\"dataframe\">\n",
       "  <thead>\n",
       "    <tr style=\"text-align: right;\">\n",
       "      <th></th>\n",
       "      <th>Type</th>\n",
       "      <th>Year</th>\n",
       "      <th>Month</th>\n",
       "      <th>Change</th>\n",
       "    </tr>\n",
       "  </thead>\n",
       "  <tbody>\n",
       "    <tr>\n",
       "      <th>0</th>\n",
       "      <td>Highest Monthly Absolute Change</td>\n",
       "      <td>2021</td>\n",
       "      <td>August</td>\n",
       "      <td>4.372320e+05</td>\n",
       "    </tr>\n",
       "    <tr>\n",
       "      <th>1</th>\n",
       "      <td>Lowest Monthly Absolute Change</td>\n",
       "      <td>2020</td>\n",
       "      <td>March</td>\n",
       "      <td>-1.131957e+06</td>\n",
       "    </tr>\n",
       "    <tr>\n",
       "      <th>2</th>\n",
       "      <td>Highest Monthly Percentage Change</td>\n",
       "      <td>2020</td>\n",
       "      <td>May</td>\n",
       "      <td>2.507118e+02</td>\n",
       "    </tr>\n",
       "    <tr>\n",
       "      <th>3</th>\n",
       "      <td>Lowest Monthly Percentage Change</td>\n",
       "      <td>2020</td>\n",
       "      <td>April</td>\n",
       "      <td>-9.923261e+01</td>\n",
       "    </tr>\n",
       "  </tbody>\n",
       "</table>\n",
       "</div>"
      ],
      "text/plain": [
       "                                Type  Year   Month        Change\n",
       "0    Highest Monthly Absolute Change  2021  August  4.372320e+05\n",
       "1     Lowest Monthly Absolute Change  2020   March -1.131957e+06\n",
       "2  Highest Monthly Percentage Change  2020     May  2.507118e+02\n",
       "3   Lowest Monthly Percentage Change  2020   April -9.923261e+01"
      ]
     },
     "execution_count": 54,
     "metadata": {},
     "output_type": "execute_result"
    }
   ],
   "source": [
    "import pandas as pd\n",
    "\n",
    "# Find the month with the highest and lowest absolute and percentage monthly changes\n",
    "highest_abs_month = df_all.loc[df_all['Monthly_Change_Abs'].idxmax(), ['Year', 'Month', 'Monthly_Change_Abs']]\n",
    "lowest_abs_month = df_all.loc[df_all['Monthly_Change_Abs'].idxmin(), ['Year', 'Month', 'Monthly_Change_Abs']]\n",
    "\n",
    "highest_pct_month = df_all.loc[df_all['Monthly_Change_Pct'].idxmax(), ['Year', 'Month', 'Monthly_Change_Pct']]\n",
    "lowest_pct_month = df_all.loc[df_all['Monthly_Change_Pct'].idxmin(), ['Year', 'Month', 'Monthly_Change_Pct']]\n",
    "\n",
    "# Extract the specific values (Year, Month, and Change) from the Series\n",
    "highest_abs_month = highest_abs_month[['Year', 'Month', 'Monthly_Change_Abs']].values\n",
    "lowest_abs_month = lowest_abs_month[['Year', 'Month', 'Monthly_Change_Abs']].values\n",
    "\n",
    "highest_pct_month = highest_pct_month[['Year', 'Month', 'Monthly_Change_Pct']].values\n",
    "lowest_pct_month = lowest_pct_month[['Year', 'Month', 'Monthly_Change_Pct']].values\n",
    "\n",
    "# Create a DataFrame to store the results\n",
    "df_monthly_results = pd.DataFrame({\n",
    "    \"Type\": [\"Highest Monthly Absolute Change\", \"Lowest Monthly Absolute Change\", \n",
    "             \"Highest Monthly Percentage Change\", \"Lowest Monthly Percentage Change\"],\n",
    "    \"Year\": [int(highest_abs_month[0]), int(lowest_abs_month[0]), \n",
    "             int(highest_pct_month[0]), int(lowest_pct_month[0])],\n",
    "    \"Month\": [highest_abs_month[1], lowest_abs_month[1], \n",
    "              highest_pct_month[1], lowest_pct_month[1]],\n",
    "    \"Change\": [float(highest_abs_month[2]), float(lowest_abs_month[2]), \n",
    "               float(highest_pct_month[2]), float(lowest_pct_month[2])]\n",
    "})\n",
    "\n",
    "# Display the DataFrame\n",
    "# print(df_monthly_results)\n",
    "df_monthly_results"
   ]
  },
  {
   "cell_type": "code",
   "execution_count": 55,
   "metadata": {},
   "outputs": [],
   "source": [
    "df_results.to_csv(\"5_Hi_lo_Abs_Pct_Month_change.csv\",index=False)"
   ]
  },
  {
   "cell_type": "code",
   "execution_count": 56,
   "metadata": {},
   "outputs": [
    {
     "data": {
      "application/vnd.plotly.v1+json": {
       "config": {
        "plotlyServerURL": "https://plot.ly"
       },
       "data": [
        {
         "marker": {
          "color": [
           "#00AEEF",
           "#FF6A00"
          ]
         },
         "text": [
          "Year: 2021<br>Month: August<br>Value: 437232.00",
          "Year: 2020<br>Month: March<br>Value: -1131957.00"
         ],
         "textposition": "inside",
         "type": "bar",
         "x": [
          "Highest",
          "Lowest"
         ],
         "xaxis": "x",
         "y": [
          437232,
          -1131957
         ],
         "yaxis": "y"
        },
        {
         "marker": {
          "color": [
           "#34C759",
           "#FF3B30"
          ]
         },
         "text": [
          "Year: 2020<br>Month: May<br>Value: 250.71%",
          "Year: 2020<br>Month: April<br>Value: -99.23%"
         ],
         "textposition": "inside",
         "type": "bar",
         "x": [
          "Highest",
          "Lowest"
         ],
         "xaxis": "x2",
         "y": [
          250.71177100872495,
          -99.23261430323305
         ],
         "yaxis": "y2"
        }
       ],
       "layout": {
        "annotations": [
         {
          "font": {
           "size": 16
          },
          "showarrow": false,
          "text": "Highest and Lowest Absolute Change",
          "x": 0.225,
          "xanchor": "center",
          "xref": "paper",
          "y": 1,
          "yanchor": "bottom",
          "yref": "paper"
         },
         {
          "font": {
           "size": 16
          },
          "showarrow": false,
          "text": "Highest and Lowest Percentage Change",
          "x": 0.775,
          "xanchor": "center",
          "xref": "paper",
          "y": 1,
          "yanchor": "bottom",
          "yref": "paper"
         }
        ],
        "bargap": 0.2,
        "coloraxis": {
         "showscale": false
        },
        "height": 600,
        "showlegend": false,
        "template": {
         "data": {
          "bar": [
           {
            "error_x": {
             "color": "#2a3f5f"
            },
            "error_y": {
             "color": "#2a3f5f"
            },
            "marker": {
             "line": {
              "color": "white",
              "width": 0.5
             },
             "pattern": {
              "fillmode": "overlay",
              "size": 10,
              "solidity": 0.2
             }
            },
            "type": "bar"
           }
          ],
          "barpolar": [
           {
            "marker": {
             "line": {
              "color": "white",
              "width": 0.5
             },
             "pattern": {
              "fillmode": "overlay",
              "size": 10,
              "solidity": 0.2
             }
            },
            "type": "barpolar"
           }
          ],
          "carpet": [
           {
            "aaxis": {
             "endlinecolor": "#2a3f5f",
             "gridcolor": "#C8D4E3",
             "linecolor": "#C8D4E3",
             "minorgridcolor": "#C8D4E3",
             "startlinecolor": "#2a3f5f"
            },
            "baxis": {
             "endlinecolor": "#2a3f5f",
             "gridcolor": "#C8D4E3",
             "linecolor": "#C8D4E3",
             "minorgridcolor": "#C8D4E3",
             "startlinecolor": "#2a3f5f"
            },
            "type": "carpet"
           }
          ],
          "choropleth": [
           {
            "colorbar": {
             "outlinewidth": 0,
             "ticks": ""
            },
            "type": "choropleth"
           }
          ],
          "contour": [
           {
            "colorbar": {
             "outlinewidth": 0,
             "ticks": ""
            },
            "colorscale": [
             [
              0,
              "#0d0887"
             ],
             [
              0.1111111111111111,
              "#46039f"
             ],
             [
              0.2222222222222222,
              "#7201a8"
             ],
             [
              0.3333333333333333,
              "#9c179e"
             ],
             [
              0.4444444444444444,
              "#bd3786"
             ],
             [
              0.5555555555555556,
              "#d8576b"
             ],
             [
              0.6666666666666666,
              "#ed7953"
             ],
             [
              0.7777777777777778,
              "#fb9f3a"
             ],
             [
              0.8888888888888888,
              "#fdca26"
             ],
             [
              1,
              "#f0f921"
             ]
            ],
            "type": "contour"
           }
          ],
          "contourcarpet": [
           {
            "colorbar": {
             "outlinewidth": 0,
             "ticks": ""
            },
            "type": "contourcarpet"
           }
          ],
          "heatmap": [
           {
            "colorbar": {
             "outlinewidth": 0,
             "ticks": ""
            },
            "colorscale": [
             [
              0,
              "#0d0887"
             ],
             [
              0.1111111111111111,
              "#46039f"
             ],
             [
              0.2222222222222222,
              "#7201a8"
             ],
             [
              0.3333333333333333,
              "#9c179e"
             ],
             [
              0.4444444444444444,
              "#bd3786"
             ],
             [
              0.5555555555555556,
              "#d8576b"
             ],
             [
              0.6666666666666666,
              "#ed7953"
             ],
             [
              0.7777777777777778,
              "#fb9f3a"
             ],
             [
              0.8888888888888888,
              "#fdca26"
             ],
             [
              1,
              "#f0f921"
             ]
            ],
            "type": "heatmap"
           }
          ],
          "heatmapgl": [
           {
            "colorbar": {
             "outlinewidth": 0,
             "ticks": ""
            },
            "colorscale": [
             [
              0,
              "#0d0887"
             ],
             [
              0.1111111111111111,
              "#46039f"
             ],
             [
              0.2222222222222222,
              "#7201a8"
             ],
             [
              0.3333333333333333,
              "#9c179e"
             ],
             [
              0.4444444444444444,
              "#bd3786"
             ],
             [
              0.5555555555555556,
              "#d8576b"
             ],
             [
              0.6666666666666666,
              "#ed7953"
             ],
             [
              0.7777777777777778,
              "#fb9f3a"
             ],
             [
              0.8888888888888888,
              "#fdca26"
             ],
             [
              1,
              "#f0f921"
             ]
            ],
            "type": "heatmapgl"
           }
          ],
          "histogram": [
           {
            "marker": {
             "pattern": {
              "fillmode": "overlay",
              "size": 10,
              "solidity": 0.2
             }
            },
            "type": "histogram"
           }
          ],
          "histogram2d": [
           {
            "colorbar": {
             "outlinewidth": 0,
             "ticks": ""
            },
            "colorscale": [
             [
              0,
              "#0d0887"
             ],
             [
              0.1111111111111111,
              "#46039f"
             ],
             [
              0.2222222222222222,
              "#7201a8"
             ],
             [
              0.3333333333333333,
              "#9c179e"
             ],
             [
              0.4444444444444444,
              "#bd3786"
             ],
             [
              0.5555555555555556,
              "#d8576b"
             ],
             [
              0.6666666666666666,
              "#ed7953"
             ],
             [
              0.7777777777777778,
              "#fb9f3a"
             ],
             [
              0.8888888888888888,
              "#fdca26"
             ],
             [
              1,
              "#f0f921"
             ]
            ],
            "type": "histogram2d"
           }
          ],
          "histogram2dcontour": [
           {
            "colorbar": {
             "outlinewidth": 0,
             "ticks": ""
            },
            "colorscale": [
             [
              0,
              "#0d0887"
             ],
             [
              0.1111111111111111,
              "#46039f"
             ],
             [
              0.2222222222222222,
              "#7201a8"
             ],
             [
              0.3333333333333333,
              "#9c179e"
             ],
             [
              0.4444444444444444,
              "#bd3786"
             ],
             [
              0.5555555555555556,
              "#d8576b"
             ],
             [
              0.6666666666666666,
              "#ed7953"
             ],
             [
              0.7777777777777778,
              "#fb9f3a"
             ],
             [
              0.8888888888888888,
              "#fdca26"
             ],
             [
              1,
              "#f0f921"
             ]
            ],
            "type": "histogram2dcontour"
           }
          ],
          "mesh3d": [
           {
            "colorbar": {
             "outlinewidth": 0,
             "ticks": ""
            },
            "type": "mesh3d"
           }
          ],
          "parcoords": [
           {
            "line": {
             "colorbar": {
              "outlinewidth": 0,
              "ticks": ""
             }
            },
            "type": "parcoords"
           }
          ],
          "pie": [
           {
            "automargin": true,
            "type": "pie"
           }
          ],
          "scatter": [
           {
            "fillpattern": {
             "fillmode": "overlay",
             "size": 10,
             "solidity": 0.2
            },
            "type": "scatter"
           }
          ],
          "scatter3d": [
           {
            "line": {
             "colorbar": {
              "outlinewidth": 0,
              "ticks": ""
             }
            },
            "marker": {
             "colorbar": {
              "outlinewidth": 0,
              "ticks": ""
             }
            },
            "type": "scatter3d"
           }
          ],
          "scattercarpet": [
           {
            "marker": {
             "colorbar": {
              "outlinewidth": 0,
              "ticks": ""
             }
            },
            "type": "scattercarpet"
           }
          ],
          "scattergeo": [
           {
            "marker": {
             "colorbar": {
              "outlinewidth": 0,
              "ticks": ""
             }
            },
            "type": "scattergeo"
           }
          ],
          "scattergl": [
           {
            "marker": {
             "colorbar": {
              "outlinewidth": 0,
              "ticks": ""
             }
            },
            "type": "scattergl"
           }
          ],
          "scattermapbox": [
           {
            "marker": {
             "colorbar": {
              "outlinewidth": 0,
              "ticks": ""
             }
            },
            "type": "scattermapbox"
           }
          ],
          "scatterpolar": [
           {
            "marker": {
             "colorbar": {
              "outlinewidth": 0,
              "ticks": ""
             }
            },
            "type": "scatterpolar"
           }
          ],
          "scatterpolargl": [
           {
            "marker": {
             "colorbar": {
              "outlinewidth": 0,
              "ticks": ""
             }
            },
            "type": "scatterpolargl"
           }
          ],
          "scatterternary": [
           {
            "marker": {
             "colorbar": {
              "outlinewidth": 0,
              "ticks": ""
             }
            },
            "type": "scatterternary"
           }
          ],
          "surface": [
           {
            "colorbar": {
             "outlinewidth": 0,
             "ticks": ""
            },
            "colorscale": [
             [
              0,
              "#0d0887"
             ],
             [
              0.1111111111111111,
              "#46039f"
             ],
             [
              0.2222222222222222,
              "#7201a8"
             ],
             [
              0.3333333333333333,
              "#9c179e"
             ],
             [
              0.4444444444444444,
              "#bd3786"
             ],
             [
              0.5555555555555556,
              "#d8576b"
             ],
             [
              0.6666666666666666,
              "#ed7953"
             ],
             [
              0.7777777777777778,
              "#fb9f3a"
             ],
             [
              0.8888888888888888,
              "#fdca26"
             ],
             [
              1,
              "#f0f921"
             ]
            ],
            "type": "surface"
           }
          ],
          "table": [
           {
            "cells": {
             "fill": {
              "color": "#EBF0F8"
             },
             "line": {
              "color": "white"
             }
            },
            "header": {
             "fill": {
              "color": "#C8D4E3"
             },
             "line": {
              "color": "white"
             }
            },
            "type": "table"
           }
          ]
         },
         "layout": {
          "annotationdefaults": {
           "arrowcolor": "#2a3f5f",
           "arrowhead": 0,
           "arrowwidth": 1
          },
          "autotypenumbers": "strict",
          "coloraxis": {
           "colorbar": {
            "outlinewidth": 0,
            "ticks": ""
           }
          },
          "colorscale": {
           "diverging": [
            [
             0,
             "#8e0152"
            ],
            [
             0.1,
             "#c51b7d"
            ],
            [
             0.2,
             "#de77ae"
            ],
            [
             0.3,
             "#f1b6da"
            ],
            [
             0.4,
             "#fde0ef"
            ],
            [
             0.5,
             "#f7f7f7"
            ],
            [
             0.6,
             "#e6f5d0"
            ],
            [
             0.7,
             "#b8e186"
            ],
            [
             0.8,
             "#7fbc41"
            ],
            [
             0.9,
             "#4d9221"
            ],
            [
             1,
             "#276419"
            ]
           ],
           "sequential": [
            [
             0,
             "#0d0887"
            ],
            [
             0.1111111111111111,
             "#46039f"
            ],
            [
             0.2222222222222222,
             "#7201a8"
            ],
            [
             0.3333333333333333,
             "#9c179e"
            ],
            [
             0.4444444444444444,
             "#bd3786"
            ],
            [
             0.5555555555555556,
             "#d8576b"
            ],
            [
             0.6666666666666666,
             "#ed7953"
            ],
            [
             0.7777777777777778,
             "#fb9f3a"
            ],
            [
             0.8888888888888888,
             "#fdca26"
            ],
            [
             1,
             "#f0f921"
            ]
           ],
           "sequentialminus": [
            [
             0,
             "#0d0887"
            ],
            [
             0.1111111111111111,
             "#46039f"
            ],
            [
             0.2222222222222222,
             "#7201a8"
            ],
            [
             0.3333333333333333,
             "#9c179e"
            ],
            [
             0.4444444444444444,
             "#bd3786"
            ],
            [
             0.5555555555555556,
             "#d8576b"
            ],
            [
             0.6666666666666666,
             "#ed7953"
            ],
            [
             0.7777777777777778,
             "#fb9f3a"
            ],
            [
             0.8888888888888888,
             "#fdca26"
            ],
            [
             1,
             "#f0f921"
            ]
           ]
          },
          "colorway": [
           "#636efa",
           "#EF553B",
           "#00cc96",
           "#ab63fa",
           "#FFA15A",
           "#19d3f3",
           "#FF6692",
           "#B6E880",
           "#FF97FF",
           "#FECB52"
          ],
          "font": {
           "color": "#2a3f5f"
          },
          "geo": {
           "bgcolor": "white",
           "lakecolor": "white",
           "landcolor": "white",
           "showlakes": true,
           "showland": true,
           "subunitcolor": "#C8D4E3"
          },
          "hoverlabel": {
           "align": "left"
          },
          "hovermode": "closest",
          "mapbox": {
           "style": "light"
          },
          "paper_bgcolor": "white",
          "plot_bgcolor": "white",
          "polar": {
           "angularaxis": {
            "gridcolor": "#EBF0F8",
            "linecolor": "#EBF0F8",
            "ticks": ""
           },
           "bgcolor": "white",
           "radialaxis": {
            "gridcolor": "#EBF0F8",
            "linecolor": "#EBF0F8",
            "ticks": ""
           }
          },
          "scene": {
           "xaxis": {
            "backgroundcolor": "white",
            "gridcolor": "#DFE8F3",
            "gridwidth": 2,
            "linecolor": "#EBF0F8",
            "showbackground": true,
            "ticks": "",
            "zerolinecolor": "#EBF0F8"
           },
           "yaxis": {
            "backgroundcolor": "white",
            "gridcolor": "#DFE8F3",
            "gridwidth": 2,
            "linecolor": "#EBF0F8",
            "showbackground": true,
            "ticks": "",
            "zerolinecolor": "#EBF0F8"
           },
           "zaxis": {
            "backgroundcolor": "white",
            "gridcolor": "#DFE8F3",
            "gridwidth": 2,
            "linecolor": "#EBF0F8",
            "showbackground": true,
            "ticks": "",
            "zerolinecolor": "#EBF0F8"
           }
          },
          "shapedefaults": {
           "line": {
            "color": "#2a3f5f"
           }
          },
          "ternary": {
           "aaxis": {
            "gridcolor": "#DFE8F3",
            "linecolor": "#A2B1C6",
            "ticks": ""
           },
           "baxis": {
            "gridcolor": "#DFE8F3",
            "linecolor": "#A2B1C6",
            "ticks": ""
           },
           "bgcolor": "white",
           "caxis": {
            "gridcolor": "#DFE8F3",
            "linecolor": "#A2B1C6",
            "ticks": ""
           }
          },
          "title": {
           "x": 0.05
          },
          "xaxis": {
           "automargin": true,
           "gridcolor": "#EBF0F8",
           "linecolor": "#EBF0F8",
           "ticks": "",
           "title": {
            "standoff": 15
           },
           "zerolinecolor": "#EBF0F8",
           "zerolinewidth": 2
          },
          "yaxis": {
           "automargin": true,
           "gridcolor": "#EBF0F8",
           "linecolor": "#EBF0F8",
           "ticks": "",
           "title": {
            "standoff": 15
           },
           "zerolinecolor": "#EBF0F8",
           "zerolinewidth": 2
          }
         }
        },
        "title": {
         "text": "Highest and Lowest Monthly Absolute and Percentage Changes"
        },
        "xaxis": {
         "anchor": "y",
         "domain": [
          0,
          0.45
         ],
         "title": {
          "text": "Change Type"
         }
        },
        "xaxis2": {
         "anchor": "y2",
         "domain": [
          0.55,
          1
         ]
        },
        "yaxis": {
         "anchor": "x",
         "domain": [
          0,
          1
         ],
         "title": {
          "text": "Change Value"
         }
        },
        "yaxis2": {
         "anchor": "x2",
         "domain": [
          0,
          1
         ]
        }
       }
      }
     },
     "metadata": {},
     "output_type": "display_data"
    }
   ],
   "source": [
    "import plotly.graph_objects as go\n",
    "from plotly.subplots import make_subplots\n",
    "\n",
    "# # Assuming the extracted values from your previous calculation\n",
    "# highest_abs_month = [2023, 'March', 150.0]  # Example values\n",
    "# lowest_abs_month = [2023, 'January', -50.0]  # Example values\n",
    "# highest_pct_month = [2023, 'April', 20.0]  # Example values\n",
    "# lowest_pct_month = [2023, 'February', -10.0]  # Example values\n",
    "# Assuming the extracted values from your previous calculation\n",
    "highest_abs_month = [int(highest_abs_month[0]), highest_abs_month[1], float(highest_abs_month[2])]\n",
    "lowest_abs_month = [int(lowest_abs_month[0]), lowest_abs_month[1], float(lowest_abs_month[2])]\n",
    "highest_pct_month = [int(highest_pct_month[0]), highest_pct_month[1], float(highest_pct_month[2])]\n",
    "lowest_pct_month = [int(lowest_pct_month[0]), lowest_pct_month[1], float(lowest_pct_month[2])]\n",
    "\n",
    "# Data to plot\n",
    "labels = ['Highest', 'Lowest']\n",
    "abs_values = [highest_abs_month[2], lowest_abs_month[2]]\n",
    "pct_values = [highest_pct_month[2], lowest_pct_month[2]]\n",
    "abs_years = [highest_abs_month[0], lowest_abs_month[0]]\n",
    "abs_months = [highest_abs_month[1], lowest_abs_month[1]]\n",
    "pct_years = [highest_pct_month[0], lowest_pct_month[0]]\n",
    "pct_months = [highest_pct_month[1], lowest_pct_month[1]]\n",
    "\n",
    "# Create subplots\n",
    "fig = make_subplots(\n",
    "    rows=1, cols=2,  # Two columns for the two plots\n",
    "    subplot_titles=('Highest and Lowest Absolute Change', 'Highest and Lowest Percentage Change'),  # Titles for the subplots\n",
    ")\n",
    "\n",
    "# Add the Absolute Change Bar Graph to the first subplot\n",
    "fig.add_trace(\n",
    "    go.Bar(x=labels, y=abs_values, \n",
    "           text=[f\"Year: {abs_years[0]}<br>Month: {abs_months[0]}<br>Value: {abs_values[0]:.2f}\",\n",
    "                 f\"Year: {abs_years[1]}<br>Month: {abs_months[1]}<br>Value: {abs_values[1]:.2f}\"],\n",
    "           textposition='inside',  # Text inside the bars\n",
    "           marker=dict(color=['#00AEEF', '#FF6A00'])),\n",
    "    row=1, col=1\n",
    ")\n",
    "\n",
    "# Add the Percentage Change Bar Graph to the second subplot\n",
    "fig.add_trace(\n",
    "    go.Bar(x=labels, y=pct_values, \n",
    "           text=[f\"Year: {pct_years[0]}<br>Month: {pct_months[0]}<br>Value: {pct_values[0]:.2f}%\",\n",
    "                 f\"Year: {pct_years[1]}<br>Month: {pct_months[1]}<br>Value: {pct_values[1]:.2f}%\"],\n",
    "           textposition='inside',  # Text inside the bars\n",
    "           marker=dict(color=['#34C759', '#FF3B30'])),\n",
    "    row=1, col=2\n",
    ")\n",
    "\n",
    "# Update layout for better visualization\n",
    "fig.update_layout(\n",
    "    title=\"Highest and Lowest Monthly Absolute and Percentage Changes\",\n",
    "    xaxis_title=\"Change Type\",\n",
    "    yaxis_title=\"Change Value\",\n",
    "    template=\"plotly_white\",  # Light theme for a clean look\n",
    "    height=600,\n",
    "    coloraxis_showscale=False,\n",
    "    showlegend=False,  # Hide legend to make the chart cleaner\n",
    "    bargap=0.2  # Add gap between bars to avoid overlap if necessary\n",
    ")\n",
    "\n",
    "# Show the plot\n",
    "fig.show()"
   ]
  }
 ],
 "metadata": {
  "kernelspec": {
   "display_name": ".venv",
   "language": "python",
   "name": "python3"
  },
  "language_info": {
   "codemirror_mode": {
    "name": "ipython",
    "version": 3
   },
   "file_extension": ".py",
   "mimetype": "text/x-python",
   "name": "python",
   "nbconvert_exporter": "python",
   "pygments_lexer": "ipython3",
   "version": "3.9.6"
  }
 },
 "nbformat": 4,
 "nbformat_minor": 2
}
