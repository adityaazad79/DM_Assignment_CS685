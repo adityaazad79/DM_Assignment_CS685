{
 "cells": [
  {
   "cell_type": "markdown",
   "metadata": {},
   "source": [
    "1. For every year, find the change in incoming tourists in absolute and percentage termsfrom the last year.\n",
    "2. Do this for every month and the year as a whole.\n",
    "3. Which years show the highest positive and negative changes?\n",
    "4. For each month, find the changes across the entire data from the previous month.\n",
    "4. Which months show the highest positive and negative changes?"
   ]
  },
  {
   "cell_type": "code",
   "execution_count": 58,
   "metadata": {},
   "outputs": [],
   "source": [
    "# !pip install pandas\n",
    "# !pip install matplotlib\n",
    "# !pip install plotly\n",
    "# !pip install nbformat\n",
    "# !pip install seaborn"
   ]
  },
  {
   "cell_type": "markdown",
   "metadata": {},
   "source": [
    "# Data Preprcessing"
   ]
  },
  {
   "cell_type": "code",
   "execution_count": 59,
   "metadata": {},
   "outputs": [],
   "source": [
    "import pandas as pd"
   ]
  },
  {
   "cell_type": "code",
   "execution_count": 60,
   "metadata": {},
   "outputs": [],
   "source": [
    "pd.set_option('display.max_columns', None)  # Display all columns\n",
    "pd.set_option('display.expand_frame_repr', False)  # Prevent wrapping to new line\n",
    "pd.set_option('display.max_colwidth', None)  # No limit on column width"
   ]
  },
  {
   "cell_type": "code",
   "execution_count": 61,
   "metadata": {},
   "outputs": [],
   "source": [
    "import os"
   ]
  },
  {
   "cell_type": "code",
   "execution_count": 62,
   "metadata": {},
   "outputs": [],
   "source": [
    "df_2013=pd.read_excel(\"../data-students/TourismData-2013/MONTH-WISE NUMBER & PERCENTAGE SHARE OF FTAs IN INDIA.xlsx\")\n",
    "df_2014=pd.read_excel(\"../data-students/TourismData-2014/MONTH-WISE NUMBER & PERCENTAGE SHARE OF FTAs IN INDIA.xlsx\")\n",
    "df_2016=pd.read_excel(\"../data-students/TourismData-2016/MONTH-WISE NUMBER & PERCENTAGE SHARE OF FTAs IN INDIA.xlsx\")\n",
    "df_2017=pd.read_excel(\"../data-students/TourismData-2017/MONTH-WISE NUMBER & PERCENTAGE SHARE OF FTAs IN INDIA.xlsx\")\n",
    "df_2018=pd.read_excel(\"../data-students/TourismData-2018/MONTH-WISE NUMBER & PERCENTAGE SHARE OF FTAs IN INDIA.xlsx\")\n",
    "df_2019=pd.read_excel(\"../data-students/TourismData-2019/MONTH-WISE NUMBER & PERCENTAGE SHARE OF FTAs IN INDIA.xlsx\")\n",
    "df_2020=pd.read_excel(\"../data-students/TourismData-2020/MONTH-WISE NUMBER & PERCENTAGE SHARE OF FTAs IN INDIA.xlsx\")\n",
    "df_2021=pd.read_excel(\"../data-students/TourismData-2021/MONTH-WISE NUMBER & PERCENTAGE SHARE OF FTAs IN INDIA.xlsx\")\n",
    "df_2022=pd.read_excel(\"../data-students/TourismData-2022/MONTH-WISE NUMBER & PERCENTAGE SHARE OF FTAs IN INDIA.xlsx\")"
   ]
  },
  {
   "cell_type": "markdown",
   "metadata": {},
   "source": [
    "- 2015 data is missing"
   ]
  },
  {
   "cell_type": "code",
   "execution_count": 63,
   "metadata": {},
   "outputs": [],
   "source": [
    "df_2013.columns=['Month','FTAs']\n",
    "df_2014.columns=['Month','FTAs']\n",
    "df_2016.columns=['Month','FTAs']\n",
    "df_2017.columns=['Month','FTAs']\n",
    "df_2018.columns=['Month','FTAs']\n",
    "df_2019.columns=['Month','FTAs']\n",
    "df_2020.columns=['Month','FTAs']\n",
    "df_2021.columns=['Month','FTAs']\n",
    "df_2022.columns=['Month','FTAs']"
   ]
  },
  {
   "cell_type": "code",
   "execution_count": 64,
   "metadata": {},
   "outputs": [
    {
     "data": {
      "text/html": [
       "<div>\n",
       "<style scoped>\n",
       "    .dataframe tbody tr th:only-of-type {\n",
       "        vertical-align: middle;\n",
       "    }\n",
       "\n",
       "    .dataframe tbody tr th {\n",
       "        vertical-align: top;\n",
       "    }\n",
       "\n",
       "    .dataframe thead th {\n",
       "        text-align: right;\n",
       "    }\n",
       "</style>\n",
       "<table border=\"1\" class=\"dataframe\">\n",
       "  <thead>\n",
       "    <tr style=\"text-align: right;\">\n",
       "      <th></th>\n",
       "      <th>Month</th>\n",
       "      <th>FTAs</th>\n",
       "    </tr>\n",
       "  </thead>\n",
       "  <tbody>\n",
       "    <tr>\n",
       "      <th>0</th>\n",
       "      <td>January</td>\n",
       "      <td>215935</td>\n",
       "    </tr>\n",
       "    <tr>\n",
       "      <th>1</th>\n",
       "      <td>February</td>\n",
       "      <td>254538</td>\n",
       "    </tr>\n",
       "    <tr>\n",
       "      <th>2</th>\n",
       "      <td>March</td>\n",
       "      <td>358023</td>\n",
       "    </tr>\n",
       "    <tr>\n",
       "      <th>3</th>\n",
       "      <td>April</td>\n",
       "      <td>411010</td>\n",
       "    </tr>\n",
       "    <tr>\n",
       "      <th>4</th>\n",
       "      <td>May</td>\n",
       "      <td>445690</td>\n",
       "    </tr>\n",
       "    <tr>\n",
       "      <th>5</th>\n",
       "      <td>June</td>\n",
       "      <td>547074</td>\n",
       "    </tr>\n",
       "    <tr>\n",
       "      <th>6</th>\n",
       "      <td>July</td>\n",
       "      <td>669499</td>\n",
       "    </tr>\n",
       "    <tr>\n",
       "      <th>7</th>\n",
       "      <td>August</td>\n",
       "      <td>524756</td>\n",
       "    </tr>\n",
       "    <tr>\n",
       "      <th>8</th>\n",
       "      <td>September</td>\n",
       "      <td>551580</td>\n",
       "    </tr>\n",
       "    <tr>\n",
       "      <th>9</th>\n",
       "      <td>October</td>\n",
       "      <td>677055</td>\n",
       "    </tr>\n",
       "    <tr>\n",
       "      <th>10</th>\n",
       "      <td>November</td>\n",
       "      <td>789330</td>\n",
       "    </tr>\n",
       "    <tr>\n",
       "      <th>11</th>\n",
       "      <td>December</td>\n",
       "      <td>992977</td>\n",
       "    </tr>\n",
       "  </tbody>\n",
       "</table>\n",
       "</div>"
      ],
      "text/plain": [
       "        Month    FTAs\n",
       "0     January  215935\n",
       "1    February  254538\n",
       "2       March  358023\n",
       "3       April  411010\n",
       "4         May  445690\n",
       "5        June  547074\n",
       "6        July  669499\n",
       "7      August  524756\n",
       "8   September  551580\n",
       "9     October  677055\n",
       "10   November  789330\n",
       "11   December  992977"
      ]
     },
     "execution_count": 64,
     "metadata": {},
     "output_type": "execute_result"
    }
   ],
   "source": [
    "df_2022"
   ]
  },
  {
   "cell_type": "code",
   "execution_count": 65,
   "metadata": {},
   "outputs": [],
   "source": [
    "# df_2013['FTAs'] = df_2013['FTAs'].astype('Int64')\n",
    "# df_2014['FTAs'] = df_2013['FTAs'].astype('Int64')\n",
    "# df_2016['FTAs'] = df_2013['FTAs'].astype('Int64')\n",
    "# df_2017['FTAs'] = df_2013['FTAs'].astype('Int64')\n",
    "# df_2018['FTAs'] = df_2013['FTAs'].astype('Int64')\n",
    "# df_2019['FTAs'] = df_2013['FTAs'].astype('Int64')\n",
    "# df_2020['FTAs'] = df_2013['FTAs'].astype('Int64')\n",
    "# df_2021['FTAs'] = df_2013['FTAs'].astype('Int64')\n",
    "# df_2022['FTAs'] = df_2013['FTAs'].astype('Int64')"
   ]
  },
  {
   "cell_type": "code",
   "execution_count": 66,
   "metadata": {},
   "outputs": [],
   "source": [
    "# df_2013['FTAs'] = pd.to_numeric(df_2013['FTAs'], errors='coerce')  # Convert to numeric, replace errors with NaN if any\n",
    "# df_2014['FTAs'] = pd.to_numeric(df_2014['FTAs'], errors='coerce')  # Convert to numeric, replace errors with NaN if any\n",
    "# df_2016['FTAs'] = pd.to_numeric(df_2016['FTAs'], errors='coerce')  # Convert to numeric, replace errors with NaN if any\n",
    "# df_2017['FTAs'] = pd.to_numeric(df_2017['FTAs'], errors='coerce')  # Convert to numeric, replace errors with NaN if any\n",
    "# df_2018['FTAs'] = pd.to_numeric(df_2018['FTAs'], errors='coerce')  # Convert to numeric, replace errors with NaN if any\n",
    "# df_2019['FTAs'] = pd.to_numeric(df_2019['FTAs'], errors='coerce')  # Convert to numeric, replace errors with NaN if any\n",
    "# df_2020['FTAs'] = pd.to_numeric(df_2020['FTAs'], errors='coerce')  # Convert to numeric, replace errors with NaN if any\n",
    "# df_2021['FTAs'] = pd.to_numeric(df_2021['FTAs'], errors='coerce')  # Convert to numeric, replace errors with NaN if any\n",
    "# df_2022['FTAs'] = pd.to_numeric(df_2022['FTAs'], errors='coerce')  # Convert to numeric, replace errors with NaN if any"
   ]
  },
  {
   "cell_type": "code",
   "execution_count": 67,
   "metadata": {},
   "outputs": [
    {
     "data": {
      "text/html": [
       "<div>\n",
       "<style scoped>\n",
       "    .dataframe tbody tr th:only-of-type {\n",
       "        vertical-align: middle;\n",
       "    }\n",
       "\n",
       "    .dataframe tbody tr th {\n",
       "        vertical-align: top;\n",
       "    }\n",
       "\n",
       "    .dataframe thead th {\n",
       "        text-align: right;\n",
       "    }\n",
       "</style>\n",
       "<table border=\"1\" class=\"dataframe\">\n",
       "  <thead>\n",
       "    <tr style=\"text-align: right;\">\n",
       "      <th></th>\n",
       "      <th>Month</th>\n",
       "      <th>FTAs</th>\n",
       "    </tr>\n",
       "  </thead>\n",
       "  <tbody>\n",
       "    <tr>\n",
       "      <th>0</th>\n",
       "      <td>January</td>\n",
       "      <td>215935</td>\n",
       "    </tr>\n",
       "    <tr>\n",
       "      <th>1</th>\n",
       "      <td>February</td>\n",
       "      <td>254538</td>\n",
       "    </tr>\n",
       "    <tr>\n",
       "      <th>2</th>\n",
       "      <td>March</td>\n",
       "      <td>358023</td>\n",
       "    </tr>\n",
       "    <tr>\n",
       "      <th>3</th>\n",
       "      <td>April</td>\n",
       "      <td>411010</td>\n",
       "    </tr>\n",
       "    <tr>\n",
       "      <th>4</th>\n",
       "      <td>May</td>\n",
       "      <td>445690</td>\n",
       "    </tr>\n",
       "    <tr>\n",
       "      <th>5</th>\n",
       "      <td>June</td>\n",
       "      <td>547074</td>\n",
       "    </tr>\n",
       "    <tr>\n",
       "      <th>6</th>\n",
       "      <td>July</td>\n",
       "      <td>669499</td>\n",
       "    </tr>\n",
       "    <tr>\n",
       "      <th>7</th>\n",
       "      <td>August</td>\n",
       "      <td>524756</td>\n",
       "    </tr>\n",
       "    <tr>\n",
       "      <th>8</th>\n",
       "      <td>September</td>\n",
       "      <td>551580</td>\n",
       "    </tr>\n",
       "    <tr>\n",
       "      <th>9</th>\n",
       "      <td>October</td>\n",
       "      <td>677055</td>\n",
       "    </tr>\n",
       "    <tr>\n",
       "      <th>10</th>\n",
       "      <td>November</td>\n",
       "      <td>789330</td>\n",
       "    </tr>\n",
       "    <tr>\n",
       "      <th>11</th>\n",
       "      <td>December</td>\n",
       "      <td>992977</td>\n",
       "    </tr>\n",
       "  </tbody>\n",
       "</table>\n",
       "</div>"
      ],
      "text/plain": [
       "        Month    FTAs\n",
       "0     January  215935\n",
       "1    February  254538\n",
       "2       March  358023\n",
       "3       April  411010\n",
       "4         May  445690\n",
       "5        June  547074\n",
       "6        July  669499\n",
       "7      August  524756\n",
       "8   September  551580\n",
       "9     October  677055\n",
       "10   November  789330\n",
       "11   December  992977"
      ]
     },
     "execution_count": 67,
     "metadata": {},
     "output_type": "execute_result"
    }
   ],
   "source": [
    "df_2022"
   ]
  },
  {
   "cell_type": "code",
   "execution_count": 68,
   "metadata": {},
   "outputs": [
    {
     "data": {
      "text/html": [
       "<div>\n",
       "<style scoped>\n",
       "    .dataframe tbody tr th:only-of-type {\n",
       "        vertical-align: middle;\n",
       "    }\n",
       "\n",
       "    .dataframe tbody tr th {\n",
       "        vertical-align: top;\n",
       "    }\n",
       "\n",
       "    .dataframe thead th {\n",
       "        text-align: right;\n",
       "    }\n",
       "</style>\n",
       "<table border=\"1\" class=\"dataframe\">\n",
       "  <thead>\n",
       "    <tr style=\"text-align: right;\">\n",
       "      <th></th>\n",
       "      <th>Month</th>\n",
       "      <th>FTAs</th>\n",
       "    </tr>\n",
       "  </thead>\n",
       "  <tbody>\n",
       "    <tr>\n",
       "      <th>0</th>\n",
       "      <td>January</td>\n",
       "      <td>720321</td>\n",
       "    </tr>\n",
       "    <tr>\n",
       "      <th>1</th>\n",
       "      <td>February</td>\n",
       "      <td>688569</td>\n",
       "    </tr>\n",
       "    <tr>\n",
       "      <th>2</th>\n",
       "      <td>March</td>\n",
       "      <td>639530</td>\n",
       "    </tr>\n",
       "    <tr>\n",
       "      <th>3</th>\n",
       "      <td>April</td>\n",
       "      <td>450580</td>\n",
       "    </tr>\n",
       "    <tr>\n",
       "      <th>4</th>\n",
       "      <td>May</td>\n",
       "      <td>417453</td>\n",
       "    </tr>\n",
       "    <tr>\n",
       "      <th>5</th>\n",
       "      <td>June</td>\n",
       "      <td>451223</td>\n",
       "    </tr>\n",
       "    <tr>\n",
       "      <th>6</th>\n",
       "      <td>July</td>\n",
       "      <td>506427</td>\n",
       "    </tr>\n",
       "    <tr>\n",
       "      <th>7</th>\n",
       "      <td>August</td>\n",
       "      <td>486338</td>\n",
       "    </tr>\n",
       "    <tr>\n",
       "      <th>8</th>\n",
       "      <td>September</td>\n",
       "      <td>453561</td>\n",
       "    </tr>\n",
       "    <tr>\n",
       "      <th>9</th>\n",
       "      <td>October</td>\n",
       "      <td>598095</td>\n",
       "    </tr>\n",
       "    <tr>\n",
       "      <th>10</th>\n",
       "      <td>November</td>\n",
       "      <td>733923</td>\n",
       "    </tr>\n",
       "    <tr>\n",
       "      <th>11</th>\n",
       "      <td>December</td>\n",
       "      <td>821581</td>\n",
       "    </tr>\n",
       "  </tbody>\n",
       "</table>\n",
       "</div>"
      ],
      "text/plain": [
       "        Month    FTAs\n",
       "0     January  720321\n",
       "1    February  688569\n",
       "2       March  639530\n",
       "3       April  450580\n",
       "4         May  417453\n",
       "5        June  451223\n",
       "6        July  506427\n",
       "7      August  486338\n",
       "8   September  453561\n",
       "9     October  598095\n",
       "10   November  733923\n",
       "11   December  821581"
      ]
     },
     "execution_count": 68,
     "metadata": {},
     "output_type": "execute_result"
    }
   ],
   "source": [
    "# df_2013.drop(0, inplace=True)\n",
    "df_2013"
   ]
  },
  {
   "cell_type": "code",
   "execution_count": 69,
   "metadata": {},
   "outputs": [
    {
     "data": {
      "text/html": [
       "<div>\n",
       "<style scoped>\n",
       "    .dataframe tbody tr th:only-of-type {\n",
       "        vertical-align: middle;\n",
       "    }\n",
       "\n",
       "    .dataframe tbody tr th {\n",
       "        vertical-align: top;\n",
       "    }\n",
       "\n",
       "    .dataframe thead th {\n",
       "        text-align: right;\n",
       "    }\n",
       "</style>\n",
       "<table border=\"1\" class=\"dataframe\">\n",
       "  <thead>\n",
       "    <tr style=\"text-align: right;\">\n",
       "      <th></th>\n",
       "      <th>Month</th>\n",
       "      <th>FTAs</th>\n",
       "    </tr>\n",
       "  </thead>\n",
       "  <tbody>\n",
       "    <tr>\n",
       "      <th>0</th>\n",
       "      <td>January</td>\n",
       "      <td>757786</td>\n",
       "    </tr>\n",
       "    <tr>\n",
       "      <th>1</th>\n",
       "      <td>February</td>\n",
       "      <td>755678</td>\n",
       "    </tr>\n",
       "    <tr>\n",
       "      <th>2</th>\n",
       "      <td>March</td>\n",
       "      <td>690441</td>\n",
       "    </tr>\n",
       "    <tr>\n",
       "      <th>3</th>\n",
       "      <td>April</td>\n",
       "      <td>535321</td>\n",
       "    </tr>\n",
       "    <tr>\n",
       "      <th>4</th>\n",
       "      <td>May</td>\n",
       "      <td>465043</td>\n",
       "    </tr>\n",
       "    <tr>\n",
       "      <th>5</th>\n",
       "      <td>June</td>\n",
       "      <td>502028</td>\n",
       "    </tr>\n",
       "    <tr>\n",
       "      <th>6</th>\n",
       "      <td>July</td>\n",
       "      <td>5688871</td>\n",
       "    </tr>\n",
       "    <tr>\n",
       "      <th>7</th>\n",
       "      <td>August</td>\n",
       "      <td>575750</td>\n",
       "    </tr>\n",
       "    <tr>\n",
       "      <th>8</th>\n",
       "      <td>September</td>\n",
       "      <td>509142</td>\n",
       "    </tr>\n",
       "    <tr>\n",
       "      <th>9</th>\n",
       "      <td>October</td>\n",
       "      <td>668398</td>\n",
       "    </tr>\n",
       "    <tr>\n",
       "      <th>10</th>\n",
       "      <td>November</td>\n",
       "      <td>765497</td>\n",
       "    </tr>\n",
       "    <tr>\n",
       "      <th>11</th>\n",
       "      <td>December</td>\n",
       "      <td>885144</td>\n",
       "    </tr>\n",
       "  </tbody>\n",
       "</table>\n",
       "</div>"
      ],
      "text/plain": [
       "        Month     FTAs\n",
       "0     January   757786\n",
       "1    February   755678\n",
       "2       March   690441\n",
       "3       April   535321\n",
       "4         May   465043\n",
       "5        June   502028\n",
       "6        July  5688871\n",
       "7      August   575750\n",
       "8   September   509142\n",
       "9     October   668398\n",
       "10   November   765497\n",
       "11   December   885144"
      ]
     },
     "execution_count": 69,
     "metadata": {},
     "output_type": "execute_result"
    }
   ],
   "source": [
    "# df_2014.drop(0, inplace=True)\n",
    "df_2014"
   ]
  },
  {
   "cell_type": "code",
   "execution_count": 70,
   "metadata": {},
   "outputs": [
    {
     "data": {
      "text/html": [
       "<div>\n",
       "<style scoped>\n",
       "    .dataframe tbody tr th:only-of-type {\n",
       "        vertical-align: middle;\n",
       "    }\n",
       "\n",
       "    .dataframe tbody tr th {\n",
       "        vertical-align: top;\n",
       "    }\n",
       "\n",
       "    .dataframe thead th {\n",
       "        text-align: right;\n",
       "    }\n",
       "</style>\n",
       "<table border=\"1\" class=\"dataframe\">\n",
       "  <thead>\n",
       "    <tr style=\"text-align: right;\">\n",
       "      <th></th>\n",
       "      <th>Month</th>\n",
       "      <th>FTAs</th>\n",
       "    </tr>\n",
       "  </thead>\n",
       "  <tbody>\n",
       "    <tr>\n",
       "      <th>0</th>\n",
       "      <td>January</td>\n",
       "      <td>844533</td>\n",
       "    </tr>\n",
       "    <tr>\n",
       "      <th>1</th>\n",
       "      <td>February</td>\n",
       "      <td>848782</td>\n",
       "    </tr>\n",
       "    <tr>\n",
       "      <th>2</th>\n",
       "      <td>March</td>\n",
       "      <td>809107</td>\n",
       "    </tr>\n",
       "    <tr>\n",
       "      <th>3</th>\n",
       "      <td>April</td>\n",
       "      <td>592004</td>\n",
       "    </tr>\n",
       "    <tr>\n",
       "      <th>4</th>\n",
       "      <td>May</td>\n",
       "      <td>527466</td>\n",
       "    </tr>\n",
       "    <tr>\n",
       "      <th>5</th>\n",
       "      <td>June</td>\n",
       "      <td>546972</td>\n",
       "    </tr>\n",
       "    <tr>\n",
       "      <th>6</th>\n",
       "      <td>July</td>\n",
       "      <td>733834</td>\n",
       "    </tr>\n",
       "    <tr>\n",
       "      <th>7</th>\n",
       "      <td>August</td>\n",
       "      <td>652111</td>\n",
       "    </tr>\n",
       "    <tr>\n",
       "      <th>8</th>\n",
       "      <td>September</td>\n",
       "      <td>608177</td>\n",
       "    </tr>\n",
       "    <tr>\n",
       "      <th>9</th>\n",
       "      <td>October</td>\n",
       "      <td>741770</td>\n",
       "    </tr>\n",
       "    <tr>\n",
       "      <th>10</th>\n",
       "      <td>November</td>\n",
       "      <td>878280</td>\n",
       "    </tr>\n",
       "    <tr>\n",
       "      <th>11</th>\n",
       "      <td>December</td>\n",
       "      <td>1021375</td>\n",
       "    </tr>\n",
       "  </tbody>\n",
       "</table>\n",
       "</div>"
      ],
      "text/plain": [
       "        Month     FTAs\n",
       "0     January   844533\n",
       "1    February   848782\n",
       "2       March   809107\n",
       "3       April   592004\n",
       "4         May   527466\n",
       "5        June   546972\n",
       "6        July   733834\n",
       "7      August   652111\n",
       "8   September   608177\n",
       "9     October   741770\n",
       "10   November   878280\n",
       "11   December  1021375"
      ]
     },
     "execution_count": 70,
     "metadata": {},
     "output_type": "execute_result"
    }
   ],
   "source": [
    "# df_2016.drop(0, inplace=True)\n",
    "df_2016"
   ]
  },
  {
   "cell_type": "code",
   "execution_count": 71,
   "metadata": {},
   "outputs": [
    {
     "data": {
      "text/html": [
       "<div>\n",
       "<style scoped>\n",
       "    .dataframe tbody tr th:only-of-type {\n",
       "        vertical-align: middle;\n",
       "    }\n",
       "\n",
       "    .dataframe tbody tr th {\n",
       "        vertical-align: top;\n",
       "    }\n",
       "\n",
       "    .dataframe thead th {\n",
       "        text-align: right;\n",
       "    }\n",
       "</style>\n",
       "<table border=\"1\" class=\"dataframe\">\n",
       "  <thead>\n",
       "    <tr style=\"text-align: right;\">\n",
       "      <th></th>\n",
       "      <th>Month</th>\n",
       "      <th>FTAs</th>\n",
       "    </tr>\n",
       "  </thead>\n",
       "  <tbody>\n",
       "    <tr>\n",
       "      <th>0</th>\n",
       "      <td>January</td>\n",
       "      <td>964109</td>\n",
       "    </tr>\n",
       "    <tr>\n",
       "      <th>1</th>\n",
       "      <td>February</td>\n",
       "      <td>931025</td>\n",
       "    </tr>\n",
       "    <tr>\n",
       "      <th>2</th>\n",
       "      <td>March</td>\n",
       "      <td>885936</td>\n",
       "    </tr>\n",
       "    <tr>\n",
       "      <th>3</th>\n",
       "      <td>April</td>\n",
       "      <td>717899</td>\n",
       "    </tr>\n",
       "    <tr>\n",
       "      <th>4</th>\n",
       "      <td>May</td>\n",
       "      <td>622408</td>\n",
       "    </tr>\n",
       "    <tr>\n",
       "      <th>5</th>\n",
       "      <td>June</td>\n",
       "      <td>663470</td>\n",
       "    </tr>\n",
       "    <tr>\n",
       "      <th>6</th>\n",
       "      <td>July</td>\n",
       "      <td>779309</td>\n",
       "    </tr>\n",
       "    <tr>\n",
       "      <th>7</th>\n",
       "      <td>August</td>\n",
       "      <td>719129</td>\n",
       "    </tr>\n",
       "    <tr>\n",
       "      <th>8</th>\n",
       "      <td>September</td>\n",
       "      <td>719964</td>\n",
       "    </tr>\n",
       "    <tr>\n",
       "      <th>9</th>\n",
       "      <td>October</td>\n",
       "      <td>866976</td>\n",
       "    </tr>\n",
       "    <tr>\n",
       "      <th>10</th>\n",
       "      <td>November</td>\n",
       "      <td>997738</td>\n",
       "    </tr>\n",
       "    <tr>\n",
       "      <th>11</th>\n",
       "      <td>December</td>\n",
       "      <td>1167840</td>\n",
       "    </tr>\n",
       "  </tbody>\n",
       "</table>\n",
       "</div>"
      ],
      "text/plain": [
       "        Month     FTAs\n",
       "0     January   964109\n",
       "1    February   931025\n",
       "2       March   885936\n",
       "3       April   717899\n",
       "4         May   622408\n",
       "5        June   663470\n",
       "6        July   779309\n",
       "7      August   719129\n",
       "8   September   719964\n",
       "9     October   866976\n",
       "10   November   997738\n",
       "11   December  1167840"
      ]
     },
     "execution_count": 71,
     "metadata": {},
     "output_type": "execute_result"
    }
   ],
   "source": [
    "# df_2017.drop(0, inplace=True)\n",
    "# df_2017.drop(13, inplace=True) # Total row\n",
    "df_2017"
   ]
  },
  {
   "cell_type": "code",
   "execution_count": 72,
   "metadata": {},
   "outputs": [
    {
     "data": {
      "text/html": [
       "<div>\n",
       "<style scoped>\n",
       "    .dataframe tbody tr th:only-of-type {\n",
       "        vertical-align: middle;\n",
       "    }\n",
       "\n",
       "    .dataframe tbody tr th {\n",
       "        vertical-align: top;\n",
       "    }\n",
       "\n",
       "    .dataframe thead th {\n",
       "        text-align: right;\n",
       "    }\n",
       "</style>\n",
       "<table border=\"1\" class=\"dataframe\">\n",
       "  <thead>\n",
       "    <tr style=\"text-align: right;\">\n",
       "      <th></th>\n",
       "      <th>Month</th>\n",
       "      <th>FTAs</th>\n",
       "    </tr>\n",
       "  </thead>\n",
       "  <tbody>\n",
       "    <tr>\n",
       "      <th>0</th>\n",
       "      <td>January</td>\n",
       "      <td>1045027</td>\n",
       "    </tr>\n",
       "    <tr>\n",
       "      <th>1</th>\n",
       "      <td>February</td>\n",
       "      <td>1049259</td>\n",
       "    </tr>\n",
       "    <tr>\n",
       "      <th>2</th>\n",
       "      <td>March</td>\n",
       "      <td>1021539</td>\n",
       "    </tr>\n",
       "    <tr>\n",
       "      <th>3</th>\n",
       "      <td>April</td>\n",
       "      <td>745033</td>\n",
       "    </tr>\n",
       "    <tr>\n",
       "      <th>4</th>\n",
       "      <td>May</td>\n",
       "      <td>606513</td>\n",
       "    </tr>\n",
       "    <tr>\n",
       "      <th>5</th>\n",
       "      <td>June</td>\n",
       "      <td>683935</td>\n",
       "    </tr>\n",
       "    <tr>\n",
       "      <th>6</th>\n",
       "      <td>July</td>\n",
       "      <td>806493</td>\n",
       "    </tr>\n",
       "    <tr>\n",
       "      <th>7</th>\n",
       "      <td>August</td>\n",
       "      <td>785993</td>\n",
       "    </tr>\n",
       "    <tr>\n",
       "      <th>8</th>\n",
       "      <td>September</td>\n",
       "      <td>719894</td>\n",
       "    </tr>\n",
       "    <tr>\n",
       "      <th>9</th>\n",
       "      <td>October</td>\n",
       "      <td>890223</td>\n",
       "    </tr>\n",
       "    <tr>\n",
       "      <th>10</th>\n",
       "      <td>November</td>\n",
       "      <td>1012569</td>\n",
       "    </tr>\n",
       "    <tr>\n",
       "      <th>11</th>\n",
       "      <td>December</td>\n",
       "      <td>1191498</td>\n",
       "    </tr>\n",
       "  </tbody>\n",
       "</table>\n",
       "</div>"
      ],
      "text/plain": [
       "        Month     FTAs\n",
       "0     January  1045027\n",
       "1    February  1049259\n",
       "2       March  1021539\n",
       "3       April   745033\n",
       "4         May   606513\n",
       "5        June   683935\n",
       "6        July   806493\n",
       "7      August   785993\n",
       "8   September   719894\n",
       "9     October   890223\n",
       "10   November  1012569\n",
       "11   December  1191498"
      ]
     },
     "execution_count": 72,
     "metadata": {},
     "output_type": "execute_result"
    }
   ],
   "source": [
    "# df_2018.drop(0, inplace=True)\n",
    "df_2018"
   ]
  },
  {
   "cell_type": "code",
   "execution_count": 73,
   "metadata": {},
   "outputs": [
    {
     "data": {
      "text/html": [
       "<div>\n",
       "<style scoped>\n",
       "    .dataframe tbody tr th:only-of-type {\n",
       "        vertical-align: middle;\n",
       "    }\n",
       "\n",
       "    .dataframe tbody tr th {\n",
       "        vertical-align: top;\n",
       "    }\n",
       "\n",
       "    .dataframe thead th {\n",
       "        text-align: right;\n",
       "    }\n",
       "</style>\n",
       "<table border=\"1\" class=\"dataframe\">\n",
       "  <thead>\n",
       "    <tr style=\"text-align: right;\">\n",
       "      <th></th>\n",
       "      <th>Month</th>\n",
       "      <th>FTAs</th>\n",
       "    </tr>\n",
       "  </thead>\n",
       "  <tbody>\n",
       "    <tr>\n",
       "      <th>0</th>\n",
       "      <td>January</td>\n",
       "      <td>1111040</td>\n",
       "    </tr>\n",
       "    <tr>\n",
       "      <th>1</th>\n",
       "      <td>February</td>\n",
       "      <td>1090516</td>\n",
       "    </tr>\n",
       "    <tr>\n",
       "      <th>2</th>\n",
       "      <td>March</td>\n",
       "      <td>978236</td>\n",
       "    </tr>\n",
       "    <tr>\n",
       "      <th>3</th>\n",
       "      <td>April</td>\n",
       "      <td>774651</td>\n",
       "    </tr>\n",
       "    <tr>\n",
       "      <th>4</th>\n",
       "      <td>May</td>\n",
       "      <td>615136</td>\n",
       "    </tr>\n",
       "    <tr>\n",
       "      <th>5</th>\n",
       "      <td>June</td>\n",
       "      <td>726446</td>\n",
       "    </tr>\n",
       "    <tr>\n",
       "      <th>6</th>\n",
       "      <td>July</td>\n",
       "      <td>818125</td>\n",
       "    </tr>\n",
       "    <tr>\n",
       "      <th>7</th>\n",
       "      <td>August</td>\n",
       "      <td>800837</td>\n",
       "    </tr>\n",
       "    <tr>\n",
       "      <th>8</th>\n",
       "      <td>September</td>\n",
       "      <td>751513</td>\n",
       "    </tr>\n",
       "    <tr>\n",
       "      <th>9</th>\n",
       "      <td>October</td>\n",
       "      <td>945017</td>\n",
       "    </tr>\n",
       "    <tr>\n",
       "      <th>10</th>\n",
       "      <td>November</td>\n",
       "      <td>1092440</td>\n",
       "    </tr>\n",
       "    <tr>\n",
       "      <th>11</th>\n",
       "      <td>December</td>\n",
       "      <td>1226398</td>\n",
       "    </tr>\n",
       "  </tbody>\n",
       "</table>\n",
       "</div>"
      ],
      "text/plain": [
       "        Month     FTAs\n",
       "0     January  1111040\n",
       "1    February  1090516\n",
       "2       March   978236\n",
       "3       April   774651\n",
       "4         May   615136\n",
       "5        June   726446\n",
       "6        July   818125\n",
       "7      August   800837\n",
       "8   September   751513\n",
       "9     October   945017\n",
       "10   November  1092440\n",
       "11   December  1226398"
      ]
     },
     "execution_count": 73,
     "metadata": {},
     "output_type": "execute_result"
    }
   ],
   "source": [
    "# df_2019.drop(0, inplace=True)\n",
    "df_2019"
   ]
  },
  {
   "cell_type": "code",
   "execution_count": 74,
   "metadata": {},
   "outputs": [
    {
     "data": {
      "text/html": [
       "<div>\n",
       "<style scoped>\n",
       "    .dataframe tbody tr th:only-of-type {\n",
       "        vertical-align: middle;\n",
       "    }\n",
       "\n",
       "    .dataframe tbody tr th {\n",
       "        vertical-align: top;\n",
       "    }\n",
       "\n",
       "    .dataframe thead th {\n",
       "        text-align: right;\n",
       "    }\n",
       "</style>\n",
       "<table border=\"1\" class=\"dataframe\">\n",
       "  <thead>\n",
       "    <tr style=\"text-align: right;\">\n",
       "      <th></th>\n",
       "      <th>Month</th>\n",
       "      <th>FTAs</th>\n",
       "    </tr>\n",
       "  </thead>\n",
       "  <tbody>\n",
       "    <tr>\n",
       "      <th>0</th>\n",
       "      <td>January</td>\n",
       "      <td>1119250</td>\n",
       "    </tr>\n",
       "    <tr>\n",
       "      <th>1</th>\n",
       "      <td>February</td>\n",
       "      <td>1018440</td>\n",
       "    </tr>\n",
       "    <tr>\n",
       "      <th>2</th>\n",
       "      <td>March</td>\n",
       "      <td>328304</td>\n",
       "    </tr>\n",
       "    <tr>\n",
       "      <th>3</th>\n",
       "      <td>April</td>\n",
       "      <td>2820</td>\n",
       "    </tr>\n",
       "    <tr>\n",
       "      <th>4</th>\n",
       "      <td>May</td>\n",
       "      <td>3764</td>\n",
       "    </tr>\n",
       "    <tr>\n",
       "      <th>5</th>\n",
       "      <td>June</td>\n",
       "      <td>8590</td>\n",
       "    </tr>\n",
       "    <tr>\n",
       "      <th>6</th>\n",
       "      <td>July</td>\n",
       "      <td>12655</td>\n",
       "    </tr>\n",
       "    <tr>\n",
       "      <th>7</th>\n",
       "      <td>August</td>\n",
       "      <td>19761</td>\n",
       "    </tr>\n",
       "    <tr>\n",
       "      <th>8</th>\n",
       "      <td>September</td>\n",
       "      <td>28167</td>\n",
       "    </tr>\n",
       "    <tr>\n",
       "      <th>9</th>\n",
       "      <td>October</td>\n",
       "      <td>41494</td>\n",
       "    </tr>\n",
       "    <tr>\n",
       "      <th>10</th>\n",
       "      <td>November</td>\n",
       "      <td>70977</td>\n",
       "    </tr>\n",
       "    <tr>\n",
       "      <th>11</th>\n",
       "      <td>December</td>\n",
       "      <td>90544</td>\n",
       "    </tr>\n",
       "  </tbody>\n",
       "</table>\n",
       "</div>"
      ],
      "text/plain": [
       "        Month     FTAs\n",
       "0     January  1119250\n",
       "1    February  1018440\n",
       "2       March   328304\n",
       "3       April     2820\n",
       "4         May     3764\n",
       "5        June     8590\n",
       "6        July    12655\n",
       "7      August    19761\n",
       "8   September    28167\n",
       "9     October    41494\n",
       "10   November    70977\n",
       "11   December    90544"
      ]
     },
     "execution_count": 74,
     "metadata": {},
     "output_type": "execute_result"
    }
   ],
   "source": [
    "# df_2020.drop(0, inplace=True)\n",
    "df_2020"
   ]
  },
  {
   "cell_type": "code",
   "execution_count": 75,
   "metadata": {},
   "outputs": [
    {
     "data": {
      "text/html": [
       "<div>\n",
       "<style scoped>\n",
       "    .dataframe tbody tr th:only-of-type {\n",
       "        vertical-align: middle;\n",
       "    }\n",
       "\n",
       "    .dataframe tbody tr th {\n",
       "        vertical-align: top;\n",
       "    }\n",
       "\n",
       "    .dataframe thead th {\n",
       "        text-align: right;\n",
       "    }\n",
       "</style>\n",
       "<table border=\"1\" class=\"dataframe\">\n",
       "  <thead>\n",
       "    <tr style=\"text-align: right;\">\n",
       "      <th></th>\n",
       "      <th>Month</th>\n",
       "      <th>FTAs</th>\n",
       "    </tr>\n",
       "  </thead>\n",
       "  <tbody>\n",
       "    <tr>\n",
       "      <th>0</th>\n",
       "      <td>January</td>\n",
       "      <td>94662</td>\n",
       "    </tr>\n",
       "    <tr>\n",
       "      <th>1</th>\n",
       "      <td>February</td>\n",
       "      <td>110312</td>\n",
       "    </tr>\n",
       "    <tr>\n",
       "      <th>2</th>\n",
       "      <td>March</td>\n",
       "      <td>133768</td>\n",
       "    </tr>\n",
       "    <tr>\n",
       "      <th>3</th>\n",
       "      <td>April</td>\n",
       "      <td>78718</td>\n",
       "    </tr>\n",
       "    <tr>\n",
       "      <th>4</th>\n",
       "      <td>May</td>\n",
       "      <td>19765</td>\n",
       "    </tr>\n",
       "    <tr>\n",
       "      <th>5</th>\n",
       "      <td>June</td>\n",
       "      <td>36070</td>\n",
       "    </tr>\n",
       "    <tr>\n",
       "      <th>6</th>\n",
       "      <td>July</td>\n",
       "      <td>72501</td>\n",
       "    </tr>\n",
       "    <tr>\n",
       "      <th>7</th>\n",
       "      <td>August</td>\n",
       "      <td>92728</td>\n",
       "    </tr>\n",
       "    <tr>\n",
       "      <th>8</th>\n",
       "      <td>September</td>\n",
       "      <td>115661</td>\n",
       "    </tr>\n",
       "    <tr>\n",
       "      <th>9</th>\n",
       "      <td>October</td>\n",
       "      <td>191415</td>\n",
       "    </tr>\n",
       "    <tr>\n",
       "      <th>10</th>\n",
       "      <td>November</td>\n",
       "      <td>263867</td>\n",
       "    </tr>\n",
       "    <tr>\n",
       "      <th>11</th>\n",
       "      <td>December</td>\n",
       "      <td>317647</td>\n",
       "    </tr>\n",
       "  </tbody>\n",
       "</table>\n",
       "</div>"
      ],
      "text/plain": [
       "        Month    FTAs\n",
       "0     January   94662\n",
       "1    February  110312\n",
       "2       March  133768\n",
       "3       April   78718\n",
       "4         May   19765\n",
       "5        June   36070\n",
       "6        July   72501\n",
       "7      August   92728\n",
       "8   September  115661\n",
       "9     October  191415\n",
       "10   November  263867\n",
       "11   December  317647"
      ]
     },
     "execution_count": 75,
     "metadata": {},
     "output_type": "execute_result"
    }
   ],
   "source": [
    "# df_2021.drop(0, inplace=True)\n",
    "df_2021"
   ]
  },
  {
   "cell_type": "code",
   "execution_count": 76,
   "metadata": {},
   "outputs": [
    {
     "data": {
      "text/html": [
       "<div>\n",
       "<style scoped>\n",
       "    .dataframe tbody tr th:only-of-type {\n",
       "        vertical-align: middle;\n",
       "    }\n",
       "\n",
       "    .dataframe tbody tr th {\n",
       "        vertical-align: top;\n",
       "    }\n",
       "\n",
       "    .dataframe thead th {\n",
       "        text-align: right;\n",
       "    }\n",
       "</style>\n",
       "<table border=\"1\" class=\"dataframe\">\n",
       "  <thead>\n",
       "    <tr style=\"text-align: right;\">\n",
       "      <th></th>\n",
       "      <th>Month</th>\n",
       "      <th>FTAs</th>\n",
       "    </tr>\n",
       "  </thead>\n",
       "  <tbody>\n",
       "    <tr>\n",
       "      <th>0</th>\n",
       "      <td>January</td>\n",
       "      <td>215935</td>\n",
       "    </tr>\n",
       "    <tr>\n",
       "      <th>1</th>\n",
       "      <td>February</td>\n",
       "      <td>254538</td>\n",
       "    </tr>\n",
       "    <tr>\n",
       "      <th>2</th>\n",
       "      <td>March</td>\n",
       "      <td>358023</td>\n",
       "    </tr>\n",
       "    <tr>\n",
       "      <th>3</th>\n",
       "      <td>April</td>\n",
       "      <td>411010</td>\n",
       "    </tr>\n",
       "    <tr>\n",
       "      <th>4</th>\n",
       "      <td>May</td>\n",
       "      <td>445690</td>\n",
       "    </tr>\n",
       "    <tr>\n",
       "      <th>5</th>\n",
       "      <td>June</td>\n",
       "      <td>547074</td>\n",
       "    </tr>\n",
       "    <tr>\n",
       "      <th>6</th>\n",
       "      <td>July</td>\n",
       "      <td>669499</td>\n",
       "    </tr>\n",
       "    <tr>\n",
       "      <th>7</th>\n",
       "      <td>August</td>\n",
       "      <td>524756</td>\n",
       "    </tr>\n",
       "    <tr>\n",
       "      <th>8</th>\n",
       "      <td>September</td>\n",
       "      <td>551580</td>\n",
       "    </tr>\n",
       "    <tr>\n",
       "      <th>9</th>\n",
       "      <td>October</td>\n",
       "      <td>677055</td>\n",
       "    </tr>\n",
       "    <tr>\n",
       "      <th>10</th>\n",
       "      <td>November</td>\n",
       "      <td>789330</td>\n",
       "    </tr>\n",
       "    <tr>\n",
       "      <th>11</th>\n",
       "      <td>December</td>\n",
       "      <td>992977</td>\n",
       "    </tr>\n",
       "  </tbody>\n",
       "</table>\n",
       "</div>"
      ],
      "text/plain": [
       "        Month    FTAs\n",
       "0     January  215935\n",
       "1    February  254538\n",
       "2       March  358023\n",
       "3       April  411010\n",
       "4         May  445690\n",
       "5        June  547074\n",
       "6        July  669499\n",
       "7      August  524756\n",
       "8   September  551580\n",
       "9     October  677055\n",
       "10   November  789330\n",
       "11   December  992977"
      ]
     },
     "execution_count": 76,
     "metadata": {},
     "output_type": "execute_result"
    }
   ],
   "source": [
    "# df_2022.drop(0, inplace=True)\n",
    "df_2022"
   ]
  },
  {
   "cell_type": "code",
   "execution_count": 77,
   "metadata": {},
   "outputs": [
    {
     "data": {
      "text/html": [
       "<div>\n",
       "<style scoped>\n",
       "    .dataframe tbody tr th:only-of-type {\n",
       "        vertical-align: middle;\n",
       "    }\n",
       "\n",
       "    .dataframe tbody tr th {\n",
       "        vertical-align: top;\n",
       "    }\n",
       "\n",
       "    .dataframe thead th {\n",
       "        text-align: right;\n",
       "    }\n",
       "</style>\n",
       "<table border=\"1\" class=\"dataframe\">\n",
       "  <thead>\n",
       "    <tr style=\"text-align: right;\">\n",
       "      <th></th>\n",
       "      <th>Month</th>\n",
       "      <th>FTAs</th>\n",
       "      <th>FTAs</th>\n",
       "      <th>FTAs</th>\n",
       "      <th>FTAs</th>\n",
       "      <th>FTAs</th>\n",
       "      <th>FTAs</th>\n",
       "      <th>FTAs</th>\n",
       "      <th>FTAs</th>\n",
       "      <th>FTAs</th>\n",
       "    </tr>\n",
       "  </thead>\n",
       "  <tbody>\n",
       "    <tr>\n",
       "      <th>0</th>\n",
       "      <td>January</td>\n",
       "      <td>720321</td>\n",
       "      <td>757786</td>\n",
       "      <td>844533</td>\n",
       "      <td>964109</td>\n",
       "      <td>1045027</td>\n",
       "      <td>1111040</td>\n",
       "      <td>1119250</td>\n",
       "      <td>94662</td>\n",
       "      <td>215935</td>\n",
       "    </tr>\n",
       "    <tr>\n",
       "      <th>1</th>\n",
       "      <td>February</td>\n",
       "      <td>688569</td>\n",
       "      <td>755678</td>\n",
       "      <td>848782</td>\n",
       "      <td>931025</td>\n",
       "      <td>1049259</td>\n",
       "      <td>1090516</td>\n",
       "      <td>1018440</td>\n",
       "      <td>110312</td>\n",
       "      <td>254538</td>\n",
       "    </tr>\n",
       "    <tr>\n",
       "      <th>2</th>\n",
       "      <td>March</td>\n",
       "      <td>639530</td>\n",
       "      <td>690441</td>\n",
       "      <td>809107</td>\n",
       "      <td>885936</td>\n",
       "      <td>1021539</td>\n",
       "      <td>978236</td>\n",
       "      <td>328304</td>\n",
       "      <td>133768</td>\n",
       "      <td>358023</td>\n",
       "    </tr>\n",
       "    <tr>\n",
       "      <th>3</th>\n",
       "      <td>April</td>\n",
       "      <td>450580</td>\n",
       "      <td>535321</td>\n",
       "      <td>592004</td>\n",
       "      <td>717899</td>\n",
       "      <td>745033</td>\n",
       "      <td>774651</td>\n",
       "      <td>2820</td>\n",
       "      <td>78718</td>\n",
       "      <td>411010</td>\n",
       "    </tr>\n",
       "    <tr>\n",
       "      <th>4</th>\n",
       "      <td>May</td>\n",
       "      <td>417453</td>\n",
       "      <td>465043</td>\n",
       "      <td>527466</td>\n",
       "      <td>622408</td>\n",
       "      <td>606513</td>\n",
       "      <td>615136</td>\n",
       "      <td>3764</td>\n",
       "      <td>19765</td>\n",
       "      <td>445690</td>\n",
       "    </tr>\n",
       "    <tr>\n",
       "      <th>5</th>\n",
       "      <td>June</td>\n",
       "      <td>451223</td>\n",
       "      <td>502028</td>\n",
       "      <td>546972</td>\n",
       "      <td>663470</td>\n",
       "      <td>683935</td>\n",
       "      <td>726446</td>\n",
       "      <td>8590</td>\n",
       "      <td>36070</td>\n",
       "      <td>547074</td>\n",
       "    </tr>\n",
       "    <tr>\n",
       "      <th>6</th>\n",
       "      <td>July</td>\n",
       "      <td>506427</td>\n",
       "      <td>5688871</td>\n",
       "      <td>733834</td>\n",
       "      <td>779309</td>\n",
       "      <td>806493</td>\n",
       "      <td>818125</td>\n",
       "      <td>12655</td>\n",
       "      <td>72501</td>\n",
       "      <td>669499</td>\n",
       "    </tr>\n",
       "    <tr>\n",
       "      <th>7</th>\n",
       "      <td>August</td>\n",
       "      <td>486338</td>\n",
       "      <td>575750</td>\n",
       "      <td>652111</td>\n",
       "      <td>719129</td>\n",
       "      <td>785993</td>\n",
       "      <td>800837</td>\n",
       "      <td>19761</td>\n",
       "      <td>92728</td>\n",
       "      <td>524756</td>\n",
       "    </tr>\n",
       "    <tr>\n",
       "      <th>8</th>\n",
       "      <td>September</td>\n",
       "      <td>453561</td>\n",
       "      <td>509142</td>\n",
       "      <td>608177</td>\n",
       "      <td>719964</td>\n",
       "      <td>719894</td>\n",
       "      <td>751513</td>\n",
       "      <td>28167</td>\n",
       "      <td>115661</td>\n",
       "      <td>551580</td>\n",
       "    </tr>\n",
       "    <tr>\n",
       "      <th>9</th>\n",
       "      <td>October</td>\n",
       "      <td>598095</td>\n",
       "      <td>668398</td>\n",
       "      <td>741770</td>\n",
       "      <td>866976</td>\n",
       "      <td>890223</td>\n",
       "      <td>945017</td>\n",
       "      <td>41494</td>\n",
       "      <td>191415</td>\n",
       "      <td>677055</td>\n",
       "    </tr>\n",
       "    <tr>\n",
       "      <th>10</th>\n",
       "      <td>November</td>\n",
       "      <td>733923</td>\n",
       "      <td>765497</td>\n",
       "      <td>878280</td>\n",
       "      <td>997738</td>\n",
       "      <td>1012569</td>\n",
       "      <td>1092440</td>\n",
       "      <td>70977</td>\n",
       "      <td>263867</td>\n",
       "      <td>789330</td>\n",
       "    </tr>\n",
       "    <tr>\n",
       "      <th>11</th>\n",
       "      <td>December</td>\n",
       "      <td>821581</td>\n",
       "      <td>885144</td>\n",
       "      <td>1021375</td>\n",
       "      <td>1167840</td>\n",
       "      <td>1191498</td>\n",
       "      <td>1226398</td>\n",
       "      <td>90544</td>\n",
       "      <td>317647</td>\n",
       "      <td>992977</td>\n",
       "    </tr>\n",
       "  </tbody>\n",
       "</table>\n",
       "</div>"
      ],
      "text/plain": [
       "        Month    FTAs     FTAs     FTAs     FTAs     FTAs     FTAs     FTAs    FTAs    FTAs\n",
       "0     January  720321   757786   844533   964109  1045027  1111040  1119250   94662  215935\n",
       "1    February  688569   755678   848782   931025  1049259  1090516  1018440  110312  254538\n",
       "2       March  639530   690441   809107   885936  1021539   978236   328304  133768  358023\n",
       "3       April  450580   535321   592004   717899   745033   774651     2820   78718  411010\n",
       "4         May  417453   465043   527466   622408   606513   615136     3764   19765  445690\n",
       "5        June  451223   502028   546972   663470   683935   726446     8590   36070  547074\n",
       "6        July  506427  5688871   733834   779309   806493   818125    12655   72501  669499\n",
       "7      August  486338   575750   652111   719129   785993   800837    19761   92728  524756\n",
       "8   September  453561   509142   608177   719964   719894   751513    28167  115661  551580\n",
       "9     October  598095   668398   741770   866976   890223   945017    41494  191415  677055\n",
       "10   November  733923   765497   878280   997738  1012569  1092440    70977  263867  789330\n",
       "11   December  821581   885144  1021375  1167840  1191498  1226398    90544  317647  992977"
      ]
     },
     "execution_count": 77,
     "metadata": {},
     "output_type": "execute_result"
    }
   ],
   "source": [
    "pd.concat([df_2013,df_2014['FTAs'],df_2016['FTAs'],df_2017['FTAs'],df_2018['FTAs'],df_2019['FTAs'],df_2020['FTAs'],df_2021['FTAs'],df_2022['FTAs']], axis=1)"
   ]
  },
  {
   "cell_type": "code",
   "execution_count": 78,
   "metadata": {},
   "outputs": [],
   "source": [
    "df_2013['FTAs'] = pd.to_numeric(df_2013['FTAs'], errors='coerce')  # Convert to numeric, replace errors with NaN if any\n",
    "df_2014['FTAs'] = pd.to_numeric(df_2014['FTAs'], errors='coerce')  # Convert to numeric, replace errors with NaN if any\n",
    "df_2016['FTAs'] = pd.to_numeric(df_2016['FTAs'], errors='coerce')  # Convert to numeric, replace errors with NaN if any\n",
    "df_2017['FTAs'] = pd.to_numeric(df_2017['FTAs'], errors='coerce')  # Convert to numeric, replace errors with NaN if any\n",
    "df_2018['FTAs'] = pd.to_numeric(df_2018['FTAs'], errors='coerce')  # Convert to numeric, replace errors with NaN if any\n",
    "df_2019['FTAs'] = pd.to_numeric(df_2019['FTAs'], errors='coerce')  # Convert to numeric, replace errors with NaN if any\n",
    "df_2020['FTAs'] = pd.to_numeric(df_2020['FTAs'], errors='coerce')  # Convert to numeric, replace errors with NaN if any\n",
    "df_2021['FTAs'] = pd.to_numeric(df_2021['FTAs'], errors='coerce')  # Convert to numeric, replace errors with NaN if any\n",
    "df_2022['FTAs'] = pd.to_numeric(df_2022['FTAs'], errors='coerce')  # Convert to numeric, replace errors with NaN if any"
   ]
  },
  {
   "cell_type": "code",
   "execution_count": 79,
   "metadata": {},
   "outputs": [
    {
     "data": {
      "text/plain": [
       "[        Month    FTAs\n",
       " 0     January  720321\n",
       " 1    February  688569\n",
       " 2       March  639530\n",
       " 3       April  450580\n",
       " 4         May  417453\n",
       " 5        June  451223\n",
       " 6        July  506427\n",
       " 7      August  486338\n",
       " 8   September  453561\n",
       " 9     October  598095\n",
       " 10   November  733923\n",
       " 11   December  821581,\n",
       "         Month     FTAs\n",
       " 0     January   757786\n",
       " 1    February   755678\n",
       " 2       March   690441\n",
       " 3       April   535321\n",
       " 4         May   465043\n",
       " 5        June   502028\n",
       " 6        July  5688871\n",
       " 7      August   575750\n",
       " 8   September   509142\n",
       " 9     October   668398\n",
       " 10   November   765497\n",
       " 11   December   885144,\n",
       "         Month     FTAs\n",
       " 0     January   844533\n",
       " 1    February   848782\n",
       " 2       March   809107\n",
       " 3       April   592004\n",
       " 4         May   527466\n",
       " 5        June   546972\n",
       " 6        July   733834\n",
       " 7      August   652111\n",
       " 8   September   608177\n",
       " 9     October   741770\n",
       " 10   November   878280\n",
       " 11   December  1021375,\n",
       "         Month     FTAs\n",
       " 0     January   964109\n",
       " 1    February   931025\n",
       " 2       March   885936\n",
       " 3       April   717899\n",
       " 4         May   622408\n",
       " 5        June   663470\n",
       " 6        July   779309\n",
       " 7      August   719129\n",
       " 8   September   719964\n",
       " 9     October   866976\n",
       " 10   November   997738\n",
       " 11   December  1167840,\n",
       "         Month     FTAs\n",
       " 0     January  1045027\n",
       " 1    February  1049259\n",
       " 2       March  1021539\n",
       " 3       April   745033\n",
       " 4         May   606513\n",
       " 5        June   683935\n",
       " 6        July   806493\n",
       " 7      August   785993\n",
       " 8   September   719894\n",
       " 9     October   890223\n",
       " 10   November  1012569\n",
       " 11   December  1191498,\n",
       "         Month     FTAs\n",
       " 0     January  1111040\n",
       " 1    February  1090516\n",
       " 2       March   978236\n",
       " 3       April   774651\n",
       " 4         May   615136\n",
       " 5        June   726446\n",
       " 6        July   818125\n",
       " 7      August   800837\n",
       " 8   September   751513\n",
       " 9     October   945017\n",
       " 10   November  1092440\n",
       " 11   December  1226398,\n",
       "         Month     FTAs\n",
       " 0     January  1119250\n",
       " 1    February  1018440\n",
       " 2       March   328304\n",
       " 3       April     2820\n",
       " 4         May     3764\n",
       " 5        June     8590\n",
       " 6        July    12655\n",
       " 7      August    19761\n",
       " 8   September    28167\n",
       " 9     October    41494\n",
       " 10   November    70977\n",
       " 11   December    90544,\n",
       "         Month    FTAs\n",
       " 0     January   94662\n",
       " 1    February  110312\n",
       " 2       March  133768\n",
       " 3       April   78718\n",
       " 4         May   19765\n",
       " 5        June   36070\n",
       " 6        July   72501\n",
       " 7      August   92728\n",
       " 8   September  115661\n",
       " 9     October  191415\n",
       " 10   November  263867\n",
       " 11   December  317647,\n",
       "         Month    FTAs\n",
       " 0     January  215935\n",
       " 1    February  254538\n",
       " 2       March  358023\n",
       " 3       April  411010\n",
       " 4         May  445690\n",
       " 5        June  547074\n",
       " 6        July  669499\n",
       " 7      August  524756\n",
       " 8   September  551580\n",
       " 9     October  677055\n",
       " 10   November  789330\n",
       " 11   December  992977]"
      ]
     },
     "execution_count": 79,
     "metadata": {},
     "output_type": "execute_result"
    }
   ],
   "source": [
    "# Combine data into a single DataFrame with a 'Year' column\n",
    "dfs = [df_2013, df_2014, df_2016, df_2017, df_2018, df_2019, df_2020, df_2021, df_2022]\n",
    "years = [2013, 2014, 2016, 2017, 2018, 2019, 2020, 2021, 2022]\n",
    "dfs"
   ]
  },
  {
   "cell_type": "code",
   "execution_count": 80,
   "metadata": {},
   "outputs": [],
   "source": [
    "# Ensure 'FTAs' column is numeric in all DataFrames\n",
    "# for df in dfs:\n",
    "#     df['FTAs'] = pd.to_numeric(df['FTAs'], errors='coerce')  # Convert to numeric, replace errors with NaN if any\n",
    "\n",
    "# Add a 'Year' column to each DataFrame, then concatenate\n",
    "for df, year in zip(dfs, years):\n",
    "    df['Year'] = year\n",
    "\n",
    "# df_all = pd.concat(dfs, ignore_index=True)\n",
    "df_all = pd.concat(dfs, ignore_index=True).reset_index(drop=True)\n",
    "# df_all = df_all.sort_values(by=['Year', 'Month']).reset_index(drop=True)"
   ]
  },
  {
   "cell_type": "code",
   "execution_count": 81,
   "metadata": {},
   "outputs": [
    {
     "data": {
      "text/html": [
       "<div>\n",
       "<style scoped>\n",
       "    .dataframe tbody tr th:only-of-type {\n",
       "        vertical-align: middle;\n",
       "    }\n",
       "\n",
       "    .dataframe tbody tr th {\n",
       "        vertical-align: top;\n",
       "    }\n",
       "\n",
       "    .dataframe thead th {\n",
       "        text-align: right;\n",
       "    }\n",
       "</style>\n",
       "<table border=\"1\" class=\"dataframe\">\n",
       "  <thead>\n",
       "    <tr style=\"text-align: right;\">\n",
       "      <th></th>\n",
       "      <th>Month</th>\n",
       "      <th>FTAs</th>\n",
       "      <th>Year</th>\n",
       "    </tr>\n",
       "  </thead>\n",
       "  <tbody>\n",
       "    <tr>\n",
       "      <th>0</th>\n",
       "      <td>January</td>\n",
       "      <td>720321</td>\n",
       "      <td>2013</td>\n",
       "    </tr>\n",
       "    <tr>\n",
       "      <th>1</th>\n",
       "      <td>February</td>\n",
       "      <td>688569</td>\n",
       "      <td>2013</td>\n",
       "    </tr>\n",
       "    <tr>\n",
       "      <th>2</th>\n",
       "      <td>March</td>\n",
       "      <td>639530</td>\n",
       "      <td>2013</td>\n",
       "    </tr>\n",
       "    <tr>\n",
       "      <th>3</th>\n",
       "      <td>April</td>\n",
       "      <td>450580</td>\n",
       "      <td>2013</td>\n",
       "    </tr>\n",
       "    <tr>\n",
       "      <th>4</th>\n",
       "      <td>May</td>\n",
       "      <td>417453</td>\n",
       "      <td>2013</td>\n",
       "    </tr>\n",
       "    <tr>\n",
       "      <th>...</th>\n",
       "      <td>...</td>\n",
       "      <td>...</td>\n",
       "      <td>...</td>\n",
       "    </tr>\n",
       "    <tr>\n",
       "      <th>103</th>\n",
       "      <td>August</td>\n",
       "      <td>524756</td>\n",
       "      <td>2022</td>\n",
       "    </tr>\n",
       "    <tr>\n",
       "      <th>104</th>\n",
       "      <td>September</td>\n",
       "      <td>551580</td>\n",
       "      <td>2022</td>\n",
       "    </tr>\n",
       "    <tr>\n",
       "      <th>105</th>\n",
       "      <td>October</td>\n",
       "      <td>677055</td>\n",
       "      <td>2022</td>\n",
       "    </tr>\n",
       "    <tr>\n",
       "      <th>106</th>\n",
       "      <td>November</td>\n",
       "      <td>789330</td>\n",
       "      <td>2022</td>\n",
       "    </tr>\n",
       "    <tr>\n",
       "      <th>107</th>\n",
       "      <td>December</td>\n",
       "      <td>992977</td>\n",
       "      <td>2022</td>\n",
       "    </tr>\n",
       "  </tbody>\n",
       "</table>\n",
       "<p>108 rows × 3 columns</p>\n",
       "</div>"
      ],
      "text/plain": [
       "         Month    FTAs  Year\n",
       "0      January  720321  2013\n",
       "1     February  688569  2013\n",
       "2        March  639530  2013\n",
       "3        April  450580  2013\n",
       "4          May  417453  2013\n",
       "..         ...     ...   ...\n",
       "103     August  524756  2022\n",
       "104  September  551580  2022\n",
       "105    October  677055  2022\n",
       "106   November  789330  2022\n",
       "107   December  992977  2022\n",
       "\n",
       "[108 rows x 3 columns]"
      ]
     },
     "execution_count": 81,
     "metadata": {},
     "output_type": "execute_result"
    }
   ],
   "source": [
    "# df_all.to_csv(\"temp2.csv\",index=False)\n",
    "df_all"
   ]
  },
  {
   "cell_type": "code",
   "execution_count": 82,
   "metadata": {},
   "outputs": [
    {
     "data": {
      "text/html": [
       "<div>\n",
       "<style scoped>\n",
       "    .dataframe tbody tr th:only-of-type {\n",
       "        vertical-align: middle;\n",
       "    }\n",
       "\n",
       "    .dataframe tbody tr th {\n",
       "        vertical-align: top;\n",
       "    }\n",
       "\n",
       "    .dataframe thead th {\n",
       "        text-align: right;\n",
       "    }\n",
       "</style>\n",
       "<table border=\"1\" class=\"dataframe\">\n",
       "  <thead>\n",
       "    <tr style=\"text-align: right;\">\n",
       "      <th>Year</th>\n",
       "      <th>2013</th>\n",
       "      <th>2014</th>\n",
       "      <th>2016</th>\n",
       "      <th>2017</th>\n",
       "      <th>2018</th>\n",
       "      <th>2019</th>\n",
       "      <th>2020</th>\n",
       "      <th>2021</th>\n",
       "      <th>2022</th>\n",
       "    </tr>\n",
       "    <tr>\n",
       "      <th>Month</th>\n",
       "      <th></th>\n",
       "      <th></th>\n",
       "      <th></th>\n",
       "      <th></th>\n",
       "      <th></th>\n",
       "      <th></th>\n",
       "      <th></th>\n",
       "      <th></th>\n",
       "      <th></th>\n",
       "    </tr>\n",
       "  </thead>\n",
       "  <tbody>\n",
       "    <tr>\n",
       "      <th>January</th>\n",
       "      <td>720321</td>\n",
       "      <td>757786</td>\n",
       "      <td>844533</td>\n",
       "      <td>964109</td>\n",
       "      <td>1045027</td>\n",
       "      <td>1111040</td>\n",
       "      <td>1119250</td>\n",
       "      <td>94662</td>\n",
       "      <td>215935</td>\n",
       "    </tr>\n",
       "    <tr>\n",
       "      <th>February</th>\n",
       "      <td>688569</td>\n",
       "      <td>755678</td>\n",
       "      <td>848782</td>\n",
       "      <td>931025</td>\n",
       "      <td>1049259</td>\n",
       "      <td>1090516</td>\n",
       "      <td>1018440</td>\n",
       "      <td>110312</td>\n",
       "      <td>254538</td>\n",
       "    </tr>\n",
       "    <tr>\n",
       "      <th>March</th>\n",
       "      <td>639530</td>\n",
       "      <td>690441</td>\n",
       "      <td>809107</td>\n",
       "      <td>885936</td>\n",
       "      <td>1021539</td>\n",
       "      <td>978236</td>\n",
       "      <td>328304</td>\n",
       "      <td>133768</td>\n",
       "      <td>358023</td>\n",
       "    </tr>\n",
       "    <tr>\n",
       "      <th>April</th>\n",
       "      <td>450580</td>\n",
       "      <td>535321</td>\n",
       "      <td>592004</td>\n",
       "      <td>717899</td>\n",
       "      <td>745033</td>\n",
       "      <td>774651</td>\n",
       "      <td>2820</td>\n",
       "      <td>78718</td>\n",
       "      <td>411010</td>\n",
       "    </tr>\n",
       "    <tr>\n",
       "      <th>May</th>\n",
       "      <td>417453</td>\n",
       "      <td>465043</td>\n",
       "      <td>527466</td>\n",
       "      <td>622408</td>\n",
       "      <td>606513</td>\n",
       "      <td>615136</td>\n",
       "      <td>3764</td>\n",
       "      <td>19765</td>\n",
       "      <td>445690</td>\n",
       "    </tr>\n",
       "    <tr>\n",
       "      <th>June</th>\n",
       "      <td>451223</td>\n",
       "      <td>502028</td>\n",
       "      <td>546972</td>\n",
       "      <td>663470</td>\n",
       "      <td>683935</td>\n",
       "      <td>726446</td>\n",
       "      <td>8590</td>\n",
       "      <td>36070</td>\n",
       "      <td>547074</td>\n",
       "    </tr>\n",
       "    <tr>\n",
       "      <th>July</th>\n",
       "      <td>506427</td>\n",
       "      <td>5688871</td>\n",
       "      <td>733834</td>\n",
       "      <td>779309</td>\n",
       "      <td>806493</td>\n",
       "      <td>818125</td>\n",
       "      <td>12655</td>\n",
       "      <td>72501</td>\n",
       "      <td>669499</td>\n",
       "    </tr>\n",
       "    <tr>\n",
       "      <th>August</th>\n",
       "      <td>486338</td>\n",
       "      <td>575750</td>\n",
       "      <td>652111</td>\n",
       "      <td>719129</td>\n",
       "      <td>785993</td>\n",
       "      <td>800837</td>\n",
       "      <td>19761</td>\n",
       "      <td>92728</td>\n",
       "      <td>524756</td>\n",
       "    </tr>\n",
       "    <tr>\n",
       "      <th>September</th>\n",
       "      <td>453561</td>\n",
       "      <td>509142</td>\n",
       "      <td>608177</td>\n",
       "      <td>719964</td>\n",
       "      <td>719894</td>\n",
       "      <td>751513</td>\n",
       "      <td>28167</td>\n",
       "      <td>115661</td>\n",
       "      <td>551580</td>\n",
       "    </tr>\n",
       "    <tr>\n",
       "      <th>October</th>\n",
       "      <td>598095</td>\n",
       "      <td>668398</td>\n",
       "      <td>741770</td>\n",
       "      <td>866976</td>\n",
       "      <td>890223</td>\n",
       "      <td>945017</td>\n",
       "      <td>41494</td>\n",
       "      <td>191415</td>\n",
       "      <td>677055</td>\n",
       "    </tr>\n",
       "    <tr>\n",
       "      <th>November</th>\n",
       "      <td>733923</td>\n",
       "      <td>765497</td>\n",
       "      <td>878280</td>\n",
       "      <td>997738</td>\n",
       "      <td>1012569</td>\n",
       "      <td>1092440</td>\n",
       "      <td>70977</td>\n",
       "      <td>263867</td>\n",
       "      <td>789330</td>\n",
       "    </tr>\n",
       "    <tr>\n",
       "      <th>December</th>\n",
       "      <td>821581</td>\n",
       "      <td>885144</td>\n",
       "      <td>1021375</td>\n",
       "      <td>1167840</td>\n",
       "      <td>1191498</td>\n",
       "      <td>1226398</td>\n",
       "      <td>90544</td>\n",
       "      <td>317647</td>\n",
       "      <td>992977</td>\n",
       "    </tr>\n",
       "  </tbody>\n",
       "</table>\n",
       "</div>"
      ],
      "text/plain": [
       "Year         2013     2014     2016     2017     2018     2019     2020    2021    2022\n",
       "Month                                                                                  \n",
       "January    720321   757786   844533   964109  1045027  1111040  1119250   94662  215935\n",
       "February   688569   755678   848782   931025  1049259  1090516  1018440  110312  254538\n",
       "March      639530   690441   809107   885936  1021539   978236   328304  133768  358023\n",
       "April      450580   535321   592004   717899   745033   774651     2820   78718  411010\n",
       "May        417453   465043   527466   622408   606513   615136     3764   19765  445690\n",
       "June       451223   502028   546972   663470   683935   726446     8590   36070  547074\n",
       "July       506427  5688871   733834   779309   806493   818125    12655   72501  669499\n",
       "August     486338   575750   652111   719129   785993   800837    19761   92728  524756\n",
       "September  453561   509142   608177   719964   719894   751513    28167  115661  551580\n",
       "October    598095   668398   741770   866976   890223   945017    41494  191415  677055\n",
       "November   733923   765497   878280   997738  1012569  1092440    70977  263867  789330\n",
       "December   821581   885144  1021375  1167840  1191498  1226398    90544  317647  992977"
      ]
     },
     "execution_count": 82,
     "metadata": {},
     "output_type": "execute_result"
    }
   ],
   "source": [
    "# Create a pivot table with months as rows and years as columns for easier calculations\n",
    "# Define the month order from January to December\n",
    "month_order = [\"January\", \"February\", \"March\", \"April\", \"May\", \"June\", \n",
    "               \"July\", \"August\", \"September\", \"October\", \"November\", \"December\"]\n",
    "\n",
    "# Convert the \"Month\" column to a categorical type with a specific order\n",
    "df_all['Month'] = pd.Categorical(df_all['Month'], categories=month_order, ordered=True)\n",
    "\n",
    "# Now create the pivot table with the specified order\n",
    "df_pivot = df_all.pivot(index='Month', columns='Year', values='FTAs').sort_index()\n",
    "\n",
    "# df_pivot = df_all.pivot(index='Month', columns='Year', values='FTAs')\n",
    "df_pivot"
   ]
  },
  {
   "cell_type": "code",
   "execution_count": 83,
   "metadata": {},
   "outputs": [],
   "source": [
    "# Sum FTAs for each year to get total yearly tourists\n",
    "total_yearly_tourists = df_all.groupby('Year')['FTAs'].sum()\n",
    "\n",
    "# Calculate overall yearly change in absolute and percentage terms\n",
    "yearly_total_change_abs = total_yearly_tourists.diff().dropna()\n",
    "yearly_total_change_pct = yearly_total_change_abs / total_yearly_tourists.shift(1) * 100\n",
    "\n",
    "yearly_total_change_pct = yearly_total_change_pct.round(2)\n"
   ]
  },
  {
   "cell_type": "code",
   "execution_count": 84,
   "metadata": {},
   "outputs": [],
   "source": [
    "yearly_change_abs = df_pivot.diff(axis=1).drop(columns=2013)  # Skip 2013 as there's no prior year\n",
    "yearly_change_pct = df_pivot.pct_change(axis=1).drop(columns=2013) * 100  # Convert to percentage\n",
    "\n",
    "yearly_change_pct = yearly_change_pct.round(2)"
   ]
  },
  {
   "cell_type": "markdown",
   "metadata": {},
   "source": [
    "# 1-> Every Year"
   ]
  },
  {
   "cell_type": "code",
   "execution_count": 85,
   "metadata": {},
   "outputs": [
    {
     "name": "stdout",
     "output_type": "stream",
     "text": [
      "Total Yearly Absolute Change:\n",
      " Year\n",
      "2014    5831498.0\n",
      "2016   -3994688.0\n",
      "2017    1231392.0\n",
      "2018     522173.0\n",
      "2019     372379.0\n",
      "2020   -8185589.0\n",
      "2021   -1217652.0\n",
      "2022    4910353.0\n",
      "Name: FTAs, dtype: float64\n"
     ]
    }
   ],
   "source": [
    "# Sum FTAs for each year to get total yearly tourists\n",
    "print(\"Total Yearly Absolute Change:\\n\", yearly_total_change_abs)"
   ]
  },
  {
   "cell_type": "code",
   "execution_count": 86,
   "metadata": {},
   "outputs": [
    {
     "data": {
      "text/plain": [
       "Year\n",
       "2014    5831498.0\n",
       "2016   -3994688.0\n",
       "2017    1231392.0\n",
       "2018     522173.0\n",
       "2019     372379.0\n",
       "2020   -8185589.0\n",
       "2021   -1217652.0\n",
       "2022    4910353.0\n",
       "Name: FTAs, dtype: float64"
      ]
     },
     "execution_count": 86,
     "metadata": {},
     "output_type": "execute_result"
    }
   ],
   "source": [
    "yearly_total_change_abs"
   ]
  },
  {
   "cell_type": "code",
   "execution_count": 87,
   "metadata": {},
   "outputs": [],
   "source": [
    "yearly_total_change_abs.to_csv(\"1_Yearly_absolute_change.csv\")"
   ]
  },
  {
   "cell_type": "code",
   "execution_count": 88,
   "metadata": {},
   "outputs": [
    {
     "name": "stdout",
     "output_type": "stream",
     "text": [
      "\n",
      "Total Yearly Percentage Change:\n",
      " Year\n",
      "2013       NaN\n",
      "2014     83.69\n",
      "2016    -31.21\n",
      "2017     13.99\n",
      "2018      5.20\n",
      "2019      3.53\n",
      "2020    -74.89\n",
      "2021    -44.36\n",
      "2022    321.54\n",
      "Name: FTAs, dtype: float64\n"
     ]
    }
   ],
   "source": [
    "print(\"\\nTotal Yearly Percentage Change:\\n\", yearly_total_change_pct)"
   ]
  },
  {
   "cell_type": "code",
   "execution_count": 89,
   "metadata": {},
   "outputs": [],
   "source": [
    "yearly_total_change_pct.to_csv(\"1_Yearly_percentage_change.csv\")"
   ]
  },
  {
   "cell_type": "code",
   "execution_count": 90,
   "metadata": {},
   "outputs": [],
   "source": [
    "# yearly_change_abs = df_pivot.diff(axis=1).drop(columns=2013)  # Skip 2013 as there's no prior year\n",
    "# yearly_change_pct = df_pivot.pct_change(axis=1).drop(columns=2013) * 100  # Convert to percentage\n",
    "\n",
    "# yearly_change_pct = yearly_change_pct.round(2)"
   ]
  },
  {
   "cell_type": "code",
   "execution_count": 91,
   "metadata": {},
   "outputs": [],
   "source": [
    "# import plotly.graph_objects as go\n",
    "\n",
    "# # Assuming yearly_change_abs is your DataFrame with absolute yearly changes\n",
    "\n",
    "# # Create a Plotly figure\n",
    "# fig = go.Figure()\n",
    "\n",
    "# # Adding a line for each year in yearly_change_abs\n",
    "# for year in yearly_change_abs.columns:\n",
    "#     fig.add_trace(go.Scatter(\n",
    "#         x=yearly_change_abs.index, \n",
    "#         y=yearly_change_abs[year],\n",
    "#         mode='lines+markers',  # Adds markers on the line\n",
    "#         name=str(year),  # Each line is labeled by the year\n",
    "#         hovertemplate=f\"{year}: {{y:.2f}}\"  # Customize hover to show the absolute change\n",
    "#     ))\n",
    "\n",
    "# # Updating layout for the plot\n",
    "# fig.update_layout(\n",
    "#     title=\"Yearly Absolute Change in FTAs\",\n",
    "#     xaxis_title=\"Month\",\n",
    "#     yaxis_title=\"Absolute Change\",\n",
    "#     template=\"plotly_white\",  # Light theme\n",
    "#     height=600,\n",
    "#     xaxis=dict(tickmode='array', tickvals=yearly_change_abs.index),\n",
    "#     legend_title=\"Year\",\n",
    "# )\n",
    "\n",
    "# # Show the plot\n",
    "# fig.show()"
   ]
  },
  {
   "cell_type": "code",
   "execution_count": 92,
   "metadata": {},
   "outputs": [
    {
     "data": {
      "application/vnd.plotly.v1+json": {
       "config": {
        "plotlyServerURL": "https://plot.ly"
       },
       "data": [
        {
         "marker": {
          "color": "skyblue"
         },
         "name": "Total Absolute Change",
         "text": [
          "5831498.00",
          "-3994688.00",
          "1231392.00",
          "522173.00",
          "372379.00",
          "-8185589.00",
          "-1217652.00",
          "4910353.00"
         ],
         "textposition": "inside",
         "type": "bar",
         "x": [
          2014,
          2016,
          2017,
          2018,
          2019,
          2020,
          2021,
          2022
         ],
         "xaxis": "x",
         "y": [
          5831498,
          -3994688,
          1231392,
          522173,
          372379,
          -8185589,
          -1217652,
          4910353
         ],
         "yaxis": "y"
        },
        {
         "marker": {
          "color": "lightgreen"
         },
         "name": "Total Percentage Change",
         "text": [
          "nan",
          "83.69",
          "-31.21",
          "13.99",
          "5.20",
          "3.53",
          "-74.89",
          "-44.36",
          "321.54"
         ],
         "textposition": "inside",
         "type": "bar",
         "x": [
          2013,
          2014,
          2016,
          2017,
          2018,
          2019,
          2020,
          2021,
          2022
         ],
         "xaxis": "x2",
         "y": [
          null,
          83.69,
          -31.21,
          13.99,
          5.2,
          3.53,
          -74.89,
          -44.36,
          321.54
         ],
         "yaxis": "y2"
        }
       ],
       "layout": {
        "annotations": [
         {
          "font": {
           "size": 16
          },
          "showarrow": false,
          "text": "Total Yearly Absolute Change in FTAs",
          "x": 0.225,
          "xanchor": "center",
          "xref": "paper",
          "y": 1,
          "yanchor": "bottom",
          "yref": "paper"
         },
         {
          "font": {
           "size": 16
          },
          "showarrow": false,
          "text": "Total Yearly Percentage Change in FTAs",
          "x": 0.775,
          "xanchor": "center",
          "xref": "paper",
          "y": 1,
          "yanchor": "bottom",
          "yref": "paper"
         }
        ],
        "height": 600,
        "legend": {
         "orientation": "h",
         "x": 0.5,
         "xanchor": "center",
         "y": 1.1,
         "yanchor": "bottom"
        },
        "template": {
         "data": {
          "bar": [
           {
            "error_x": {
             "color": "#2a3f5f"
            },
            "error_y": {
             "color": "#2a3f5f"
            },
            "marker": {
             "line": {
              "color": "white",
              "width": 0.5
             },
             "pattern": {
              "fillmode": "overlay",
              "size": 10,
              "solidity": 0.2
             }
            },
            "type": "bar"
           }
          ],
          "barpolar": [
           {
            "marker": {
             "line": {
              "color": "white",
              "width": 0.5
             },
             "pattern": {
              "fillmode": "overlay",
              "size": 10,
              "solidity": 0.2
             }
            },
            "type": "barpolar"
           }
          ],
          "carpet": [
           {
            "aaxis": {
             "endlinecolor": "#2a3f5f",
             "gridcolor": "#C8D4E3",
             "linecolor": "#C8D4E3",
             "minorgridcolor": "#C8D4E3",
             "startlinecolor": "#2a3f5f"
            },
            "baxis": {
             "endlinecolor": "#2a3f5f",
             "gridcolor": "#C8D4E3",
             "linecolor": "#C8D4E3",
             "minorgridcolor": "#C8D4E3",
             "startlinecolor": "#2a3f5f"
            },
            "type": "carpet"
           }
          ],
          "choropleth": [
           {
            "colorbar": {
             "outlinewidth": 0,
             "ticks": ""
            },
            "type": "choropleth"
           }
          ],
          "contour": [
           {
            "colorbar": {
             "outlinewidth": 0,
             "ticks": ""
            },
            "colorscale": [
             [
              0,
              "#0d0887"
             ],
             [
              0.1111111111111111,
              "#46039f"
             ],
             [
              0.2222222222222222,
              "#7201a8"
             ],
             [
              0.3333333333333333,
              "#9c179e"
             ],
             [
              0.4444444444444444,
              "#bd3786"
             ],
             [
              0.5555555555555556,
              "#d8576b"
             ],
             [
              0.6666666666666666,
              "#ed7953"
             ],
             [
              0.7777777777777778,
              "#fb9f3a"
             ],
             [
              0.8888888888888888,
              "#fdca26"
             ],
             [
              1,
              "#f0f921"
             ]
            ],
            "type": "contour"
           }
          ],
          "contourcarpet": [
           {
            "colorbar": {
             "outlinewidth": 0,
             "ticks": ""
            },
            "type": "contourcarpet"
           }
          ],
          "heatmap": [
           {
            "colorbar": {
             "outlinewidth": 0,
             "ticks": ""
            },
            "colorscale": [
             [
              0,
              "#0d0887"
             ],
             [
              0.1111111111111111,
              "#46039f"
             ],
             [
              0.2222222222222222,
              "#7201a8"
             ],
             [
              0.3333333333333333,
              "#9c179e"
             ],
             [
              0.4444444444444444,
              "#bd3786"
             ],
             [
              0.5555555555555556,
              "#d8576b"
             ],
             [
              0.6666666666666666,
              "#ed7953"
             ],
             [
              0.7777777777777778,
              "#fb9f3a"
             ],
             [
              0.8888888888888888,
              "#fdca26"
             ],
             [
              1,
              "#f0f921"
             ]
            ],
            "type": "heatmap"
           }
          ],
          "heatmapgl": [
           {
            "colorbar": {
             "outlinewidth": 0,
             "ticks": ""
            },
            "colorscale": [
             [
              0,
              "#0d0887"
             ],
             [
              0.1111111111111111,
              "#46039f"
             ],
             [
              0.2222222222222222,
              "#7201a8"
             ],
             [
              0.3333333333333333,
              "#9c179e"
             ],
             [
              0.4444444444444444,
              "#bd3786"
             ],
             [
              0.5555555555555556,
              "#d8576b"
             ],
             [
              0.6666666666666666,
              "#ed7953"
             ],
             [
              0.7777777777777778,
              "#fb9f3a"
             ],
             [
              0.8888888888888888,
              "#fdca26"
             ],
             [
              1,
              "#f0f921"
             ]
            ],
            "type": "heatmapgl"
           }
          ],
          "histogram": [
           {
            "marker": {
             "pattern": {
              "fillmode": "overlay",
              "size": 10,
              "solidity": 0.2
             }
            },
            "type": "histogram"
           }
          ],
          "histogram2d": [
           {
            "colorbar": {
             "outlinewidth": 0,
             "ticks": ""
            },
            "colorscale": [
             [
              0,
              "#0d0887"
             ],
             [
              0.1111111111111111,
              "#46039f"
             ],
             [
              0.2222222222222222,
              "#7201a8"
             ],
             [
              0.3333333333333333,
              "#9c179e"
             ],
             [
              0.4444444444444444,
              "#bd3786"
             ],
             [
              0.5555555555555556,
              "#d8576b"
             ],
             [
              0.6666666666666666,
              "#ed7953"
             ],
             [
              0.7777777777777778,
              "#fb9f3a"
             ],
             [
              0.8888888888888888,
              "#fdca26"
             ],
             [
              1,
              "#f0f921"
             ]
            ],
            "type": "histogram2d"
           }
          ],
          "histogram2dcontour": [
           {
            "colorbar": {
             "outlinewidth": 0,
             "ticks": ""
            },
            "colorscale": [
             [
              0,
              "#0d0887"
             ],
             [
              0.1111111111111111,
              "#46039f"
             ],
             [
              0.2222222222222222,
              "#7201a8"
             ],
             [
              0.3333333333333333,
              "#9c179e"
             ],
             [
              0.4444444444444444,
              "#bd3786"
             ],
             [
              0.5555555555555556,
              "#d8576b"
             ],
             [
              0.6666666666666666,
              "#ed7953"
             ],
             [
              0.7777777777777778,
              "#fb9f3a"
             ],
             [
              0.8888888888888888,
              "#fdca26"
             ],
             [
              1,
              "#f0f921"
             ]
            ],
            "type": "histogram2dcontour"
           }
          ],
          "mesh3d": [
           {
            "colorbar": {
             "outlinewidth": 0,
             "ticks": ""
            },
            "type": "mesh3d"
           }
          ],
          "parcoords": [
           {
            "line": {
             "colorbar": {
              "outlinewidth": 0,
              "ticks": ""
             }
            },
            "type": "parcoords"
           }
          ],
          "pie": [
           {
            "automargin": true,
            "type": "pie"
           }
          ],
          "scatter": [
           {
            "fillpattern": {
             "fillmode": "overlay",
             "size": 10,
             "solidity": 0.2
            },
            "type": "scatter"
           }
          ],
          "scatter3d": [
           {
            "line": {
             "colorbar": {
              "outlinewidth": 0,
              "ticks": ""
             }
            },
            "marker": {
             "colorbar": {
              "outlinewidth": 0,
              "ticks": ""
             }
            },
            "type": "scatter3d"
           }
          ],
          "scattercarpet": [
           {
            "marker": {
             "colorbar": {
              "outlinewidth": 0,
              "ticks": ""
             }
            },
            "type": "scattercarpet"
           }
          ],
          "scattergeo": [
           {
            "marker": {
             "colorbar": {
              "outlinewidth": 0,
              "ticks": ""
             }
            },
            "type": "scattergeo"
           }
          ],
          "scattergl": [
           {
            "marker": {
             "colorbar": {
              "outlinewidth": 0,
              "ticks": ""
             }
            },
            "type": "scattergl"
           }
          ],
          "scattermapbox": [
           {
            "marker": {
             "colorbar": {
              "outlinewidth": 0,
              "ticks": ""
             }
            },
            "type": "scattermapbox"
           }
          ],
          "scatterpolar": [
           {
            "marker": {
             "colorbar": {
              "outlinewidth": 0,
              "ticks": ""
             }
            },
            "type": "scatterpolar"
           }
          ],
          "scatterpolargl": [
           {
            "marker": {
             "colorbar": {
              "outlinewidth": 0,
              "ticks": ""
             }
            },
            "type": "scatterpolargl"
           }
          ],
          "scatterternary": [
           {
            "marker": {
             "colorbar": {
              "outlinewidth": 0,
              "ticks": ""
             }
            },
            "type": "scatterternary"
           }
          ],
          "surface": [
           {
            "colorbar": {
             "outlinewidth": 0,
             "ticks": ""
            },
            "colorscale": [
             [
              0,
              "#0d0887"
             ],
             [
              0.1111111111111111,
              "#46039f"
             ],
             [
              0.2222222222222222,
              "#7201a8"
             ],
             [
              0.3333333333333333,
              "#9c179e"
             ],
             [
              0.4444444444444444,
              "#bd3786"
             ],
             [
              0.5555555555555556,
              "#d8576b"
             ],
             [
              0.6666666666666666,
              "#ed7953"
             ],
             [
              0.7777777777777778,
              "#fb9f3a"
             ],
             [
              0.8888888888888888,
              "#fdca26"
             ],
             [
              1,
              "#f0f921"
             ]
            ],
            "type": "surface"
           }
          ],
          "table": [
           {
            "cells": {
             "fill": {
              "color": "#EBF0F8"
             },
             "line": {
              "color": "white"
             }
            },
            "header": {
             "fill": {
              "color": "#C8D4E3"
             },
             "line": {
              "color": "white"
             }
            },
            "type": "table"
           }
          ]
         },
         "layout": {
          "annotationdefaults": {
           "arrowcolor": "#2a3f5f",
           "arrowhead": 0,
           "arrowwidth": 1
          },
          "autotypenumbers": "strict",
          "coloraxis": {
           "colorbar": {
            "outlinewidth": 0,
            "ticks": ""
           }
          },
          "colorscale": {
           "diverging": [
            [
             0,
             "#8e0152"
            ],
            [
             0.1,
             "#c51b7d"
            ],
            [
             0.2,
             "#de77ae"
            ],
            [
             0.3,
             "#f1b6da"
            ],
            [
             0.4,
             "#fde0ef"
            ],
            [
             0.5,
             "#f7f7f7"
            ],
            [
             0.6,
             "#e6f5d0"
            ],
            [
             0.7,
             "#b8e186"
            ],
            [
             0.8,
             "#7fbc41"
            ],
            [
             0.9,
             "#4d9221"
            ],
            [
             1,
             "#276419"
            ]
           ],
           "sequential": [
            [
             0,
             "#0d0887"
            ],
            [
             0.1111111111111111,
             "#46039f"
            ],
            [
             0.2222222222222222,
             "#7201a8"
            ],
            [
             0.3333333333333333,
             "#9c179e"
            ],
            [
             0.4444444444444444,
             "#bd3786"
            ],
            [
             0.5555555555555556,
             "#d8576b"
            ],
            [
             0.6666666666666666,
             "#ed7953"
            ],
            [
             0.7777777777777778,
             "#fb9f3a"
            ],
            [
             0.8888888888888888,
             "#fdca26"
            ],
            [
             1,
             "#f0f921"
            ]
           ],
           "sequentialminus": [
            [
             0,
             "#0d0887"
            ],
            [
             0.1111111111111111,
             "#46039f"
            ],
            [
             0.2222222222222222,
             "#7201a8"
            ],
            [
             0.3333333333333333,
             "#9c179e"
            ],
            [
             0.4444444444444444,
             "#bd3786"
            ],
            [
             0.5555555555555556,
             "#d8576b"
            ],
            [
             0.6666666666666666,
             "#ed7953"
            ],
            [
             0.7777777777777778,
             "#fb9f3a"
            ],
            [
             0.8888888888888888,
             "#fdca26"
            ],
            [
             1,
             "#f0f921"
            ]
           ]
          },
          "colorway": [
           "#636efa",
           "#EF553B",
           "#00cc96",
           "#ab63fa",
           "#FFA15A",
           "#19d3f3",
           "#FF6692",
           "#B6E880",
           "#FF97FF",
           "#FECB52"
          ],
          "font": {
           "color": "#2a3f5f"
          },
          "geo": {
           "bgcolor": "white",
           "lakecolor": "white",
           "landcolor": "white",
           "showlakes": true,
           "showland": true,
           "subunitcolor": "#C8D4E3"
          },
          "hoverlabel": {
           "align": "left"
          },
          "hovermode": "closest",
          "mapbox": {
           "style": "light"
          },
          "paper_bgcolor": "white",
          "plot_bgcolor": "white",
          "polar": {
           "angularaxis": {
            "gridcolor": "#EBF0F8",
            "linecolor": "#EBF0F8",
            "ticks": ""
           },
           "bgcolor": "white",
           "radialaxis": {
            "gridcolor": "#EBF0F8",
            "linecolor": "#EBF0F8",
            "ticks": ""
           }
          },
          "scene": {
           "xaxis": {
            "backgroundcolor": "white",
            "gridcolor": "#DFE8F3",
            "gridwidth": 2,
            "linecolor": "#EBF0F8",
            "showbackground": true,
            "ticks": "",
            "zerolinecolor": "#EBF0F8"
           },
           "yaxis": {
            "backgroundcolor": "white",
            "gridcolor": "#DFE8F3",
            "gridwidth": 2,
            "linecolor": "#EBF0F8",
            "showbackground": true,
            "ticks": "",
            "zerolinecolor": "#EBF0F8"
           },
           "zaxis": {
            "backgroundcolor": "white",
            "gridcolor": "#DFE8F3",
            "gridwidth": 2,
            "linecolor": "#EBF0F8",
            "showbackground": true,
            "ticks": "",
            "zerolinecolor": "#EBF0F8"
           }
          },
          "shapedefaults": {
           "line": {
            "color": "#2a3f5f"
           }
          },
          "ternary": {
           "aaxis": {
            "gridcolor": "#DFE8F3",
            "linecolor": "#A2B1C6",
            "ticks": ""
           },
           "baxis": {
            "gridcolor": "#DFE8F3",
            "linecolor": "#A2B1C6",
            "ticks": ""
           },
           "bgcolor": "white",
           "caxis": {
            "gridcolor": "#DFE8F3",
            "linecolor": "#A2B1C6",
            "ticks": ""
           }
          },
          "title": {
           "x": 0.05
          },
          "xaxis": {
           "automargin": true,
           "gridcolor": "#EBF0F8",
           "linecolor": "#EBF0F8",
           "ticks": "",
           "title": {
            "standoff": 15
           },
           "zerolinecolor": "#EBF0F8",
           "zerolinewidth": 2
          },
          "yaxis": {
           "automargin": true,
           "gridcolor": "#EBF0F8",
           "linecolor": "#EBF0F8",
           "ticks": "",
           "title": {
            "standoff": 15
           },
           "zerolinecolor": "#EBF0F8",
           "zerolinewidth": 2
          }
         }
        },
        "xaxis": {
         "anchor": "y",
         "domain": [
          0,
          0.45
         ],
         "title": {
          "text": "Year"
         }
        },
        "xaxis2": {
         "anchor": "y2",
         "domain": [
          0.55,
          1
         ],
         "title": {
          "text": "Year"
         }
        },
        "yaxis": {
         "anchor": "x",
         "domain": [
          0,
          1
         ],
         "title": {
          "text": "Total Absolute Change"
         }
        },
        "yaxis2": {
         "anchor": "x2",
         "domain": [
          0,
          1
         ],
         "title": {
          "text": "Total Percentage Change (%)"
         }
        }
       }
      }
     },
     "metadata": {},
     "output_type": "display_data"
    }
   ],
   "source": [
    "import plotly.graph_objects as go\n",
    "from plotly.subplots import make_subplots\n",
    "\n",
    "# Assuming yearly_total_change_abs and yearly_total_change_pct are defined DataFrames/Series\n",
    "\n",
    "# Create a figure with two subplots side by side\n",
    "fig = make_subplots(rows=1, cols=2, subplot_titles=(\"Total Yearly Absolute Change in FTAs\", \"Total Yearly Percentage Change in FTAs\"))\n",
    "\n",
    "# Plotting total absolute change for each year (yearly_total_change_abs) as a bar plot\n",
    "fig.add_trace(go.Bar(\n",
    "    x=yearly_total_change_abs.index,\n",
    "    y=yearly_total_change_abs.values,\n",
    "    text=[f'{val:.2f}' for val in yearly_total_change_abs.values],  # Show values inside bars\n",
    "    textposition='inside',\n",
    "    marker_color='skyblue',\n",
    "    name='Total Absolute Change'\n",
    "), row=1, col=1)\n",
    "\n",
    "# Plotting total percentage change for each year (yearly_total_change_pct) as a bar plot\n",
    "fig.add_trace(go.Bar(\n",
    "    x=yearly_total_change_pct.index,\n",
    "    y=yearly_total_change_pct.values,\n",
    "    text=[f'{val:.2f}' for val in yearly_total_change_pct.values],  # Show values inside bars\n",
    "    textposition='inside',\n",
    "    marker_color='lightgreen',\n",
    "    name='Total Percentage Change'\n",
    "), row=1, col=2)\n",
    "\n",
    "# Update layout for the figure\n",
    "fig.update_layout(\n",
    "    # title=\"Total Yearly Change in FTAs (Absolute and Percentage)\",\n",
    "    xaxis_title=\"Year\",\n",
    "    yaxis_title=\"Change\",\n",
    "    template=\"plotly_white\",  # Light theme\n",
    "    height=600,\n",
    "    legend=dict(\n",
    "        orientation=\"h\",  # Horizontal legend\n",
    "        yanchor=\"bottom\",  # Anchor legend to bottom\n",
    "        y=1.1,             # Position legend above the plot\n",
    "        xanchor=\"center\",  # Center align the legend\n",
    "        x=0.5              # Position in the middle horizontally\n",
    "    )\n",
    ")\n",
    "\n",
    "# Update individual axis titles for each subplot\n",
    "fig.update_xaxes(title_text=\"Year\", row=1, col=1)\n",
    "fig.update_yaxes(title_text=\"Total Absolute Change\", row=1, col=1)\n",
    "fig.update_xaxes(title_text=\"Year\", row=1, col=2)\n",
    "fig.update_yaxes(title_text=\"Total Percentage Change (%)\", row=1, col=2)\n",
    "\n",
    "# Show the plot\n",
    "fig.show()"
   ]
  },
  {
   "cell_type": "markdown",
   "metadata": {},
   "source": [
    "# 2 -> Every Month"
   ]
  },
  {
   "cell_type": "code",
   "execution_count": 93,
   "metadata": {},
   "outputs": [
    {
     "data": {
      "text/html": [
       "<div>\n",
       "<style scoped>\n",
       "    .dataframe tbody tr th:only-of-type {\n",
       "        vertical-align: middle;\n",
       "    }\n",
       "\n",
       "    .dataframe tbody tr th {\n",
       "        vertical-align: top;\n",
       "    }\n",
       "\n",
       "    .dataframe thead th {\n",
       "        text-align: right;\n",
       "    }\n",
       "</style>\n",
       "<table border=\"1\" class=\"dataframe\">\n",
       "  <thead>\n",
       "    <tr style=\"text-align: right;\">\n",
       "      <th>Year</th>\n",
       "      <th>2014</th>\n",
       "      <th>2016</th>\n",
       "      <th>2017</th>\n",
       "      <th>2018</th>\n",
       "      <th>2019</th>\n",
       "      <th>2020</th>\n",
       "      <th>2021</th>\n",
       "      <th>2022</th>\n",
       "    </tr>\n",
       "    <tr>\n",
       "      <th>Month</th>\n",
       "      <th></th>\n",
       "      <th></th>\n",
       "      <th></th>\n",
       "      <th></th>\n",
       "      <th></th>\n",
       "      <th></th>\n",
       "      <th></th>\n",
       "      <th></th>\n",
       "    </tr>\n",
       "  </thead>\n",
       "  <tbody>\n",
       "    <tr>\n",
       "      <th>January</th>\n",
       "      <td>37465</td>\n",
       "      <td>86747</td>\n",
       "      <td>119576</td>\n",
       "      <td>80918</td>\n",
       "      <td>66013</td>\n",
       "      <td>8210</td>\n",
       "      <td>-1024588</td>\n",
       "      <td>121273</td>\n",
       "    </tr>\n",
       "    <tr>\n",
       "      <th>February</th>\n",
       "      <td>67109</td>\n",
       "      <td>93104</td>\n",
       "      <td>82243</td>\n",
       "      <td>118234</td>\n",
       "      <td>41257</td>\n",
       "      <td>-72076</td>\n",
       "      <td>-908128</td>\n",
       "      <td>144226</td>\n",
       "    </tr>\n",
       "    <tr>\n",
       "      <th>March</th>\n",
       "      <td>50911</td>\n",
       "      <td>118666</td>\n",
       "      <td>76829</td>\n",
       "      <td>135603</td>\n",
       "      <td>-43303</td>\n",
       "      <td>-649932</td>\n",
       "      <td>-194536</td>\n",
       "      <td>224255</td>\n",
       "    </tr>\n",
       "    <tr>\n",
       "      <th>April</th>\n",
       "      <td>84741</td>\n",
       "      <td>56683</td>\n",
       "      <td>125895</td>\n",
       "      <td>27134</td>\n",
       "      <td>29618</td>\n",
       "      <td>-771831</td>\n",
       "      <td>75898</td>\n",
       "      <td>332292</td>\n",
       "    </tr>\n",
       "    <tr>\n",
       "      <th>May</th>\n",
       "      <td>47590</td>\n",
       "      <td>62423</td>\n",
       "      <td>94942</td>\n",
       "      <td>-15895</td>\n",
       "      <td>8623</td>\n",
       "      <td>-611372</td>\n",
       "      <td>16001</td>\n",
       "      <td>425925</td>\n",
       "    </tr>\n",
       "    <tr>\n",
       "      <th>June</th>\n",
       "      <td>50805</td>\n",
       "      <td>44944</td>\n",
       "      <td>116498</td>\n",
       "      <td>20465</td>\n",
       "      <td>42511</td>\n",
       "      <td>-717856</td>\n",
       "      <td>27480</td>\n",
       "      <td>511004</td>\n",
       "    </tr>\n",
       "    <tr>\n",
       "      <th>July</th>\n",
       "      <td>5182444</td>\n",
       "      <td>-4955037</td>\n",
       "      <td>45475</td>\n",
       "      <td>27184</td>\n",
       "      <td>11632</td>\n",
       "      <td>-805470</td>\n",
       "      <td>59846</td>\n",
       "      <td>596998</td>\n",
       "    </tr>\n",
       "    <tr>\n",
       "      <th>August</th>\n",
       "      <td>89412</td>\n",
       "      <td>76361</td>\n",
       "      <td>67018</td>\n",
       "      <td>66864</td>\n",
       "      <td>14844</td>\n",
       "      <td>-781076</td>\n",
       "      <td>72967</td>\n",
       "      <td>432028</td>\n",
       "    </tr>\n",
       "    <tr>\n",
       "      <th>September</th>\n",
       "      <td>55581</td>\n",
       "      <td>99035</td>\n",
       "      <td>111787</td>\n",
       "      <td>-70</td>\n",
       "      <td>31619</td>\n",
       "      <td>-723346</td>\n",
       "      <td>87494</td>\n",
       "      <td>435919</td>\n",
       "    </tr>\n",
       "    <tr>\n",
       "      <th>October</th>\n",
       "      <td>70303</td>\n",
       "      <td>73372</td>\n",
       "      <td>125206</td>\n",
       "      <td>23247</td>\n",
       "      <td>54794</td>\n",
       "      <td>-903523</td>\n",
       "      <td>149921</td>\n",
       "      <td>485640</td>\n",
       "    </tr>\n",
       "    <tr>\n",
       "      <th>November</th>\n",
       "      <td>31574</td>\n",
       "      <td>112783</td>\n",
       "      <td>119458</td>\n",
       "      <td>14831</td>\n",
       "      <td>79871</td>\n",
       "      <td>-1021463</td>\n",
       "      <td>192890</td>\n",
       "      <td>525463</td>\n",
       "    </tr>\n",
       "    <tr>\n",
       "      <th>December</th>\n",
       "      <td>63563</td>\n",
       "      <td>136231</td>\n",
       "      <td>146465</td>\n",
       "      <td>23658</td>\n",
       "      <td>34900</td>\n",
       "      <td>-1135854</td>\n",
       "      <td>227103</td>\n",
       "      <td>675330</td>\n",
       "    </tr>\n",
       "  </tbody>\n",
       "</table>\n",
       "</div>"
      ],
      "text/plain": [
       "Year          2014     2016    2017    2018   2019     2020     2021    2022\n",
       "Month                                                                       \n",
       "January      37465    86747  119576   80918  66013     8210 -1024588  121273\n",
       "February     67109    93104   82243  118234  41257   -72076  -908128  144226\n",
       "March        50911   118666   76829  135603 -43303  -649932  -194536  224255\n",
       "April        84741    56683  125895   27134  29618  -771831    75898  332292\n",
       "May          47590    62423   94942  -15895   8623  -611372    16001  425925\n",
       "June         50805    44944  116498   20465  42511  -717856    27480  511004\n",
       "July       5182444 -4955037   45475   27184  11632  -805470    59846  596998\n",
       "August       89412    76361   67018   66864  14844  -781076    72967  432028\n",
       "September    55581    99035  111787     -70  31619  -723346    87494  435919\n",
       "October      70303    73372  125206   23247  54794  -903523   149921  485640\n",
       "November     31574   112783  119458   14831  79871 -1021463   192890  525463\n",
       "December     63563   136231  146465   23658  34900 -1135854   227103  675330"
      ]
     },
     "execution_count": 93,
     "metadata": {},
     "output_type": "execute_result"
    }
   ],
   "source": [
    "# Calculate year-over-year absolute change and percentage change\n",
    "yearly_change_abs = df_pivot.diff(axis=1).drop(columns=2013)  # Skip 2013 as there's no prior year\n",
    "yearly_change_pct = df_pivot.pct_change(axis=1).drop(columns=2013) * 100  # Convert to percentage\n",
    "\n",
    "yearly_change_pct = yearly_change_pct.round(2)\n",
    "\n",
    "# Display changes for each year\n",
    "# print(\"Yearly Absolute Change:\\n\", yearly_change_abs)\n",
    "yearly_change_abs"
   ]
  },
  {
   "cell_type": "code",
   "execution_count": 94,
   "metadata": {},
   "outputs": [
    {
     "data": {
      "text/html": [
       "<div>\n",
       "<style scoped>\n",
       "    .dataframe tbody tr th:only-of-type {\n",
       "        vertical-align: middle;\n",
       "    }\n",
       "\n",
       "    .dataframe tbody tr th {\n",
       "        vertical-align: top;\n",
       "    }\n",
       "\n",
       "    .dataframe thead th {\n",
       "        text-align: right;\n",
       "    }\n",
       "</style>\n",
       "<table border=\"1\" class=\"dataframe\">\n",
       "  <thead>\n",
       "    <tr style=\"text-align: right;\">\n",
       "      <th>Year</th>\n",
       "      <th>2014</th>\n",
       "      <th>2016</th>\n",
       "      <th>2017</th>\n",
       "      <th>2018</th>\n",
       "      <th>2019</th>\n",
       "      <th>2020</th>\n",
       "      <th>2021</th>\n",
       "      <th>2022</th>\n",
       "    </tr>\n",
       "    <tr>\n",
       "      <th>Month</th>\n",
       "      <th></th>\n",
       "      <th></th>\n",
       "      <th></th>\n",
       "      <th></th>\n",
       "      <th></th>\n",
       "      <th></th>\n",
       "      <th></th>\n",
       "      <th></th>\n",
       "    </tr>\n",
       "  </thead>\n",
       "  <tbody>\n",
       "    <tr>\n",
       "      <th>January</th>\n",
       "      <td>5.20</td>\n",
       "      <td>11.45</td>\n",
       "      <td>14.16</td>\n",
       "      <td>8.39</td>\n",
       "      <td>6.32</td>\n",
       "      <td>0.74</td>\n",
       "      <td>-91.54</td>\n",
       "      <td>128.11</td>\n",
       "    </tr>\n",
       "    <tr>\n",
       "      <th>February</th>\n",
       "      <td>9.75</td>\n",
       "      <td>12.32</td>\n",
       "      <td>9.69</td>\n",
       "      <td>12.70</td>\n",
       "      <td>3.93</td>\n",
       "      <td>-6.61</td>\n",
       "      <td>-89.17</td>\n",
       "      <td>130.74</td>\n",
       "    </tr>\n",
       "    <tr>\n",
       "      <th>March</th>\n",
       "      <td>7.96</td>\n",
       "      <td>17.19</td>\n",
       "      <td>9.50</td>\n",
       "      <td>15.31</td>\n",
       "      <td>-4.24</td>\n",
       "      <td>-66.44</td>\n",
       "      <td>-59.25</td>\n",
       "      <td>167.64</td>\n",
       "    </tr>\n",
       "    <tr>\n",
       "      <th>April</th>\n",
       "      <td>18.81</td>\n",
       "      <td>10.59</td>\n",
       "      <td>21.27</td>\n",
       "      <td>3.78</td>\n",
       "      <td>3.98</td>\n",
       "      <td>-99.64</td>\n",
       "      <td>2691.42</td>\n",
       "      <td>422.13</td>\n",
       "    </tr>\n",
       "    <tr>\n",
       "      <th>May</th>\n",
       "      <td>11.40</td>\n",
       "      <td>13.42</td>\n",
       "      <td>18.00</td>\n",
       "      <td>-2.55</td>\n",
       "      <td>1.42</td>\n",
       "      <td>-99.39</td>\n",
       "      <td>425.11</td>\n",
       "      <td>2154.95</td>\n",
       "    </tr>\n",
       "    <tr>\n",
       "      <th>June</th>\n",
       "      <td>11.26</td>\n",
       "      <td>8.95</td>\n",
       "      <td>21.30</td>\n",
       "      <td>3.08</td>\n",
       "      <td>6.22</td>\n",
       "      <td>-98.82</td>\n",
       "      <td>319.91</td>\n",
       "      <td>1416.70</td>\n",
       "    </tr>\n",
       "    <tr>\n",
       "      <th>July</th>\n",
       "      <td>1023.33</td>\n",
       "      <td>-87.10</td>\n",
       "      <td>6.20</td>\n",
       "      <td>3.49</td>\n",
       "      <td>1.44</td>\n",
       "      <td>-98.45</td>\n",
       "      <td>472.90</td>\n",
       "      <td>823.43</td>\n",
       "    </tr>\n",
       "    <tr>\n",
       "      <th>August</th>\n",
       "      <td>18.38</td>\n",
       "      <td>13.26</td>\n",
       "      <td>10.28</td>\n",
       "      <td>9.30</td>\n",
       "      <td>1.89</td>\n",
       "      <td>-97.53</td>\n",
       "      <td>369.25</td>\n",
       "      <td>465.91</td>\n",
       "    </tr>\n",
       "    <tr>\n",
       "      <th>September</th>\n",
       "      <td>12.25</td>\n",
       "      <td>19.45</td>\n",
       "      <td>18.38</td>\n",
       "      <td>-0.01</td>\n",
       "      <td>4.39</td>\n",
       "      <td>-96.25</td>\n",
       "      <td>310.63</td>\n",
       "      <td>376.89</td>\n",
       "    </tr>\n",
       "    <tr>\n",
       "      <th>October</th>\n",
       "      <td>11.75</td>\n",
       "      <td>10.98</td>\n",
       "      <td>16.88</td>\n",
       "      <td>2.68</td>\n",
       "      <td>6.16</td>\n",
       "      <td>-95.61</td>\n",
       "      <td>361.31</td>\n",
       "      <td>253.71</td>\n",
       "    </tr>\n",
       "    <tr>\n",
       "      <th>November</th>\n",
       "      <td>4.30</td>\n",
       "      <td>14.73</td>\n",
       "      <td>13.60</td>\n",
       "      <td>1.49</td>\n",
       "      <td>7.89</td>\n",
       "      <td>-93.50</td>\n",
       "      <td>271.76</td>\n",
       "      <td>199.14</td>\n",
       "    </tr>\n",
       "    <tr>\n",
       "      <th>December</th>\n",
       "      <td>7.74</td>\n",
       "      <td>15.39</td>\n",
       "      <td>14.34</td>\n",
       "      <td>2.03</td>\n",
       "      <td>2.93</td>\n",
       "      <td>-92.62</td>\n",
       "      <td>250.82</td>\n",
       "      <td>212.60</td>\n",
       "    </tr>\n",
       "  </tbody>\n",
       "</table>\n",
       "</div>"
      ],
      "text/plain": [
       "Year          2014   2016   2017   2018  2019   2020     2021     2022\n",
       "Month                                                                 \n",
       "January       5.20  11.45  14.16   8.39  6.32   0.74   -91.54   128.11\n",
       "February      9.75  12.32   9.69  12.70  3.93  -6.61   -89.17   130.74\n",
       "March         7.96  17.19   9.50  15.31 -4.24 -66.44   -59.25   167.64\n",
       "April        18.81  10.59  21.27   3.78  3.98 -99.64  2691.42   422.13\n",
       "May          11.40  13.42  18.00  -2.55  1.42 -99.39   425.11  2154.95\n",
       "June         11.26   8.95  21.30   3.08  6.22 -98.82   319.91  1416.70\n",
       "July       1023.33 -87.10   6.20   3.49  1.44 -98.45   472.90   823.43\n",
       "August       18.38  13.26  10.28   9.30  1.89 -97.53   369.25   465.91\n",
       "September    12.25  19.45  18.38  -0.01  4.39 -96.25   310.63   376.89\n",
       "October      11.75  10.98  16.88   2.68  6.16 -95.61   361.31   253.71\n",
       "November      4.30  14.73  13.60   1.49  7.89 -93.50   271.76   199.14\n",
       "December      7.74  15.39  14.34   2.03  2.93 -92.62   250.82   212.60"
      ]
     },
     "execution_count": 94,
     "metadata": {},
     "output_type": "execute_result"
    }
   ],
   "source": [
    "# print(\"Yearly Percentage Change:\\n\", yearly_change_pct)\n",
    "yearly_change_pct"
   ]
  },
  {
   "cell_type": "code",
   "execution_count": 95,
   "metadata": {},
   "outputs": [],
   "source": [
    "# yearly_change_abs.to_csv(\"1_a_a_yearly_absolute_change.csv\",index_label=False)\n",
    "# yearly_change_pct.to_csv(\"1_a_b_yearly_percentage_change.csv\",index_label=False)\n",
    "yearly_change_abs.to_csv(\"2_Monthly_absolute_change.csv\")\n",
    "yearly_change_pct.to_csv(\"2_Monthly_percent_change.csv\")"
   ]
  },
  {
   "cell_type": "code",
   "execution_count": 96,
   "metadata": {},
   "outputs": [
    {
     "data": {
      "application/vnd.plotly.v1+json": {
       "config": {
        "plotlyServerURL": "https://plot.ly"
       },
       "data": [
        {
         "hovertemplate": "2014: {y:.2f}",
         "mode": "lines+markers",
         "name": "2014",
         "type": "scatter",
         "x": [
          "January",
          "February",
          "March",
          "April",
          "May",
          "June",
          "July",
          "August",
          "September",
          "October",
          "November",
          "December"
         ],
         "y": [
          37465,
          67109,
          50911,
          84741,
          47590,
          50805,
          5182444,
          89412,
          55581,
          70303,
          31574,
          63563
         ]
        },
        {
         "hovertemplate": "2016: {y:.2f}",
         "mode": "lines+markers",
         "name": "2016",
         "type": "scatter",
         "x": [
          "January",
          "February",
          "March",
          "April",
          "May",
          "June",
          "July",
          "August",
          "September",
          "October",
          "November",
          "December"
         ],
         "y": [
          86747,
          93104,
          118666,
          56683,
          62423,
          44944,
          -4955037,
          76361,
          99035,
          73372,
          112783,
          136231
         ]
        },
        {
         "hovertemplate": "2017: {y:.2f}",
         "mode": "lines+markers",
         "name": "2017",
         "type": "scatter",
         "x": [
          "January",
          "February",
          "March",
          "April",
          "May",
          "June",
          "July",
          "August",
          "September",
          "October",
          "November",
          "December"
         ],
         "y": [
          119576,
          82243,
          76829,
          125895,
          94942,
          116498,
          45475,
          67018,
          111787,
          125206,
          119458,
          146465
         ]
        },
        {
         "hovertemplate": "2018: {y:.2f}",
         "mode": "lines+markers",
         "name": "2018",
         "type": "scatter",
         "x": [
          "January",
          "February",
          "March",
          "April",
          "May",
          "June",
          "July",
          "August",
          "September",
          "October",
          "November",
          "December"
         ],
         "y": [
          80918,
          118234,
          135603,
          27134,
          -15895,
          20465,
          27184,
          66864,
          -70,
          23247,
          14831,
          23658
         ]
        },
        {
         "hovertemplate": "2019: {y:.2f}",
         "mode": "lines+markers",
         "name": "2019",
         "type": "scatter",
         "x": [
          "January",
          "February",
          "March",
          "April",
          "May",
          "June",
          "July",
          "August",
          "September",
          "October",
          "November",
          "December"
         ],
         "y": [
          66013,
          41257,
          -43303,
          29618,
          8623,
          42511,
          11632,
          14844,
          31619,
          54794,
          79871,
          34900
         ]
        },
        {
         "hovertemplate": "2020: {y:.2f}",
         "mode": "lines+markers",
         "name": "2020",
         "type": "scatter",
         "x": [
          "January",
          "February",
          "March",
          "April",
          "May",
          "June",
          "July",
          "August",
          "September",
          "October",
          "November",
          "December"
         ],
         "y": [
          8210,
          -72076,
          -649932,
          -771831,
          -611372,
          -717856,
          -805470,
          -781076,
          -723346,
          -903523,
          -1021463,
          -1135854
         ]
        },
        {
         "hovertemplate": "2021: {y:.2f}",
         "mode": "lines+markers",
         "name": "2021",
         "type": "scatter",
         "x": [
          "January",
          "February",
          "March",
          "April",
          "May",
          "June",
          "July",
          "August",
          "September",
          "October",
          "November",
          "December"
         ],
         "y": [
          -1024588,
          -908128,
          -194536,
          75898,
          16001,
          27480,
          59846,
          72967,
          87494,
          149921,
          192890,
          227103
         ]
        },
        {
         "hovertemplate": "2022: {y:.2f}",
         "mode": "lines+markers",
         "name": "2022",
         "type": "scatter",
         "x": [
          "January",
          "February",
          "March",
          "April",
          "May",
          "June",
          "July",
          "August",
          "September",
          "October",
          "November",
          "December"
         ],
         "y": [
          121273,
          144226,
          224255,
          332292,
          425925,
          511004,
          596998,
          432028,
          435919,
          485640,
          525463,
          675330
         ]
        }
       ],
       "layout": {
        "height": 600,
        "legend": {
         "title": {
          "text": "Year"
         }
        },
        "template": {
         "data": {
          "bar": [
           {
            "error_x": {
             "color": "#2a3f5f"
            },
            "error_y": {
             "color": "#2a3f5f"
            },
            "marker": {
             "line": {
              "color": "white",
              "width": 0.5
             },
             "pattern": {
              "fillmode": "overlay",
              "size": 10,
              "solidity": 0.2
             }
            },
            "type": "bar"
           }
          ],
          "barpolar": [
           {
            "marker": {
             "line": {
              "color": "white",
              "width": 0.5
             },
             "pattern": {
              "fillmode": "overlay",
              "size": 10,
              "solidity": 0.2
             }
            },
            "type": "barpolar"
           }
          ],
          "carpet": [
           {
            "aaxis": {
             "endlinecolor": "#2a3f5f",
             "gridcolor": "#C8D4E3",
             "linecolor": "#C8D4E3",
             "minorgridcolor": "#C8D4E3",
             "startlinecolor": "#2a3f5f"
            },
            "baxis": {
             "endlinecolor": "#2a3f5f",
             "gridcolor": "#C8D4E3",
             "linecolor": "#C8D4E3",
             "minorgridcolor": "#C8D4E3",
             "startlinecolor": "#2a3f5f"
            },
            "type": "carpet"
           }
          ],
          "choropleth": [
           {
            "colorbar": {
             "outlinewidth": 0,
             "ticks": ""
            },
            "type": "choropleth"
           }
          ],
          "contour": [
           {
            "colorbar": {
             "outlinewidth": 0,
             "ticks": ""
            },
            "colorscale": [
             [
              0,
              "#0d0887"
             ],
             [
              0.1111111111111111,
              "#46039f"
             ],
             [
              0.2222222222222222,
              "#7201a8"
             ],
             [
              0.3333333333333333,
              "#9c179e"
             ],
             [
              0.4444444444444444,
              "#bd3786"
             ],
             [
              0.5555555555555556,
              "#d8576b"
             ],
             [
              0.6666666666666666,
              "#ed7953"
             ],
             [
              0.7777777777777778,
              "#fb9f3a"
             ],
             [
              0.8888888888888888,
              "#fdca26"
             ],
             [
              1,
              "#f0f921"
             ]
            ],
            "type": "contour"
           }
          ],
          "contourcarpet": [
           {
            "colorbar": {
             "outlinewidth": 0,
             "ticks": ""
            },
            "type": "contourcarpet"
           }
          ],
          "heatmap": [
           {
            "colorbar": {
             "outlinewidth": 0,
             "ticks": ""
            },
            "colorscale": [
             [
              0,
              "#0d0887"
             ],
             [
              0.1111111111111111,
              "#46039f"
             ],
             [
              0.2222222222222222,
              "#7201a8"
             ],
             [
              0.3333333333333333,
              "#9c179e"
             ],
             [
              0.4444444444444444,
              "#bd3786"
             ],
             [
              0.5555555555555556,
              "#d8576b"
             ],
             [
              0.6666666666666666,
              "#ed7953"
             ],
             [
              0.7777777777777778,
              "#fb9f3a"
             ],
             [
              0.8888888888888888,
              "#fdca26"
             ],
             [
              1,
              "#f0f921"
             ]
            ],
            "type": "heatmap"
           }
          ],
          "heatmapgl": [
           {
            "colorbar": {
             "outlinewidth": 0,
             "ticks": ""
            },
            "colorscale": [
             [
              0,
              "#0d0887"
             ],
             [
              0.1111111111111111,
              "#46039f"
             ],
             [
              0.2222222222222222,
              "#7201a8"
             ],
             [
              0.3333333333333333,
              "#9c179e"
             ],
             [
              0.4444444444444444,
              "#bd3786"
             ],
             [
              0.5555555555555556,
              "#d8576b"
             ],
             [
              0.6666666666666666,
              "#ed7953"
             ],
             [
              0.7777777777777778,
              "#fb9f3a"
             ],
             [
              0.8888888888888888,
              "#fdca26"
             ],
             [
              1,
              "#f0f921"
             ]
            ],
            "type": "heatmapgl"
           }
          ],
          "histogram": [
           {
            "marker": {
             "pattern": {
              "fillmode": "overlay",
              "size": 10,
              "solidity": 0.2
             }
            },
            "type": "histogram"
           }
          ],
          "histogram2d": [
           {
            "colorbar": {
             "outlinewidth": 0,
             "ticks": ""
            },
            "colorscale": [
             [
              0,
              "#0d0887"
             ],
             [
              0.1111111111111111,
              "#46039f"
             ],
             [
              0.2222222222222222,
              "#7201a8"
             ],
             [
              0.3333333333333333,
              "#9c179e"
             ],
             [
              0.4444444444444444,
              "#bd3786"
             ],
             [
              0.5555555555555556,
              "#d8576b"
             ],
             [
              0.6666666666666666,
              "#ed7953"
             ],
             [
              0.7777777777777778,
              "#fb9f3a"
             ],
             [
              0.8888888888888888,
              "#fdca26"
             ],
             [
              1,
              "#f0f921"
             ]
            ],
            "type": "histogram2d"
           }
          ],
          "histogram2dcontour": [
           {
            "colorbar": {
             "outlinewidth": 0,
             "ticks": ""
            },
            "colorscale": [
             [
              0,
              "#0d0887"
             ],
             [
              0.1111111111111111,
              "#46039f"
             ],
             [
              0.2222222222222222,
              "#7201a8"
             ],
             [
              0.3333333333333333,
              "#9c179e"
             ],
             [
              0.4444444444444444,
              "#bd3786"
             ],
             [
              0.5555555555555556,
              "#d8576b"
             ],
             [
              0.6666666666666666,
              "#ed7953"
             ],
             [
              0.7777777777777778,
              "#fb9f3a"
             ],
             [
              0.8888888888888888,
              "#fdca26"
             ],
             [
              1,
              "#f0f921"
             ]
            ],
            "type": "histogram2dcontour"
           }
          ],
          "mesh3d": [
           {
            "colorbar": {
             "outlinewidth": 0,
             "ticks": ""
            },
            "type": "mesh3d"
           }
          ],
          "parcoords": [
           {
            "line": {
             "colorbar": {
              "outlinewidth": 0,
              "ticks": ""
             }
            },
            "type": "parcoords"
           }
          ],
          "pie": [
           {
            "automargin": true,
            "type": "pie"
           }
          ],
          "scatter": [
           {
            "fillpattern": {
             "fillmode": "overlay",
             "size": 10,
             "solidity": 0.2
            },
            "type": "scatter"
           }
          ],
          "scatter3d": [
           {
            "line": {
             "colorbar": {
              "outlinewidth": 0,
              "ticks": ""
             }
            },
            "marker": {
             "colorbar": {
              "outlinewidth": 0,
              "ticks": ""
             }
            },
            "type": "scatter3d"
           }
          ],
          "scattercarpet": [
           {
            "marker": {
             "colorbar": {
              "outlinewidth": 0,
              "ticks": ""
             }
            },
            "type": "scattercarpet"
           }
          ],
          "scattergeo": [
           {
            "marker": {
             "colorbar": {
              "outlinewidth": 0,
              "ticks": ""
             }
            },
            "type": "scattergeo"
           }
          ],
          "scattergl": [
           {
            "marker": {
             "colorbar": {
              "outlinewidth": 0,
              "ticks": ""
             }
            },
            "type": "scattergl"
           }
          ],
          "scattermapbox": [
           {
            "marker": {
             "colorbar": {
              "outlinewidth": 0,
              "ticks": ""
             }
            },
            "type": "scattermapbox"
           }
          ],
          "scatterpolar": [
           {
            "marker": {
             "colorbar": {
              "outlinewidth": 0,
              "ticks": ""
             }
            },
            "type": "scatterpolar"
           }
          ],
          "scatterpolargl": [
           {
            "marker": {
             "colorbar": {
              "outlinewidth": 0,
              "ticks": ""
             }
            },
            "type": "scatterpolargl"
           }
          ],
          "scatterternary": [
           {
            "marker": {
             "colorbar": {
              "outlinewidth": 0,
              "ticks": ""
             }
            },
            "type": "scatterternary"
           }
          ],
          "surface": [
           {
            "colorbar": {
             "outlinewidth": 0,
             "ticks": ""
            },
            "colorscale": [
             [
              0,
              "#0d0887"
             ],
             [
              0.1111111111111111,
              "#46039f"
             ],
             [
              0.2222222222222222,
              "#7201a8"
             ],
             [
              0.3333333333333333,
              "#9c179e"
             ],
             [
              0.4444444444444444,
              "#bd3786"
             ],
             [
              0.5555555555555556,
              "#d8576b"
             ],
             [
              0.6666666666666666,
              "#ed7953"
             ],
             [
              0.7777777777777778,
              "#fb9f3a"
             ],
             [
              0.8888888888888888,
              "#fdca26"
             ],
             [
              1,
              "#f0f921"
             ]
            ],
            "type": "surface"
           }
          ],
          "table": [
           {
            "cells": {
             "fill": {
              "color": "#EBF0F8"
             },
             "line": {
              "color": "white"
             }
            },
            "header": {
             "fill": {
              "color": "#C8D4E3"
             },
             "line": {
              "color": "white"
             }
            },
            "type": "table"
           }
          ]
         },
         "layout": {
          "annotationdefaults": {
           "arrowcolor": "#2a3f5f",
           "arrowhead": 0,
           "arrowwidth": 1
          },
          "autotypenumbers": "strict",
          "coloraxis": {
           "colorbar": {
            "outlinewidth": 0,
            "ticks": ""
           }
          },
          "colorscale": {
           "diverging": [
            [
             0,
             "#8e0152"
            ],
            [
             0.1,
             "#c51b7d"
            ],
            [
             0.2,
             "#de77ae"
            ],
            [
             0.3,
             "#f1b6da"
            ],
            [
             0.4,
             "#fde0ef"
            ],
            [
             0.5,
             "#f7f7f7"
            ],
            [
             0.6,
             "#e6f5d0"
            ],
            [
             0.7,
             "#b8e186"
            ],
            [
             0.8,
             "#7fbc41"
            ],
            [
             0.9,
             "#4d9221"
            ],
            [
             1,
             "#276419"
            ]
           ],
           "sequential": [
            [
             0,
             "#0d0887"
            ],
            [
             0.1111111111111111,
             "#46039f"
            ],
            [
             0.2222222222222222,
             "#7201a8"
            ],
            [
             0.3333333333333333,
             "#9c179e"
            ],
            [
             0.4444444444444444,
             "#bd3786"
            ],
            [
             0.5555555555555556,
             "#d8576b"
            ],
            [
             0.6666666666666666,
             "#ed7953"
            ],
            [
             0.7777777777777778,
             "#fb9f3a"
            ],
            [
             0.8888888888888888,
             "#fdca26"
            ],
            [
             1,
             "#f0f921"
            ]
           ],
           "sequentialminus": [
            [
             0,
             "#0d0887"
            ],
            [
             0.1111111111111111,
             "#46039f"
            ],
            [
             0.2222222222222222,
             "#7201a8"
            ],
            [
             0.3333333333333333,
             "#9c179e"
            ],
            [
             0.4444444444444444,
             "#bd3786"
            ],
            [
             0.5555555555555556,
             "#d8576b"
            ],
            [
             0.6666666666666666,
             "#ed7953"
            ],
            [
             0.7777777777777778,
             "#fb9f3a"
            ],
            [
             0.8888888888888888,
             "#fdca26"
            ],
            [
             1,
             "#f0f921"
            ]
           ]
          },
          "colorway": [
           "#636efa",
           "#EF553B",
           "#00cc96",
           "#ab63fa",
           "#FFA15A",
           "#19d3f3",
           "#FF6692",
           "#B6E880",
           "#FF97FF",
           "#FECB52"
          ],
          "font": {
           "color": "#2a3f5f"
          },
          "geo": {
           "bgcolor": "white",
           "lakecolor": "white",
           "landcolor": "white",
           "showlakes": true,
           "showland": true,
           "subunitcolor": "#C8D4E3"
          },
          "hoverlabel": {
           "align": "left"
          },
          "hovermode": "closest",
          "mapbox": {
           "style": "light"
          },
          "paper_bgcolor": "white",
          "plot_bgcolor": "white",
          "polar": {
           "angularaxis": {
            "gridcolor": "#EBF0F8",
            "linecolor": "#EBF0F8",
            "ticks": ""
           },
           "bgcolor": "white",
           "radialaxis": {
            "gridcolor": "#EBF0F8",
            "linecolor": "#EBF0F8",
            "ticks": ""
           }
          },
          "scene": {
           "xaxis": {
            "backgroundcolor": "white",
            "gridcolor": "#DFE8F3",
            "gridwidth": 2,
            "linecolor": "#EBF0F8",
            "showbackground": true,
            "ticks": "",
            "zerolinecolor": "#EBF0F8"
           },
           "yaxis": {
            "backgroundcolor": "white",
            "gridcolor": "#DFE8F3",
            "gridwidth": 2,
            "linecolor": "#EBF0F8",
            "showbackground": true,
            "ticks": "",
            "zerolinecolor": "#EBF0F8"
           },
           "zaxis": {
            "backgroundcolor": "white",
            "gridcolor": "#DFE8F3",
            "gridwidth": 2,
            "linecolor": "#EBF0F8",
            "showbackground": true,
            "ticks": "",
            "zerolinecolor": "#EBF0F8"
           }
          },
          "shapedefaults": {
           "line": {
            "color": "#2a3f5f"
           }
          },
          "ternary": {
           "aaxis": {
            "gridcolor": "#DFE8F3",
            "linecolor": "#A2B1C6",
            "ticks": ""
           },
           "baxis": {
            "gridcolor": "#DFE8F3",
            "linecolor": "#A2B1C6",
            "ticks": ""
           },
           "bgcolor": "white",
           "caxis": {
            "gridcolor": "#DFE8F3",
            "linecolor": "#A2B1C6",
            "ticks": ""
           }
          },
          "title": {
           "x": 0.05
          },
          "xaxis": {
           "automargin": true,
           "gridcolor": "#EBF0F8",
           "linecolor": "#EBF0F8",
           "ticks": "",
           "title": {
            "standoff": 15
           },
           "zerolinecolor": "#EBF0F8",
           "zerolinewidth": 2
          },
          "yaxis": {
           "automargin": true,
           "gridcolor": "#EBF0F8",
           "linecolor": "#EBF0F8",
           "ticks": "",
           "title": {
            "standoff": 15
           },
           "zerolinecolor": "#EBF0F8",
           "zerolinewidth": 2
          }
         }
        },
        "title": {
         "text": "Absolute Change in FTAs"
        },
        "xaxis": {
         "tickmode": "array",
         "tickvals": [
          "January",
          "February",
          "March",
          "April",
          "May",
          "June",
          "July",
          "August",
          "September",
          "October",
          "November",
          "December"
         ],
         "title": {
          "text": "Month"
         }
        },
        "yaxis": {
         "title": {
          "text": "Absolute Change"
         }
        }
       }
      }
     },
     "metadata": {},
     "output_type": "display_data"
    }
   ],
   "source": [
    "import plotly.graph_objects as go\n",
    "\n",
    "# Assuming yearly_change_abs is your DataFrame with absolute yearly changes\n",
    "\n",
    "# Create a Plotly figure\n",
    "fig = go.Figure()\n",
    "\n",
    "# Adding a line for each year in yearly_change_abs\n",
    "for year in yearly_change_abs.columns:\n",
    "    fig.add_trace(go.Scatter(\n",
    "        x=yearly_change_abs.index, \n",
    "        y=yearly_change_abs[year],\n",
    "        mode='lines+markers',  # Adds markers on the line\n",
    "        name=str(year),  # Each line is labeled by the year\n",
    "        hovertemplate=f\"{year}: {{y:.2f}}\"  # Customize hover to show the absolute change\n",
    "    ))\n",
    "\n",
    "# Updating layout for the plot\n",
    "fig.update_layout(\n",
    "    # title=\"Yearly Absolute Change in FTAs\",\n",
    "    title=\"Absolute Change in FTAs\",\n",
    "    xaxis_title=\"Month\",\n",
    "    yaxis_title=\"Absolute Change\",\n",
    "    template=\"plotly_white\",  # Light theme\n",
    "    height=600,\n",
    "    xaxis=dict(tickmode='array', tickvals=yearly_change_abs.index),\n",
    "    legend_title=\"Year\",\n",
    ")\n",
    "\n",
    "# Show the plot\n",
    "fig.show()"
   ]
  },
  {
   "cell_type": "code",
   "execution_count": 97,
   "metadata": {},
   "outputs": [
    {
     "data": {
      "application/vnd.plotly.v1+json": {
       "config": {
        "plotlyServerURL": "https://plot.ly"
       },
       "data": [
        {
         "hovertemplate": "2014: {y:.2f}%",
         "mode": "lines+markers",
         "name": "2014",
         "type": "scatter",
         "x": [
          "January",
          "February",
          "March",
          "April",
          "May",
          "June",
          "July",
          "August",
          "September",
          "October",
          "November",
          "December"
         ],
         "y": [
          5.2,
          9.75,
          7.96,
          18.81,
          11.4,
          11.26,
          1023.33,
          18.38,
          12.25,
          11.75,
          4.3,
          7.74
         ]
        },
        {
         "hovertemplate": "2016: {y:.2f}%",
         "mode": "lines+markers",
         "name": "2016",
         "type": "scatter",
         "x": [
          "January",
          "February",
          "March",
          "April",
          "May",
          "June",
          "July",
          "August",
          "September",
          "October",
          "November",
          "December"
         ],
         "y": [
          11.45,
          12.32,
          17.19,
          10.59,
          13.42,
          8.95,
          -87.1,
          13.26,
          19.45,
          10.98,
          14.73,
          15.39
         ]
        },
        {
         "hovertemplate": "2017: {y:.2f}%",
         "mode": "lines+markers",
         "name": "2017",
         "type": "scatter",
         "x": [
          "January",
          "February",
          "March",
          "April",
          "May",
          "June",
          "July",
          "August",
          "September",
          "October",
          "November",
          "December"
         ],
         "y": [
          14.16,
          9.69,
          9.5,
          21.27,
          18,
          21.3,
          6.2,
          10.28,
          18.38,
          16.88,
          13.6,
          14.34
         ]
        },
        {
         "hovertemplate": "2018: {y:.2f}%",
         "mode": "lines+markers",
         "name": "2018",
         "type": "scatter",
         "x": [
          "January",
          "February",
          "March",
          "April",
          "May",
          "June",
          "July",
          "August",
          "September",
          "October",
          "November",
          "December"
         ],
         "y": [
          8.39,
          12.7,
          15.31,
          3.78,
          -2.55,
          3.08,
          3.49,
          9.3,
          -0.01,
          2.68,
          1.49,
          2.03
         ]
        },
        {
         "hovertemplate": "2019: {y:.2f}%",
         "mode": "lines+markers",
         "name": "2019",
         "type": "scatter",
         "x": [
          "January",
          "February",
          "March",
          "April",
          "May",
          "June",
          "July",
          "August",
          "September",
          "October",
          "November",
          "December"
         ],
         "y": [
          6.32,
          3.93,
          -4.24,
          3.98,
          1.42,
          6.22,
          1.44,
          1.89,
          4.39,
          6.16,
          7.89,
          2.93
         ]
        },
        {
         "hovertemplate": "2020: {y:.2f}%",
         "mode": "lines+markers",
         "name": "2020",
         "type": "scatter",
         "x": [
          "January",
          "February",
          "March",
          "April",
          "May",
          "June",
          "July",
          "August",
          "September",
          "October",
          "November",
          "December"
         ],
         "y": [
          0.74,
          -6.61,
          -66.44,
          -99.64,
          -99.39,
          -98.82,
          -98.45,
          -97.53,
          -96.25,
          -95.61,
          -93.5,
          -92.62
         ]
        },
        {
         "hovertemplate": "2021: {y:.2f}%",
         "mode": "lines+markers",
         "name": "2021",
         "type": "scatter",
         "x": [
          "January",
          "February",
          "March",
          "April",
          "May",
          "June",
          "July",
          "August",
          "September",
          "October",
          "November",
          "December"
         ],
         "y": [
          -91.54,
          -89.17,
          -59.25,
          2691.42,
          425.11,
          319.91,
          472.9,
          369.25,
          310.63,
          361.31,
          271.76,
          250.82
         ]
        },
        {
         "hovertemplate": "2022: {y:.2f}%",
         "mode": "lines+markers",
         "name": "2022",
         "type": "scatter",
         "x": [
          "January",
          "February",
          "March",
          "April",
          "May",
          "June",
          "July",
          "August",
          "September",
          "October",
          "November",
          "December"
         ],
         "y": [
          128.11,
          130.74,
          167.64,
          422.13,
          2154.95,
          1416.7,
          823.43,
          465.91,
          376.89,
          253.71,
          199.14,
          212.6
         ]
        }
       ],
       "layout": {
        "height": 600,
        "legend": {
         "title": {
          "text": "Year"
         }
        },
        "template": {
         "data": {
          "bar": [
           {
            "error_x": {
             "color": "#2a3f5f"
            },
            "error_y": {
             "color": "#2a3f5f"
            },
            "marker": {
             "line": {
              "color": "white",
              "width": 0.5
             },
             "pattern": {
              "fillmode": "overlay",
              "size": 10,
              "solidity": 0.2
             }
            },
            "type": "bar"
           }
          ],
          "barpolar": [
           {
            "marker": {
             "line": {
              "color": "white",
              "width": 0.5
             },
             "pattern": {
              "fillmode": "overlay",
              "size": 10,
              "solidity": 0.2
             }
            },
            "type": "barpolar"
           }
          ],
          "carpet": [
           {
            "aaxis": {
             "endlinecolor": "#2a3f5f",
             "gridcolor": "#C8D4E3",
             "linecolor": "#C8D4E3",
             "minorgridcolor": "#C8D4E3",
             "startlinecolor": "#2a3f5f"
            },
            "baxis": {
             "endlinecolor": "#2a3f5f",
             "gridcolor": "#C8D4E3",
             "linecolor": "#C8D4E3",
             "minorgridcolor": "#C8D4E3",
             "startlinecolor": "#2a3f5f"
            },
            "type": "carpet"
           }
          ],
          "choropleth": [
           {
            "colorbar": {
             "outlinewidth": 0,
             "ticks": ""
            },
            "type": "choropleth"
           }
          ],
          "contour": [
           {
            "colorbar": {
             "outlinewidth": 0,
             "ticks": ""
            },
            "colorscale": [
             [
              0,
              "#0d0887"
             ],
             [
              0.1111111111111111,
              "#46039f"
             ],
             [
              0.2222222222222222,
              "#7201a8"
             ],
             [
              0.3333333333333333,
              "#9c179e"
             ],
             [
              0.4444444444444444,
              "#bd3786"
             ],
             [
              0.5555555555555556,
              "#d8576b"
             ],
             [
              0.6666666666666666,
              "#ed7953"
             ],
             [
              0.7777777777777778,
              "#fb9f3a"
             ],
             [
              0.8888888888888888,
              "#fdca26"
             ],
             [
              1,
              "#f0f921"
             ]
            ],
            "type": "contour"
           }
          ],
          "contourcarpet": [
           {
            "colorbar": {
             "outlinewidth": 0,
             "ticks": ""
            },
            "type": "contourcarpet"
           }
          ],
          "heatmap": [
           {
            "colorbar": {
             "outlinewidth": 0,
             "ticks": ""
            },
            "colorscale": [
             [
              0,
              "#0d0887"
             ],
             [
              0.1111111111111111,
              "#46039f"
             ],
             [
              0.2222222222222222,
              "#7201a8"
             ],
             [
              0.3333333333333333,
              "#9c179e"
             ],
             [
              0.4444444444444444,
              "#bd3786"
             ],
             [
              0.5555555555555556,
              "#d8576b"
             ],
             [
              0.6666666666666666,
              "#ed7953"
             ],
             [
              0.7777777777777778,
              "#fb9f3a"
             ],
             [
              0.8888888888888888,
              "#fdca26"
             ],
             [
              1,
              "#f0f921"
             ]
            ],
            "type": "heatmap"
           }
          ],
          "heatmapgl": [
           {
            "colorbar": {
             "outlinewidth": 0,
             "ticks": ""
            },
            "colorscale": [
             [
              0,
              "#0d0887"
             ],
             [
              0.1111111111111111,
              "#46039f"
             ],
             [
              0.2222222222222222,
              "#7201a8"
             ],
             [
              0.3333333333333333,
              "#9c179e"
             ],
             [
              0.4444444444444444,
              "#bd3786"
             ],
             [
              0.5555555555555556,
              "#d8576b"
             ],
             [
              0.6666666666666666,
              "#ed7953"
             ],
             [
              0.7777777777777778,
              "#fb9f3a"
             ],
             [
              0.8888888888888888,
              "#fdca26"
             ],
             [
              1,
              "#f0f921"
             ]
            ],
            "type": "heatmapgl"
           }
          ],
          "histogram": [
           {
            "marker": {
             "pattern": {
              "fillmode": "overlay",
              "size": 10,
              "solidity": 0.2
             }
            },
            "type": "histogram"
           }
          ],
          "histogram2d": [
           {
            "colorbar": {
             "outlinewidth": 0,
             "ticks": ""
            },
            "colorscale": [
             [
              0,
              "#0d0887"
             ],
             [
              0.1111111111111111,
              "#46039f"
             ],
             [
              0.2222222222222222,
              "#7201a8"
             ],
             [
              0.3333333333333333,
              "#9c179e"
             ],
             [
              0.4444444444444444,
              "#bd3786"
             ],
             [
              0.5555555555555556,
              "#d8576b"
             ],
             [
              0.6666666666666666,
              "#ed7953"
             ],
             [
              0.7777777777777778,
              "#fb9f3a"
             ],
             [
              0.8888888888888888,
              "#fdca26"
             ],
             [
              1,
              "#f0f921"
             ]
            ],
            "type": "histogram2d"
           }
          ],
          "histogram2dcontour": [
           {
            "colorbar": {
             "outlinewidth": 0,
             "ticks": ""
            },
            "colorscale": [
             [
              0,
              "#0d0887"
             ],
             [
              0.1111111111111111,
              "#46039f"
             ],
             [
              0.2222222222222222,
              "#7201a8"
             ],
             [
              0.3333333333333333,
              "#9c179e"
             ],
             [
              0.4444444444444444,
              "#bd3786"
             ],
             [
              0.5555555555555556,
              "#d8576b"
             ],
             [
              0.6666666666666666,
              "#ed7953"
             ],
             [
              0.7777777777777778,
              "#fb9f3a"
             ],
             [
              0.8888888888888888,
              "#fdca26"
             ],
             [
              1,
              "#f0f921"
             ]
            ],
            "type": "histogram2dcontour"
           }
          ],
          "mesh3d": [
           {
            "colorbar": {
             "outlinewidth": 0,
             "ticks": ""
            },
            "type": "mesh3d"
           }
          ],
          "parcoords": [
           {
            "line": {
             "colorbar": {
              "outlinewidth": 0,
              "ticks": ""
             }
            },
            "type": "parcoords"
           }
          ],
          "pie": [
           {
            "automargin": true,
            "type": "pie"
           }
          ],
          "scatter": [
           {
            "fillpattern": {
             "fillmode": "overlay",
             "size": 10,
             "solidity": 0.2
            },
            "type": "scatter"
           }
          ],
          "scatter3d": [
           {
            "line": {
             "colorbar": {
              "outlinewidth": 0,
              "ticks": ""
             }
            },
            "marker": {
             "colorbar": {
              "outlinewidth": 0,
              "ticks": ""
             }
            },
            "type": "scatter3d"
           }
          ],
          "scattercarpet": [
           {
            "marker": {
             "colorbar": {
              "outlinewidth": 0,
              "ticks": ""
             }
            },
            "type": "scattercarpet"
           }
          ],
          "scattergeo": [
           {
            "marker": {
             "colorbar": {
              "outlinewidth": 0,
              "ticks": ""
             }
            },
            "type": "scattergeo"
           }
          ],
          "scattergl": [
           {
            "marker": {
             "colorbar": {
              "outlinewidth": 0,
              "ticks": ""
             }
            },
            "type": "scattergl"
           }
          ],
          "scattermapbox": [
           {
            "marker": {
             "colorbar": {
              "outlinewidth": 0,
              "ticks": ""
             }
            },
            "type": "scattermapbox"
           }
          ],
          "scatterpolar": [
           {
            "marker": {
             "colorbar": {
              "outlinewidth": 0,
              "ticks": ""
             }
            },
            "type": "scatterpolar"
           }
          ],
          "scatterpolargl": [
           {
            "marker": {
             "colorbar": {
              "outlinewidth": 0,
              "ticks": ""
             }
            },
            "type": "scatterpolargl"
           }
          ],
          "scatterternary": [
           {
            "marker": {
             "colorbar": {
              "outlinewidth": 0,
              "ticks": ""
             }
            },
            "type": "scatterternary"
           }
          ],
          "surface": [
           {
            "colorbar": {
             "outlinewidth": 0,
             "ticks": ""
            },
            "colorscale": [
             [
              0,
              "#0d0887"
             ],
             [
              0.1111111111111111,
              "#46039f"
             ],
             [
              0.2222222222222222,
              "#7201a8"
             ],
             [
              0.3333333333333333,
              "#9c179e"
             ],
             [
              0.4444444444444444,
              "#bd3786"
             ],
             [
              0.5555555555555556,
              "#d8576b"
             ],
             [
              0.6666666666666666,
              "#ed7953"
             ],
             [
              0.7777777777777778,
              "#fb9f3a"
             ],
             [
              0.8888888888888888,
              "#fdca26"
             ],
             [
              1,
              "#f0f921"
             ]
            ],
            "type": "surface"
           }
          ],
          "table": [
           {
            "cells": {
             "fill": {
              "color": "#EBF0F8"
             },
             "line": {
              "color": "white"
             }
            },
            "header": {
             "fill": {
              "color": "#C8D4E3"
             },
             "line": {
              "color": "white"
             }
            },
            "type": "table"
           }
          ]
         },
         "layout": {
          "annotationdefaults": {
           "arrowcolor": "#2a3f5f",
           "arrowhead": 0,
           "arrowwidth": 1
          },
          "autotypenumbers": "strict",
          "coloraxis": {
           "colorbar": {
            "outlinewidth": 0,
            "ticks": ""
           }
          },
          "colorscale": {
           "diverging": [
            [
             0,
             "#8e0152"
            ],
            [
             0.1,
             "#c51b7d"
            ],
            [
             0.2,
             "#de77ae"
            ],
            [
             0.3,
             "#f1b6da"
            ],
            [
             0.4,
             "#fde0ef"
            ],
            [
             0.5,
             "#f7f7f7"
            ],
            [
             0.6,
             "#e6f5d0"
            ],
            [
             0.7,
             "#b8e186"
            ],
            [
             0.8,
             "#7fbc41"
            ],
            [
             0.9,
             "#4d9221"
            ],
            [
             1,
             "#276419"
            ]
           ],
           "sequential": [
            [
             0,
             "#0d0887"
            ],
            [
             0.1111111111111111,
             "#46039f"
            ],
            [
             0.2222222222222222,
             "#7201a8"
            ],
            [
             0.3333333333333333,
             "#9c179e"
            ],
            [
             0.4444444444444444,
             "#bd3786"
            ],
            [
             0.5555555555555556,
             "#d8576b"
            ],
            [
             0.6666666666666666,
             "#ed7953"
            ],
            [
             0.7777777777777778,
             "#fb9f3a"
            ],
            [
             0.8888888888888888,
             "#fdca26"
            ],
            [
             1,
             "#f0f921"
            ]
           ],
           "sequentialminus": [
            [
             0,
             "#0d0887"
            ],
            [
             0.1111111111111111,
             "#46039f"
            ],
            [
             0.2222222222222222,
             "#7201a8"
            ],
            [
             0.3333333333333333,
             "#9c179e"
            ],
            [
             0.4444444444444444,
             "#bd3786"
            ],
            [
             0.5555555555555556,
             "#d8576b"
            ],
            [
             0.6666666666666666,
             "#ed7953"
            ],
            [
             0.7777777777777778,
             "#fb9f3a"
            ],
            [
             0.8888888888888888,
             "#fdca26"
            ],
            [
             1,
             "#f0f921"
            ]
           ]
          },
          "colorway": [
           "#636efa",
           "#EF553B",
           "#00cc96",
           "#ab63fa",
           "#FFA15A",
           "#19d3f3",
           "#FF6692",
           "#B6E880",
           "#FF97FF",
           "#FECB52"
          ],
          "font": {
           "color": "#2a3f5f"
          },
          "geo": {
           "bgcolor": "white",
           "lakecolor": "white",
           "landcolor": "white",
           "showlakes": true,
           "showland": true,
           "subunitcolor": "#C8D4E3"
          },
          "hoverlabel": {
           "align": "left"
          },
          "hovermode": "closest",
          "mapbox": {
           "style": "light"
          },
          "paper_bgcolor": "white",
          "plot_bgcolor": "white",
          "polar": {
           "angularaxis": {
            "gridcolor": "#EBF0F8",
            "linecolor": "#EBF0F8",
            "ticks": ""
           },
           "bgcolor": "white",
           "radialaxis": {
            "gridcolor": "#EBF0F8",
            "linecolor": "#EBF0F8",
            "ticks": ""
           }
          },
          "scene": {
           "xaxis": {
            "backgroundcolor": "white",
            "gridcolor": "#DFE8F3",
            "gridwidth": 2,
            "linecolor": "#EBF0F8",
            "showbackground": true,
            "ticks": "",
            "zerolinecolor": "#EBF0F8"
           },
           "yaxis": {
            "backgroundcolor": "white",
            "gridcolor": "#DFE8F3",
            "gridwidth": 2,
            "linecolor": "#EBF0F8",
            "showbackground": true,
            "ticks": "",
            "zerolinecolor": "#EBF0F8"
           },
           "zaxis": {
            "backgroundcolor": "white",
            "gridcolor": "#DFE8F3",
            "gridwidth": 2,
            "linecolor": "#EBF0F8",
            "showbackground": true,
            "ticks": "",
            "zerolinecolor": "#EBF0F8"
           }
          },
          "shapedefaults": {
           "line": {
            "color": "#2a3f5f"
           }
          },
          "ternary": {
           "aaxis": {
            "gridcolor": "#DFE8F3",
            "linecolor": "#A2B1C6",
            "ticks": ""
           },
           "baxis": {
            "gridcolor": "#DFE8F3",
            "linecolor": "#A2B1C6",
            "ticks": ""
           },
           "bgcolor": "white",
           "caxis": {
            "gridcolor": "#DFE8F3",
            "linecolor": "#A2B1C6",
            "ticks": ""
           }
          },
          "title": {
           "x": 0.05
          },
          "xaxis": {
           "automargin": true,
           "gridcolor": "#EBF0F8",
           "linecolor": "#EBF0F8",
           "ticks": "",
           "title": {
            "standoff": 15
           },
           "zerolinecolor": "#EBF0F8",
           "zerolinewidth": 2
          },
          "yaxis": {
           "automargin": true,
           "gridcolor": "#EBF0F8",
           "linecolor": "#EBF0F8",
           "ticks": "",
           "title": {
            "standoff": 15
           },
           "zerolinecolor": "#EBF0F8",
           "zerolinewidth": 2
          }
         }
        },
        "title": {
         "text": "Percentage Change in FTAs"
        },
        "xaxis": {
         "tickmode": "array",
         "tickvals": [
          "January",
          "February",
          "March",
          "April",
          "May",
          "June",
          "July",
          "August",
          "September",
          "October",
          "November",
          "December"
         ],
         "title": {
          "text": "Month"
         }
        },
        "yaxis": {
         "title": {
          "text": "Percentage Change (%)"
         }
        }
       }
      }
     },
     "metadata": {},
     "output_type": "display_data"
    }
   ],
   "source": [
    "import plotly.graph_objects as go\n",
    "\n",
    "# Assuming yearly_change_pct is your DataFrame with percentage yearly changes\n",
    "\n",
    "# Create a Plotly figure\n",
    "fig = go.Figure()\n",
    "\n",
    "# Adding a line for each year in yearly_change_pct\n",
    "for year in yearly_change_pct.columns:\n",
    "    fig.add_trace(go.Scatter(\n",
    "        x=yearly_change_pct.index, \n",
    "        y=yearly_change_pct[year],\n",
    "        mode='lines+markers',  # Adds markers on the line\n",
    "        name=str(year),  # Each line is labeled by the year\n",
    "        hovertemplate=f\"{year}: {{y:.2f}}%\"  # Customize hover format for percentage\n",
    "    ))\n",
    "\n",
    "# Updating layout for the plot\n",
    "fig.update_layout(\n",
    "    # title=\"Yearly Percentage Change in FTAs\",\n",
    "    title=\"Percentage Change in FTAs\",\n",
    "    xaxis_title=\"Month\",\n",
    "    yaxis_title=\"Percentage Change (%)\",\n",
    "    template=\"plotly_white\",  # Light theme\n",
    "    height=600,\n",
    "    xaxis=dict(tickmode='array', tickvals=yearly_change_pct.index),\n",
    "    legend_title=\"Year\",\n",
    ")\n",
    "\n",
    "# Show the plot\n",
    "fig.show()"
   ]
  },
  {
   "cell_type": "markdown",
   "metadata": {},
   "source": [
    "## Every year"
   ]
  },
  {
   "cell_type": "code",
   "execution_count": 98,
   "metadata": {},
   "outputs": [],
   "source": [
    "# # Sum FTAs for each year to get total yearly tourists\n",
    "# total_yearly_tourists = df_all.groupby('Year')['FTAs'].sum()\n",
    "\n",
    "# # Calculate overall yearly change in absolute and percentage terms\n",
    "# yearly_total_change_abs = total_yearly_tourists.diff().dropna()\n",
    "# yearly_total_change_pct = yearly_total_change_abs / total_yearly_tourists.shift(1) * 100\n",
    "\n",
    "# yearly_total_change_pct = yearly_total_change_pct.round(2)\n",
    "\n",
    "\n",
    "# print(\"Total Yearly Absolute Change:\\n\", yearly_total_change_abs)"
   ]
  },
  {
   "cell_type": "code",
   "execution_count": 99,
   "metadata": {},
   "outputs": [],
   "source": [
    "# print(\"\\nTotal Yearly Percentage Change:\\n\", yearly_total_change_pct)"
   ]
  },
  {
   "cell_type": "code",
   "execution_count": 100,
   "metadata": {},
   "outputs": [],
   "source": [
    "# import plotly.graph_objects as go\n",
    "# from plotly.subplots import make_subplots\n",
    "\n",
    "# # Assuming yearly_total_change_abs and yearly_total_change_pct are defined DataFrames/Series\n",
    "\n",
    "# # Create a figure with two subplots side by side\n",
    "# fig = make_subplots(rows=1, cols=2, subplot_titles=(\"Total Yearly Absolute Change in FTAs\", \"Total Yearly Percentage Change in FTAs\"))\n",
    "\n",
    "# # Plotting total absolute change for each year (yearly_total_change_abs) as a bar plot\n",
    "# fig.add_trace(go.Bar(\n",
    "#     x=yearly_total_change_abs.index,\n",
    "#     y=yearly_total_change_abs.values,\n",
    "#     text=[f'{val:.2f}' for val in yearly_total_change_abs.values],  # Show values inside bars\n",
    "#     textposition='inside',\n",
    "#     marker_color='skyblue',\n",
    "#     name='Total Absolute Change'\n",
    "# ), row=1, col=1)\n",
    "\n",
    "# # Plotting total percentage change for each year (yearly_total_change_pct) as a bar plot\n",
    "# fig.add_trace(go.Bar(\n",
    "#     x=yearly_total_change_pct.index,\n",
    "#     y=yearly_total_change_pct.values,\n",
    "#     text=[f'{val:.2f}' for val in yearly_total_change_pct.values],  # Show values inside bars\n",
    "#     textposition='inside',\n",
    "#     marker_color='lightgreen',\n",
    "#     name='Total Percentage Change'\n",
    "# ), row=1, col=2)\n",
    "\n",
    "# # Update layout for the figure\n",
    "# fig.update_layout(\n",
    "#     # title=\"Total Yearly Change in FTAs (Absolute and Percentage)\",\n",
    "#     xaxis_title=\"Year\",\n",
    "#     yaxis_title=\"Change\",\n",
    "#     template=\"plotly_white\",  # Light theme\n",
    "#     height=600,\n",
    "#     legend=dict(\n",
    "#         orientation=\"h\",  # Horizontal legend\n",
    "#         yanchor=\"bottom\",  # Anchor legend to bottom\n",
    "#         y=1.1,             # Position legend above the plot\n",
    "#         xanchor=\"center\",  # Center align the legend\n",
    "#         x=0.5              # Position in the middle horizontally\n",
    "#     )\n",
    "# )\n",
    "\n",
    "# # Update individual axis titles for each subplot\n",
    "# fig.update_xaxes(title_text=\"Year\", row=1, col=1)\n",
    "# fig.update_yaxes(title_text=\"Total Absolute Change\", row=1, col=1)\n",
    "# fig.update_xaxes(title_text=\"Year\", row=1, col=2)\n",
    "# fig.update_yaxes(title_text=\"Total Percentage Change (%)\", row=1, col=2)\n",
    "\n",
    "# # Show the plot\n",
    "# fig.show()"
   ]
  },
  {
   "cell_type": "markdown",
   "metadata": {},
   "source": [
    "# 3"
   ]
  },
  {
   "cell_type": "code",
   "execution_count": 101,
   "metadata": {},
   "outputs": [],
   "source": [
    "# Find highest positive and negative changes in absolute and percentage terms\n",
    "highest_abs_change_year = yearly_total_change_abs.idxmax(), yearly_total_change_abs.max()\n",
    "lowest_abs_change_year = yearly_total_change_abs.idxmin(), yearly_total_change_abs.min()\n",
    "\n",
    "highest_pct_change_year = yearly_total_change_pct.idxmax(), yearly_total_change_pct.max()\n",
    "lowest_pct_change_year = yearly_total_change_pct.idxmin(), yearly_total_change_pct.min()\n",
    "\n",
    "# Convert the results to native Python types (int and float)\n",
    "highest_abs_change_year = (int(highest_abs_change_year[0]), float(highest_abs_change_year[1]))\n",
    "lowest_abs_change_year = (int(lowest_abs_change_year[0]), float(lowest_abs_change_year[1]))\n",
    "\n",
    "highest_pct_change_year = (int(highest_pct_change_year[0]), float(highest_pct_change_year[1]))\n",
    "lowest_pct_change_year = (int(lowest_pct_change_year[0]), float(lowest_pct_change_year[1]))\n",
    "\n",
    "# highest_pct_change_year = highest_pct_change_year.round(2)\n",
    "# lowest_pct_change_year = lowest_pct_change_year.round(2)\n",
    "\n",
    "# Print the results\n",
    "# print(\"Highest Absolute Change:\", highest_abs_change_year)\n",
    "# print(\"Lowest Absolute Change:\", lowest_abs_change_year)\n",
    "# print(\"Highest Percentage Change:\", highest_pct_change_year)\n",
    "# print(\"Lowest Percentage Change:\", lowest_pct_change_year)\n",
    "\n",
    "df_results = pd.DataFrame({\n",
    "    \"Type\": [\"Highest Absolute Change\", \"Lowest Absolute Change\", \"Highest Percentage Change\", \"Lowest Percentage Change\"],\n",
    "    \"Year\": [highest_abs_change_year[0], lowest_abs_change_year[0], highest_pct_change_year[0], lowest_pct_change_year[0]],\n",
    "    \"Value\": [highest_abs_change_year[1], lowest_abs_change_year[1], highest_pct_change_year[1], lowest_pct_change_year[1]]\n",
    "})"
   ]
  },
  {
   "cell_type": "code",
   "execution_count": 102,
   "metadata": {},
   "outputs": [
    {
     "data": {
      "text/html": [
       "<div>\n",
       "<style scoped>\n",
       "    .dataframe tbody tr th:only-of-type {\n",
       "        vertical-align: middle;\n",
       "    }\n",
       "\n",
       "    .dataframe tbody tr th {\n",
       "        vertical-align: top;\n",
       "    }\n",
       "\n",
       "    .dataframe thead th {\n",
       "        text-align: right;\n",
       "    }\n",
       "</style>\n",
       "<table border=\"1\" class=\"dataframe\">\n",
       "  <thead>\n",
       "    <tr style=\"text-align: right;\">\n",
       "      <th></th>\n",
       "      <th>Type</th>\n",
       "      <th>Year</th>\n",
       "      <th>Value</th>\n",
       "    </tr>\n",
       "  </thead>\n",
       "  <tbody>\n",
       "    <tr>\n",
       "      <th>0</th>\n",
       "      <td>Highest Absolute Change</td>\n",
       "      <td>2014</td>\n",
       "      <td>5831498.00</td>\n",
       "    </tr>\n",
       "    <tr>\n",
       "      <th>1</th>\n",
       "      <td>Lowest Absolute Change</td>\n",
       "      <td>2020</td>\n",
       "      <td>-8185589.00</td>\n",
       "    </tr>\n",
       "    <tr>\n",
       "      <th>2</th>\n",
       "      <td>Highest Percentage Change</td>\n",
       "      <td>2022</td>\n",
       "      <td>321.54</td>\n",
       "    </tr>\n",
       "    <tr>\n",
       "      <th>3</th>\n",
       "      <td>Lowest Percentage Change</td>\n",
       "      <td>2020</td>\n",
       "      <td>-74.89</td>\n",
       "    </tr>\n",
       "  </tbody>\n",
       "</table>\n",
       "</div>"
      ],
      "text/plain": [
       "                        Type  Year       Value\n",
       "0    Highest Absolute Change  2014  5831498.00\n",
       "1     Lowest Absolute Change  2020 -8185589.00\n",
       "2  Highest Percentage Change  2022      321.54\n",
       "3   Lowest Percentage Change  2020      -74.89"
      ]
     },
     "execution_count": 102,
     "metadata": {},
     "output_type": "execute_result"
    }
   ],
   "source": [
    "df_results"
   ]
  },
  {
   "cell_type": "code",
   "execution_count": 103,
   "metadata": {},
   "outputs": [],
   "source": [
    "df_results.to_csv(\"3_Hi_lo_Abs_Pct_Year_change.csv\",index=False)"
   ]
  },
  {
   "cell_type": "code",
   "execution_count": 104,
   "metadata": {},
   "outputs": [
    {
     "data": {
      "application/vnd.plotly.v1+json": {
       "config": {
        "plotlyServerURL": "https://plot.ly"
       },
       "data": [
        {
         "marker": {
          "color": [
           "skyblue",
           "lightcoral"
          ]
         },
         "name": "Absolute Change",
         "text": [
          "2014: 5,831,498.00",
          "2020: -8,185,589.00"
         ],
         "textposition": "inside",
         "type": "bar",
         "x": [
          "Highest Absolute Change",
          "Lowest Absolute Change"
         ],
         "xaxis": "x",
         "y": [
          5831498,
          -8185589
         ],
         "yaxis": "y"
        },
        {
         "marker": {
          "color": [
           "lightgreen",
           "blue"
          ]
         },
         "name": "Percentage Change",
         "text": [
          "2022: 321.54%",
          "2020: -74.89%"
         ],
         "textposition": "inside",
         "type": "bar",
         "x": [
          "Highest Percentage Change",
          "Lowest Percentage Change"
         ],
         "xaxis": "x2",
         "y": [
          321.54,
          -74.89
         ],
         "yaxis": "y2"
        }
       ],
       "layout": {
        "annotations": [
         {
          "font": {
           "size": 16
          },
          "showarrow": false,
          "text": "Highest and Lowest Absolute Change",
          "x": 0.225,
          "xanchor": "center",
          "xref": "paper",
          "y": 1,
          "yanchor": "bottom",
          "yref": "paper"
         },
         {
          "font": {
           "size": 16
          },
          "showarrow": false,
          "text": "Highest and Lowest Percentage Change",
          "x": 0.775,
          "xanchor": "center",
          "xref": "paper",
          "y": 1,
          "yanchor": "bottom",
          "yref": "paper"
         }
        ],
        "height": 500,
        "showlegend": false,
        "template": {
         "data": {
          "bar": [
           {
            "error_x": {
             "color": "#2a3f5f"
            },
            "error_y": {
             "color": "#2a3f5f"
            },
            "marker": {
             "line": {
              "color": "white",
              "width": 0.5
             },
             "pattern": {
              "fillmode": "overlay",
              "size": 10,
              "solidity": 0.2
             }
            },
            "type": "bar"
           }
          ],
          "barpolar": [
           {
            "marker": {
             "line": {
              "color": "white",
              "width": 0.5
             },
             "pattern": {
              "fillmode": "overlay",
              "size": 10,
              "solidity": 0.2
             }
            },
            "type": "barpolar"
           }
          ],
          "carpet": [
           {
            "aaxis": {
             "endlinecolor": "#2a3f5f",
             "gridcolor": "#C8D4E3",
             "linecolor": "#C8D4E3",
             "minorgridcolor": "#C8D4E3",
             "startlinecolor": "#2a3f5f"
            },
            "baxis": {
             "endlinecolor": "#2a3f5f",
             "gridcolor": "#C8D4E3",
             "linecolor": "#C8D4E3",
             "minorgridcolor": "#C8D4E3",
             "startlinecolor": "#2a3f5f"
            },
            "type": "carpet"
           }
          ],
          "choropleth": [
           {
            "colorbar": {
             "outlinewidth": 0,
             "ticks": ""
            },
            "type": "choropleth"
           }
          ],
          "contour": [
           {
            "colorbar": {
             "outlinewidth": 0,
             "ticks": ""
            },
            "colorscale": [
             [
              0,
              "#0d0887"
             ],
             [
              0.1111111111111111,
              "#46039f"
             ],
             [
              0.2222222222222222,
              "#7201a8"
             ],
             [
              0.3333333333333333,
              "#9c179e"
             ],
             [
              0.4444444444444444,
              "#bd3786"
             ],
             [
              0.5555555555555556,
              "#d8576b"
             ],
             [
              0.6666666666666666,
              "#ed7953"
             ],
             [
              0.7777777777777778,
              "#fb9f3a"
             ],
             [
              0.8888888888888888,
              "#fdca26"
             ],
             [
              1,
              "#f0f921"
             ]
            ],
            "type": "contour"
           }
          ],
          "contourcarpet": [
           {
            "colorbar": {
             "outlinewidth": 0,
             "ticks": ""
            },
            "type": "contourcarpet"
           }
          ],
          "heatmap": [
           {
            "colorbar": {
             "outlinewidth": 0,
             "ticks": ""
            },
            "colorscale": [
             [
              0,
              "#0d0887"
             ],
             [
              0.1111111111111111,
              "#46039f"
             ],
             [
              0.2222222222222222,
              "#7201a8"
             ],
             [
              0.3333333333333333,
              "#9c179e"
             ],
             [
              0.4444444444444444,
              "#bd3786"
             ],
             [
              0.5555555555555556,
              "#d8576b"
             ],
             [
              0.6666666666666666,
              "#ed7953"
             ],
             [
              0.7777777777777778,
              "#fb9f3a"
             ],
             [
              0.8888888888888888,
              "#fdca26"
             ],
             [
              1,
              "#f0f921"
             ]
            ],
            "type": "heatmap"
           }
          ],
          "heatmapgl": [
           {
            "colorbar": {
             "outlinewidth": 0,
             "ticks": ""
            },
            "colorscale": [
             [
              0,
              "#0d0887"
             ],
             [
              0.1111111111111111,
              "#46039f"
             ],
             [
              0.2222222222222222,
              "#7201a8"
             ],
             [
              0.3333333333333333,
              "#9c179e"
             ],
             [
              0.4444444444444444,
              "#bd3786"
             ],
             [
              0.5555555555555556,
              "#d8576b"
             ],
             [
              0.6666666666666666,
              "#ed7953"
             ],
             [
              0.7777777777777778,
              "#fb9f3a"
             ],
             [
              0.8888888888888888,
              "#fdca26"
             ],
             [
              1,
              "#f0f921"
             ]
            ],
            "type": "heatmapgl"
           }
          ],
          "histogram": [
           {
            "marker": {
             "pattern": {
              "fillmode": "overlay",
              "size": 10,
              "solidity": 0.2
             }
            },
            "type": "histogram"
           }
          ],
          "histogram2d": [
           {
            "colorbar": {
             "outlinewidth": 0,
             "ticks": ""
            },
            "colorscale": [
             [
              0,
              "#0d0887"
             ],
             [
              0.1111111111111111,
              "#46039f"
             ],
             [
              0.2222222222222222,
              "#7201a8"
             ],
             [
              0.3333333333333333,
              "#9c179e"
             ],
             [
              0.4444444444444444,
              "#bd3786"
             ],
             [
              0.5555555555555556,
              "#d8576b"
             ],
             [
              0.6666666666666666,
              "#ed7953"
             ],
             [
              0.7777777777777778,
              "#fb9f3a"
             ],
             [
              0.8888888888888888,
              "#fdca26"
             ],
             [
              1,
              "#f0f921"
             ]
            ],
            "type": "histogram2d"
           }
          ],
          "histogram2dcontour": [
           {
            "colorbar": {
             "outlinewidth": 0,
             "ticks": ""
            },
            "colorscale": [
             [
              0,
              "#0d0887"
             ],
             [
              0.1111111111111111,
              "#46039f"
             ],
             [
              0.2222222222222222,
              "#7201a8"
             ],
             [
              0.3333333333333333,
              "#9c179e"
             ],
             [
              0.4444444444444444,
              "#bd3786"
             ],
             [
              0.5555555555555556,
              "#d8576b"
             ],
             [
              0.6666666666666666,
              "#ed7953"
             ],
             [
              0.7777777777777778,
              "#fb9f3a"
             ],
             [
              0.8888888888888888,
              "#fdca26"
             ],
             [
              1,
              "#f0f921"
             ]
            ],
            "type": "histogram2dcontour"
           }
          ],
          "mesh3d": [
           {
            "colorbar": {
             "outlinewidth": 0,
             "ticks": ""
            },
            "type": "mesh3d"
           }
          ],
          "parcoords": [
           {
            "line": {
             "colorbar": {
              "outlinewidth": 0,
              "ticks": ""
             }
            },
            "type": "parcoords"
           }
          ],
          "pie": [
           {
            "automargin": true,
            "type": "pie"
           }
          ],
          "scatter": [
           {
            "fillpattern": {
             "fillmode": "overlay",
             "size": 10,
             "solidity": 0.2
            },
            "type": "scatter"
           }
          ],
          "scatter3d": [
           {
            "line": {
             "colorbar": {
              "outlinewidth": 0,
              "ticks": ""
             }
            },
            "marker": {
             "colorbar": {
              "outlinewidth": 0,
              "ticks": ""
             }
            },
            "type": "scatter3d"
           }
          ],
          "scattercarpet": [
           {
            "marker": {
             "colorbar": {
              "outlinewidth": 0,
              "ticks": ""
             }
            },
            "type": "scattercarpet"
           }
          ],
          "scattergeo": [
           {
            "marker": {
             "colorbar": {
              "outlinewidth": 0,
              "ticks": ""
             }
            },
            "type": "scattergeo"
           }
          ],
          "scattergl": [
           {
            "marker": {
             "colorbar": {
              "outlinewidth": 0,
              "ticks": ""
             }
            },
            "type": "scattergl"
           }
          ],
          "scattermapbox": [
           {
            "marker": {
             "colorbar": {
              "outlinewidth": 0,
              "ticks": ""
             }
            },
            "type": "scattermapbox"
           }
          ],
          "scatterpolar": [
           {
            "marker": {
             "colorbar": {
              "outlinewidth": 0,
              "ticks": ""
             }
            },
            "type": "scatterpolar"
           }
          ],
          "scatterpolargl": [
           {
            "marker": {
             "colorbar": {
              "outlinewidth": 0,
              "ticks": ""
             }
            },
            "type": "scatterpolargl"
           }
          ],
          "scatterternary": [
           {
            "marker": {
             "colorbar": {
              "outlinewidth": 0,
              "ticks": ""
             }
            },
            "type": "scatterternary"
           }
          ],
          "surface": [
           {
            "colorbar": {
             "outlinewidth": 0,
             "ticks": ""
            },
            "colorscale": [
             [
              0,
              "#0d0887"
             ],
             [
              0.1111111111111111,
              "#46039f"
             ],
             [
              0.2222222222222222,
              "#7201a8"
             ],
             [
              0.3333333333333333,
              "#9c179e"
             ],
             [
              0.4444444444444444,
              "#bd3786"
             ],
             [
              0.5555555555555556,
              "#d8576b"
             ],
             [
              0.6666666666666666,
              "#ed7953"
             ],
             [
              0.7777777777777778,
              "#fb9f3a"
             ],
             [
              0.8888888888888888,
              "#fdca26"
             ],
             [
              1,
              "#f0f921"
             ]
            ],
            "type": "surface"
           }
          ],
          "table": [
           {
            "cells": {
             "fill": {
              "color": "#EBF0F8"
             },
             "line": {
              "color": "white"
             }
            },
            "header": {
             "fill": {
              "color": "#C8D4E3"
             },
             "line": {
              "color": "white"
             }
            },
            "type": "table"
           }
          ]
         },
         "layout": {
          "annotationdefaults": {
           "arrowcolor": "#2a3f5f",
           "arrowhead": 0,
           "arrowwidth": 1
          },
          "autotypenumbers": "strict",
          "coloraxis": {
           "colorbar": {
            "outlinewidth": 0,
            "ticks": ""
           }
          },
          "colorscale": {
           "diverging": [
            [
             0,
             "#8e0152"
            ],
            [
             0.1,
             "#c51b7d"
            ],
            [
             0.2,
             "#de77ae"
            ],
            [
             0.3,
             "#f1b6da"
            ],
            [
             0.4,
             "#fde0ef"
            ],
            [
             0.5,
             "#f7f7f7"
            ],
            [
             0.6,
             "#e6f5d0"
            ],
            [
             0.7,
             "#b8e186"
            ],
            [
             0.8,
             "#7fbc41"
            ],
            [
             0.9,
             "#4d9221"
            ],
            [
             1,
             "#276419"
            ]
           ],
           "sequential": [
            [
             0,
             "#0d0887"
            ],
            [
             0.1111111111111111,
             "#46039f"
            ],
            [
             0.2222222222222222,
             "#7201a8"
            ],
            [
             0.3333333333333333,
             "#9c179e"
            ],
            [
             0.4444444444444444,
             "#bd3786"
            ],
            [
             0.5555555555555556,
             "#d8576b"
            ],
            [
             0.6666666666666666,
             "#ed7953"
            ],
            [
             0.7777777777777778,
             "#fb9f3a"
            ],
            [
             0.8888888888888888,
             "#fdca26"
            ],
            [
             1,
             "#f0f921"
            ]
           ],
           "sequentialminus": [
            [
             0,
             "#0d0887"
            ],
            [
             0.1111111111111111,
             "#46039f"
            ],
            [
             0.2222222222222222,
             "#7201a8"
            ],
            [
             0.3333333333333333,
             "#9c179e"
            ],
            [
             0.4444444444444444,
             "#bd3786"
            ],
            [
             0.5555555555555556,
             "#d8576b"
            ],
            [
             0.6666666666666666,
             "#ed7953"
            ],
            [
             0.7777777777777778,
             "#fb9f3a"
            ],
            [
             0.8888888888888888,
             "#fdca26"
            ],
            [
             1,
             "#f0f921"
            ]
           ]
          },
          "colorway": [
           "#636efa",
           "#EF553B",
           "#00cc96",
           "#ab63fa",
           "#FFA15A",
           "#19d3f3",
           "#FF6692",
           "#B6E880",
           "#FF97FF",
           "#FECB52"
          ],
          "font": {
           "color": "#2a3f5f"
          },
          "geo": {
           "bgcolor": "white",
           "lakecolor": "white",
           "landcolor": "white",
           "showlakes": true,
           "showland": true,
           "subunitcolor": "#C8D4E3"
          },
          "hoverlabel": {
           "align": "left"
          },
          "hovermode": "closest",
          "mapbox": {
           "style": "light"
          },
          "paper_bgcolor": "white",
          "plot_bgcolor": "white",
          "polar": {
           "angularaxis": {
            "gridcolor": "#EBF0F8",
            "linecolor": "#EBF0F8",
            "ticks": ""
           },
           "bgcolor": "white",
           "radialaxis": {
            "gridcolor": "#EBF0F8",
            "linecolor": "#EBF0F8",
            "ticks": ""
           }
          },
          "scene": {
           "xaxis": {
            "backgroundcolor": "white",
            "gridcolor": "#DFE8F3",
            "gridwidth": 2,
            "linecolor": "#EBF0F8",
            "showbackground": true,
            "ticks": "",
            "zerolinecolor": "#EBF0F8"
           },
           "yaxis": {
            "backgroundcolor": "white",
            "gridcolor": "#DFE8F3",
            "gridwidth": 2,
            "linecolor": "#EBF0F8",
            "showbackground": true,
            "ticks": "",
            "zerolinecolor": "#EBF0F8"
           },
           "zaxis": {
            "backgroundcolor": "white",
            "gridcolor": "#DFE8F3",
            "gridwidth": 2,
            "linecolor": "#EBF0F8",
            "showbackground": true,
            "ticks": "",
            "zerolinecolor": "#EBF0F8"
           }
          },
          "shapedefaults": {
           "line": {
            "color": "#2a3f5f"
           }
          },
          "ternary": {
           "aaxis": {
            "gridcolor": "#DFE8F3",
            "linecolor": "#A2B1C6",
            "ticks": ""
           },
           "baxis": {
            "gridcolor": "#DFE8F3",
            "linecolor": "#A2B1C6",
            "ticks": ""
           },
           "bgcolor": "white",
           "caxis": {
            "gridcolor": "#DFE8F3",
            "linecolor": "#A2B1C6",
            "ticks": ""
           }
          },
          "title": {
           "x": 0.05
          },
          "xaxis": {
           "automargin": true,
           "gridcolor": "#EBF0F8",
           "linecolor": "#EBF0F8",
           "ticks": "",
           "title": {
            "standoff": 15
           },
           "zerolinecolor": "#EBF0F8",
           "zerolinewidth": 2
          },
          "yaxis": {
           "automargin": true,
           "gridcolor": "#EBF0F8",
           "linecolor": "#EBF0F8",
           "ticks": "",
           "title": {
            "standoff": 15
           },
           "zerolinecolor": "#EBF0F8",
           "zerolinewidth": 2
          }
         }
        },
        "title": {
         "text": "Highest and Lowest Yearly Changes in FTAs"
        },
        "xaxis": {
         "anchor": "y",
         "domain": [
          0,
          0.45
         ],
         "title": {
          "text": "Change Type"
         }
        },
        "xaxis2": {
         "anchor": "y2",
         "domain": [
          0.55,
          1
         ]
        },
        "yaxis": {
         "anchor": "x",
         "domain": [
          0,
          1
         ],
         "title": {
          "text": "Change Value"
         }
        },
        "yaxis2": {
         "anchor": "x2",
         "domain": [
          0,
          1
         ],
         "title": {
          "text": "Percentage Change (%)"
         }
        }
       }
      }
     },
     "metadata": {},
     "output_type": "display_data"
    }
   ],
   "source": [
    "import plotly.graph_objects as go\n",
    "from plotly.subplots import make_subplots\n",
    "\n",
    "# Define data\n",
    "highest_abs_change_year = (2014, 5831498.0)\n",
    "lowest_abs_change_year = (2020, -8185589.0)\n",
    "highest_pct_change_year = (2022, 321.54)\n",
    "lowest_pct_change_year = (2020, -74.89)\n",
    "\n",
    "# Create figure with two subplots\n",
    "fig = make_subplots(rows=1, cols=2, subplot_titles=(\"Highest and Lowest Absolute Change\", \"Highest and Lowest Percentage Change\"))\n",
    "\n",
    "# Plot Absolute Change with annotations\n",
    "fig.add_trace(go.Bar(\n",
    "    x=['Highest Absolute Change', 'Lowest Absolute Change'],\n",
    "    y=[highest_abs_change_year[1], lowest_abs_change_year[1]],\n",
    "    text=[f\"{highest_abs_change_year[0]}: {highest_abs_change_year[1]:,.2f}\", f\"{lowest_abs_change_year[0]}: {lowest_abs_change_year[1]:,.2f}\"],\n",
    "    textposition=\"inside\",\n",
    "    marker_color=['skyblue', 'lightcoral'],\n",
    "    name=\"Absolute Change\"\n",
    "), row=1, col=1)\n",
    "\n",
    "# Plot Percentage Change with annotations\n",
    "fig.add_trace(go.Bar(\n",
    "    x=['Highest Percentage Change', 'Lowest Percentage Change'],\n",
    "    y=[highest_pct_change_year[1], lowest_pct_change_year[1]],\n",
    "    text=[f\"{highest_pct_change_year[0]}: {highest_pct_change_year[1]:.2f}%\", f\"{lowest_pct_change_year[0]}: {lowest_pct_change_year[1]:.2f}%\"],\n",
    "    textposition=\"inside\",\n",
    "    marker_color=['lightgreen', 'blue'],\n",
    "    name=\"Percentage Change\"\n",
    "), row=1, col=2)\n",
    "\n",
    "# Update layout\n",
    "fig.update_layout(\n",
    "    title=\"Highest and Lowest Yearly Changes in FTAs\",\n",
    "    template=\"plotly_white\",\n",
    "    height=500,\n",
    "    showlegend=False,\n",
    "    xaxis=dict(title=\"Change Type\"),\n",
    "    yaxis=dict(title=\"Change Value\"),\n",
    "    yaxis2=dict(title=\"Percentage Change (%)\")\n",
    ")\n",
    "\n",
    "# Show plot\n",
    "fig.show()"
   ]
  },
  {
   "cell_type": "code",
   "execution_count": 105,
   "metadata": {},
   "outputs": [
    {
     "data": {
      "text/html": [
       "<div>\n",
       "<style scoped>\n",
       "    .dataframe tbody tr th:only-of-type {\n",
       "        vertical-align: middle;\n",
       "    }\n",
       "\n",
       "    .dataframe tbody tr th {\n",
       "        vertical-align: top;\n",
       "    }\n",
       "\n",
       "    .dataframe thead th {\n",
       "        text-align: right;\n",
       "    }\n",
       "</style>\n",
       "<table border=\"1\" class=\"dataframe\">\n",
       "  <thead>\n",
       "    <tr style=\"text-align: right;\">\n",
       "      <th>Year</th>\n",
       "      <th>2013</th>\n",
       "      <th>2014</th>\n",
       "      <th>2016</th>\n",
       "      <th>2017</th>\n",
       "      <th>2018</th>\n",
       "      <th>2019</th>\n",
       "      <th>2020</th>\n",
       "      <th>2021</th>\n",
       "      <th>2022</th>\n",
       "    </tr>\n",
       "    <tr>\n",
       "      <th>Month</th>\n",
       "      <th></th>\n",
       "      <th></th>\n",
       "      <th></th>\n",
       "      <th></th>\n",
       "      <th></th>\n",
       "      <th></th>\n",
       "      <th></th>\n",
       "      <th></th>\n",
       "      <th></th>\n",
       "    </tr>\n",
       "  </thead>\n",
       "  <tbody>\n",
       "    <tr>\n",
       "      <th>January</th>\n",
       "      <td>720321</td>\n",
       "      <td>757786</td>\n",
       "      <td>844533</td>\n",
       "      <td>964109</td>\n",
       "      <td>1045027</td>\n",
       "      <td>1111040</td>\n",
       "      <td>1119250</td>\n",
       "      <td>94662</td>\n",
       "      <td>215935</td>\n",
       "    </tr>\n",
       "    <tr>\n",
       "      <th>February</th>\n",
       "      <td>688569</td>\n",
       "      <td>755678</td>\n",
       "      <td>848782</td>\n",
       "      <td>931025</td>\n",
       "      <td>1049259</td>\n",
       "      <td>1090516</td>\n",
       "      <td>1018440</td>\n",
       "      <td>110312</td>\n",
       "      <td>254538</td>\n",
       "    </tr>\n",
       "    <tr>\n",
       "      <th>March</th>\n",
       "      <td>639530</td>\n",
       "      <td>690441</td>\n",
       "      <td>809107</td>\n",
       "      <td>885936</td>\n",
       "      <td>1021539</td>\n",
       "      <td>978236</td>\n",
       "      <td>328304</td>\n",
       "      <td>133768</td>\n",
       "      <td>358023</td>\n",
       "    </tr>\n",
       "    <tr>\n",
       "      <th>April</th>\n",
       "      <td>450580</td>\n",
       "      <td>535321</td>\n",
       "      <td>592004</td>\n",
       "      <td>717899</td>\n",
       "      <td>745033</td>\n",
       "      <td>774651</td>\n",
       "      <td>2820</td>\n",
       "      <td>78718</td>\n",
       "      <td>411010</td>\n",
       "    </tr>\n",
       "    <tr>\n",
       "      <th>May</th>\n",
       "      <td>417453</td>\n",
       "      <td>465043</td>\n",
       "      <td>527466</td>\n",
       "      <td>622408</td>\n",
       "      <td>606513</td>\n",
       "      <td>615136</td>\n",
       "      <td>3764</td>\n",
       "      <td>19765</td>\n",
       "      <td>445690</td>\n",
       "    </tr>\n",
       "    <tr>\n",
       "      <th>June</th>\n",
       "      <td>451223</td>\n",
       "      <td>502028</td>\n",
       "      <td>546972</td>\n",
       "      <td>663470</td>\n",
       "      <td>683935</td>\n",
       "      <td>726446</td>\n",
       "      <td>8590</td>\n",
       "      <td>36070</td>\n",
       "      <td>547074</td>\n",
       "    </tr>\n",
       "    <tr>\n",
       "      <th>July</th>\n",
       "      <td>506427</td>\n",
       "      <td>5688871</td>\n",
       "      <td>733834</td>\n",
       "      <td>779309</td>\n",
       "      <td>806493</td>\n",
       "      <td>818125</td>\n",
       "      <td>12655</td>\n",
       "      <td>72501</td>\n",
       "      <td>669499</td>\n",
       "    </tr>\n",
       "    <tr>\n",
       "      <th>August</th>\n",
       "      <td>486338</td>\n",
       "      <td>575750</td>\n",
       "      <td>652111</td>\n",
       "      <td>719129</td>\n",
       "      <td>785993</td>\n",
       "      <td>800837</td>\n",
       "      <td>19761</td>\n",
       "      <td>92728</td>\n",
       "      <td>524756</td>\n",
       "    </tr>\n",
       "    <tr>\n",
       "      <th>September</th>\n",
       "      <td>453561</td>\n",
       "      <td>509142</td>\n",
       "      <td>608177</td>\n",
       "      <td>719964</td>\n",
       "      <td>719894</td>\n",
       "      <td>751513</td>\n",
       "      <td>28167</td>\n",
       "      <td>115661</td>\n",
       "      <td>551580</td>\n",
       "    </tr>\n",
       "    <tr>\n",
       "      <th>October</th>\n",
       "      <td>598095</td>\n",
       "      <td>668398</td>\n",
       "      <td>741770</td>\n",
       "      <td>866976</td>\n",
       "      <td>890223</td>\n",
       "      <td>945017</td>\n",
       "      <td>41494</td>\n",
       "      <td>191415</td>\n",
       "      <td>677055</td>\n",
       "    </tr>\n",
       "    <tr>\n",
       "      <th>November</th>\n",
       "      <td>733923</td>\n",
       "      <td>765497</td>\n",
       "      <td>878280</td>\n",
       "      <td>997738</td>\n",
       "      <td>1012569</td>\n",
       "      <td>1092440</td>\n",
       "      <td>70977</td>\n",
       "      <td>263867</td>\n",
       "      <td>789330</td>\n",
       "    </tr>\n",
       "    <tr>\n",
       "      <th>December</th>\n",
       "      <td>821581</td>\n",
       "      <td>885144</td>\n",
       "      <td>1021375</td>\n",
       "      <td>1167840</td>\n",
       "      <td>1191498</td>\n",
       "      <td>1226398</td>\n",
       "      <td>90544</td>\n",
       "      <td>317647</td>\n",
       "      <td>992977</td>\n",
       "    </tr>\n",
       "  </tbody>\n",
       "</table>\n",
       "</div>"
      ],
      "text/plain": [
       "Year         2013     2014     2016     2017     2018     2019     2020    2021    2022\n",
       "Month                                                                                  \n",
       "January    720321   757786   844533   964109  1045027  1111040  1119250   94662  215935\n",
       "February   688569   755678   848782   931025  1049259  1090516  1018440  110312  254538\n",
       "March      639530   690441   809107   885936  1021539   978236   328304  133768  358023\n",
       "April      450580   535321   592004   717899   745033   774651     2820   78718  411010\n",
       "May        417453   465043   527466   622408   606513   615136     3764   19765  445690\n",
       "June       451223   502028   546972   663470   683935   726446     8590   36070  547074\n",
       "July       506427  5688871   733834   779309   806493   818125    12655   72501  669499\n",
       "August     486338   575750   652111   719129   785993   800837    19761   92728  524756\n",
       "September  453561   509142   608177   719964   719894   751513    28167  115661  551580\n",
       "October    598095   668398   741770   866976   890223   945017    41494  191415  677055\n",
       "November   733923   765497   878280   997738  1012569  1092440    70977  263867  789330\n",
       "December   821581   885144  1021375  1167840  1191498  1226398    90544  317647  992977"
      ]
     },
     "execution_count": 105,
     "metadata": {},
     "output_type": "execute_result"
    }
   ],
   "source": [
    "df_pivot"
   ]
  },
  {
   "cell_type": "markdown",
   "metadata": {},
   "source": [
    "# 4"
   ]
  },
  {
   "cell_type": "code",
   "execution_count": 106,
   "metadata": {},
   "outputs": [
    {
     "data": {
      "text/html": [
       "<div>\n",
       "<style scoped>\n",
       "    .dataframe tbody tr th:only-of-type {\n",
       "        vertical-align: middle;\n",
       "    }\n",
       "\n",
       "    .dataframe tbody tr th {\n",
       "        vertical-align: top;\n",
       "    }\n",
       "\n",
       "    .dataframe thead th {\n",
       "        text-align: right;\n",
       "    }\n",
       "</style>\n",
       "<table border=\"1\" class=\"dataframe\">\n",
       "  <thead>\n",
       "    <tr style=\"text-align: right;\">\n",
       "      <th></th>\n",
       "      <th>Month</th>\n",
       "      <th>FTAs</th>\n",
       "      <th>Year</th>\n",
       "      <th>Monthly_Change_Abs</th>\n",
       "      <th>Monthly_Change_Pct</th>\n",
       "    </tr>\n",
       "  </thead>\n",
       "  <tbody>\n",
       "    <tr>\n",
       "      <th>0</th>\n",
       "      <td>January</td>\n",
       "      <td>720321</td>\n",
       "      <td>2013</td>\n",
       "      <td>NaN</td>\n",
       "      <td>NaN</td>\n",
       "    </tr>\n",
       "    <tr>\n",
       "      <th>1</th>\n",
       "      <td>February</td>\n",
       "      <td>688569</td>\n",
       "      <td>2013</td>\n",
       "      <td>-31752.0</td>\n",
       "      <td>-4.408035</td>\n",
       "    </tr>\n",
       "    <tr>\n",
       "      <th>2</th>\n",
       "      <td>March</td>\n",
       "      <td>639530</td>\n",
       "      <td>2013</td>\n",
       "      <td>-49039.0</td>\n",
       "      <td>-7.121872</td>\n",
       "    </tr>\n",
       "    <tr>\n",
       "      <th>3</th>\n",
       "      <td>April</td>\n",
       "      <td>450580</td>\n",
       "      <td>2013</td>\n",
       "      <td>-188950.0</td>\n",
       "      <td>-29.545135</td>\n",
       "    </tr>\n",
       "    <tr>\n",
       "      <th>4</th>\n",
       "      <td>May</td>\n",
       "      <td>417453</td>\n",
       "      <td>2013</td>\n",
       "      <td>-33127.0</td>\n",
       "      <td>-7.352080</td>\n",
       "    </tr>\n",
       "  </tbody>\n",
       "</table>\n",
       "</div>"
      ],
      "text/plain": [
       "      Month    FTAs  Year  Monthly_Change_Abs  Monthly_Change_Pct\n",
       "0   January  720321  2013                 NaN                 NaN\n",
       "1  February  688569  2013            -31752.0           -4.408035\n",
       "2     March  639530  2013            -49039.0           -7.121872\n",
       "3     April  450580  2013           -188950.0          -29.545135\n",
       "4       May  417453  2013            -33127.0           -7.352080"
      ]
     },
     "execution_count": 106,
     "metadata": {},
     "output_type": "execute_result"
    }
   ],
   "source": [
    "# Sort data by year and month, then calculate month-over-month changes\n",
    "# df_all = df_all.sort_values(by=['Year', 'Month']).reset_index(drop=True)\n",
    "\n",
    "# Calculate absolute and percentage changes month-over-month\n",
    "df_all['Monthly_Change_Abs'] = df_all['FTAs'].diff()\n",
    "df_all['Monthly_Change_Pct'] = df_all['FTAs'].pct_change() * 100\n",
    "\n",
    "# print(df_all[['Year', 'Month', 'FTAs', 'Monthly_Change_Abs', 'Monthly_Change_Pct']])\n",
    "df_all.head()"
   ]
  },
  {
   "cell_type": "code",
   "execution_count": 107,
   "metadata": {},
   "outputs": [],
   "source": [
    "df_all.to_csv('4_Change_from_prev_month.csv',index=False)"
   ]
  },
  {
   "cell_type": "code",
   "execution_count": 108,
   "metadata": {},
   "outputs": [
    {
     "data": {
      "application/vnd.plotly.v1+json": {
       "config": {
        "plotlyServerURL": "https://plot.ly"
       },
       "data": [
        {
         "name": "Total FTAs by Year",
         "type": "bar",
         "x": [
          2013,
          2014,
          2016,
          2017,
          2018,
          2019,
          2020,
          2021,
          2022
         ],
         "xaxis": "x",
         "y": [
          6967601,
          12799099,
          8804411,
          10035803,
          10557976,
          10930355,
          2744766,
          1527114,
          6437467
         ],
         "yaxis": "y"
        },
        {
         "name": "Total FTAs by Month",
         "type": "bar",
         "x": [
          "January",
          "February",
          "March",
          "April",
          "May",
          "June",
          "July",
          "August",
          "September",
          "October",
          "November",
          "December"
         ],
         "xaxis": "x2",
         "y": [
          6872663,
          6747119,
          5844884,
          4308036,
          3723238,
          4165808,
          10087714,
          4657403,
          4457659,
          5620443,
          6604621,
          7715004
         ],
         "yaxis": "y2"
        }
       ],
       "layout": {
        "annotations": [
         {
          "font": {
           "size": 16
          },
          "showarrow": false,
          "text": "Total FTAs by Year",
          "x": 0.225,
          "xanchor": "center",
          "xref": "paper",
          "y": 1,
          "yanchor": "bottom",
          "yref": "paper"
         },
         {
          "font": {
           "size": 16
          },
          "showarrow": false,
          "text": "Total FTAs by Month",
          "x": 0.775,
          "xanchor": "center",
          "xref": "paper",
          "y": 1,
          "yanchor": "bottom",
          "yref": "paper"
         }
        ],
        "height": 500,
        "showlegend": false,
        "template": {
         "data": {
          "bar": [
           {
            "error_x": {
             "color": "#2a3f5f"
            },
            "error_y": {
             "color": "#2a3f5f"
            },
            "marker": {
             "line": {
              "color": "white",
              "width": 0.5
             },
             "pattern": {
              "fillmode": "overlay",
              "size": 10,
              "solidity": 0.2
             }
            },
            "type": "bar"
           }
          ],
          "barpolar": [
           {
            "marker": {
             "line": {
              "color": "white",
              "width": 0.5
             },
             "pattern": {
              "fillmode": "overlay",
              "size": 10,
              "solidity": 0.2
             }
            },
            "type": "barpolar"
           }
          ],
          "carpet": [
           {
            "aaxis": {
             "endlinecolor": "#2a3f5f",
             "gridcolor": "#C8D4E3",
             "linecolor": "#C8D4E3",
             "minorgridcolor": "#C8D4E3",
             "startlinecolor": "#2a3f5f"
            },
            "baxis": {
             "endlinecolor": "#2a3f5f",
             "gridcolor": "#C8D4E3",
             "linecolor": "#C8D4E3",
             "minorgridcolor": "#C8D4E3",
             "startlinecolor": "#2a3f5f"
            },
            "type": "carpet"
           }
          ],
          "choropleth": [
           {
            "colorbar": {
             "outlinewidth": 0,
             "ticks": ""
            },
            "type": "choropleth"
           }
          ],
          "contour": [
           {
            "colorbar": {
             "outlinewidth": 0,
             "ticks": ""
            },
            "colorscale": [
             [
              0,
              "#0d0887"
             ],
             [
              0.1111111111111111,
              "#46039f"
             ],
             [
              0.2222222222222222,
              "#7201a8"
             ],
             [
              0.3333333333333333,
              "#9c179e"
             ],
             [
              0.4444444444444444,
              "#bd3786"
             ],
             [
              0.5555555555555556,
              "#d8576b"
             ],
             [
              0.6666666666666666,
              "#ed7953"
             ],
             [
              0.7777777777777778,
              "#fb9f3a"
             ],
             [
              0.8888888888888888,
              "#fdca26"
             ],
             [
              1,
              "#f0f921"
             ]
            ],
            "type": "contour"
           }
          ],
          "contourcarpet": [
           {
            "colorbar": {
             "outlinewidth": 0,
             "ticks": ""
            },
            "type": "contourcarpet"
           }
          ],
          "heatmap": [
           {
            "colorbar": {
             "outlinewidth": 0,
             "ticks": ""
            },
            "colorscale": [
             [
              0,
              "#0d0887"
             ],
             [
              0.1111111111111111,
              "#46039f"
             ],
             [
              0.2222222222222222,
              "#7201a8"
             ],
             [
              0.3333333333333333,
              "#9c179e"
             ],
             [
              0.4444444444444444,
              "#bd3786"
             ],
             [
              0.5555555555555556,
              "#d8576b"
             ],
             [
              0.6666666666666666,
              "#ed7953"
             ],
             [
              0.7777777777777778,
              "#fb9f3a"
             ],
             [
              0.8888888888888888,
              "#fdca26"
             ],
             [
              1,
              "#f0f921"
             ]
            ],
            "type": "heatmap"
           }
          ],
          "heatmapgl": [
           {
            "colorbar": {
             "outlinewidth": 0,
             "ticks": ""
            },
            "colorscale": [
             [
              0,
              "#0d0887"
             ],
             [
              0.1111111111111111,
              "#46039f"
             ],
             [
              0.2222222222222222,
              "#7201a8"
             ],
             [
              0.3333333333333333,
              "#9c179e"
             ],
             [
              0.4444444444444444,
              "#bd3786"
             ],
             [
              0.5555555555555556,
              "#d8576b"
             ],
             [
              0.6666666666666666,
              "#ed7953"
             ],
             [
              0.7777777777777778,
              "#fb9f3a"
             ],
             [
              0.8888888888888888,
              "#fdca26"
             ],
             [
              1,
              "#f0f921"
             ]
            ],
            "type": "heatmapgl"
           }
          ],
          "histogram": [
           {
            "marker": {
             "pattern": {
              "fillmode": "overlay",
              "size": 10,
              "solidity": 0.2
             }
            },
            "type": "histogram"
           }
          ],
          "histogram2d": [
           {
            "colorbar": {
             "outlinewidth": 0,
             "ticks": ""
            },
            "colorscale": [
             [
              0,
              "#0d0887"
             ],
             [
              0.1111111111111111,
              "#46039f"
             ],
             [
              0.2222222222222222,
              "#7201a8"
             ],
             [
              0.3333333333333333,
              "#9c179e"
             ],
             [
              0.4444444444444444,
              "#bd3786"
             ],
             [
              0.5555555555555556,
              "#d8576b"
             ],
             [
              0.6666666666666666,
              "#ed7953"
             ],
             [
              0.7777777777777778,
              "#fb9f3a"
             ],
             [
              0.8888888888888888,
              "#fdca26"
             ],
             [
              1,
              "#f0f921"
             ]
            ],
            "type": "histogram2d"
           }
          ],
          "histogram2dcontour": [
           {
            "colorbar": {
             "outlinewidth": 0,
             "ticks": ""
            },
            "colorscale": [
             [
              0,
              "#0d0887"
             ],
             [
              0.1111111111111111,
              "#46039f"
             ],
             [
              0.2222222222222222,
              "#7201a8"
             ],
             [
              0.3333333333333333,
              "#9c179e"
             ],
             [
              0.4444444444444444,
              "#bd3786"
             ],
             [
              0.5555555555555556,
              "#d8576b"
             ],
             [
              0.6666666666666666,
              "#ed7953"
             ],
             [
              0.7777777777777778,
              "#fb9f3a"
             ],
             [
              0.8888888888888888,
              "#fdca26"
             ],
             [
              1,
              "#f0f921"
             ]
            ],
            "type": "histogram2dcontour"
           }
          ],
          "mesh3d": [
           {
            "colorbar": {
             "outlinewidth": 0,
             "ticks": ""
            },
            "type": "mesh3d"
           }
          ],
          "parcoords": [
           {
            "line": {
             "colorbar": {
              "outlinewidth": 0,
              "ticks": ""
             }
            },
            "type": "parcoords"
           }
          ],
          "pie": [
           {
            "automargin": true,
            "type": "pie"
           }
          ],
          "scatter": [
           {
            "fillpattern": {
             "fillmode": "overlay",
             "size": 10,
             "solidity": 0.2
            },
            "type": "scatter"
           }
          ],
          "scatter3d": [
           {
            "line": {
             "colorbar": {
              "outlinewidth": 0,
              "ticks": ""
             }
            },
            "marker": {
             "colorbar": {
              "outlinewidth": 0,
              "ticks": ""
             }
            },
            "type": "scatter3d"
           }
          ],
          "scattercarpet": [
           {
            "marker": {
             "colorbar": {
              "outlinewidth": 0,
              "ticks": ""
             }
            },
            "type": "scattercarpet"
           }
          ],
          "scattergeo": [
           {
            "marker": {
             "colorbar": {
              "outlinewidth": 0,
              "ticks": ""
             }
            },
            "type": "scattergeo"
           }
          ],
          "scattergl": [
           {
            "marker": {
             "colorbar": {
              "outlinewidth": 0,
              "ticks": ""
             }
            },
            "type": "scattergl"
           }
          ],
          "scattermapbox": [
           {
            "marker": {
             "colorbar": {
              "outlinewidth": 0,
              "ticks": ""
             }
            },
            "type": "scattermapbox"
           }
          ],
          "scatterpolar": [
           {
            "marker": {
             "colorbar": {
              "outlinewidth": 0,
              "ticks": ""
             }
            },
            "type": "scatterpolar"
           }
          ],
          "scatterpolargl": [
           {
            "marker": {
             "colorbar": {
              "outlinewidth": 0,
              "ticks": ""
             }
            },
            "type": "scatterpolargl"
           }
          ],
          "scatterternary": [
           {
            "marker": {
             "colorbar": {
              "outlinewidth": 0,
              "ticks": ""
             }
            },
            "type": "scatterternary"
           }
          ],
          "surface": [
           {
            "colorbar": {
             "outlinewidth": 0,
             "ticks": ""
            },
            "colorscale": [
             [
              0,
              "#0d0887"
             ],
             [
              0.1111111111111111,
              "#46039f"
             ],
             [
              0.2222222222222222,
              "#7201a8"
             ],
             [
              0.3333333333333333,
              "#9c179e"
             ],
             [
              0.4444444444444444,
              "#bd3786"
             ],
             [
              0.5555555555555556,
              "#d8576b"
             ],
             [
              0.6666666666666666,
              "#ed7953"
             ],
             [
              0.7777777777777778,
              "#fb9f3a"
             ],
             [
              0.8888888888888888,
              "#fdca26"
             ],
             [
              1,
              "#f0f921"
             ]
            ],
            "type": "surface"
           }
          ],
          "table": [
           {
            "cells": {
             "fill": {
              "color": "#EBF0F8"
             },
             "line": {
              "color": "white"
             }
            },
            "header": {
             "fill": {
              "color": "#C8D4E3"
             },
             "line": {
              "color": "white"
             }
            },
            "type": "table"
           }
          ]
         },
         "layout": {
          "annotationdefaults": {
           "arrowcolor": "#2a3f5f",
           "arrowhead": 0,
           "arrowwidth": 1
          },
          "autotypenumbers": "strict",
          "coloraxis": {
           "colorbar": {
            "outlinewidth": 0,
            "ticks": ""
           }
          },
          "colorscale": {
           "diverging": [
            [
             0,
             "#8e0152"
            ],
            [
             0.1,
             "#c51b7d"
            ],
            [
             0.2,
             "#de77ae"
            ],
            [
             0.3,
             "#f1b6da"
            ],
            [
             0.4,
             "#fde0ef"
            ],
            [
             0.5,
             "#f7f7f7"
            ],
            [
             0.6,
             "#e6f5d0"
            ],
            [
             0.7,
             "#b8e186"
            ],
            [
             0.8,
             "#7fbc41"
            ],
            [
             0.9,
             "#4d9221"
            ],
            [
             1,
             "#276419"
            ]
           ],
           "sequential": [
            [
             0,
             "#0d0887"
            ],
            [
             0.1111111111111111,
             "#46039f"
            ],
            [
             0.2222222222222222,
             "#7201a8"
            ],
            [
             0.3333333333333333,
             "#9c179e"
            ],
            [
             0.4444444444444444,
             "#bd3786"
            ],
            [
             0.5555555555555556,
             "#d8576b"
            ],
            [
             0.6666666666666666,
             "#ed7953"
            ],
            [
             0.7777777777777778,
             "#fb9f3a"
            ],
            [
             0.8888888888888888,
             "#fdca26"
            ],
            [
             1,
             "#f0f921"
            ]
           ],
           "sequentialminus": [
            [
             0,
             "#0d0887"
            ],
            [
             0.1111111111111111,
             "#46039f"
            ],
            [
             0.2222222222222222,
             "#7201a8"
            ],
            [
             0.3333333333333333,
             "#9c179e"
            ],
            [
             0.4444444444444444,
             "#bd3786"
            ],
            [
             0.5555555555555556,
             "#d8576b"
            ],
            [
             0.6666666666666666,
             "#ed7953"
            ],
            [
             0.7777777777777778,
             "#fb9f3a"
            ],
            [
             0.8888888888888888,
             "#fdca26"
            ],
            [
             1,
             "#f0f921"
            ]
           ]
          },
          "colorway": [
           "#636efa",
           "#EF553B",
           "#00cc96",
           "#ab63fa",
           "#FFA15A",
           "#19d3f3",
           "#FF6692",
           "#B6E880",
           "#FF97FF",
           "#FECB52"
          ],
          "font": {
           "color": "#2a3f5f"
          },
          "geo": {
           "bgcolor": "white",
           "lakecolor": "white",
           "landcolor": "white",
           "showlakes": true,
           "showland": true,
           "subunitcolor": "#C8D4E3"
          },
          "hoverlabel": {
           "align": "left"
          },
          "hovermode": "closest",
          "mapbox": {
           "style": "light"
          },
          "paper_bgcolor": "white",
          "plot_bgcolor": "white",
          "polar": {
           "angularaxis": {
            "gridcolor": "#EBF0F8",
            "linecolor": "#EBF0F8",
            "ticks": ""
           },
           "bgcolor": "white",
           "radialaxis": {
            "gridcolor": "#EBF0F8",
            "linecolor": "#EBF0F8",
            "ticks": ""
           }
          },
          "scene": {
           "xaxis": {
            "backgroundcolor": "white",
            "gridcolor": "#DFE8F3",
            "gridwidth": 2,
            "linecolor": "#EBF0F8",
            "showbackground": true,
            "ticks": "",
            "zerolinecolor": "#EBF0F8"
           },
           "yaxis": {
            "backgroundcolor": "white",
            "gridcolor": "#DFE8F3",
            "gridwidth": 2,
            "linecolor": "#EBF0F8",
            "showbackground": true,
            "ticks": "",
            "zerolinecolor": "#EBF0F8"
           },
           "zaxis": {
            "backgroundcolor": "white",
            "gridcolor": "#DFE8F3",
            "gridwidth": 2,
            "linecolor": "#EBF0F8",
            "showbackground": true,
            "ticks": "",
            "zerolinecolor": "#EBF0F8"
           }
          },
          "shapedefaults": {
           "line": {
            "color": "#2a3f5f"
           }
          },
          "ternary": {
           "aaxis": {
            "gridcolor": "#DFE8F3",
            "linecolor": "#A2B1C6",
            "ticks": ""
           },
           "baxis": {
            "gridcolor": "#DFE8F3",
            "linecolor": "#A2B1C6",
            "ticks": ""
           },
           "bgcolor": "white",
           "caxis": {
            "gridcolor": "#DFE8F3",
            "linecolor": "#A2B1C6",
            "ticks": ""
           }
          },
          "title": {
           "x": 0.05
          },
          "xaxis": {
           "automargin": true,
           "gridcolor": "#EBF0F8",
           "linecolor": "#EBF0F8",
           "ticks": "",
           "title": {
            "standoff": 15
           },
           "zerolinecolor": "#EBF0F8",
           "zerolinewidth": 2
          },
          "yaxis": {
           "automargin": true,
           "gridcolor": "#EBF0F8",
           "linecolor": "#EBF0F8",
           "ticks": "",
           "title": {
            "standoff": 15
           },
           "zerolinecolor": "#EBF0F8",
           "zerolinewidth": 2
          }
         }
        },
        "title": {
         "text": "Interactive Overview of FTAs by Year and Month"
        },
        "xaxis": {
         "anchor": "y",
         "domain": [
          0,
          0.45
         ],
         "title": {
          "text": "Year"
         }
        },
        "xaxis2": {
         "anchor": "y2",
         "domain": [
          0.55,
          1
         ],
         "title": {
          "text": "Month"
         }
        },
        "yaxis": {
         "anchor": "x",
         "domain": [
          0,
          1
         ],
         "title": {
          "text": "Total FTAs"
         }
        },
        "yaxis2": {
         "anchor": "x2",
         "domain": [
          0,
          1
         ],
         "title": {
          "text": "Total FTAs"
         }
        }
       }
      }
     },
     "metadata": {},
     "output_type": "display_data"
    },
    {
     "data": {
      "application/vnd.plotly.v1+json": {
       "config": {
        "plotlyServerURL": "https://plot.ly"
       },
       "data": [
        {
         "line": {
          "color": "skyblue"
         },
         "mode": "lines+markers",
         "name": "Monthly Change (Abs)",
         "type": "scatter",
         "x": [
          "2013-January",
          "2013-February",
          "2013-March",
          "2013-April",
          "2013-May",
          "2013-June",
          "2013-July",
          "2013-August",
          "2013-September",
          "2013-October",
          "2013-November",
          "2013-December",
          "2014-January",
          "2014-February",
          "2014-March",
          "2014-April",
          "2014-May",
          "2014-June",
          "2014-July",
          "2014-August",
          "2014-September",
          "2014-October",
          "2014-November",
          "2014-December",
          "2016-January",
          "2016-February",
          "2016-March",
          "2016-April",
          "2016-May",
          "2016-June",
          "2016-July",
          "2016-August",
          "2016-September",
          "2016-October",
          "2016-November",
          "2016-December",
          "2017-January",
          "2017-February",
          "2017-March",
          "2017-April",
          "2017-May",
          "2017-June",
          "2017-July",
          "2017-August",
          "2017-September",
          "2017-October",
          "2017-November",
          "2017-December",
          "2018-January",
          "2018-February",
          "2018-March",
          "2018-April",
          "2018-May",
          "2018-June",
          "2018-July",
          "2018-August",
          "2018-September",
          "2018-October",
          "2018-November",
          "2018-December",
          "2019-January",
          "2019-February",
          "2019-March",
          "2019-April",
          "2019-May",
          "2019-June",
          "2019-July",
          "2019-August",
          "2019-September",
          "2019-October",
          "2019-November",
          "2019-December",
          "2020-January",
          "2020-February",
          "2020-March",
          "2020-April",
          "2020-May",
          "2020-June",
          "2020-July",
          "2020-August",
          "2020-September",
          "2020-October",
          "2020-November",
          "2020-December",
          "2021-January",
          "2021-February",
          "2021-March",
          "2021-April",
          "2021-May",
          "2021-June",
          "2021-July",
          "2021-August",
          "2021-September",
          "2021-October",
          "2021-November",
          "2021-December",
          "2022-January",
          "2022-February",
          "2022-March",
          "2022-April",
          "2022-May",
          "2022-June",
          "2022-July",
          "2022-August",
          "2022-September",
          "2022-October",
          "2022-November",
          "2022-December"
         ],
         "xaxis": "x",
         "y": [
          0,
          -31752,
          -49039,
          -188950,
          -33127,
          33770,
          55204,
          -20089,
          -32777,
          144534,
          135828,
          87658,
          -63795,
          -2108,
          -65237,
          -155120,
          -70278,
          36985,
          5186843,
          -5113121,
          -66608,
          159256,
          97099,
          119647,
          -40611,
          4249,
          -39675,
          -217103,
          -64538,
          19506,
          186862,
          -81723,
          -43934,
          133593,
          136510,
          143095,
          -57266,
          -33084,
          -45089,
          -168037,
          -95491,
          41062,
          115839,
          -60180,
          835,
          147012,
          130762,
          170102,
          -122813,
          4232,
          -27720,
          -276506,
          -138520,
          77422,
          122558,
          -20500,
          -66099,
          170329,
          122346,
          178929,
          -80458,
          -20524,
          -112280,
          -203585,
          -159515,
          111310,
          91679,
          -17288,
          -49324,
          193504,
          147423,
          133958,
          -107148,
          -100810,
          -690136,
          -325484,
          944,
          4826,
          4065,
          7106,
          8406,
          13327,
          29483,
          19567,
          4118,
          15650,
          23456,
          -55050,
          -58953,
          16305,
          36431,
          20227,
          22933,
          75754,
          72452,
          53780,
          -101712,
          38603,
          103485,
          52987,
          34680,
          101384,
          122425,
          -144743,
          26824,
          125475,
          112275,
          203647
         ],
         "yaxis": "y"
        },
        {
         "line": {
          "color": "salmon"
         },
         "mode": "lines+markers",
         "name": "Monthly Change (Pct)",
         "type": "scatter",
         "x": [
          "2013-January",
          "2013-February",
          "2013-March",
          "2013-April",
          "2013-May",
          "2013-June",
          "2013-July",
          "2013-August",
          "2013-September",
          "2013-October",
          "2013-November",
          "2013-December",
          "2014-January",
          "2014-February",
          "2014-March",
          "2014-April",
          "2014-May",
          "2014-June",
          "2014-July",
          "2014-August",
          "2014-September",
          "2014-October",
          "2014-November",
          "2014-December",
          "2016-January",
          "2016-February",
          "2016-March",
          "2016-April",
          "2016-May",
          "2016-June",
          "2016-July",
          "2016-August",
          "2016-September",
          "2016-October",
          "2016-November",
          "2016-December",
          "2017-January",
          "2017-February",
          "2017-March",
          "2017-April",
          "2017-May",
          "2017-June",
          "2017-July",
          "2017-August",
          "2017-September",
          "2017-October",
          "2017-November",
          "2017-December",
          "2018-January",
          "2018-February",
          "2018-March",
          "2018-April",
          "2018-May",
          "2018-June",
          "2018-July",
          "2018-August",
          "2018-September",
          "2018-October",
          "2018-November",
          "2018-December",
          "2019-January",
          "2019-February",
          "2019-March",
          "2019-April",
          "2019-May",
          "2019-June",
          "2019-July",
          "2019-August",
          "2019-September",
          "2019-October",
          "2019-November",
          "2019-December",
          "2020-January",
          "2020-February",
          "2020-March",
          "2020-April",
          "2020-May",
          "2020-June",
          "2020-July",
          "2020-August",
          "2020-September",
          "2020-October",
          "2020-November",
          "2020-December",
          "2021-January",
          "2021-February",
          "2021-March",
          "2021-April",
          "2021-May",
          "2021-June",
          "2021-July",
          "2021-August",
          "2021-September",
          "2021-October",
          "2021-November",
          "2021-December",
          "2022-January",
          "2022-February",
          "2022-March",
          "2022-April",
          "2022-May",
          "2022-June",
          "2022-July",
          "2022-August",
          "2022-September",
          "2022-October",
          "2022-November",
          "2022-December"
         ],
         "xaxis": "x2",
         "y": [
          0,
          -4.40803475117344,
          -7.121871591663287,
          -29.54513470830141,
          -7.3520795419237395,
          8.08953343250618,
          12.23430543212558,
          -3.9668106163376016,
          -6.739551505331686,
          31.86649645802879,
          22.710104582048007,
          11.943759767714045,
          -7.764906929444571,
          -0.2781787998194729,
          -8.632909784326126,
          -22.466800204506974,
          -13.12819784764655,
          7.953027999561324,
          1033.1780299106822,
          -89.87936270658976,
          -11.568910117238385,
          31.279289471306626,
          14.52712306140953,
          15.62997634216725,
          -4.588067026382148,
          0.5031182914107646,
          -4.674345120419609,
          -26.832421422630137,
          -10.901615529624797,
          3.6980582634710046,
          34.16299188989564,
          -11.13644230166495,
          -6.737196581563564,
          21.966138147282788,
          18.403278644323716,
          16.292640160313333,
          -5.60675559906988,
          -3.4315621988800005,
          -4.842941918852873,
          -18.967171443535424,
          -13.301453268495989,
          6.597280240613879,
          17.45956863158846,
          -7.722225715345266,
          0.1161126863191475,
          20.419354301048376,
          15.0825397704204,
          17.048764304857578,
          -10.516252226332378,
          0.4049656133286561,
          -2.6418644014490233,
          -27.067591154131165,
          -18.592465031750272,
          12.76510148999279,
          17.919539137491135,
          -2.5418695512546274,
          -8.409616879539639,
          23.66028887586229,
          13.743298027572859,
          17.67079576799211,
          -6.752676043098682,
          -1.847278225806448,
          -10.296043340950522,
          -20.81144018416824,
          -20.59185362182454,
          18.09518545492379,
          12.620208522037423,
          -2.1131245225362916,
          -6.159056087568382,
          25.74858984475319,
          15.600036824734364,
          12.262275273699252,
          -8.736804854541514,
          -9.006924279651551,
          -67.76403126350104,
          -99.14104001169648,
          33.47517730496455,
          128.21466524973434,
          47.32246798603026,
          56.15171868826552,
          42.5383330803097,
          47.314232967657176,
          71.05364631030993,
          27.568085436127188,
          4.5480650291571,
          16.532505123492,
          21.263325839437243,
          -41.15334011123737,
          -74.89138443558016,
          82.49430812041487,
          101.00083171610757,
          27.898925532061636,
          24.731472694331803,
          65.49658052411789,
          37.85074314970092,
          20.381480063820035,
          -32.02045037415747,
          17.877138953851855,
          40.65601206892489,
          14.7998871580876,
          8.437750906303986,
          22.747649711683017,
          22.37814262787119,
          -21.6195991330831,
          5.111709060973091,
          22.748286739910807,
          16.582847774553034,
          25.799982263438604
         ],
         "yaxis": "y2"
        }
       ],
       "layout": {
        "annotations": [
         {
          "font": {
           "size": 16
          },
          "showarrow": false,
          "text": "Monthly Change in FTAs (Absolute)",
          "x": 0.225,
          "xanchor": "center",
          "xref": "paper",
          "y": 1,
          "yanchor": "bottom",
          "yref": "paper"
         },
         {
          "font": {
           "size": 16
          },
          "showarrow": false,
          "text": "Monthly Change in FTAs (Percentage)",
          "x": 0.775,
          "xanchor": "center",
          "xref": "paper",
          "y": 1,
          "yanchor": "bottom",
          "yref": "paper"
         }
        ],
        "height": 500,
        "showlegend": false,
        "template": {
         "data": {
          "bar": [
           {
            "error_x": {
             "color": "#2a3f5f"
            },
            "error_y": {
             "color": "#2a3f5f"
            },
            "marker": {
             "line": {
              "color": "white",
              "width": 0.5
             },
             "pattern": {
              "fillmode": "overlay",
              "size": 10,
              "solidity": 0.2
             }
            },
            "type": "bar"
           }
          ],
          "barpolar": [
           {
            "marker": {
             "line": {
              "color": "white",
              "width": 0.5
             },
             "pattern": {
              "fillmode": "overlay",
              "size": 10,
              "solidity": 0.2
             }
            },
            "type": "barpolar"
           }
          ],
          "carpet": [
           {
            "aaxis": {
             "endlinecolor": "#2a3f5f",
             "gridcolor": "#C8D4E3",
             "linecolor": "#C8D4E3",
             "minorgridcolor": "#C8D4E3",
             "startlinecolor": "#2a3f5f"
            },
            "baxis": {
             "endlinecolor": "#2a3f5f",
             "gridcolor": "#C8D4E3",
             "linecolor": "#C8D4E3",
             "minorgridcolor": "#C8D4E3",
             "startlinecolor": "#2a3f5f"
            },
            "type": "carpet"
           }
          ],
          "choropleth": [
           {
            "colorbar": {
             "outlinewidth": 0,
             "ticks": ""
            },
            "type": "choropleth"
           }
          ],
          "contour": [
           {
            "colorbar": {
             "outlinewidth": 0,
             "ticks": ""
            },
            "colorscale": [
             [
              0,
              "#0d0887"
             ],
             [
              0.1111111111111111,
              "#46039f"
             ],
             [
              0.2222222222222222,
              "#7201a8"
             ],
             [
              0.3333333333333333,
              "#9c179e"
             ],
             [
              0.4444444444444444,
              "#bd3786"
             ],
             [
              0.5555555555555556,
              "#d8576b"
             ],
             [
              0.6666666666666666,
              "#ed7953"
             ],
             [
              0.7777777777777778,
              "#fb9f3a"
             ],
             [
              0.8888888888888888,
              "#fdca26"
             ],
             [
              1,
              "#f0f921"
             ]
            ],
            "type": "contour"
           }
          ],
          "contourcarpet": [
           {
            "colorbar": {
             "outlinewidth": 0,
             "ticks": ""
            },
            "type": "contourcarpet"
           }
          ],
          "heatmap": [
           {
            "colorbar": {
             "outlinewidth": 0,
             "ticks": ""
            },
            "colorscale": [
             [
              0,
              "#0d0887"
             ],
             [
              0.1111111111111111,
              "#46039f"
             ],
             [
              0.2222222222222222,
              "#7201a8"
             ],
             [
              0.3333333333333333,
              "#9c179e"
             ],
             [
              0.4444444444444444,
              "#bd3786"
             ],
             [
              0.5555555555555556,
              "#d8576b"
             ],
             [
              0.6666666666666666,
              "#ed7953"
             ],
             [
              0.7777777777777778,
              "#fb9f3a"
             ],
             [
              0.8888888888888888,
              "#fdca26"
             ],
             [
              1,
              "#f0f921"
             ]
            ],
            "type": "heatmap"
           }
          ],
          "heatmapgl": [
           {
            "colorbar": {
             "outlinewidth": 0,
             "ticks": ""
            },
            "colorscale": [
             [
              0,
              "#0d0887"
             ],
             [
              0.1111111111111111,
              "#46039f"
             ],
             [
              0.2222222222222222,
              "#7201a8"
             ],
             [
              0.3333333333333333,
              "#9c179e"
             ],
             [
              0.4444444444444444,
              "#bd3786"
             ],
             [
              0.5555555555555556,
              "#d8576b"
             ],
             [
              0.6666666666666666,
              "#ed7953"
             ],
             [
              0.7777777777777778,
              "#fb9f3a"
             ],
             [
              0.8888888888888888,
              "#fdca26"
             ],
             [
              1,
              "#f0f921"
             ]
            ],
            "type": "heatmapgl"
           }
          ],
          "histogram": [
           {
            "marker": {
             "pattern": {
              "fillmode": "overlay",
              "size": 10,
              "solidity": 0.2
             }
            },
            "type": "histogram"
           }
          ],
          "histogram2d": [
           {
            "colorbar": {
             "outlinewidth": 0,
             "ticks": ""
            },
            "colorscale": [
             [
              0,
              "#0d0887"
             ],
             [
              0.1111111111111111,
              "#46039f"
             ],
             [
              0.2222222222222222,
              "#7201a8"
             ],
             [
              0.3333333333333333,
              "#9c179e"
             ],
             [
              0.4444444444444444,
              "#bd3786"
             ],
             [
              0.5555555555555556,
              "#d8576b"
             ],
             [
              0.6666666666666666,
              "#ed7953"
             ],
             [
              0.7777777777777778,
              "#fb9f3a"
             ],
             [
              0.8888888888888888,
              "#fdca26"
             ],
             [
              1,
              "#f0f921"
             ]
            ],
            "type": "histogram2d"
           }
          ],
          "histogram2dcontour": [
           {
            "colorbar": {
             "outlinewidth": 0,
             "ticks": ""
            },
            "colorscale": [
             [
              0,
              "#0d0887"
             ],
             [
              0.1111111111111111,
              "#46039f"
             ],
             [
              0.2222222222222222,
              "#7201a8"
             ],
             [
              0.3333333333333333,
              "#9c179e"
             ],
             [
              0.4444444444444444,
              "#bd3786"
             ],
             [
              0.5555555555555556,
              "#d8576b"
             ],
             [
              0.6666666666666666,
              "#ed7953"
             ],
             [
              0.7777777777777778,
              "#fb9f3a"
             ],
             [
              0.8888888888888888,
              "#fdca26"
             ],
             [
              1,
              "#f0f921"
             ]
            ],
            "type": "histogram2dcontour"
           }
          ],
          "mesh3d": [
           {
            "colorbar": {
             "outlinewidth": 0,
             "ticks": ""
            },
            "type": "mesh3d"
           }
          ],
          "parcoords": [
           {
            "line": {
             "colorbar": {
              "outlinewidth": 0,
              "ticks": ""
             }
            },
            "type": "parcoords"
           }
          ],
          "pie": [
           {
            "automargin": true,
            "type": "pie"
           }
          ],
          "scatter": [
           {
            "fillpattern": {
             "fillmode": "overlay",
             "size": 10,
             "solidity": 0.2
            },
            "type": "scatter"
           }
          ],
          "scatter3d": [
           {
            "line": {
             "colorbar": {
              "outlinewidth": 0,
              "ticks": ""
             }
            },
            "marker": {
             "colorbar": {
              "outlinewidth": 0,
              "ticks": ""
             }
            },
            "type": "scatter3d"
           }
          ],
          "scattercarpet": [
           {
            "marker": {
             "colorbar": {
              "outlinewidth": 0,
              "ticks": ""
             }
            },
            "type": "scattercarpet"
           }
          ],
          "scattergeo": [
           {
            "marker": {
             "colorbar": {
              "outlinewidth": 0,
              "ticks": ""
             }
            },
            "type": "scattergeo"
           }
          ],
          "scattergl": [
           {
            "marker": {
             "colorbar": {
              "outlinewidth": 0,
              "ticks": ""
             }
            },
            "type": "scattergl"
           }
          ],
          "scattermapbox": [
           {
            "marker": {
             "colorbar": {
              "outlinewidth": 0,
              "ticks": ""
             }
            },
            "type": "scattermapbox"
           }
          ],
          "scatterpolar": [
           {
            "marker": {
             "colorbar": {
              "outlinewidth": 0,
              "ticks": ""
             }
            },
            "type": "scatterpolar"
           }
          ],
          "scatterpolargl": [
           {
            "marker": {
             "colorbar": {
              "outlinewidth": 0,
              "ticks": ""
             }
            },
            "type": "scatterpolargl"
           }
          ],
          "scatterternary": [
           {
            "marker": {
             "colorbar": {
              "outlinewidth": 0,
              "ticks": ""
             }
            },
            "type": "scatterternary"
           }
          ],
          "surface": [
           {
            "colorbar": {
             "outlinewidth": 0,
             "ticks": ""
            },
            "colorscale": [
             [
              0,
              "#0d0887"
             ],
             [
              0.1111111111111111,
              "#46039f"
             ],
             [
              0.2222222222222222,
              "#7201a8"
             ],
             [
              0.3333333333333333,
              "#9c179e"
             ],
             [
              0.4444444444444444,
              "#bd3786"
             ],
             [
              0.5555555555555556,
              "#d8576b"
             ],
             [
              0.6666666666666666,
              "#ed7953"
             ],
             [
              0.7777777777777778,
              "#fb9f3a"
             ],
             [
              0.8888888888888888,
              "#fdca26"
             ],
             [
              1,
              "#f0f921"
             ]
            ],
            "type": "surface"
           }
          ],
          "table": [
           {
            "cells": {
             "fill": {
              "color": "#EBF0F8"
             },
             "line": {
              "color": "white"
             }
            },
            "header": {
             "fill": {
              "color": "#C8D4E3"
             },
             "line": {
              "color": "white"
             }
            },
            "type": "table"
           }
          ]
         },
         "layout": {
          "annotationdefaults": {
           "arrowcolor": "#2a3f5f",
           "arrowhead": 0,
           "arrowwidth": 1
          },
          "autotypenumbers": "strict",
          "coloraxis": {
           "colorbar": {
            "outlinewidth": 0,
            "ticks": ""
           }
          },
          "colorscale": {
           "diverging": [
            [
             0,
             "#8e0152"
            ],
            [
             0.1,
             "#c51b7d"
            ],
            [
             0.2,
             "#de77ae"
            ],
            [
             0.3,
             "#f1b6da"
            ],
            [
             0.4,
             "#fde0ef"
            ],
            [
             0.5,
             "#f7f7f7"
            ],
            [
             0.6,
             "#e6f5d0"
            ],
            [
             0.7,
             "#b8e186"
            ],
            [
             0.8,
             "#7fbc41"
            ],
            [
             0.9,
             "#4d9221"
            ],
            [
             1,
             "#276419"
            ]
           ],
           "sequential": [
            [
             0,
             "#0d0887"
            ],
            [
             0.1111111111111111,
             "#46039f"
            ],
            [
             0.2222222222222222,
             "#7201a8"
            ],
            [
             0.3333333333333333,
             "#9c179e"
            ],
            [
             0.4444444444444444,
             "#bd3786"
            ],
            [
             0.5555555555555556,
             "#d8576b"
            ],
            [
             0.6666666666666666,
             "#ed7953"
            ],
            [
             0.7777777777777778,
             "#fb9f3a"
            ],
            [
             0.8888888888888888,
             "#fdca26"
            ],
            [
             1,
             "#f0f921"
            ]
           ],
           "sequentialminus": [
            [
             0,
             "#0d0887"
            ],
            [
             0.1111111111111111,
             "#46039f"
            ],
            [
             0.2222222222222222,
             "#7201a8"
            ],
            [
             0.3333333333333333,
             "#9c179e"
            ],
            [
             0.4444444444444444,
             "#bd3786"
            ],
            [
             0.5555555555555556,
             "#d8576b"
            ],
            [
             0.6666666666666666,
             "#ed7953"
            ],
            [
             0.7777777777777778,
             "#fb9f3a"
            ],
            [
             0.8888888888888888,
             "#fdca26"
            ],
            [
             1,
             "#f0f921"
            ]
           ]
          },
          "colorway": [
           "#636efa",
           "#EF553B",
           "#00cc96",
           "#ab63fa",
           "#FFA15A",
           "#19d3f3",
           "#FF6692",
           "#B6E880",
           "#FF97FF",
           "#FECB52"
          ],
          "font": {
           "color": "#2a3f5f"
          },
          "geo": {
           "bgcolor": "white",
           "lakecolor": "white",
           "landcolor": "white",
           "showlakes": true,
           "showland": true,
           "subunitcolor": "#C8D4E3"
          },
          "hoverlabel": {
           "align": "left"
          },
          "hovermode": "closest",
          "mapbox": {
           "style": "light"
          },
          "paper_bgcolor": "white",
          "plot_bgcolor": "white",
          "polar": {
           "angularaxis": {
            "gridcolor": "#EBF0F8",
            "linecolor": "#EBF0F8",
            "ticks": ""
           },
           "bgcolor": "white",
           "radialaxis": {
            "gridcolor": "#EBF0F8",
            "linecolor": "#EBF0F8",
            "ticks": ""
           }
          },
          "scene": {
           "xaxis": {
            "backgroundcolor": "white",
            "gridcolor": "#DFE8F3",
            "gridwidth": 2,
            "linecolor": "#EBF0F8",
            "showbackground": true,
            "ticks": "",
            "zerolinecolor": "#EBF0F8"
           },
           "yaxis": {
            "backgroundcolor": "white",
            "gridcolor": "#DFE8F3",
            "gridwidth": 2,
            "linecolor": "#EBF0F8",
            "showbackground": true,
            "ticks": "",
            "zerolinecolor": "#EBF0F8"
           },
           "zaxis": {
            "backgroundcolor": "white",
            "gridcolor": "#DFE8F3",
            "gridwidth": 2,
            "linecolor": "#EBF0F8",
            "showbackground": true,
            "ticks": "",
            "zerolinecolor": "#EBF0F8"
           }
          },
          "shapedefaults": {
           "line": {
            "color": "#2a3f5f"
           }
          },
          "ternary": {
           "aaxis": {
            "gridcolor": "#DFE8F3",
            "linecolor": "#A2B1C6",
            "ticks": ""
           },
           "baxis": {
            "gridcolor": "#DFE8F3",
            "linecolor": "#A2B1C6",
            "ticks": ""
           },
           "bgcolor": "white",
           "caxis": {
            "gridcolor": "#DFE8F3",
            "linecolor": "#A2B1C6",
            "ticks": ""
           }
          },
          "title": {
           "x": 0.05
          },
          "xaxis": {
           "automargin": true,
           "gridcolor": "#EBF0F8",
           "linecolor": "#EBF0F8",
           "ticks": "",
           "title": {
            "standoff": 15
           },
           "zerolinecolor": "#EBF0F8",
           "zerolinewidth": 2
          },
          "yaxis": {
           "automargin": true,
           "gridcolor": "#EBF0F8",
           "linecolor": "#EBF0F8",
           "ticks": "",
           "title": {
            "standoff": 15
           },
           "zerolinecolor": "#EBF0F8",
           "zerolinewidth": 2
          }
         }
        },
        "title": {
         "text": "Monthly Change in FTAs (Absolute and Percentage)"
        },
        "xaxis": {
         "anchor": "y",
         "domain": [
          0,
          0.45
         ],
         "title": {
          "text": "Date"
         }
        },
        "xaxis2": {
         "anchor": "y2",
         "domain": [
          0.55,
          1
         ],
         "title": {
          "text": "Date"
         }
        },
        "yaxis": {
         "anchor": "x",
         "domain": [
          0,
          1
         ],
         "title": {
          "text": "Monthly Change (Absolute)"
         }
        },
        "yaxis2": {
         "anchor": "x2",
         "domain": [
          0,
          1
         ],
         "title": {
          "text": "Monthly Change (Percentage)"
         }
        }
       }
      }
     },
     "metadata": {},
     "output_type": "display_data"
    },
    {
     "data": {
      "application/vnd.plotly.v1+json": {
       "config": {
        "plotlyServerURL": "https://plot.ly"
       },
       "data": [
        {
         "hovertemplate": "Year=2013<br>Month=%{x}<br>FTAs=%{y}<extra></extra>",
         "legendgroup": "2013",
         "line": {
          "color": "#636efa",
          "dash": "solid"
         },
         "marker": {
          "symbol": "circle"
         },
         "mode": "lines",
         "name": "2013",
         "orientation": "v",
         "showlegend": true,
         "type": "scatter",
         "x": [
          "January",
          "February",
          "March",
          "April",
          "May",
          "June",
          "July",
          "August",
          "September",
          "October",
          "November",
          "December"
         ],
         "xaxis": "x",
         "y": [
          720321,
          688569,
          639530,
          450580,
          417453,
          451223,
          506427,
          486338,
          453561,
          598095,
          733923,
          821581
         ],
         "yaxis": "y"
        },
        {
         "hovertemplate": "Year=2014<br>Month=%{x}<br>FTAs=%{y}<extra></extra>",
         "legendgroup": "2014",
         "line": {
          "color": "#EF553B",
          "dash": "solid"
         },
         "marker": {
          "symbol": "circle"
         },
         "mode": "lines",
         "name": "2014",
         "orientation": "v",
         "showlegend": true,
         "type": "scatter",
         "x": [
          "January",
          "February",
          "March",
          "April",
          "May",
          "June",
          "July",
          "August",
          "September",
          "October",
          "November",
          "December"
         ],
         "xaxis": "x",
         "y": [
          757786,
          755678,
          690441,
          535321,
          465043,
          502028,
          5688871,
          575750,
          509142,
          668398,
          765497,
          885144
         ],
         "yaxis": "y"
        },
        {
         "hovertemplate": "Year=2016<br>Month=%{x}<br>FTAs=%{y}<extra></extra>",
         "legendgroup": "2016",
         "line": {
          "color": "#00cc96",
          "dash": "solid"
         },
         "marker": {
          "symbol": "circle"
         },
         "mode": "lines",
         "name": "2016",
         "orientation": "v",
         "showlegend": true,
         "type": "scatter",
         "x": [
          "January",
          "February",
          "March",
          "April",
          "May",
          "June",
          "July",
          "August",
          "September",
          "October",
          "November",
          "December"
         ],
         "xaxis": "x",
         "y": [
          844533,
          848782,
          809107,
          592004,
          527466,
          546972,
          733834,
          652111,
          608177,
          741770,
          878280,
          1021375
         ],
         "yaxis": "y"
        },
        {
         "hovertemplate": "Year=2017<br>Month=%{x}<br>FTAs=%{y}<extra></extra>",
         "legendgroup": "2017",
         "line": {
          "color": "#ab63fa",
          "dash": "solid"
         },
         "marker": {
          "symbol": "circle"
         },
         "mode": "lines",
         "name": "2017",
         "orientation": "v",
         "showlegend": true,
         "type": "scatter",
         "x": [
          "January",
          "February",
          "March",
          "April",
          "May",
          "June",
          "July",
          "August",
          "September",
          "October",
          "November",
          "December"
         ],
         "xaxis": "x",
         "y": [
          964109,
          931025,
          885936,
          717899,
          622408,
          663470,
          779309,
          719129,
          719964,
          866976,
          997738,
          1167840
         ],
         "yaxis": "y"
        },
        {
         "hovertemplate": "Year=2018<br>Month=%{x}<br>FTAs=%{y}<extra></extra>",
         "legendgroup": "2018",
         "line": {
          "color": "#FFA15A",
          "dash": "solid"
         },
         "marker": {
          "symbol": "circle"
         },
         "mode": "lines",
         "name": "2018",
         "orientation": "v",
         "showlegend": true,
         "type": "scatter",
         "x": [
          "January",
          "February",
          "March",
          "April",
          "May",
          "June",
          "July",
          "August",
          "September",
          "October",
          "November",
          "December"
         ],
         "xaxis": "x",
         "y": [
          1045027,
          1049259,
          1021539,
          745033,
          606513,
          683935,
          806493,
          785993,
          719894,
          890223,
          1012569,
          1191498
         ],
         "yaxis": "y"
        },
        {
         "hovertemplate": "Year=2019<br>Month=%{x}<br>FTAs=%{y}<extra></extra>",
         "legendgroup": "2019",
         "line": {
          "color": "#19d3f3",
          "dash": "solid"
         },
         "marker": {
          "symbol": "circle"
         },
         "mode": "lines",
         "name": "2019",
         "orientation": "v",
         "showlegend": true,
         "type": "scatter",
         "x": [
          "January",
          "February",
          "March",
          "April",
          "May",
          "June",
          "July",
          "August",
          "September",
          "October",
          "November",
          "December"
         ],
         "xaxis": "x",
         "y": [
          1111040,
          1090516,
          978236,
          774651,
          615136,
          726446,
          818125,
          800837,
          751513,
          945017,
          1092440,
          1226398
         ],
         "yaxis": "y"
        },
        {
         "hovertemplate": "Year=2020<br>Month=%{x}<br>FTAs=%{y}<extra></extra>",
         "legendgroup": "2020",
         "line": {
          "color": "#FF6692",
          "dash": "solid"
         },
         "marker": {
          "symbol": "circle"
         },
         "mode": "lines",
         "name": "2020",
         "orientation": "v",
         "showlegend": true,
         "type": "scatter",
         "x": [
          "January",
          "February",
          "March",
          "April",
          "May",
          "June",
          "July",
          "August",
          "September",
          "October",
          "November",
          "December"
         ],
         "xaxis": "x",
         "y": [
          1119250,
          1018440,
          328304,
          2820,
          3764,
          8590,
          12655,
          19761,
          28167,
          41494,
          70977,
          90544
         ],
         "yaxis": "y"
        },
        {
         "hovertemplate": "Year=2021<br>Month=%{x}<br>FTAs=%{y}<extra></extra>",
         "legendgroup": "2021",
         "line": {
          "color": "#B6E880",
          "dash": "solid"
         },
         "marker": {
          "symbol": "circle"
         },
         "mode": "lines",
         "name": "2021",
         "orientation": "v",
         "showlegend": true,
         "type": "scatter",
         "x": [
          "January",
          "February",
          "March",
          "April",
          "May",
          "June",
          "July",
          "August",
          "September",
          "October",
          "November",
          "December"
         ],
         "xaxis": "x",
         "y": [
          94662,
          110312,
          133768,
          78718,
          19765,
          36070,
          72501,
          92728,
          115661,
          191415,
          263867,
          317647
         ],
         "yaxis": "y"
        },
        {
         "hovertemplate": "Year=2022<br>Month=%{x}<br>FTAs=%{y}<extra></extra>",
         "legendgroup": "2022",
         "line": {
          "color": "#FF97FF",
          "dash": "solid"
         },
         "marker": {
          "symbol": "circle"
         },
         "mode": "lines",
         "name": "2022",
         "orientation": "v",
         "showlegend": true,
         "type": "scatter",
         "x": [
          "January",
          "February",
          "March",
          "April",
          "May",
          "June",
          "July",
          "August",
          "September",
          "October",
          "November",
          "December"
         ],
         "xaxis": "x",
         "y": [
          215935,
          254538,
          358023,
          411010,
          445690,
          547074,
          669499,
          524756,
          551580,
          677055,
          789330,
          992977
         ],
         "yaxis": "y"
        }
       ],
       "layout": {
        "legend": {
         "title": {
          "text": "Year"
         },
         "tracegroupgap": 0
        },
        "template": {
         "data": {
          "bar": [
           {
            "error_x": {
             "color": "#2a3f5f"
            },
            "error_y": {
             "color": "#2a3f5f"
            },
            "marker": {
             "line": {
              "color": "#E5ECF6",
              "width": 0.5
             },
             "pattern": {
              "fillmode": "overlay",
              "size": 10,
              "solidity": 0.2
             }
            },
            "type": "bar"
           }
          ],
          "barpolar": [
           {
            "marker": {
             "line": {
              "color": "#E5ECF6",
              "width": 0.5
             },
             "pattern": {
              "fillmode": "overlay",
              "size": 10,
              "solidity": 0.2
             }
            },
            "type": "barpolar"
           }
          ],
          "carpet": [
           {
            "aaxis": {
             "endlinecolor": "#2a3f5f",
             "gridcolor": "white",
             "linecolor": "white",
             "minorgridcolor": "white",
             "startlinecolor": "#2a3f5f"
            },
            "baxis": {
             "endlinecolor": "#2a3f5f",
             "gridcolor": "white",
             "linecolor": "white",
             "minorgridcolor": "white",
             "startlinecolor": "#2a3f5f"
            },
            "type": "carpet"
           }
          ],
          "choropleth": [
           {
            "colorbar": {
             "outlinewidth": 0,
             "ticks": ""
            },
            "type": "choropleth"
           }
          ],
          "contour": [
           {
            "colorbar": {
             "outlinewidth": 0,
             "ticks": ""
            },
            "colorscale": [
             [
              0,
              "#0d0887"
             ],
             [
              0.1111111111111111,
              "#46039f"
             ],
             [
              0.2222222222222222,
              "#7201a8"
             ],
             [
              0.3333333333333333,
              "#9c179e"
             ],
             [
              0.4444444444444444,
              "#bd3786"
             ],
             [
              0.5555555555555556,
              "#d8576b"
             ],
             [
              0.6666666666666666,
              "#ed7953"
             ],
             [
              0.7777777777777778,
              "#fb9f3a"
             ],
             [
              0.8888888888888888,
              "#fdca26"
             ],
             [
              1,
              "#f0f921"
             ]
            ],
            "type": "contour"
           }
          ],
          "contourcarpet": [
           {
            "colorbar": {
             "outlinewidth": 0,
             "ticks": ""
            },
            "type": "contourcarpet"
           }
          ],
          "heatmap": [
           {
            "colorbar": {
             "outlinewidth": 0,
             "ticks": ""
            },
            "colorscale": [
             [
              0,
              "#0d0887"
             ],
             [
              0.1111111111111111,
              "#46039f"
             ],
             [
              0.2222222222222222,
              "#7201a8"
             ],
             [
              0.3333333333333333,
              "#9c179e"
             ],
             [
              0.4444444444444444,
              "#bd3786"
             ],
             [
              0.5555555555555556,
              "#d8576b"
             ],
             [
              0.6666666666666666,
              "#ed7953"
             ],
             [
              0.7777777777777778,
              "#fb9f3a"
             ],
             [
              0.8888888888888888,
              "#fdca26"
             ],
             [
              1,
              "#f0f921"
             ]
            ],
            "type": "heatmap"
           }
          ],
          "heatmapgl": [
           {
            "colorbar": {
             "outlinewidth": 0,
             "ticks": ""
            },
            "colorscale": [
             [
              0,
              "#0d0887"
             ],
             [
              0.1111111111111111,
              "#46039f"
             ],
             [
              0.2222222222222222,
              "#7201a8"
             ],
             [
              0.3333333333333333,
              "#9c179e"
             ],
             [
              0.4444444444444444,
              "#bd3786"
             ],
             [
              0.5555555555555556,
              "#d8576b"
             ],
             [
              0.6666666666666666,
              "#ed7953"
             ],
             [
              0.7777777777777778,
              "#fb9f3a"
             ],
             [
              0.8888888888888888,
              "#fdca26"
             ],
             [
              1,
              "#f0f921"
             ]
            ],
            "type": "heatmapgl"
           }
          ],
          "histogram": [
           {
            "marker": {
             "pattern": {
              "fillmode": "overlay",
              "size": 10,
              "solidity": 0.2
             }
            },
            "type": "histogram"
           }
          ],
          "histogram2d": [
           {
            "colorbar": {
             "outlinewidth": 0,
             "ticks": ""
            },
            "colorscale": [
             [
              0,
              "#0d0887"
             ],
             [
              0.1111111111111111,
              "#46039f"
             ],
             [
              0.2222222222222222,
              "#7201a8"
             ],
             [
              0.3333333333333333,
              "#9c179e"
             ],
             [
              0.4444444444444444,
              "#bd3786"
             ],
             [
              0.5555555555555556,
              "#d8576b"
             ],
             [
              0.6666666666666666,
              "#ed7953"
             ],
             [
              0.7777777777777778,
              "#fb9f3a"
             ],
             [
              0.8888888888888888,
              "#fdca26"
             ],
             [
              1,
              "#f0f921"
             ]
            ],
            "type": "histogram2d"
           }
          ],
          "histogram2dcontour": [
           {
            "colorbar": {
             "outlinewidth": 0,
             "ticks": ""
            },
            "colorscale": [
             [
              0,
              "#0d0887"
             ],
             [
              0.1111111111111111,
              "#46039f"
             ],
             [
              0.2222222222222222,
              "#7201a8"
             ],
             [
              0.3333333333333333,
              "#9c179e"
             ],
             [
              0.4444444444444444,
              "#bd3786"
             ],
             [
              0.5555555555555556,
              "#d8576b"
             ],
             [
              0.6666666666666666,
              "#ed7953"
             ],
             [
              0.7777777777777778,
              "#fb9f3a"
             ],
             [
              0.8888888888888888,
              "#fdca26"
             ],
             [
              1,
              "#f0f921"
             ]
            ],
            "type": "histogram2dcontour"
           }
          ],
          "mesh3d": [
           {
            "colorbar": {
             "outlinewidth": 0,
             "ticks": ""
            },
            "type": "mesh3d"
           }
          ],
          "parcoords": [
           {
            "line": {
             "colorbar": {
              "outlinewidth": 0,
              "ticks": ""
             }
            },
            "type": "parcoords"
           }
          ],
          "pie": [
           {
            "automargin": true,
            "type": "pie"
           }
          ],
          "scatter": [
           {
            "fillpattern": {
             "fillmode": "overlay",
             "size": 10,
             "solidity": 0.2
            },
            "type": "scatter"
           }
          ],
          "scatter3d": [
           {
            "line": {
             "colorbar": {
              "outlinewidth": 0,
              "ticks": ""
             }
            },
            "marker": {
             "colorbar": {
              "outlinewidth": 0,
              "ticks": ""
             }
            },
            "type": "scatter3d"
           }
          ],
          "scattercarpet": [
           {
            "marker": {
             "colorbar": {
              "outlinewidth": 0,
              "ticks": ""
             }
            },
            "type": "scattercarpet"
           }
          ],
          "scattergeo": [
           {
            "marker": {
             "colorbar": {
              "outlinewidth": 0,
              "ticks": ""
             }
            },
            "type": "scattergeo"
           }
          ],
          "scattergl": [
           {
            "marker": {
             "colorbar": {
              "outlinewidth": 0,
              "ticks": ""
             }
            },
            "type": "scattergl"
           }
          ],
          "scattermapbox": [
           {
            "marker": {
             "colorbar": {
              "outlinewidth": 0,
              "ticks": ""
             }
            },
            "type": "scattermapbox"
           }
          ],
          "scatterpolar": [
           {
            "marker": {
             "colorbar": {
              "outlinewidth": 0,
              "ticks": ""
             }
            },
            "type": "scatterpolar"
           }
          ],
          "scatterpolargl": [
           {
            "marker": {
             "colorbar": {
              "outlinewidth": 0,
              "ticks": ""
             }
            },
            "type": "scatterpolargl"
           }
          ],
          "scatterternary": [
           {
            "marker": {
             "colorbar": {
              "outlinewidth": 0,
              "ticks": ""
             }
            },
            "type": "scatterternary"
           }
          ],
          "surface": [
           {
            "colorbar": {
             "outlinewidth": 0,
             "ticks": ""
            },
            "colorscale": [
             [
              0,
              "#0d0887"
             ],
             [
              0.1111111111111111,
              "#46039f"
             ],
             [
              0.2222222222222222,
              "#7201a8"
             ],
             [
              0.3333333333333333,
              "#9c179e"
             ],
             [
              0.4444444444444444,
              "#bd3786"
             ],
             [
              0.5555555555555556,
              "#d8576b"
             ],
             [
              0.6666666666666666,
              "#ed7953"
             ],
             [
              0.7777777777777778,
              "#fb9f3a"
             ],
             [
              0.8888888888888888,
              "#fdca26"
             ],
             [
              1,
              "#f0f921"
             ]
            ],
            "type": "surface"
           }
          ],
          "table": [
           {
            "cells": {
             "fill": {
              "color": "#EBF0F8"
             },
             "line": {
              "color": "white"
             }
            },
            "header": {
             "fill": {
              "color": "#C8D4E3"
             },
             "line": {
              "color": "white"
             }
            },
            "type": "table"
           }
          ]
         },
         "layout": {
          "annotationdefaults": {
           "arrowcolor": "#2a3f5f",
           "arrowhead": 0,
           "arrowwidth": 1
          },
          "autotypenumbers": "strict",
          "coloraxis": {
           "colorbar": {
            "outlinewidth": 0,
            "ticks": ""
           }
          },
          "colorscale": {
           "diverging": [
            [
             0,
             "#8e0152"
            ],
            [
             0.1,
             "#c51b7d"
            ],
            [
             0.2,
             "#de77ae"
            ],
            [
             0.3,
             "#f1b6da"
            ],
            [
             0.4,
             "#fde0ef"
            ],
            [
             0.5,
             "#f7f7f7"
            ],
            [
             0.6,
             "#e6f5d0"
            ],
            [
             0.7,
             "#b8e186"
            ],
            [
             0.8,
             "#7fbc41"
            ],
            [
             0.9,
             "#4d9221"
            ],
            [
             1,
             "#276419"
            ]
           ],
           "sequential": [
            [
             0,
             "#0d0887"
            ],
            [
             0.1111111111111111,
             "#46039f"
            ],
            [
             0.2222222222222222,
             "#7201a8"
            ],
            [
             0.3333333333333333,
             "#9c179e"
            ],
            [
             0.4444444444444444,
             "#bd3786"
            ],
            [
             0.5555555555555556,
             "#d8576b"
            ],
            [
             0.6666666666666666,
             "#ed7953"
            ],
            [
             0.7777777777777778,
             "#fb9f3a"
            ],
            [
             0.8888888888888888,
             "#fdca26"
            ],
            [
             1,
             "#f0f921"
            ]
           ],
           "sequentialminus": [
            [
             0,
             "#0d0887"
            ],
            [
             0.1111111111111111,
             "#46039f"
            ],
            [
             0.2222222222222222,
             "#7201a8"
            ],
            [
             0.3333333333333333,
             "#9c179e"
            ],
            [
             0.4444444444444444,
             "#bd3786"
            ],
            [
             0.5555555555555556,
             "#d8576b"
            ],
            [
             0.6666666666666666,
             "#ed7953"
            ],
            [
             0.7777777777777778,
             "#fb9f3a"
            ],
            [
             0.8888888888888888,
             "#fdca26"
            ],
            [
             1,
             "#f0f921"
            ]
           ]
          },
          "colorway": [
           "#636efa",
           "#EF553B",
           "#00cc96",
           "#ab63fa",
           "#FFA15A",
           "#19d3f3",
           "#FF6692",
           "#B6E880",
           "#FF97FF",
           "#FECB52"
          ],
          "font": {
           "color": "#2a3f5f"
          },
          "geo": {
           "bgcolor": "white",
           "lakecolor": "white",
           "landcolor": "#E5ECF6",
           "showlakes": true,
           "showland": true,
           "subunitcolor": "white"
          },
          "hoverlabel": {
           "align": "left"
          },
          "hovermode": "closest",
          "mapbox": {
           "style": "light"
          },
          "paper_bgcolor": "white",
          "plot_bgcolor": "#E5ECF6",
          "polar": {
           "angularaxis": {
            "gridcolor": "white",
            "linecolor": "white",
            "ticks": ""
           },
           "bgcolor": "#E5ECF6",
           "radialaxis": {
            "gridcolor": "white",
            "linecolor": "white",
            "ticks": ""
           }
          },
          "scene": {
           "xaxis": {
            "backgroundcolor": "#E5ECF6",
            "gridcolor": "white",
            "gridwidth": 2,
            "linecolor": "white",
            "showbackground": true,
            "ticks": "",
            "zerolinecolor": "white"
           },
           "yaxis": {
            "backgroundcolor": "#E5ECF6",
            "gridcolor": "white",
            "gridwidth": 2,
            "linecolor": "white",
            "showbackground": true,
            "ticks": "",
            "zerolinecolor": "white"
           },
           "zaxis": {
            "backgroundcolor": "#E5ECF6",
            "gridcolor": "white",
            "gridwidth": 2,
            "linecolor": "white",
            "showbackground": true,
            "ticks": "",
            "zerolinecolor": "white"
           }
          },
          "shapedefaults": {
           "line": {
            "color": "#2a3f5f"
           }
          },
          "ternary": {
           "aaxis": {
            "gridcolor": "white",
            "linecolor": "white",
            "ticks": ""
           },
           "baxis": {
            "gridcolor": "white",
            "linecolor": "white",
            "ticks": ""
           },
           "bgcolor": "#E5ECF6",
           "caxis": {
            "gridcolor": "white",
            "linecolor": "white",
            "ticks": ""
           }
          },
          "title": {
           "x": 0.05
          },
          "xaxis": {
           "automargin": true,
           "gridcolor": "white",
           "linecolor": "white",
           "ticks": "",
           "title": {
            "standoff": 15
           },
           "zerolinecolor": "white",
           "zerolinewidth": 2
          },
          "yaxis": {
           "automargin": true,
           "gridcolor": "white",
           "linecolor": "white",
           "ticks": "",
           "title": {
            "standoff": 15
           },
           "zerolinecolor": "white",
           "zerolinewidth": 2
          }
         }
        },
        "title": {
         "text": "FTAs Over Time"
        },
        "xaxis": {
         "anchor": "y",
         "domain": [
          0,
          1
         ],
         "rangeslider": {
          "visible": true
         },
         "title": {
          "text": "Month"
         }
        },
        "yaxis": {
         "anchor": "x",
         "domain": [
          0,
          1
         ],
         "title": {
          "text": "FTAs"
         }
        }
       }
      }
     },
     "metadata": {},
     "output_type": "display_data"
    }
   ],
   "source": [
    "import matplotlib.pyplot as plt\n",
    "import plotly.express as px\n",
    "\n",
    "\n",
    "import plotly.graph_objects as go\n",
    "from plotly.subplots import make_subplots\n",
    "\n",
    "# Assuming df_all is your DataFrame with columns 'Year', 'Month', 'FTAs', 'Monthly_Change_Abs', and 'Monthly_Change_Pct'\n",
    "\n",
    "# Grouping and preparing data\n",
    "ftas_by_year = df_all.groupby('Year', observed=False)['FTAs'].sum()\n",
    "ftas_by_month = df_all.groupby('Month', observed=False)['FTAs'].sum()\n",
    "\n",
    "# Create a subplot figure with 1 row and 2 columns\n",
    "fig = make_subplots(rows=1, cols=2, subplot_titles=[\n",
    "    \"Total FTAs by Year\",\n",
    "    \"Total FTAs by Month\"\n",
    "])\n",
    "\n",
    "# Plot 1: FTAs by Year (Bar plot)\n",
    "fig.add_trace(\n",
    "    go.Bar(x=ftas_by_year.index, y=ftas_by_year.values, name=\"Total FTAs by Year\"),\n",
    "    row=1, col=1\n",
    ")\n",
    "\n",
    "# Plot 2: FTAs by Month (Bar plot)\n",
    "fig.add_trace(\n",
    "    go.Bar(x=ftas_by_month.index, y=ftas_by_month.values, name=\"Total FTAs by Month\"),\n",
    "    row=1, col=2\n",
    ")\n",
    "\n",
    "# Update layout for the entire figure\n",
    "fig.update_layout(\n",
    "    title=\"Interactive Overview of FTAs by Year and Month\",\n",
    "    height=500,\n",
    "    showlegend=False,\n",
    "    template=\"plotly_white\"\n",
    ")\n",
    "\n",
    "# Set axis titles\n",
    "fig.update_xaxes(title_text=\"Year\", row=1, col=1)\n",
    "fig.update_yaxes(title_text=\"Total FTAs\", row=1, col=1)\n",
    "\n",
    "fig.update_xaxes(title_text=\"Month\", row=1, col=2)\n",
    "fig.update_yaxes(title_text=\"Total FTAs\", row=1, col=2)\n",
    "\n",
    "# Show the plot\n",
    "fig.show()\n",
    "\n",
    "\n",
    "\n",
    "\n",
    "import plotly.graph_objects as go\n",
    "from plotly.subplots import make_subplots\n",
    "\n",
    "# Assuming df_all is your DataFrame with columns 'Year', 'Month', 'Monthly_Change_Abs', and 'Monthly_Change_Pct'\n",
    "\n",
    "# Grouping data by Year and Month\n",
    "monthly_change_abs = df_all.groupby(['Year', 'Month'], observed=False)['Monthly_Change_Abs'].sum().reset_index()\n",
    "monthly_change_pct = df_all.groupby(['Year', 'Month'], observed=False)['Monthly_Change_Pct'].sum().reset_index()\n",
    "\n",
    "# Convert 'Month' column to string to perform string concatenation for x-axis labels\n",
    "monthly_change_abs['Month'] = monthly_change_abs['Month'].astype(str)\n",
    "monthly_change_pct['Month'] = monthly_change_pct['Month'].astype(str)\n",
    "\n",
    "# Creating an interactive subplot figure with 1 row and 2 columns\n",
    "fig = make_subplots(rows=1, cols=2, subplot_titles=[\n",
    "    \"Monthly Change in FTAs (Absolute)\",\n",
    "    \"Monthly Change in FTAs (Percentage)\"\n",
    "])\n",
    "\n",
    "# Plot 1: Monthly Change in FTAs (Absolute)\n",
    "fig.add_trace(\n",
    "    go.Scatter(x=monthly_change_abs['Year'].astype(str) + '-' + monthly_change_abs['Month'],\n",
    "               y=monthly_change_abs['Monthly_Change_Abs'],\n",
    "               mode='lines+markers',\n",
    "               name=\"Monthly Change (Abs)\",\n",
    "               line=dict(color=\"skyblue\")),\n",
    "    row=1, col=1\n",
    ")\n",
    "\n",
    "# Plot 2: Monthly Change in FTAs (Percentage)\n",
    "fig.add_trace(\n",
    "    go.Scatter(x=monthly_change_pct['Year'].astype(str) + '-' + monthly_change_pct['Month'],\n",
    "               y=monthly_change_pct['Monthly_Change_Pct'],\n",
    "               mode='lines+markers',\n",
    "               name=\"Monthly Change (Pct)\",\n",
    "               line=dict(color=\"salmon\")),\n",
    "    row=1, col=2\n",
    ")\n",
    "\n",
    "# Update layout for the entire figure\n",
    "fig.update_layout(\n",
    "    title=\"Monthly Change in FTAs (Absolute and Percentage)\",\n",
    "    height=500,\n",
    "    showlegend=False,\n",
    "    template=\"plotly_white\"\n",
    ")\n",
    "\n",
    "# Set axis titles\n",
    "fig.update_xaxes(title_text=\"Date\", row=1, col=1)\n",
    "fig.update_yaxes(title_text=\"Monthly Change (Absolute)\", row=1, col=1)\n",
    "\n",
    "fig.update_xaxes(title_text=\"Date\", row=1, col=2)\n",
    "fig.update_yaxes(title_text=\"Monthly Change (Percentage)\", row=1, col=2)\n",
    "\n",
    "# Show the plot\n",
    "fig.show()\n",
    "\n",
    "\n",
    "\n",
    "\n",
    "\n",
    "\n",
    "# Assuming df_all is your DataFrame\n",
    "\n",
    "# Create a figure with multiple subplots\n",
    "# fig, axes = plt.subplots(nrows=2, ncols=2, figsize=(15, 10))\n",
    "\n",
    "# # Plot 1: FTAs by Year\n",
    "# df_all.groupby('Year')['FTAs'].sum().plot(kind='bar', ax=axes[0, 0])\n",
    "# axes[0, 0].set_title('Total FTAs by Year')\n",
    "\n",
    "# # Plot 2: FTAs by Month\n",
    "# df_all.groupby('Month')['FTAs'].sum().plot(kind='bar', ax=axes[0, 1])\n",
    "# axes[0, 1].set_title('Total FTAs by Month')\n",
    "\n",
    "# # Plot 3: Monthly Change (Absolute)\n",
    "# df_all.groupby(['Year', 'Month'])['Monthly_Change_Abs'].sum().plot(kind='line', ax=axes[1, 0])\n",
    "# axes[1, 0].set_title('Monthly Change in FTAs (Absolute)')\n",
    "\n",
    "# # Plot 4: Monthly Change (Percentage)\n",
    "# df_all.groupby(['Year', 'Month'])['Monthly_Change_Pct'].sum().plot(kind='line', ax=axes[1, 1])\n",
    "# axes[1, 1].set_title('Monthly Change in FTAs (Percentage)')\n",
    "\n",
    "# # Adjust layout and display the plots\n",
    "# plt.tight_layout()\n",
    "# plt.show()\n",
    "\n",
    "#Interactive Plot\n",
    "fig = px.line(df_all, x='Month', y='FTAs', color='Year', title='FTAs Over Time')\n",
    "fig.update_layout(xaxis_rangeslider_visible=True)  # Add a slider for scrolling through the data\n",
    "fig.show()"
   ]
  },
  {
   "cell_type": "code",
   "execution_count": 109,
   "metadata": {},
   "outputs": [
    {
     "data": {
      "application/vnd.plotly.v1+json": {
       "config": {
        "plotlyServerURL": "https://plot.ly"
       },
       "data": [
        {
         "coloraxis": "coloraxis",
         "hovertemplate": "Year: %{x}<br>Month: %{y}<br>FTAs: %{z}<extra></extra>",
         "name": "0",
         "texttemplate": "%{z}",
         "type": "heatmap",
         "x": [
          2013,
          2014,
          2015,
          2016,
          2017,
          2018,
          2019,
          2020,
          2021,
          2022
         ],
         "xaxis": "x",
         "y": [
          "January",
          "February",
          "March",
          "April",
          "May",
          "June",
          "July",
          "August",
          "September",
          "October",
          "November",
          "December"
         ],
         "yaxis": "y",
         "z": [
          [
           720321,
           757786,
           null,
           844533,
           964109,
           1045027,
           1111040,
           1119250,
           94662,
           215935
          ],
          [
           688569,
           755678,
           null,
           848782,
           931025,
           1049259,
           1090516,
           1018440,
           110312,
           254538
          ],
          [
           639530,
           690441,
           null,
           809107,
           885936,
           1021539,
           978236,
           328304,
           133768,
           358023
          ],
          [
           450580,
           535321,
           null,
           592004,
           717899,
           745033,
           774651,
           2820,
           78718,
           411010
          ],
          [
           417453,
           465043,
           null,
           527466,
           622408,
           606513,
           615136,
           3764,
           19765,
           445690
          ],
          [
           451223,
           502028,
           null,
           546972,
           663470,
           683935,
           726446,
           8590,
           36070,
           547074
          ],
          [
           506427,
           5688871,
           null,
           733834,
           779309,
           806493,
           818125,
           12655,
           72501,
           669499
          ],
          [
           486338,
           575750,
           null,
           652111,
           719129,
           785993,
           800837,
           19761,
           92728,
           524756
          ],
          [
           453561,
           509142,
           null,
           608177,
           719964,
           719894,
           751513,
           28167,
           115661,
           551580
          ],
          [
           598095,
           668398,
           null,
           741770,
           866976,
           890223,
           945017,
           41494,
           191415,
           677055
          ],
          [
           733923,
           765497,
           null,
           878280,
           997738,
           1012569,
           1092440,
           70977,
           263867,
           789330
          ],
          [
           821581,
           885144,
           null,
           1021375,
           1167840,
           1191498,
           1226398,
           90544,
           317647,
           992977
          ]
         ]
        }
       ],
       "layout": {
        "coloraxis": {
         "colorbar": {
          "title": {
           "text": "FTAs"
          }
         },
         "colorscale": [
          [
           0,
           "#440154"
          ],
          [
           0.1111111111111111,
           "#482878"
          ],
          [
           0.2222222222222222,
           "#3e4989"
          ],
          [
           0.3333333333333333,
           "#31688e"
          ],
          [
           0.4444444444444444,
           "#26828e"
          ],
          [
           0.5555555555555556,
           "#1f9e89"
          ],
          [
           0.6666666666666666,
           "#35b779"
          ],
          [
           0.7777777777777778,
           "#6ece58"
          ],
          [
           0.8888888888888888,
           "#b5de2b"
          ],
          [
           1,
           "#fde725"
          ]
         ],
         "showscale": true
        },
        "height": 600,
        "margin": {
         "t": 60
        },
        "template": {
         "data": {
          "bar": [
           {
            "error_x": {
             "color": "#2a3f5f"
            },
            "error_y": {
             "color": "#2a3f5f"
            },
            "marker": {
             "line": {
              "color": "white",
              "width": 0.5
             },
             "pattern": {
              "fillmode": "overlay",
              "size": 10,
              "solidity": 0.2
             }
            },
            "type": "bar"
           }
          ],
          "barpolar": [
           {
            "marker": {
             "line": {
              "color": "white",
              "width": 0.5
             },
             "pattern": {
              "fillmode": "overlay",
              "size": 10,
              "solidity": 0.2
             }
            },
            "type": "barpolar"
           }
          ],
          "carpet": [
           {
            "aaxis": {
             "endlinecolor": "#2a3f5f",
             "gridcolor": "#C8D4E3",
             "linecolor": "#C8D4E3",
             "minorgridcolor": "#C8D4E3",
             "startlinecolor": "#2a3f5f"
            },
            "baxis": {
             "endlinecolor": "#2a3f5f",
             "gridcolor": "#C8D4E3",
             "linecolor": "#C8D4E3",
             "minorgridcolor": "#C8D4E3",
             "startlinecolor": "#2a3f5f"
            },
            "type": "carpet"
           }
          ],
          "choropleth": [
           {
            "colorbar": {
             "outlinewidth": 0,
             "ticks": ""
            },
            "type": "choropleth"
           }
          ],
          "contour": [
           {
            "colorbar": {
             "outlinewidth": 0,
             "ticks": ""
            },
            "colorscale": [
             [
              0,
              "#0d0887"
             ],
             [
              0.1111111111111111,
              "#46039f"
             ],
             [
              0.2222222222222222,
              "#7201a8"
             ],
             [
              0.3333333333333333,
              "#9c179e"
             ],
             [
              0.4444444444444444,
              "#bd3786"
             ],
             [
              0.5555555555555556,
              "#d8576b"
             ],
             [
              0.6666666666666666,
              "#ed7953"
             ],
             [
              0.7777777777777778,
              "#fb9f3a"
             ],
             [
              0.8888888888888888,
              "#fdca26"
             ],
             [
              1,
              "#f0f921"
             ]
            ],
            "type": "contour"
           }
          ],
          "contourcarpet": [
           {
            "colorbar": {
             "outlinewidth": 0,
             "ticks": ""
            },
            "type": "contourcarpet"
           }
          ],
          "heatmap": [
           {
            "colorbar": {
             "outlinewidth": 0,
             "ticks": ""
            },
            "colorscale": [
             [
              0,
              "#0d0887"
             ],
             [
              0.1111111111111111,
              "#46039f"
             ],
             [
              0.2222222222222222,
              "#7201a8"
             ],
             [
              0.3333333333333333,
              "#9c179e"
             ],
             [
              0.4444444444444444,
              "#bd3786"
             ],
             [
              0.5555555555555556,
              "#d8576b"
             ],
             [
              0.6666666666666666,
              "#ed7953"
             ],
             [
              0.7777777777777778,
              "#fb9f3a"
             ],
             [
              0.8888888888888888,
              "#fdca26"
             ],
             [
              1,
              "#f0f921"
             ]
            ],
            "type": "heatmap"
           }
          ],
          "heatmapgl": [
           {
            "colorbar": {
             "outlinewidth": 0,
             "ticks": ""
            },
            "colorscale": [
             [
              0,
              "#0d0887"
             ],
             [
              0.1111111111111111,
              "#46039f"
             ],
             [
              0.2222222222222222,
              "#7201a8"
             ],
             [
              0.3333333333333333,
              "#9c179e"
             ],
             [
              0.4444444444444444,
              "#bd3786"
             ],
             [
              0.5555555555555556,
              "#d8576b"
             ],
             [
              0.6666666666666666,
              "#ed7953"
             ],
             [
              0.7777777777777778,
              "#fb9f3a"
             ],
             [
              0.8888888888888888,
              "#fdca26"
             ],
             [
              1,
              "#f0f921"
             ]
            ],
            "type": "heatmapgl"
           }
          ],
          "histogram": [
           {
            "marker": {
             "pattern": {
              "fillmode": "overlay",
              "size": 10,
              "solidity": 0.2
             }
            },
            "type": "histogram"
           }
          ],
          "histogram2d": [
           {
            "colorbar": {
             "outlinewidth": 0,
             "ticks": ""
            },
            "colorscale": [
             [
              0,
              "#0d0887"
             ],
             [
              0.1111111111111111,
              "#46039f"
             ],
             [
              0.2222222222222222,
              "#7201a8"
             ],
             [
              0.3333333333333333,
              "#9c179e"
             ],
             [
              0.4444444444444444,
              "#bd3786"
             ],
             [
              0.5555555555555556,
              "#d8576b"
             ],
             [
              0.6666666666666666,
              "#ed7953"
             ],
             [
              0.7777777777777778,
              "#fb9f3a"
             ],
             [
              0.8888888888888888,
              "#fdca26"
             ],
             [
              1,
              "#f0f921"
             ]
            ],
            "type": "histogram2d"
           }
          ],
          "histogram2dcontour": [
           {
            "colorbar": {
             "outlinewidth": 0,
             "ticks": ""
            },
            "colorscale": [
             [
              0,
              "#0d0887"
             ],
             [
              0.1111111111111111,
              "#46039f"
             ],
             [
              0.2222222222222222,
              "#7201a8"
             ],
             [
              0.3333333333333333,
              "#9c179e"
             ],
             [
              0.4444444444444444,
              "#bd3786"
             ],
             [
              0.5555555555555556,
              "#d8576b"
             ],
             [
              0.6666666666666666,
              "#ed7953"
             ],
             [
              0.7777777777777778,
              "#fb9f3a"
             ],
             [
              0.8888888888888888,
              "#fdca26"
             ],
             [
              1,
              "#f0f921"
             ]
            ],
            "type": "histogram2dcontour"
           }
          ],
          "mesh3d": [
           {
            "colorbar": {
             "outlinewidth": 0,
             "ticks": ""
            },
            "type": "mesh3d"
           }
          ],
          "parcoords": [
           {
            "line": {
             "colorbar": {
              "outlinewidth": 0,
              "ticks": ""
             }
            },
            "type": "parcoords"
           }
          ],
          "pie": [
           {
            "automargin": true,
            "type": "pie"
           }
          ],
          "scatter": [
           {
            "fillpattern": {
             "fillmode": "overlay",
             "size": 10,
             "solidity": 0.2
            },
            "type": "scatter"
           }
          ],
          "scatter3d": [
           {
            "line": {
             "colorbar": {
              "outlinewidth": 0,
              "ticks": ""
             }
            },
            "marker": {
             "colorbar": {
              "outlinewidth": 0,
              "ticks": ""
             }
            },
            "type": "scatter3d"
           }
          ],
          "scattercarpet": [
           {
            "marker": {
             "colorbar": {
              "outlinewidth": 0,
              "ticks": ""
             }
            },
            "type": "scattercarpet"
           }
          ],
          "scattergeo": [
           {
            "marker": {
             "colorbar": {
              "outlinewidth": 0,
              "ticks": ""
             }
            },
            "type": "scattergeo"
           }
          ],
          "scattergl": [
           {
            "marker": {
             "colorbar": {
              "outlinewidth": 0,
              "ticks": ""
             }
            },
            "type": "scattergl"
           }
          ],
          "scattermapbox": [
           {
            "marker": {
             "colorbar": {
              "outlinewidth": 0,
              "ticks": ""
             }
            },
            "type": "scattermapbox"
           }
          ],
          "scatterpolar": [
           {
            "marker": {
             "colorbar": {
              "outlinewidth": 0,
              "ticks": ""
             }
            },
            "type": "scatterpolar"
           }
          ],
          "scatterpolargl": [
           {
            "marker": {
             "colorbar": {
              "outlinewidth": 0,
              "ticks": ""
             }
            },
            "type": "scatterpolargl"
           }
          ],
          "scatterternary": [
           {
            "marker": {
             "colorbar": {
              "outlinewidth": 0,
              "ticks": ""
             }
            },
            "type": "scatterternary"
           }
          ],
          "surface": [
           {
            "colorbar": {
             "outlinewidth": 0,
             "ticks": ""
            },
            "colorscale": [
             [
              0,
              "#0d0887"
             ],
             [
              0.1111111111111111,
              "#46039f"
             ],
             [
              0.2222222222222222,
              "#7201a8"
             ],
             [
              0.3333333333333333,
              "#9c179e"
             ],
             [
              0.4444444444444444,
              "#bd3786"
             ],
             [
              0.5555555555555556,
              "#d8576b"
             ],
             [
              0.6666666666666666,
              "#ed7953"
             ],
             [
              0.7777777777777778,
              "#fb9f3a"
             ],
             [
              0.8888888888888888,
              "#fdca26"
             ],
             [
              1,
              "#f0f921"
             ]
            ],
            "type": "surface"
           }
          ],
          "table": [
           {
            "cells": {
             "fill": {
              "color": "#EBF0F8"
             },
             "line": {
              "color": "white"
             }
            },
            "header": {
             "fill": {
              "color": "#C8D4E3"
             },
             "line": {
              "color": "white"
             }
            },
            "type": "table"
           }
          ]
         },
         "layout": {
          "annotationdefaults": {
           "arrowcolor": "#2a3f5f",
           "arrowhead": 0,
           "arrowwidth": 1
          },
          "autotypenumbers": "strict",
          "coloraxis": {
           "colorbar": {
            "outlinewidth": 0,
            "ticks": ""
           }
          },
          "colorscale": {
           "diverging": [
            [
             0,
             "#8e0152"
            ],
            [
             0.1,
             "#c51b7d"
            ],
            [
             0.2,
             "#de77ae"
            ],
            [
             0.3,
             "#f1b6da"
            ],
            [
             0.4,
             "#fde0ef"
            ],
            [
             0.5,
             "#f7f7f7"
            ],
            [
             0.6,
             "#e6f5d0"
            ],
            [
             0.7,
             "#b8e186"
            ],
            [
             0.8,
             "#7fbc41"
            ],
            [
             0.9,
             "#4d9221"
            ],
            [
             1,
             "#276419"
            ]
           ],
           "sequential": [
            [
             0,
             "#0d0887"
            ],
            [
             0.1111111111111111,
             "#46039f"
            ],
            [
             0.2222222222222222,
             "#7201a8"
            ],
            [
             0.3333333333333333,
             "#9c179e"
            ],
            [
             0.4444444444444444,
             "#bd3786"
            ],
            [
             0.5555555555555556,
             "#d8576b"
            ],
            [
             0.6666666666666666,
             "#ed7953"
            ],
            [
             0.7777777777777778,
             "#fb9f3a"
            ],
            [
             0.8888888888888888,
             "#fdca26"
            ],
            [
             1,
             "#f0f921"
            ]
           ],
           "sequentialminus": [
            [
             0,
             "#0d0887"
            ],
            [
             0.1111111111111111,
             "#46039f"
            ],
            [
             0.2222222222222222,
             "#7201a8"
            ],
            [
             0.3333333333333333,
             "#9c179e"
            ],
            [
             0.4444444444444444,
             "#bd3786"
            ],
            [
             0.5555555555555556,
             "#d8576b"
            ],
            [
             0.6666666666666666,
             "#ed7953"
            ],
            [
             0.7777777777777778,
             "#fb9f3a"
            ],
            [
             0.8888888888888888,
             "#fdca26"
            ],
            [
             1,
             "#f0f921"
            ]
           ]
          },
          "colorway": [
           "#636efa",
           "#EF553B",
           "#00cc96",
           "#ab63fa",
           "#FFA15A",
           "#19d3f3",
           "#FF6692",
           "#B6E880",
           "#FF97FF",
           "#FECB52"
          ],
          "font": {
           "color": "#2a3f5f"
          },
          "geo": {
           "bgcolor": "white",
           "lakecolor": "white",
           "landcolor": "white",
           "showlakes": true,
           "showland": true,
           "subunitcolor": "#C8D4E3"
          },
          "hoverlabel": {
           "align": "left"
          },
          "hovermode": "closest",
          "mapbox": {
           "style": "light"
          },
          "paper_bgcolor": "white",
          "plot_bgcolor": "white",
          "polar": {
           "angularaxis": {
            "gridcolor": "#EBF0F8",
            "linecolor": "#EBF0F8",
            "ticks": ""
           },
           "bgcolor": "white",
           "radialaxis": {
            "gridcolor": "#EBF0F8",
            "linecolor": "#EBF0F8",
            "ticks": ""
           }
          },
          "scene": {
           "xaxis": {
            "backgroundcolor": "white",
            "gridcolor": "#DFE8F3",
            "gridwidth": 2,
            "linecolor": "#EBF0F8",
            "showbackground": true,
            "ticks": "",
            "zerolinecolor": "#EBF0F8"
           },
           "yaxis": {
            "backgroundcolor": "white",
            "gridcolor": "#DFE8F3",
            "gridwidth": 2,
            "linecolor": "#EBF0F8",
            "showbackground": true,
            "ticks": "",
            "zerolinecolor": "#EBF0F8"
           },
           "zaxis": {
            "backgroundcolor": "white",
            "gridcolor": "#DFE8F3",
            "gridwidth": 2,
            "linecolor": "#EBF0F8",
            "showbackground": true,
            "ticks": "",
            "zerolinecolor": "#EBF0F8"
           }
          },
          "shapedefaults": {
           "line": {
            "color": "#2a3f5f"
           }
          },
          "ternary": {
           "aaxis": {
            "gridcolor": "#DFE8F3",
            "linecolor": "#A2B1C6",
            "ticks": ""
           },
           "baxis": {
            "gridcolor": "#DFE8F3",
            "linecolor": "#A2B1C6",
            "ticks": ""
           },
           "bgcolor": "white",
           "caxis": {
            "gridcolor": "#DFE8F3",
            "linecolor": "#A2B1C6",
            "ticks": ""
           }
          },
          "title": {
           "x": 0.05
          },
          "xaxis": {
           "automargin": true,
           "gridcolor": "#EBF0F8",
           "linecolor": "#EBF0F8",
           "ticks": "",
           "title": {
            "standoff": 15
           },
           "zerolinecolor": "#EBF0F8",
           "zerolinewidth": 2
          },
          "yaxis": {
           "automargin": true,
           "gridcolor": "#EBF0F8",
           "linecolor": "#EBF0F8",
           "ticks": "",
           "title": {
            "standoff": 15
           },
           "zerolinecolor": "#EBF0F8",
           "zerolinewidth": 2
          }
         }
        },
        "title": {
         "text": "Heatmap of FTAs by Month and Year with Values Inside Cells"
        },
        "xaxis": {
         "anchor": "y",
         "constrain": "domain",
         "domain": [
          0,
          1
         ],
         "scaleanchor": "y",
         "tickmode": "array",
         "ticktext": [
          "2013",
          "2014",
          "2015",
          "2016",
          "2017",
          "2018",
          "2019",
          "2020",
          "2021",
          "2022"
         ],
         "tickvals": [
          2013,
          2014,
          2015,
          2016,
          2017,
          2018,
          2019,
          2020,
          2021,
          2022
         ],
         "title": {
          "text": "Year"
         }
        },
        "yaxis": {
         "anchor": "x",
         "autorange": "reversed",
         "constrain": "domain",
         "domain": [
          0,
          1
         ],
         "title": {
          "text": "Month"
         }
        }
       }
      }
     },
     "metadata": {},
     "output_type": "display_data"
    }
   ],
   "source": [
    "import plotly.express as px\n",
    "import numpy as np\n",
    "\n",
    "# Assuming df_pivot is already defined\n",
    "\n",
    "# Add a blank space (NaN column) for 2015 in the correct position\n",
    "df_pivot.insert(2, 2015, np.nan)  # Insert NaN at the position for 2015 (after 2014)\n",
    "\n",
    "# Create a heatmap for df_pivot with values inside the cells\n",
    "fig = px.imshow(df_pivot,\n",
    "                labels=dict(x=\"Year\", y=\"Month\", color=\"FTAs\"),\n",
    "                x=df_pivot.columns,  # Year values\n",
    "                y=df_pivot.index,    # Month values\n",
    "                color_continuous_scale='Viridis',  # Choose the color scale\n",
    "                text_auto=True)  # This will show values inside the cells\n",
    "\n",
    "# Update layout for better visualization\n",
    "fig.update_layout(\n",
    "    title=\"Heatmap of FTAs by Month and Year with Values Inside Cells\",\n",
    "    xaxis_title=\"Year\",\n",
    "    yaxis_title=\"Month\",\n",
    "    template=\"plotly_white\",  # Light theme\n",
    "    height=600,\n",
    "    coloraxis_showscale=True,  # Show color scale\n",
    "    xaxis=dict(\n",
    "        tickmode='array',  # Use array mode for ticks\n",
    "        tickvals=df_pivot.columns,  # Set tick values to the years\n",
    "        ticktext=[str(year) for year in df_pivot.columns],  # Show all years as labels\n",
    "    )\n",
    ")\n",
    "\n",
    "# Show the plot\n",
    "fig.show()"
   ]
  },
  {
   "cell_type": "markdown",
   "metadata": {},
   "source": [
    "# 5"
   ]
  },
  {
   "cell_type": "code",
   "execution_count": 110,
   "metadata": {},
   "outputs": [],
   "source": [
    "# # Find the month with the highest and lowest absolute and percentage monthly changes\n",
    "# highest_abs_month = df_all.loc[df_all['Monthly_Change_Abs'].idxmax(), ['Year', 'Month', 'Monthly_Change_Abs']]\n",
    "# lowest_abs_month = df_all.loc[df_all['Monthly_Change_Abs'].idxmin(), ['Year', 'Month', 'Monthly_Change_Abs']]\n",
    "\n",
    "# highest_pct_month = df_all.loc[df_all['Monthly_Change_Pct'].idxmax(), ['Year', 'Month', 'Monthly_Change_Pct']]\n",
    "# lowest_pct_month = df_all.loc[df_all['Monthly_Change_Pct'].idxmin(), ['Year', 'Month', 'Monthly_Change_Pct']]\n",
    "\n",
    "# # Extract the specific values (Year, Month, and Change) from the Series\n",
    "# highest_abs_month = highest_abs_month[['Year', 'Month', 'Monthly_Change_Abs']].values\n",
    "# lowest_abs_month = lowest_abs_month[['Year', 'Month', 'Monthly_Change_Abs']].values\n",
    "\n",
    "# highest_pct_month = highest_pct_month[['Year', 'Month', 'Monthly_Change_Pct']].values\n",
    "# lowest_pct_month = lowest_pct_month[['Year', 'Month', 'Monthly_Change_Pct']].values\n",
    "\n",
    "# # Print the results without the dtype and index information\n",
    "# print(\"Highest Monthly Absolute Change:\")\n",
    "# print(f\"Year: {int(highest_abs_month[0])}, Month: {highest_abs_month[1]}, Change: {float(highest_abs_month[2])}\")\n",
    "\n",
    "# print(\"Lowest Monthly Absolute Change:\")\n",
    "# print(f\"Year: {int(lowest_abs_month[0])}, Month: {lowest_abs_month[1]}, Change: {float(lowest_abs_month[2])}\")\n",
    "\n",
    "# print(\"Highest Monthly Percentage Change:\")\n",
    "# print(f\"Year: {int(highest_pct_month[0])}, Month: {highest_pct_month[1]}, Change: {float(highest_pct_month[2])}\")\n",
    "\n",
    "# print(\"Lowest Monthly Percentage Change:\")\n",
    "# print(f\"Year: {int(lowest_pct_month[0])}, Month: {lowest_pct_month[1]}, Change: {float(lowest_pct_month[2])}\")\n",
    "\n",
    "# # print(\"Highest Monthly Absolute Change:\\n\", highest_abs_month)\n",
    "# # print(\"Lowest Monthly Absolute Change:\\n\", lowest_abs_month)\n",
    "# # print(\"Highest Monthly Percentage Change:\\n\", highest_pct_month)\n",
    "# # print(\"Lowest Monthly Percentage Change:\\n\", lowest_pct_month)"
   ]
  },
  {
   "cell_type": "code",
   "execution_count": 111,
   "metadata": {},
   "outputs": [
    {
     "data": {
      "text/html": [
       "<div>\n",
       "<style scoped>\n",
       "    .dataframe tbody tr th:only-of-type {\n",
       "        vertical-align: middle;\n",
       "    }\n",
       "\n",
       "    .dataframe tbody tr th {\n",
       "        vertical-align: top;\n",
       "    }\n",
       "\n",
       "    .dataframe thead th {\n",
       "        text-align: right;\n",
       "    }\n",
       "</style>\n",
       "<table border=\"1\" class=\"dataframe\">\n",
       "  <thead>\n",
       "    <tr style=\"text-align: right;\">\n",
       "      <th></th>\n",
       "      <th>Type</th>\n",
       "      <th>Year</th>\n",
       "      <th>Month</th>\n",
       "      <th>Change</th>\n",
       "    </tr>\n",
       "  </thead>\n",
       "  <tbody>\n",
       "    <tr>\n",
       "      <th>0</th>\n",
       "      <td>Highest Monthly Absolute Change</td>\n",
       "      <td>2014</td>\n",
       "      <td>July</td>\n",
       "      <td>5.186843e+06</td>\n",
       "    </tr>\n",
       "    <tr>\n",
       "      <th>1</th>\n",
       "      <td>Lowest Monthly Absolute Change</td>\n",
       "      <td>2014</td>\n",
       "      <td>August</td>\n",
       "      <td>-5.113121e+06</td>\n",
       "    </tr>\n",
       "    <tr>\n",
       "      <th>2</th>\n",
       "      <td>Highest Monthly Percentage Change</td>\n",
       "      <td>2014</td>\n",
       "      <td>July</td>\n",
       "      <td>1.033178e+03</td>\n",
       "    </tr>\n",
       "    <tr>\n",
       "      <th>3</th>\n",
       "      <td>Lowest Monthly Percentage Change</td>\n",
       "      <td>2020</td>\n",
       "      <td>April</td>\n",
       "      <td>-9.914104e+01</td>\n",
       "    </tr>\n",
       "  </tbody>\n",
       "</table>\n",
       "</div>"
      ],
      "text/plain": [
       "                                Type  Year   Month        Change\n",
       "0    Highest Monthly Absolute Change  2014    July  5.186843e+06\n",
       "1     Lowest Monthly Absolute Change  2014  August -5.113121e+06\n",
       "2  Highest Monthly Percentage Change  2014    July  1.033178e+03\n",
       "3   Lowest Monthly Percentage Change  2020   April -9.914104e+01"
      ]
     },
     "execution_count": 111,
     "metadata": {},
     "output_type": "execute_result"
    }
   ],
   "source": [
    "import pandas as pd\n",
    "\n",
    "# Find the month with the highest and lowest absolute and percentage monthly changes\n",
    "highest_abs_month = df_all.loc[df_all['Monthly_Change_Abs'].idxmax(), ['Year', 'Month', 'Monthly_Change_Abs']]\n",
    "lowest_abs_month = df_all.loc[df_all['Monthly_Change_Abs'].idxmin(), ['Year', 'Month', 'Monthly_Change_Abs']]\n",
    "\n",
    "highest_pct_month = df_all.loc[df_all['Monthly_Change_Pct'].idxmax(), ['Year', 'Month', 'Monthly_Change_Pct']]\n",
    "lowest_pct_month = df_all.loc[df_all['Monthly_Change_Pct'].idxmin(), ['Year', 'Month', 'Monthly_Change_Pct']]\n",
    "\n",
    "# Extract the specific values (Year, Month, and Change) from the Series\n",
    "highest_abs_month = highest_abs_month[['Year', 'Month', 'Monthly_Change_Abs']].values\n",
    "lowest_abs_month = lowest_abs_month[['Year', 'Month', 'Monthly_Change_Abs']].values\n",
    "\n",
    "highest_pct_month = highest_pct_month[['Year', 'Month', 'Monthly_Change_Pct']].values\n",
    "lowest_pct_month = lowest_pct_month[['Year', 'Month', 'Monthly_Change_Pct']].values\n",
    "\n",
    "# Create a DataFrame to store the results\n",
    "df_monthly_results = pd.DataFrame({\n",
    "    \"Type\": [\"Highest Monthly Absolute Change\", \"Lowest Monthly Absolute Change\", \n",
    "             \"Highest Monthly Percentage Change\", \"Lowest Monthly Percentage Change\"],\n",
    "    \"Year\": [int(highest_abs_month[0]), int(lowest_abs_month[0]), \n",
    "             int(highest_pct_month[0]), int(lowest_pct_month[0])],\n",
    "    \"Month\": [highest_abs_month[1], lowest_abs_month[1], \n",
    "              highest_pct_month[1], lowest_pct_month[1]],\n",
    "    \"Change\": [float(highest_abs_month[2]), float(lowest_abs_month[2]), \n",
    "               float(highest_pct_month[2]), float(lowest_pct_month[2])]\n",
    "})\n",
    "\n",
    "# Display the DataFrame\n",
    "# print(df_monthly_results)\n",
    "df_monthly_results"
   ]
  },
  {
   "cell_type": "code",
   "execution_count": 112,
   "metadata": {},
   "outputs": [
    {
     "data": {
      "text/html": [
       "<div>\n",
       "<style scoped>\n",
       "    .dataframe tbody tr th:only-of-type {\n",
       "        vertical-align: middle;\n",
       "    }\n",
       "\n",
       "    .dataframe tbody tr th {\n",
       "        vertical-align: top;\n",
       "    }\n",
       "\n",
       "    .dataframe thead th {\n",
       "        text-align: right;\n",
       "    }\n",
       "</style>\n",
       "<table border=\"1\" class=\"dataframe\">\n",
       "  <thead>\n",
       "    <tr style=\"text-align: right;\">\n",
       "      <th></th>\n",
       "      <th>Type</th>\n",
       "      <th>Year</th>\n",
       "      <th>Value</th>\n",
       "    </tr>\n",
       "  </thead>\n",
       "  <tbody>\n",
       "    <tr>\n",
       "      <th>0</th>\n",
       "      <td>Highest Absolute Change</td>\n",
       "      <td>2014</td>\n",
       "      <td>5831498.00</td>\n",
       "    </tr>\n",
       "    <tr>\n",
       "      <th>1</th>\n",
       "      <td>Lowest Absolute Change</td>\n",
       "      <td>2020</td>\n",
       "      <td>-8185589.00</td>\n",
       "    </tr>\n",
       "    <tr>\n",
       "      <th>2</th>\n",
       "      <td>Highest Percentage Change</td>\n",
       "      <td>2022</td>\n",
       "      <td>321.54</td>\n",
       "    </tr>\n",
       "    <tr>\n",
       "      <th>3</th>\n",
       "      <td>Lowest Percentage Change</td>\n",
       "      <td>2020</td>\n",
       "      <td>-74.89</td>\n",
       "    </tr>\n",
       "  </tbody>\n",
       "</table>\n",
       "</div>"
      ],
      "text/plain": [
       "                        Type  Year       Value\n",
       "0    Highest Absolute Change  2014  5831498.00\n",
       "1     Lowest Absolute Change  2020 -8185589.00\n",
       "2  Highest Percentage Change  2022      321.54\n",
       "3   Lowest Percentage Change  2020      -74.89"
      ]
     },
     "execution_count": 112,
     "metadata": {},
     "output_type": "execute_result"
    }
   ],
   "source": [
    "df_results"
   ]
  },
  {
   "cell_type": "code",
   "execution_count": 113,
   "metadata": {},
   "outputs": [],
   "source": [
    "df_results.to_csv(\"5_Hi_lo_Abs_Pct_Month_change.csv\",index=False)"
   ]
  },
  {
   "cell_type": "code",
   "execution_count": 114,
   "metadata": {},
   "outputs": [
    {
     "data": {
      "application/vnd.plotly.v1+json": {
       "config": {
        "plotlyServerURL": "https://plot.ly"
       },
       "data": [
        {
         "marker": {
          "color": [
           "#00AEEF",
           "#FF6A00"
          ]
         },
         "text": [
          "Year: 2014<br>Month: July<br>Value: 5186843.00",
          "Year: 2014<br>Month: August<br>Value: -5113121.00"
         ],
         "textposition": "inside",
         "type": "bar",
         "x": [
          "Highest",
          "Lowest"
         ],
         "xaxis": "x",
         "y": [
          5186843,
          -5113121
         ],
         "yaxis": "y"
        },
        {
         "marker": {
          "color": [
           "#34C759",
           "#FF3B30"
          ]
         },
         "text": [
          "Year: 2014<br>Month: July<br>Value: 1033.18%",
          "Year: 2020<br>Month: April<br>Value: -99.14%"
         ],
         "textposition": "inside",
         "type": "bar",
         "x": [
          "Highest",
          "Lowest"
         ],
         "xaxis": "x2",
         "y": [
          1033.1780299106822,
          -99.14104001169648
         ],
         "yaxis": "y2"
        }
       ],
       "layout": {
        "annotations": [
         {
          "font": {
           "size": 16
          },
          "showarrow": false,
          "text": "Highest and Lowest Absolute Change",
          "x": 0.225,
          "xanchor": "center",
          "xref": "paper",
          "y": 1,
          "yanchor": "bottom",
          "yref": "paper"
         },
         {
          "font": {
           "size": 16
          },
          "showarrow": false,
          "text": "Highest and Lowest Percentage Change",
          "x": 0.775,
          "xanchor": "center",
          "xref": "paper",
          "y": 1,
          "yanchor": "bottom",
          "yref": "paper"
         }
        ],
        "bargap": 0.2,
        "coloraxis": {
         "showscale": false
        },
        "height": 600,
        "showlegend": false,
        "template": {
         "data": {
          "bar": [
           {
            "error_x": {
             "color": "#2a3f5f"
            },
            "error_y": {
             "color": "#2a3f5f"
            },
            "marker": {
             "line": {
              "color": "white",
              "width": 0.5
             },
             "pattern": {
              "fillmode": "overlay",
              "size": 10,
              "solidity": 0.2
             }
            },
            "type": "bar"
           }
          ],
          "barpolar": [
           {
            "marker": {
             "line": {
              "color": "white",
              "width": 0.5
             },
             "pattern": {
              "fillmode": "overlay",
              "size": 10,
              "solidity": 0.2
             }
            },
            "type": "barpolar"
           }
          ],
          "carpet": [
           {
            "aaxis": {
             "endlinecolor": "#2a3f5f",
             "gridcolor": "#C8D4E3",
             "linecolor": "#C8D4E3",
             "minorgridcolor": "#C8D4E3",
             "startlinecolor": "#2a3f5f"
            },
            "baxis": {
             "endlinecolor": "#2a3f5f",
             "gridcolor": "#C8D4E3",
             "linecolor": "#C8D4E3",
             "minorgridcolor": "#C8D4E3",
             "startlinecolor": "#2a3f5f"
            },
            "type": "carpet"
           }
          ],
          "choropleth": [
           {
            "colorbar": {
             "outlinewidth": 0,
             "ticks": ""
            },
            "type": "choropleth"
           }
          ],
          "contour": [
           {
            "colorbar": {
             "outlinewidth": 0,
             "ticks": ""
            },
            "colorscale": [
             [
              0,
              "#0d0887"
             ],
             [
              0.1111111111111111,
              "#46039f"
             ],
             [
              0.2222222222222222,
              "#7201a8"
             ],
             [
              0.3333333333333333,
              "#9c179e"
             ],
             [
              0.4444444444444444,
              "#bd3786"
             ],
             [
              0.5555555555555556,
              "#d8576b"
             ],
             [
              0.6666666666666666,
              "#ed7953"
             ],
             [
              0.7777777777777778,
              "#fb9f3a"
             ],
             [
              0.8888888888888888,
              "#fdca26"
             ],
             [
              1,
              "#f0f921"
             ]
            ],
            "type": "contour"
           }
          ],
          "contourcarpet": [
           {
            "colorbar": {
             "outlinewidth": 0,
             "ticks": ""
            },
            "type": "contourcarpet"
           }
          ],
          "heatmap": [
           {
            "colorbar": {
             "outlinewidth": 0,
             "ticks": ""
            },
            "colorscale": [
             [
              0,
              "#0d0887"
             ],
             [
              0.1111111111111111,
              "#46039f"
             ],
             [
              0.2222222222222222,
              "#7201a8"
             ],
             [
              0.3333333333333333,
              "#9c179e"
             ],
             [
              0.4444444444444444,
              "#bd3786"
             ],
             [
              0.5555555555555556,
              "#d8576b"
             ],
             [
              0.6666666666666666,
              "#ed7953"
             ],
             [
              0.7777777777777778,
              "#fb9f3a"
             ],
             [
              0.8888888888888888,
              "#fdca26"
             ],
             [
              1,
              "#f0f921"
             ]
            ],
            "type": "heatmap"
           }
          ],
          "heatmapgl": [
           {
            "colorbar": {
             "outlinewidth": 0,
             "ticks": ""
            },
            "colorscale": [
             [
              0,
              "#0d0887"
             ],
             [
              0.1111111111111111,
              "#46039f"
             ],
             [
              0.2222222222222222,
              "#7201a8"
             ],
             [
              0.3333333333333333,
              "#9c179e"
             ],
             [
              0.4444444444444444,
              "#bd3786"
             ],
             [
              0.5555555555555556,
              "#d8576b"
             ],
             [
              0.6666666666666666,
              "#ed7953"
             ],
             [
              0.7777777777777778,
              "#fb9f3a"
             ],
             [
              0.8888888888888888,
              "#fdca26"
             ],
             [
              1,
              "#f0f921"
             ]
            ],
            "type": "heatmapgl"
           }
          ],
          "histogram": [
           {
            "marker": {
             "pattern": {
              "fillmode": "overlay",
              "size": 10,
              "solidity": 0.2
             }
            },
            "type": "histogram"
           }
          ],
          "histogram2d": [
           {
            "colorbar": {
             "outlinewidth": 0,
             "ticks": ""
            },
            "colorscale": [
             [
              0,
              "#0d0887"
             ],
             [
              0.1111111111111111,
              "#46039f"
             ],
             [
              0.2222222222222222,
              "#7201a8"
             ],
             [
              0.3333333333333333,
              "#9c179e"
             ],
             [
              0.4444444444444444,
              "#bd3786"
             ],
             [
              0.5555555555555556,
              "#d8576b"
             ],
             [
              0.6666666666666666,
              "#ed7953"
             ],
             [
              0.7777777777777778,
              "#fb9f3a"
             ],
             [
              0.8888888888888888,
              "#fdca26"
             ],
             [
              1,
              "#f0f921"
             ]
            ],
            "type": "histogram2d"
           }
          ],
          "histogram2dcontour": [
           {
            "colorbar": {
             "outlinewidth": 0,
             "ticks": ""
            },
            "colorscale": [
             [
              0,
              "#0d0887"
             ],
             [
              0.1111111111111111,
              "#46039f"
             ],
             [
              0.2222222222222222,
              "#7201a8"
             ],
             [
              0.3333333333333333,
              "#9c179e"
             ],
             [
              0.4444444444444444,
              "#bd3786"
             ],
             [
              0.5555555555555556,
              "#d8576b"
             ],
             [
              0.6666666666666666,
              "#ed7953"
             ],
             [
              0.7777777777777778,
              "#fb9f3a"
             ],
             [
              0.8888888888888888,
              "#fdca26"
             ],
             [
              1,
              "#f0f921"
             ]
            ],
            "type": "histogram2dcontour"
           }
          ],
          "mesh3d": [
           {
            "colorbar": {
             "outlinewidth": 0,
             "ticks": ""
            },
            "type": "mesh3d"
           }
          ],
          "parcoords": [
           {
            "line": {
             "colorbar": {
              "outlinewidth": 0,
              "ticks": ""
             }
            },
            "type": "parcoords"
           }
          ],
          "pie": [
           {
            "automargin": true,
            "type": "pie"
           }
          ],
          "scatter": [
           {
            "fillpattern": {
             "fillmode": "overlay",
             "size": 10,
             "solidity": 0.2
            },
            "type": "scatter"
           }
          ],
          "scatter3d": [
           {
            "line": {
             "colorbar": {
              "outlinewidth": 0,
              "ticks": ""
             }
            },
            "marker": {
             "colorbar": {
              "outlinewidth": 0,
              "ticks": ""
             }
            },
            "type": "scatter3d"
           }
          ],
          "scattercarpet": [
           {
            "marker": {
             "colorbar": {
              "outlinewidth": 0,
              "ticks": ""
             }
            },
            "type": "scattercarpet"
           }
          ],
          "scattergeo": [
           {
            "marker": {
             "colorbar": {
              "outlinewidth": 0,
              "ticks": ""
             }
            },
            "type": "scattergeo"
           }
          ],
          "scattergl": [
           {
            "marker": {
             "colorbar": {
              "outlinewidth": 0,
              "ticks": ""
             }
            },
            "type": "scattergl"
           }
          ],
          "scattermapbox": [
           {
            "marker": {
             "colorbar": {
              "outlinewidth": 0,
              "ticks": ""
             }
            },
            "type": "scattermapbox"
           }
          ],
          "scatterpolar": [
           {
            "marker": {
             "colorbar": {
              "outlinewidth": 0,
              "ticks": ""
             }
            },
            "type": "scatterpolar"
           }
          ],
          "scatterpolargl": [
           {
            "marker": {
             "colorbar": {
              "outlinewidth": 0,
              "ticks": ""
             }
            },
            "type": "scatterpolargl"
           }
          ],
          "scatterternary": [
           {
            "marker": {
             "colorbar": {
              "outlinewidth": 0,
              "ticks": ""
             }
            },
            "type": "scatterternary"
           }
          ],
          "surface": [
           {
            "colorbar": {
             "outlinewidth": 0,
             "ticks": ""
            },
            "colorscale": [
             [
              0,
              "#0d0887"
             ],
             [
              0.1111111111111111,
              "#46039f"
             ],
             [
              0.2222222222222222,
              "#7201a8"
             ],
             [
              0.3333333333333333,
              "#9c179e"
             ],
             [
              0.4444444444444444,
              "#bd3786"
             ],
             [
              0.5555555555555556,
              "#d8576b"
             ],
             [
              0.6666666666666666,
              "#ed7953"
             ],
             [
              0.7777777777777778,
              "#fb9f3a"
             ],
             [
              0.8888888888888888,
              "#fdca26"
             ],
             [
              1,
              "#f0f921"
             ]
            ],
            "type": "surface"
           }
          ],
          "table": [
           {
            "cells": {
             "fill": {
              "color": "#EBF0F8"
             },
             "line": {
              "color": "white"
             }
            },
            "header": {
             "fill": {
              "color": "#C8D4E3"
             },
             "line": {
              "color": "white"
             }
            },
            "type": "table"
           }
          ]
         },
         "layout": {
          "annotationdefaults": {
           "arrowcolor": "#2a3f5f",
           "arrowhead": 0,
           "arrowwidth": 1
          },
          "autotypenumbers": "strict",
          "coloraxis": {
           "colorbar": {
            "outlinewidth": 0,
            "ticks": ""
           }
          },
          "colorscale": {
           "diverging": [
            [
             0,
             "#8e0152"
            ],
            [
             0.1,
             "#c51b7d"
            ],
            [
             0.2,
             "#de77ae"
            ],
            [
             0.3,
             "#f1b6da"
            ],
            [
             0.4,
             "#fde0ef"
            ],
            [
             0.5,
             "#f7f7f7"
            ],
            [
             0.6,
             "#e6f5d0"
            ],
            [
             0.7,
             "#b8e186"
            ],
            [
             0.8,
             "#7fbc41"
            ],
            [
             0.9,
             "#4d9221"
            ],
            [
             1,
             "#276419"
            ]
           ],
           "sequential": [
            [
             0,
             "#0d0887"
            ],
            [
             0.1111111111111111,
             "#46039f"
            ],
            [
             0.2222222222222222,
             "#7201a8"
            ],
            [
             0.3333333333333333,
             "#9c179e"
            ],
            [
             0.4444444444444444,
             "#bd3786"
            ],
            [
             0.5555555555555556,
             "#d8576b"
            ],
            [
             0.6666666666666666,
             "#ed7953"
            ],
            [
             0.7777777777777778,
             "#fb9f3a"
            ],
            [
             0.8888888888888888,
             "#fdca26"
            ],
            [
             1,
             "#f0f921"
            ]
           ],
           "sequentialminus": [
            [
             0,
             "#0d0887"
            ],
            [
             0.1111111111111111,
             "#46039f"
            ],
            [
             0.2222222222222222,
             "#7201a8"
            ],
            [
             0.3333333333333333,
             "#9c179e"
            ],
            [
             0.4444444444444444,
             "#bd3786"
            ],
            [
             0.5555555555555556,
             "#d8576b"
            ],
            [
             0.6666666666666666,
             "#ed7953"
            ],
            [
             0.7777777777777778,
             "#fb9f3a"
            ],
            [
             0.8888888888888888,
             "#fdca26"
            ],
            [
             1,
             "#f0f921"
            ]
           ]
          },
          "colorway": [
           "#636efa",
           "#EF553B",
           "#00cc96",
           "#ab63fa",
           "#FFA15A",
           "#19d3f3",
           "#FF6692",
           "#B6E880",
           "#FF97FF",
           "#FECB52"
          ],
          "font": {
           "color": "#2a3f5f"
          },
          "geo": {
           "bgcolor": "white",
           "lakecolor": "white",
           "landcolor": "white",
           "showlakes": true,
           "showland": true,
           "subunitcolor": "#C8D4E3"
          },
          "hoverlabel": {
           "align": "left"
          },
          "hovermode": "closest",
          "mapbox": {
           "style": "light"
          },
          "paper_bgcolor": "white",
          "plot_bgcolor": "white",
          "polar": {
           "angularaxis": {
            "gridcolor": "#EBF0F8",
            "linecolor": "#EBF0F8",
            "ticks": ""
           },
           "bgcolor": "white",
           "radialaxis": {
            "gridcolor": "#EBF0F8",
            "linecolor": "#EBF0F8",
            "ticks": ""
           }
          },
          "scene": {
           "xaxis": {
            "backgroundcolor": "white",
            "gridcolor": "#DFE8F3",
            "gridwidth": 2,
            "linecolor": "#EBF0F8",
            "showbackground": true,
            "ticks": "",
            "zerolinecolor": "#EBF0F8"
           },
           "yaxis": {
            "backgroundcolor": "white",
            "gridcolor": "#DFE8F3",
            "gridwidth": 2,
            "linecolor": "#EBF0F8",
            "showbackground": true,
            "ticks": "",
            "zerolinecolor": "#EBF0F8"
           },
           "zaxis": {
            "backgroundcolor": "white",
            "gridcolor": "#DFE8F3",
            "gridwidth": 2,
            "linecolor": "#EBF0F8",
            "showbackground": true,
            "ticks": "",
            "zerolinecolor": "#EBF0F8"
           }
          },
          "shapedefaults": {
           "line": {
            "color": "#2a3f5f"
           }
          },
          "ternary": {
           "aaxis": {
            "gridcolor": "#DFE8F3",
            "linecolor": "#A2B1C6",
            "ticks": ""
           },
           "baxis": {
            "gridcolor": "#DFE8F3",
            "linecolor": "#A2B1C6",
            "ticks": ""
           },
           "bgcolor": "white",
           "caxis": {
            "gridcolor": "#DFE8F3",
            "linecolor": "#A2B1C6",
            "ticks": ""
           }
          },
          "title": {
           "x": 0.05
          },
          "xaxis": {
           "automargin": true,
           "gridcolor": "#EBF0F8",
           "linecolor": "#EBF0F8",
           "ticks": "",
           "title": {
            "standoff": 15
           },
           "zerolinecolor": "#EBF0F8",
           "zerolinewidth": 2
          },
          "yaxis": {
           "automargin": true,
           "gridcolor": "#EBF0F8",
           "linecolor": "#EBF0F8",
           "ticks": "",
           "title": {
            "standoff": 15
           },
           "zerolinecolor": "#EBF0F8",
           "zerolinewidth": 2
          }
         }
        },
        "title": {
         "text": "Highest and Lowest Monthly Absolute and Percentage Changes"
        },
        "xaxis": {
         "anchor": "y",
         "domain": [
          0,
          0.45
         ],
         "title": {
          "text": "Change Type"
         }
        },
        "xaxis2": {
         "anchor": "y2",
         "domain": [
          0.55,
          1
         ]
        },
        "yaxis": {
         "anchor": "x",
         "domain": [
          0,
          1
         ],
         "title": {
          "text": "Change Value"
         }
        },
        "yaxis2": {
         "anchor": "x2",
         "domain": [
          0,
          1
         ]
        }
       }
      }
     },
     "metadata": {},
     "output_type": "display_data"
    }
   ],
   "source": [
    "import plotly.graph_objects as go\n",
    "from plotly.subplots import make_subplots\n",
    "\n",
    "# # Assuming the extracted values from your previous calculation\n",
    "# highest_abs_month = [2023, 'March', 150.0]  # Example values\n",
    "# lowest_abs_month = [2023, 'January', -50.0]  # Example values\n",
    "# highest_pct_month = [2023, 'April', 20.0]  # Example values\n",
    "# lowest_pct_month = [2023, 'February', -10.0]  # Example values\n",
    "# Assuming the extracted values from your previous calculation\n",
    "highest_abs_month = [int(highest_abs_month[0]), highest_abs_month[1], float(highest_abs_month[2])]\n",
    "lowest_abs_month = [int(lowest_abs_month[0]), lowest_abs_month[1], float(lowest_abs_month[2])]\n",
    "highest_pct_month = [int(highest_pct_month[0]), highest_pct_month[1], float(highest_pct_month[2])]\n",
    "lowest_pct_month = [int(lowest_pct_month[0]), lowest_pct_month[1], float(lowest_pct_month[2])]\n",
    "\n",
    "# Data to plot\n",
    "labels = ['Highest', 'Lowest']\n",
    "abs_values = [highest_abs_month[2], lowest_abs_month[2]]\n",
    "pct_values = [highest_pct_month[2], lowest_pct_month[2]]\n",
    "abs_years = [highest_abs_month[0], lowest_abs_month[0]]\n",
    "abs_months = [highest_abs_month[1], lowest_abs_month[1]]\n",
    "pct_years = [highest_pct_month[0], lowest_pct_month[0]]\n",
    "pct_months = [highest_pct_month[1], lowest_pct_month[1]]\n",
    "\n",
    "# Create subplots\n",
    "fig = make_subplots(\n",
    "    rows=1, cols=2,  # Two columns for the two plots\n",
    "    subplot_titles=('Highest and Lowest Absolute Change', 'Highest and Lowest Percentage Change'),  # Titles for the subplots\n",
    ")\n",
    "\n",
    "# Add the Absolute Change Bar Graph to the first subplot\n",
    "fig.add_trace(\n",
    "    go.Bar(x=labels, y=abs_values, \n",
    "           text=[f\"Year: {abs_years[0]}<br>Month: {abs_months[0]}<br>Value: {abs_values[0]:.2f}\",\n",
    "                 f\"Year: {abs_years[1]}<br>Month: {abs_months[1]}<br>Value: {abs_values[1]:.2f}\"],\n",
    "           textposition='inside',  # Text inside the bars\n",
    "           marker=dict(color=['#00AEEF', '#FF6A00'])),\n",
    "    row=1, col=1\n",
    ")\n",
    "\n",
    "# Add the Percentage Change Bar Graph to the second subplot\n",
    "fig.add_trace(\n",
    "    go.Bar(x=labels, y=pct_values, \n",
    "           text=[f\"Year: {pct_years[0]}<br>Month: {pct_months[0]}<br>Value: {pct_values[0]:.2f}%\",\n",
    "                 f\"Year: {pct_years[1]}<br>Month: {pct_months[1]}<br>Value: {pct_values[1]:.2f}%\"],\n",
    "           textposition='inside',  # Text inside the bars\n",
    "           marker=dict(color=['#34C759', '#FF3B30'])),\n",
    "    row=1, col=2\n",
    ")\n",
    "\n",
    "# Update layout for better visualization\n",
    "fig.update_layout(\n",
    "    title=\"Highest and Lowest Monthly Absolute and Percentage Changes\",\n",
    "    xaxis_title=\"Change Type\",\n",
    "    yaxis_title=\"Change Value\",\n",
    "    template=\"plotly_white\",  # Light theme for a clean look\n",
    "    height=600,\n",
    "    coloraxis_showscale=False,\n",
    "    showlegend=False,  # Hide legend to make the chart cleaner\n",
    "    bargap=0.2  # Add gap between bars to avoid overlap if necessary\n",
    ")\n",
    "\n",
    "# Show the plot\n",
    "fig.show()"
   ]
  }
 ],
 "metadata": {
  "kernelspec": {
   "display_name": ".venv",
   "language": "python",
   "name": "python3"
  },
  "language_info": {
   "codemirror_mode": {
    "name": "ipython",
    "version": 3
   },
   "file_extension": ".py",
   "mimetype": "text/x-python",
   "name": "python",
   "nbconvert_exporter": "python",
   "pygments_lexer": "ipython3",
   "version": "3.9.6"
  }
 },
 "nbformat": 4,
 "nbformat_minor": 2
}
