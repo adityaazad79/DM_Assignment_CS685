{
 "cells": [
  {
   "cell_type": "markdown",
   "metadata": {},
   "source": [
    "1. Using the answer in Q7, find the top-5 countries with highest positive and highestnegative balances per year.\n",
    "2. Order the continents in terms of this balance per year."
   ]
  },
  {
   "cell_type": "markdown",
   "metadata": {},
   "source": [
    "# Data Preprocessing"
   ]
  },
  {
   "cell_type": "code",
   "execution_count": 84,
   "metadata": {},
   "outputs": [],
   "source": [
    "import pandas as pd\n",
    "import warnings\n",
    "pd.set_option('display.max_columns', None)  # Display all columns\n",
    "pd.set_option('display.expand_frame_repr', False)  # Prevent wrapping to new line\n",
    "pd.set_option('display.max_colwidth', None)  # No limit on column width\n",
    "pd.set_option('display.max_rows', None)  # Show all rows\n",
    "pd.set_option('display.width', None)  # Automatically adjust the width\n",
    "warnings.filterwarnings('ignore')"
   ]
  },
  {
   "cell_type": "markdown",
   "metadata": {},
   "source": [
    "- Departure data is missing(not available) for year 2013 and 2018. (2015 too)"
   ]
  },
  {
   "cell_type": "code",
   "execution_count": 85,
   "metadata": {},
   "outputs": [],
   "source": [
    "# df_2013_Dep=pd.read_excel('../data-students/TourismData-2013/QUARTERWISE PERCENTAGE DISTRIBUTION OF DESTINATION COUNTRY WISE DEPARTURES OF INDIAN NATIONALS.xlsx')\n",
    "df_2014_Dep=pd.read_excel('../data-students/TourismData-2014/QUARTERWISE PERCENTAGE DISTRIBUTION OF DESTINATION COUNTRY WISE DEPARTURES OF INDIAN NATIONALS.xlsx')\n",
    "df_2016_Dep=pd.read_excel('../data-students/TourismData-2016/QUARTERWISE PERCENTAGE DISTRIBUTION OF DESTINATION COUNTRY WISE DEPARTURES OF INDIAN NATIONALS.xlsx')\n",
    "df_2017_Dep=pd.read_excel('../data-students/TourismData-2017/QUARTERWISE PERCENTAGE DISTRIBUTION OF DESTINATION COUNTRY WISE DEPARTURES OF INDIAN NATIONALS.xlsx')\n",
    "# df_2018_Dep=pd.read_excel('../data-students/TourismData-2018/QUARTERWISE PERCENTAGE DISTRIBUTION OF DESTINATION COUNTRY WISE DEPARTURES OF INDIAN NATIONALS.xlsx')\n",
    "df_2019_Dep=pd.read_excel('../data-students/TourismData-2019/QUARTERWISE PERCENTAGE DISTRIBUTION OF DESTINATION COUNTRY WISE DEPARTURES OF INDIAN NATIONALS.xlsx')\n",
    "df_2020_Dep=pd.read_excel('../data-students/TourismData-2020/QUARTERWISE PERCENTAGE DISTRIBUTION OF DESTINATION COUNTRY WISE DEPARTURES OF INDIAN NATIONALS.xlsx')\n",
    "df_2021_Dep=pd.read_excel('../data-students/TourismData-2021/QUARTERWISE PERCENTAGE DISTRIBUTION OF DESTINATION COUNTRY WISE DEPARTURES OF INDIAN NATIONALS.xlsx')\n",
    "df_2022_Dep=pd.read_excel('../data-students/TourismData-2022/QUARTERWISE PERCENTAGE DISTRIBUTION OF DESTINATION COUNTRY WISE DEPARTURES OF INDIAN NATIONALS.xlsx')"
   ]
  },
  {
   "cell_type": "markdown",
   "metadata": {},
   "source": [
    "- Since Departure data is not avilable for year 2013 and 2018, I will not be able to compute the differnece between between incoming and outgoing no of tourists. So, I will not consider FTA data for year 2013 and 2018."
   ]
  },
  {
   "cell_type": "code",
   "execution_count": 86,
   "metadata": {},
   "outputs": [],
   "source": [
    "# df_2013_FTAs=pd.read_excel('../data-students/TourismData-2013/NATIONALITY-WISE QUARTER-WISE DISTRIBUTION OF FTAs IN INDIA.xlsx')\n",
    "df_2014_FTAs=pd.read_excel('../data-students/TourismData-2014/NATIONALITY-WISE QUARTER-WISE DISTRIBUTION OF FTAs IN INDIA.xlsx')\n",
    "df_2016_FTAs=pd.read_excel('../data-students/TourismData-2016/NATIONALITY-WISE QUARTER-WISE DISTRIBUTION OF FTAs IN INDIA.xlsx')\n",
    "df_2017_FTAs=pd.read_excel('../data-students/TourismData-2017/NATIONALITY-WISE QUARTER-WISE DISTRIBUTION OF FTAs IN INDIA.xlsx')\n",
    "# df_2018_FTAs=pd.read_excel('../data-students/TourismData-2018/NATIONALITY-WISE QUARTER-WISE DISTRIBUTION OF FTAs IN INDIA.xlsx')\n",
    "df_2019_FTAs=pd.read_excel('../data-students/TourismData-2019/NATIONALITY-WISE QUARTER-WISE DISTRIBUTION OF FTAs IN INDIA.xlsx')\n",
    "df_2020_FTAs=pd.read_excel('../data-students/TourismData-2020/NATIONALITY-WISE QUARTER-WISE DISTRIBUTION OF FTAs IN INDIA.xlsx')\n",
    "df_2021_FTAs=pd.read_excel('../data-students/TourismData-2021/NATIONALITY-WISE QUARTER-WISE DISTRIBUTION OF FTAs IN INDIA.xlsx')\n",
    "df_2022_FTAs=pd.read_excel('../data-students/TourismData-2022/NATIONALITY-WISE QUARTER-WISE DISTRIBUTION OF FTAs IN INDIA.xlsx')"
   ]
  },
  {
   "cell_type": "markdown",
   "metadata": {},
   "source": [
    "# Data Analysis"
   ]
  },
  {
   "cell_type": "code",
   "execution_count": 87,
   "metadata": {},
   "outputs": [],
   "source": [
    "list_FTAs=[df_2014_FTAs,df_2016_FTAs,df_2017_FTAs,df_2019_FTAs,df_2020_FTAs,df_2021_FTAs,df_2022_FTAs]\n",
    "list_Dep=[df_2014_Dep,df_2016_Dep,df_2017_Dep,df_2019_Dep,df_2020_Dep,df_2021_Dep,df_2022_Dep]"
   ]
  },
  {
   "cell_type": "code",
   "execution_count": 88,
   "metadata": {},
   "outputs": [
    {
     "data": {
      "text/html": [
       "<div>\n",
       "<style scoped>\n",
       "    .dataframe tbody tr th:only-of-type {\n",
       "        vertical-align: middle;\n",
       "    }\n",
       "\n",
       "    .dataframe tbody tr th {\n",
       "        vertical-align: top;\n",
       "    }\n",
       "\n",
       "    .dataframe thead th {\n",
       "        text-align: right;\n",
       "    }\n",
       "</style>\n",
       "<table border=\"1\" class=\"dataframe\">\n",
       "  <thead>\n",
       "    <tr style=\"text-align: right;\">\n",
       "      <th></th>\n",
       "      <th>Country of Nationality</th>\n",
       "      <th>Arrivals (in numbers)</th>\n",
       "      <th>1st Quarter (Jan-Mar)</th>\n",
       "      <th>2nd Quarter (Apr-June)</th>\n",
       "      <th>3rd Quarter (July-Sep)</th>\n",
       "      <th>4th Quarter (Oct-Dec)</th>\n",
       "    </tr>\n",
       "  </thead>\n",
       "  <tbody>\n",
       "    <tr>\n",
       "      <th>0</th>\n",
       "      <td>North America</td>\n",
       "      <td>NaN</td>\n",
       "      <td>NaN</td>\n",
       "      <td>NaN</td>\n",
       "      <td>NaN</td>\n",
       "      <td>NaN</td>\n",
       "    </tr>\n",
       "    <tr>\n",
       "      <th>1</th>\n",
       "      <td>Canada</td>\n",
       "      <td>281306.0</td>\n",
       "      <td>34.2</td>\n",
       "      <td>14.5</td>\n",
       "      <td>15.9</td>\n",
       "      <td>35.4</td>\n",
       "    </tr>\n",
       "    <tr>\n",
       "      <th>2</th>\n",
       "      <td>United States of America</td>\n",
       "      <td>1213624.0</td>\n",
       "      <td>26.4</td>\n",
       "      <td>22.1</td>\n",
       "      <td>19.6</td>\n",
       "      <td>31.9</td>\n",
       "    </tr>\n",
       "    <tr>\n",
       "      <th>3</th>\n",
       "      <td>Central &amp; South America</td>\n",
       "      <td>NaN</td>\n",
       "      <td>NaN</td>\n",
       "      <td>NaN</td>\n",
       "      <td>NaN</td>\n",
       "      <td>NaN</td>\n",
       "    </tr>\n",
       "    <tr>\n",
       "      <th>4</th>\n",
       "      <td>Argentina</td>\n",
       "      <td>9351.0</td>\n",
       "      <td>40.6</td>\n",
       "      <td>17.5</td>\n",
       "      <td>14.6</td>\n",
       "      <td>27.3</td>\n",
       "    </tr>\n",
       "  </tbody>\n",
       "</table>\n",
       "</div>"
      ],
      "text/plain": [
       "     Country of Nationality  Arrivals (in numbers)  1st Quarter (Jan-Mar)  2nd Quarter (Apr-June)  3rd Quarter (July-Sep)  4th Quarter (Oct-Dec)\n",
       "0             North America                    NaN                    NaN                     NaN                     NaN                    NaN\n",
       "1                    Canada               281306.0                   34.2                    14.5                    15.9                   35.4\n",
       "2  United States of America              1213624.0                   26.4                    22.1                    19.6                   31.9\n",
       "3   Central & South America                    NaN                    NaN                     NaN                     NaN                    NaN\n",
       "4                 Argentina                 9351.0                   40.6                    17.5                    14.6                   27.3"
      ]
     },
     "execution_count": 88,
     "metadata": {},
     "output_type": "execute_result"
    }
   ],
   "source": [
    "list_FTAs[0].head()"
   ]
  },
  {
   "cell_type": "code",
   "execution_count": 89,
   "metadata": {},
   "outputs": [],
   "source": [
    "# for i in range(0,len(list_Dep)):\n",
    "#     list_Dep[i]=list_Dep[['Country of Nationality']]\n",
    "# Assuming your list of dataframes is named 'df_list'\n",
    "list_Dep = [df.iloc[:, :2] for df in list_Dep]\n",
    "list_FTAs = [df.iloc[:, :2] for df in list_FTAs]"
   ]
  },
  {
   "cell_type": "code",
   "execution_count": 90,
   "metadata": {},
   "outputs": [
    {
     "data": {
      "text/html": [
       "<div>\n",
       "<style scoped>\n",
       "    .dataframe tbody tr th:only-of-type {\n",
       "        vertical-align: middle;\n",
       "    }\n",
       "\n",
       "    .dataframe tbody tr th {\n",
       "        vertical-align: top;\n",
       "    }\n",
       "\n",
       "    .dataframe thead th {\n",
       "        text-align: right;\n",
       "    }\n",
       "</style>\n",
       "<table border=\"1\" class=\"dataframe\">\n",
       "  <thead>\n",
       "    <tr style=\"text-align: right;\">\n",
       "      <th></th>\n",
       "      <th>Country of Nationality</th>\n",
       "      <th>Arrivals (in numbers)</th>\n",
       "    </tr>\n",
       "  </thead>\n",
       "  <tbody>\n",
       "    <tr>\n",
       "      <th>0</th>\n",
       "      <td>North America</td>\n",
       "      <td>NaN</td>\n",
       "    </tr>\n",
       "    <tr>\n",
       "      <th>1</th>\n",
       "      <td>Canada</td>\n",
       "      <td>281306.0</td>\n",
       "    </tr>\n",
       "    <tr>\n",
       "      <th>2</th>\n",
       "      <td>United States of America</td>\n",
       "      <td>1213624.0</td>\n",
       "    </tr>\n",
       "    <tr>\n",
       "      <th>3</th>\n",
       "      <td>Central &amp; South America</td>\n",
       "      <td>NaN</td>\n",
       "    </tr>\n",
       "    <tr>\n",
       "      <th>4</th>\n",
       "      <td>Argentina</td>\n",
       "      <td>9351.0</td>\n",
       "    </tr>\n",
       "  </tbody>\n",
       "</table>\n",
       "</div>"
      ],
      "text/plain": [
       "     Country of Nationality  Arrivals (in numbers)\n",
       "0             North America                    NaN\n",
       "1                    Canada               281306.0\n",
       "2  United States of America              1213624.0\n",
       "3   Central & South America                    NaN\n",
       "4                 Argentina                 9351.0"
      ]
     },
     "execution_count": 90,
     "metadata": {},
     "output_type": "execute_result"
    }
   ],
   "source": [
    "list_FTAs[0].head()"
   ]
  },
  {
   "cell_type": "code",
   "execution_count": 91,
   "metadata": {},
   "outputs": [],
   "source": [
    "for df in list_Dep:\n",
    "    df.columns = df.columns.str.upper()\n",
    "    df['DESTINATION COUNTRY'] = df['DESTINATION COUNTRY'].str.upper()\n",
    "    # print(df.columns)\n",
    "    df['DESTINATION COUNTRY'] = df['DESTINATION COUNTRY'].str.strip()\n",
    "\n",
    "# list_Dep=[df_2014_Dep,df_2016_Dep,df_2017_Dep,df_2019_Dep,df_2020_Dep,df_2021_Dep,df_2022_Dep]"
   ]
  },
  {
   "cell_type": "code",
   "execution_count": 92,
   "metadata": {},
   "outputs": [],
   "source": [
    "for df in list_FTAs:\n",
    "    df.columns = df.columns.str.upper()\n",
    "    df['COUNTRY OF NATIONALITY'] = df['COUNTRY OF NATIONALITY'].str.upper()\n",
    "    # print(df.columns)\n",
    "    df['COUNTRY OF NATIONALITY'] = df['COUNTRY OF NATIONALITY'].str.strip()\n",
    "\n",
    "# list_Dep=[df_2014_Dep,df_2016_Dep,df_2017_Dep,df_2019_Dep,df_2020_Dep,df_2021_Dep,df_2022_Dep]"
   ]
  },
  {
   "cell_type": "code",
   "execution_count": 93,
   "metadata": {},
   "outputs": [],
   "source": [
    "# for df in list_FTAs:\n",
    "#     df['COUNTRY OF NATIONALITY'] = df['COUNTRY OF NATIONALITY'].where(\n",
    "#         ~df['COUNTRY OF NATIONALITY'].duplicated(),  # Keep the first occurrence as is\n",
    "#         df['COUNTRY OF NATIONALITY'] + (df.groupby('COUNTRY OF NATIONALITY').cumcount() + 1).astype(str)  # Append count to duplicates\n",
    "#     )"
   ]
  },
  {
   "cell_type": "code",
   "execution_count": 94,
   "metadata": {},
   "outputs": [],
   "source": [
    "# for df in list_Dep:\n",
    "#     df['DESTINATION COUNTRY'] = df['DESTINATION COUNTRY'].where(\n",
    "#         ~df['DESTINATION COUNTRY'].duplicated(),  # Keep the first occurrence as is\n",
    "#         df['DESTINATION COUNTRY'] + (df.groupby('DESTINATION COUNTRY').cumcount() + 1).astype(str)  # Append count to duplicates\n",
    "#     )"
   ]
  },
  {
   "cell_type": "code",
   "execution_count": 95,
   "metadata": {},
   "outputs": [],
   "source": [
    "# list_FTAs[0].head(10)"
   ]
  },
  {
   "cell_type": "code",
   "execution_count": 96,
   "metadata": {},
   "outputs": [],
   "source": [
    "# # Get values in column1 of DataFrame1 that are not in DataFrame2\n",
    "# df_col1=list_FTAs[0][\"COUNTRY OF NATIONALITY\"]\n",
    "# i=0\n",
    "# for df in list_FTAs:\n",
    "#     unique_in_df1 = set(df_col1) - set(df['COUNTRY OF NATIONALITY'])\n",
    "#     if(unique_in_df1):\n",
    "#         print(unique_in_df1 ,\" : \",i)\n",
    "#         # df.head()\n",
    "#         # print(df.head())\n",
    "#     i+=1"
   ]
  },
  {
   "cell_type": "code",
   "execution_count": 97,
   "metadata": {},
   "outputs": [],
   "source": [
    "# # Get values in column1 of DataFrame1 that are not in DataFrame2\n",
    "# df_col1=list_Dep[0][\"DESTINATION COUNTRY\"]\n",
    "# i=0\n",
    "# for df in list_Dep:\n",
    "#     unique_in_df1 = set(df_col1) - set(df['DESTINATION COUNTRY'])\n",
    "#     if(unique_in_df1):\n",
    "#         print(unique_in_df1 ,\" : \",i)\n",
    "#         # df.head()\n",
    "#         # print(df.head())\n",
    "#     i+=1"
   ]
  },
  {
   "cell_type": "code",
   "execution_count": 98,
   "metadata": {},
   "outputs": [],
   "source": [
    "# list_Dep[3]"
   ]
  },
  {
   "cell_type": "code",
   "execution_count": 99,
   "metadata": {},
   "outputs": [],
   "source": [
    "years=[2014,2016,2017,2019,2020,2021,2022]\n",
    "Destination_df=pd.DataFrame(columns=['DESTINATION COUNTRY','CONTINENT'])"
   ]
  },
  {
   "cell_type": "code",
   "execution_count": 100,
   "metadata": {},
   "outputs": [],
   "source": [
    "i=0\n",
    "for df in list_Dep:\n",
    "    # Convert the string data to a pandas DataFrame\n",
    "    df = df[df['DESTINATION COUNTRY'] != 'OTHERS']\n",
    "    df = df.reset_index(drop=True)\n",
    "\n",
    "    # Add the continent column based on the country names\n",
    "    continent_mapping = {\n",
    "        \"NORTH AMERICA\": [\"CANADA\", \"UNITED STATES OF AMERICA\"],\n",
    "        \"CENTRAL & SOUTH AMERICA\": [\"ARGENTINA\", \"BRAZIL\", \"MEXICO\"],\n",
    "        \"WESTERN EUROPE\": [\"AUSTRIA\", \"BELGIUM\", \"DENMARK\", \"FINLAND\", \"FRANCE\", \"GERMANY\", \"GREECE\", \n",
    "                        \"IRELAND\", \"ITALY\", \"NETHERLANDS\", \"NORWAY\", \"PORTUGAL\", \"SPAIN\", \"SWEDEN\", \n",
    "                        \"SWITZERLAND\", \"UNITED KINGDOM\"],\n",
    "        \"EASTERN EUROPE\": [\"AZERBAIJAN\",\"CZECH REPUBLIC\", \"KAZAKHSTAN\", \"POLAND\", \"RUSSIAN FEDERATION\", \"UKRAINE\", \"HUNGARY\"],\n",
    "        \"AFRICA\": [\"UGANDA\",\"EGYPT\", \"KENYA\", \"MAURITIUS\", \"NIGERIA\", \"SOUTH AFRICA\", \"SUDAN\", \"TANZANIA\"],\n",
    "        \"WEST ASIA\": [\"QATAR\",\"KUWAIT\",\"JORDAN\",\"BAHRAIN\", \"IRAQ\", \"ISRAEL\", \"OMAN\", \"SAUDI ARABIA\", \"TURKEY\", \"UNITED ARAB EMIRATES\", \n",
    "                    \"YEMEN\"],\n",
    "        \"SOUTH ASIA\": [\"AFGHANISTAN\", \"IRAN\", \"MALDIVES\", \"NEPAL\", \"PAKISTAN\", \"BANGLADESH\", \"SRI LANKA\", \"BHUTAN\"],\n",
    "        \"SOUTH EAST ASIA\": [\"CAMBODIA\",\"INDONESIA\", \"MALAYSIA\", \"MYANMAR\", \"PHILIPPINES\", \"SINGAPORE\", \"THAILAND\", \"VIETNAM\"],\n",
    "        \"EAST ASIA\": [\"HONG KONG\",\"REPUBLIC OF CHINA\", \"TAIWAN\", \"JAPAN\", \"REPUBLIC OF KOREA\"],\n",
    "        \"AUSTRALASIA\": [\"AUSTRALIA\", \"NEW ZEALAND\"]\n",
    "    }\n",
    "\n",
    "    # Function to assign continent based on the country\n",
    "    def assign_continent(row):\n",
    "        for continent, countries in continent_mapping.items():\n",
    "            if row['DESTINATION COUNTRY'] in countries:\n",
    "                return continent\n",
    "        return \"Unknown\"\n",
    "\n",
    "    # Apply the function to create the new continent column\n",
    "    df['CONTINENT'] = df.apply(assign_continent, axis=1)\n",
    "    df.dropna(inplace=True)\n",
    "    df = df.reset_index(drop=True)\n",
    "    df.columns = ['DESTINATION COUNTRY', 'DEPARTURES (IN NUMBERS) '+str(years[i]),'CONTINENT']\n",
    "    Destination_df = pd.merge(Destination_df, df, on=['DESTINATION COUNTRY','CONTINENT'], how='outer')\n",
    "    i+=1"
   ]
  },
  {
   "cell_type": "code",
   "execution_count": 101,
   "metadata": {},
   "outputs": [],
   "source": [
    "# Destination_df"
   ]
  },
  {
   "cell_type": "code",
   "execution_count": 102,
   "metadata": {},
   "outputs": [],
   "source": [
    "FTA_df=pd.DataFrame(columns=['COUNTRY OF NATIONALITY','CONTINENT'])"
   ]
  },
  {
   "cell_type": "code",
   "execution_count": 103,
   "metadata": {},
   "outputs": [],
   "source": [
    "i=0\n",
    "for df in list_FTAs:\n",
    "    # Convert the string data to a pandas DataFrame\n",
    "    df = df[df['COUNTRY OF NATIONALITY'] != 'OTHERS']\n",
    "    df = df.reset_index(drop=True)\n",
    "\n",
    "    # Add the continent column based on the country names\n",
    "    continent_mapping = {\n",
    "        \"NORTH AMERICA\": [\"CANADA\", \"UNITED STATES OF AMERICA\"],\n",
    "        \"CENTRAL & SOUTH AMERICA\": [\"ARGENTINA\", \"BRAZIL\", \"MEXICO\"],\n",
    "        \"WESTERN EUROPE\": [\"AUSTRIA\", \"BELGIUM\", \"DENMARK\", \"FINLAND\", \"FRANCE\", \"GERMANY\", \"GREECE\", \n",
    "                        \"IRELAND\", \"ITALY\", \"NETHERLANDS\", \"NORWAY\", \"PORTUGAL\", \"SPAIN\", \"SWEDEN\", \n",
    "                        \"SWITZERLAND\", \"UNITED KINGDOM\"],\n",
    "        \"EASTERN EUROPE\": [\"AZERBAIJAN\",\"CZECH REPUBLIC\", \"KAZAKHSTAN\", \"POLAND\", \"RUSSIAN FEDERATION\", \"UKRAINE\", \"HUNGARY\"],\n",
    "        \"AFRICA\": [\"UGANDA\",\"EGYPT\", \"KENYA\", \"MAURITIUS\", \"NIGERIA\", \"SOUTH AFRICA\", \"SUDAN\", \"TANZANIA\"],\n",
    "        \"WEST ASIA\": [\"QATAR\",\"KUWAIT\",\"JORDAN\",\"BAHRAIN\", \"IRAQ\", \"ISRAEL\", \"OMAN\", \"SAUDI ARABIA\", \"TURKEY\", \"UNITED ARAB EMIRATES\", \n",
    "                    \"YEMEN\"],\n",
    "        \"SOUTH ASIA\": [\"AFGHANISTAN\", \"IRAN\", \"MALDIVES\", \"NEPAL\", \"PAKISTAN\", \"BANGLADESH\", \"SRI LANKA\", \"BHUTAN\"],\n",
    "        \"SOUTH EAST ASIA\": [\"CAMBODIA\",\"INDONESIA\", \"MALAYSIA\", \"MYANMAR\", \"PHILIPPINES\", \"SINGAPORE\", \"THAILAND\", \"VIETNAM\"],\n",
    "        \"EAST ASIA\": [\"HONG KONG\",\"REPUBLIC OF CHINA\", \"TAIWAN\", \"JAPAN\", \"REPUBLIC OF KOREA\"],\n",
    "        \"AUSTRALASIA\": [\"AUSTRALIA\", \"NEW ZEALAND\"]\n",
    "    }\n",
    "\n",
    "    # Function to assign continent based on the country\n",
    "    def assign_continent(row):\n",
    "        for continent, countries in continent_mapping.items():\n",
    "            if row['COUNTRY OF NATIONALITY'] in countries:\n",
    "                return continent\n",
    "        return \"Unknown\"\n",
    "\n",
    "    # Apply the function to create the new continent column\n",
    "    df['CONTINENT'] = df.apply(assign_continent, axis=1)\n",
    "    df.dropna(inplace=True)\n",
    "    df = df.reset_index(drop=True)\n",
    "\n",
    "    df['CONTINENT'] = df.apply(assign_continent, axis=1)\n",
    "    df.dropna(inplace=True)\n",
    "    df = df.reset_index(drop=True)\n",
    "    df.columns = ['COUNTRY OF NATIONALITY', 'ARRIVALS (IN NUMBERS) '+str(years[i]),'CONTINENT']\n",
    "    FTA_df = pd.merge(FTA_df, df, on=['COUNTRY OF NATIONALITY','CONTINENT'], how='outer')\n",
    "    i+=1"
   ]
  },
  {
   "cell_type": "code",
   "execution_count": 104,
   "metadata": {},
   "outputs": [],
   "source": [
    "# FTA_df"
   ]
  },
  {
   "cell_type": "code",
   "execution_count": 105,
   "metadata": {},
   "outputs": [],
   "source": [
    "# # Assuming your list of DataFrames is named 'df_list'\n",
    "\n",
    "# # Concatenate all values from the first column of each DataFrame, then find unique values\n",
    "# unique_values_FTAs = pd.concat([df.iloc[:, 0] for df in list_FTAs]).unique()\n",
    "# unique_values_FTAs = unique_values_FTAs.sort_index()\n",
    "\n",
    "# # Print the sorted value counts\n",
    "# print(unique_values_FTAs)\n",
    "\n",
    "# unique_values_Dep = pd.concat([df.iloc[:, 0] for df in list_Dep]).unique()\n",
    "# unique_values_Dep = unique_values_Dep.sort_index()\n",
    "\n",
    "# # Print the sorted value counts\n",
    "# print(unique_values_Dep)\n",
    "# # unique_values\n",
    "\n",
    "# Assuming your list of DataFrames is named 'df_list'\n",
    "\n",
    "# Concatenate the first columns and get the counts of each unique value, sorted by the value itself\n",
    "unique_values_FTAs = pd.concat([df.iloc[:, 0] for df in list_FTAs]).value_counts().sort_index()\n",
    "\n",
    "# Print the sorted value counts\n",
    "# print(unique_values_FTAs)\n",
    "\n",
    "unique_values_Dep = pd.concat([df.iloc[:, 0] for df in list_Dep]).value_counts().sort_index()\n",
    "\n",
    "# Print the sorted value counts\n",
    "# print(\"\\n\",unique_values_FTAs)"
   ]
  },
  {
   "cell_type": "code",
   "execution_count": 106,
   "metadata": {},
   "outputs": [],
   "source": [
    "\n",
    "unique_values_Dep = pd.concat([df.iloc[:, 0] for df in list_Dep]).value_counts().sort_index()\n",
    "\n",
    "# Print the sorted value counts\n",
    "# print(\"\\n\",unique_values_FTAs)"
   ]
  },
  {
   "cell_type": "code",
   "execution_count": 107,
   "metadata": {},
   "outputs": [],
   "source": [
    "# Assuming you have two value_counts Series named 'value_counts' and 'value_counts_2'\n",
    "\n",
    "# Find values unique to value_counts\n",
    "unique_to_value_counts = unique_values_FTAs.index.difference(unique_values_Dep.index)\n",
    "\n",
    "# Find values unique to value_counts_2\n",
    "unique_to_value_counts_2 = unique_values_Dep.index.difference(unique_values_FTAs.index)\n",
    "\n",
    "# Print the unique values\n",
    "# print(\"Unique to unique_values_FTAs:\", unique_to_value_counts)\n",
    "# print(\"Unique to unique_values_Dep:\", unique_to_value_counts_2)"
   ]
  },
  {
   "cell_type": "code",
   "execution_count": 108,
   "metadata": {},
   "outputs": [],
   "source": [
    "# Destination_df.columns"
   ]
  },
  {
   "cell_type": "code",
   "execution_count": 109,
   "metadata": {},
   "outputs": [],
   "source": [
    "# FTA_df.columns"
   ]
  },
  {
   "cell_type": "code",
   "execution_count": 110,
   "metadata": {},
   "outputs": [],
   "source": [
    "# Select relevant columns for each DataFrame\n",
    "destination_cols = ['DESTINATION COUNTRY', 'CONTINENT', 'DEPARTURES (IN NUMBERS) 2014',\n",
    "                    'DEPARTURES (IN NUMBERS) 2016', 'DEPARTURES (IN NUMBERS) 2017',\n",
    "                    'DEPARTURES (IN NUMBERS) 2019', 'DEPARTURES (IN NUMBERS) 2020',\n",
    "                    'DEPARTURES (IN NUMBERS) 2021', 'DEPARTURES (IN NUMBERS) 2022']\n",
    "ftas_cols = ['COUNTRY OF NATIONALITY', 'CONTINENT', 'ARRIVALS (IN NUMBERS) 2014',\n",
    "             'ARRIVALS (IN NUMBERS) 2016', 'ARRIVALS (IN NUMBERS) 2017',\n",
    "             'ARRIVALS (IN NUMBERS) 2019', 'ARRIVALS (IN NUMBERS) 2020',\n",
    "             'ARRIVALS (IN NUMBERS) 2021', 'ARRIVALS (IN NUMBERS) 2022']\n",
    "\n",
    "# Filter and rename columns in both DataFrames for easy alignment\n",
    "Destination_df_filtered = Destination_df[destination_cols].rename(\n",
    "    columns={\n",
    "        'DESTINATION COUNTRY': 'COUNTRY',\n",
    "        'DEPARTURES (IN NUMBERS) 2014': '2014',\n",
    "        'DEPARTURES (IN NUMBERS) 2016': '2016',\n",
    "        'DEPARTURES (IN NUMBERS) 2017': '2017',\n",
    "        'DEPARTURES (IN NUMBERS) 2019': '2019',\n",
    "        'DEPARTURES (IN NUMBERS) 2020': '2020',\n",
    "        'DEPARTURES (IN NUMBERS) 2021': '2021',\n",
    "        'DEPARTURES (IN NUMBERS) 2022': '2022'\n",
    "    }\n",
    ")\n",
    "\n",
    "FTAs_df_filtered = FTA_df[ftas_cols].rename(\n",
    "    columns={\n",
    "        'COUNTRY OF NATIONALITY': 'COUNTRY',\n",
    "        'ARRIVALS (IN NUMBERS) 2014': '2014',\n",
    "        'ARRIVALS (IN NUMBERS) 2016': '2016',\n",
    "        'ARRIVALS (IN NUMBERS) 2017': '2017',\n",
    "        'ARRIVALS (IN NUMBERS) 2019': '2019',\n",
    "        'ARRIVALS (IN NUMBERS) 2020': '2020',\n",
    "        'ARRIVALS (IN NUMBERS) 2021': '2021',\n",
    "        'ARRIVALS (IN NUMBERS) 2022': '2022'\n",
    "    }\n",
    ")\n",
    "\n",
    "# Merge the two DataFrames on 'COUNTRY' and 'CONTINENT' to align rows\n",
    "merged_df = FTAs_df_filtered.merge(Destination_df_filtered, on=['COUNTRY', 'CONTINENT'], suffixes=('_FTA', '_DEST'))\n",
    "\n",
    "# Calculate the difference for each year\n",
    "Difference_Countrywise_df = merged_df[['COUNTRY', 'CONTINENT']].copy()\n",
    "# for year in ['2014', '2016', '2017', '2019', '2020', '2021', '2022']:\n",
    "#     Difference_Countrywise_df[year] = merged_df[f\"{year}_FTA\"] - merged_df[f\"{year}_DEST\"]\n",
    "for year in ['2014', '2016', '2017', '2019', '2020', '2021', '2022']:\n",
    "    Difference_Countrywise_df[f\"{year}(In-Out)\"] = merged_df[f\"{year}_FTA\"] - merged_df[f\"{year}_DEST\"]\n",
    "\n",
    "\n",
    "\n",
    "# Display the result\n",
    "# print(Difference_df)\n",
    "# Difference_Countrywise_df"
   ]
  },
  {
   "cell_type": "code",
   "execution_count": 111,
   "metadata": {},
   "outputs": [
    {
     "data": {
      "text/html": [
       "<div>\n",
       "<style scoped>\n",
       "    .dataframe tbody tr th:only-of-type {\n",
       "        vertical-align: middle;\n",
       "    }\n",
       "\n",
       "    .dataframe tbody tr th {\n",
       "        vertical-align: top;\n",
       "    }\n",
       "\n",
       "    .dataframe thead th {\n",
       "        text-align: right;\n",
       "    }\n",
       "</style>\n",
       "<table border=\"1\" class=\"dataframe\">\n",
       "  <thead>\n",
       "    <tr style=\"text-align: right;\">\n",
       "      <th></th>\n",
       "      <th>DESTINATION COUNTRY</th>\n",
       "      <th>CONTINENT</th>\n",
       "      <th>DEPARTURES (IN NUMBERS) 2014</th>\n",
       "      <th>DEPARTURES (IN NUMBERS) 2016</th>\n",
       "      <th>DEPARTURES (IN NUMBERS) 2017</th>\n",
       "      <th>DEPARTURES (IN NUMBERS) 2019</th>\n",
       "      <th>DEPARTURES (IN NUMBERS) 2020</th>\n",
       "      <th>DEPARTURES (IN NUMBERS) 2021</th>\n",
       "      <th>DEPARTURES (IN NUMBERS) 2022</th>\n",
       "    </tr>\n",
       "  </thead>\n",
       "  <tbody>\n",
       "    <tr>\n",
       "      <th>0</th>\n",
       "      <td>AFGHANISTAN</td>\n",
       "      <td>SOUTH ASIA</td>\n",
       "      <td>114406.0</td>\n",
       "      <td>149176.0</td>\n",
       "      <td>149176.0</td>\n",
       "      <td>NaN</td>\n",
       "      <td>5673.0</td>\n",
       "      <td>4018.0</td>\n",
       "      <td>1197.0</td>\n",
       "    </tr>\n",
       "    <tr>\n",
       "      <th>1</th>\n",
       "      <td>ARGENTINA</td>\n",
       "      <td>CENTRAL &amp; SOUTH AMERICA</td>\n",
       "      <td>9351.0</td>\n",
       "      <td>14875.0</td>\n",
       "      <td>14875.0</td>\n",
       "      <td>2840.0</td>\n",
       "      <td>698.0</td>\n",
       "      <td>433.0</td>\n",
       "      <td>1355.0</td>\n",
       "    </tr>\n",
       "    <tr>\n",
       "      <th>2</th>\n",
       "      <td>AUSTRALIA</td>\n",
       "      <td>AUSTRALASIA</td>\n",
       "      <td>263101.0</td>\n",
       "      <td>324243.0</td>\n",
       "      <td>324243.0</td>\n",
       "      <td>589539.0</td>\n",
       "      <td>165580.0</td>\n",
       "      <td>36915.0</td>\n",
       "      <td>489404.0</td>\n",
       "    </tr>\n",
       "    <tr>\n",
       "      <th>3</th>\n",
       "      <td>AUSTRIA</td>\n",
       "      <td>WESTERN EUROPE</td>\n",
       "      <td>33670.0</td>\n",
       "      <td>31832.0</td>\n",
       "      <td>31832.0</td>\n",
       "      <td>40520.0</td>\n",
       "      <td>5763.0</td>\n",
       "      <td>4522.0</td>\n",
       "      <td>22942.0</td>\n",
       "    </tr>\n",
       "    <tr>\n",
       "      <th>4</th>\n",
       "      <td>AZERBAIJAN</td>\n",
       "      <td>EASTERN EUROPE</td>\n",
       "      <td>NaN</td>\n",
       "      <td>NaN</td>\n",
       "      <td>NaN</td>\n",
       "      <td>40927.0</td>\n",
       "      <td>9408.0</td>\n",
       "      <td>894.0</td>\n",
       "      <td>27971.0</td>\n",
       "    </tr>\n",
       "  </tbody>\n",
       "</table>\n",
       "</div>"
      ],
      "text/plain": [
       "  DESTINATION COUNTRY                CONTINENT  DEPARTURES (IN NUMBERS) 2014  DEPARTURES (IN NUMBERS) 2016  DEPARTURES (IN NUMBERS) 2017  DEPARTURES (IN NUMBERS) 2019  DEPARTURES (IN NUMBERS) 2020  DEPARTURES (IN NUMBERS) 2021  DEPARTURES (IN NUMBERS) 2022\n",
       "0         AFGHANISTAN               SOUTH ASIA                      114406.0                      149176.0                      149176.0                           NaN                        5673.0                        4018.0                        1197.0\n",
       "1           ARGENTINA  CENTRAL & SOUTH AMERICA                        9351.0                       14875.0                       14875.0                        2840.0                         698.0                         433.0                        1355.0\n",
       "2           AUSTRALIA              AUSTRALASIA                      263101.0                      324243.0                      324243.0                      589539.0                      165580.0                       36915.0                      489404.0\n",
       "3             AUSTRIA           WESTERN EUROPE                       33670.0                       31832.0                       31832.0                       40520.0                        5763.0                        4522.0                       22942.0\n",
       "4          AZERBAIJAN           EASTERN EUROPE                           NaN                           NaN                           NaN                       40927.0                        9408.0                         894.0                       27971.0"
      ]
     },
     "execution_count": 111,
     "metadata": {},
     "output_type": "execute_result"
    }
   ],
   "source": [
    "Destination_df.head()"
   ]
  },
  {
   "cell_type": "code",
   "execution_count": 112,
   "metadata": {},
   "outputs": [
    {
     "data": {
      "text/html": [
       "<div>\n",
       "<style scoped>\n",
       "    .dataframe tbody tr th:only-of-type {\n",
       "        vertical-align: middle;\n",
       "    }\n",
       "\n",
       "    .dataframe tbody tr th {\n",
       "        vertical-align: top;\n",
       "    }\n",
       "\n",
       "    .dataframe thead th {\n",
       "        text-align: right;\n",
       "    }\n",
       "</style>\n",
       "<table border=\"1\" class=\"dataframe\">\n",
       "  <thead>\n",
       "    <tr style=\"text-align: right;\">\n",
       "      <th></th>\n",
       "      <th>COUNTRY OF NATIONALITY</th>\n",
       "      <th>CONTINENT</th>\n",
       "      <th>ARRIVALS (IN NUMBERS) 2014</th>\n",
       "      <th>ARRIVALS (IN NUMBERS) 2016</th>\n",
       "      <th>ARRIVALS (IN NUMBERS) 2017</th>\n",
       "      <th>ARRIVALS (IN NUMBERS) 2019</th>\n",
       "      <th>ARRIVALS (IN NUMBERS) 2020</th>\n",
       "      <th>ARRIVALS (IN NUMBERS) 2021</th>\n",
       "      <th>ARRIVALS (IN NUMBERS) 2022</th>\n",
       "    </tr>\n",
       "  </thead>\n",
       "  <tbody>\n",
       "    <tr>\n",
       "      <th>0</th>\n",
       "      <td>AFGHANISTAN</td>\n",
       "      <td>SOUTH ASIA</td>\n",
       "      <td>114406.0</td>\n",
       "      <td>123330.0</td>\n",
       "      <td>149176.0</td>\n",
       "      <td>124120.0</td>\n",
       "      <td>47561.0</td>\n",
       "      <td>36451.0</td>\n",
       "      <td>1617.0</td>\n",
       "    </tr>\n",
       "    <tr>\n",
       "      <th>1</th>\n",
       "      <td>ARGENTINA</td>\n",
       "      <td>CENTRAL &amp; SOUTH AMERICA</td>\n",
       "      <td>9351.0</td>\n",
       "      <td>12308.0</td>\n",
       "      <td>14875.0</td>\n",
       "      <td>12844.0</td>\n",
       "      <td>4294.0</td>\n",
       "      <td>530.0</td>\n",
       "      <td>4720.0</td>\n",
       "    </tr>\n",
       "    <tr>\n",
       "      <th>2</th>\n",
       "      <td>AUSTRALIA</td>\n",
       "      <td>AUSTRALASIA</td>\n",
       "      <td>263101.0</td>\n",
       "      <td>293625.0</td>\n",
       "      <td>324243.0</td>\n",
       "      <td>367241.0</td>\n",
       "      <td>86758.0</td>\n",
       "      <td>33864.0</td>\n",
       "      <td>376898.0</td>\n",
       "    </tr>\n",
       "    <tr>\n",
       "      <th>3</th>\n",
       "      <td>AUSTRIA</td>\n",
       "      <td>WESTERN EUROPE</td>\n",
       "      <td>33670.0</td>\n",
       "      <td>33089.0</td>\n",
       "      <td>31832.0</td>\n",
       "      <td>32332.0</td>\n",
       "      <td>9182.0</td>\n",
       "      <td>4411.0</td>\n",
       "      <td>18375.0</td>\n",
       "    </tr>\n",
       "    <tr>\n",
       "      <th>4</th>\n",
       "      <td>BAHRAIN</td>\n",
       "      <td>WEST ASIA</td>\n",
       "      <td>14013.0</td>\n",
       "      <td>17382.0</td>\n",
       "      <td>16764.0</td>\n",
       "      <td>15128.0</td>\n",
       "      <td>3429.0</td>\n",
       "      <td>1727.0</td>\n",
       "      <td>9959.0</td>\n",
       "    </tr>\n",
       "  </tbody>\n",
       "</table>\n",
       "</div>"
      ],
      "text/plain": [
       "  COUNTRY OF NATIONALITY                CONTINENT  ARRIVALS (IN NUMBERS) 2014  ARRIVALS (IN NUMBERS) 2016  ARRIVALS (IN NUMBERS) 2017  ARRIVALS (IN NUMBERS) 2019  ARRIVALS (IN NUMBERS) 2020  ARRIVALS (IN NUMBERS) 2021  ARRIVALS (IN NUMBERS) 2022\n",
       "0            AFGHANISTAN               SOUTH ASIA                    114406.0                    123330.0                    149176.0                    124120.0                     47561.0                     36451.0                      1617.0\n",
       "1              ARGENTINA  CENTRAL & SOUTH AMERICA                      9351.0                     12308.0                     14875.0                     12844.0                      4294.0                       530.0                      4720.0\n",
       "2              AUSTRALIA              AUSTRALASIA                    263101.0                    293625.0                    324243.0                    367241.0                     86758.0                     33864.0                    376898.0\n",
       "3                AUSTRIA           WESTERN EUROPE                     33670.0                     33089.0                     31832.0                     32332.0                      9182.0                      4411.0                     18375.0\n",
       "4                BAHRAIN                WEST ASIA                     14013.0                     17382.0                     16764.0                     15128.0                      3429.0                      1727.0                      9959.0"
      ]
     },
     "execution_count": 112,
     "metadata": {},
     "output_type": "execute_result"
    }
   ],
   "source": [
    "FTA_df.head()"
   ]
  },
  {
   "cell_type": "code",
   "execution_count": 113,
   "metadata": {},
   "outputs": [],
   "source": [
    "# Select and rename relevant columns in both DataFrames\n",
    "destination_cols = ['CONTINENT', 'DEPARTURES (IN NUMBERS) 2014', 'DEPARTURES (IN NUMBERS) 2016',\n",
    "                    'DEPARTURES (IN NUMBERS) 2017', 'DEPARTURES (IN NUMBERS) 2019',\n",
    "                    'DEPARTURES (IN NUMBERS) 2020', 'DEPARTURES (IN NUMBERS) 2021',\n",
    "                    'DEPARTURES (IN NUMBERS) 2022']\n",
    "ftas_cols = ['CONTINENT', 'ARRIVALS (IN NUMBERS) 2014', 'ARRIVALS (IN NUMBERS) 2016',\n",
    "             'ARRIVALS (IN NUMBERS) 2017', 'ARRIVALS (IN NUMBERS) 2019',\n",
    "             'ARRIVALS (IN NUMBERS) 2020', 'ARRIVALS (IN NUMBERS) 2021',\n",
    "             'ARRIVALS (IN NUMBERS) 2022']\n",
    "\n",
    "# Aggregate values by continent and rename columns for easier merging\n",
    "Destination_continent = Destination_df[destination_cols].groupby('CONTINENT').sum().rename(\n",
    "    columns={\n",
    "        'DEPARTURES (IN NUMBERS) 2014': '2014',\n",
    "        'DEPARTURES (IN NUMBERS) 2016': '2016',\n",
    "        'DEPARTURES (IN NUMBERS) 2017': '2017',\n",
    "        'DEPARTURES (IN NUMBERS) 2019': '2019',\n",
    "        'DEPARTURES (IN NUMBERS) 2020': '2020',\n",
    "        'DEPARTURES (IN NUMBERS) 2021': '2021',\n",
    "        'DEPARTURES (IN NUMBERS) 2022': '2022'\n",
    "    }\n",
    ")\n",
    "\n",
    "FTAs_continent = FTA_df[ftas_cols].groupby('CONTINENT').sum().rename(\n",
    "    columns={\n",
    "        'ARRIVALS (IN NUMBERS) 2014': '2014',\n",
    "        'ARRIVALS (IN NUMBERS) 2016': '2016',\n",
    "        'ARRIVALS (IN NUMBERS) 2017': '2017',\n",
    "        'ARRIVALS (IN NUMBERS) 2019': '2019',\n",
    "        'ARRIVALS (IN NUMBERS) 2020': '2020',\n",
    "        'ARRIVALS (IN NUMBERS) 2021': '2021',\n",
    "        'ARRIVALS (IN NUMBERS) 2022': '2022'\n",
    "    }\n",
    ")\n",
    "\n",
    "# Merge on CONTINENT to align rows for each year\n",
    "merged_continent = FTAs_continent.merge(Destination_continent, on='CONTINENT', suffixes=('_FTA', '_DEST'))\n",
    "\n",
    "# Create the Difference_df by calculating differences for each year\n",
    "Difference_Continentwise_df = pd.DataFrame(index=merged_continent.index)\n",
    "Difference_Continentwise_df['CONTINENT'] = merged_continent.index\n",
    "\n",
    "# Calculate differences for each year and rename columns\n",
    "for year in ['2014', '2016', '2017', '2019', '2020', '2021', '2022']:\n",
    "    Difference_Continentwise_df[f\"{year}(In-Out)\"] = merged_continent[f\"{year}_FTA\"] - merged_continent[f\"{year}_DEST\"]\n",
    "\n",
    "# Reset index for better display\n",
    "Difference_Continentwise_df.reset_index(drop=True, inplace=True)\n",
    "\n",
    "# print(Difference_Continentwise_df)\n",
    "\n",
    "\n",
    "\n",
    "\n",
    "\n",
    "# Assuming merged_continent is already created as shown previously\n",
    "\n",
    "# Initialize Difference_continent with CONTINENT column\n",
    "\n",
    "\n",
    "# Display the result\n",
    "\n",
    "\n",
    "# Display the result\n",
    "# print(Difference_Continentwise_df)\n",
    "# Difference_Continentwise_df"
   ]
  },
  {
   "cell_type": "markdown",
   "metadata": {},
   "source": [
    "# 1 -> Top 5 Country"
   ]
  },
  {
   "cell_type": "code",
   "execution_count": 114,
   "metadata": {},
   "outputs": [],
   "source": [
    "# Assuming Difference_Countrywise_df is the DataFrame containing the differences\n",
    "\n",
    "# Melt the DataFrame to make it easier to work with\n",
    "Difference_countrywise_melted = Difference_Countrywise_df.melt(id_vars=['COUNTRY'], \n",
    "                                                              value_vars=['2014(In-Out)', '2016(In-Out)', '2017(In-Out)', \n",
    "                                                                          '2019(In-Out)', '2020(In-Out)', '2021(In-Out)', '2022(In-Out)'], \n",
    "                                                              var_name='Year', \n",
    "                                                              value_name='Difference')\n",
    "\n",
    "# Convert 'Year' column to string to avoid any issue with sorting\n",
    "Difference_countrywise_melted['Year'] = Difference_countrywise_melted['Year'].astype(str)\n",
    "\n",
    "# Top-5 positive balances per year\n",
    "top5_positive = Difference_countrywise_melted[Difference_countrywise_melted['Difference'] > 0]\\\n",
    "    .groupby(['Year'])\\\n",
    "    .apply(lambda x: x.nlargest(5, 'Difference'))\\\n",
    "    .reset_index(drop=True)\n",
    "\n",
    "# Top-5 negative balances per year\n",
    "top5_negative = Difference_countrywise_melted[Difference_countrywise_melted['Difference'] < 0]\\\n",
    "    .groupby(['Year'])\\\n",
    "    .apply(lambda x: x.nsmallest(5, 'Difference'))\\\n",
    "    .reset_index(drop=True)\n",
    "\n",
    "# Reorder columns to make 'Year' the first column in both DataFrames\n",
    "top5_positive = top5_positive[['Year', 'COUNTRY', 'Difference']]\n",
    "top5_negative = top5_negative[['Year', 'COUNTRY', 'Difference']]\n",
    "\n",
    "# Combine both positive and negative DataFrames\n",
    "top5_combined = pd.concat([top5_positive.assign(Balance='Positive'),\n",
    "                           top5_negative.assign(Balance='Negative')])\n",
    "\n",
    "# Reset the index for the final DataFrame\n",
    "top5_combined.reset_index(drop=True, inplace=True)\n",
    "\n",
    "# Display the result as a DataFrame\n",
    "# print(top5_combined)"
   ]
  },
  {
   "cell_type": "code",
   "execution_count": 115,
   "metadata": {},
   "outputs": [
    {
     "data": {
      "text/html": [
       "<div>\n",
       "<style scoped>\n",
       "    .dataframe tbody tr th:only-of-type {\n",
       "        vertical-align: middle;\n",
       "    }\n",
       "\n",
       "    .dataframe tbody tr th {\n",
       "        vertical-align: top;\n",
       "    }\n",
       "\n",
       "    .dataframe thead th {\n",
       "        text-align: right;\n",
       "    }\n",
       "</style>\n",
       "<table border=\"1\" class=\"dataframe\">\n",
       "  <thead>\n",
       "    <tr style=\"text-align: right;\">\n",
       "      <th></th>\n",
       "      <th>Year</th>\n",
       "      <th>COUNTRY</th>\n",
       "      <th>Difference</th>\n",
       "    </tr>\n",
       "  </thead>\n",
       "  <tbody>\n",
       "    <tr>\n",
       "      <th>0</th>\n",
       "      <td>2016(In-Out)</td>\n",
       "      <td>BANGLADESH</td>\n",
       "      <td>1164752.0</td>\n",
       "    </tr>\n",
       "    <tr>\n",
       "      <th>1</th>\n",
       "      <td>2016(In-Out)</td>\n",
       "      <td>PAKISTAN</td>\n",
       "      <td>60454.0</td>\n",
       "    </tr>\n",
       "    <tr>\n",
       "      <th>2</th>\n",
       "      <td>2016(In-Out)</td>\n",
       "      <td>MALDIVES</td>\n",
       "      <td>51269.0</td>\n",
       "    </tr>\n",
       "    <tr>\n",
       "      <th>3</th>\n",
       "      <td>2016(In-Out)</td>\n",
       "      <td>MYANMAR</td>\n",
       "      <td>40883.0</td>\n",
       "    </tr>\n",
       "    <tr>\n",
       "      <th>4</th>\n",
       "      <td>2016(In-Out)</td>\n",
       "      <td>SAUDI ARABIA</td>\n",
       "      <td>8629.0</td>\n",
       "    </tr>\n",
       "    <tr>\n",
       "      <th>5</th>\n",
       "      <td>2017(In-Out)</td>\n",
       "      <td>BANGLADESH</td>\n",
       "      <td>1940900.0</td>\n",
       "    </tr>\n",
       "    <tr>\n",
       "      <th>6</th>\n",
       "      <td>2017(In-Out)</td>\n",
       "      <td>MALDIVES</td>\n",
       "      <td>49962.0</td>\n",
       "    </tr>\n",
       "    <tr>\n",
       "      <th>7</th>\n",
       "      <td>2017(In-Out)</td>\n",
       "      <td>MYANMAR</td>\n",
       "      <td>46459.0</td>\n",
       "    </tr>\n",
       "    <tr>\n",
       "      <th>8</th>\n",
       "      <td>2017(In-Out)</td>\n",
       "      <td>JAPAN</td>\n",
       "      <td>770.0</td>\n",
       "    </tr>\n",
       "    <tr>\n",
       "      <th>9</th>\n",
       "      <td>2017(In-Out)</td>\n",
       "      <td>SINGAPORE</td>\n",
       "      <td>270.0</td>\n",
       "    </tr>\n",
       "    <tr>\n",
       "      <th>10</th>\n",
       "      <td>2019(In-Out)</td>\n",
       "      <td>REPUBLIC OF CHINA</td>\n",
       "      <td>311688.0</td>\n",
       "    </tr>\n",
       "    <tr>\n",
       "      <th>11</th>\n",
       "      <td>2019(In-Out)</td>\n",
       "      <td>UNITED KINGDOM</td>\n",
       "      <td>174727.0</td>\n",
       "    </tr>\n",
       "    <tr>\n",
       "      <th>12</th>\n",
       "      <td>2019(In-Out)</td>\n",
       "      <td>RUSSIAN FEDERATION</td>\n",
       "      <td>151252.0</td>\n",
       "    </tr>\n",
       "    <tr>\n",
       "      <th>13</th>\n",
       "      <td>2019(In-Out)</td>\n",
       "      <td>PORTUGAL</td>\n",
       "      <td>56331.0</td>\n",
       "    </tr>\n",
       "    <tr>\n",
       "      <th>14</th>\n",
       "      <td>2019(In-Out)</td>\n",
       "      <td>ISRAEL</td>\n",
       "      <td>37236.0</td>\n",
       "    </tr>\n",
       "    <tr>\n",
       "      <th>15</th>\n",
       "      <td>2020(In-Out)</td>\n",
       "      <td>BANGLADESH</td>\n",
       "      <td>397211.0</td>\n",
       "    </tr>\n",
       "    <tr>\n",
       "      <th>16</th>\n",
       "      <td>2020(In-Out)</td>\n",
       "      <td>RUSSIAN FEDERATION</td>\n",
       "      <td>90960.0</td>\n",
       "    </tr>\n",
       "    <tr>\n",
       "      <th>17</th>\n",
       "      <td>2020(In-Out)</td>\n",
       "      <td>AFGHANISTAN</td>\n",
       "      <td>41888.0</td>\n",
       "    </tr>\n",
       "    <tr>\n",
       "      <th>18</th>\n",
       "      <td>2020(In-Out)</td>\n",
       "      <td>FRANCE</td>\n",
       "      <td>41288.0</td>\n",
       "    </tr>\n",
       "    <tr>\n",
       "      <th>19</th>\n",
       "      <td>2020(In-Out)</td>\n",
       "      <td>UNITED KINGDOM</td>\n",
       "      <td>32392.0</td>\n",
       "    </tr>\n",
       "    <tr>\n",
       "      <th>20</th>\n",
       "      <td>2021(In-Out)</td>\n",
       "      <td>BANGLADESH</td>\n",
       "      <td>143835.0</td>\n",
       "    </tr>\n",
       "    <tr>\n",
       "      <th>21</th>\n",
       "      <td>2021(In-Out)</td>\n",
       "      <td>AFGHANISTAN</td>\n",
       "      <td>32433.0</td>\n",
       "    </tr>\n",
       "    <tr>\n",
       "      <th>22</th>\n",
       "      <td>2021(In-Out)</td>\n",
       "      <td>PORTUGAL</td>\n",
       "      <td>22105.0</td>\n",
       "    </tr>\n",
       "    <tr>\n",
       "      <th>23</th>\n",
       "      <td>2021(In-Out)</td>\n",
       "      <td>IRAQ</td>\n",
       "      <td>7252.0</td>\n",
       "    </tr>\n",
       "    <tr>\n",
       "      <th>24</th>\n",
       "      <td>2021(In-Out)</td>\n",
       "      <td>BHUTAN</td>\n",
       "      <td>3792.0</td>\n",
       "    </tr>\n",
       "    <tr>\n",
       "      <th>25</th>\n",
       "      <td>2022(In-Out)</td>\n",
       "      <td>BANGLADESH</td>\n",
       "      <td>805066.0</td>\n",
       "    </tr>\n",
       "    <tr>\n",
       "      <th>26</th>\n",
       "      <td>2022(In-Out)</td>\n",
       "      <td>RUSSIAN FEDERATION</td>\n",
       "      <td>55223.0</td>\n",
       "    </tr>\n",
       "    <tr>\n",
       "      <th>27</th>\n",
       "      <td>2022(In-Out)</td>\n",
       "      <td>PORTUGAL</td>\n",
       "      <td>46774.0</td>\n",
       "    </tr>\n",
       "    <tr>\n",
       "      <th>28</th>\n",
       "      <td>2022(In-Out)</td>\n",
       "      <td>SRI LANKA</td>\n",
       "      <td>37298.0</td>\n",
       "    </tr>\n",
       "    <tr>\n",
       "      <th>29</th>\n",
       "      <td>2022(In-Out)</td>\n",
       "      <td>REPUBLIC OF KOREA</td>\n",
       "      <td>36970.0</td>\n",
       "    </tr>\n",
       "  </tbody>\n",
       "</table>\n",
       "</div>"
      ],
      "text/plain": [
       "            Year             COUNTRY  Difference\n",
       "0   2016(In-Out)          BANGLADESH   1164752.0\n",
       "1   2016(In-Out)            PAKISTAN     60454.0\n",
       "2   2016(In-Out)            MALDIVES     51269.0\n",
       "3   2016(In-Out)             MYANMAR     40883.0\n",
       "4   2016(In-Out)        SAUDI ARABIA      8629.0\n",
       "5   2017(In-Out)          BANGLADESH   1940900.0\n",
       "6   2017(In-Out)            MALDIVES     49962.0\n",
       "7   2017(In-Out)             MYANMAR     46459.0\n",
       "8   2017(In-Out)               JAPAN       770.0\n",
       "9   2017(In-Out)           SINGAPORE       270.0\n",
       "10  2019(In-Out)   REPUBLIC OF CHINA    311688.0\n",
       "11  2019(In-Out)      UNITED KINGDOM    174727.0\n",
       "12  2019(In-Out)  RUSSIAN FEDERATION    151252.0\n",
       "13  2019(In-Out)            PORTUGAL     56331.0\n",
       "14  2019(In-Out)              ISRAEL     37236.0\n",
       "15  2020(In-Out)          BANGLADESH    397211.0\n",
       "16  2020(In-Out)  RUSSIAN FEDERATION     90960.0\n",
       "17  2020(In-Out)         AFGHANISTAN     41888.0\n",
       "18  2020(In-Out)              FRANCE     41288.0\n",
       "19  2020(In-Out)      UNITED KINGDOM     32392.0\n",
       "20  2021(In-Out)          BANGLADESH    143835.0\n",
       "21  2021(In-Out)         AFGHANISTAN     32433.0\n",
       "22  2021(In-Out)            PORTUGAL     22105.0\n",
       "23  2021(In-Out)                IRAQ      7252.0\n",
       "24  2021(In-Out)              BHUTAN      3792.0\n",
       "25  2022(In-Out)          BANGLADESH    805066.0\n",
       "26  2022(In-Out)  RUSSIAN FEDERATION     55223.0\n",
       "27  2022(In-Out)            PORTUGAL     46774.0\n",
       "28  2022(In-Out)           SRI LANKA     37298.0\n",
       "29  2022(In-Out)   REPUBLIC OF KOREA     36970.0"
      ]
     },
     "execution_count": 115,
     "metadata": {},
     "output_type": "execute_result"
    }
   ],
   "source": [
    "top5_positive"
   ]
  },
  {
   "cell_type": "code",
   "execution_count": 116,
   "metadata": {},
   "outputs": [
    {
     "data": {
      "text/html": [
       "<div>\n",
       "<style scoped>\n",
       "    .dataframe tbody tr th:only-of-type {\n",
       "        vertical-align: middle;\n",
       "    }\n",
       "\n",
       "    .dataframe tbody tr th {\n",
       "        vertical-align: top;\n",
       "    }\n",
       "\n",
       "    .dataframe thead th {\n",
       "        text-align: right;\n",
       "    }\n",
       "</style>\n",
       "<table border=\"1\" class=\"dataframe\">\n",
       "  <thead>\n",
       "    <tr style=\"text-align: right;\">\n",
       "      <th></th>\n",
       "      <th>Year</th>\n",
       "      <th>COUNTRY</th>\n",
       "      <th>Difference</th>\n",
       "    </tr>\n",
       "  </thead>\n",
       "  <tbody>\n",
       "    <tr>\n",
       "      <th>0</th>\n",
       "      <td>2016(In-Out)</td>\n",
       "      <td>UNITED STATES OF AMERICA</td>\n",
       "      <td>-79980.0</td>\n",
       "    </tr>\n",
       "    <tr>\n",
       "      <th>1</th>\n",
       "      <td>2016(In-Out)</td>\n",
       "      <td>RUSSIAN FEDERATION</td>\n",
       "      <td>-51155.0</td>\n",
       "    </tr>\n",
       "    <tr>\n",
       "      <th>2</th>\n",
       "      <td>2016(In-Out)</td>\n",
       "      <td>UNITED KINGDOM</td>\n",
       "      <td>-44413.0</td>\n",
       "    </tr>\n",
       "    <tr>\n",
       "      <th>3</th>\n",
       "      <td>2016(In-Out)</td>\n",
       "      <td>REPUBLIC OF KOREA</td>\n",
       "      <td>-31307.0</td>\n",
       "    </tr>\n",
       "    <tr>\n",
       "      <th>4</th>\n",
       "      <td>2016(In-Out)</td>\n",
       "      <td>AUSTRALIA</td>\n",
       "      <td>-30618.0</td>\n",
       "    </tr>\n",
       "    <tr>\n",
       "      <th>5</th>\n",
       "      <td>2017(In-Out)</td>\n",
       "      <td>SRI LANKA</td>\n",
       "      <td>-5716.0</td>\n",
       "    </tr>\n",
       "    <tr>\n",
       "      <th>6</th>\n",
       "      <td>2017(In-Out)</td>\n",
       "      <td>BHUTAN</td>\n",
       "      <td>-380.0</td>\n",
       "    </tr>\n",
       "    <tr>\n",
       "      <th>7</th>\n",
       "      <td>2017(In-Out)</td>\n",
       "      <td>VIETNAM</td>\n",
       "      <td>-3.0</td>\n",
       "    </tr>\n",
       "    <tr>\n",
       "      <th>8</th>\n",
       "      <td>2019(In-Out)</td>\n",
       "      <td>OMAN</td>\n",
       "      <td>-866347.0</td>\n",
       "    </tr>\n",
       "    <tr>\n",
       "      <th>9</th>\n",
       "      <td>2019(In-Out)</td>\n",
       "      <td>UNITED STATES OF AMERICA</td>\n",
       "      <td>-426270.0</td>\n",
       "    </tr>\n",
       "    <tr>\n",
       "      <th>10</th>\n",
       "      <td>2019(In-Out)</td>\n",
       "      <td>BAHRAIN</td>\n",
       "      <td>-349673.0</td>\n",
       "    </tr>\n",
       "    <tr>\n",
       "      <th>11</th>\n",
       "      <td>2019(In-Out)</td>\n",
       "      <td>CANADA</td>\n",
       "      <td>-282601.0</td>\n",
       "    </tr>\n",
       "    <tr>\n",
       "      <th>12</th>\n",
       "      <td>2019(In-Out)</td>\n",
       "      <td>AUSTRALIA</td>\n",
       "      <td>-222298.0</td>\n",
       "    </tr>\n",
       "    <tr>\n",
       "      <th>13</th>\n",
       "      <td>2020(In-Out)</td>\n",
       "      <td>UNITED ARAB EMIRATES</td>\n",
       "      <td>-2470144.0</td>\n",
       "    </tr>\n",
       "    <tr>\n",
       "      <th>14</th>\n",
       "      <td>2020(In-Out)</td>\n",
       "      <td>SAUDI ARABIA</td>\n",
       "      <td>-539930.0</td>\n",
       "    </tr>\n",
       "    <tr>\n",
       "      <th>15</th>\n",
       "      <td>2020(In-Out)</td>\n",
       "      <td>OMAN</td>\n",
       "      <td>-265243.0</td>\n",
       "    </tr>\n",
       "    <tr>\n",
       "      <th>16</th>\n",
       "      <td>2020(In-Out)</td>\n",
       "      <td>SINGAPORE</td>\n",
       "      <td>-255540.0</td>\n",
       "    </tr>\n",
       "    <tr>\n",
       "      <th>17</th>\n",
       "      <td>2020(In-Out)</td>\n",
       "      <td>UNITED STATES OF AMERICA</td>\n",
       "      <td>-198809.0</td>\n",
       "    </tr>\n",
       "    <tr>\n",
       "      <th>18</th>\n",
       "      <td>2021(In-Out)</td>\n",
       "      <td>UNITED ARAB EMIRATES</td>\n",
       "      <td>-3625953.0</td>\n",
       "    </tr>\n",
       "    <tr>\n",
       "      <th>19</th>\n",
       "      <td>2021(In-Out)</td>\n",
       "      <td>OMAN</td>\n",
       "      <td>-397493.0</td>\n",
       "    </tr>\n",
       "    <tr>\n",
       "      <th>20</th>\n",
       "      <td>2021(In-Out)</td>\n",
       "      <td>MALDIVES</td>\n",
       "      <td>-290631.0</td>\n",
       "    </tr>\n",
       "    <tr>\n",
       "      <th>21</th>\n",
       "      <td>2021(In-Out)</td>\n",
       "      <td>SAUDI ARABIA</td>\n",
       "      <td>-268239.0</td>\n",
       "    </tr>\n",
       "    <tr>\n",
       "      <th>22</th>\n",
       "      <td>2021(In-Out)</td>\n",
       "      <td>UNITED STATES OF AMERICA</td>\n",
       "      <td>-266046.0</td>\n",
       "    </tr>\n",
       "    <tr>\n",
       "      <th>23</th>\n",
       "      <td>2022(In-Out)</td>\n",
       "      <td>UNITED ARAB EMIRATES</td>\n",
       "      <td>-5996567.0</td>\n",
       "    </tr>\n",
       "    <tr>\n",
       "      <th>24</th>\n",
       "      <td>2022(In-Out)</td>\n",
       "      <td>SAUDI ARABIA</td>\n",
       "      <td>-2456801.0</td>\n",
       "    </tr>\n",
       "    <tr>\n",
       "      <th>25</th>\n",
       "      <td>2022(In-Out)</td>\n",
       "      <td>THAILAND</td>\n",
       "      <td>-897369.0</td>\n",
       "    </tr>\n",
       "    <tr>\n",
       "      <th>26</th>\n",
       "      <td>2022(In-Out)</td>\n",
       "      <td>SINGAPORE</td>\n",
       "      <td>-880144.0</td>\n",
       "    </tr>\n",
       "    <tr>\n",
       "      <th>27</th>\n",
       "      <td>2022(In-Out)</td>\n",
       "      <td>OMAN</td>\n",
       "      <td>-687548.0</td>\n",
       "    </tr>\n",
       "  </tbody>\n",
       "</table>\n",
       "</div>"
      ],
      "text/plain": [
       "            Year                   COUNTRY  Difference\n",
       "0   2016(In-Out)  UNITED STATES OF AMERICA    -79980.0\n",
       "1   2016(In-Out)        RUSSIAN FEDERATION    -51155.0\n",
       "2   2016(In-Out)            UNITED KINGDOM    -44413.0\n",
       "3   2016(In-Out)         REPUBLIC OF KOREA    -31307.0\n",
       "4   2016(In-Out)                 AUSTRALIA    -30618.0\n",
       "5   2017(In-Out)                 SRI LANKA     -5716.0\n",
       "6   2017(In-Out)                    BHUTAN      -380.0\n",
       "7   2017(In-Out)                   VIETNAM        -3.0\n",
       "8   2019(In-Out)                      OMAN   -866347.0\n",
       "9   2019(In-Out)  UNITED STATES OF AMERICA   -426270.0\n",
       "10  2019(In-Out)                   BAHRAIN   -349673.0\n",
       "11  2019(In-Out)                    CANADA   -282601.0\n",
       "12  2019(In-Out)                 AUSTRALIA   -222298.0\n",
       "13  2020(In-Out)      UNITED ARAB EMIRATES  -2470144.0\n",
       "14  2020(In-Out)              SAUDI ARABIA   -539930.0\n",
       "15  2020(In-Out)                      OMAN   -265243.0\n",
       "16  2020(In-Out)                 SINGAPORE   -255540.0\n",
       "17  2020(In-Out)  UNITED STATES OF AMERICA   -198809.0\n",
       "18  2021(In-Out)      UNITED ARAB EMIRATES  -3625953.0\n",
       "19  2021(In-Out)                      OMAN   -397493.0\n",
       "20  2021(In-Out)                  MALDIVES   -290631.0\n",
       "21  2021(In-Out)              SAUDI ARABIA   -268239.0\n",
       "22  2021(In-Out)  UNITED STATES OF AMERICA   -266046.0\n",
       "23  2022(In-Out)      UNITED ARAB EMIRATES  -5996567.0\n",
       "24  2022(In-Out)              SAUDI ARABIA  -2456801.0\n",
       "25  2022(In-Out)                  THAILAND   -897369.0\n",
       "26  2022(In-Out)                 SINGAPORE   -880144.0\n",
       "27  2022(In-Out)                      OMAN   -687548.0"
      ]
     },
     "execution_count": 116,
     "metadata": {},
     "output_type": "execute_result"
    }
   ],
   "source": [
    "top5_negative"
   ]
  },
  {
   "cell_type": "code",
   "execution_count": 117,
   "metadata": {},
   "outputs": [],
   "source": [
    "top5_positive.to_csv(\"1_top5_positive_country.csv\",index=False)\n",
    "top5_negative.to_csv(\"1_top5_negative_country.csv\",index=False)"
   ]
  },
  {
   "cell_type": "code",
   "execution_count": 118,
   "metadata": {},
   "outputs": [
    {
     "data": {
      "text/html": [
       "<div>\n",
       "<style scoped>\n",
       "    .dataframe tbody tr th:only-of-type {\n",
       "        vertical-align: middle;\n",
       "    }\n",
       "\n",
       "    .dataframe tbody tr th {\n",
       "        vertical-align: top;\n",
       "    }\n",
       "\n",
       "    .dataframe thead th {\n",
       "        text-align: right;\n",
       "    }\n",
       "</style>\n",
       "<table border=\"1\" class=\"dataframe\">\n",
       "  <thead>\n",
       "    <tr style=\"text-align: right;\">\n",
       "      <th></th>\n",
       "      <th>Year</th>\n",
       "      <th>COUNTRY</th>\n",
       "      <th>Difference</th>\n",
       "    </tr>\n",
       "  </thead>\n",
       "  <tbody>\n",
       "    <tr>\n",
       "      <th>0</th>\n",
       "      <td>2016(In-Out)</td>\n",
       "      <td>UNITED STATES OF AMERICA</td>\n",
       "      <td>-79980.0</td>\n",
       "    </tr>\n",
       "    <tr>\n",
       "      <th>1</th>\n",
       "      <td>2016(In-Out)</td>\n",
       "      <td>RUSSIAN FEDERATION</td>\n",
       "      <td>-51155.0</td>\n",
       "    </tr>\n",
       "    <tr>\n",
       "      <th>2</th>\n",
       "      <td>2016(In-Out)</td>\n",
       "      <td>UNITED KINGDOM</td>\n",
       "      <td>-44413.0</td>\n",
       "    </tr>\n",
       "    <tr>\n",
       "      <th>3</th>\n",
       "      <td>2016(In-Out)</td>\n",
       "      <td>REPUBLIC OF KOREA</td>\n",
       "      <td>-31307.0</td>\n",
       "    </tr>\n",
       "    <tr>\n",
       "      <th>4</th>\n",
       "      <td>2016(In-Out)</td>\n",
       "      <td>AUSTRALIA</td>\n",
       "      <td>-30618.0</td>\n",
       "    </tr>\n",
       "    <tr>\n",
       "      <th>5</th>\n",
       "      <td>2017(In-Out)</td>\n",
       "      <td>SRI LANKA</td>\n",
       "      <td>-5716.0</td>\n",
       "    </tr>\n",
       "    <tr>\n",
       "      <th>6</th>\n",
       "      <td>2017(In-Out)</td>\n",
       "      <td>BHUTAN</td>\n",
       "      <td>-380.0</td>\n",
       "    </tr>\n",
       "    <tr>\n",
       "      <th>7</th>\n",
       "      <td>2017(In-Out)</td>\n",
       "      <td>VIETNAM</td>\n",
       "      <td>-3.0</td>\n",
       "    </tr>\n",
       "    <tr>\n",
       "      <th>8</th>\n",
       "      <td>2019(In-Out)</td>\n",
       "      <td>OMAN</td>\n",
       "      <td>-866347.0</td>\n",
       "    </tr>\n",
       "    <tr>\n",
       "      <th>9</th>\n",
       "      <td>2019(In-Out)</td>\n",
       "      <td>UNITED STATES OF AMERICA</td>\n",
       "      <td>-426270.0</td>\n",
       "    </tr>\n",
       "  </tbody>\n",
       "</table>\n",
       "</div>"
      ],
      "text/plain": [
       "           Year                   COUNTRY  Difference\n",
       "0  2016(In-Out)  UNITED STATES OF AMERICA    -79980.0\n",
       "1  2016(In-Out)        RUSSIAN FEDERATION    -51155.0\n",
       "2  2016(In-Out)            UNITED KINGDOM    -44413.0\n",
       "3  2016(In-Out)         REPUBLIC OF KOREA    -31307.0\n",
       "4  2016(In-Out)                 AUSTRALIA    -30618.0\n",
       "5  2017(In-Out)                 SRI LANKA     -5716.0\n",
       "6  2017(In-Out)                    BHUTAN      -380.0\n",
       "7  2017(In-Out)                   VIETNAM        -3.0\n",
       "8  2019(In-Out)                      OMAN   -866347.0\n",
       "9  2019(In-Out)  UNITED STATES OF AMERICA   -426270.0"
      ]
     },
     "execution_count": 118,
     "metadata": {},
     "output_type": "execute_result"
    }
   ],
   "source": [
    "top5_negative.head(10)"
   ]
  },
  {
   "cell_type": "code",
   "execution_count": 119,
   "metadata": {},
   "outputs": [
    {
     "data": {
      "text/html": [
       "<div>\n",
       "<style scoped>\n",
       "    .dataframe tbody tr th:only-of-type {\n",
       "        vertical-align: middle;\n",
       "    }\n",
       "\n",
       "    .dataframe tbody tr th {\n",
       "        vertical-align: top;\n",
       "    }\n",
       "\n",
       "    .dataframe thead th {\n",
       "        text-align: right;\n",
       "    }\n",
       "</style>\n",
       "<table border=\"1\" class=\"dataframe\">\n",
       "  <thead>\n",
       "    <tr style=\"text-align: right;\">\n",
       "      <th></th>\n",
       "      <th>Year</th>\n",
       "      <th>COUNTRY</th>\n",
       "      <th>Difference</th>\n",
       "    </tr>\n",
       "  </thead>\n",
       "  <tbody>\n",
       "    <tr>\n",
       "      <th>0</th>\n",
       "      <td>2016(In-Out)</td>\n",
       "      <td>UNITED STATES OF AMERICA</td>\n",
       "      <td>-79980.0</td>\n",
       "    </tr>\n",
       "    <tr>\n",
       "      <th>1</th>\n",
       "      <td>2016(In-Out)</td>\n",
       "      <td>RUSSIAN FEDERATION</td>\n",
       "      <td>-51155.0</td>\n",
       "    </tr>\n",
       "    <tr>\n",
       "      <th>2</th>\n",
       "      <td>2016(In-Out)</td>\n",
       "      <td>UNITED KINGDOM</td>\n",
       "      <td>-44413.0</td>\n",
       "    </tr>\n",
       "    <tr>\n",
       "      <th>3</th>\n",
       "      <td>2016(In-Out)</td>\n",
       "      <td>REPUBLIC OF KOREA</td>\n",
       "      <td>-31307.0</td>\n",
       "    </tr>\n",
       "    <tr>\n",
       "      <th>4</th>\n",
       "      <td>2016(In-Out)</td>\n",
       "      <td>AUSTRALIA</td>\n",
       "      <td>-30618.0</td>\n",
       "    </tr>\n",
       "    <tr>\n",
       "      <th>5</th>\n",
       "      <td>2017(In-Out)</td>\n",
       "      <td>SRI LANKA</td>\n",
       "      <td>-5716.0</td>\n",
       "    </tr>\n",
       "    <tr>\n",
       "      <th>6</th>\n",
       "      <td>2017(In-Out)</td>\n",
       "      <td>BHUTAN</td>\n",
       "      <td>-380.0</td>\n",
       "    </tr>\n",
       "    <tr>\n",
       "      <th>7</th>\n",
       "      <td>2017(In-Out)</td>\n",
       "      <td>VIETNAM</td>\n",
       "      <td>-3.0</td>\n",
       "    </tr>\n",
       "    <tr>\n",
       "      <th>8</th>\n",
       "      <td>2019(In-Out)</td>\n",
       "      <td>OMAN</td>\n",
       "      <td>-866347.0</td>\n",
       "    </tr>\n",
       "    <tr>\n",
       "      <th>9</th>\n",
       "      <td>2019(In-Out)</td>\n",
       "      <td>UNITED STATES OF AMERICA</td>\n",
       "      <td>-426270.0</td>\n",
       "    </tr>\n",
       "  </tbody>\n",
       "</table>\n",
       "</div>"
      ],
      "text/plain": [
       "           Year                   COUNTRY  Difference\n",
       "0  2016(In-Out)  UNITED STATES OF AMERICA    -79980.0\n",
       "1  2016(In-Out)        RUSSIAN FEDERATION    -51155.0\n",
       "2  2016(In-Out)            UNITED KINGDOM    -44413.0\n",
       "3  2016(In-Out)         REPUBLIC OF KOREA    -31307.0\n",
       "4  2016(In-Out)                 AUSTRALIA    -30618.0\n",
       "5  2017(In-Out)                 SRI LANKA     -5716.0\n",
       "6  2017(In-Out)                    BHUTAN      -380.0\n",
       "7  2017(In-Out)                   VIETNAM        -3.0\n",
       "8  2019(In-Out)                      OMAN   -866347.0\n",
       "9  2019(In-Out)  UNITED STATES OF AMERICA   -426270.0"
      ]
     },
     "execution_count": 119,
     "metadata": {},
     "output_type": "execute_result"
    }
   ],
   "source": [
    "top5_negative.head(10)"
   ]
  },
  {
   "cell_type": "markdown",
   "metadata": {},
   "source": [
    "## Graphs"
   ]
  },
  {
   "cell_type": "code",
   "execution_count": 120,
   "metadata": {},
   "outputs": [
    {
     "data": {
      "application/vnd.plotly.v1+json": {
       "config": {
        "plotlyServerURL": "https://plot.ly"
       },
       "data": [
        {
         "alignmentgroup": "True",
         "hovertemplate": "Year=2016(In-Out)<br>Country=%{x}<br>Balance (Arrivals - Departures)=%{y}<extra></extra>",
         "legendgroup": "2016(In-Out)",
         "marker": {
          "color": "#636efa",
          "pattern": {
           "shape": ""
          }
         },
         "name": "2016(In-Out)",
         "offsetgroup": "2016(In-Out)",
         "orientation": "v",
         "showlegend": true,
         "textposition": "auto",
         "type": "bar",
         "x": [
          "BANGLADESH",
          "PAKISTAN",
          "MALDIVES",
          "MYANMAR",
          "SAUDI ARABIA"
         ],
         "xaxis": "x",
         "y": [
          1164752,
          60454,
          51269,
          40883,
          8629
         ],
         "yaxis": "y"
        },
        {
         "alignmentgroup": "True",
         "hovertemplate": "Year=2017(In-Out)<br>Country=%{x}<br>Balance (Arrivals - Departures)=%{y}<extra></extra>",
         "legendgroup": "2017(In-Out)",
         "marker": {
          "color": "#EF553B",
          "pattern": {
           "shape": ""
          }
         },
         "name": "2017(In-Out)",
         "offsetgroup": "2017(In-Out)",
         "orientation": "v",
         "showlegend": true,
         "textposition": "auto",
         "type": "bar",
         "x": [
          "BANGLADESH",
          "MALDIVES",
          "MYANMAR",
          "JAPAN",
          "SINGAPORE"
         ],
         "xaxis": "x",
         "y": [
          1940900,
          49962,
          46459,
          770,
          270
         ],
         "yaxis": "y"
        },
        {
         "alignmentgroup": "True",
         "hovertemplate": "Year=2019(In-Out)<br>Country=%{x}<br>Balance (Arrivals - Departures)=%{y}<extra></extra>",
         "legendgroup": "2019(In-Out)",
         "marker": {
          "color": "#00cc96",
          "pattern": {
           "shape": ""
          }
         },
         "name": "2019(In-Out)",
         "offsetgroup": "2019(In-Out)",
         "orientation": "v",
         "showlegend": true,
         "textposition": "auto",
         "type": "bar",
         "x": [
          "REPUBLIC OF CHINA",
          "UNITED KINGDOM",
          "RUSSIAN FEDERATION",
          "PORTUGAL",
          "ISRAEL"
         ],
         "xaxis": "x",
         "y": [
          311688,
          174727,
          151252,
          56331,
          37236
         ],
         "yaxis": "y"
        },
        {
         "alignmentgroup": "True",
         "hovertemplate": "Year=2020(In-Out)<br>Country=%{x}<br>Balance (Arrivals - Departures)=%{y}<extra></extra>",
         "legendgroup": "2020(In-Out)",
         "marker": {
          "color": "#ab63fa",
          "pattern": {
           "shape": ""
          }
         },
         "name": "2020(In-Out)",
         "offsetgroup": "2020(In-Out)",
         "orientation": "v",
         "showlegend": true,
         "textposition": "auto",
         "type": "bar",
         "x": [
          "BANGLADESH",
          "RUSSIAN FEDERATION",
          "AFGHANISTAN",
          "FRANCE",
          "UNITED KINGDOM"
         ],
         "xaxis": "x",
         "y": [
          397211,
          90960,
          41888,
          41288,
          32392
         ],
         "yaxis": "y"
        },
        {
         "alignmentgroup": "True",
         "hovertemplate": "Year=2021(In-Out)<br>Country=%{x}<br>Balance (Arrivals - Departures)=%{y}<extra></extra>",
         "legendgroup": "2021(In-Out)",
         "marker": {
          "color": "#FFA15A",
          "pattern": {
           "shape": ""
          }
         },
         "name": "2021(In-Out)",
         "offsetgroup": "2021(In-Out)",
         "orientation": "v",
         "showlegend": true,
         "textposition": "auto",
         "type": "bar",
         "x": [
          "BANGLADESH",
          "AFGHANISTAN",
          "PORTUGAL",
          "IRAQ",
          "BHUTAN"
         ],
         "xaxis": "x",
         "y": [
          143835,
          32433,
          22105,
          7252,
          3792
         ],
         "yaxis": "y"
        },
        {
         "alignmentgroup": "True",
         "hovertemplate": "Year=2022(In-Out)<br>Country=%{x}<br>Balance (Arrivals - Departures)=%{y}<extra></extra>",
         "legendgroup": "2022(In-Out)",
         "marker": {
          "color": "#19d3f3",
          "pattern": {
           "shape": ""
          }
         },
         "name": "2022(In-Out)",
         "offsetgroup": "2022(In-Out)",
         "orientation": "v",
         "showlegend": true,
         "textposition": "auto",
         "type": "bar",
         "x": [
          "BANGLADESH",
          "RUSSIAN FEDERATION",
          "PORTUGAL",
          "SRI LANKA",
          "REPUBLIC OF KOREA"
         ],
         "xaxis": "x",
         "y": [
          805066,
          55223,
          46774,
          37298,
          36970
         ],
         "yaxis": "y"
        }
       ],
       "layout": {
        "barmode": "group",
        "legend": {
         "title": {
          "text": "Year"
         },
         "tracegroupgap": 0
        },
        "template": {
         "data": {
          "bar": [
           {
            "error_x": {
             "color": "#2a3f5f"
            },
            "error_y": {
             "color": "#2a3f5f"
            },
            "marker": {
             "line": {
              "color": "#E5ECF6",
              "width": 0.5
             },
             "pattern": {
              "fillmode": "overlay",
              "size": 10,
              "solidity": 0.2
             }
            },
            "type": "bar"
           }
          ],
          "barpolar": [
           {
            "marker": {
             "line": {
              "color": "#E5ECF6",
              "width": 0.5
             },
             "pattern": {
              "fillmode": "overlay",
              "size": 10,
              "solidity": 0.2
             }
            },
            "type": "barpolar"
           }
          ],
          "carpet": [
           {
            "aaxis": {
             "endlinecolor": "#2a3f5f",
             "gridcolor": "white",
             "linecolor": "white",
             "minorgridcolor": "white",
             "startlinecolor": "#2a3f5f"
            },
            "baxis": {
             "endlinecolor": "#2a3f5f",
             "gridcolor": "white",
             "linecolor": "white",
             "minorgridcolor": "white",
             "startlinecolor": "#2a3f5f"
            },
            "type": "carpet"
           }
          ],
          "choropleth": [
           {
            "colorbar": {
             "outlinewidth": 0,
             "ticks": ""
            },
            "type": "choropleth"
           }
          ],
          "contour": [
           {
            "colorbar": {
             "outlinewidth": 0,
             "ticks": ""
            },
            "colorscale": [
             [
              0,
              "#0d0887"
             ],
             [
              0.1111111111111111,
              "#46039f"
             ],
             [
              0.2222222222222222,
              "#7201a8"
             ],
             [
              0.3333333333333333,
              "#9c179e"
             ],
             [
              0.4444444444444444,
              "#bd3786"
             ],
             [
              0.5555555555555556,
              "#d8576b"
             ],
             [
              0.6666666666666666,
              "#ed7953"
             ],
             [
              0.7777777777777778,
              "#fb9f3a"
             ],
             [
              0.8888888888888888,
              "#fdca26"
             ],
             [
              1,
              "#f0f921"
             ]
            ],
            "type": "contour"
           }
          ],
          "contourcarpet": [
           {
            "colorbar": {
             "outlinewidth": 0,
             "ticks": ""
            },
            "type": "contourcarpet"
           }
          ],
          "heatmap": [
           {
            "colorbar": {
             "outlinewidth": 0,
             "ticks": ""
            },
            "colorscale": [
             [
              0,
              "#0d0887"
             ],
             [
              0.1111111111111111,
              "#46039f"
             ],
             [
              0.2222222222222222,
              "#7201a8"
             ],
             [
              0.3333333333333333,
              "#9c179e"
             ],
             [
              0.4444444444444444,
              "#bd3786"
             ],
             [
              0.5555555555555556,
              "#d8576b"
             ],
             [
              0.6666666666666666,
              "#ed7953"
             ],
             [
              0.7777777777777778,
              "#fb9f3a"
             ],
             [
              0.8888888888888888,
              "#fdca26"
             ],
             [
              1,
              "#f0f921"
             ]
            ],
            "type": "heatmap"
           }
          ],
          "heatmapgl": [
           {
            "colorbar": {
             "outlinewidth": 0,
             "ticks": ""
            },
            "colorscale": [
             [
              0,
              "#0d0887"
             ],
             [
              0.1111111111111111,
              "#46039f"
             ],
             [
              0.2222222222222222,
              "#7201a8"
             ],
             [
              0.3333333333333333,
              "#9c179e"
             ],
             [
              0.4444444444444444,
              "#bd3786"
             ],
             [
              0.5555555555555556,
              "#d8576b"
             ],
             [
              0.6666666666666666,
              "#ed7953"
             ],
             [
              0.7777777777777778,
              "#fb9f3a"
             ],
             [
              0.8888888888888888,
              "#fdca26"
             ],
             [
              1,
              "#f0f921"
             ]
            ],
            "type": "heatmapgl"
           }
          ],
          "histogram": [
           {
            "marker": {
             "pattern": {
              "fillmode": "overlay",
              "size": 10,
              "solidity": 0.2
             }
            },
            "type": "histogram"
           }
          ],
          "histogram2d": [
           {
            "colorbar": {
             "outlinewidth": 0,
             "ticks": ""
            },
            "colorscale": [
             [
              0,
              "#0d0887"
             ],
             [
              0.1111111111111111,
              "#46039f"
             ],
             [
              0.2222222222222222,
              "#7201a8"
             ],
             [
              0.3333333333333333,
              "#9c179e"
             ],
             [
              0.4444444444444444,
              "#bd3786"
             ],
             [
              0.5555555555555556,
              "#d8576b"
             ],
             [
              0.6666666666666666,
              "#ed7953"
             ],
             [
              0.7777777777777778,
              "#fb9f3a"
             ],
             [
              0.8888888888888888,
              "#fdca26"
             ],
             [
              1,
              "#f0f921"
             ]
            ],
            "type": "histogram2d"
           }
          ],
          "histogram2dcontour": [
           {
            "colorbar": {
             "outlinewidth": 0,
             "ticks": ""
            },
            "colorscale": [
             [
              0,
              "#0d0887"
             ],
             [
              0.1111111111111111,
              "#46039f"
             ],
             [
              0.2222222222222222,
              "#7201a8"
             ],
             [
              0.3333333333333333,
              "#9c179e"
             ],
             [
              0.4444444444444444,
              "#bd3786"
             ],
             [
              0.5555555555555556,
              "#d8576b"
             ],
             [
              0.6666666666666666,
              "#ed7953"
             ],
             [
              0.7777777777777778,
              "#fb9f3a"
             ],
             [
              0.8888888888888888,
              "#fdca26"
             ],
             [
              1,
              "#f0f921"
             ]
            ],
            "type": "histogram2dcontour"
           }
          ],
          "mesh3d": [
           {
            "colorbar": {
             "outlinewidth": 0,
             "ticks": ""
            },
            "type": "mesh3d"
           }
          ],
          "parcoords": [
           {
            "line": {
             "colorbar": {
              "outlinewidth": 0,
              "ticks": ""
             }
            },
            "type": "parcoords"
           }
          ],
          "pie": [
           {
            "automargin": true,
            "type": "pie"
           }
          ],
          "scatter": [
           {
            "fillpattern": {
             "fillmode": "overlay",
             "size": 10,
             "solidity": 0.2
            },
            "type": "scatter"
           }
          ],
          "scatter3d": [
           {
            "line": {
             "colorbar": {
              "outlinewidth": 0,
              "ticks": ""
             }
            },
            "marker": {
             "colorbar": {
              "outlinewidth": 0,
              "ticks": ""
             }
            },
            "type": "scatter3d"
           }
          ],
          "scattercarpet": [
           {
            "marker": {
             "colorbar": {
              "outlinewidth": 0,
              "ticks": ""
             }
            },
            "type": "scattercarpet"
           }
          ],
          "scattergeo": [
           {
            "marker": {
             "colorbar": {
              "outlinewidth": 0,
              "ticks": ""
             }
            },
            "type": "scattergeo"
           }
          ],
          "scattergl": [
           {
            "marker": {
             "colorbar": {
              "outlinewidth": 0,
              "ticks": ""
             }
            },
            "type": "scattergl"
           }
          ],
          "scattermapbox": [
           {
            "marker": {
             "colorbar": {
              "outlinewidth": 0,
              "ticks": ""
             }
            },
            "type": "scattermapbox"
           }
          ],
          "scatterpolar": [
           {
            "marker": {
             "colorbar": {
              "outlinewidth": 0,
              "ticks": ""
             }
            },
            "type": "scatterpolar"
           }
          ],
          "scatterpolargl": [
           {
            "marker": {
             "colorbar": {
              "outlinewidth": 0,
              "ticks": ""
             }
            },
            "type": "scatterpolargl"
           }
          ],
          "scatterternary": [
           {
            "marker": {
             "colorbar": {
              "outlinewidth": 0,
              "ticks": ""
             }
            },
            "type": "scatterternary"
           }
          ],
          "surface": [
           {
            "colorbar": {
             "outlinewidth": 0,
             "ticks": ""
            },
            "colorscale": [
             [
              0,
              "#0d0887"
             ],
             [
              0.1111111111111111,
              "#46039f"
             ],
             [
              0.2222222222222222,
              "#7201a8"
             ],
             [
              0.3333333333333333,
              "#9c179e"
             ],
             [
              0.4444444444444444,
              "#bd3786"
             ],
             [
              0.5555555555555556,
              "#d8576b"
             ],
             [
              0.6666666666666666,
              "#ed7953"
             ],
             [
              0.7777777777777778,
              "#fb9f3a"
             ],
             [
              0.8888888888888888,
              "#fdca26"
             ],
             [
              1,
              "#f0f921"
             ]
            ],
            "type": "surface"
           }
          ],
          "table": [
           {
            "cells": {
             "fill": {
              "color": "#EBF0F8"
             },
             "line": {
              "color": "white"
             }
            },
            "header": {
             "fill": {
              "color": "#C8D4E3"
             },
             "line": {
              "color": "white"
             }
            },
            "type": "table"
           }
          ]
         },
         "layout": {
          "annotationdefaults": {
           "arrowcolor": "#2a3f5f",
           "arrowhead": 0,
           "arrowwidth": 1
          },
          "autotypenumbers": "strict",
          "coloraxis": {
           "colorbar": {
            "outlinewidth": 0,
            "ticks": ""
           }
          },
          "colorscale": {
           "diverging": [
            [
             0,
             "#8e0152"
            ],
            [
             0.1,
             "#c51b7d"
            ],
            [
             0.2,
             "#de77ae"
            ],
            [
             0.3,
             "#f1b6da"
            ],
            [
             0.4,
             "#fde0ef"
            ],
            [
             0.5,
             "#f7f7f7"
            ],
            [
             0.6,
             "#e6f5d0"
            ],
            [
             0.7,
             "#b8e186"
            ],
            [
             0.8,
             "#7fbc41"
            ],
            [
             0.9,
             "#4d9221"
            ],
            [
             1,
             "#276419"
            ]
           ],
           "sequential": [
            [
             0,
             "#0d0887"
            ],
            [
             0.1111111111111111,
             "#46039f"
            ],
            [
             0.2222222222222222,
             "#7201a8"
            ],
            [
             0.3333333333333333,
             "#9c179e"
            ],
            [
             0.4444444444444444,
             "#bd3786"
            ],
            [
             0.5555555555555556,
             "#d8576b"
            ],
            [
             0.6666666666666666,
             "#ed7953"
            ],
            [
             0.7777777777777778,
             "#fb9f3a"
            ],
            [
             0.8888888888888888,
             "#fdca26"
            ],
            [
             1,
             "#f0f921"
            ]
           ],
           "sequentialminus": [
            [
             0,
             "#0d0887"
            ],
            [
             0.1111111111111111,
             "#46039f"
            ],
            [
             0.2222222222222222,
             "#7201a8"
            ],
            [
             0.3333333333333333,
             "#9c179e"
            ],
            [
             0.4444444444444444,
             "#bd3786"
            ],
            [
             0.5555555555555556,
             "#d8576b"
            ],
            [
             0.6666666666666666,
             "#ed7953"
            ],
            [
             0.7777777777777778,
             "#fb9f3a"
            ],
            [
             0.8888888888888888,
             "#fdca26"
            ],
            [
             1,
             "#f0f921"
            ]
           ]
          },
          "colorway": [
           "#636efa",
           "#EF553B",
           "#00cc96",
           "#ab63fa",
           "#FFA15A",
           "#19d3f3",
           "#FF6692",
           "#B6E880",
           "#FF97FF",
           "#FECB52"
          ],
          "font": {
           "color": "#2a3f5f"
          },
          "geo": {
           "bgcolor": "white",
           "lakecolor": "white",
           "landcolor": "#E5ECF6",
           "showlakes": true,
           "showland": true,
           "subunitcolor": "white"
          },
          "hoverlabel": {
           "align": "left"
          },
          "hovermode": "closest",
          "mapbox": {
           "style": "light"
          },
          "paper_bgcolor": "white",
          "plot_bgcolor": "#E5ECF6",
          "polar": {
           "angularaxis": {
            "gridcolor": "white",
            "linecolor": "white",
            "ticks": ""
           },
           "bgcolor": "#E5ECF6",
           "radialaxis": {
            "gridcolor": "white",
            "linecolor": "white",
            "ticks": ""
           }
          },
          "scene": {
           "xaxis": {
            "backgroundcolor": "#E5ECF6",
            "gridcolor": "white",
            "gridwidth": 2,
            "linecolor": "white",
            "showbackground": true,
            "ticks": "",
            "zerolinecolor": "white"
           },
           "yaxis": {
            "backgroundcolor": "#E5ECF6",
            "gridcolor": "white",
            "gridwidth": 2,
            "linecolor": "white",
            "showbackground": true,
            "ticks": "",
            "zerolinecolor": "white"
           },
           "zaxis": {
            "backgroundcolor": "#E5ECF6",
            "gridcolor": "white",
            "gridwidth": 2,
            "linecolor": "white",
            "showbackground": true,
            "ticks": "",
            "zerolinecolor": "white"
           }
          },
          "shapedefaults": {
           "line": {
            "color": "#2a3f5f"
           }
          },
          "ternary": {
           "aaxis": {
            "gridcolor": "white",
            "linecolor": "white",
            "ticks": ""
           },
           "baxis": {
            "gridcolor": "white",
            "linecolor": "white",
            "ticks": ""
           },
           "bgcolor": "#E5ECF6",
           "caxis": {
            "gridcolor": "white",
            "linecolor": "white",
            "ticks": ""
           }
          },
          "title": {
           "x": 0.05
          },
          "xaxis": {
           "automargin": true,
           "gridcolor": "white",
           "linecolor": "white",
           "ticks": "",
           "title": {
            "standoff": 15
           },
           "zerolinecolor": "white",
           "zerolinewidth": 2
          },
          "yaxis": {
           "automargin": true,
           "gridcolor": "white",
           "linecolor": "white",
           "ticks": "",
           "title": {
            "standoff": 15
           },
           "zerolinecolor": "white",
           "zerolinewidth": 2
          }
         }
        },
        "title": {
         "text": "Top 5 Positive Balances of Arrivals and Departures per Year"
        },
        "xaxis": {
         "anchor": "y",
         "domain": [
          0,
          1
         ],
         "title": {
          "text": "Country"
         }
        },
        "yaxis": {
         "anchor": "x",
         "domain": [
          0,
          1
         ],
         "title": {
          "text": "Balance (Arrivals - Departures)"
         }
        }
       }
      }
     },
     "metadata": {},
     "output_type": "display_data"
    },
    {
     "data": {
      "application/vnd.plotly.v1+json": {
       "config": {
        "plotlyServerURL": "https://plot.ly"
       },
       "data": [
        {
         "alignmentgroup": "True",
         "hovertemplate": "Year=2016(In-Out)<br>Country=%{x}<br>Balance (Arrivals - Departures)=%{y}<extra></extra>",
         "legendgroup": "2016(In-Out)",
         "marker": {
          "color": "#636efa",
          "pattern": {
           "shape": ""
          }
         },
         "name": "2016(In-Out)",
         "offsetgroup": "2016(In-Out)",
         "orientation": "v",
         "showlegend": true,
         "textposition": "auto",
         "type": "bar",
         "x": [
          "UNITED STATES OF AMERICA",
          "RUSSIAN FEDERATION",
          "UNITED KINGDOM",
          "REPUBLIC OF KOREA",
          "AUSTRALIA"
         ],
         "xaxis": "x",
         "y": [
          -79980,
          -51155,
          -44413,
          -31307,
          -30618
         ],
         "yaxis": "y"
        },
        {
         "alignmentgroup": "True",
         "hovertemplate": "Year=2017(In-Out)<br>Country=%{x}<br>Balance (Arrivals - Departures)=%{y}<extra></extra>",
         "legendgroup": "2017(In-Out)",
         "marker": {
          "color": "#EF553B",
          "pattern": {
           "shape": ""
          }
         },
         "name": "2017(In-Out)",
         "offsetgroup": "2017(In-Out)",
         "orientation": "v",
         "showlegend": true,
         "textposition": "auto",
         "type": "bar",
         "x": [
          "SRI LANKA",
          "BHUTAN",
          "VIETNAM"
         ],
         "xaxis": "x",
         "y": [
          -5716,
          -380,
          -3
         ],
         "yaxis": "y"
        },
        {
         "alignmentgroup": "True",
         "hovertemplate": "Year=2019(In-Out)<br>Country=%{x}<br>Balance (Arrivals - Departures)=%{y}<extra></extra>",
         "legendgroup": "2019(In-Out)",
         "marker": {
          "color": "#00cc96",
          "pattern": {
           "shape": ""
          }
         },
         "name": "2019(In-Out)",
         "offsetgroup": "2019(In-Out)",
         "orientation": "v",
         "showlegend": true,
         "textposition": "auto",
         "type": "bar",
         "x": [
          "OMAN",
          "UNITED STATES OF AMERICA",
          "BAHRAIN",
          "CANADA",
          "AUSTRALIA"
         ],
         "xaxis": "x",
         "y": [
          -866347,
          -426270,
          -349673,
          -282601,
          -222298
         ],
         "yaxis": "y"
        },
        {
         "alignmentgroup": "True",
         "hovertemplate": "Year=2020(In-Out)<br>Country=%{x}<br>Balance (Arrivals - Departures)=%{y}<extra></extra>",
         "legendgroup": "2020(In-Out)",
         "marker": {
          "color": "#ab63fa",
          "pattern": {
           "shape": ""
          }
         },
         "name": "2020(In-Out)",
         "offsetgroup": "2020(In-Out)",
         "orientation": "v",
         "showlegend": true,
         "textposition": "auto",
         "type": "bar",
         "x": [
          "UNITED ARAB EMIRATES",
          "SAUDI ARABIA",
          "OMAN",
          "SINGAPORE",
          "UNITED STATES OF AMERICA"
         ],
         "xaxis": "x",
         "y": [
          -2470144,
          -539930,
          -265243,
          -255540,
          -198809
         ],
         "yaxis": "y"
        },
        {
         "alignmentgroup": "True",
         "hovertemplate": "Year=2021(In-Out)<br>Country=%{x}<br>Balance (Arrivals - Departures)=%{y}<extra></extra>",
         "legendgroup": "2021(In-Out)",
         "marker": {
          "color": "#FFA15A",
          "pattern": {
           "shape": ""
          }
         },
         "name": "2021(In-Out)",
         "offsetgroup": "2021(In-Out)",
         "orientation": "v",
         "showlegend": true,
         "textposition": "auto",
         "type": "bar",
         "x": [
          "UNITED ARAB EMIRATES",
          "OMAN",
          "MALDIVES",
          "SAUDI ARABIA",
          "UNITED STATES OF AMERICA"
         ],
         "xaxis": "x",
         "y": [
          -3625953,
          -397493,
          -290631,
          -268239,
          -266046
         ],
         "yaxis": "y"
        },
        {
         "alignmentgroup": "True",
         "hovertemplate": "Year=2022(In-Out)<br>Country=%{x}<br>Balance (Arrivals - Departures)=%{y}<extra></extra>",
         "legendgroup": "2022(In-Out)",
         "marker": {
          "color": "#19d3f3",
          "pattern": {
           "shape": ""
          }
         },
         "name": "2022(In-Out)",
         "offsetgroup": "2022(In-Out)",
         "orientation": "v",
         "showlegend": true,
         "textposition": "auto",
         "type": "bar",
         "x": [
          "UNITED ARAB EMIRATES",
          "SAUDI ARABIA",
          "THAILAND",
          "SINGAPORE",
          "OMAN"
         ],
         "xaxis": "x",
         "y": [
          -5996567,
          -2456801,
          -897369,
          -880144,
          -687548
         ],
         "yaxis": "y"
        }
       ],
       "layout": {
        "barmode": "group",
        "legend": {
         "title": {
          "text": "Year"
         },
         "tracegroupgap": 0
        },
        "template": {
         "data": {
          "bar": [
           {
            "error_x": {
             "color": "#2a3f5f"
            },
            "error_y": {
             "color": "#2a3f5f"
            },
            "marker": {
             "line": {
              "color": "#E5ECF6",
              "width": 0.5
             },
             "pattern": {
              "fillmode": "overlay",
              "size": 10,
              "solidity": 0.2
             }
            },
            "type": "bar"
           }
          ],
          "barpolar": [
           {
            "marker": {
             "line": {
              "color": "#E5ECF6",
              "width": 0.5
             },
             "pattern": {
              "fillmode": "overlay",
              "size": 10,
              "solidity": 0.2
             }
            },
            "type": "barpolar"
           }
          ],
          "carpet": [
           {
            "aaxis": {
             "endlinecolor": "#2a3f5f",
             "gridcolor": "white",
             "linecolor": "white",
             "minorgridcolor": "white",
             "startlinecolor": "#2a3f5f"
            },
            "baxis": {
             "endlinecolor": "#2a3f5f",
             "gridcolor": "white",
             "linecolor": "white",
             "minorgridcolor": "white",
             "startlinecolor": "#2a3f5f"
            },
            "type": "carpet"
           }
          ],
          "choropleth": [
           {
            "colorbar": {
             "outlinewidth": 0,
             "ticks": ""
            },
            "type": "choropleth"
           }
          ],
          "contour": [
           {
            "colorbar": {
             "outlinewidth": 0,
             "ticks": ""
            },
            "colorscale": [
             [
              0,
              "#0d0887"
             ],
             [
              0.1111111111111111,
              "#46039f"
             ],
             [
              0.2222222222222222,
              "#7201a8"
             ],
             [
              0.3333333333333333,
              "#9c179e"
             ],
             [
              0.4444444444444444,
              "#bd3786"
             ],
             [
              0.5555555555555556,
              "#d8576b"
             ],
             [
              0.6666666666666666,
              "#ed7953"
             ],
             [
              0.7777777777777778,
              "#fb9f3a"
             ],
             [
              0.8888888888888888,
              "#fdca26"
             ],
             [
              1,
              "#f0f921"
             ]
            ],
            "type": "contour"
           }
          ],
          "contourcarpet": [
           {
            "colorbar": {
             "outlinewidth": 0,
             "ticks": ""
            },
            "type": "contourcarpet"
           }
          ],
          "heatmap": [
           {
            "colorbar": {
             "outlinewidth": 0,
             "ticks": ""
            },
            "colorscale": [
             [
              0,
              "#0d0887"
             ],
             [
              0.1111111111111111,
              "#46039f"
             ],
             [
              0.2222222222222222,
              "#7201a8"
             ],
             [
              0.3333333333333333,
              "#9c179e"
             ],
             [
              0.4444444444444444,
              "#bd3786"
             ],
             [
              0.5555555555555556,
              "#d8576b"
             ],
             [
              0.6666666666666666,
              "#ed7953"
             ],
             [
              0.7777777777777778,
              "#fb9f3a"
             ],
             [
              0.8888888888888888,
              "#fdca26"
             ],
             [
              1,
              "#f0f921"
             ]
            ],
            "type": "heatmap"
           }
          ],
          "heatmapgl": [
           {
            "colorbar": {
             "outlinewidth": 0,
             "ticks": ""
            },
            "colorscale": [
             [
              0,
              "#0d0887"
             ],
             [
              0.1111111111111111,
              "#46039f"
             ],
             [
              0.2222222222222222,
              "#7201a8"
             ],
             [
              0.3333333333333333,
              "#9c179e"
             ],
             [
              0.4444444444444444,
              "#bd3786"
             ],
             [
              0.5555555555555556,
              "#d8576b"
             ],
             [
              0.6666666666666666,
              "#ed7953"
             ],
             [
              0.7777777777777778,
              "#fb9f3a"
             ],
             [
              0.8888888888888888,
              "#fdca26"
             ],
             [
              1,
              "#f0f921"
             ]
            ],
            "type": "heatmapgl"
           }
          ],
          "histogram": [
           {
            "marker": {
             "pattern": {
              "fillmode": "overlay",
              "size": 10,
              "solidity": 0.2
             }
            },
            "type": "histogram"
           }
          ],
          "histogram2d": [
           {
            "colorbar": {
             "outlinewidth": 0,
             "ticks": ""
            },
            "colorscale": [
             [
              0,
              "#0d0887"
             ],
             [
              0.1111111111111111,
              "#46039f"
             ],
             [
              0.2222222222222222,
              "#7201a8"
             ],
             [
              0.3333333333333333,
              "#9c179e"
             ],
             [
              0.4444444444444444,
              "#bd3786"
             ],
             [
              0.5555555555555556,
              "#d8576b"
             ],
             [
              0.6666666666666666,
              "#ed7953"
             ],
             [
              0.7777777777777778,
              "#fb9f3a"
             ],
             [
              0.8888888888888888,
              "#fdca26"
             ],
             [
              1,
              "#f0f921"
             ]
            ],
            "type": "histogram2d"
           }
          ],
          "histogram2dcontour": [
           {
            "colorbar": {
             "outlinewidth": 0,
             "ticks": ""
            },
            "colorscale": [
             [
              0,
              "#0d0887"
             ],
             [
              0.1111111111111111,
              "#46039f"
             ],
             [
              0.2222222222222222,
              "#7201a8"
             ],
             [
              0.3333333333333333,
              "#9c179e"
             ],
             [
              0.4444444444444444,
              "#bd3786"
             ],
             [
              0.5555555555555556,
              "#d8576b"
             ],
             [
              0.6666666666666666,
              "#ed7953"
             ],
             [
              0.7777777777777778,
              "#fb9f3a"
             ],
             [
              0.8888888888888888,
              "#fdca26"
             ],
             [
              1,
              "#f0f921"
             ]
            ],
            "type": "histogram2dcontour"
           }
          ],
          "mesh3d": [
           {
            "colorbar": {
             "outlinewidth": 0,
             "ticks": ""
            },
            "type": "mesh3d"
           }
          ],
          "parcoords": [
           {
            "line": {
             "colorbar": {
              "outlinewidth": 0,
              "ticks": ""
             }
            },
            "type": "parcoords"
           }
          ],
          "pie": [
           {
            "automargin": true,
            "type": "pie"
           }
          ],
          "scatter": [
           {
            "fillpattern": {
             "fillmode": "overlay",
             "size": 10,
             "solidity": 0.2
            },
            "type": "scatter"
           }
          ],
          "scatter3d": [
           {
            "line": {
             "colorbar": {
              "outlinewidth": 0,
              "ticks": ""
             }
            },
            "marker": {
             "colorbar": {
              "outlinewidth": 0,
              "ticks": ""
             }
            },
            "type": "scatter3d"
           }
          ],
          "scattercarpet": [
           {
            "marker": {
             "colorbar": {
              "outlinewidth": 0,
              "ticks": ""
             }
            },
            "type": "scattercarpet"
           }
          ],
          "scattergeo": [
           {
            "marker": {
             "colorbar": {
              "outlinewidth": 0,
              "ticks": ""
             }
            },
            "type": "scattergeo"
           }
          ],
          "scattergl": [
           {
            "marker": {
             "colorbar": {
              "outlinewidth": 0,
              "ticks": ""
             }
            },
            "type": "scattergl"
           }
          ],
          "scattermapbox": [
           {
            "marker": {
             "colorbar": {
              "outlinewidth": 0,
              "ticks": ""
             }
            },
            "type": "scattermapbox"
           }
          ],
          "scatterpolar": [
           {
            "marker": {
             "colorbar": {
              "outlinewidth": 0,
              "ticks": ""
             }
            },
            "type": "scatterpolar"
           }
          ],
          "scatterpolargl": [
           {
            "marker": {
             "colorbar": {
              "outlinewidth": 0,
              "ticks": ""
             }
            },
            "type": "scatterpolargl"
           }
          ],
          "scatterternary": [
           {
            "marker": {
             "colorbar": {
              "outlinewidth": 0,
              "ticks": ""
             }
            },
            "type": "scatterternary"
           }
          ],
          "surface": [
           {
            "colorbar": {
             "outlinewidth": 0,
             "ticks": ""
            },
            "colorscale": [
             [
              0,
              "#0d0887"
             ],
             [
              0.1111111111111111,
              "#46039f"
             ],
             [
              0.2222222222222222,
              "#7201a8"
             ],
             [
              0.3333333333333333,
              "#9c179e"
             ],
             [
              0.4444444444444444,
              "#bd3786"
             ],
             [
              0.5555555555555556,
              "#d8576b"
             ],
             [
              0.6666666666666666,
              "#ed7953"
             ],
             [
              0.7777777777777778,
              "#fb9f3a"
             ],
             [
              0.8888888888888888,
              "#fdca26"
             ],
             [
              1,
              "#f0f921"
             ]
            ],
            "type": "surface"
           }
          ],
          "table": [
           {
            "cells": {
             "fill": {
              "color": "#EBF0F8"
             },
             "line": {
              "color": "white"
             }
            },
            "header": {
             "fill": {
              "color": "#C8D4E3"
             },
             "line": {
              "color": "white"
             }
            },
            "type": "table"
           }
          ]
         },
         "layout": {
          "annotationdefaults": {
           "arrowcolor": "#2a3f5f",
           "arrowhead": 0,
           "arrowwidth": 1
          },
          "autotypenumbers": "strict",
          "coloraxis": {
           "colorbar": {
            "outlinewidth": 0,
            "ticks": ""
           }
          },
          "colorscale": {
           "diverging": [
            [
             0,
             "#8e0152"
            ],
            [
             0.1,
             "#c51b7d"
            ],
            [
             0.2,
             "#de77ae"
            ],
            [
             0.3,
             "#f1b6da"
            ],
            [
             0.4,
             "#fde0ef"
            ],
            [
             0.5,
             "#f7f7f7"
            ],
            [
             0.6,
             "#e6f5d0"
            ],
            [
             0.7,
             "#b8e186"
            ],
            [
             0.8,
             "#7fbc41"
            ],
            [
             0.9,
             "#4d9221"
            ],
            [
             1,
             "#276419"
            ]
           ],
           "sequential": [
            [
             0,
             "#0d0887"
            ],
            [
             0.1111111111111111,
             "#46039f"
            ],
            [
             0.2222222222222222,
             "#7201a8"
            ],
            [
             0.3333333333333333,
             "#9c179e"
            ],
            [
             0.4444444444444444,
             "#bd3786"
            ],
            [
             0.5555555555555556,
             "#d8576b"
            ],
            [
             0.6666666666666666,
             "#ed7953"
            ],
            [
             0.7777777777777778,
             "#fb9f3a"
            ],
            [
             0.8888888888888888,
             "#fdca26"
            ],
            [
             1,
             "#f0f921"
            ]
           ],
           "sequentialminus": [
            [
             0,
             "#0d0887"
            ],
            [
             0.1111111111111111,
             "#46039f"
            ],
            [
             0.2222222222222222,
             "#7201a8"
            ],
            [
             0.3333333333333333,
             "#9c179e"
            ],
            [
             0.4444444444444444,
             "#bd3786"
            ],
            [
             0.5555555555555556,
             "#d8576b"
            ],
            [
             0.6666666666666666,
             "#ed7953"
            ],
            [
             0.7777777777777778,
             "#fb9f3a"
            ],
            [
             0.8888888888888888,
             "#fdca26"
            ],
            [
             1,
             "#f0f921"
            ]
           ]
          },
          "colorway": [
           "#636efa",
           "#EF553B",
           "#00cc96",
           "#ab63fa",
           "#FFA15A",
           "#19d3f3",
           "#FF6692",
           "#B6E880",
           "#FF97FF",
           "#FECB52"
          ],
          "font": {
           "color": "#2a3f5f"
          },
          "geo": {
           "bgcolor": "white",
           "lakecolor": "white",
           "landcolor": "#E5ECF6",
           "showlakes": true,
           "showland": true,
           "subunitcolor": "white"
          },
          "hoverlabel": {
           "align": "left"
          },
          "hovermode": "closest",
          "mapbox": {
           "style": "light"
          },
          "paper_bgcolor": "white",
          "plot_bgcolor": "#E5ECF6",
          "polar": {
           "angularaxis": {
            "gridcolor": "white",
            "linecolor": "white",
            "ticks": ""
           },
           "bgcolor": "#E5ECF6",
           "radialaxis": {
            "gridcolor": "white",
            "linecolor": "white",
            "ticks": ""
           }
          },
          "scene": {
           "xaxis": {
            "backgroundcolor": "#E5ECF6",
            "gridcolor": "white",
            "gridwidth": 2,
            "linecolor": "white",
            "showbackground": true,
            "ticks": "",
            "zerolinecolor": "white"
           },
           "yaxis": {
            "backgroundcolor": "#E5ECF6",
            "gridcolor": "white",
            "gridwidth": 2,
            "linecolor": "white",
            "showbackground": true,
            "ticks": "",
            "zerolinecolor": "white"
           },
           "zaxis": {
            "backgroundcolor": "#E5ECF6",
            "gridcolor": "white",
            "gridwidth": 2,
            "linecolor": "white",
            "showbackground": true,
            "ticks": "",
            "zerolinecolor": "white"
           }
          },
          "shapedefaults": {
           "line": {
            "color": "#2a3f5f"
           }
          },
          "ternary": {
           "aaxis": {
            "gridcolor": "white",
            "linecolor": "white",
            "ticks": ""
           },
           "baxis": {
            "gridcolor": "white",
            "linecolor": "white",
            "ticks": ""
           },
           "bgcolor": "#E5ECF6",
           "caxis": {
            "gridcolor": "white",
            "linecolor": "white",
            "ticks": ""
           }
          },
          "title": {
           "x": 0.05
          },
          "xaxis": {
           "automargin": true,
           "gridcolor": "white",
           "linecolor": "white",
           "ticks": "",
           "title": {
            "standoff": 15
           },
           "zerolinecolor": "white",
           "zerolinewidth": 2
          },
          "yaxis": {
           "automargin": true,
           "gridcolor": "white",
           "linecolor": "white",
           "ticks": "",
           "title": {
            "standoff": 15
           },
           "zerolinecolor": "white",
           "zerolinewidth": 2
          }
         }
        },
        "title": {
         "text": "Top 5 Negative Balances of Arrivals and Departures per Year"
        },
        "xaxis": {
         "anchor": "y",
         "domain": [
          0,
          1
         ],
         "title": {
          "text": "Country"
         }
        },
        "yaxis": {
         "anchor": "x",
         "domain": [
          0,
          1
         ],
         "title": {
          "text": "Balance (Arrivals - Departures)"
         }
        }
       }
      }
     },
     "metadata": {},
     "output_type": "display_data"
    }
   ],
   "source": [
    "import plotly.express as px\n",
    "\n",
    "# Assuming top5_combined contains the top 5 positive and negative balances for each year\n",
    "\n",
    "# Create a bar chart for Top 5 Positive Balances\n",
    "top5_positive = top5_combined[top5_combined['Balance'] == 'Positive']\n",
    "\n",
    "fig_positive = px.bar(top5_positive, \n",
    "                      x='COUNTRY', \n",
    "                      y='Difference', \n",
    "                      color='Year', \n",
    "                      barmode='group',\n",
    "                      title=\"Top 5 Positive Balances of Arrivals and Departures per Year\",\n",
    "                      labels={\"COUNTRY\": \"Country\", \"Difference\": \"Balance (Arrivals - Departures)\", \"Year\": \"Year\"})\n",
    "\n",
    "# Show the plot\n",
    "fig_positive.show()\n",
    "\n",
    "# Create a bar chart for Top 5 Negative Balances\n",
    "top5_negative = top5_combined[top5_combined['Balance'] == 'Negative']\n",
    "\n",
    "fig_negative = px.bar(top5_negative, \n",
    "                      x='COUNTRY', \n",
    "                      y='Difference', \n",
    "                      color='Year', \n",
    "                      barmode='group',\n",
    "                      title=\"Top 5 Negative Balances of Arrivals and Departures per Year\",\n",
    "                      labels={\"COUNTRY\": \"Country\", \"Difference\": \"Balance (Arrivals - Departures)\", \"Year\": \"Year\"})\n",
    "\n",
    "# Show the plot\n",
    "fig_negative.show()"
   ]
  },
  {
   "cell_type": "markdown",
   "metadata": {},
   "source": [
    "# 2 -> Continent Order"
   ]
  },
  {
   "cell_type": "code",
   "execution_count": 121,
   "metadata": {},
   "outputs": [],
   "source": [
    "# Assuming Difference_Continentwise_df is the DataFrame containing the differences\n",
    "\n",
    "# Melt the DataFrame to make it easier to work with\n",
    "Difference_continentwise_melted = Difference_Continentwise_df.melt(id_vars=['CONTINENT'], \n",
    "                                                                  value_vars=['2014(In-Out)', '2016(In-Out)', '2017(In-Out)', \n",
    "                                                                              '2019(In-Out)', '2020(In-Out)', '2021(In-Out)', '2022(In-Out)'], \n",
    "                                                                  var_name='Year', \n",
    "                                                                  value_name='Difference')\n",
    "\n",
    "# Convert 'Year' column to string to avoid any issues with sorting\n",
    "Difference_continentwise_melted['Year'] = Difference_continentwise_melted['Year'].astype(str)\n",
    "\n",
    "# Group by continent and year, then calculate the sum of the differences (balance) for each year\n",
    "continent_balance_per_year = Difference_continentwise_melted.groupby(['Year', 'CONTINENT'])['Difference'].sum().reset_index()\n",
    "\n",
    "# Sort the DataFrame by 'Year' and then by 'Difference' (balance) in descending order to get the highest balances first\n",
    "sorted_continent_balance = continent_balance_per_year.sort_values(by=['Year', 'Difference'], ascending=[True, False]).reset_index(drop=True)\n",
    "\n",
    "# Display the sorted DataFrame\n",
    "# print(sorted_continent_balance)\n",
    "# sorted_continent_balance"
   ]
  },
  {
   "cell_type": "code",
   "execution_count": 122,
   "metadata": {},
   "outputs": [
    {
     "data": {
      "text/html": [
       "<div>\n",
       "<style scoped>\n",
       "    .dataframe tbody tr th:only-of-type {\n",
       "        vertical-align: middle;\n",
       "    }\n",
       "\n",
       "    .dataframe tbody tr th {\n",
       "        vertical-align: top;\n",
       "    }\n",
       "\n",
       "    .dataframe thead th {\n",
       "        text-align: right;\n",
       "    }\n",
       "</style>\n",
       "<table border=\"1\" class=\"dataframe\">\n",
       "  <thead>\n",
       "    <tr style=\"text-align: right;\">\n",
       "      <th></th>\n",
       "      <th>Year</th>\n",
       "      <th>CONTINENT</th>\n",
       "      <th>Difference</th>\n",
       "    </tr>\n",
       "  </thead>\n",
       "  <tbody>\n",
       "    <tr>\n",
       "      <th>0</th>\n",
       "      <td>2014(In-Out)</td>\n",
       "      <td>AFRICA</td>\n",
       "      <td>0.0</td>\n",
       "    </tr>\n",
       "    <tr>\n",
       "      <th>1</th>\n",
       "      <td>2014(In-Out)</td>\n",
       "      <td>AUSTRALASIA</td>\n",
       "      <td>0.0</td>\n",
       "    </tr>\n",
       "    <tr>\n",
       "      <th>2</th>\n",
       "      <td>2014(In-Out)</td>\n",
       "      <td>CENTRAL &amp; SOUTH AMERICA</td>\n",
       "      <td>0.0</td>\n",
       "    </tr>\n",
       "    <tr>\n",
       "      <th>3</th>\n",
       "      <td>2014(In-Out)</td>\n",
       "      <td>EAST ASIA</td>\n",
       "      <td>0.0</td>\n",
       "    </tr>\n",
       "    <tr>\n",
       "      <th>4</th>\n",
       "      <td>2014(In-Out)</td>\n",
       "      <td>EASTERN EUROPE</td>\n",
       "      <td>0.0</td>\n",
       "    </tr>\n",
       "  </tbody>\n",
       "</table>\n",
       "</div>"
      ],
      "text/plain": [
       "           Year                CONTINENT  Difference\n",
       "0  2014(In-Out)                   AFRICA         0.0\n",
       "1  2014(In-Out)              AUSTRALASIA         0.0\n",
       "2  2014(In-Out)  CENTRAL & SOUTH AMERICA         0.0\n",
       "3  2014(In-Out)                EAST ASIA         0.0\n",
       "4  2014(In-Out)           EASTERN EUROPE         0.0"
      ]
     },
     "execution_count": 122,
     "metadata": {},
     "output_type": "execute_result"
    }
   ],
   "source": [
    "sorted_continent_balance.head()"
   ]
  },
  {
   "cell_type": "code",
   "execution_count": 123,
   "metadata": {},
   "outputs": [],
   "source": [
    "sorted_continent_balance.to_csv(\"2_Orderd_Continent_balance.csv\",index=False)"
   ]
  },
  {
   "cell_type": "markdown",
   "metadata": {},
   "source": [
    "## Graphs"
   ]
  },
  {
   "cell_type": "code",
   "execution_count": 124,
   "metadata": {},
   "outputs": [
    {
     "data": {
      "application/vnd.plotly.v1+json": {
       "config": {
        "plotlyServerURL": "https://plot.ly"
       },
       "data": [
        {
         "alignmentgroup": "True",
         "hovertemplate": "Year=2014(In-Out)<br>Continent=%{x}<br>Balance (Arrivals - Departures)=%{y}<extra></extra>",
         "legendgroup": "2014(In-Out)",
         "marker": {
          "color": "#636efa",
          "pattern": {
           "shape": ""
          }
         },
         "name": "2014(In-Out)",
         "offsetgroup": "2014(In-Out)",
         "orientation": "v",
         "showlegend": true,
         "textposition": "auto",
         "type": "bar",
         "x": [
          "AFRICA",
          "AUSTRALASIA",
          "CENTRAL & SOUTH AMERICA",
          "EAST ASIA",
          "EASTERN EUROPE",
          "NORTH AMERICA",
          "SOUTH ASIA",
          "SOUTH EAST ASIA",
          "WEST ASIA",
          "WESTERN EUROPE"
         ],
         "xaxis": "x",
         "y": [
          0,
          0,
          0,
          0,
          0,
          0,
          0,
          0,
          0,
          0
         ],
         "yaxis": "y"
        },
        {
         "alignmentgroup": "True",
         "hovertemplate": "Year=2016(In-Out)<br>Continent=%{x}<br>Balance (Arrivals - Departures)=%{y}<extra></extra>",
         "legendgroup": "2016(In-Out)",
         "marker": {
          "color": "#EF553B",
          "pattern": {
           "shape": ""
          }
         },
         "name": "2016(In-Out)",
         "offsetgroup": "2016(In-Out)",
         "orientation": "v",
         "showlegend": true,
         "textposition": "auto",
         "type": "bar",
         "x": [
          "SOUTH ASIA",
          "WEST ASIA",
          "CENTRAL & SOUTH AMERICA",
          "AFRICA",
          "SOUTH EAST ASIA",
          "AUSTRALASIA",
          "EAST ASIA",
          "EASTERN EUROPE",
          "NORTH AMERICA",
          "WESTERN EUROPE"
         ],
         "xaxis": "x",
         "y": [
          1227656,
          -5259,
          -8156,
          -8333,
          -28806,
          -36298,
          -44855,
          -56000,
          -98180,
          -111040
         ],
         "yaxis": "y"
        },
        {
         "alignmentgroup": "True",
         "hovertemplate": "Year=2017(In-Out)<br>Continent=%{x}<br>Balance (Arrivals - Departures)=%{y}<extra></extra>",
         "legendgroup": "2017(In-Out)",
         "marker": {
          "color": "#00cc96",
          "pattern": {
           "shape": ""
          }
         },
         "name": "2017(In-Out)",
         "offsetgroup": "2017(In-Out)",
         "orientation": "v",
         "showlegend": true,
         "textposition": "auto",
         "type": "bar",
         "x": [
          "SOUTH ASIA",
          "SOUTH EAST ASIA",
          "EAST ASIA",
          "AFRICA",
          "AUSTRALASIA",
          "CENTRAL & SOUTH AMERICA",
          "EASTERN EUROPE",
          "NORTH AMERICA",
          "WEST ASIA",
          "WESTERN EUROPE"
         ],
         "xaxis": "x",
         "y": [
          1984766,
          46726,
          770,
          0,
          0,
          0,
          0,
          0,
          0,
          0
         ],
         "yaxis": "y"
        },
        {
         "alignmentgroup": "True",
         "hovertemplate": "Year=2019(In-Out)<br>Continent=%{x}<br>Balance (Arrivals - Departures)=%{y}<extra></extra>",
         "legendgroup": "2019(In-Out)",
         "marker": {
          "color": "#ab63fa",
          "pattern": {
           "shape": ""
          }
         },
         "name": "2019(In-Out)",
         "offsetgroup": "2019(In-Out)",
         "orientation": "v",
         "showlegend": true,
         "textposition": "auto",
         "type": "bar",
         "x": [
          "SOUTH ASIA",
          "SOUTH EAST ASIA",
          "EAST ASIA",
          "EASTERN EUROPE",
          "CENTRAL & SOUTH AMERICA",
          "WESTERN EUROPE",
          "AFRICA",
          "AUSTRALASIA",
          "NORTH AMERICA",
          "WEST ASIA"
         ],
         "xaxis": "x",
         "y": [
          3375819,
          921672,
          734311,
          80401,
          32183,
          -102045,
          -133281,
          -267501,
          -708871,
          -3205785
         ],
         "yaxis": "y"
        },
        {
         "alignmentgroup": "True",
         "hovertemplate": "Year=2020(In-Out)<br>Continent=%{x}<br>Balance (Arrivals - Departures)=%{y}<extra></extra>",
         "legendgroup": "2020(In-Out)",
         "marker": {
          "color": "#FFA15A",
          "pattern": {
           "shape": ""
          }
         },
         "name": "2020(In-Out)",
         "offsetgroup": "2020(In-Out)",
         "orientation": "v",
         "showlegend": true,
         "textposition": "auto",
         "type": "bar",
         "x": [
          "SOUTH ASIA",
          "EASTERN EUROPE",
          "EAST ASIA",
          "WESTERN EUROPE",
          "CENTRAL & SOUTH AMERICA",
          "AFRICA",
          "AUSTRALASIA",
          "NORTH AMERICA",
          "SOUTH EAST ASIA",
          "WEST ASIA"
         ],
         "xaxis": "x",
         "y": [
          344656,
          85304,
          28283,
          16434,
          7332,
          -49385,
          -104034,
          -303199,
          -552306,
          -3868251
         ],
         "yaxis": "y"
        },
        {
         "alignmentgroup": "True",
         "hovertemplate": "Year=2021(In-Out)<br>Continent=%{x}<br>Balance (Arrivals - Departures)=%{y}<extra></extra>",
         "legendgroup": "2021(In-Out)",
         "marker": {
          "color": "#19d3f3",
          "pattern": {
           "shape": ""
          }
         },
         "name": "2021(In-Out)",
         "offsetgroup": "2021(In-Out)",
         "orientation": "v",
         "showlegend": true,
         "textposition": "auto",
         "type": "bar",
         "x": [
          "AUSTRALASIA",
          "EAST ASIA",
          "CENTRAL & SOUTH AMERICA",
          "EASTERN EUROPE",
          "SOUTH EAST ASIA",
          "AFRICA",
          "SOUTH ASIA",
          "WESTERN EUROPE",
          "NORTH AMERICA",
          "WEST ASIA"
         ],
         "xaxis": "x",
         "y": [
          -1750,
          -4877,
          -25637,
          -78831,
          -112052,
          -118820,
          -158928,
          -411116,
          -445309,
          -5389390
         ],
         "yaxis": "y"
        },
        {
         "alignmentgroup": "True",
         "hovertemplate": "Year=2022(In-Out)<br>Continent=%{x}<br>Balance (Arrivals - Departures)=%{y}<extra></extra>",
         "legendgroup": "2022(In-Out)",
         "marker": {
          "color": "#FF6692",
          "pattern": {
           "shape": ""
          }
         },
         "name": "2022(In-Out)",
         "offsetgroup": "2022(In-Out)",
         "orientation": "v",
         "showlegend": true,
         "textposition": "auto",
         "type": "bar",
         "x": [
          "SOUTH ASIA",
          "EAST ASIA",
          "CENTRAL & SOUTH AMERICA",
          "EASTERN EUROPE",
          "AUSTRALASIA",
          "AFRICA",
          "WESTERN EUROPE",
          "NORTH AMERICA",
          "SOUTH EAST ASIA",
          "WEST ASIA"
         ],
         "xaxis": "x",
         "y": [
          557941,
          17364,
          4989,
          -10520,
          -113663,
          -126399,
          -722620,
          -814374,
          -2223296,
          -11371669
         ],
         "yaxis": "y"
        }
       ],
       "layout": {
        "barmode": "group",
        "legend": {
         "title": {
          "text": "Year"
         },
         "tracegroupgap": 0
        },
        "template": {
         "data": {
          "bar": [
           {
            "error_x": {
             "color": "#2a3f5f"
            },
            "error_y": {
             "color": "#2a3f5f"
            },
            "marker": {
             "line": {
              "color": "#E5ECF6",
              "width": 0.5
             },
             "pattern": {
              "fillmode": "overlay",
              "size": 10,
              "solidity": 0.2
             }
            },
            "type": "bar"
           }
          ],
          "barpolar": [
           {
            "marker": {
             "line": {
              "color": "#E5ECF6",
              "width": 0.5
             },
             "pattern": {
              "fillmode": "overlay",
              "size": 10,
              "solidity": 0.2
             }
            },
            "type": "barpolar"
           }
          ],
          "carpet": [
           {
            "aaxis": {
             "endlinecolor": "#2a3f5f",
             "gridcolor": "white",
             "linecolor": "white",
             "minorgridcolor": "white",
             "startlinecolor": "#2a3f5f"
            },
            "baxis": {
             "endlinecolor": "#2a3f5f",
             "gridcolor": "white",
             "linecolor": "white",
             "minorgridcolor": "white",
             "startlinecolor": "#2a3f5f"
            },
            "type": "carpet"
           }
          ],
          "choropleth": [
           {
            "colorbar": {
             "outlinewidth": 0,
             "ticks": ""
            },
            "type": "choropleth"
           }
          ],
          "contour": [
           {
            "colorbar": {
             "outlinewidth": 0,
             "ticks": ""
            },
            "colorscale": [
             [
              0,
              "#0d0887"
             ],
             [
              0.1111111111111111,
              "#46039f"
             ],
             [
              0.2222222222222222,
              "#7201a8"
             ],
             [
              0.3333333333333333,
              "#9c179e"
             ],
             [
              0.4444444444444444,
              "#bd3786"
             ],
             [
              0.5555555555555556,
              "#d8576b"
             ],
             [
              0.6666666666666666,
              "#ed7953"
             ],
             [
              0.7777777777777778,
              "#fb9f3a"
             ],
             [
              0.8888888888888888,
              "#fdca26"
             ],
             [
              1,
              "#f0f921"
             ]
            ],
            "type": "contour"
           }
          ],
          "contourcarpet": [
           {
            "colorbar": {
             "outlinewidth": 0,
             "ticks": ""
            },
            "type": "contourcarpet"
           }
          ],
          "heatmap": [
           {
            "colorbar": {
             "outlinewidth": 0,
             "ticks": ""
            },
            "colorscale": [
             [
              0,
              "#0d0887"
             ],
             [
              0.1111111111111111,
              "#46039f"
             ],
             [
              0.2222222222222222,
              "#7201a8"
             ],
             [
              0.3333333333333333,
              "#9c179e"
             ],
             [
              0.4444444444444444,
              "#bd3786"
             ],
             [
              0.5555555555555556,
              "#d8576b"
             ],
             [
              0.6666666666666666,
              "#ed7953"
             ],
             [
              0.7777777777777778,
              "#fb9f3a"
             ],
             [
              0.8888888888888888,
              "#fdca26"
             ],
             [
              1,
              "#f0f921"
             ]
            ],
            "type": "heatmap"
           }
          ],
          "heatmapgl": [
           {
            "colorbar": {
             "outlinewidth": 0,
             "ticks": ""
            },
            "colorscale": [
             [
              0,
              "#0d0887"
             ],
             [
              0.1111111111111111,
              "#46039f"
             ],
             [
              0.2222222222222222,
              "#7201a8"
             ],
             [
              0.3333333333333333,
              "#9c179e"
             ],
             [
              0.4444444444444444,
              "#bd3786"
             ],
             [
              0.5555555555555556,
              "#d8576b"
             ],
             [
              0.6666666666666666,
              "#ed7953"
             ],
             [
              0.7777777777777778,
              "#fb9f3a"
             ],
             [
              0.8888888888888888,
              "#fdca26"
             ],
             [
              1,
              "#f0f921"
             ]
            ],
            "type": "heatmapgl"
           }
          ],
          "histogram": [
           {
            "marker": {
             "pattern": {
              "fillmode": "overlay",
              "size": 10,
              "solidity": 0.2
             }
            },
            "type": "histogram"
           }
          ],
          "histogram2d": [
           {
            "colorbar": {
             "outlinewidth": 0,
             "ticks": ""
            },
            "colorscale": [
             [
              0,
              "#0d0887"
             ],
             [
              0.1111111111111111,
              "#46039f"
             ],
             [
              0.2222222222222222,
              "#7201a8"
             ],
             [
              0.3333333333333333,
              "#9c179e"
             ],
             [
              0.4444444444444444,
              "#bd3786"
             ],
             [
              0.5555555555555556,
              "#d8576b"
             ],
             [
              0.6666666666666666,
              "#ed7953"
             ],
             [
              0.7777777777777778,
              "#fb9f3a"
             ],
             [
              0.8888888888888888,
              "#fdca26"
             ],
             [
              1,
              "#f0f921"
             ]
            ],
            "type": "histogram2d"
           }
          ],
          "histogram2dcontour": [
           {
            "colorbar": {
             "outlinewidth": 0,
             "ticks": ""
            },
            "colorscale": [
             [
              0,
              "#0d0887"
             ],
             [
              0.1111111111111111,
              "#46039f"
             ],
             [
              0.2222222222222222,
              "#7201a8"
             ],
             [
              0.3333333333333333,
              "#9c179e"
             ],
             [
              0.4444444444444444,
              "#bd3786"
             ],
             [
              0.5555555555555556,
              "#d8576b"
             ],
             [
              0.6666666666666666,
              "#ed7953"
             ],
             [
              0.7777777777777778,
              "#fb9f3a"
             ],
             [
              0.8888888888888888,
              "#fdca26"
             ],
             [
              1,
              "#f0f921"
             ]
            ],
            "type": "histogram2dcontour"
           }
          ],
          "mesh3d": [
           {
            "colorbar": {
             "outlinewidth": 0,
             "ticks": ""
            },
            "type": "mesh3d"
           }
          ],
          "parcoords": [
           {
            "line": {
             "colorbar": {
              "outlinewidth": 0,
              "ticks": ""
             }
            },
            "type": "parcoords"
           }
          ],
          "pie": [
           {
            "automargin": true,
            "type": "pie"
           }
          ],
          "scatter": [
           {
            "fillpattern": {
             "fillmode": "overlay",
             "size": 10,
             "solidity": 0.2
            },
            "type": "scatter"
           }
          ],
          "scatter3d": [
           {
            "line": {
             "colorbar": {
              "outlinewidth": 0,
              "ticks": ""
             }
            },
            "marker": {
             "colorbar": {
              "outlinewidth": 0,
              "ticks": ""
             }
            },
            "type": "scatter3d"
           }
          ],
          "scattercarpet": [
           {
            "marker": {
             "colorbar": {
              "outlinewidth": 0,
              "ticks": ""
             }
            },
            "type": "scattercarpet"
           }
          ],
          "scattergeo": [
           {
            "marker": {
             "colorbar": {
              "outlinewidth": 0,
              "ticks": ""
             }
            },
            "type": "scattergeo"
           }
          ],
          "scattergl": [
           {
            "marker": {
             "colorbar": {
              "outlinewidth": 0,
              "ticks": ""
             }
            },
            "type": "scattergl"
           }
          ],
          "scattermapbox": [
           {
            "marker": {
             "colorbar": {
              "outlinewidth": 0,
              "ticks": ""
             }
            },
            "type": "scattermapbox"
           }
          ],
          "scatterpolar": [
           {
            "marker": {
             "colorbar": {
              "outlinewidth": 0,
              "ticks": ""
             }
            },
            "type": "scatterpolar"
           }
          ],
          "scatterpolargl": [
           {
            "marker": {
             "colorbar": {
              "outlinewidth": 0,
              "ticks": ""
             }
            },
            "type": "scatterpolargl"
           }
          ],
          "scatterternary": [
           {
            "marker": {
             "colorbar": {
              "outlinewidth": 0,
              "ticks": ""
             }
            },
            "type": "scatterternary"
           }
          ],
          "surface": [
           {
            "colorbar": {
             "outlinewidth": 0,
             "ticks": ""
            },
            "colorscale": [
             [
              0,
              "#0d0887"
             ],
             [
              0.1111111111111111,
              "#46039f"
             ],
             [
              0.2222222222222222,
              "#7201a8"
             ],
             [
              0.3333333333333333,
              "#9c179e"
             ],
             [
              0.4444444444444444,
              "#bd3786"
             ],
             [
              0.5555555555555556,
              "#d8576b"
             ],
             [
              0.6666666666666666,
              "#ed7953"
             ],
             [
              0.7777777777777778,
              "#fb9f3a"
             ],
             [
              0.8888888888888888,
              "#fdca26"
             ],
             [
              1,
              "#f0f921"
             ]
            ],
            "type": "surface"
           }
          ],
          "table": [
           {
            "cells": {
             "fill": {
              "color": "#EBF0F8"
             },
             "line": {
              "color": "white"
             }
            },
            "header": {
             "fill": {
              "color": "#C8D4E3"
             },
             "line": {
              "color": "white"
             }
            },
            "type": "table"
           }
          ]
         },
         "layout": {
          "annotationdefaults": {
           "arrowcolor": "#2a3f5f",
           "arrowhead": 0,
           "arrowwidth": 1
          },
          "autotypenumbers": "strict",
          "coloraxis": {
           "colorbar": {
            "outlinewidth": 0,
            "ticks": ""
           }
          },
          "colorscale": {
           "diverging": [
            [
             0,
             "#8e0152"
            ],
            [
             0.1,
             "#c51b7d"
            ],
            [
             0.2,
             "#de77ae"
            ],
            [
             0.3,
             "#f1b6da"
            ],
            [
             0.4,
             "#fde0ef"
            ],
            [
             0.5,
             "#f7f7f7"
            ],
            [
             0.6,
             "#e6f5d0"
            ],
            [
             0.7,
             "#b8e186"
            ],
            [
             0.8,
             "#7fbc41"
            ],
            [
             0.9,
             "#4d9221"
            ],
            [
             1,
             "#276419"
            ]
           ],
           "sequential": [
            [
             0,
             "#0d0887"
            ],
            [
             0.1111111111111111,
             "#46039f"
            ],
            [
             0.2222222222222222,
             "#7201a8"
            ],
            [
             0.3333333333333333,
             "#9c179e"
            ],
            [
             0.4444444444444444,
             "#bd3786"
            ],
            [
             0.5555555555555556,
             "#d8576b"
            ],
            [
             0.6666666666666666,
             "#ed7953"
            ],
            [
             0.7777777777777778,
             "#fb9f3a"
            ],
            [
             0.8888888888888888,
             "#fdca26"
            ],
            [
             1,
             "#f0f921"
            ]
           ],
           "sequentialminus": [
            [
             0,
             "#0d0887"
            ],
            [
             0.1111111111111111,
             "#46039f"
            ],
            [
             0.2222222222222222,
             "#7201a8"
            ],
            [
             0.3333333333333333,
             "#9c179e"
            ],
            [
             0.4444444444444444,
             "#bd3786"
            ],
            [
             0.5555555555555556,
             "#d8576b"
            ],
            [
             0.6666666666666666,
             "#ed7953"
            ],
            [
             0.7777777777777778,
             "#fb9f3a"
            ],
            [
             0.8888888888888888,
             "#fdca26"
            ],
            [
             1,
             "#f0f921"
            ]
           ]
          },
          "colorway": [
           "#636efa",
           "#EF553B",
           "#00cc96",
           "#ab63fa",
           "#FFA15A",
           "#19d3f3",
           "#FF6692",
           "#B6E880",
           "#FF97FF",
           "#FECB52"
          ],
          "font": {
           "color": "#2a3f5f"
          },
          "geo": {
           "bgcolor": "white",
           "lakecolor": "white",
           "landcolor": "#E5ECF6",
           "showlakes": true,
           "showland": true,
           "subunitcolor": "white"
          },
          "hoverlabel": {
           "align": "left"
          },
          "hovermode": "closest",
          "mapbox": {
           "style": "light"
          },
          "paper_bgcolor": "white",
          "plot_bgcolor": "#E5ECF6",
          "polar": {
           "angularaxis": {
            "gridcolor": "white",
            "linecolor": "white",
            "ticks": ""
           },
           "bgcolor": "#E5ECF6",
           "radialaxis": {
            "gridcolor": "white",
            "linecolor": "white",
            "ticks": ""
           }
          },
          "scene": {
           "xaxis": {
            "backgroundcolor": "#E5ECF6",
            "gridcolor": "white",
            "gridwidth": 2,
            "linecolor": "white",
            "showbackground": true,
            "ticks": "",
            "zerolinecolor": "white"
           },
           "yaxis": {
            "backgroundcolor": "#E5ECF6",
            "gridcolor": "white",
            "gridwidth": 2,
            "linecolor": "white",
            "showbackground": true,
            "ticks": "",
            "zerolinecolor": "white"
           },
           "zaxis": {
            "backgroundcolor": "#E5ECF6",
            "gridcolor": "white",
            "gridwidth": 2,
            "linecolor": "white",
            "showbackground": true,
            "ticks": "",
            "zerolinecolor": "white"
           }
          },
          "shapedefaults": {
           "line": {
            "color": "#2a3f5f"
           }
          },
          "ternary": {
           "aaxis": {
            "gridcolor": "white",
            "linecolor": "white",
            "ticks": ""
           },
           "baxis": {
            "gridcolor": "white",
            "linecolor": "white",
            "ticks": ""
           },
           "bgcolor": "#E5ECF6",
           "caxis": {
            "gridcolor": "white",
            "linecolor": "white",
            "ticks": ""
           }
          },
          "title": {
           "x": 0.05
          },
          "xaxis": {
           "automargin": true,
           "gridcolor": "white",
           "linecolor": "white",
           "ticks": "",
           "title": {
            "standoff": 15
           },
           "zerolinecolor": "white",
           "zerolinewidth": 2
          },
          "yaxis": {
           "automargin": true,
           "gridcolor": "white",
           "linecolor": "white",
           "ticks": "",
           "title": {
            "standoff": 15
           },
           "zerolinecolor": "white",
           "zerolinewidth": 2
          }
         }
        },
        "title": {
         "text": "Balance of Arrivals and Departures per Continent per Year"
        },
        "xaxis": {
         "anchor": "y",
         "domain": [
          0,
          1
         ],
         "title": {
          "text": "Continent"
         }
        },
        "yaxis": {
         "anchor": "x",
         "domain": [
          0,
          1
         ],
         "title": {
          "text": "Balance (Arrivals - Departures)"
         }
        }
       }
      }
     },
     "metadata": {},
     "output_type": "display_data"
    }
   ],
   "source": [
    "import plotly.express as px\n",
    "\n",
    "# Assuming sorted_continent_balance is your DataFrame with the sorted data\n",
    "fig = px.bar(sorted_continent_balance,\n",
    "             x='CONTINENT',\n",
    "             y='Difference',\n",
    "             color='Year',\n",
    "             barmode='group',\n",
    "             title=\"Balance of Arrivals and Departures per Continent per Year\",\n",
    "             labels={\"CONTINENT\": \"Continent\", \"Difference\": \"Balance (Arrivals - Departures)\", \"Year\": \"Year\"})\n",
    "\n",
    "# Show the plot\n",
    "fig.show()"
   ]
  }
 ],
 "metadata": {
  "kernelspec": {
   "display_name": ".venv",
   "language": "python",
   "name": "python3"
  },
  "language_info": {
   "codemirror_mode": {
    "name": "ipython",
    "version": 3
   },
   "file_extension": ".py",
   "mimetype": "text/x-python",
   "name": "python",
   "nbconvert_exporter": "python",
   "pygments_lexer": "ipython3",
   "version": "3.9.6"
  }
 },
 "nbformat": 4,
 "nbformat_minor": 2
}
