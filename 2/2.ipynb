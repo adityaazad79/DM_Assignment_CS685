{
 "cells": [
  {
   "cell_type": "markdown",
   "metadata": {},
   "source": [
    "1. For every year, find the lean and peak months of visit in terms of fees received.\n",
    "2. For every country and continent, find the lean and peak quarters of visit"
   ]
  },
  {
   "cell_type": "markdown",
   "metadata": {},
   "source": [
    "# Data Preprocessing"
   ]
  },
  {
   "cell_type": "code",
   "execution_count": 1,
   "metadata": {},
   "outputs": [],
   "source": [
    "import pandas as pd\n",
    "import warnings\n",
    "pd.set_option('display.max_rows', None)  # Show all rows\n",
    "pd.set_option('display.max_columns', None)  # Show all columns\n",
    "pd.set_option('display.width', None)  # Automatically adjust the width\n",
    "pd.set_option('display.max_colwidth', None)  # Show full content of columns\n",
    "warnings.filterwarnings('ignore')"
   ]
  },
  {
   "cell_type": "code",
   "execution_count": 2,
   "metadata": {},
   "outputs": [],
   "source": [
    "# df=pd.read_excel('../data-students/TourismData-2013/MONTH-WISE FEE FROM TOURISM (CRORE) IN INDIA.xlsx')\n",
    "df_2013=pd.read_excel('../data-students/TourismData-2013/MONTH-WISE FEE FROM TOURISM (CRORE) IN INDIA.xlsx')\n",
    "df_2014=pd.read_excel('../data-students/TourismData-2014/MONTH-WISE FEE FROM TOURISM (CRORE) IN INDIA.xlsx')\n",
    "df_2016=pd.read_excel('../data-students/TourismData-2016/MONTH-WISE FEE FROM TOURISM (CRORE) IN INDIA.xlsx')\n",
    "df_2017=pd.read_excel('../data-students/TourismData-2017/MONTH-WISE FEE FROM TOURISM (CRORE) IN INDIA.xlsx')\n",
    "df_2018=pd.read_excel('../data-students/TourismData-2018/MONTH-WISE FEE FROM TOURISM (CRORE) IN INDIA.xlsx')\n",
    "df_2019=pd.read_excel('../data-students/TourismData-2019/MONTH-WISE FEE FROM TOURISM (CRORE) IN INDIA.xlsx')\n",
    "df_2020=pd.read_excel('../data-students/TourismData-2020/MONTH-WISE FEE FROM TOURISM (CRORE) IN INDIA.xlsx')\n",
    "df_2021=pd.read_excel('../data-students/TourismData-2021/MONTH-WISE FEE FROM TOURISM (CRORE) IN INDIA.xlsx')\n",
    "df_2022=pd.read_excel('../data-students/TourismData-2022/MONTH-WISE FEE FROM TOURISM (CRORE) IN INDIA.xlsx')\n",
    "# df"
   ]
  },
  {
   "cell_type": "code",
   "execution_count": 3,
   "metadata": {},
   "outputs": [
    {
     "data": {
      "text/html": [
       "<div>\n",
       "<style scoped>\n",
       "    .dataframe tbody tr th:only-of-type {\n",
       "        vertical-align: middle;\n",
       "    }\n",
       "\n",
       "    .dataframe tbody tr th {\n",
       "        vertical-align: top;\n",
       "    }\n",
       "\n",
       "    .dataframe thead th {\n",
       "        text-align: right;\n",
       "    }\n",
       "</style>\n",
       "<table border=\"1\" class=\"dataframe\">\n",
       "  <thead>\n",
       "    <tr style=\"text-align: right;\">\n",
       "      <th></th>\n",
       "      <th>MONTH</th>\n",
       "      <th>2022</th>\n",
       "      <th>2021</th>\n",
       "      <th>2020</th>\n",
       "      <th>2019</th>\n",
       "      <th>2018</th>\n",
       "      <th>2017</th>\n",
       "      <th>2016</th>\n",
       "      <th>2015</th>\n",
       "      <th>2014</th>\n",
       "      <th>2013</th>\n",
       "    </tr>\n",
       "  </thead>\n",
       "  <tbody>\n",
       "    <tr>\n",
       "      <th>0</th>\n",
       "      <td>January</td>\n",
       "      <td>3843</td>\n",
       "      <td>4700</td>\n",
       "      <td>20200</td>\n",
       "      <td>18205</td>\n",
       "      <td>17755</td>\n",
       "      <td>15799</td>\n",
       "      <td>13671</td>\n",
       "      <td>12100</td>\n",
       "      <td>11664</td>\n",
       "      <td>10785</td>\n",
       "    </tr>\n",
       "    <tr>\n",
       "      <th>1</th>\n",
       "      <td>February</td>\n",
       "      <td>4524</td>\n",
       "      <td>5477</td>\n",
       "      <td>18241</td>\n",
       "      <td>17959</td>\n",
       "      <td>17757</td>\n",
       "      <td>15353</td>\n",
       "      <td>13661</td>\n",
       "      <td>11642</td>\n",
       "      <td>11510</td>\n",
       "      <td>10255</td>\n",
       "    </tr>\n",
       "    <tr>\n",
       "      <th>2</th>\n",
       "      <td>March</td>\n",
       "      <td>6385</td>\n",
       "      <td>6642</td>\n",
       "      <td>5830</td>\n",
       "      <td>16214</td>\n",
       "      <td>17222</td>\n",
       "      <td>14667</td>\n",
       "      <td>12985</td>\n",
       "      <td>11133</td>\n",
       "      <td>10479</td>\n",
       "      <td>9545</td>\n",
       "    </tr>\n",
       "    <tr>\n",
       "      <th>3</th>\n",
       "      <td>April</td>\n",
       "      <td>10053</td>\n",
       "      <td>6891</td>\n",
       "      <td>71</td>\n",
       "      <td>17134</td>\n",
       "      <td>15620</td>\n",
       "      <td>14260</td>\n",
       "      <td>11495</td>\n",
       "      <td>10091</td>\n",
       "      <td>9179</td>\n",
       "      <td>7226</td>\n",
       "    </tr>\n",
       "    <tr>\n",
       "      <th>4</th>\n",
       "      <td>May</td>\n",
       "      <td>10900</td>\n",
       "      <td>1730</td>\n",
       "      <td>94</td>\n",
       "      <td>13642</td>\n",
       "      <td>12752</td>\n",
       "      <td>12255</td>\n",
       "      <td>10260</td>\n",
       "      <td>9505</td>\n",
       "      <td>7936</td>\n",
       "      <td>6627</td>\n",
       "    </tr>\n",
       "    <tr>\n",
       "      <th>5</th>\n",
       "      <td>June</td>\n",
       "      <td>13360</td>\n",
       "      <td>3157</td>\n",
       "      <td>208</td>\n",
       "      <td>16083</td>\n",
       "      <td>14398</td>\n",
       "      <td>12971</td>\n",
       "      <td>10677</td>\n",
       "      <td>9564</td>\n",
       "      <td>8366</td>\n",
       "      <td>7149</td>\n",
       "    </tr>\n",
       "    <tr>\n",
       "      <th>6</th>\n",
       "      <td>July</td>\n",
       "      <td>16189</td>\n",
       "      <td>4105</td>\n",
       "      <td>307</td>\n",
       "      <td>18205</td>\n",
       "      <td>16976</td>\n",
       "      <td>14796</td>\n",
       "      <td>14285</td>\n",
       "      <td>11982</td>\n",
       "      <td>10284</td>\n",
       "      <td>8620</td>\n",
       "    </tr>\n",
       "    <tr>\n",
       "      <th>7</th>\n",
       "      <td>August</td>\n",
       "      <td>12716</td>\n",
       "      <td>5251</td>\n",
       "      <td>479</td>\n",
       "      <td>17867</td>\n",
       "      <td>16492</td>\n",
       "      <td>13811</td>\n",
       "      <td>12553</td>\n",
       "      <td>11411</td>\n",
       "      <td>10385</td>\n",
       "      <td>8351</td>\n",
       "    </tr>\n",
       "    <tr>\n",
       "      <th>8</th>\n",
       "      <td>September</td>\n",
       "      <td>13435</td>\n",
       "      <td>6549</td>\n",
       "      <td>686</td>\n",
       "      <td>16824</td>\n",
       "      <td>15150</td>\n",
       "      <td>13840</td>\n",
       "      <td>11642</td>\n",
       "      <td>10415</td>\n",
       "      <td>9057</td>\n",
       "      <td>7811</td>\n",
       "    </tr>\n",
       "    <tr>\n",
       "      <th>9</th>\n",
       "      <td>October</td>\n",
       "      <td>13447</td>\n",
       "      <td>5094</td>\n",
       "      <td>831</td>\n",
       "      <td>17057</td>\n",
       "      <td>14701</td>\n",
       "      <td>14213</td>\n",
       "      <td>12100</td>\n",
       "      <td>10549</td>\n",
       "      <td>10041</td>\n",
       "      <td>8645</td>\n",
       "    </tr>\n",
       "    <tr>\n",
       "      <th>10</th>\n",
       "      <td>November</td>\n",
       "      <td>15556</td>\n",
       "      <td>7022</td>\n",
       "      <td>1413</td>\n",
       "      <td>19840</td>\n",
       "      <td>16584</td>\n",
       "      <td>16528</td>\n",
       "      <td>14259</td>\n",
       "      <td>12649</td>\n",
       "      <td>11431</td>\n",
       "      <td>10663</td>\n",
       "    </tr>\n",
       "    <tr>\n",
       "      <th>11</th>\n",
       "      <td>December</td>\n",
       "      <td>19527</td>\n",
       "      <td>8452</td>\n",
       "      <td>1776</td>\n",
       "      <td>22631</td>\n",
       "      <td>19474</td>\n",
       "      <td>19381</td>\n",
       "      <td>16558</td>\n",
       "      <td>14152</td>\n",
       "      <td>12988</td>\n",
       "      <td>11994</td>\n",
       "    </tr>\n",
       "  </tbody>\n",
       "</table>\n",
       "</div>"
      ],
      "text/plain": [
       "        MONTH   2022  2021   2020   2019   2018   2017   2016   2015   2014  \\\n",
       "0     January   3843  4700  20200  18205  17755  15799  13671  12100  11664   \n",
       "1    February   4524  5477  18241  17959  17757  15353  13661  11642  11510   \n",
       "2       March   6385  6642   5830  16214  17222  14667  12985  11133  10479   \n",
       "3       April  10053  6891     71  17134  15620  14260  11495  10091   9179   \n",
       "4         May  10900  1730     94  13642  12752  12255  10260   9505   7936   \n",
       "5        June  13360  3157    208  16083  14398  12971  10677   9564   8366   \n",
       "6        July  16189  4105    307  18205  16976  14796  14285  11982  10284   \n",
       "7      August  12716  5251    479  17867  16492  13811  12553  11411  10385   \n",
       "8   September  13435  6549    686  16824  15150  13840  11642  10415   9057   \n",
       "9     October  13447  5094    831  17057  14701  14213  12100  10549  10041   \n",
       "10   November  15556  7022   1413  19840  16584  16528  14259  12649  11431   \n",
       "11   December  19527  8452   1776  22631  19474  19381  16558  14152  12988   \n",
       "\n",
       "     2013  \n",
       "0   10785  \n",
       "1   10255  \n",
       "2    9545  \n",
       "3    7226  \n",
       "4    6627  \n",
       "5    7149  \n",
       "6    8620  \n",
       "7    8351  \n",
       "8    7811  \n",
       "9    8645  \n",
       "10  10663  \n",
       "11  11994  "
      ]
     },
     "execution_count": 3,
     "metadata": {},
     "output_type": "execute_result"
    }
   ],
   "source": [
    "df_2013"
   ]
  },
  {
   "cell_type": "code",
   "execution_count": 4,
   "metadata": {},
   "outputs": [
    {
     "name": "stdout",
     "output_type": "stream",
     "text": [
      "True\n"
     ]
    }
   ],
   "source": [
    "are_equal = df_2013.equals(df_2014)\n",
    "print(are_equal)"
   ]
  },
  {
   "cell_type": "code",
   "execution_count": 5,
   "metadata": {},
   "outputs": [
    {
     "name": "stdout",
     "output_type": "stream",
     "text": [
      "True\n"
     ]
    }
   ],
   "source": [
    "are_equal = df_2013.equals(df_2016)\n",
    "print(are_equal)"
   ]
  },
  {
   "cell_type": "code",
   "execution_count": 6,
   "metadata": {},
   "outputs": [
    {
     "name": "stdout",
     "output_type": "stream",
     "text": [
      "True\n"
     ]
    }
   ],
   "source": [
    "are_equal = df_2013.equals(df_2017)\n",
    "print(are_equal)"
   ]
  },
  {
   "cell_type": "code",
   "execution_count": 7,
   "metadata": {},
   "outputs": [
    {
     "name": "stdout",
     "output_type": "stream",
     "text": [
      "True\n"
     ]
    }
   ],
   "source": [
    "are_equal = df_2013.equals(df_2018)\n",
    "print(are_equal)"
   ]
  },
  {
   "cell_type": "code",
   "execution_count": 8,
   "metadata": {},
   "outputs": [
    {
     "name": "stdout",
     "output_type": "stream",
     "text": [
      "True\n"
     ]
    }
   ],
   "source": [
    "are_equal = df_2013.equals(df_2019)\n",
    "print(are_equal)"
   ]
  },
  {
   "cell_type": "code",
   "execution_count": 9,
   "metadata": {},
   "outputs": [
    {
     "name": "stdout",
     "output_type": "stream",
     "text": [
      "True\n"
     ]
    }
   ],
   "source": [
    "are_equal = df_2013.equals(df_2018)\n",
    "print(are_equal)"
   ]
  },
  {
   "cell_type": "code",
   "execution_count": 10,
   "metadata": {},
   "outputs": [
    {
     "name": "stdout",
     "output_type": "stream",
     "text": [
      "True\n"
     ]
    }
   ],
   "source": [
    "are_equal = df_2013.equals(df_2019)\n",
    "print(are_equal)"
   ]
  },
  {
   "cell_type": "code",
   "execution_count": 11,
   "metadata": {},
   "outputs": [
    {
     "name": "stdout",
     "output_type": "stream",
     "text": [
      "True\n"
     ]
    }
   ],
   "source": [
    "are_equal = df_2013.equals(df_2020)\n",
    "print(are_equal)"
   ]
  },
  {
   "cell_type": "code",
   "execution_count": 12,
   "metadata": {},
   "outputs": [
    {
     "name": "stdout",
     "output_type": "stream",
     "text": [
      "True\n"
     ]
    }
   ],
   "source": [
    "are_equal = df_2013.equals(df_2021)\n",
    "print(are_equal)"
   ]
  },
  {
   "cell_type": "code",
   "execution_count": 13,
   "metadata": {},
   "outputs": [
    {
     "name": "stdout",
     "output_type": "stream",
     "text": [
      "True\n"
     ]
    }
   ],
   "source": [
    "are_equal = df_2013.equals(df_2022)\n",
    "print(are_equal)"
   ]
  },
  {
   "cell_type": "markdown",
   "metadata": {},
   "source": [
    "- All the 'fee' data are the same."
   ]
  },
  {
   "cell_type": "code",
   "execution_count": 14,
   "metadata": {},
   "outputs": [
    {
     "data": {
      "text/html": [
       "<div>\n",
       "<style scoped>\n",
       "    .dataframe tbody tr th:only-of-type {\n",
       "        vertical-align: middle;\n",
       "    }\n",
       "\n",
       "    .dataframe tbody tr th {\n",
       "        vertical-align: top;\n",
       "    }\n",
       "\n",
       "    .dataframe thead th {\n",
       "        text-align: right;\n",
       "    }\n",
       "</style>\n",
       "<table border=\"1\" class=\"dataframe\">\n",
       "  <thead>\n",
       "    <tr style=\"text-align: right;\">\n",
       "      <th></th>\n",
       "      <th>MONTH</th>\n",
       "      <th>2022</th>\n",
       "      <th>2021</th>\n",
       "      <th>2020</th>\n",
       "      <th>2019</th>\n",
       "      <th>2018</th>\n",
       "      <th>2017</th>\n",
       "      <th>2016</th>\n",
       "      <th>2015</th>\n",
       "      <th>2014</th>\n",
       "      <th>2013</th>\n",
       "    </tr>\n",
       "  </thead>\n",
       "  <tbody>\n",
       "    <tr>\n",
       "      <th>0</th>\n",
       "      <td>January</td>\n",
       "      <td>3843</td>\n",
       "      <td>4700</td>\n",
       "      <td>20200</td>\n",
       "      <td>18205</td>\n",
       "      <td>17755</td>\n",
       "      <td>15799</td>\n",
       "      <td>13671</td>\n",
       "      <td>12100</td>\n",
       "      <td>11664</td>\n",
       "      <td>10785</td>\n",
       "    </tr>\n",
       "    <tr>\n",
       "      <th>1</th>\n",
       "      <td>February</td>\n",
       "      <td>4524</td>\n",
       "      <td>5477</td>\n",
       "      <td>18241</td>\n",
       "      <td>17959</td>\n",
       "      <td>17757</td>\n",
       "      <td>15353</td>\n",
       "      <td>13661</td>\n",
       "      <td>11642</td>\n",
       "      <td>11510</td>\n",
       "      <td>10255</td>\n",
       "    </tr>\n",
       "    <tr>\n",
       "      <th>2</th>\n",
       "      <td>March</td>\n",
       "      <td>6385</td>\n",
       "      <td>6642</td>\n",
       "      <td>5830</td>\n",
       "      <td>16214</td>\n",
       "      <td>17222</td>\n",
       "      <td>14667</td>\n",
       "      <td>12985</td>\n",
       "      <td>11133</td>\n",
       "      <td>10479</td>\n",
       "      <td>9545</td>\n",
       "    </tr>\n",
       "    <tr>\n",
       "      <th>3</th>\n",
       "      <td>April</td>\n",
       "      <td>10053</td>\n",
       "      <td>6891</td>\n",
       "      <td>71</td>\n",
       "      <td>17134</td>\n",
       "      <td>15620</td>\n",
       "      <td>14260</td>\n",
       "      <td>11495</td>\n",
       "      <td>10091</td>\n",
       "      <td>9179</td>\n",
       "      <td>7226</td>\n",
       "    </tr>\n",
       "    <tr>\n",
       "      <th>4</th>\n",
       "      <td>May</td>\n",
       "      <td>10900</td>\n",
       "      <td>1730</td>\n",
       "      <td>94</td>\n",
       "      <td>13642</td>\n",
       "      <td>12752</td>\n",
       "      <td>12255</td>\n",
       "      <td>10260</td>\n",
       "      <td>9505</td>\n",
       "      <td>7936</td>\n",
       "      <td>6627</td>\n",
       "    </tr>\n",
       "    <tr>\n",
       "      <th>5</th>\n",
       "      <td>June</td>\n",
       "      <td>13360</td>\n",
       "      <td>3157</td>\n",
       "      <td>208</td>\n",
       "      <td>16083</td>\n",
       "      <td>14398</td>\n",
       "      <td>12971</td>\n",
       "      <td>10677</td>\n",
       "      <td>9564</td>\n",
       "      <td>8366</td>\n",
       "      <td>7149</td>\n",
       "    </tr>\n",
       "    <tr>\n",
       "      <th>6</th>\n",
       "      <td>July</td>\n",
       "      <td>16189</td>\n",
       "      <td>4105</td>\n",
       "      <td>307</td>\n",
       "      <td>18205</td>\n",
       "      <td>16976</td>\n",
       "      <td>14796</td>\n",
       "      <td>14285</td>\n",
       "      <td>11982</td>\n",
       "      <td>10284</td>\n",
       "      <td>8620</td>\n",
       "    </tr>\n",
       "    <tr>\n",
       "      <th>7</th>\n",
       "      <td>August</td>\n",
       "      <td>12716</td>\n",
       "      <td>5251</td>\n",
       "      <td>479</td>\n",
       "      <td>17867</td>\n",
       "      <td>16492</td>\n",
       "      <td>13811</td>\n",
       "      <td>12553</td>\n",
       "      <td>11411</td>\n",
       "      <td>10385</td>\n",
       "      <td>8351</td>\n",
       "    </tr>\n",
       "    <tr>\n",
       "      <th>8</th>\n",
       "      <td>September</td>\n",
       "      <td>13435</td>\n",
       "      <td>6549</td>\n",
       "      <td>686</td>\n",
       "      <td>16824</td>\n",
       "      <td>15150</td>\n",
       "      <td>13840</td>\n",
       "      <td>11642</td>\n",
       "      <td>10415</td>\n",
       "      <td>9057</td>\n",
       "      <td>7811</td>\n",
       "    </tr>\n",
       "    <tr>\n",
       "      <th>9</th>\n",
       "      <td>October</td>\n",
       "      <td>13447</td>\n",
       "      <td>5094</td>\n",
       "      <td>831</td>\n",
       "      <td>17057</td>\n",
       "      <td>14701</td>\n",
       "      <td>14213</td>\n",
       "      <td>12100</td>\n",
       "      <td>10549</td>\n",
       "      <td>10041</td>\n",
       "      <td>8645</td>\n",
       "    </tr>\n",
       "    <tr>\n",
       "      <th>10</th>\n",
       "      <td>November</td>\n",
       "      <td>15556</td>\n",
       "      <td>7022</td>\n",
       "      <td>1413</td>\n",
       "      <td>19840</td>\n",
       "      <td>16584</td>\n",
       "      <td>16528</td>\n",
       "      <td>14259</td>\n",
       "      <td>12649</td>\n",
       "      <td>11431</td>\n",
       "      <td>10663</td>\n",
       "    </tr>\n",
       "    <tr>\n",
       "      <th>11</th>\n",
       "      <td>December</td>\n",
       "      <td>19527</td>\n",
       "      <td>8452</td>\n",
       "      <td>1776</td>\n",
       "      <td>22631</td>\n",
       "      <td>19474</td>\n",
       "      <td>19381</td>\n",
       "      <td>16558</td>\n",
       "      <td>14152</td>\n",
       "      <td>12988</td>\n",
       "      <td>11994</td>\n",
       "    </tr>\n",
       "  </tbody>\n",
       "</table>\n",
       "</div>"
      ],
      "text/plain": [
       "        MONTH   2022  2021   2020   2019   2018   2017   2016   2015   2014  \\\n",
       "0     January   3843  4700  20200  18205  17755  15799  13671  12100  11664   \n",
       "1    February   4524  5477  18241  17959  17757  15353  13661  11642  11510   \n",
       "2       March   6385  6642   5830  16214  17222  14667  12985  11133  10479   \n",
       "3       April  10053  6891     71  17134  15620  14260  11495  10091   9179   \n",
       "4         May  10900  1730     94  13642  12752  12255  10260   9505   7936   \n",
       "5        June  13360  3157    208  16083  14398  12971  10677   9564   8366   \n",
       "6        July  16189  4105    307  18205  16976  14796  14285  11982  10284   \n",
       "7      August  12716  5251    479  17867  16492  13811  12553  11411  10385   \n",
       "8   September  13435  6549    686  16824  15150  13840  11642  10415   9057   \n",
       "9     October  13447  5094    831  17057  14701  14213  12100  10549  10041   \n",
       "10   November  15556  7022   1413  19840  16584  16528  14259  12649  11431   \n",
       "11   December  19527  8452   1776  22631  19474  19381  16558  14152  12988   \n",
       "\n",
       "     2013  \n",
       "0   10785  \n",
       "1   10255  \n",
       "2    9545  \n",
       "3    7226  \n",
       "4    6627  \n",
       "5    7149  \n",
       "6    8620  \n",
       "7    8351  \n",
       "8    7811  \n",
       "9    8645  \n",
       "10  10663  \n",
       "11  11994  "
      ]
     },
     "execution_count": 14,
     "metadata": {},
     "output_type": "execute_result"
    }
   ],
   "source": [
    "df=df_2013\n",
    "df"
   ]
  },
  {
   "cell_type": "code",
   "execution_count": 15,
   "metadata": {},
   "outputs": [],
   "source": [
    "# df.to_csv(\"temp.csv\",index=False)"
   ]
  },
  {
   "cell_type": "markdown",
   "metadata": {},
   "source": [
    "# 1"
   ]
  },
  {
   "cell_type": "code",
   "execution_count": 16,
   "metadata": {},
   "outputs": [
    {
     "data": {
      "text/html": [
       "<div>\n",
       "<style scoped>\n",
       "    .dataframe tbody tr th:only-of-type {\n",
       "        vertical-align: middle;\n",
       "    }\n",
       "\n",
       "    .dataframe tbody tr th {\n",
       "        vertical-align: top;\n",
       "    }\n",
       "\n",
       "    .dataframe thead th {\n",
       "        text-align: right;\n",
       "    }\n",
       "</style>\n",
       "<table border=\"1\" class=\"dataframe\">\n",
       "  <thead>\n",
       "    <tr style=\"text-align: right;\">\n",
       "      <th></th>\n",
       "      <th>MONTH</th>\n",
       "      <th>2022</th>\n",
       "      <th>2021</th>\n",
       "      <th>2020</th>\n",
       "      <th>2019</th>\n",
       "      <th>2018</th>\n",
       "      <th>2017</th>\n",
       "      <th>2016</th>\n",
       "      <th>2015</th>\n",
       "      <th>2014</th>\n",
       "      <th>2013</th>\n",
       "    </tr>\n",
       "  </thead>\n",
       "  <tbody>\n",
       "    <tr>\n",
       "      <th>0</th>\n",
       "      <td>January</td>\n",
       "      <td>3843</td>\n",
       "      <td>4700</td>\n",
       "      <td>20200</td>\n",
       "      <td>18205</td>\n",
       "      <td>17755</td>\n",
       "      <td>15799</td>\n",
       "      <td>13671</td>\n",
       "      <td>12100</td>\n",
       "      <td>11664</td>\n",
       "      <td>10785</td>\n",
       "    </tr>\n",
       "    <tr>\n",
       "      <th>1</th>\n",
       "      <td>February</td>\n",
       "      <td>4524</td>\n",
       "      <td>5477</td>\n",
       "      <td>18241</td>\n",
       "      <td>17959</td>\n",
       "      <td>17757</td>\n",
       "      <td>15353</td>\n",
       "      <td>13661</td>\n",
       "      <td>11642</td>\n",
       "      <td>11510</td>\n",
       "      <td>10255</td>\n",
       "    </tr>\n",
       "    <tr>\n",
       "      <th>2</th>\n",
       "      <td>March</td>\n",
       "      <td>6385</td>\n",
       "      <td>6642</td>\n",
       "      <td>5830</td>\n",
       "      <td>16214</td>\n",
       "      <td>17222</td>\n",
       "      <td>14667</td>\n",
       "      <td>12985</td>\n",
       "      <td>11133</td>\n",
       "      <td>10479</td>\n",
       "      <td>9545</td>\n",
       "    </tr>\n",
       "    <tr>\n",
       "      <th>3</th>\n",
       "      <td>April</td>\n",
       "      <td>10053</td>\n",
       "      <td>6891</td>\n",
       "      <td>71</td>\n",
       "      <td>17134</td>\n",
       "      <td>15620</td>\n",
       "      <td>14260</td>\n",
       "      <td>11495</td>\n",
       "      <td>10091</td>\n",
       "      <td>9179</td>\n",
       "      <td>7226</td>\n",
       "    </tr>\n",
       "    <tr>\n",
       "      <th>4</th>\n",
       "      <td>May</td>\n",
       "      <td>10900</td>\n",
       "      <td>1730</td>\n",
       "      <td>94</td>\n",
       "      <td>13642</td>\n",
       "      <td>12752</td>\n",
       "      <td>12255</td>\n",
       "      <td>10260</td>\n",
       "      <td>9505</td>\n",
       "      <td>7936</td>\n",
       "      <td>6627</td>\n",
       "    </tr>\n",
       "    <tr>\n",
       "      <th>5</th>\n",
       "      <td>June</td>\n",
       "      <td>13360</td>\n",
       "      <td>3157</td>\n",
       "      <td>208</td>\n",
       "      <td>16083</td>\n",
       "      <td>14398</td>\n",
       "      <td>12971</td>\n",
       "      <td>10677</td>\n",
       "      <td>9564</td>\n",
       "      <td>8366</td>\n",
       "      <td>7149</td>\n",
       "    </tr>\n",
       "    <tr>\n",
       "      <th>6</th>\n",
       "      <td>July</td>\n",
       "      <td>16189</td>\n",
       "      <td>4105</td>\n",
       "      <td>307</td>\n",
       "      <td>18205</td>\n",
       "      <td>16976</td>\n",
       "      <td>14796</td>\n",
       "      <td>14285</td>\n",
       "      <td>11982</td>\n",
       "      <td>10284</td>\n",
       "      <td>8620</td>\n",
       "    </tr>\n",
       "    <tr>\n",
       "      <th>7</th>\n",
       "      <td>August</td>\n",
       "      <td>12716</td>\n",
       "      <td>5251</td>\n",
       "      <td>479</td>\n",
       "      <td>17867</td>\n",
       "      <td>16492</td>\n",
       "      <td>13811</td>\n",
       "      <td>12553</td>\n",
       "      <td>11411</td>\n",
       "      <td>10385</td>\n",
       "      <td>8351</td>\n",
       "    </tr>\n",
       "    <tr>\n",
       "      <th>8</th>\n",
       "      <td>September</td>\n",
       "      <td>13435</td>\n",
       "      <td>6549</td>\n",
       "      <td>686</td>\n",
       "      <td>16824</td>\n",
       "      <td>15150</td>\n",
       "      <td>13840</td>\n",
       "      <td>11642</td>\n",
       "      <td>10415</td>\n",
       "      <td>9057</td>\n",
       "      <td>7811</td>\n",
       "    </tr>\n",
       "    <tr>\n",
       "      <th>9</th>\n",
       "      <td>October</td>\n",
       "      <td>13447</td>\n",
       "      <td>5094</td>\n",
       "      <td>831</td>\n",
       "      <td>17057</td>\n",
       "      <td>14701</td>\n",
       "      <td>14213</td>\n",
       "      <td>12100</td>\n",
       "      <td>10549</td>\n",
       "      <td>10041</td>\n",
       "      <td>8645</td>\n",
       "    </tr>\n",
       "    <tr>\n",
       "      <th>10</th>\n",
       "      <td>November</td>\n",
       "      <td>15556</td>\n",
       "      <td>7022</td>\n",
       "      <td>1413</td>\n",
       "      <td>19840</td>\n",
       "      <td>16584</td>\n",
       "      <td>16528</td>\n",
       "      <td>14259</td>\n",
       "      <td>12649</td>\n",
       "      <td>11431</td>\n",
       "      <td>10663</td>\n",
       "    </tr>\n",
       "    <tr>\n",
       "      <th>11</th>\n",
       "      <td>December</td>\n",
       "      <td>19527</td>\n",
       "      <td>8452</td>\n",
       "      <td>1776</td>\n",
       "      <td>22631</td>\n",
       "      <td>19474</td>\n",
       "      <td>19381</td>\n",
       "      <td>16558</td>\n",
       "      <td>14152</td>\n",
       "      <td>12988</td>\n",
       "      <td>11994</td>\n",
       "    </tr>\n",
       "  </tbody>\n",
       "</table>\n",
       "</div>"
      ],
      "text/plain": [
       "        MONTH   2022  2021   2020   2019   2018   2017   2016   2015   2014  \\\n",
       "0     January   3843  4700  20200  18205  17755  15799  13671  12100  11664   \n",
       "1    February   4524  5477  18241  17959  17757  15353  13661  11642  11510   \n",
       "2       March   6385  6642   5830  16214  17222  14667  12985  11133  10479   \n",
       "3       April  10053  6891     71  17134  15620  14260  11495  10091   9179   \n",
       "4         May  10900  1730     94  13642  12752  12255  10260   9505   7936   \n",
       "5        June  13360  3157    208  16083  14398  12971  10677   9564   8366   \n",
       "6        July  16189  4105    307  18205  16976  14796  14285  11982  10284   \n",
       "7      August  12716  5251    479  17867  16492  13811  12553  11411  10385   \n",
       "8   September  13435  6549    686  16824  15150  13840  11642  10415   9057   \n",
       "9     October  13447  5094    831  17057  14701  14213  12100  10549  10041   \n",
       "10   November  15556  7022   1413  19840  16584  16528  14259  12649  11431   \n",
       "11   December  19527  8452   1776  22631  19474  19381  16558  14152  12988   \n",
       "\n",
       "     2013  \n",
       "0   10785  \n",
       "1   10255  \n",
       "2    9545  \n",
       "3    7226  \n",
       "4    6627  \n",
       "5    7149  \n",
       "6    8620  \n",
       "7    8351  \n",
       "8    7811  \n",
       "9    8645  \n",
       "10  10663  \n",
       "11  11994  "
      ]
     },
     "execution_count": 16,
     "metadata": {},
     "output_type": "execute_result"
    }
   ],
   "source": [
    "df"
   ]
  },
  {
   "cell_type": "markdown",
   "metadata": {},
   "source": [
    "- Dropping column 2015, as directed in the clarifications"
   ]
  },
  {
   "cell_type": "code",
   "execution_count": 17,
   "metadata": {},
   "outputs": [],
   "source": [
    "df = df.drop(2015, axis=1)"
   ]
  },
  {
   "cell_type": "code",
   "execution_count": 18,
   "metadata": {},
   "outputs": [
    {
     "data": {
      "text/html": [
       "<div>\n",
       "<style scoped>\n",
       "    .dataframe tbody tr th:only-of-type {\n",
       "        vertical-align: middle;\n",
       "    }\n",
       "\n",
       "    .dataframe tbody tr th {\n",
       "        vertical-align: top;\n",
       "    }\n",
       "\n",
       "    .dataframe thead th {\n",
       "        text-align: right;\n",
       "    }\n",
       "</style>\n",
       "<table border=\"1\" class=\"dataframe\">\n",
       "  <thead>\n",
       "    <tr style=\"text-align: right;\">\n",
       "      <th></th>\n",
       "      <th>MONTH</th>\n",
       "      <th>2022</th>\n",
       "      <th>2021</th>\n",
       "      <th>2020</th>\n",
       "      <th>2019</th>\n",
       "      <th>2018</th>\n",
       "      <th>2017</th>\n",
       "      <th>2016</th>\n",
       "      <th>2014</th>\n",
       "      <th>2013</th>\n",
       "    </tr>\n",
       "  </thead>\n",
       "  <tbody>\n",
       "    <tr>\n",
       "      <th>0</th>\n",
       "      <td>January</td>\n",
       "      <td>3843</td>\n",
       "      <td>4700</td>\n",
       "      <td>20200</td>\n",
       "      <td>18205</td>\n",
       "      <td>17755</td>\n",
       "      <td>15799</td>\n",
       "      <td>13671</td>\n",
       "      <td>11664</td>\n",
       "      <td>10785</td>\n",
       "    </tr>\n",
       "    <tr>\n",
       "      <th>1</th>\n",
       "      <td>February</td>\n",
       "      <td>4524</td>\n",
       "      <td>5477</td>\n",
       "      <td>18241</td>\n",
       "      <td>17959</td>\n",
       "      <td>17757</td>\n",
       "      <td>15353</td>\n",
       "      <td>13661</td>\n",
       "      <td>11510</td>\n",
       "      <td>10255</td>\n",
       "    </tr>\n",
       "    <tr>\n",
       "      <th>2</th>\n",
       "      <td>March</td>\n",
       "      <td>6385</td>\n",
       "      <td>6642</td>\n",
       "      <td>5830</td>\n",
       "      <td>16214</td>\n",
       "      <td>17222</td>\n",
       "      <td>14667</td>\n",
       "      <td>12985</td>\n",
       "      <td>10479</td>\n",
       "      <td>9545</td>\n",
       "    </tr>\n",
       "    <tr>\n",
       "      <th>3</th>\n",
       "      <td>April</td>\n",
       "      <td>10053</td>\n",
       "      <td>6891</td>\n",
       "      <td>71</td>\n",
       "      <td>17134</td>\n",
       "      <td>15620</td>\n",
       "      <td>14260</td>\n",
       "      <td>11495</td>\n",
       "      <td>9179</td>\n",
       "      <td>7226</td>\n",
       "    </tr>\n",
       "    <tr>\n",
       "      <th>4</th>\n",
       "      <td>May</td>\n",
       "      <td>10900</td>\n",
       "      <td>1730</td>\n",
       "      <td>94</td>\n",
       "      <td>13642</td>\n",
       "      <td>12752</td>\n",
       "      <td>12255</td>\n",
       "      <td>10260</td>\n",
       "      <td>7936</td>\n",
       "      <td>6627</td>\n",
       "    </tr>\n",
       "    <tr>\n",
       "      <th>5</th>\n",
       "      <td>June</td>\n",
       "      <td>13360</td>\n",
       "      <td>3157</td>\n",
       "      <td>208</td>\n",
       "      <td>16083</td>\n",
       "      <td>14398</td>\n",
       "      <td>12971</td>\n",
       "      <td>10677</td>\n",
       "      <td>8366</td>\n",
       "      <td>7149</td>\n",
       "    </tr>\n",
       "    <tr>\n",
       "      <th>6</th>\n",
       "      <td>July</td>\n",
       "      <td>16189</td>\n",
       "      <td>4105</td>\n",
       "      <td>307</td>\n",
       "      <td>18205</td>\n",
       "      <td>16976</td>\n",
       "      <td>14796</td>\n",
       "      <td>14285</td>\n",
       "      <td>10284</td>\n",
       "      <td>8620</td>\n",
       "    </tr>\n",
       "    <tr>\n",
       "      <th>7</th>\n",
       "      <td>August</td>\n",
       "      <td>12716</td>\n",
       "      <td>5251</td>\n",
       "      <td>479</td>\n",
       "      <td>17867</td>\n",
       "      <td>16492</td>\n",
       "      <td>13811</td>\n",
       "      <td>12553</td>\n",
       "      <td>10385</td>\n",
       "      <td>8351</td>\n",
       "    </tr>\n",
       "    <tr>\n",
       "      <th>8</th>\n",
       "      <td>September</td>\n",
       "      <td>13435</td>\n",
       "      <td>6549</td>\n",
       "      <td>686</td>\n",
       "      <td>16824</td>\n",
       "      <td>15150</td>\n",
       "      <td>13840</td>\n",
       "      <td>11642</td>\n",
       "      <td>9057</td>\n",
       "      <td>7811</td>\n",
       "    </tr>\n",
       "    <tr>\n",
       "      <th>9</th>\n",
       "      <td>October</td>\n",
       "      <td>13447</td>\n",
       "      <td>5094</td>\n",
       "      <td>831</td>\n",
       "      <td>17057</td>\n",
       "      <td>14701</td>\n",
       "      <td>14213</td>\n",
       "      <td>12100</td>\n",
       "      <td>10041</td>\n",
       "      <td>8645</td>\n",
       "    </tr>\n",
       "    <tr>\n",
       "      <th>10</th>\n",
       "      <td>November</td>\n",
       "      <td>15556</td>\n",
       "      <td>7022</td>\n",
       "      <td>1413</td>\n",
       "      <td>19840</td>\n",
       "      <td>16584</td>\n",
       "      <td>16528</td>\n",
       "      <td>14259</td>\n",
       "      <td>11431</td>\n",
       "      <td>10663</td>\n",
       "    </tr>\n",
       "    <tr>\n",
       "      <th>11</th>\n",
       "      <td>December</td>\n",
       "      <td>19527</td>\n",
       "      <td>8452</td>\n",
       "      <td>1776</td>\n",
       "      <td>22631</td>\n",
       "      <td>19474</td>\n",
       "      <td>19381</td>\n",
       "      <td>16558</td>\n",
       "      <td>12988</td>\n",
       "      <td>11994</td>\n",
       "    </tr>\n",
       "  </tbody>\n",
       "</table>\n",
       "</div>"
      ],
      "text/plain": [
       "        MONTH   2022  2021   2020   2019   2018   2017   2016   2014   2013\n",
       "0     January   3843  4700  20200  18205  17755  15799  13671  11664  10785\n",
       "1    February   4524  5477  18241  17959  17757  15353  13661  11510  10255\n",
       "2       March   6385  6642   5830  16214  17222  14667  12985  10479   9545\n",
       "3       April  10053  6891     71  17134  15620  14260  11495   9179   7226\n",
       "4         May  10900  1730     94  13642  12752  12255  10260   7936   6627\n",
       "5        June  13360  3157    208  16083  14398  12971  10677   8366   7149\n",
       "6        July  16189  4105    307  18205  16976  14796  14285  10284   8620\n",
       "7      August  12716  5251    479  17867  16492  13811  12553  10385   8351\n",
       "8   September  13435  6549    686  16824  15150  13840  11642   9057   7811\n",
       "9     October  13447  5094    831  17057  14701  14213  12100  10041   8645\n",
       "10   November  15556  7022   1413  19840  16584  16528  14259  11431  10663\n",
       "11   December  19527  8452   1776  22631  19474  19381  16558  12988  11994"
      ]
     },
     "execution_count": 18,
     "metadata": {},
     "output_type": "execute_result"
    }
   ],
   "source": [
    "df"
   ]
  },
  {
   "cell_type": "code",
   "execution_count": 19,
   "metadata": {},
   "outputs": [
    {
     "data": {
      "text/html": [
       "<div>\n",
       "<style scoped>\n",
       "    .dataframe tbody tr th:only-of-type {\n",
       "        vertical-align: middle;\n",
       "    }\n",
       "\n",
       "    .dataframe tbody tr th {\n",
       "        vertical-align: top;\n",
       "    }\n",
       "\n",
       "    .dataframe thead th {\n",
       "        text-align: right;\n",
       "    }\n",
       "</style>\n",
       "<table border=\"1\" class=\"dataframe\">\n",
       "  <thead>\n",
       "    <tr style=\"text-align: right;\">\n",
       "      <th></th>\n",
       "      <th>2022</th>\n",
       "      <th>2021</th>\n",
       "      <th>2020</th>\n",
       "      <th>2019</th>\n",
       "      <th>2018</th>\n",
       "      <th>2017</th>\n",
       "      <th>2016</th>\n",
       "      <th>2014</th>\n",
       "      <th>2013</th>\n",
       "    </tr>\n",
       "  </thead>\n",
       "  <tbody>\n",
       "    <tr>\n",
       "      <th>Peak Month</th>\n",
       "      <td>December</td>\n",
       "      <td>December</td>\n",
       "      <td>January</td>\n",
       "      <td>December</td>\n",
       "      <td>December</td>\n",
       "      <td>December</td>\n",
       "      <td>December</td>\n",
       "      <td>December</td>\n",
       "      <td>December</td>\n",
       "    </tr>\n",
       "    <tr>\n",
       "      <th>Peak Value</th>\n",
       "      <td>19527</td>\n",
       "      <td>8452</td>\n",
       "      <td>20200</td>\n",
       "      <td>22631</td>\n",
       "      <td>19474</td>\n",
       "      <td>19381</td>\n",
       "      <td>16558</td>\n",
       "      <td>12988</td>\n",
       "      <td>11994</td>\n",
       "    </tr>\n",
       "    <tr>\n",
       "      <th>Lean Month</th>\n",
       "      <td>January</td>\n",
       "      <td>May</td>\n",
       "      <td>April</td>\n",
       "      <td>May</td>\n",
       "      <td>May</td>\n",
       "      <td>May</td>\n",
       "      <td>May</td>\n",
       "      <td>May</td>\n",
       "      <td>May</td>\n",
       "    </tr>\n",
       "    <tr>\n",
       "      <th>Lean Value</th>\n",
       "      <td>3843</td>\n",
       "      <td>1730</td>\n",
       "      <td>71</td>\n",
       "      <td>13642</td>\n",
       "      <td>12752</td>\n",
       "      <td>12255</td>\n",
       "      <td>10260</td>\n",
       "      <td>7936</td>\n",
       "      <td>6627</td>\n",
       "    </tr>\n",
       "  </tbody>\n",
       "</table>\n",
       "</div>"
      ],
      "text/plain": [
       "                2022      2021     2020      2019      2018      2017  \\\n",
       "Peak Month  December  December  January  December  December  December   \n",
       "Peak Value     19527      8452    20200     22631     19474     19381   \n",
       "Lean Month   January       May    April       May       May       May   \n",
       "Lean Value      3843      1730       71     13642     12752     12255   \n",
       "\n",
       "                2016      2014      2013  \n",
       "Peak Month  December  December  December  \n",
       "Peak Value     16558     12988     11994  \n",
       "Lean Month       May       May       May  \n",
       "Lean Value     10260      7936      6627  "
      ]
     },
     "execution_count": 19,
     "metadata": {},
     "output_type": "execute_result"
    }
   ],
   "source": [
    "# Set the 'MONTH' column as the index\n",
    "df.set_index('MONTH', inplace=True)\n",
    "\n",
    "# Iterate over each year (each column) and find the peak and lean months\n",
    "peak_lean_months = {}\n",
    "for year in df.columns:\n",
    "    # Find the month with the maximum fee (peak month)\n",
    "    peak_month = df[year].idxmax()\n",
    "    peak_value = df[year].max()\n",
    "    \n",
    "    # Find the month with the minimum fee (lean month)\n",
    "    lean_month = df[year].idxmin()\n",
    "    lean_value = df[year].min()\n",
    "    \n",
    "    peak_lean_months[year] = {\n",
    "        'Peak Month': peak_month,\n",
    "        'Peak Value': peak_value,\n",
    "        'Lean Month': lean_month,\n",
    "        'Lean Value': lean_value\n",
    "    }\n",
    "\n",
    "# Display the result\n",
    "# for year, months in peak_lean_months.items():\n",
    "#     print(f\"{year}:\")\n",
    "#     print(f\"  Peak Month: {months['Peak Month']} ({months['Peak Value']})\")\n",
    "#     print(f\"  Lean Month: {months['Lean Month']} ({months['Lean Value']})\")\n",
    "#     print()\n",
    "\n",
    "peak_lean_df = pd.DataFrame(peak_lean_months)\n",
    "\n",
    "# Display the resulting DataFrame\n",
    "# print(peak_lean_df)\n",
    "peak_lean_df"
   ]
  },
  {
   "cell_type": "code",
   "execution_count": 20,
   "metadata": {},
   "outputs": [],
   "source": [
    "peak_lean_df.to_csv(\"1_Lean_Peak_Months.csv\")"
   ]
  },
  {
   "cell_type": "code",
   "execution_count": 21,
   "metadata": {},
   "outputs": [
    {
     "data": {
      "application/vnd.plotly.v1+json": {
       "config": {
        "plotlyServerURL": "https://plot.ly"
       },
       "data": [
        {
         "hoverinfo": "text+x+y",
         "mode": "lines+markers",
         "name": "2022",
         "text": [
          3843,
          4524,
          6385,
          10053,
          10900,
          13360,
          16189,
          12716,
          13435,
          13447,
          15556,
          19527
         ],
         "type": "scatter",
         "x": [
          "January",
          "February",
          "March",
          "April",
          "May",
          "June",
          "July",
          "August",
          "September",
          "October",
          "November",
          "December"
         ],
         "y": [
          3843,
          4524,
          6385,
          10053,
          10900,
          13360,
          16189,
          12716,
          13435,
          13447,
          15556,
          19527
         ]
        },
        {
         "hoverinfo": "text",
         "marker": {
          "color": "green",
          "size": 12
         },
         "mode": "markers",
         "name": "2022 Peak",
         "text": "Peak: December - 19527",
         "type": "scatter",
         "x": [
          "December"
         ],
         "y": [
          19527
         ]
        },
        {
         "hoverinfo": "text",
         "marker": {
          "color": "red",
          "size": 12
         },
         "mode": "markers",
         "name": "2022 Lean",
         "text": "Lean: January - 3843",
         "type": "scatter",
         "x": [
          "January"
         ],
         "y": [
          3843
         ]
        },
        {
         "hoverinfo": "text+x+y",
         "mode": "lines+markers",
         "name": "2021",
         "text": [
          4700,
          5477,
          6642,
          6891,
          1730,
          3157,
          4105,
          5251,
          6549,
          5094,
          7022,
          8452
         ],
         "type": "scatter",
         "x": [
          "January",
          "February",
          "March",
          "April",
          "May",
          "June",
          "July",
          "August",
          "September",
          "October",
          "November",
          "December"
         ],
         "y": [
          4700,
          5477,
          6642,
          6891,
          1730,
          3157,
          4105,
          5251,
          6549,
          5094,
          7022,
          8452
         ]
        },
        {
         "hoverinfo": "text",
         "marker": {
          "color": "green",
          "size": 12
         },
         "mode": "markers",
         "name": "2021 Peak",
         "text": "Peak: December - 8452",
         "type": "scatter",
         "x": [
          "December"
         ],
         "y": [
          8452
         ]
        },
        {
         "hoverinfo": "text",
         "marker": {
          "color": "red",
          "size": 12
         },
         "mode": "markers",
         "name": "2021 Lean",
         "text": "Lean: May - 1730",
         "type": "scatter",
         "x": [
          "May"
         ],
         "y": [
          1730
         ]
        },
        {
         "hoverinfo": "text+x+y",
         "mode": "lines+markers",
         "name": "2020",
         "text": [
          20200,
          18241,
          5830,
          71,
          94,
          208,
          307,
          479,
          686,
          831,
          1413,
          1776
         ],
         "type": "scatter",
         "x": [
          "January",
          "February",
          "March",
          "April",
          "May",
          "June",
          "July",
          "August",
          "September",
          "October",
          "November",
          "December"
         ],
         "y": [
          20200,
          18241,
          5830,
          71,
          94,
          208,
          307,
          479,
          686,
          831,
          1413,
          1776
         ]
        },
        {
         "hoverinfo": "text",
         "marker": {
          "color": "green",
          "size": 12
         },
         "mode": "markers",
         "name": "2020 Peak",
         "text": "Peak: January - 20200",
         "type": "scatter",
         "x": [
          "January"
         ],
         "y": [
          20200
         ]
        },
        {
         "hoverinfo": "text",
         "marker": {
          "color": "red",
          "size": 12
         },
         "mode": "markers",
         "name": "2020 Lean",
         "text": "Lean: April - 71",
         "type": "scatter",
         "x": [
          "April"
         ],
         "y": [
          71
         ]
        },
        {
         "hoverinfo": "text+x+y",
         "mode": "lines+markers",
         "name": "2019",
         "text": [
          18205,
          17959,
          16214,
          17134,
          13642,
          16083,
          18205,
          17867,
          16824,
          17057,
          19840,
          22631
         ],
         "type": "scatter",
         "x": [
          "January",
          "February",
          "March",
          "April",
          "May",
          "June",
          "July",
          "August",
          "September",
          "October",
          "November",
          "December"
         ],
         "y": [
          18205,
          17959,
          16214,
          17134,
          13642,
          16083,
          18205,
          17867,
          16824,
          17057,
          19840,
          22631
         ]
        },
        {
         "hoverinfo": "text",
         "marker": {
          "color": "green",
          "size": 12
         },
         "mode": "markers",
         "name": "2019 Peak",
         "text": "Peak: December - 22631",
         "type": "scatter",
         "x": [
          "December"
         ],
         "y": [
          22631
         ]
        },
        {
         "hoverinfo": "text",
         "marker": {
          "color": "red",
          "size": 12
         },
         "mode": "markers",
         "name": "2019 Lean",
         "text": "Lean: May - 13642",
         "type": "scatter",
         "x": [
          "May"
         ],
         "y": [
          13642
         ]
        },
        {
         "hoverinfo": "text+x+y",
         "mode": "lines+markers",
         "name": "2018",
         "text": [
          17755,
          17757,
          17222,
          15620,
          12752,
          14398,
          16976,
          16492,
          15150,
          14701,
          16584,
          19474
         ],
         "type": "scatter",
         "x": [
          "January",
          "February",
          "March",
          "April",
          "May",
          "June",
          "July",
          "August",
          "September",
          "October",
          "November",
          "December"
         ],
         "y": [
          17755,
          17757,
          17222,
          15620,
          12752,
          14398,
          16976,
          16492,
          15150,
          14701,
          16584,
          19474
         ]
        },
        {
         "hoverinfo": "text",
         "marker": {
          "color": "green",
          "size": 12
         },
         "mode": "markers",
         "name": "2018 Peak",
         "text": "Peak: December - 19474",
         "type": "scatter",
         "x": [
          "December"
         ],
         "y": [
          19474
         ]
        },
        {
         "hoverinfo": "text",
         "marker": {
          "color": "red",
          "size": 12
         },
         "mode": "markers",
         "name": "2018 Lean",
         "text": "Lean: May - 12752",
         "type": "scatter",
         "x": [
          "May"
         ],
         "y": [
          12752
         ]
        },
        {
         "hoverinfo": "text+x+y",
         "mode": "lines+markers",
         "name": "2017",
         "text": [
          15799,
          15353,
          14667,
          14260,
          12255,
          12971,
          14796,
          13811,
          13840,
          14213,
          16528,
          19381
         ],
         "type": "scatter",
         "x": [
          "January",
          "February",
          "March",
          "April",
          "May",
          "June",
          "July",
          "August",
          "September",
          "October",
          "November",
          "December"
         ],
         "y": [
          15799,
          15353,
          14667,
          14260,
          12255,
          12971,
          14796,
          13811,
          13840,
          14213,
          16528,
          19381
         ]
        },
        {
         "hoverinfo": "text",
         "marker": {
          "color": "green",
          "size": 12
         },
         "mode": "markers",
         "name": "2017 Peak",
         "text": "Peak: December - 19381",
         "type": "scatter",
         "x": [
          "December"
         ],
         "y": [
          19381
         ]
        },
        {
         "hoverinfo": "text",
         "marker": {
          "color": "red",
          "size": 12
         },
         "mode": "markers",
         "name": "2017 Lean",
         "text": "Lean: May - 12255",
         "type": "scatter",
         "x": [
          "May"
         ],
         "y": [
          12255
         ]
        },
        {
         "hoverinfo": "text+x+y",
         "mode": "lines+markers",
         "name": "2016",
         "text": [
          13671,
          13661,
          12985,
          11495,
          10260,
          10677,
          14285,
          12553,
          11642,
          12100,
          14259,
          16558
         ],
         "type": "scatter",
         "x": [
          "January",
          "February",
          "March",
          "April",
          "May",
          "June",
          "July",
          "August",
          "September",
          "October",
          "November",
          "December"
         ],
         "y": [
          13671,
          13661,
          12985,
          11495,
          10260,
          10677,
          14285,
          12553,
          11642,
          12100,
          14259,
          16558
         ]
        },
        {
         "hoverinfo": "text",
         "marker": {
          "color": "green",
          "size": 12
         },
         "mode": "markers",
         "name": "2016 Peak",
         "text": "Peak: December - 16558",
         "type": "scatter",
         "x": [
          "December"
         ],
         "y": [
          16558
         ]
        },
        {
         "hoverinfo": "text",
         "marker": {
          "color": "red",
          "size": 12
         },
         "mode": "markers",
         "name": "2016 Lean",
         "text": "Lean: May - 10260",
         "type": "scatter",
         "x": [
          "May"
         ],
         "y": [
          10260
         ]
        },
        {
         "hoverinfo": "text+x+y",
         "mode": "lines+markers",
         "name": "2014",
         "text": [
          11664,
          11510,
          10479,
          9179,
          7936,
          8366,
          10284,
          10385,
          9057,
          10041,
          11431,
          12988
         ],
         "type": "scatter",
         "x": [
          "January",
          "February",
          "March",
          "April",
          "May",
          "June",
          "July",
          "August",
          "September",
          "October",
          "November",
          "December"
         ],
         "y": [
          11664,
          11510,
          10479,
          9179,
          7936,
          8366,
          10284,
          10385,
          9057,
          10041,
          11431,
          12988
         ]
        },
        {
         "hoverinfo": "text",
         "marker": {
          "color": "green",
          "size": 12
         },
         "mode": "markers",
         "name": "2014 Peak",
         "text": "Peak: December - 12988",
         "type": "scatter",
         "x": [
          "December"
         ],
         "y": [
          12988
         ]
        },
        {
         "hoverinfo": "text",
         "marker": {
          "color": "red",
          "size": 12
         },
         "mode": "markers",
         "name": "2014 Lean",
         "text": "Lean: May - 7936",
         "type": "scatter",
         "x": [
          "May"
         ],
         "y": [
          7936
         ]
        },
        {
         "hoverinfo": "text+x+y",
         "mode": "lines+markers",
         "name": "2013",
         "text": [
          10785,
          10255,
          9545,
          7226,
          6627,
          7149,
          8620,
          8351,
          7811,
          8645,
          10663,
          11994
         ],
         "type": "scatter",
         "x": [
          "January",
          "February",
          "March",
          "April",
          "May",
          "June",
          "July",
          "August",
          "September",
          "October",
          "November",
          "December"
         ],
         "y": [
          10785,
          10255,
          9545,
          7226,
          6627,
          7149,
          8620,
          8351,
          7811,
          8645,
          10663,
          11994
         ]
        },
        {
         "hoverinfo": "text",
         "marker": {
          "color": "green",
          "size": 12
         },
         "mode": "markers",
         "name": "2013 Peak",
         "text": "Peak: December - 11994",
         "type": "scatter",
         "x": [
          "December"
         ],
         "y": [
          11994
         ]
        },
        {
         "hoverinfo": "text",
         "marker": {
          "color": "red",
          "size": 12
         },
         "mode": "markers",
         "name": "2013 Lean",
         "text": "Lean: May - 6627",
         "type": "scatter",
         "x": [
          "May"
         ],
         "y": [
          6627
         ]
        }
       ],
       "layout": {
        "hovermode": "closest",
        "legend": {
         "title": {
          "text": "Year"
         }
        },
        "showlegend": true,
        "template": {
         "data": {
          "bar": [
           {
            "error_x": {
             "color": "#2a3f5f"
            },
            "error_y": {
             "color": "#2a3f5f"
            },
            "marker": {
             "line": {
              "color": "#E5ECF6",
              "width": 0.5
             },
             "pattern": {
              "fillmode": "overlay",
              "size": 10,
              "solidity": 0.2
             }
            },
            "type": "bar"
           }
          ],
          "barpolar": [
           {
            "marker": {
             "line": {
              "color": "#E5ECF6",
              "width": 0.5
             },
             "pattern": {
              "fillmode": "overlay",
              "size": 10,
              "solidity": 0.2
             }
            },
            "type": "barpolar"
           }
          ],
          "carpet": [
           {
            "aaxis": {
             "endlinecolor": "#2a3f5f",
             "gridcolor": "white",
             "linecolor": "white",
             "minorgridcolor": "white",
             "startlinecolor": "#2a3f5f"
            },
            "baxis": {
             "endlinecolor": "#2a3f5f",
             "gridcolor": "white",
             "linecolor": "white",
             "minorgridcolor": "white",
             "startlinecolor": "#2a3f5f"
            },
            "type": "carpet"
           }
          ],
          "choropleth": [
           {
            "colorbar": {
             "outlinewidth": 0,
             "ticks": ""
            },
            "type": "choropleth"
           }
          ],
          "contour": [
           {
            "colorbar": {
             "outlinewidth": 0,
             "ticks": ""
            },
            "colorscale": [
             [
              0,
              "#0d0887"
             ],
             [
              0.1111111111111111,
              "#46039f"
             ],
             [
              0.2222222222222222,
              "#7201a8"
             ],
             [
              0.3333333333333333,
              "#9c179e"
             ],
             [
              0.4444444444444444,
              "#bd3786"
             ],
             [
              0.5555555555555556,
              "#d8576b"
             ],
             [
              0.6666666666666666,
              "#ed7953"
             ],
             [
              0.7777777777777778,
              "#fb9f3a"
             ],
             [
              0.8888888888888888,
              "#fdca26"
             ],
             [
              1,
              "#f0f921"
             ]
            ],
            "type": "contour"
           }
          ],
          "contourcarpet": [
           {
            "colorbar": {
             "outlinewidth": 0,
             "ticks": ""
            },
            "type": "contourcarpet"
           }
          ],
          "heatmap": [
           {
            "colorbar": {
             "outlinewidth": 0,
             "ticks": ""
            },
            "colorscale": [
             [
              0,
              "#0d0887"
             ],
             [
              0.1111111111111111,
              "#46039f"
             ],
             [
              0.2222222222222222,
              "#7201a8"
             ],
             [
              0.3333333333333333,
              "#9c179e"
             ],
             [
              0.4444444444444444,
              "#bd3786"
             ],
             [
              0.5555555555555556,
              "#d8576b"
             ],
             [
              0.6666666666666666,
              "#ed7953"
             ],
             [
              0.7777777777777778,
              "#fb9f3a"
             ],
             [
              0.8888888888888888,
              "#fdca26"
             ],
             [
              1,
              "#f0f921"
             ]
            ],
            "type": "heatmap"
           }
          ],
          "heatmapgl": [
           {
            "colorbar": {
             "outlinewidth": 0,
             "ticks": ""
            },
            "colorscale": [
             [
              0,
              "#0d0887"
             ],
             [
              0.1111111111111111,
              "#46039f"
             ],
             [
              0.2222222222222222,
              "#7201a8"
             ],
             [
              0.3333333333333333,
              "#9c179e"
             ],
             [
              0.4444444444444444,
              "#bd3786"
             ],
             [
              0.5555555555555556,
              "#d8576b"
             ],
             [
              0.6666666666666666,
              "#ed7953"
             ],
             [
              0.7777777777777778,
              "#fb9f3a"
             ],
             [
              0.8888888888888888,
              "#fdca26"
             ],
             [
              1,
              "#f0f921"
             ]
            ],
            "type": "heatmapgl"
           }
          ],
          "histogram": [
           {
            "marker": {
             "pattern": {
              "fillmode": "overlay",
              "size": 10,
              "solidity": 0.2
             }
            },
            "type": "histogram"
           }
          ],
          "histogram2d": [
           {
            "colorbar": {
             "outlinewidth": 0,
             "ticks": ""
            },
            "colorscale": [
             [
              0,
              "#0d0887"
             ],
             [
              0.1111111111111111,
              "#46039f"
             ],
             [
              0.2222222222222222,
              "#7201a8"
             ],
             [
              0.3333333333333333,
              "#9c179e"
             ],
             [
              0.4444444444444444,
              "#bd3786"
             ],
             [
              0.5555555555555556,
              "#d8576b"
             ],
             [
              0.6666666666666666,
              "#ed7953"
             ],
             [
              0.7777777777777778,
              "#fb9f3a"
             ],
             [
              0.8888888888888888,
              "#fdca26"
             ],
             [
              1,
              "#f0f921"
             ]
            ],
            "type": "histogram2d"
           }
          ],
          "histogram2dcontour": [
           {
            "colorbar": {
             "outlinewidth": 0,
             "ticks": ""
            },
            "colorscale": [
             [
              0,
              "#0d0887"
             ],
             [
              0.1111111111111111,
              "#46039f"
             ],
             [
              0.2222222222222222,
              "#7201a8"
             ],
             [
              0.3333333333333333,
              "#9c179e"
             ],
             [
              0.4444444444444444,
              "#bd3786"
             ],
             [
              0.5555555555555556,
              "#d8576b"
             ],
             [
              0.6666666666666666,
              "#ed7953"
             ],
             [
              0.7777777777777778,
              "#fb9f3a"
             ],
             [
              0.8888888888888888,
              "#fdca26"
             ],
             [
              1,
              "#f0f921"
             ]
            ],
            "type": "histogram2dcontour"
           }
          ],
          "mesh3d": [
           {
            "colorbar": {
             "outlinewidth": 0,
             "ticks": ""
            },
            "type": "mesh3d"
           }
          ],
          "parcoords": [
           {
            "line": {
             "colorbar": {
              "outlinewidth": 0,
              "ticks": ""
             }
            },
            "type": "parcoords"
           }
          ],
          "pie": [
           {
            "automargin": true,
            "type": "pie"
           }
          ],
          "scatter": [
           {
            "fillpattern": {
             "fillmode": "overlay",
             "size": 10,
             "solidity": 0.2
            },
            "type": "scatter"
           }
          ],
          "scatter3d": [
           {
            "line": {
             "colorbar": {
              "outlinewidth": 0,
              "ticks": ""
             }
            },
            "marker": {
             "colorbar": {
              "outlinewidth": 0,
              "ticks": ""
             }
            },
            "type": "scatter3d"
           }
          ],
          "scattercarpet": [
           {
            "marker": {
             "colorbar": {
              "outlinewidth": 0,
              "ticks": ""
             }
            },
            "type": "scattercarpet"
           }
          ],
          "scattergeo": [
           {
            "marker": {
             "colorbar": {
              "outlinewidth": 0,
              "ticks": ""
             }
            },
            "type": "scattergeo"
           }
          ],
          "scattergl": [
           {
            "marker": {
             "colorbar": {
              "outlinewidth": 0,
              "ticks": ""
             }
            },
            "type": "scattergl"
           }
          ],
          "scattermapbox": [
           {
            "marker": {
             "colorbar": {
              "outlinewidth": 0,
              "ticks": ""
             }
            },
            "type": "scattermapbox"
           }
          ],
          "scatterpolar": [
           {
            "marker": {
             "colorbar": {
              "outlinewidth": 0,
              "ticks": ""
             }
            },
            "type": "scatterpolar"
           }
          ],
          "scatterpolargl": [
           {
            "marker": {
             "colorbar": {
              "outlinewidth": 0,
              "ticks": ""
             }
            },
            "type": "scatterpolargl"
           }
          ],
          "scatterternary": [
           {
            "marker": {
             "colorbar": {
              "outlinewidth": 0,
              "ticks": ""
             }
            },
            "type": "scatterternary"
           }
          ],
          "surface": [
           {
            "colorbar": {
             "outlinewidth": 0,
             "ticks": ""
            },
            "colorscale": [
             [
              0,
              "#0d0887"
             ],
             [
              0.1111111111111111,
              "#46039f"
             ],
             [
              0.2222222222222222,
              "#7201a8"
             ],
             [
              0.3333333333333333,
              "#9c179e"
             ],
             [
              0.4444444444444444,
              "#bd3786"
             ],
             [
              0.5555555555555556,
              "#d8576b"
             ],
             [
              0.6666666666666666,
              "#ed7953"
             ],
             [
              0.7777777777777778,
              "#fb9f3a"
             ],
             [
              0.8888888888888888,
              "#fdca26"
             ],
             [
              1,
              "#f0f921"
             ]
            ],
            "type": "surface"
           }
          ],
          "table": [
           {
            "cells": {
             "fill": {
              "color": "#EBF0F8"
             },
             "line": {
              "color": "white"
             }
            },
            "header": {
             "fill": {
              "color": "#C8D4E3"
             },
             "line": {
              "color": "white"
             }
            },
            "type": "table"
           }
          ]
         },
         "layout": {
          "annotationdefaults": {
           "arrowcolor": "#2a3f5f",
           "arrowhead": 0,
           "arrowwidth": 1
          },
          "autotypenumbers": "strict",
          "coloraxis": {
           "colorbar": {
            "outlinewidth": 0,
            "ticks": ""
           }
          },
          "colorscale": {
           "diverging": [
            [
             0,
             "#8e0152"
            ],
            [
             0.1,
             "#c51b7d"
            ],
            [
             0.2,
             "#de77ae"
            ],
            [
             0.3,
             "#f1b6da"
            ],
            [
             0.4,
             "#fde0ef"
            ],
            [
             0.5,
             "#f7f7f7"
            ],
            [
             0.6,
             "#e6f5d0"
            ],
            [
             0.7,
             "#b8e186"
            ],
            [
             0.8,
             "#7fbc41"
            ],
            [
             0.9,
             "#4d9221"
            ],
            [
             1,
             "#276419"
            ]
           ],
           "sequential": [
            [
             0,
             "#0d0887"
            ],
            [
             0.1111111111111111,
             "#46039f"
            ],
            [
             0.2222222222222222,
             "#7201a8"
            ],
            [
             0.3333333333333333,
             "#9c179e"
            ],
            [
             0.4444444444444444,
             "#bd3786"
            ],
            [
             0.5555555555555556,
             "#d8576b"
            ],
            [
             0.6666666666666666,
             "#ed7953"
            ],
            [
             0.7777777777777778,
             "#fb9f3a"
            ],
            [
             0.8888888888888888,
             "#fdca26"
            ],
            [
             1,
             "#f0f921"
            ]
           ],
           "sequentialminus": [
            [
             0,
             "#0d0887"
            ],
            [
             0.1111111111111111,
             "#46039f"
            ],
            [
             0.2222222222222222,
             "#7201a8"
            ],
            [
             0.3333333333333333,
             "#9c179e"
            ],
            [
             0.4444444444444444,
             "#bd3786"
            ],
            [
             0.5555555555555556,
             "#d8576b"
            ],
            [
             0.6666666666666666,
             "#ed7953"
            ],
            [
             0.7777777777777778,
             "#fb9f3a"
            ],
            [
             0.8888888888888888,
             "#fdca26"
            ],
            [
             1,
             "#f0f921"
            ]
           ]
          },
          "colorway": [
           "#636efa",
           "#EF553B",
           "#00cc96",
           "#ab63fa",
           "#FFA15A",
           "#19d3f3",
           "#FF6692",
           "#B6E880",
           "#FF97FF",
           "#FECB52"
          ],
          "font": {
           "color": "#2a3f5f"
          },
          "geo": {
           "bgcolor": "white",
           "lakecolor": "white",
           "landcolor": "#E5ECF6",
           "showlakes": true,
           "showland": true,
           "subunitcolor": "white"
          },
          "hoverlabel": {
           "align": "left"
          },
          "hovermode": "closest",
          "mapbox": {
           "style": "light"
          },
          "paper_bgcolor": "white",
          "plot_bgcolor": "#E5ECF6",
          "polar": {
           "angularaxis": {
            "gridcolor": "white",
            "linecolor": "white",
            "ticks": ""
           },
           "bgcolor": "#E5ECF6",
           "radialaxis": {
            "gridcolor": "white",
            "linecolor": "white",
            "ticks": ""
           }
          },
          "scene": {
           "xaxis": {
            "backgroundcolor": "#E5ECF6",
            "gridcolor": "white",
            "gridwidth": 2,
            "linecolor": "white",
            "showbackground": true,
            "ticks": "",
            "zerolinecolor": "white"
           },
           "yaxis": {
            "backgroundcolor": "#E5ECF6",
            "gridcolor": "white",
            "gridwidth": 2,
            "linecolor": "white",
            "showbackground": true,
            "ticks": "",
            "zerolinecolor": "white"
           },
           "zaxis": {
            "backgroundcolor": "#E5ECF6",
            "gridcolor": "white",
            "gridwidth": 2,
            "linecolor": "white",
            "showbackground": true,
            "ticks": "",
            "zerolinecolor": "white"
           }
          },
          "shapedefaults": {
           "line": {
            "color": "#2a3f5f"
           }
          },
          "ternary": {
           "aaxis": {
            "gridcolor": "white",
            "linecolor": "white",
            "ticks": ""
           },
           "baxis": {
            "gridcolor": "white",
            "linecolor": "white",
            "ticks": ""
           },
           "bgcolor": "#E5ECF6",
           "caxis": {
            "gridcolor": "white",
            "linecolor": "white",
            "ticks": ""
           }
          },
          "title": {
           "x": 0.05
          },
          "xaxis": {
           "automargin": true,
           "gridcolor": "white",
           "linecolor": "white",
           "ticks": "",
           "title": {
            "standoff": 15
           },
           "zerolinecolor": "white",
           "zerolinewidth": 2
          },
          "yaxis": {
           "automargin": true,
           "gridcolor": "white",
           "linecolor": "white",
           "ticks": "",
           "title": {
            "standoff": 15
           },
           "zerolinecolor": "white",
           "zerolinewidth": 2
          }
         }
        },
        "title": {
         "text": "Peak and Lean Months for Each Year"
        },
        "xaxis": {
         "tickmode": "array",
         "tickvals": [
          "January",
          "February",
          "March",
          "April",
          "May",
          "June",
          "July",
          "August",
          "September",
          "October",
          "November",
          "December"
         ],
         "title": {
          "text": "Month"
         }
        },
        "yaxis": {
         "title": {
          "text": "Fee Value"
         }
        }
       }
      }
     },
     "metadata": {},
     "output_type": "display_data"
    }
   ],
   "source": [
    "import plotly.graph_objects as go\n",
    "\n",
    "# Set the 'MONTH' column as the index\n",
    "# df.set_index('MONTH', inplace=True)\n",
    "\n",
    "# Create the figure\n",
    "fig = go.Figure()\n",
    "\n",
    "# Iterate over each year (each column) and add it to the plot\n",
    "for year in df.columns:\n",
    "    # Add the year data as a line trace\n",
    "    fig.add_trace(go.Scatter(\n",
    "        x=df.index, \n",
    "        y=df[year], \n",
    "        mode='lines+markers', \n",
    "        name=f'{year}',\n",
    "        text=df[year],  # Display the values on hover\n",
    "        hoverinfo='text+x+y'  # Show month, value, and year on hover\n",
    "    ))\n",
    "\n",
    "    # Find the peak and lean months\n",
    "    peak_month = df[year].idxmax()\n",
    "    peak_value = df[year].max()\n",
    "    lean_month = df[year].idxmin()\n",
    "    lean_value = df[year].min()\n",
    "\n",
    "    # Add markers for the peak and lean months\n",
    "    fig.add_trace(go.Scatter(\n",
    "        x=[peak_month], \n",
    "        y=[peak_value], \n",
    "        mode='markers',\n",
    "        name=f'{year} Peak', \n",
    "        marker=dict(color='green', size=12),\n",
    "        text=f'Peak: {peak_month} - {peak_value}', \n",
    "        hoverinfo='text'\n",
    "    ))\n",
    "\n",
    "    fig.add_trace(go.Scatter(\n",
    "        x=[lean_month], \n",
    "        y=[lean_value], \n",
    "        mode='markers',\n",
    "        name=f'{year} Lean', \n",
    "        marker=dict(color='red', size=12),\n",
    "        text=f'Lean: {lean_month} - {lean_value}', \n",
    "        hoverinfo='text'\n",
    "    ))\n",
    "\n",
    "# Update layout for better visualization\n",
    "fig.update_layout(\n",
    "    title='Peak and Lean Months for Each Year',\n",
    "    xaxis_title='Month',\n",
    "    yaxis_title='Fee Value',\n",
    "    legend_title=\"Year\",\n",
    "    hovermode='closest',\n",
    "    # template='plotly_dark',  # Optional: You can change the theme\n",
    "    template='plotly',  # Optional: You can change the theme\n",
    "    xaxis=dict(tickmode='array', tickvals=df.index),  # Ensure all months are visible\n",
    "    showlegend=True\n",
    ")\n",
    "\n",
    "# Show the interactive plot\n",
    "fig.show()"
   ]
  },
  {
   "cell_type": "markdown",
   "metadata": {},
   "source": []
  },
  {
   "cell_type": "markdown",
   "metadata": {},
   "source": []
  },
  {
   "cell_type": "markdown",
   "metadata": {},
   "source": []
  },
  {
   "cell_type": "markdown",
   "metadata": {},
   "source": []
  },
  {
   "cell_type": "markdown",
   "metadata": {},
   "source": [
    "# 2"
   ]
  },
  {
   "cell_type": "code",
   "execution_count": 22,
   "metadata": {},
   "outputs": [],
   "source": [
    "# df=pd.read_excel('../data-students/TourismData-2013/MONTH-WISE FEE FROM TOURISM (CRORE) IN INDIA.xlsx')\n",
    "df_2013=pd.read_excel('../data-students/TourismData-2013/NATIONALITY-WISE QUARTER-WISE DISTRIBUTION OF FTAs IN INDIA.xlsx')\n",
    "df_2014=pd.read_excel('../data-students/TourismData-2014/NATIONALITY-WISE QUARTER-WISE DISTRIBUTION OF FTAs IN INDIA.xlsx')\n",
    "df_2016=pd.read_excel('../data-students/TourismData-2016/NATIONALITY-WISE QUARTER-WISE DISTRIBUTION OF FTAs IN INDIA.xlsx')\n",
    "df_2017=pd.read_excel('../data-students/TourismData-2017/NATIONALITY-WISE QUARTER-WISE DISTRIBUTION OF FTAs IN INDIA.xlsx')\n",
    "df_2018=pd.read_excel('../data-students/TourismData-2018/NATIONALITY-WISE QUARTER-WISE DISTRIBUTION OF FTAs IN INDIA.xlsx')\n",
    "df_2019=pd.read_excel('../data-students/TourismData-2019/NATIONALITY-WISE QUARTER-WISE DISTRIBUTION OF FTAs IN INDIA.xlsx')\n",
    "df_2020=pd.read_excel('../data-students/TourismData-2020/NATIONALITY-WISE QUARTER-WISE DISTRIBUTION OF FTAs IN INDIA.xlsx')\n",
    "df_2021=pd.read_excel('../data-students/TourismData-2021/NATIONALITY-WISE QUARTER-WISE DISTRIBUTION OF FTAs IN INDIA.xlsx')\n",
    "df_2022=pd.read_excel('../data-students/TourismData-2022/NATIONALITY-WISE QUARTER-WISE DISTRIBUTION OF FTAs IN INDIA.xlsx')\n",
    "# df"
   ]
  },
  {
   "cell_type": "code",
   "execution_count": 23,
   "metadata": {},
   "outputs": [
    {
     "data": {
      "text/html": [
       "<div>\n",
       "<style scoped>\n",
       "    .dataframe tbody tr th:only-of-type {\n",
       "        vertical-align: middle;\n",
       "    }\n",
       "\n",
       "    .dataframe tbody tr th {\n",
       "        vertical-align: top;\n",
       "    }\n",
       "\n",
       "    .dataframe thead th {\n",
       "        text-align: right;\n",
       "    }\n",
       "</style>\n",
       "<table border=\"1\" class=\"dataframe\">\n",
       "  <thead>\n",
       "    <tr style=\"text-align: right;\">\n",
       "      <th></th>\n",
       "      <th>Country of Nationality</th>\n",
       "      <th>Arrivals (in numbers)</th>\n",
       "      <th>1st Quarter (Jan-Mar)</th>\n",
       "      <th>2nd Quarter (Apr-June)</th>\n",
       "      <th>3rd Quarter (July-Sep)</th>\n",
       "      <th>4th Quarter (Oct-Dec)</th>\n",
       "    </tr>\n",
       "  </thead>\n",
       "  <tbody>\n",
       "    <tr>\n",
       "      <th>0</th>\n",
       "      <td>North America</td>\n",
       "      <td>NaN</td>\n",
       "      <td>NaN</td>\n",
       "      <td>NaN</td>\n",
       "      <td>NaN</td>\n",
       "      <td>NaN</td>\n",
       "    </tr>\n",
       "    <tr>\n",
       "      <th>1</th>\n",
       "      <td>Canada</td>\n",
       "      <td>268485.0</td>\n",
       "      <td>33.1</td>\n",
       "      <td>14.5</td>\n",
       "      <td>15.7</td>\n",
       "      <td>36.7</td>\n",
       "    </tr>\n",
       "    <tr>\n",
       "      <th>2</th>\n",
       "      <td>United States of America</td>\n",
       "      <td>1118983.0</td>\n",
       "      <td>25.7</td>\n",
       "      <td>22.0</td>\n",
       "      <td>20.6</td>\n",
       "      <td>31.7</td>\n",
       "    </tr>\n",
       "    <tr>\n",
       "      <th>3</th>\n",
       "      <td>Central &amp; South America</td>\n",
       "      <td>NaN</td>\n",
       "      <td>NaN</td>\n",
       "      <td>NaN</td>\n",
       "      <td>NaN</td>\n",
       "      <td>NaN</td>\n",
       "    </tr>\n",
       "    <tr>\n",
       "      <th>4</th>\n",
       "      <td>Argentina</td>\n",
       "      <td>9731.0</td>\n",
       "      <td>46.8</td>\n",
       "      <td>15.6</td>\n",
       "      <td>13.9</td>\n",
       "      <td>23.7</td>\n",
       "    </tr>\n",
       "  </tbody>\n",
       "</table>\n",
       "</div>"
      ],
      "text/plain": [
       "     Country of Nationality  Arrivals (in numbers)  1st Quarter (Jan-Mar)  \\\n",
       "0             North America                    NaN                    NaN   \n",
       "1                    Canada               268485.0                   33.1   \n",
       "2  United States of America              1118983.0                   25.7   \n",
       "3   Central & South America                    NaN                    NaN   \n",
       "4                 Argentina                 9731.0                   46.8   \n",
       "\n",
       "   2nd Quarter (Apr-June)  3rd Quarter (July-Sep)  4th Quarter (Oct-Dec)  \n",
       "0                     NaN                     NaN                    NaN  \n",
       "1                    14.5                    15.7                   36.7  \n",
       "2                    22.0                    20.6                   31.7  \n",
       "3                     NaN                     NaN                    NaN  \n",
       "4                    15.6                    13.9                   23.7  "
      ]
     },
     "execution_count": 23,
     "metadata": {},
     "output_type": "execute_result"
    }
   ],
   "source": [
    "df_2013.head()"
   ]
  },
  {
   "cell_type": "code",
   "execution_count": 24,
   "metadata": {},
   "outputs": [],
   "source": [
    "list1=[df_2013,df_2014,df_2016,df_2017,df_2018,df_2019,df_2020,df_2021,df_2022]\n",
    "for df in list1:\n",
    "    df.columns = df.columns.str.upper()\n",
    "    df['COUNTRY OF NATIONALITY'] = df['COUNTRY OF NATIONALITY'].str.upper()\n",
    "    df['COUNTRY OF NATIONALITY'] = df['COUNTRY OF NATIONALITY'].str.strip()\n",
    "\n",
    "list1=[df_2013,df_2014,df_2016,df_2017,df_2018,df_2019,df_2020,df_2021,df_2022]"
   ]
  },
  {
   "cell_type": "code",
   "execution_count": 25,
   "metadata": {},
   "outputs": [],
   "source": [
    "# # Convert the string data to a pandas DataFrame\n",
    "# df = df_2013\n",
    "# df = df[df['COUNTRY OF NATIONALITY'] != 'OTHERS']\n",
    "# df = df.reset_index(drop=True)\n",
    "\n",
    "# # Add the continent column based on the country names\n",
    "# continent_mapping = {\n",
    "#     \"NORTH AMERICA\": [\"CANADA\", \"UNITED STATES OF AMERICA\"],\n",
    "#     \"CENTRAL & SOUTH AMERICA\": [\"ARGENTINA\", \"BRAZIL\", \"MEXICO\"],\n",
    "#     \"WESTERN EUROPE\": [\"AUSTRIA\", \"BELGIUM\", \"DENMARK\", \"FINLAND\", \"FRANCE\", \"GERMANY\", \"GREECE\", \n",
    "#                        \"IRELAND\", \"ITALY\", \"NETHERLANDS\", \"NORWAY\", \"PORTUGAL\", \"SPAIN\", \"SWEDEN\", \n",
    "#                        \"SWITZERLAND\", \"UNITED KINGDOM\"],\n",
    "#     \"EASTERN EUROPE\": [\"CZECH REPUBLIC\", \"KAZAKHSTAN\", \"POLAND\", \"RUSSIAN FEDERATION\", \"UKRAINE\", \"HUNGARY\"],\n",
    "#     \"AFRICA\": [\"EGYPT\", \"KENYA\", \"MAURITIUS\", \"NIGERIA\", \"SOUTH AFRICA\", \"SUDAN\", \"TANZANIA\"],\n",
    "#     \"WEST ASIA\": [\"BAHRAIN\", \"IRAQ\", \"ISRAEL\", \"OMAN\", \"SAUDI ARABIA\", \"TURKEY\", \"UNITED ARAB EMIRATES\", \n",
    "#                   \"YEMEN\"],\n",
    "#     \"SOUTH ASIA\": [\"AFGHANISTAN\", \"IRAN\", \"MALDIVES\", \"NEPAL\", \"PAKISTAN\", \"BANGLADESH\", \"SRI LANKA\", \"BHUTAN\"],\n",
    "#     \"SOUTH EAST ASIA\": [\"INDONESIA\", \"MALAYSIA\", \"MYANMAR\", \"PHILIPPINES\", \"SINGAPORE\", \"THAILAND\", \"VIETNAM\"],\n",
    "#     \"EAST ASIA\": [\"REPUBLIC OF CHINA\", \"TAIWAN\", \"JAPAN\", \"REPUBLIC OF KOREA\"],\n",
    "#     \"AUSTRALASIA\": [\"AUSTRALIA\", \"NEW ZEALAND\"]\n",
    "# }\n",
    "\n",
    "# # Function to assign continent based on the country\n",
    "# def assign_continent(row):\n",
    "#     for continent, countries in continent_mapping.items():\n",
    "#         if row['COUNTRY OF NATIONALITY'] in countries:\n",
    "#             return continent\n",
    "#     return \"Unknown\"\n",
    "\n",
    "# # Apply the function to create the new continent column\n",
    "# df['CONTINENT'] = df.apply(assign_continent, axis=1)\n",
    "\n",
    "# # Print the updated dataframe\n",
    "# # print(df)\n",
    "# df.dropna(inplace=True)\n",
    "# df = df.reset_index(drop=True)\n",
    "# df.head(10)"
   ]
  },
  {
   "cell_type": "code",
   "execution_count": 26,
   "metadata": {},
   "outputs": [],
   "source": [
    "# # Function to find lean and peak quarters\n",
    "# def find_lean_peak(row):\n",
    "#     quarters = ['1ST QUARTER (JAN-MAR)', '2ND QUARTER (APR-JUNE)', '3RD QUARTER (JULY-SEP)', '4TH QUARTER (OCT-DEC)']\n",
    "#     values = [row['1ST QUARTER (JAN-MAR)'], row['2ND QUARTER (APR-JUNE)'], row['3RD QUARTER (JULY-SEP)'], row['4TH QUARTER (OCT-DEC)']]\n",
    "    \n",
    "#     peak_quarter = quarters[values.index(max(values))]\n",
    "#     lean_quarter = quarters[values.index(min(values))]\n",
    "    \n",
    "#     return pd.Series([lean_quarter, peak_quarter], index=['LEAN QUARTER', 'Peak Quarter'])\n",
    "\n",
    "# # Apply the function to each row in the DataFrame\n",
    "# df[['LEAN QUARTER', 'PEAK QUARTER']] = df.apply(find_lean_peak, axis=1)\n",
    "\n",
    "# # Display the result\n",
    "# # print(df[['Country of Nationality', 'Continent', 'Lean Quarter', 'Peak Quarter']])\n",
    "# df[['COUNTRY OF NATIONALITY', 'CONTINENT', 'LEAN QUARTER', 'PEAK QUARTER']]\n",
    "# # df"
   ]
  },
  {
   "cell_type": "code",
   "execution_count": 27,
   "metadata": {},
   "outputs": [],
   "source": [
    "# # Define the columns for the quarters\n",
    "# # quarters = ['1st Quarter (Jan-Mar)', '2nd Quarter (Apr-June)', '3rd Quarter (July-Sep)', '4th Quarter (Oct-Dec)']\n",
    "# quarters = ['1ST QUARTER (JAN-MAR)', '2ND QUARTER (APR-JUNE)', '3RD QUARTER (JULY-SEP)', '4TH QUARTER (OCT-DEC)']\n",
    "# # Calculate the average arrivals for each quarter by continent\n",
    "# continent_avg = df.groupby('CONTINENT')[quarters].mean()\n",
    "\n",
    "# # Find the lean and peak quarters for each continent\n",
    "# def find_lean_peak_for_continent(row):\n",
    "#     # Calculate the peak and lean quarters based on average arrivals\n",
    "#     peak_quarter = row.idxmax()  # Find the quarter with maximum average\n",
    "#     lean_quarter = row.idxmin()  # Find the quarter with minimum average\n",
    "#     return pd.Series([lean_quarter, peak_quarter], index=['LEAN QUARTER', 'PEAK QUARTER'])\n",
    "\n",
    "# # Apply the function to each continent's average data\n",
    "# continent_lean_peak = continent_avg.apply(find_lean_peak_for_continent, axis=1)\n",
    "\n",
    "# # Combine the results with the continent averages\n",
    "# continent_result = pd.concat([continent_avg, continent_lean_peak], axis=1)\n",
    "# # continent_result = continent_result[continent_result['CONTINENT'] != 'OTHERS']\n",
    "# # continent_result = continent_result.reset_index(drop=True)\n",
    "# # Display the result\n",
    "# # print(continent_result)\n",
    "# continent_result = continent_result.reset_index()\n",
    "# continent_result"
   ]
  },
  {
   "cell_type": "code",
   "execution_count": 28,
   "metadata": {},
   "outputs": [],
   "source": [
    "years=[2013,2014,2016,2017,2018,2019,2020,2021,2022]\n",
    "country_quarter=pd.DataFrame(columns=['COUNTRY OF NATIONALITY'])\n",
    "continent_quarter=pd.DataFrame(columns=['CONTINENT'])"
   ]
  },
  {
   "cell_type": "code",
   "execution_count": 29,
   "metadata": {},
   "outputs": [],
   "source": [
    "i=0\n",
    "for df in list1:\n",
    "    # Convert the string data to a pandas DataFrame\n",
    "    df = df[df['COUNTRY OF NATIONALITY'] != 'OTHERS']\n",
    "    df = df.reset_index(drop=True)\n",
    "\n",
    "    # Add the continent column based on the country names\n",
    "    continent_mapping = {\n",
    "        \"NORTH AMERICA\": [\"CANADA\", \"UNITED STATES OF AMERICA\"],\n",
    "        \"CENTRAL & SOUTH AMERICA\": [\"ARGENTINA\", \"BRAZIL\", \"MEXICO\"],\n",
    "        \"WESTERN EUROPE\": [\"AUSTRIA\", \"BELGIUM\", \"DENMARK\", \"FINLAND\", \"FRANCE\", \"GERMANY\", \"GREECE\", \n",
    "                        \"IRELAND\", \"ITALY\", \"NETHERLANDS\", \"NORWAY\", \"PORTUGAL\", \"SPAIN\", \"SWEDEN\", \n",
    "                        \"SWITZERLAND\", \"UNITED KINGDOM\"],\n",
    "        \"EASTERN EUROPE\": [\"CZECH REPUBLIC\", \"KAZAKHSTAN\", \"POLAND\", \"RUSSIAN FEDERATION\", \"UKRAINE\", \"HUNGARY\"],\n",
    "        \"AFRICA\": [\"EGYPT\", \"KENYA\", \"MAURITIUS\", \"NIGERIA\", \"SOUTH AFRICA\", \"SUDAN\", \"TANZANIA\"],\n",
    "        \"WEST ASIA\": [\"BAHRAIN\", \"IRAQ\", \"ISRAEL\", \"OMAN\", \"SAUDI ARABIA\", \"TURKEY\", \"UNITED ARAB EMIRATES\", \n",
    "                    \"YEMEN\"],\n",
    "        \"SOUTH ASIA\": [\"AFGHANISTAN\", \"IRAN\", \"MALDIVES\", \"NEPAL\", \"PAKISTAN\", \"BANGLADESH\", \"SRI LANKA\", \"BHUTAN\"],\n",
    "        \"SOUTH EAST ASIA\": [\"INDONESIA\", \"MALAYSIA\", \"MYANMAR\", \"PHILIPPINES\", \"SINGAPORE\", \"THAILAND\", \"VIETNAM\"],\n",
    "        \"EAST ASIA\": [\"REPUBLIC OF CHINA\", \"TAIWAN\", \"JAPAN\", \"REPUBLIC OF KOREA\"],\n",
    "        \"AUSTRALASIA\": [\"AUSTRALIA\", \"NEW ZEALAND\"]\n",
    "    }\n",
    "\n",
    "    # Function to assign continent based on the country\n",
    "    def assign_continent(row):\n",
    "        for continent, countries in continent_mapping.items():\n",
    "            if row['COUNTRY OF NATIONALITY'] in countries:\n",
    "                return continent\n",
    "        return \"Unknown\"\n",
    "\n",
    "    # Apply the function to create the new continent column\n",
    "    df['CONTINENT'] = df.apply(assign_continent, axis=1)\n",
    "\n",
    "    # Print the updated dataframe\n",
    "    # print(df)\n",
    "    df.dropna(inplace=True)\n",
    "    df = df.reset_index(drop=True)\n",
    "    # df.head(10)\n",
    "    # Function to find lean and peak quarters\n",
    "    def find_lean_peak(row):\n",
    "        quarters = ['1ST QUARTER (JAN-MAR)', '2ND QUARTER (APR-JUNE)', '3RD QUARTER (JULY-SEP)', '4TH QUARTER (OCT-DEC)']\n",
    "        values = [row['1ST QUARTER (JAN-MAR)'], row['2ND QUARTER (APR-JUNE)'], row['3RD QUARTER (JULY-SEP)'], row['4TH QUARTER (OCT-DEC)']]\n",
    "        \n",
    "        peak_quarter = quarters[values.index(max(values))]\n",
    "        lean_quarter = quarters[values.index(min(values))]\n",
    "        \n",
    "        return pd.Series([lean_quarter, peak_quarter], index=['LEAN QUARTER', 'Peak Quarter'])\n",
    "\n",
    "    # Apply the function to each row in the DataFrame\n",
    "    df[['LEAN QUARTER', 'PEAK QUARTER']] = df.apply(find_lean_peak, axis=1)\n",
    "\n",
    "    # Display the result\n",
    "    # print(df[['Country of Nationality', 'Continent', 'Lean Quarter', 'Peak Quarter']])\n",
    "    # df[['COUNTRY OF NATIONALITY', 'CONTINENT', 'LEAN QUARTER', 'PEAK QUARTER']]\n",
    "    # df\n",
    "    quarters = ['1ST QUARTER (JAN-MAR)', '2ND QUARTER (APR-JUNE)', '3RD QUARTER (JULY-SEP)', '4TH QUARTER (OCT-DEC)']\n",
    "# Calculate the average arrivals for each quarter by continent\n",
    "    continent_avg = df.groupby('CONTINENT')[quarters].mean()\n",
    "\n",
    "    # Find the lean and peak quarters for each continent\n",
    "    def find_lean_peak_for_continent(row):\n",
    "        # Calculate the peak and lean quarters based on average arrivals\n",
    "        peak_quarter = row.idxmax()  # Find the quarter with maximum average\n",
    "        lean_quarter = row.idxmin()  # Find the quarter with minimum average\n",
    "        return pd.Series([lean_quarter, peak_quarter], index=['LEAN QUARTER', 'PEAK QUARTER'])\n",
    "\n",
    "    # Apply the function to each continent's average data\n",
    "    continent_lean_peak = continent_avg.apply(find_lean_peak_for_continent, axis=1)\n",
    "\n",
    "    # Combine the results with the continent averages\n",
    "    continent_result = pd.concat([continent_avg, continent_lean_peak], axis=1)\n",
    "    # continent_result = continent_result[continent_result['CONTINENT'] != 'OTHERS']\n",
    "    # continent_result = continent_result.reset_index(drop=True)\n",
    "    # Display the result\n",
    "    # print(continent_result)\n",
    "    # continent_result\n",
    "    # df.columns = ['COUNTRY OF NATIONALITY', 'LEAN QUARTER '+str(years[i]), 'PEAK QUARTER '+str(years[i])] + list(df.columns[3:])\n",
    "    df=df[['COUNTRY OF NATIONALITY', 'LEAN QUARTER','PEAK QUARTER']]\n",
    "    continent_result = continent_result.reset_index()\n",
    "    continent_result=continent_result[['CONTINENT', 'LEAN QUARTER','PEAK QUARTER']]\n",
    "    # print(continent_result)\n",
    "# # print(df[['Country of Nationality', 'Continent', 'Lean Quarter', 'Peak Quarter']])\n",
    "    # print(years[i])\n",
    "    df.columns = ['COUNTRY OF NATIONALITY', 'LEAN QUARTER '+str(years[i]), 'PEAK QUARTER '+str(years[i])]\n",
    "    continent_result.columns = ['CONTINENT', 'LEAN QUARTER '+str(years[i]), 'PEAK QUARTER '+str(years[i])]\n",
    "    # continent_quarter.columns = ['CONTINENT']+list(df.columns[3:])\n",
    "    i=i+1\n",
    "\n",
    "    country_quarter = pd.merge(country_quarter, df, on='COUNTRY OF NATIONALITY', how='outer')\n",
    "    continent_quarter = pd.merge(continent_quarter, continent_result, on='CONTINENT', how='outer')\n"
   ]
  },
  {
   "cell_type": "code",
   "execution_count": 30,
   "metadata": {},
   "outputs": [
    {
     "data": {
      "text/html": [
       "<div>\n",
       "<style scoped>\n",
       "    .dataframe tbody tr th:only-of-type {\n",
       "        vertical-align: middle;\n",
       "    }\n",
       "\n",
       "    .dataframe tbody tr th {\n",
       "        vertical-align: top;\n",
       "    }\n",
       "\n",
       "    .dataframe thead th {\n",
       "        text-align: right;\n",
       "    }\n",
       "</style>\n",
       "<table border=\"1\" class=\"dataframe\">\n",
       "  <thead>\n",
       "    <tr style=\"text-align: right;\">\n",
       "      <th></th>\n",
       "      <th>CONTINENT</th>\n",
       "      <th>LEAN QUARTER 2013</th>\n",
       "      <th>PEAK QUARTER 2013</th>\n",
       "      <th>LEAN QUARTER 2014</th>\n",
       "      <th>PEAK QUARTER 2014</th>\n",
       "      <th>LEAN QUARTER 2016</th>\n",
       "      <th>PEAK QUARTER 2016</th>\n",
       "      <th>LEAN QUARTER 2017</th>\n",
       "      <th>PEAK QUARTER 2017</th>\n",
       "      <th>LEAN QUARTER 2018</th>\n",
       "      <th>PEAK QUARTER 2018</th>\n",
       "      <th>LEAN QUARTER 2019</th>\n",
       "      <th>PEAK QUARTER 2019</th>\n",
       "      <th>LEAN QUARTER 2020</th>\n",
       "      <th>PEAK QUARTER 2020</th>\n",
       "      <th>LEAN QUARTER 2021</th>\n",
       "      <th>PEAK QUARTER 2021</th>\n",
       "      <th>LEAN QUARTER 2022</th>\n",
       "      <th>PEAK QUARTER 2022</th>\n",
       "    </tr>\n",
       "  </thead>\n",
       "  <tbody>\n",
       "    <tr>\n",
       "      <th>0</th>\n",
       "      <td>AFRICA</td>\n",
       "      <td>2ND QUARTER (APR-JUNE)</td>\n",
       "      <td>4TH QUARTER (OCT-DEC)</td>\n",
       "      <td>2ND QUARTER (APR-JUNE)</td>\n",
       "      <td>4TH QUARTER (OCT-DEC)</td>\n",
       "      <td>2ND QUARTER (APR-JUNE)</td>\n",
       "      <td>4TH QUARTER (OCT-DEC)</td>\n",
       "      <td>2ND QUARTER (APR-JUNE)</td>\n",
       "      <td>4TH QUARTER (OCT-DEC)</td>\n",
       "      <td>2ND QUARTER (APR-JUNE)</td>\n",
       "      <td>4TH QUARTER (OCT-DEC)</td>\n",
       "      <td>2ND QUARTER (APR-JUNE)</td>\n",
       "      <td>4TH QUARTER (OCT-DEC)</td>\n",
       "      <td>2ND QUARTER (APR-JUNE)</td>\n",
       "      <td>1ST QUARTER (JAN-MAR)</td>\n",
       "      <td>2ND QUARTER (APR-JUNE)</td>\n",
       "      <td>4TH QUARTER (OCT-DEC)</td>\n",
       "      <td>1ST QUARTER (JAN-MAR)</td>\n",
       "      <td>4TH QUARTER (OCT-DEC)</td>\n",
       "    </tr>\n",
       "    <tr>\n",
       "      <th>1</th>\n",
       "      <td>AUSTRALASIA</td>\n",
       "      <td>2ND QUARTER (APR-JUNE)</td>\n",
       "      <td>4TH QUARTER (OCT-DEC)</td>\n",
       "      <td>2ND QUARTER (APR-JUNE)</td>\n",
       "      <td>4TH QUARTER (OCT-DEC)</td>\n",
       "      <td>2ND QUARTER (APR-JUNE)</td>\n",
       "      <td>4TH QUARTER (OCT-DEC)</td>\n",
       "      <td>2ND QUARTER (APR-JUNE)</td>\n",
       "      <td>4TH QUARTER (OCT-DEC)</td>\n",
       "      <td>2ND QUARTER (APR-JUNE)</td>\n",
       "      <td>4TH QUARTER (OCT-DEC)</td>\n",
       "      <td>3RD QUARTER (JULY-SEP)</td>\n",
       "      <td>4TH QUARTER (OCT-DEC)</td>\n",
       "      <td>2ND QUARTER (APR-JUNE)</td>\n",
       "      <td>1ST QUARTER (JAN-MAR)</td>\n",
       "      <td>2ND QUARTER (APR-JUNE)</td>\n",
       "      <td>4TH QUARTER (OCT-DEC)</td>\n",
       "      <td>1ST QUARTER (JAN-MAR)</td>\n",
       "      <td>4TH QUARTER (OCT-DEC)</td>\n",
       "    </tr>\n",
       "    <tr>\n",
       "      <th>2</th>\n",
       "      <td>CENTRAL &amp; SOUTH AMERICA</td>\n",
       "      <td>2ND QUARTER (APR-JUNE)</td>\n",
       "      <td>1ST QUARTER (JAN-MAR)</td>\n",
       "      <td>3RD QUARTER (JULY-SEP)</td>\n",
       "      <td>1ST QUARTER (JAN-MAR)</td>\n",
       "      <td>2ND QUARTER (APR-JUNE)</td>\n",
       "      <td>1ST QUARTER (JAN-MAR)</td>\n",
       "      <td>2ND QUARTER (APR-JUNE)</td>\n",
       "      <td>1ST QUARTER (JAN-MAR)</td>\n",
       "      <td>2ND QUARTER (APR-JUNE)</td>\n",
       "      <td>1ST QUARTER (JAN-MAR)</td>\n",
       "      <td>3RD QUARTER (JULY-SEP)</td>\n",
       "      <td>1ST QUARTER (JAN-MAR)</td>\n",
       "      <td>2ND QUARTER (APR-JUNE)</td>\n",
       "      <td>1ST QUARTER (JAN-MAR)</td>\n",
       "      <td>2ND QUARTER (APR-JUNE)</td>\n",
       "      <td>4TH QUARTER (OCT-DEC)</td>\n",
       "      <td>1ST QUARTER (JAN-MAR)</td>\n",
       "      <td>4TH QUARTER (OCT-DEC)</td>\n",
       "    </tr>\n",
       "    <tr>\n",
       "      <th>3</th>\n",
       "      <td>EAST ASIA</td>\n",
       "      <td>2ND QUARTER (APR-JUNE)</td>\n",
       "      <td>1ST QUARTER (JAN-MAR)</td>\n",
       "      <td>2ND QUARTER (APR-JUNE)</td>\n",
       "      <td>1ST QUARTER (JAN-MAR)</td>\n",
       "      <td>2ND QUARTER (APR-JUNE)</td>\n",
       "      <td>1ST QUARTER (JAN-MAR)</td>\n",
       "      <td>2ND QUARTER (APR-JUNE)</td>\n",
       "      <td>1ST QUARTER (JAN-MAR)</td>\n",
       "      <td>2ND QUARTER (APR-JUNE)</td>\n",
       "      <td>1ST QUARTER (JAN-MAR)</td>\n",
       "      <td>2ND QUARTER (APR-JUNE)</td>\n",
       "      <td>1ST QUARTER (JAN-MAR)</td>\n",
       "      <td>2ND QUARTER (APR-JUNE)</td>\n",
       "      <td>1ST QUARTER (JAN-MAR)</td>\n",
       "      <td>2ND QUARTER (APR-JUNE)</td>\n",
       "      <td>4TH QUARTER (OCT-DEC)</td>\n",
       "      <td>1ST QUARTER (JAN-MAR)</td>\n",
       "      <td>4TH QUARTER (OCT-DEC)</td>\n",
       "    </tr>\n",
       "    <tr>\n",
       "      <th>4</th>\n",
       "      <td>EASTERN EUROPE</td>\n",
       "      <td>2ND QUARTER (APR-JUNE)</td>\n",
       "      <td>1ST QUARTER (JAN-MAR)</td>\n",
       "      <td>3RD QUARTER (JULY-SEP)</td>\n",
       "      <td>1ST QUARTER (JAN-MAR)</td>\n",
       "      <td>3RD QUARTER (JULY-SEP)</td>\n",
       "      <td>1ST QUARTER (JAN-MAR)</td>\n",
       "      <td>3RD QUARTER (JULY-SEP)</td>\n",
       "      <td>1ST QUARTER (JAN-MAR)</td>\n",
       "      <td>3RD QUARTER (JULY-SEP)</td>\n",
       "      <td>1ST QUARTER (JAN-MAR)</td>\n",
       "      <td>2ND QUARTER (APR-JUNE)</td>\n",
       "      <td>1ST QUARTER (JAN-MAR)</td>\n",
       "      <td>2ND QUARTER (APR-JUNE)</td>\n",
       "      <td>1ST QUARTER (JAN-MAR)</td>\n",
       "      <td>2ND QUARTER (APR-JUNE)</td>\n",
       "      <td>4TH QUARTER (OCT-DEC)</td>\n",
       "      <td>2ND QUARTER (APR-JUNE)</td>\n",
       "      <td>4TH QUARTER (OCT-DEC)</td>\n",
       "    </tr>\n",
       "  </tbody>\n",
       "</table>\n",
       "</div>"
      ],
      "text/plain": [
       "                 CONTINENT       LEAN QUARTER 2013      PEAK QUARTER 2013  \\\n",
       "0                   AFRICA  2ND QUARTER (APR-JUNE)  4TH QUARTER (OCT-DEC)   \n",
       "1              AUSTRALASIA  2ND QUARTER (APR-JUNE)  4TH QUARTER (OCT-DEC)   \n",
       "2  CENTRAL & SOUTH AMERICA  2ND QUARTER (APR-JUNE)  1ST QUARTER (JAN-MAR)   \n",
       "3                EAST ASIA  2ND QUARTER (APR-JUNE)  1ST QUARTER (JAN-MAR)   \n",
       "4           EASTERN EUROPE  2ND QUARTER (APR-JUNE)  1ST QUARTER (JAN-MAR)   \n",
       "\n",
       "        LEAN QUARTER 2014      PEAK QUARTER 2014       LEAN QUARTER 2016  \\\n",
       "0  2ND QUARTER (APR-JUNE)  4TH QUARTER (OCT-DEC)  2ND QUARTER (APR-JUNE)   \n",
       "1  2ND QUARTER (APR-JUNE)  4TH QUARTER (OCT-DEC)  2ND QUARTER (APR-JUNE)   \n",
       "2  3RD QUARTER (JULY-SEP)  1ST QUARTER (JAN-MAR)  2ND QUARTER (APR-JUNE)   \n",
       "3  2ND QUARTER (APR-JUNE)  1ST QUARTER (JAN-MAR)  2ND QUARTER (APR-JUNE)   \n",
       "4  3RD QUARTER (JULY-SEP)  1ST QUARTER (JAN-MAR)  3RD QUARTER (JULY-SEP)   \n",
       "\n",
       "       PEAK QUARTER 2016       LEAN QUARTER 2017      PEAK QUARTER 2017  \\\n",
       "0  4TH QUARTER (OCT-DEC)  2ND QUARTER (APR-JUNE)  4TH QUARTER (OCT-DEC)   \n",
       "1  4TH QUARTER (OCT-DEC)  2ND QUARTER (APR-JUNE)  4TH QUARTER (OCT-DEC)   \n",
       "2  1ST QUARTER (JAN-MAR)  2ND QUARTER (APR-JUNE)  1ST QUARTER (JAN-MAR)   \n",
       "3  1ST QUARTER (JAN-MAR)  2ND QUARTER (APR-JUNE)  1ST QUARTER (JAN-MAR)   \n",
       "4  1ST QUARTER (JAN-MAR)  3RD QUARTER (JULY-SEP)  1ST QUARTER (JAN-MAR)   \n",
       "\n",
       "        LEAN QUARTER 2018      PEAK QUARTER 2018       LEAN QUARTER 2019  \\\n",
       "0  2ND QUARTER (APR-JUNE)  4TH QUARTER (OCT-DEC)  2ND QUARTER (APR-JUNE)   \n",
       "1  2ND QUARTER (APR-JUNE)  4TH QUARTER (OCT-DEC)  3RD QUARTER (JULY-SEP)   \n",
       "2  2ND QUARTER (APR-JUNE)  1ST QUARTER (JAN-MAR)  3RD QUARTER (JULY-SEP)   \n",
       "3  2ND QUARTER (APR-JUNE)  1ST QUARTER (JAN-MAR)  2ND QUARTER (APR-JUNE)   \n",
       "4  3RD QUARTER (JULY-SEP)  1ST QUARTER (JAN-MAR)  2ND QUARTER (APR-JUNE)   \n",
       "\n",
       "       PEAK QUARTER 2019       LEAN QUARTER 2020      PEAK QUARTER 2020  \\\n",
       "0  4TH QUARTER (OCT-DEC)  2ND QUARTER (APR-JUNE)  1ST QUARTER (JAN-MAR)   \n",
       "1  4TH QUARTER (OCT-DEC)  2ND QUARTER (APR-JUNE)  1ST QUARTER (JAN-MAR)   \n",
       "2  1ST QUARTER (JAN-MAR)  2ND QUARTER (APR-JUNE)  1ST QUARTER (JAN-MAR)   \n",
       "3  1ST QUARTER (JAN-MAR)  2ND QUARTER (APR-JUNE)  1ST QUARTER (JAN-MAR)   \n",
       "4  1ST QUARTER (JAN-MAR)  2ND QUARTER (APR-JUNE)  1ST QUARTER (JAN-MAR)   \n",
       "\n",
       "        LEAN QUARTER 2021      PEAK QUARTER 2021       LEAN QUARTER 2022  \\\n",
       "0  2ND QUARTER (APR-JUNE)  4TH QUARTER (OCT-DEC)   1ST QUARTER (JAN-MAR)   \n",
       "1  2ND QUARTER (APR-JUNE)  4TH QUARTER (OCT-DEC)   1ST QUARTER (JAN-MAR)   \n",
       "2  2ND QUARTER (APR-JUNE)  4TH QUARTER (OCT-DEC)   1ST QUARTER (JAN-MAR)   \n",
       "3  2ND QUARTER (APR-JUNE)  4TH QUARTER (OCT-DEC)   1ST QUARTER (JAN-MAR)   \n",
       "4  2ND QUARTER (APR-JUNE)  4TH QUARTER (OCT-DEC)  2ND QUARTER (APR-JUNE)   \n",
       "\n",
       "       PEAK QUARTER 2022  \n",
       "0  4TH QUARTER (OCT-DEC)  \n",
       "1  4TH QUARTER (OCT-DEC)  \n",
       "2  4TH QUARTER (OCT-DEC)  \n",
       "3  4TH QUARTER (OCT-DEC)  \n",
       "4  4TH QUARTER (OCT-DEC)  "
      ]
     },
     "execution_count": 30,
     "metadata": {},
     "output_type": "execute_result"
    }
   ],
   "source": [
    "continent_quarter.head()"
   ]
  },
  {
   "cell_type": "code",
   "execution_count": 31,
   "metadata": {},
   "outputs": [
    {
     "data": {
      "text/html": [
       "<div>\n",
       "<style scoped>\n",
       "    .dataframe tbody tr th:only-of-type {\n",
       "        vertical-align: middle;\n",
       "    }\n",
       "\n",
       "    .dataframe tbody tr th {\n",
       "        vertical-align: top;\n",
       "    }\n",
       "\n",
       "    .dataframe thead th {\n",
       "        text-align: right;\n",
       "    }\n",
       "</style>\n",
       "<table border=\"1\" class=\"dataframe\">\n",
       "  <thead>\n",
       "    <tr style=\"text-align: right;\">\n",
       "      <th></th>\n",
       "      <th>COUNTRY OF NATIONALITY</th>\n",
       "      <th>LEAN QUARTER 2013</th>\n",
       "      <th>PEAK QUARTER 2013</th>\n",
       "      <th>LEAN QUARTER 2014</th>\n",
       "      <th>PEAK QUARTER 2014</th>\n",
       "      <th>LEAN QUARTER 2016</th>\n",
       "      <th>PEAK QUARTER 2016</th>\n",
       "      <th>LEAN QUARTER 2017</th>\n",
       "      <th>PEAK QUARTER 2017</th>\n",
       "      <th>LEAN QUARTER 2018</th>\n",
       "      <th>PEAK QUARTER 2018</th>\n",
       "      <th>LEAN QUARTER 2019</th>\n",
       "      <th>PEAK QUARTER 2019</th>\n",
       "      <th>LEAN QUARTER 2020</th>\n",
       "      <th>PEAK QUARTER 2020</th>\n",
       "      <th>LEAN QUARTER 2021</th>\n",
       "      <th>PEAK QUARTER 2021</th>\n",
       "      <th>LEAN QUARTER 2022</th>\n",
       "      <th>PEAK QUARTER 2022</th>\n",
       "    </tr>\n",
       "  </thead>\n",
       "  <tbody>\n",
       "    <tr>\n",
       "      <th>0</th>\n",
       "      <td>AFGHANISTAN</td>\n",
       "      <td>2ND QUARTER (APR-JUNE)</td>\n",
       "      <td>1ST QUARTER (JAN-MAR)</td>\n",
       "      <td>3RD QUARTER (JULY-SEP)</td>\n",
       "      <td>1ST QUARTER (JAN-MAR)</td>\n",
       "      <td>2ND QUARTER (APR-JUNE)</td>\n",
       "      <td>1ST QUARTER (JAN-MAR)</td>\n",
       "      <td>2ND QUARTER (APR-JUNE)</td>\n",
       "      <td>1ST QUARTER (JAN-MAR)</td>\n",
       "      <td>2ND QUARTER (APR-JUNE)</td>\n",
       "      <td>1ST QUARTER (JAN-MAR)</td>\n",
       "      <td>2ND QUARTER (APR-JUNE)</td>\n",
       "      <td>1ST QUARTER (JAN-MAR)</td>\n",
       "      <td>2ND QUARTER (APR-JUNE)</td>\n",
       "      <td>1ST QUARTER (JAN-MAR)</td>\n",
       "      <td>4TH QUARTER (OCT-DEC)</td>\n",
       "      <td>1ST QUARTER (JAN-MAR)</td>\n",
       "      <td>1ST QUARTER (JAN-MAR)</td>\n",
       "      <td>2ND QUARTER (APR-JUNE)</td>\n",
       "    </tr>\n",
       "    <tr>\n",
       "      <th>1</th>\n",
       "      <td>ARGENTINA</td>\n",
       "      <td>3RD QUARTER (JULY-SEP)</td>\n",
       "      <td>1ST QUARTER (JAN-MAR)</td>\n",
       "      <td>3RD QUARTER (JULY-SEP)</td>\n",
       "      <td>1ST QUARTER (JAN-MAR)</td>\n",
       "      <td>2ND QUARTER (APR-JUNE)</td>\n",
       "      <td>1ST QUARTER (JAN-MAR)</td>\n",
       "      <td>2ND QUARTER (APR-JUNE)</td>\n",
       "      <td>1ST QUARTER (JAN-MAR)</td>\n",
       "      <td>3RD QUARTER (JULY-SEP)</td>\n",
       "      <td>1ST QUARTER (JAN-MAR)</td>\n",
       "      <td>3RD QUARTER (JULY-SEP)</td>\n",
       "      <td>1ST QUARTER (JAN-MAR)</td>\n",
       "      <td>2ND QUARTER (APR-JUNE)</td>\n",
       "      <td>1ST QUARTER (JAN-MAR)</td>\n",
       "      <td>2ND QUARTER (APR-JUNE)</td>\n",
       "      <td>4TH QUARTER (OCT-DEC)</td>\n",
       "      <td>1ST QUARTER (JAN-MAR)</td>\n",
       "      <td>4TH QUARTER (OCT-DEC)</td>\n",
       "    </tr>\n",
       "    <tr>\n",
       "      <th>2</th>\n",
       "      <td>AUSTRALIA</td>\n",
       "      <td>2ND QUARTER (APR-JUNE)</td>\n",
       "      <td>4TH QUARTER (OCT-DEC)</td>\n",
       "      <td>2ND QUARTER (APR-JUNE)</td>\n",
       "      <td>4TH QUARTER (OCT-DEC)</td>\n",
       "      <td>2ND QUARTER (APR-JUNE)</td>\n",
       "      <td>4TH QUARTER (OCT-DEC)</td>\n",
       "      <td>2ND QUARTER (APR-JUNE)</td>\n",
       "      <td>4TH QUARTER (OCT-DEC)</td>\n",
       "      <td>2ND QUARTER (APR-JUNE)</td>\n",
       "      <td>4TH QUARTER (OCT-DEC)</td>\n",
       "      <td>3RD QUARTER (JULY-SEP)</td>\n",
       "      <td>4TH QUARTER (OCT-DEC)</td>\n",
       "      <td>2ND QUARTER (APR-JUNE)</td>\n",
       "      <td>1ST QUARTER (JAN-MAR)</td>\n",
       "      <td>2ND QUARTER (APR-JUNE)</td>\n",
       "      <td>4TH QUARTER (OCT-DEC)</td>\n",
       "      <td>1ST QUARTER (JAN-MAR)</td>\n",
       "      <td>4TH QUARTER (OCT-DEC)</td>\n",
       "    </tr>\n",
       "    <tr>\n",
       "      <th>3</th>\n",
       "      <td>AUSTRIA</td>\n",
       "      <td>2ND QUARTER (APR-JUNE)</td>\n",
       "      <td>1ST QUARTER (JAN-MAR)</td>\n",
       "      <td>2ND QUARTER (APR-JUNE)</td>\n",
       "      <td>1ST QUARTER (JAN-MAR)</td>\n",
       "      <td>2ND QUARTER (APR-JUNE)</td>\n",
       "      <td>1ST QUARTER (JAN-MAR)</td>\n",
       "      <td>2ND QUARTER (APR-JUNE)</td>\n",
       "      <td>1ST QUARTER (JAN-MAR)</td>\n",
       "      <td>2ND QUARTER (APR-JUNE)</td>\n",
       "      <td>1ST QUARTER (JAN-MAR)</td>\n",
       "      <td>2ND QUARTER (APR-JUNE)</td>\n",
       "      <td>1ST QUARTER (JAN-MAR)</td>\n",
       "      <td>2ND QUARTER (APR-JUNE)</td>\n",
       "      <td>1ST QUARTER (JAN-MAR)</td>\n",
       "      <td>2ND QUARTER (APR-JUNE)</td>\n",
       "      <td>4TH QUARTER (OCT-DEC)</td>\n",
       "      <td>1ST QUARTER (JAN-MAR)</td>\n",
       "      <td>4TH QUARTER (OCT-DEC)</td>\n",
       "    </tr>\n",
       "    <tr>\n",
       "      <th>4</th>\n",
       "      <td>BAHRAIN</td>\n",
       "      <td>2ND QUARTER (APR-JUNE)</td>\n",
       "      <td>3RD QUARTER (JULY-SEP)</td>\n",
       "      <td>2ND QUARTER (APR-JUNE)</td>\n",
       "      <td>3RD QUARTER (JULY-SEP)</td>\n",
       "      <td>2ND QUARTER (APR-JUNE)</td>\n",
       "      <td>3RD QUARTER (JULY-SEP)</td>\n",
       "      <td>2ND QUARTER (APR-JUNE)</td>\n",
       "      <td>3RD QUARTER (JULY-SEP)</td>\n",
       "      <td>4TH QUARTER (OCT-DEC)</td>\n",
       "      <td>3RD QUARTER (JULY-SEP)</td>\n",
       "      <td>1ST QUARTER (JAN-MAR)</td>\n",
       "      <td>3RD QUARTER (JULY-SEP)</td>\n",
       "      <td>2ND QUARTER (APR-JUNE)</td>\n",
       "      <td>1ST QUARTER (JAN-MAR)</td>\n",
       "      <td>2ND QUARTER (APR-JUNE)</td>\n",
       "      <td>4TH QUARTER (OCT-DEC)</td>\n",
       "      <td>1ST QUARTER (JAN-MAR)</td>\n",
       "      <td>4TH QUARTER (OCT-DEC)</td>\n",
       "    </tr>\n",
       "  </tbody>\n",
       "</table>\n",
       "</div>"
      ],
      "text/plain": [
       "  COUNTRY OF NATIONALITY       LEAN QUARTER 2013       PEAK QUARTER 2013  \\\n",
       "0            AFGHANISTAN  2ND QUARTER (APR-JUNE)   1ST QUARTER (JAN-MAR)   \n",
       "1              ARGENTINA  3RD QUARTER (JULY-SEP)   1ST QUARTER (JAN-MAR)   \n",
       "2              AUSTRALIA  2ND QUARTER (APR-JUNE)   4TH QUARTER (OCT-DEC)   \n",
       "3                AUSTRIA  2ND QUARTER (APR-JUNE)   1ST QUARTER (JAN-MAR)   \n",
       "4                BAHRAIN  2ND QUARTER (APR-JUNE)  3RD QUARTER (JULY-SEP)   \n",
       "\n",
       "        LEAN QUARTER 2014       PEAK QUARTER 2014       LEAN QUARTER 2016  \\\n",
       "0  3RD QUARTER (JULY-SEP)   1ST QUARTER (JAN-MAR)  2ND QUARTER (APR-JUNE)   \n",
       "1  3RD QUARTER (JULY-SEP)   1ST QUARTER (JAN-MAR)  2ND QUARTER (APR-JUNE)   \n",
       "2  2ND QUARTER (APR-JUNE)   4TH QUARTER (OCT-DEC)  2ND QUARTER (APR-JUNE)   \n",
       "3  2ND QUARTER (APR-JUNE)   1ST QUARTER (JAN-MAR)  2ND QUARTER (APR-JUNE)   \n",
       "4  2ND QUARTER (APR-JUNE)  3RD QUARTER (JULY-SEP)  2ND QUARTER (APR-JUNE)   \n",
       "\n",
       "        PEAK QUARTER 2016       LEAN QUARTER 2017       PEAK QUARTER 2017  \\\n",
       "0   1ST QUARTER (JAN-MAR)  2ND QUARTER (APR-JUNE)   1ST QUARTER (JAN-MAR)   \n",
       "1   1ST QUARTER (JAN-MAR)  2ND QUARTER (APR-JUNE)   1ST QUARTER (JAN-MAR)   \n",
       "2   4TH QUARTER (OCT-DEC)  2ND QUARTER (APR-JUNE)   4TH QUARTER (OCT-DEC)   \n",
       "3   1ST QUARTER (JAN-MAR)  2ND QUARTER (APR-JUNE)   1ST QUARTER (JAN-MAR)   \n",
       "4  3RD QUARTER (JULY-SEP)  2ND QUARTER (APR-JUNE)  3RD QUARTER (JULY-SEP)   \n",
       "\n",
       "        LEAN QUARTER 2018       PEAK QUARTER 2018       LEAN QUARTER 2019  \\\n",
       "0  2ND QUARTER (APR-JUNE)   1ST QUARTER (JAN-MAR)  2ND QUARTER (APR-JUNE)   \n",
       "1  3RD QUARTER (JULY-SEP)   1ST QUARTER (JAN-MAR)  3RD QUARTER (JULY-SEP)   \n",
       "2  2ND QUARTER (APR-JUNE)   4TH QUARTER (OCT-DEC)  3RD QUARTER (JULY-SEP)   \n",
       "3  2ND QUARTER (APR-JUNE)   1ST QUARTER (JAN-MAR)  2ND QUARTER (APR-JUNE)   \n",
       "4   4TH QUARTER (OCT-DEC)  3RD QUARTER (JULY-SEP)   1ST QUARTER (JAN-MAR)   \n",
       "\n",
       "        PEAK QUARTER 2019       LEAN QUARTER 2020      PEAK QUARTER 2020  \\\n",
       "0   1ST QUARTER (JAN-MAR)  2ND QUARTER (APR-JUNE)  1ST QUARTER (JAN-MAR)   \n",
       "1   1ST QUARTER (JAN-MAR)  2ND QUARTER (APR-JUNE)  1ST QUARTER (JAN-MAR)   \n",
       "2   4TH QUARTER (OCT-DEC)  2ND QUARTER (APR-JUNE)  1ST QUARTER (JAN-MAR)   \n",
       "3   1ST QUARTER (JAN-MAR)  2ND QUARTER (APR-JUNE)  1ST QUARTER (JAN-MAR)   \n",
       "4  3RD QUARTER (JULY-SEP)  2ND QUARTER (APR-JUNE)  1ST QUARTER (JAN-MAR)   \n",
       "\n",
       "        LEAN QUARTER 2021      PEAK QUARTER 2021      LEAN QUARTER 2022  \\\n",
       "0   4TH QUARTER (OCT-DEC)  1ST QUARTER (JAN-MAR)  1ST QUARTER (JAN-MAR)   \n",
       "1  2ND QUARTER (APR-JUNE)  4TH QUARTER (OCT-DEC)  1ST QUARTER (JAN-MAR)   \n",
       "2  2ND QUARTER (APR-JUNE)  4TH QUARTER (OCT-DEC)  1ST QUARTER (JAN-MAR)   \n",
       "3  2ND QUARTER (APR-JUNE)  4TH QUARTER (OCT-DEC)  1ST QUARTER (JAN-MAR)   \n",
       "4  2ND QUARTER (APR-JUNE)  4TH QUARTER (OCT-DEC)  1ST QUARTER (JAN-MAR)   \n",
       "\n",
       "        PEAK QUARTER 2022  \n",
       "0  2ND QUARTER (APR-JUNE)  \n",
       "1   4TH QUARTER (OCT-DEC)  \n",
       "2   4TH QUARTER (OCT-DEC)  \n",
       "3   4TH QUARTER (OCT-DEC)  \n",
       "4   4TH QUARTER (OCT-DEC)  "
      ]
     },
     "execution_count": 31,
     "metadata": {},
     "output_type": "execute_result"
    }
   ],
   "source": [
    "country_quarter.head()"
   ]
  },
  {
   "cell_type": "code",
   "execution_count": 32,
   "metadata": {},
   "outputs": [],
   "source": [
    "continent_quarter.to_csv(\"2_continentwise_Quarter_Data.csv\", index=False)\n",
    "country_quarter.to_csv(\"2_Countrywise_Quarter_Data.csv\", index=False)"
   ]
  }
 ],
 "metadata": {
  "kernelspec": {
   "display_name": ".venv",
   "language": "python",
   "name": "python3"
  },
  "language_info": {
   "codemirror_mode": {
    "name": "ipython",
    "version": 3
   },
   "file_extension": ".py",
   "mimetype": "text/x-python",
   "name": "python",
   "nbconvert_exporter": "python",
   "pygments_lexer": "ipython3",
   "version": "3.9.6"
  }
 },
 "nbformat": 4,
 "nbformat_minor": 2
}
